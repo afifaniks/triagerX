{
  "cells": [
    {
      "cell_type": "code",
      "source": [
        "from google.colab import drive\n",
        "drive.mount('/content/gdrive')\n"
      ],
      "metadata": {
        "id": "emMMsF-tnEFq"
      },
      "execution_count": null,
      "outputs": []
    },
    {
      "cell_type": "code",
      "source": [
        "!python3 -m pip install python-dotenv\n",
        "!python3 -m pip install wandb\n",
        "!pip install loguru\n"
      ],
      "metadata": {
        "id": "bKO_8txVpjw4"
      },
      "execution_count": 3,
      "outputs": []
    },
    {
      "cell_type": "code",
      "source": [
        "!wandb login e7c8c5e645594de1e62241483f608a2c4a485fd5\n"
      ],
      "metadata": {
        "id": "gM-HKtdc-z94"
      },
      "execution_count": null,
      "outputs": []
    },
    {
      "cell_type": "code",
      "execution_count": 5,
      "metadata": {
        "id": "XzMpvhQanBLs"
      },
      "outputs": [],
      "source": [
        "import numpy as np\n",
        "from sklearn.model_selection import train_test_split\n",
        "import torch.nn as nn\n",
        "from torch.optim import Adam\n",
        "from torch.utils.data.sampler import WeightedRandomSampler\n",
        "from torch.optim.lr_scheduler import ReduceLROnPlateau\n",
        "\n",
        "from imblearn.combine import SMOTETomek\n",
        "from imblearn.combine import SMOTEENN\n"
      ]
    },
    {
      "cell_type": "markdown",
      "source": [
        "# internal imports"
      ],
      "metadata": {
        "id": "trAvNuQlwKcq"
      }
    },
    {
      "cell_type": "code",
      "source": [
        "# from triagerx.dataset.processor import DatasetProcessor\n",
        "# from triagerx.model.roberta_cnn import RobertaCNNClassifier\n",
        "# from triagerx.model.roberta_fcn import RobertaFCNClassifier\n",
        "# from triagerx.trainer.train_config import TrainConfig\n",
        "# from triagerx.trainer.model_trainer import ModelTrainer\n",
        "# from triagerx.evaluation.evaluator import Evaluator\n",
        "# from triagerx.dataset.triage_dataset import TriageDataset"
      ],
      "metadata": {
        "id": "uO0CON62_UZs"
      },
      "execution_count": 11,
      "outputs": []
    },
    {
      "cell_type": "markdown",
      "source": [
        "## DatasetProcessor"
      ],
      "metadata": {
        "id": "FsCGurZG_eEq"
      }
    },
    {
      "cell_type": "code",
      "source": [
        "# from triagerx.dataset.processor import DatasetProcessor\n",
        "\n",
        "import pandas as pd\n",
        "from loguru import logger\n",
        "\n",
        "\n",
        "class DatasetProcessor:\n",
        "    @staticmethod\n",
        "    def load_dataframe(path: str) -> pd.DataFrame:\n",
        "        logger.debug(f\"Loading dataframe: {path}\")\n",
        "        return pd.read_csv(path)\n",
        "\n",
        "    @staticmethod\n",
        "    def clean_data(df: pd.DataFrame) -> pd.DataFrame:\n",
        "        logger.debug(\"Cleaning dataset...\")\n",
        "        df[\"text\"] = df[\"text\"].str.replace(\n",
        "            \"http[s]?://(?:[a-zA-Z]|[0-9]|[$-_@.&+]|[!*\\\\(\\\\),]|(?:%[0-9a-fA-F][0-9a-fA-F]))+\",\n",
        "            \" \",\n",
        "        )\n",
        "        df[\"text\"] = df[\"text\"].str.replace(\" +\", \" \", regex=True)\n",
        "\n",
        "        return df\n",
        "\n",
        "    @staticmethod\n",
        "    def prepare_dataframe(df: pd.DataFrame, sample_threshold: int = 0) -> pd.DataFrame:\n",
        "        logger.debug(\n",
        "            f\"Filtering developers based on minimum contribution: {sample_threshold}...\"\n",
        "        )\n",
        "        df = df[df[\"assignees\"].notna()]\n",
        "        developers = df[\"assignees\"].value_counts()\n",
        "        filtered_developers = developers.index[developers >= sample_threshold]\n",
        "        df = df[df[\"assignees\"].isin(filtered_developers)]\n",
        "\n",
        "        logger.debug(\"Generating 'text' field...\")\n",
        "        df[\"text\"] = df.apply(\n",
        "            lambda x: \"Title: \"\n",
        "            + str(x[\"issue_title\"])\n",
        "            + \"\\nLabels: \"\n",
        "            + str(x[\"labels\"])\n",
        "            + \"\\nDescription: \"\n",
        "            + str(x[\"issue_body\"]),\n",
        "            axis=1,\n",
        "        )\n",
        "\n",
        "        min_length = 15\n",
        "        logger.debug(f\"Dropping rows with 'text' length < {min_length}...\")\n",
        "        df = df[df[\"text\"].str.len().gt(min_length)]\n",
        "\n",
        "        df[\"owner_id\"] = pd.factorize(df[\"assignees\"])[0]\n",
        "\n",
        "        return df\n",
        "\n",
        "    @staticmethod\n",
        "    def process_dataset(path: str, sample_threshold: int = 0) -> pd.DataFrame:\n",
        "        df = DatasetProcessor.load_dataframe(path=path)\n",
        "        df = DatasetProcessor.prepare_dataframe(\n",
        "            df=df, sample_threshold=sample_threshold\n",
        "        )\n",
        "        df = DatasetProcessor.clean_data(df=df)\n",
        "\n",
        "        return df\n"
      ],
      "metadata": {
        "id": "gpoVIZguriXo"
      },
      "execution_count": 12,
      "outputs": []
    },
    {
      "cell_type": "markdown",
      "source": [
        "## RobertaCNNClassifier"
      ],
      "metadata": {
        "id": "6RYKpkKv_sNG"
      }
    },
    {
      "cell_type": "code",
      "source": [
        "# from triagerx.model.roberta_cnn import RobertaCNNClassifier\n",
        "\n",
        "import torch\n",
        "from torch import nn\n",
        "import torch.nn.functional as F\n",
        "from transformers import RobertaModel, RobertaTokenizer\n",
        "\n",
        "\n",
        "class RobertaCNNClassifier(nn.Module):\n",
        "    def __init__(\n",
        "        self, model_name: str, output_size, embed_size=1024, dropout=0.1\n",
        "    ) -> None:\n",
        "        super().__init__()\n",
        "        self.base_model = RobertaModel.from_pretrained(\n",
        "            model_name, output_hidden_states=True\n",
        "        )\n",
        "        filter_sizes = [3, 4, 5, 6]\n",
        "        num_filters = 256\n",
        "        self._tokenizer = RobertaTokenizer.from_pretrained(model_name)\n",
        "        self._convs = nn.ModuleList(\n",
        "            [nn.Conv2d(4, num_filters, (K, embed_size)) for K in filter_sizes]\n",
        "        )\n",
        "        self._dropout = nn.Dropout(dropout)\n",
        "        self._fc = nn.Linear(len(filter_sizes) * num_filters, output_size)\n",
        "        self._relu = nn.ReLU()\n",
        "\n",
        "    def forward(self, input_ids, attention_mask):\n",
        "        x = self.base_model(input_ids, attention_mask=attention_mask)[2][-4:]\n",
        "        x = torch.stack(x, dim=1)\n",
        "        x = [F.relu(conv(x)).squeeze(3) for conv in self._convs]\n",
        "        x = [F.max_pool1d(i, i.size(2)).squeeze(2) for i in x]\n",
        "        x = torch.cat(x, 1)\n",
        "        x = self._dropout(x)\n",
        "        logit = self._fc(x)\n",
        "\n",
        "        return logit\n",
        "\n",
        "    def tokenizer(self) -> RobertaTokenizer:\n",
        "        return self._tokenizer\n"
      ],
      "metadata": {
        "id": "N0eMlWy3r6BG"
      },
      "execution_count": 13,
      "outputs": []
    },
    {
      "cell_type": "markdown",
      "source": [
        "## RobertaFCNClassifier"
      ],
      "metadata": {
        "id": "st_r16KF_12v"
      }
    },
    {
      "cell_type": "code",
      "source": [
        "# from triagerx.model.roberta_fcn import RobertaFCNClassifier\n",
        "\n",
        "import torch.nn as nn\n",
        "from transformers import AutoModel, AutoTokenizer, PreTrainedTokenizer\n",
        "\n",
        "\n",
        "class RobertaFCNClassifier(nn.Module):\n",
        "    def __init__(\n",
        "        self,\n",
        "        model_name: str,\n",
        "        output_size,\n",
        "        embed_size=1024,\n",
        "        dropout=0.1\n",
        "    ) -> None:\n",
        "        super().__init__()\n",
        "        self.base = AutoModel.from_pretrained(model_name)\n",
        "        self._tokenizer = AutoTokenizer.from_pretrained(model_name)\n",
        "        self.linear = nn.Linear(embed_size, embed_size // 2)\n",
        "        self.linear2 = nn.Linear(embed_size // 2, output_size)\n",
        "        self.dropout = nn.Dropout(dropout)\n",
        "        self.dropout2 = nn.Dropout(dropout)\n",
        "        self.relu = nn.ReLU()\n",
        "        self.relu2 = nn.ReLU()\n",
        "\n",
        "    def forward(self, input_id, attention_mask):\n",
        "        _, pooler_out = self.base(\n",
        "            input_ids=input_id, attention_mask=attention_mask, return_dict=False\n",
        "        )\n",
        "        pooler_out = self.relu(pooler_out)\n",
        "        drop_out = self.dropout(pooler_out)\n",
        "        linear_out = self.linear(drop_out)\n",
        "        linear_out = self.relu(linear_out)\n",
        "        drop_out = self.dropout2(linear_out)\n",
        "        linear_out = self.linear2(drop_out)\n",
        "\n",
        "        return linear_out\n",
        "\n",
        "    def tokenizer(self) -> PreTrainedTokenizer:\n",
        "        return self._tokenizer"
      ],
      "metadata": {
        "id": "IgqH8-Asr6q7"
      },
      "execution_count": 14,
      "outputs": []
    },
    {
      "cell_type": "markdown",
      "source": [
        "## TrainConfig"
      ],
      "metadata": {
        "id": "qArzW_ge_8hf"
      }
    },
    {
      "cell_type": "code",
      "source": [
        "# from triagerx.trainer.train_config import TrainConfig\n",
        "\n",
        "from typing import Any, Dict, Optional\n",
        "\n",
        "import pandas as pd\n",
        "from pydantic import BaseModel\n",
        "from torch import nn\n",
        "from torch.optim import Optimizer\n",
        "from torch.utils.data.sampler import Sampler\n",
        "\n",
        "\n",
        "class TrainConfig(BaseModel):\n",
        "    optimizer: Optimizer\n",
        "    criterion: nn.Module\n",
        "    train_dataset: pd.DataFrame\n",
        "    validation_dataset: pd.DataFrame\n",
        "    learning_rate: float\n",
        "    batch_size: int\n",
        "    epochs: int\n",
        "    output_file: str\n",
        "    scheduler: Optional[Any] = None\n",
        "    sampler: Optional[Sampler] = None\n",
        "    wandb: Optional[Dict] = None\n",
        "\n",
        "    class Config:\n",
        "        arbitrary_types_allowed = True\n"
      ],
      "metadata": {
        "id": "JfsqsR8ZrnI8"
      },
      "execution_count": 15,
      "outputs": []
    },
    {
      "cell_type": "markdown",
      "source": [
        "## ModelTrainer"
      ],
      "metadata": {
        "id": "29HIHABYBRkT"
      }
    },
    {
      "cell_type": "code",
      "source": [
        "# from triagerx.trainer.model_trainer import ModelTrainer\n",
        "\n",
        "import numpy as np\n",
        "import torch\n",
        "from loguru import logger\n",
        "from sklearn.metrics import precision_recall_fscore_support\n",
        "from torch import nn\n",
        "from torch.utils.data import DataLoader\n",
        "from tqdm import tqdm\n",
        "\n",
        "import wandb\n",
        "# from triagerx.dataset.triage_dataset import TriageDataset\n",
        "# from triagerx.trainer.train_config import TrainConfig\n",
        "\n",
        "\n",
        "class ModelTrainer:\n",
        "    def __init__(self, config: TrainConfig):\n",
        "        self._config = config\n",
        "\n",
        "    def _init_wandb(self):\n",
        "        wandb.init(**self._config.wandb)\n",
        "\n",
        "    def train(self, model: nn.Module):\n",
        "        tokenizer = model.tokenizer()\n",
        "        criterion = self._config.criterion\n",
        "        optimizer = self._config.optimizer\n",
        "        train_data = self._config.train_dataset\n",
        "        validation_data = self._config.validation_dataset\n",
        "        sampler = self._config.sampler\n",
        "\n",
        "        train = TriageDataset(train_data, tokenizer)\n",
        "        val = TriageDataset(validation_data, tokenizer)\n",
        "\n",
        "        if self._config.wandb:\n",
        "            logger.debug(\"Initializing wandb...\")\n",
        "            self._init_wandb()\n",
        "\n",
        "        train_dataloader = DataLoader(\n",
        "            dataset=train,\n",
        "            batch_size=self._config.batch_size,\n",
        "            shuffle=False if sampler else True,\n",
        "            sampler=sampler,\n",
        "        )\n",
        "        val_dataloader = DataLoader(val, batch_size=self._config.batch_size)\n",
        "\n",
        "        device = torch.device(\"cuda\" if torch.cuda.is_available() else \"cpu\")\n",
        "        best_loss = float(\"inf\")\n",
        "\n",
        "        if torch.cuda.is_available():\n",
        "            logger.debug(f\"Selected compute device: {device}\")\n",
        "            model = model.cuda()\n",
        "            criterion = criterion.cuda()\n",
        "\n",
        "        for epoch_num in range(self._config.epochs):\n",
        "            total_acc_train = 0\n",
        "            total_loss_train = 0\n",
        "\n",
        "            for train_input, train_label in tqdm(train_dataloader):\n",
        "                train_label = train_label.to(device)\n",
        "                mask = train_input[\"attention_mask\"].to(device)\n",
        "                input_id = train_input[\"input_ids\"].squeeze(1).to(device)\n",
        "\n",
        "                output = model(input_id, mask)\n",
        "\n",
        "                batch_loss = criterion(output, train_label.long())\n",
        "                total_loss_train += batch_loss.item()\n",
        "\n",
        "                acc = (output.argmax(dim=1) == train_label).sum().item()\n",
        "                total_acc_train += acc\n",
        "\n",
        "                model.zero_grad()\n",
        "                batch_loss.backward()\n",
        "                optimizer.step()\n",
        "\n",
        "            total_acc_val = 0\n",
        "            total_loss_val = 0\n",
        "\n",
        "            all_preds = []\n",
        "            all_labels = []\n",
        "\n",
        "            with torch.no_grad():\n",
        "\n",
        "                for val_input, val_label in val_dataloader:\n",
        "                    val_label = val_label.to(device)\n",
        "                    mask = val_input[\"attention_mask\"].to(device)\n",
        "                    input_id = val_input[\"input_ids\"].squeeze(1).to(device)\n",
        "\n",
        "                    output = model(input_id, mask)\n",
        "\n",
        "                    batch_loss = criterion(output, val_label.long())\n",
        "                    total_loss_val += batch_loss.item()\n",
        "\n",
        "                    acc = (output.argmax(dim=1) == val_label).sum().item()\n",
        "\n",
        "                    all_preds.append(output.argmax(dim=1).cpu().numpy())\n",
        "                    all_labels.append(val_label.cpu().numpy())\n",
        "\n",
        "                    total_acc_val += acc\n",
        "\n",
        "            all_preds = np.concatenate(all_preds)\n",
        "            all_labels = np.concatenate(all_labels)\n",
        "\n",
        "            precision, recall, f1_score, _ = precision_recall_fscore_support(\n",
        "                all_preds, all_labels, average=\"macro\"\n",
        "            )\n",
        "\n",
        "            self._log_step(\n",
        "                epoch_num,\n",
        "                total_acc_train,\n",
        "                total_acc_val,\n",
        "                total_loss_train,\n",
        "                total_loss_val,\n",
        "                precision,\n",
        "                recall,\n",
        "                f1_score,\n",
        "                train_data,\n",
        "                validation_data,\n",
        "            )\n",
        "\n",
        "            val_loss = total_loss_val / len(validation_data)\n",
        "\n",
        "            if self._config.scheduler:\n",
        "                self._config.scheduler.step(val_loss)\n",
        "\n",
        "            if val_loss < best_loss:\n",
        "                logger.success(\"Found new best model. Saving weights...\")\n",
        "                torch.save(model.state_dict(), self._config.output_file)\n",
        "                best_loss = val_loss\n",
        "\n",
        "        if self._config.wandb:\n",
        "            wandb.finish()\n",
        "\n",
        "    def _log_step(\n",
        "        self,\n",
        "        epoch_num,\n",
        "        total_acc_train,\n",
        "        total_acc_val,\n",
        "        total_loss_train,\n",
        "        total_loss_val,\n",
        "        precision,\n",
        "        recall,\n",
        "        f1_score,\n",
        "        train_data,\n",
        "        validation_data,\n",
        "    ):\n",
        "        log = f\"Epochs: {epoch_num + 1} | Train Loss: {total_loss_train / len(train_data): .3f} \\\n",
        "                    | Train Accuracy: {total_acc_train / len(train_data): .3f} \\\n",
        "                    | Val Loss: {total_loss_val / len(validation_data): .3f} \\\n",
        "                    | Val Accuracy: {total_acc_val / len(validation_data): .3f} \\\n",
        "                    | Precision: {precision: .3f} \\\n",
        "                    | Recall: {recall: .3f} \\\n",
        "                    | F1-score: {f1_score: .3f}\"\n",
        "\n",
        "        logger.info(log)\n",
        "\n",
        "        if self._config.wandb:\n",
        "            wandb.log(\n",
        "                {\n",
        "                    \"train_acc\": total_acc_train / len(train_data),\n",
        "                    \"train_loss\": total_loss_train / len(train_data),\n",
        "                    \"val_acc\": total_acc_val / len(validation_data),\n",
        "                    \"val_loss\": total_loss_val / len(validation_data),\n",
        "                    \"precision\": precision,\n",
        "                    \"recall\": recall,\n",
        "                    \"f1-score\": f1_score,\n",
        "                }\n",
        "            )\n"
      ],
      "metadata": {
        "id": "NRUP5geBsAbc"
      },
      "execution_count": 16,
      "outputs": []
    },
    {
      "cell_type": "markdown",
      "source": [
        "## Evaluator"
      ],
      "metadata": {
        "id": "rR_bTR4wBfYu"
      }
    },
    {
      "cell_type": "code",
      "source": [
        "# from triagerx.evaluation.evaluator import Evaluator\n",
        "\n",
        "import numpy as np\n",
        "import pandas as pd\n",
        "import torch\n",
        "import torch.nn as nn\n",
        "from loguru import logger\n",
        "from sklearn.metrics import top_k_accuracy_score\n",
        "\n",
        "\n",
        "class Evaluator:\n",
        "    def calculate_top_k_accuray(\n",
        "        self, model: nn.Module, k: int, X_test: pd.DataFrame, y_test: np.array\n",
        "    ):\n",
        "        has_cuda = torch.cuda.is_available()\n",
        "\n",
        "        if has_cuda:\n",
        "            model = model.cuda()\n",
        "\n",
        "        tokenizer = model.tokenizer()\n",
        "\n",
        "        y_preds = []\n",
        "\n",
        "        logger.debug(\"Calculating predications...\")\n",
        "        for i in range(len(X_test)):\n",
        "            dx = X_test.iloc[i]\n",
        "\n",
        "            data = tokenizer(\n",
        "                dx[\"text\"], padding=\"max_length\", max_length=512, truncation=True\n",
        "            )\n",
        "            ids, mask = data[\"input_ids\"], data[\"attention_mask\"]\n",
        "\n",
        "            ids = torch.tensor([ids])\n",
        "            mask = torch.tensor([mask])\n",
        "\n",
        "            if has_cuda:\n",
        "                ids = ids.cuda()\n",
        "                mask = mask.cuda()\n",
        "\n",
        "            softmax = nn.Softmax(dim=1)\n",
        "\n",
        "            with torch.no_grad():\n",
        "                y_pred = softmax(model(ids, mask))\n",
        "\n",
        "            y_preds.append(y_pred)\n",
        "\n",
        "        y_numpy = []\n",
        "\n",
        "        for y in y_preds:\n",
        "            y_numpy.append(y.cpu().numpy())\n",
        "\n",
        "        y_preds = np.array(y_numpy)[:, 0, :]\n",
        "\n",
        "        logger.debug(f\"Calculating top {k} score...\")\n",
        "\n",
        "        score = top_k_accuracy_score(y_test, y_preds, k=k)\n",
        "        logger.info(f\"Top {k} score: {score}\")\n",
        "\n",
        "        return score\n"
      ],
      "metadata": {
        "id": "VYqZuiGRBh4F"
      },
      "execution_count": 17,
      "outputs": []
    },
    {
      "cell_type": "markdown",
      "source": [
        "## TriageDataset"
      ],
      "metadata": {
        "id": "EGXcduId_mcp"
      }
    },
    {
      "cell_type": "code",
      "source": [
        "# from triagerx.dataset.triage_dataset import TriageDataset\n",
        "\n",
        "import pandas as pd\n",
        "import numpy as np\n",
        "from loguru import logger\n",
        "from torch.utils.data import Dataset\n",
        "\n",
        "from transformers import PreTrainedTokenizer\n",
        "\n",
        "\n",
        "class TriageDataset(Dataset):\n",
        "    def __init__(\n",
        "        self,\n",
        "        df: pd.DataFrame,\n",
        "        tokenizer: PreTrainedTokenizer,\n",
        "        feature: str = \"text\",\n",
        "        target: str = \"owner_id\",\n",
        "    ):\n",
        "        logger.debug(\"Generating torch dataset...\")\n",
        "        self.tokenizer = tokenizer\n",
        "        self.labels = [label for label in df[target]]\n",
        "        logger.debug(\"Tokenizing texts...\")\n",
        "        self.texts = [\n",
        "            self.tokenizer(\n",
        "                text,\n",
        "                padding=\"max_length\",\n",
        "                max_length=512,\n",
        "                truncation=True,\n",
        "                return_tensors=\"pt\",\n",
        "            )\n",
        "            for text in df[feature]\n",
        "        ]\n",
        "\n",
        "    def classes(self):\n",
        "        return self.labels\n",
        "\n",
        "    def __len__(self):\n",
        "        return len(self.labels)\n",
        "\n",
        "    def get_batch_labels(self, idx):\n",
        "        # Fetch a batch of labels\n",
        "        return np.array(self.labels[idx])\n",
        "\n",
        "    def get_batch_texts(self, idx):\n",
        "        # Fetch a batch of inputs\n",
        "        return self.texts[idx]\n",
        "\n",
        "    def __getitem__(self, idx):\n",
        "\n",
        "        batch_texts = self.get_batch_texts(idx)\n",
        "        batch_y = self.get_batch_labels(idx)\n",
        "\n",
        "        return batch_texts, batch_y\n"
      ],
      "metadata": {
        "id": "iV6uqATXsoY1"
      },
      "execution_count": 18,
      "outputs": []
    },
    {
      "cell_type": "markdown",
      "metadata": {
        "id": "lc8RNv0CnBLw"
      },
      "source": [
        "# Load Data"
      ]
    },
    {
      "cell_type": "code",
      "execution_count": 19,
      "metadata": {
        "id": "wBaBV-RZnBLy"
      },
      "outputs": [],
      "source": [
        "dataset_path = \"/content/gdrive/MyDrive/TriagerX/data/openj9/merged_data_dated.csv\"\n"
      ]
    },
    {
      "cell_type": "code",
      "execution_count": 20,
      "metadata": {
        "id": "G-Bc0yn4nBLz",
        "outputId": "443b13b7-6aaf-4cd1-e8e5-bb6baa34f9cc",
        "colab": {
          "base_uri": "https://localhost:8080/"
        }
      },
      "outputs": [
        {
          "output_type": "stream",
          "name": "stderr",
          "text": [
            "\u001b[32m2024-01-27 17:46:46.246\u001b[0m | \u001b[34m\u001b[1mDEBUG   \u001b[0m | \u001b[36m__main__\u001b[0m:\u001b[36mload_dataframe\u001b[0m:\u001b[36m10\u001b[0m - \u001b[34m\u001b[1mLoading dataframe: /content/gdrive/MyDrive/TriagerX/data/openj9/merged_data_dated.csv\u001b[0m\n",
            "\u001b[32m2024-01-27 17:46:50.693\u001b[0m | \u001b[34m\u001b[1mDEBUG   \u001b[0m | \u001b[36m__main__\u001b[0m:\u001b[36mprepare_dataframe\u001b[0m:\u001b[36m26\u001b[0m - \u001b[34m\u001b[1mFiltering developers based on minimum contribution: 5...\u001b[0m\n",
            "\u001b[32m2024-01-27 17:46:50.711\u001b[0m | \u001b[34m\u001b[1mDEBUG   \u001b[0m | \u001b[36m__main__\u001b[0m:\u001b[36mprepare_dataframe\u001b[0m:\u001b[36m34\u001b[0m - \u001b[34m\u001b[1mGenerating 'text' field...\u001b[0m\n",
            "\u001b[32m2024-01-27 17:46:50.776\u001b[0m | \u001b[34m\u001b[1mDEBUG   \u001b[0m | \u001b[36m__main__\u001b[0m:\u001b[36mprepare_dataframe\u001b[0m:\u001b[36m46\u001b[0m - \u001b[34m\u001b[1mDropping rows with 'text' length < 15...\u001b[0m\n",
            "\u001b[32m2024-01-27 17:46:50.788\u001b[0m | \u001b[34m\u001b[1mDEBUG   \u001b[0m | \u001b[36m__main__\u001b[0m:\u001b[36mclean_data\u001b[0m:\u001b[36m15\u001b[0m - \u001b[34m\u001b[1mCleaning dataset...\u001b[0m\n",
            "<ipython-input-12-87187b0a2771>:16: FutureWarning: The default value of regex will change from True to False in a future version.\n",
            "  df[\"text\"] = df[\"text\"].str.replace(\n"
          ]
        }
      ],
      "source": [
        "sample_threshold = 5\n",
        "\n",
        "df = DatasetProcessor.process_dataset(dataset_path, sample_threshold=sample_threshold)\n"
      ]
    },
    {
      "cell_type": "code",
      "execution_count": 21,
      "metadata": {
        "id": "iTR5BAT7nBL1",
        "outputId": "205e6a77-888e-46f4-9719-89607e16675b",
        "colab": {
          "base_uri": "https://localhost:8080/",
          "height": 597
        }
      },
      "outputs": [
        {
          "output_type": "execute_result",
          "data": {
            "text/plain": [
              "<Axes: >"
            ]
          },
          "metadata": {},
          "execution_count": 21
        },
        {
          "output_type": "display_data",
          "data": {
            "text/plain": [
              "<Figure size 640x480 with 1 Axes>"
            ],
            "image/png": "[encoded data removed]"
          },
          "metadata": {}
        }
      ],
      "source": [
        "df[\"assignees\"].value_counts().plot(kind=\"bar\")\n"
      ]
    },
    {
      "cell_type": "code",
      "execution_count": 22,
      "metadata": {
        "id": "AoPfGc6nnBL1"
      },
      "outputs": [],
      "source": [
        "np.random.seed(42)\n",
        "train_df, test_df = train_test_split(df, test_size=0.15, stratify=df[\"owner_id\"])\n",
        "train_df, valid_df = train_test_split(train_df, test_size=0.2, stratify=train_df[\"owner_id\"])\n",
        "\n",
        "train_df = train_df.fillna(\"\")\n",
        "valid_df = train_df.fillna(\"\")\n",
        "test_df = train_df.fillna(\"\")\n",
        "\n",
        "train_df = train_df.iloc[:, [2,3,4,5,6,7,8,9,12,13]]\n",
        "valid_df = valid_df.iloc[:, [2,3,4,5,6,7,8,9,12,13]]\n",
        "test_df = test_df.iloc[:, [2,3,4,5,6,7,8,9,12,13]]\n"
      ]
    },
    {
      "cell_type": "code",
      "source": [
        "# from sklearn.feature_extraction.text import CountVectorizer\n",
        "\n",
        "# vectorizer = CountVectorizer()\n",
        "# vectorizer.fit(train_df.iloc[:, [2]] .values.ravel())\n",
        "# X_train=vectorizer.transform(train_df.iloc[:, [2]] .values.ravel())\n",
        "# X_test=vectorizer.transform(test_df.iloc[:, [2]] .values.ravel())\n",
        "# X_train\n",
        "# # X_train=X_train.toarray()\n",
        "# # X_test=X_test.toarray()"
      ],
      "metadata": {
        "id": "H44lFU1IyHHQ"
      },
      "execution_count": null,
      "outputs": []
    },
    {
      "cell_type": "code",
      "source": [
        "# sme = SMOTEENN(random_state=42)\n",
        "# smtom = SMOTETomek(random_state=42)\n",
        "# x_train = pd.DataFrame(X_train)\n",
        "# X_resampled, y_resampled = smtom.fit_resample(X_train, train_df.loc[:, [\"owner_id\"]])"
      ],
      "metadata": {
        "id": "zD_LNOjQxkV8"
      },
      "execution_count": null,
      "outputs": []
    },
    {
      "cell_type": "code",
      "source": [
        "# from collections import Counter\n",
        "# counter = Counter(train_df.loc[:, :\"text\"])\n",
        "# counter"
      ],
      "metadata": {
        "id": "4iIWFQppqjg_"
      },
      "execution_count": null,
      "outputs": []
    },
    {
      "cell_type": "code",
      "execution_count": 23,
      "metadata": {
        "id": "FaDhZcVUnBL2"
      },
      "outputs": [],
      "source": [
        "assert len(train_df.owner_id.unique()) == len(test_df.owner_id.unique()) == len(valid_df.owner_id.unique())"
      ]
    },
    {
      "cell_type": "markdown",
      "metadata": {
        "id": "Z5wlZX9ZnBL2"
      },
      "source": [
        "# Training"
      ]
    },
    {
      "cell_type": "code",
      "execution_count": 24,
      "metadata": {
        "id": "Rwaxw1nOnBL3",
        "outputId": "7c9b5f85-ae35-4e0c-a569-e727b2ebd044",
        "colab": {
          "base_uri": "https://localhost:8080/",
          "height": 336,
          "referenced_widgets": [
            "1019403eafd047538cb096b528c37c54",
            "4eb1f2fe32d44ae788f422b15b8967ee",
            "da6ed7f832dc403e814f99747835605e",
            "822d4e1a032a48e4a3c36065ff2ed55e",
            "6747630bc3864f6299af8d7811c75d8c",
            "21f4137c69364e12bdf35e1d188c3a34",
            "eb601e3ffe254b2d82b2e53df5c6bece",
            "985a21f9d16148a5a796be4cfb0ea2e2",
            "5499d512d369486fb6640811cda13ba9",
            "d5fe067f739f4ebf8db1591a9178f834",
            "f25768f118f74dd7be5b64f121a6c449",
            "5774fa01d179426d804a7ba66c12eb2c",
            "da9ac7a834e44a7e97172e1ac703193a",
            "e356bd2961134e6ab30add0f00ecccc4",
            "d9d7436865b041b09f76a436756fefa4",
            "b3c47c303e2a40ae909b5841d7a8c131",
            "b072911db7694ede85858a72fabe7649",
            "1ebfd2dcab774eae89155513dfb7eecc",
            "210be91fa72c4f5d99f8e67bd085bc01",
            "bd0e615878a0478b833c67b29bc73a7f",
            "f8dad248f6c845a08b92e28288d41389",
            "fd976a12d7214bee8e39b4d3f3325aa3",
            "3c7cfd9bb7e14b9d9ae871cb662ebdfe",
            "4e137586ca95423dbdb9a9ca908c8ed9",
            "5f239946dfc3403ab686fccb75da6c15",
            "d0ef97b8a086424bbb32ff5ad1d0deb2",
            "6ded4c5451c04909a31e141d019dc0b4",
            "536acea5dd8e42259b12a573c055825e",
            "7a3124275d6c4d7695b53decb05fb8c1",
            "502d0795f32840a6a4196d5b7952f5f6",
            "377d010ebb564d7e991576dd04dce665",
            "4bd9cca6f9074d14a85307a256278060",
            "46b3a4ccd9e84cc0bcff53bb8cada0b4",
            "9a46ce816e5742b687750fc149becbbf",
            "895bbef1fce94c9c86177c0c355f6691",
            "ad5d793e31814f2db2abb98544f8c91c",
            "f5b8e1774225453da8fdcdd391be8b68",
            "7b4937e883724682ad301c4015fb510b",
            "680e9b807a734f1aa1f218f78c413ea6",
            "76004f2b49124f4585492e91ee6983e1",
            "5901a214b6584f64b2152684eea72713",
            "3c9cd524a20843ea89da81f5eaadc466",
            "9e23d72df593464887fa1f0a30ebcd93",
            "f015dc6c195e4c06ba5d6cd6073fe181",
            "78a84952100c41e1a93d443e21373cb9",
            "21ab35b1c2ba45fdbc640d5c2928608f",
            "f9fc4a2939c44a2cbfc23868ba9dd87b",
            "48972dc17f8e4c42b6f2a011441b48cc",
            "f91c279fb0e54234bffb29b8f8bb29fd",
            "28ec409f6138406aae3b1408ff02025b",
            "d54fb5dde28c44e29ca613dc3a8f8840",
            "2ae345d25e694c45a6f515aa6f162f5b",
            "02534945453d418aa6a1731f32da26b0",
            "09df8e8e5b134190842c7d58b0cfa2ab",
            "9b7eaed883094079b04efb804a180183"
          ]
        }
      },
      "outputs": [
        {
          "output_type": "stream",
          "name": "stderr",
          "text": [
            "/usr/local/lib/python3.10/dist-packages/huggingface_hub/utils/_token.py:88: UserWarning: \n",
            "The secret `HF_TOKEN` does not exist in your Colab secrets.\n",
            "To authenticate with the Hugging Face Hub, create a token in your settings tab (https://huggingface.co/settings/tokens), set it as secret in your Google Colab and restart your session.\n",
            "You will be able to reuse this secret in all of your notebooks.\n",
            "Please note that authentication is recommended but still optional to access public models or datasets.\n",
            "  warnings.warn(\n"
          ]
        },
        {
          "output_type": "display_data",
          "data": {
            "text/plain": [
              "config.json:   0%|          | 0.00/482 [00:00<?, ?B/s]"
            ],
            "application/vnd.jupyter.widget-view+json": {
              "version_major": 2,
              "version_minor": 0,
              "model_id": "1019403eafd047538cb096b528c37c54"
            }
          },
          "metadata": {}
        },
        {
          "output_type": "display_data",
          "data": {
            "text/plain": [
              "model.safetensors:   0%|          | 0.00/1.42G [00:00<?, ?B/s]"
            ],
            "application/vnd.jupyter.widget-view+json": {
              "version_major": 2,
              "version_minor": 0,
              "model_id": "5774fa01d179426d804a7ba66c12eb2c"
            }
          },
          "metadata": {}
        },
        {
          "output_type": "stream",
          "name": "stderr",
          "text": [
            "Some weights of RobertaModel were not initialized from the model checkpoint at roberta-large and are newly initialized: ['roberta.pooler.dense.weight', 'roberta.pooler.dense.bias']\n",
            "You should probably TRAIN this model on a down-stream task to be able to use it for predictions and inference.\n"
          ]
        },
        {
          "output_type": "display_data",
          "data": {
            "text/plain": [
              "vocab.json:   0%|          | 0.00/899k [00:00<?, ?B/s]"
            ],
            "application/vnd.jupyter.widget-view+json": {
              "version_major": 2,
              "version_minor": 0,
              "model_id": "3c7cfd9bb7e14b9d9ae871cb662ebdfe"
            }
          },
          "metadata": {}
        },
        {
          "output_type": "display_data",
          "data": {
            "text/plain": [
              "merges.txt:   0%|          | 0.00/456k [00:00<?, ?B/s]"
            ],
            "application/vnd.jupyter.widget-view+json": {
              "version_major": 2,
              "version_minor": 0,
              "model_id": "9a46ce816e5742b687750fc149becbbf"
            }
          },
          "metadata": {}
        },
        {
          "output_type": "display_data",
          "data": {
            "text/plain": [
              "tokenizer.json:   0%|          | 0.00/1.36M [00:00<?, ?B/s]"
            ],
            "application/vnd.jupyter.widget-view+json": {
              "version_major": 2,
              "version_minor": 0,
              "model_id": "78a84952100c41e1a93d443e21373cb9"
            }
          },
          "metadata": {}
        }
      ],
      "source": [
        "model = RobertaFCNClassifier(\n",
        "    model_name=\"roberta-large\",\n",
        "    output_size=len(train_df.owner_id.unique()),\n",
        "    embed_size=1024\n",
        ")"
      ]
    },
    {
      "cell_type": "code",
      "execution_count": 25,
      "metadata": {
        "id": "5A8cn2N2nBL3"
      },
      "outputs": [],
      "source": [
        "import torch"
      ]
    },
    {
      "cell_type": "code",
      "execution_count": 26,
      "metadata": {
        "id": "JoalDwUFnBL4"
      },
      "outputs": [],
      "source": [
        "class_counts = np.bincount(train_df[\"owner_id\"])\n",
        "num_samples = sum(class_counts)\n",
        "labels = train_df[\"owner_id\"].to_list() #corresponding labels of samples\n",
        "\n",
        "class_weights = [num_samples/class_counts[i] for i in range(len(class_counts))]\n",
        "weights = [class_weights[labels[i]] for i in range(int(num_samples))]\n",
        "sampler = WeightedRandomSampler(torch.DoubleTensor(weights), int(num_samples))"
      ]
    },
    {
      "cell_type": "code",
      "source": [
        "torch.cuda.empty_cache()"
      ],
      "metadata": {
        "id": "1-ui8VJ6Tjz5"
      },
      "execution_count": 27,
      "outputs": []
    },
    {
      "cell_type": "code",
      "source": [
        "!nvidia-smi"
      ],
      "metadata": {
        "colab": {
          "base_uri": "https://localhost:8080/"
        },
        "id": "Pypt0Qv0Tw2-",
        "outputId": "8b3b5a46-0d26-4938-b4d0-67a9132ec77c"
      },
      "execution_count": 28,
      "outputs": [
        {
          "output_type": "stream",
          "name": "stdout",
          "text": [
            "Sat Jan 27 17:47:36 2024       \n",
            "+---------------------------------------------------------------------------------------+\n",
            "| NVIDIA-SMI 535.104.05             Driver Version: 535.104.05   CUDA Version: 12.2     |\n",
            "|-----------------------------------------+----------------------+----------------------+\n",
            "| GPU  Name                 Persistence-M | Bus-Id        Disp.A | Volatile Uncorr. ECC |\n",
            "| Fan  Temp   Perf          Pwr:Usage/Cap |         Memory-Usage | GPU-Util  Compute M. |\n",
            "|                                         |                      |               MIG M. |\n",
            "|=========================================+======================+======================|\n",
            "|   0  Tesla T4                       Off | 00000000:00:04.0 Off |                    0 |\n",
            "| N/A   33C    P8               9W /  70W |      0MiB / 15360MiB |      0%      Default |\n",
            "|                                         |                      |                  N/A |\n",
            "+-----------------------------------------+----------------------+----------------------+\n",
            "                                                                                         \n",
            "+---------------------------------------------------------------------------------------+\n",
            "| Processes:                                                                            |\n",
            "|  GPU   GI   CI        PID   Type   Process name                            GPU Memory |\n",
            "|        ID   ID                                                             Usage      |\n",
            "|=======================================================================================|\n",
            "|  No running processes found                                                           |\n",
            "+---------------------------------------------------------------------------------------+\n"
          ]
        }
      ]
    },
    {
      "cell_type": "code",
      "execution_count": 29,
      "metadata": {
        "id": "dkxVwf52nBL4"
      },
      "outputs": [],
      "source": [
        "learning_rate = 1e-5\n",
        "epochs = 10\n",
        "batch_size = 7\n",
        "\n",
        "# Create sampler\n",
        "# counts = np.bincount(train_df[\"owner_id\"])\n",
        "# labels_weights = 1. / counts\n",
        "# weights = labels_weights[train_df[\"owner_id\"]]\n",
        "# sampler = WeightedRandomSampler(weights, len(weights))\n",
        "\n",
        "sampler_name = sampler.__class__.__name__ if sampler else \"None\"\n",
        "model_name = model.__class__.__name__\n",
        "\n",
        "output_file = f\"{model_name}_{sample_threshold}_stratify_labels_{sampler_name}\"\n",
        "output_path = f\"/content/gdrive/MyDrive/TriagerX/output/{output_file}.pt\"\n",
        "\n",
        "wandb_config = {\n",
        "        \"project\": \"triagerx\",\n",
        "        \"name\": f\"run_{output_file}\",\n",
        "        \"config\": {\n",
        "        \"learning_rate\": learning_rate,\n",
        "        \"architecture\": \"Roberta-CNN\",\n",
        "        \"dataset\": \"openj9\",\n",
        "        \"epochs\": epochs,\n",
        "    }\n",
        "}\n",
        "\n",
        "criterion = nn.CrossEntropyLoss()\n",
        "optimizer = Adam(model.parameters(), lr=learning_rate)\n",
        "scheduler = ReduceLROnPlateau(optimizer, \"min\", patience=10, factor=0.1, threshold=1e-8)\n",
        "\n",
        "train_config = TrainConfig(\n",
        "    optimizer=optimizer,\n",
        "    criterion=criterion,\n",
        "    train_dataset=train_df,\n",
        "    validation_dataset=valid_df,\n",
        "    learning_rate=learning_rate,\n",
        "    batch_size=batch_size,\n",
        "    epochs=epochs,\n",
        "    output_file=output_path,\n",
        "    sampler=sampler,\n",
        "    scheduler=scheduler,\n",
        "    wandb=wandb_config\n",
        ")\n",
        "\n"
      ]
    },
    {
      "cell_type": "code",
      "source": [
        "trainer = ModelTrainer(train_config)\n",
        "trainer.train(model=model)"
      ],
      "metadata": {
        "colab": {
          "base_uri": "https://localhost:8080/"
        },
        "id": "1JeWTnfw1fRP",
        "outputId": "b707cebc-8e61-45a4-cd47-181c49c5de37"
      },
      "execution_count": null,
      "outputs": [
        {
          "output_type": "stream",
          "name": "stderr",
          "text": [
            "100%|██████████| 519/519 [18:27<00:00,  2.13s/it]\n",
            "\u001b[32m2024-01-27 19:28:25.925\u001b[0m | \u001b[1mINFO    \u001b[0m | \u001b[36m__main__\u001b[0m:\u001b[36m_log_step\u001b[0m:\u001b[36m154\u001b[0m - \u001b[1mEpochs: 4 | Train Loss:  0.174                     | Train Accuracy:  0.823                     | Val Loss:  0.263                     | Val Accuracy:  0.595                     | Precision:  0.860                     | Recall:  0.707                     | F1-score:  0.753\u001b[0m\n",
            "\u001b[32m2024-01-27 19:28:25.928\u001b[0m | \u001b[32m\u001b[1mSUCCESS \u001b[0m | \u001b[36m__main__\u001b[0m:\u001b[36mtrain\u001b[0m:\u001b[36m126\u001b[0m - \u001b[32m\u001b[1mFound new best model. Saving weights...\u001b[0m\n",
            " 85%|████████▌ | 442/519 [15:41<02:43,  2.12s/it]"
          ]
        }
      ]
    },
    {
      "cell_type": "code",
      "source": [],
      "metadata": {
        "id": "fcyvTCf0UEup"
      },
      "execution_count": null,
      "outputs": []
    },
    {
      "cell_type": "code",
      "source": [
        "#"
      ],
      "metadata": {
        "id": "gcROFgNH-Xgu"
      },
      "execution_count": null,
      "outputs": []
    },
    {
      "cell_type": "markdown",
      "metadata": {
        "id": "81pa-McxnBL5"
      },
      "source": [
        "# Evaluation"
      ]
    },
    {
      "cell_type": "code",
      "source": [
        "import torch"
      ],
      "metadata": {
        "id": "ZUZyaOuNd9wK"
      },
      "execution_count": null,
      "outputs": []
    },
    {
      "cell_type": "code",
      "source": [
        "import numpy as np\n",
        "import pandas as pd\n",
        "import torch\n",
        "import torch.nn as nn\n",
        "from loguru import logger\n",
        "from sklearn.metrics import top_k_accuracy_score\n",
        "\n",
        "\n",
        "class Evaluator:\n",
        "    def calculate_top_k_accuray(\n",
        "        self, model: nn.Module, k: int, X_test: pd.DataFrame, y_test: np.array\n",
        "    ):\n",
        "        has_cuda = torch.cuda.is_available()\n",
        "\n",
        "        if has_cuda:\n",
        "            model = model.cuda()\n",
        "\n",
        "        tokenizer = model.tokenizer()\n",
        "\n",
        "        y_preds = []\n",
        "\n",
        "        logger.debug(\"Calculating predications...\")\n",
        "        for i in range(len(X_test)):\n",
        "            dx = X_test.iloc[i]\n",
        "\n",
        "            data = tokenizer(\n",
        "                dx[\"text\"], padding=\"max_length\", max_length=512, truncation=True\n",
        "            )\n",
        "            ids, mask = data[\"input_ids\"], data[\"attention_mask\"]\n",
        "\n",
        "            ids = torch.tensor([ids])\n",
        "            mask = torch.tensor([mask])\n",
        "\n",
        "            if has_cuda:\n",
        "                ids = ids.cuda()\n",
        "                mask = mask.cuda()\n",
        "\n",
        "            softmax = nn.Softmax(dim=1)\n",
        "\n",
        "            with torch.no_grad():\n",
        "                y_pred = softmax(model(ids, mask))\n",
        "\n",
        "            y_preds.append(y_pred)\n",
        "\n",
        "        y_numpy = []\n",
        "\n",
        "        for y in y_preds:\n",
        "            y_numpy.append(y.cpu().numpy())\n",
        "\n",
        "        y_preds = np.array(y_numpy)[:, 0, :]\n",
        "\n",
        "        logger.debug(f\"Calculating top {k} score...\")\n",
        "\n",
        "        score = top_k_accuracy_score(y_test, y_preds, k=k)\n",
        "        logger.info(f\"Top {k} score: {score}\")\n",
        "\n",
        "        return score\n"
      ],
      "metadata": {
        "id": "Xvdd5RDwd2kn"
      },
      "execution_count": null,
      "outputs": []
    },
    {
      "cell_type": "code",
      "execution_count": null,
      "metadata": {
        "id": "I7h_vrh9nBL5"
      },
      "outputs": [],
      "source": [
        "model = RobertaCNNClassifier(\n",
        "    model_name=\"roberta-base\",\n",
        "    output_size=len(train_df.owner_id.unique()),\n",
        "    embed_size=768\n",
        ")\n",
        "model.load_state_dict(torch.load(\"/content/gdrive/MyDrive/TriagerX/output/RobertaCNNClassifier_5_stratify_comp-labels_WeightedRandomSampler.pt\"))\n",
        "\n",
        "evaluator = Evaluator()"
      ]
    },
    {
      "cell_type": "code",
      "source": [
        "# model = RobertaCNNClassifier(\n",
        "#     model_name=\"roberta-base\",\n",
        "#     output_size=len(train_df.owner_id.unique()),\n",
        "#     embed_size=768\n",
        "# )\n",
        "\n",
        "model = RobertaFCNClassifier(\n",
        "    model_name=\"roberta-large\",\n",
        "    output_size=len(train_df.owner_id.unique()),\n",
        "    embed_size=1024\n",
        ")\n"
      ],
      "metadata": {
        "id": "YhYGe44qO7xH"
      },
      "execution_count": null,
      "outputs": []
    },
    {
      "cell_type": "code",
      "source": [
        "MODEL_PATH = \"/content/gdrive/MyDrive/TriagerX/output/RobertaFCNClassifier_5_stratify_labels_WeightedRandomSampler_0.pt\"\n",
        "\n",
        "if torch.cuda.is_available():\n",
        "  model.load_state_dict(torch.load(MODEL_PATH))\n",
        "else:\n",
        "  model.load_state_dict(torch.load(MODEL_PATH, map_location=torch.device('cpu')))\n"
      ],
      "metadata": {
        "id": "5Houu2n-O_WX"
      },
      "execution_count": null,
      "outputs": []
    },
    {
      "cell_type": "code",
      "source": [
        "evaluator = Evaluator()\n"
      ],
      "metadata": {
        "id": "llo8ik7jPDui"
      },
      "execution_count": null,
      "outputs": []
    },
    {
      "cell_type": "code",
      "execution_count": null,
      "metadata": {
        "id": "yvBA8n2znBL5"
      },
      "outputs": [],
      "source": [
        "from torch.utils.data import DataLoader\n",
        "\n",
        "dataset = TriageDataset(test_df, model.tokenizer())"
      ]
    },
    {
      "cell_type": "code",
      "execution_count": null,
      "metadata": {
        "id": "hkbcq7CdnBL6"
      },
      "outputs": [],
      "source": [
        "loader = DataLoader(dataset, 30)"
      ]
    },
    {
      "cell_type": "code",
      "execution_count": null,
      "metadata": {
        "id": "6Q1pmVOZnBL6"
      },
      "outputs": [],
      "source": [
        "test_df.head(30)"
      ]
    },
    {
      "cell_type": "code",
      "execution_count": null,
      "metadata": {
        "id": "JYzXdFj8nBL6"
      },
      "outputs": [],
      "source": [
        "device = torch.device(\"cuda\" if torch.cuda.is_available() else \"cpu\")\n",
        "all_preds = []\n",
        "all_labels = []\n",
        "\n",
        "if torch.cuda.is_available():\n",
        "  model = model.cuda()\n",
        "\n",
        "with torch.no_grad():\n",
        "    for val_input, val_label in loader:\n",
        "        val_label = val_label.to(device)\n",
        "        mask = val_input[\"attention_mask\"].to(device)\n",
        "        input_id = val_input[\"input_ids\"].squeeze(1).to(device)\n",
        "\n",
        "        output = model(input_id, mask)\n",
        "        output = nn.Softmax(dim=1)(output)\n",
        "        conf, classes = output.topk(10, dim=1)\n",
        "\n",
        "        print(\"Pred\", output.argmax(dim=1))\n",
        "        print(\"Label\", val_label.long())\n",
        "        print(\"Top 3\", classes)\n",
        "\n",
        "        # batch_loss = criterion(output, val_label.long())\n",
        "        # total_loss_val += batch_loss.item()\n",
        "\n",
        "        # acc = (output.argmax(dim=1) == val_label).sum().item()\n",
        "\n",
        "        # all_preds.append(output.cpu().numpy())\n",
        "        # all_labels.append(val_label.cpu().numpy())\n",
        "\n",
        "        # total_acc_val += acc\n",
        "\n",
        "        break"
      ]
    },
    {
      "cell_type": "code",
      "execution_count": null,
      "metadata": {
        "id": "ijzdSb-CnBL7"
      },
      "outputs": [],
      "source": [
        "import pandas as pd"
      ]
    },
    {
      "cell_type": "code",
      "execution_count": null,
      "metadata": {
        "id": "ZXVDb9ZKnBL7"
      },
      "outputs": [],
      "source": [
        "x_df = df.copy()"
      ]
    },
    {
      "cell_type": "code",
      "execution_count": null,
      "metadata": {
        "id": "975OtI12nBL7"
      },
      "outputs": [],
      "source": [
        "x_df.head()"
      ]
    },
    {
      "cell_type": "code",
      "execution_count": null,
      "metadata": {
        "id": "naR517i3nBL7"
      },
      "outputs": [],
      "source": [
        "x_df[\"assignee_w_id\"] = x_df.apply(lambda x: str(x[\"assignees\"]) + \" \" + str(x[\"owner_id\"]), axis=1)"
      ]
    },
    {
      "cell_type": "code",
      "execution_count": null,
      "metadata": {
        "id": "iOsbp2wjnBL7"
      },
      "outputs": [],
      "source": [
        "x_df.head()"
      ]
    },
    {
      "cell_type": "code",
      "execution_count": null,
      "metadata": {
        "id": "OAS3mQyfnBL7"
      },
      "outputs": [],
      "source": [
        "x_df[\"assignee_w_id\"].value_counts()[:20].plot(kind=\"bar\")"
      ]
    },
    {
      "cell_type": "code",
      "execution_count": null,
      "metadata": {
        "id": "Bl3rILMPnBL8"
      },
      "outputs": [],
      "source": [
        "def predict(data, model):\n",
        "    device = torch.device(\"cuda\" if torch.cuda.is_available() else \"cpu\")\n",
        "    if torch.cuda.is_available():\n",
        "      model = model.cuda()\n",
        "\n",
        "    with torch.no_grad():\n",
        "        for val_input, val_label in loader:\n",
        "            val_label = val_label.to(device)\n",
        "            mask = val_input[\"attention_mask\"].to(device)\n",
        "            input_id = val_input[\"input_ids\"].squeeze(1).to(device)\n",
        "\n",
        "            output = model(input_id, mask)\n",
        "            output = nn.Softmax(dim=1)(output)\n",
        "            # conf, classes = output.topk(3, dim=1)\n",
        "\n",
        "            return output.argmax(dim=1)"
      ]
    },
    {
      "cell_type": "code",
      "execution_count": null,
      "metadata": {
        "id": "9X7MIxJnnBL8"
      },
      "outputs": [],
      "source": []
    },
    {
      "cell_type": "code",
      "execution_count": null,
      "metadata": {
        "id": "6hk2EuClnBL8"
      },
      "outputs": [],
      "source": [
        "test_df.head(30)"
      ]
    },
    {
      "cell_type": "code",
      "execution_count": null,
      "metadata": {
        "id": "8jemXfSfnBL8"
      },
      "outputs": [],
      "source": [
        "test_df[25:26]"
      ]
    },
    {
      "cell_type": "code",
      "execution_count": null,
      "metadata": {
        "id": "Lb0uc_VjnBL8"
      },
      "outputs": [],
      "source": [
        "dx = test_df[25:26]\n",
        "print(dx[\"assignees\"])\n",
        "\n",
        "dataset = TriageDataset(dx, model.tokenizer())\n",
        "\n",
        "predict(dataset, model)"
      ]
    },
    {
      "cell_type": "code",
      "execution_count": null,
      "metadata": {
        "id": "_Vp2NJXCnBL8"
      },
      "outputs": [],
      "source": [
        "# all_preds[0]"
      ]
    },
    {
      "cell_type": "code",
      "execution_count": null,
      "metadata": {
        "id": "7xDbew8enBL9"
      },
      "outputs": [],
      "source": [
        "all_preds = np.concatenate(all_preds)\n",
        "all_labels = np.concatenate(all_labels)"
      ]
    },
    {
      "cell_type": "code",
      "execution_count": null,
      "metadata": {
        "id": "aqB6R_1wnBL9"
      },
      "outputs": [],
      "source": [
        "# set(all_labels)"
      ]
    },
    {
      "cell_type": "code",
      "execution_count": null,
      "metadata": {
        "id": "K_ZmzJIYnBL9"
      },
      "outputs": [],
      "source": [
        "all_preds[0]"
      ]
    },
    {
      "cell_type": "code",
      "execution_count": null,
      "metadata": {
        "id": "U2rouhwknBL9"
      },
      "outputs": [],
      "source": [
        "sum(all_preds == all_labels)"
      ]
    },
    {
      "cell_type": "code",
      "execution_count": null,
      "metadata": {
        "id": "71nMgTQenBL9"
      },
      "outputs": [],
      "source": [
        "# set(all_labels) - set(all_preds)"
      ]
    },
    {
      "cell_type": "code",
      "execution_count": null,
      "metadata": {
        "id": "EXG7PSN5nBL9"
      },
      "outputs": [],
      "source": [
        "# Top 3 Predictions\n",
        "evaluator.calculate_top_k_accuray(model, k=3, X_test=test_df, y_test=test_df[\"owner_id\"].to_numpy())"
      ]
    },
    {
      "cell_type": "code",
      "execution_count": null,
      "metadata": {
        "id": "9bsVxUAqnBL-"
      },
      "outputs": [],
      "source": [
        "# Top 5 Predictions\n",
        "evaluator.calculate_top_k_accuray(model, k=5, X_test=test_df, y_test=test_df[\"owner_id\"].to_numpy())"
      ]
    },
    {
      "cell_type": "code",
      "execution_count": null,
      "metadata": {
        "id": "Sp2tp0lHnBMD"
      },
      "outputs": [],
      "source": []
    },
    {
      "cell_type": "code",
      "execution_count": null,
      "metadata": {
        "id": "5nnwnL5gnBMD"
      },
      "outputs": [],
      "source": []
    }
  ],
  "metadata": {
    "kernelspec": {
      "display_name": "Python 3",
      "name": "python3"
    },
    "language_info": {
      "codemirror_mode": {
        "name": "ipython",
        "version": 3
      },
      "file_extension": ".py",
      "mimetype": "text/x-python",
      "name": "python",
      "nbconvert_exporter": "python",
      "pygments_lexer": "ipython3",
      "version": "3.10.13"
    },
    "colab": {
      "provenance": [],
      "gpuType": "T4"
    },
    "accelerator": "GPU",
    "widgets": {
      "application/vnd.jupyter.widget-state+json": {
        "1019403eafd047538cb096b528c37c54": {
          "model_module": "@jupyter-widgets/controls",
          "model_name": "HBoxModel",
          "model_module_version": "1.5.0",
          "state": {
            "_dom_classes": [],
            "_model_module": "@jupyter-widgets/controls",
            "_model_module_version": "1.5.0",
            "_model_name": "HBoxModel",
            "_view_count": null,
            "_view_module": "@jupyter-widgets/controls",
            "_view_module_version": "1.5.0",
            "_view_name": "HBoxView",
            "box_style": "",
            "children": [
              "IPY_MODEL_4eb1f2fe32d44ae788f422b15b8967ee",
              "IPY_MODEL_da6ed7f832dc403e814f99747835605e",
              "IPY_MODEL_822d4e1a032a48e4a3c36065ff2ed55e"
            ],
            "layout": "IPY_MODEL_6747630bc3864f6299af8d7811c75d8c"
          }
        },
        "4eb1f2fe32d44ae788f422b15b8967ee": {
          "model_module": "@jupyter-widgets/controls",
          "model_name": "HTMLModel",
          "model_module_version": "1.5.0",
          "state": {
            "_dom_classes": [],
            "_model_module": "@jupyter-widgets/controls",
            "_model_module_version": "1.5.0",
            "_model_name": "HTMLModel",
            "_view_count": null,
            "_view_module": "@jupyter-widgets/controls",
            "_view_module_version": "1.5.0",
            "_view_name": "HTMLView",
            "description": "",
            "description_tooltip": null,
            "layout": "IPY_MODEL_21f4137c69364e12bdf35e1d188c3a34",
            "placeholder": "​",
            "style": "IPY_MODEL_eb601e3ffe254b2d82b2e53df5c6bece",
            "value": "config.json: 100%"
          }
        },
        "da6ed7f832dc403e814f99747835605e": {
          "model_module": "@jupyter-widgets/controls",
          "model_name": "FloatProgressModel",
          "model_module_version": "1.5.0",
          "state": {
            "_dom_classes": [],
            "_model_module": "@jupyter-widgets/controls",
            "_model_module_version": "1.5.0",
            "_model_name": "FloatProgressModel",
            "_view_count": null,
            "_view_module": "@jupyter-widgets/controls",
            "_view_module_version": "1.5.0",
            "_view_name": "ProgressView",
            "bar_style": "success",
            "description": "",
            "description_tooltip": null,
            "layout": "IPY_MODEL_985a21f9d16148a5a796be4cfb0ea2e2",
            "max": 482,
            "min": 0,
            "orientation": "horizontal",
            "style": "IPY_MODEL_5499d512d369486fb6640811cda13ba9",
            "value": 482
          }
        },
        "822d4e1a032a48e4a3c36065ff2ed55e": {
          "model_module": "@jupyter-widgets/controls",
          "model_name": "HTMLModel",
          "model_module_version": "1.5.0",
          "state": {
            "_dom_classes": [],
            "_model_module": "@jupyter-widgets/controls",
            "_model_module_version": "1.5.0",
            "_model_name": "HTMLModel",
            "_view_count": null,
            "_view_module": "@jupyter-widgets/controls",
            "_view_module_version": "1.5.0",
            "_view_name": "HTMLView",
            "description": "",
            "description_tooltip": null,
            "layout": "IPY_MODEL_d5fe067f739f4ebf8db1591a9178f834",
            "placeholder": "​",
            "style": "IPY_MODEL_f25768f118f74dd7be5b64f121a6c449",
            "value": " 482/482 [00:00&lt;00:00, 22.7kB/s]"
          }
        },
        "6747630bc3864f6299af8d7811c75d8c": {
          "model_module": "@jupyter-widgets/base",
          "model_name": "LayoutModel",
          "model_module_version": "1.2.0",
          "state": {
            "_model_module": "@jupyter-widgets/base",
            "_model_module_version": "1.2.0",
            "_model_name": "LayoutModel",
            "_view_count": null,
            "_view_module": "@jupyter-widgets/base",
            "_view_module_version": "1.2.0",
            "_view_name": "LayoutView",
            "align_content": null,
            "align_items": null,
            "align_self": null,
            "border": null,
            "bottom": null,
            "display": null,
            "flex": null,
            "flex_flow": null,
            "grid_area": null,
            "grid_auto_columns": null,
            "grid_auto_flow": null,
            "grid_auto_rows": null,
            "grid_column": null,
            "grid_gap": null,
            "grid_row": null,
            "grid_template_areas": null,
            "grid_template_columns": null,
            "grid_template_rows": null,
            "height": null,
            "justify_content": null,
            "justify_items": null,
            "left": null,
            "margin": null,
            "max_height": null,
            "max_width": null,
            "min_height": null,
            "min_width": null,
            "object_fit": null,
            "object_position": null,
            "order": null,
            "overflow": null,
            "overflow_x": null,
            "overflow_y": null,
            "padding": null,
            "right": null,
            "top": null,
            "visibility": null,
            "width": null
          }
        },
        "21f4137c69364e12bdf35e1d188c3a34": {
          "model_module": "@jupyter-widgets/base",
          "model_name": "LayoutModel",
          "model_module_version": "1.2.0",
          "state": {
            "_model_module": "@jupyter-widgets/base",
            "_model_module_version": "1.2.0",
            "_model_name": "LayoutModel",
            "_view_count": null,
            "_view_module": "@jupyter-widgets/base",
            "_view_module_version": "1.2.0",
            "_view_name": "LayoutView",
            "align_content": null,
            "align_items": null,
            "align_self": null,
            "border": null,
            "bottom": null,
            "display": null,
            "flex": null,
            "flex_flow": null,
            "grid_area": null,
            "grid_auto_columns": null,
            "grid_auto_flow": null,
            "grid_auto_rows": null,
            "grid_column": null,
            "grid_gap": null,
            "grid_row": null,
            "grid_template_areas": null,
            "grid_template_columns": null,
            "grid_template_rows": null,
            "height": null,
            "justify_content": null,
            "justify_items": null,
            "left": null,
            "margin": null,
            "max_height": null,
            "max_width": null,
            "min_height": null,
            "min_width": null,
            "object_fit": null,
            "object_position": null,
            "order": null,
            "overflow": null,
            "overflow_x": null,
            "overflow_y": null,
            "padding": null,
            "right": null,
            "top": null,
            "visibility": null,
            "width": null
          }
        },
        "eb601e3ffe254b2d82b2e53df5c6bece": {
          "model_module": "@jupyter-widgets/controls",
          "model_name": "DescriptionStyleModel",
          "model_module_version": "1.5.0",
          "state": {
            "_model_module": "@jupyter-widgets/controls",
            "_model_module_version": "1.5.0",
            "_model_name": "DescriptionStyleModel",
            "_view_count": null,
            "_view_module": "@jupyter-widgets/base",
            "_view_module_version": "1.2.0",
            "_view_name": "StyleView",
            "description_width": ""
          }
        },
        "985a21f9d16148a5a796be4cfb0ea2e2": {
          "model_module": "@jupyter-widgets/base",
          "model_name": "LayoutModel",
          "model_module_version": "1.2.0",
          "state": {
            "_model_module": "@jupyter-widgets/base",
            "_model_module_version": "1.2.0",
            "_model_name": "LayoutModel",
            "_view_count": null,
            "_view_module": "@jupyter-widgets/base",
            "_view_module_version": "1.2.0",
            "_view_name": "LayoutView",
            "align_content": null,
            "align_items": null,
            "align_self": null,
            "border": null,
            "bottom": null,
            "display": null,
            "flex": null,
            "flex_flow": null,
            "grid_area": null,
            "grid_auto_columns": null,
            "grid_auto_flow": null,
            "grid_auto_rows": null,
            "grid_column": null,
            "grid_gap": null,
            "grid_row": null,
            "grid_template_areas": null,
            "grid_template_columns": null,
            "grid_template_rows": null,
            "height": null,
            "justify_content": null,
            "justify_items": null,
            "left": null,
            "margin": null,
            "max_height": null,
            "max_width": null,
            "min_height": null,
            "min_width": null,
            "object_fit": null,
            "object_position": null,
            "order": null,
            "overflow": null,
            "overflow_x": null,
            "overflow_y": null,
            "padding": null,
            "right": null,
            "top": null,
            "visibility": null,
            "width": null
          }
        },
        "5499d512d369486fb6640811cda13ba9": {
          "model_module": "@jupyter-widgets/controls",
          "model_name": "ProgressStyleModel",
          "model_module_version": "1.5.0",
          "state": {
            "_model_module": "@jupyter-widgets/controls",
            "_model_module_version": "1.5.0",
            "_model_name": "ProgressStyleModel",
            "_view_count": null,
            "_view_module": "@jupyter-widgets/base",
            "_view_module_version": "1.2.0",
            "_view_name": "StyleView",
            "bar_color": null,
            "description_width": ""
          }
        },
        "d5fe067f739f4ebf8db1591a9178f834": {
          "model_module": "@jupyter-widgets/base",
          "model_name": "LayoutModel",
          "model_module_version": "1.2.0",
          "state": {
            "_model_module": "@jupyter-widgets/base",
            "_model_module_version": "1.2.0",
            "_model_name": "LayoutModel",
            "_view_count": null,
            "_view_module": "@jupyter-widgets/base",
            "_view_module_version": "1.2.0",
            "_view_name": "LayoutView",
            "align_content": null,
            "align_items": null,
            "align_self": null,
            "border": null,
            "bottom": null,
            "display": null,
            "flex": null,
            "flex_flow": null,
            "grid_area": null,
            "grid_auto_columns": null,
            "grid_auto_flow": null,
            "grid_auto_rows": null,
            "grid_column": null,
            "grid_gap": null,
            "grid_row": null,
            "grid_template_areas": null,
            "grid_template_columns": null,
            "grid_template_rows": null,
            "height": null,
            "justify_content": null,
            "justify_items": null,
            "left": null,
            "margin": null,
            "max_height": null,
            "max_width": null,
            "min_height": null,
            "min_width": null,
            "object_fit": null,
            "object_position": null,
            "order": null,
            "overflow": null,
            "overflow_x": null,
            "overflow_y": null,
            "padding": null,
            "right": null,
            "top": null,
            "visibility": null,
            "width": null
          }
        },
        "f25768f118f74dd7be5b64f121a6c449": {
          "model_module": "@jupyter-widgets/controls",
          "model_name": "DescriptionStyleModel",
          "model_module_version": "1.5.0",
          "state": {
            "_model_module": "@jupyter-widgets/controls",
            "_model_module_version": "1.5.0",
            "_model_name": "DescriptionStyleModel",
            "_view_count": null,
            "_view_module": "@jupyter-widgets/base",
            "_view_module_version": "1.2.0",
            "_view_name": "StyleView",
            "description_width": ""
          }
        },
        "5774fa01d179426d804a7ba66c12eb2c": {
          "model_module": "@jupyter-widgets/controls",
          "model_name": "HBoxModel",
          "model_module_version": "1.5.0",
          "state": {
            "_dom_classes": [],
            "_model_module": "@jupyter-widgets/controls",
            "_model_module_version": "1.5.0",
            "_model_name": "HBoxModel",
            "_view_count": null,
            "_view_module": "@jupyter-widgets/controls",
            "_view_module_version": "1.5.0",
            "_view_name": "HBoxView",
            "box_style": "",
            "children": [
              "IPY_MODEL_da9ac7a834e44a7e97172e1ac703193a",
              "IPY_MODEL_e356bd2961134e6ab30add0f00ecccc4",
              "IPY_MODEL_d9d7436865b041b09f76a436756fefa4"
            ],
            "layout": "IPY_MODEL_b3c47c303e2a40ae909b5841d7a8c131"
          }
        },
        "da9ac7a834e44a7e97172e1ac703193a": {
          "model_module": "@jupyter-widgets/controls",
          "model_name": "HTMLModel",
          "model_module_version": "1.5.0",
          "state": {
            "_dom_classes": [],
            "_model_module": "@jupyter-widgets/controls",
            "_model_module_version": "1.5.0",
            "_model_name": "HTMLModel",
            "_view_count": null,
            "_view_module": "@jupyter-widgets/controls",
            "_view_module_version": "1.5.0",
            "_view_name": "HTMLView",
            "description": "",
            "description_tooltip": null,
            "layout": "IPY_MODEL_b072911db7694ede85858a72fabe7649",
            "placeholder": "​",
            "style": "IPY_MODEL_1ebfd2dcab774eae89155513dfb7eecc",
            "value": "model.safetensors: 100%"
          }
        },
        "e356bd2961134e6ab30add0f00ecccc4": {
          "model_module": "@jupyter-widgets/controls",
          "model_name": "FloatProgressModel",
          "model_module_version": "1.5.0",
          "state": {
            "_dom_classes": [],
            "_model_module": "@jupyter-widgets/controls",
            "_model_module_version": "1.5.0",
            "_model_name": "FloatProgressModel",
            "_view_count": null,
            "_view_module": "@jupyter-widgets/controls",
            "_view_module_version": "1.5.0",
            "_view_name": "ProgressView",
            "bar_style": "success",
            "description": "",
            "description_tooltip": null,
            "layout": "IPY_MODEL_210be91fa72c4f5d99f8e67bd085bc01",
            "max": 1421700479,
            "min": 0,
            "orientation": "horizontal",
            "style": "IPY_MODEL_bd0e615878a0478b833c67b29bc73a7f",
            "value": 1421700479
          }
        },
        "d9d7436865b041b09f76a436756fefa4": {
          "model_module": "@jupyter-widgets/controls",
          "model_name": "HTMLModel",
          "model_module_version": "1.5.0",
          "state": {
            "_dom_classes": [],
            "_model_module": "@jupyter-widgets/controls",
            "_model_module_version": "1.5.0",
            "_model_name": "HTMLModel",
            "_view_count": null,
            "_view_module": "@jupyter-widgets/controls",
            "_view_module_version": "1.5.0",
            "_view_name": "HTMLView",
            "description": "",
            "description_tooltip": null,
            "layout": "IPY_MODEL_f8dad248f6c845a08b92e28288d41389",
            "placeholder": "​",
            "style": "IPY_MODEL_fd976a12d7214bee8e39b4d3f3325aa3",
            "value": " 1.42G/1.42G [00:11&lt;00:00, 121MB/s]"
          }
        },
        "b3c47c303e2a40ae909b5841d7a8c131": {
          "model_module": "@jupyter-widgets/base",
          "model_name": "LayoutModel",
          "model_module_version": "1.2.0",
          "state": {
            "_model_module": "@jupyter-widgets/base",
            "_model_module_version": "1.2.0",
            "_model_name": "LayoutModel",
            "_view_count": null,
            "_view_module": "@jupyter-widgets/base",
            "_view_module_version": "1.2.0",
            "_view_name": "LayoutView",
            "align_content": null,
            "align_items": null,
            "align_self": null,
            "border": null,
            "bottom": null,
            "display": null,
            "flex": null,
            "flex_flow": null,
            "grid_area": null,
            "grid_auto_columns": null,
            "grid_auto_flow": null,
            "grid_auto_rows": null,
            "grid_column": null,
            "grid_gap": null,
            "grid_row": null,
            "grid_template_areas": null,
            "grid_template_columns": null,
            "grid_template_rows": null,
            "height": null,
            "justify_content": null,
            "justify_items": null,
            "left": null,
            "margin": null,
            "max_height": null,
            "max_width": null,
            "min_height": null,
            "min_width": null,
            "object_fit": null,
            "object_position": null,
            "order": null,
            "overflow": null,
            "overflow_x": null,
            "overflow_y": null,
            "padding": null,
            "right": null,
            "top": null,
            "visibility": null,
            "width": null
          }
        },
        "b072911db7694ede85858a72fabe7649": {
          "model_module": "@jupyter-widgets/base",
          "model_name": "LayoutModel",
          "model_module_version": "1.2.0",
          "state": {
            "_model_module": "@jupyter-widgets/base",
            "_model_module_version": "1.2.0",
            "_model_name": "LayoutModel",
            "_view_count": null,
            "_view_module": "@jupyter-widgets/base",
            "_view_module_version": "1.2.0",
            "_view_name": "LayoutView",
            "align_content": null,
            "align_items": null,
            "align_self": null,
            "border": null,
            "bottom": null,
            "display": null,
            "flex": null,
            "flex_flow": null,
            "grid_area": null,
            "grid_auto_columns": null,
            "grid_auto_flow": null,
            "grid_auto_rows": null,
            "grid_column": null,
            "grid_gap": null,
            "grid_row": null,
            "grid_template_areas": null,
            "grid_template_columns": null,
            "grid_template_rows": null,
            "height": null,
            "justify_content": null,
            "justify_items": null,
            "left": null,
            "margin": null,
            "max_height": null,
            "max_width": null,
            "min_height": null,
            "min_width": null,
            "object_fit": null,
            "object_position": null,
            "order": null,
            "overflow": null,
            "overflow_x": null,
            "overflow_y": null,
            "padding": null,
            "right": null,
            "top": null,
            "visibility": null,
            "width": null
          }
        },
        "1ebfd2dcab774eae89155513dfb7eecc": {
          "model_module": "@jupyter-widgets/controls",
          "model_name": "DescriptionStyleModel",
          "model_module_version": "1.5.0",
          "state": {
            "_model_module": "@jupyter-widgets/controls",
            "_model_module_version": "1.5.0",
            "_model_name": "DescriptionStyleModel",
            "_view_count": null,
            "_view_module": "@jupyter-widgets/base",
            "_view_module_version": "1.2.0",
            "_view_name": "StyleView",
            "description_width": ""
          }
        },
        "210be91fa72c4f5d99f8e67bd085bc01": {
          "model_module": "@jupyter-widgets/base",
          "model_name": "LayoutModel",
          "model_module_version": "1.2.0",
          "state": {
            "_model_module": "@jupyter-widgets/base",
            "_model_module_version": "1.2.0",
            "_model_name": "LayoutModel",
            "_view_count": null,
            "_view_module": "@jupyter-widgets/base",
            "_view_module_version": "1.2.0",
            "_view_name": "LayoutView",
            "align_content": null,
            "align_items": null,
            "align_self": null,
            "border": null,
            "bottom": null,
            "display": null,
            "flex": null,
            "flex_flow": null,
            "grid_area": null,
            "grid_auto_columns": null,
            "grid_auto_flow": null,
            "grid_auto_rows": null,
            "grid_column": null,
            "grid_gap": null,
            "grid_row": null,
            "grid_template_areas": null,
            "grid_template_columns": null,
            "grid_template_rows": null,
            "height": null,
            "justify_content": null,
            "justify_items": null,
            "left": null,
            "margin": null,
            "max_height": null,
            "max_width": null,
            "min_height": null,
            "min_width": null,
            "object_fit": null,
            "object_position": null,
            "order": null,
            "overflow": null,
            "overflow_x": null,
            "overflow_y": null,
            "padding": null,
            "right": null,
            "top": null,
            "visibility": null,
            "width": null
          }
        },
        "bd0e615878a0478b833c67b29bc73a7f": {
          "model_module": "@jupyter-widgets/controls",
          "model_name": "ProgressStyleModel",
          "model_module_version": "1.5.0",
          "state": {
            "_model_module": "@jupyter-widgets/controls",
            "_model_module_version": "1.5.0",
            "_model_name": "ProgressStyleModel",
            "_view_count": null,
            "_view_module": "@jupyter-widgets/base",
            "_view_module_version": "1.2.0",
            "_view_name": "StyleView",
            "bar_color": null,
            "description_width": ""
          }
        },
        "f8dad248f6c845a08b92e28288d41389": {
          "model_module": "@jupyter-widgets/base",
          "model_name": "LayoutModel",
          "model_module_version": "1.2.0",
          "state": {
            "_model_module": "@jupyter-widgets/base",
            "_model_module_version": "1.2.0",
            "_model_name": "LayoutModel",
            "_view_count": null,
            "_view_module": "@jupyter-widgets/base",
            "_view_module_version": "1.2.0",
            "_view_name": "LayoutView",
            "align_content": null,
            "align_items": null,
            "align_self": null,
            "border": null,
            "bottom": null,
            "display": null,
            "flex": null,
            "flex_flow": null,
            "grid_area": null,
            "grid_auto_columns": null,
            "grid_auto_flow": null,
            "grid_auto_rows": null,
            "grid_column": null,
            "grid_gap": null,
            "grid_row": null,
            "grid_template_areas": null,
            "grid_template_columns": null,
            "grid_template_rows": null,
            "height": null,
            "justify_content": null,
            "justify_items": null,
            "left": null,
            "margin": null,
            "max_height": null,
            "max_width": null,
            "min_height": null,
            "min_width": null,
            "object_fit": null,
            "object_position": null,
            "order": null,
            "overflow": null,
            "overflow_x": null,
            "overflow_y": null,
            "padding": null,
            "right": null,
            "top": null,
            "visibility": null,
            "width": null
          }
        },
        "fd976a12d7214bee8e39b4d3f3325aa3": {
          "model_module": "@jupyter-widgets/controls",
          "model_name": "DescriptionStyleModel",
          "model_module_version": "1.5.0",
          "state": {
            "_model_module": "@jupyter-widgets/controls",
            "_model_module_version": "1.5.0",
            "_model_name": "DescriptionStyleModel",
            "_view_count": null,
            "_view_module": "@jupyter-widgets/base",
            "_view_module_version": "1.2.0",
            "_view_name": "StyleView",
            "description_width": ""
          }
        },
        "3c7cfd9bb7e14b9d9ae871cb662ebdfe": {
          "model_module": "@jupyter-widgets/controls",
          "model_name": "HBoxModel",
          "model_module_version": "1.5.0",
          "state": {
            "_dom_classes": [],
            "_model_module": "@jupyter-widgets/controls",
            "_model_module_version": "1.5.0",
            "_model_name": "HBoxModel",
            "_view_count": null,
            "_view_module": "@jupyter-widgets/controls",
            "_view_module_version": "1.5.0",
            "_view_name": "HBoxView",
            "box_style": "",
            "children": [
              "IPY_MODEL_4e137586ca95423dbdb9a9ca908c8ed9",
              "IPY_MODEL_5f239946dfc3403ab686fccb75da6c15",
              "IPY_MODEL_d0ef97b8a086424bbb32ff5ad1d0deb2"
            ],
            "layout": "IPY_MODEL_6ded4c5451c04909a31e141d019dc0b4"
          }
        },
        "4e137586ca95423dbdb9a9ca908c8ed9": {
          "model_module": "@jupyter-widgets/controls",
          "model_name": "HTMLModel",
          "model_module_version": "1.5.0",
          "state": {
            "_dom_classes": [],
            "_model_module": "@jupyter-widgets/controls",
            "_model_module_version": "1.5.0",
            "_model_name": "HTMLModel",
            "_view_count": null,
            "_view_module": "@jupyter-widgets/controls",
            "_view_module_version": "1.5.0",
            "_view_name": "HTMLView",
            "description": "",
            "description_tooltip": null,
            "layout": "IPY_MODEL_536acea5dd8e42259b12a573c055825e",
            "placeholder": "​",
            "style": "IPY_MODEL_7a3124275d6c4d7695b53decb05fb8c1",
            "value": "vocab.json: 100%"
          }
        },
        "5f239946dfc3403ab686fccb75da6c15": {
          "model_module": "@jupyter-widgets/controls",
          "model_name": "FloatProgressModel",
          "model_module_version": "1.5.0",
          "state": {
            "_dom_classes": [],
            "_model_module": "@jupyter-widgets/controls",
            "_model_module_version": "1.5.0",
            "_model_name": "FloatProgressModel",
            "_view_count": null,
            "_view_module": "@jupyter-widgets/controls",
            "_view_module_version": "1.5.0",
            "_view_name": "ProgressView",
            "bar_style": "success",
            "description": "",
            "description_tooltip": null,
            "layout": "IPY_MODEL_502d0795f32840a6a4196d5b7952f5f6",
            "max": 898823,
            "min": 0,
            "orientation": "horizontal",
            "style": "IPY_MODEL_377d010ebb564d7e991576dd04dce665",
            "value": 898823
          }
        },
        "d0ef97b8a086424bbb32ff5ad1d0deb2": {
          "model_module": "@jupyter-widgets/controls",
          "model_name": "HTMLModel",
          "model_module_version": "1.5.0",
          "state": {
            "_dom_classes": [],
            "_model_module": "@jupyter-widgets/controls",
            "_model_module_version": "1.5.0",
            "_model_name": "HTMLModel",
            "_view_count": null,
            "_view_module": "@jupyter-widgets/controls",
            "_view_module_version": "1.5.0",
            "_view_name": "HTMLView",
            "description": "",
            "description_tooltip": null,
            "layout": "IPY_MODEL_4bd9cca6f9074d14a85307a256278060",
            "placeholder": "​",
            "style": "IPY_MODEL_46b3a4ccd9e84cc0bcff53bb8cada0b4",
            "value": " 899k/899k [00:00&lt;00:00, 8.31MB/s]"
          }
        },
        "6ded4c5451c04909a31e141d019dc0b4": {
          "model_module": "@jupyter-widgets/base",
          "model_name": "LayoutModel",
          "model_module_version": "1.2.0",
          "state": {
            "_model_module": "@jupyter-widgets/base",
            "_model_module_version": "1.2.0",
            "_model_name": "LayoutModel",
            "_view_count": null,
            "_view_module": "@jupyter-widgets/base",
            "_view_module_version": "1.2.0",
            "_view_name": "LayoutView",
            "align_content": null,
            "align_items": null,
            "align_self": null,
            "border": null,
            "bottom": null,
            "display": null,
            "flex": null,
            "flex_flow": null,
            "grid_area": null,
            "grid_auto_columns": null,
            "grid_auto_flow": null,
            "grid_auto_rows": null,
            "grid_column": null,
            "grid_gap": null,
            "grid_row": null,
            "grid_template_areas": null,
            "grid_template_columns": null,
            "grid_template_rows": null,
            "height": null,
            "justify_content": null,
            "justify_items": null,
            "left": null,
            "margin": null,
            "max_height": null,
            "max_width": null,
            "min_height": null,
            "min_width": null,
            "object_fit": null,
            "object_position": null,
            "order": null,
            "overflow": null,
            "overflow_x": null,
            "overflow_y": null,
            "padding": null,
            "right": null,
            "top": null,
            "visibility": null,
            "width": null
          }
        },
        "536acea5dd8e42259b12a573c055825e": {
          "model_module": "@jupyter-widgets/base",
          "model_name": "LayoutModel",
          "model_module_version": "1.2.0",
          "state": {
            "_model_module": "@jupyter-widgets/base",
            "_model_module_version": "1.2.0",
            "_model_name": "LayoutModel",
            "_view_count": null,
            "_view_module": "@jupyter-widgets/base",
            "_view_module_version": "1.2.0",
            "_view_name": "LayoutView",
            "align_content": null,
            "align_items": null,
            "align_self": null,
            "border": null,
            "bottom": null,
            "display": null,
            "flex": null,
            "flex_flow": null,
            "grid_area": null,
            "grid_auto_columns": null,
            "grid_auto_flow": null,
            "grid_auto_rows": null,
            "grid_column": null,
            "grid_gap": null,
            "grid_row": null,
            "grid_template_areas": null,
            "grid_template_columns": null,
            "grid_template_rows": null,
            "height": null,
            "justify_content": null,
            "justify_items": null,
            "left": null,
            "margin": null,
            "max_height": null,
            "max_width": null,
            "min_height": null,
            "min_width": null,
            "object_fit": null,
            "object_position": null,
            "order": null,
            "overflow": null,
            "overflow_x": null,
            "overflow_y": null,
            "padding": null,
            "right": null,
            "top": null,
            "visibility": null,
            "width": null
          }
        },
        "7a3124275d6c4d7695b53decb05fb8c1": {
          "model_module": "@jupyter-widgets/controls",
          "model_name": "DescriptionStyleModel",
          "model_module_version": "1.5.0",
          "state": {
            "_model_module": "@jupyter-widgets/controls",
            "_model_module_version": "1.5.0",
            "_model_name": "DescriptionStyleModel",
            "_view_count": null,
            "_view_module": "@jupyter-widgets/base",
            "_view_module_version": "1.2.0",
            "_view_name": "StyleView",
            "description_width": ""
          }
        },
        "502d0795f32840a6a4196d5b7952f5f6": {
          "model_module": "@jupyter-widgets/base",
          "model_name": "LayoutModel",
          "model_module_version": "1.2.0",
          "state": {
            "_model_module": "@jupyter-widgets/base",
            "_model_module_version": "1.2.0",
            "_model_name": "LayoutModel",
            "_view_count": null,
            "_view_module": "@jupyter-widgets/base",
            "_view_module_version": "1.2.0",
            "_view_name": "LayoutView",
            "align_content": null,
            "align_items": null,
            "align_self": null,
            "border": null,
            "bottom": null,
            "display": null,
            "flex": null,
            "flex_flow": null,
            "grid_area": null,
            "grid_auto_columns": null,
            "grid_auto_flow": null,
            "grid_auto_rows": null,
            "grid_column": null,
            "grid_gap": null,
            "grid_row": null,
            "grid_template_areas": null,
            "grid_template_columns": null,
            "grid_template_rows": null,
            "height": null,
            "justify_content": null,
            "justify_items": null,
            "left": null,
            "margin": null,
            "max_height": null,
            "max_width": null,
            "min_height": null,
            "min_width": null,
            "object_fit": null,
            "object_position": null,
            "order": null,
            "overflow": null,
            "overflow_x": null,
            "overflow_y": null,
            "padding": null,
            "right": null,
            "top": null,
            "visibility": null,
            "width": null
          }
        },
        "377d010ebb564d7e991576dd04dce665": {
          "model_module": "@jupyter-widgets/controls",
          "model_name": "ProgressStyleModel",
          "model_module_version": "1.5.0",
          "state": {
            "_model_module": "@jupyter-widgets/controls",
            "_model_module_version": "1.5.0",
            "_model_name": "ProgressStyleModel",
            "_view_count": null,
            "_view_module": "@jupyter-widgets/base",
            "_view_module_version": "1.2.0",
            "_view_name": "StyleView",
            "bar_color": null,
            "description_width": ""
          }
        },
        "4bd9cca6f9074d14a85307a256278060": {
          "model_module": "@jupyter-widgets/base",
          "model_name": "LayoutModel",
          "model_module_version": "1.2.0",
          "state": {
            "_model_module": "@jupyter-widgets/base",
            "_model_module_version": "1.2.0",
            "_model_name": "LayoutModel",
            "_view_count": null,
            "_view_module": "@jupyter-widgets/base",
            "_view_module_version": "1.2.0",
            "_view_name": "LayoutView",
            "align_content": null,
            "align_items": null,
            "align_self": null,
            "border": null,
            "bottom": null,
            "display": null,
            "flex": null,
            "flex_flow": null,
            "grid_area": null,
            "grid_auto_columns": null,
            "grid_auto_flow": null,
            "grid_auto_rows": null,
            "grid_column": null,
            "grid_gap": null,
            "grid_row": null,
            "grid_template_areas": null,
            "grid_template_columns": null,
            "grid_template_rows": null,
            "height": null,
            "justify_content": null,
            "justify_items": null,
            "left": null,
            "margin": null,
            "max_height": null,
            "max_width": null,
            "min_height": null,
            "min_width": null,
            "object_fit": null,
            "object_position": null,
            "order": null,
            "overflow": null,
            "overflow_x": null,
            "overflow_y": null,
            "padding": null,
            "right": null,
            "top": null,
            "visibility": null,
            "width": null
          }
        },
        "46b3a4ccd9e84cc0bcff53bb8cada0b4": {
          "model_module": "@jupyter-widgets/controls",
          "model_name": "DescriptionStyleModel",
          "model_module_version": "1.5.0",
          "state": {
            "_model_module": "@jupyter-widgets/controls",
            "_model_module_version": "1.5.0",
            "_model_name": "DescriptionStyleModel",
            "_view_count": null,
            "_view_module": "@jupyter-widgets/base",
            "_view_module_version": "1.2.0",
            "_view_name": "StyleView",
            "description_width": ""
          }
        },
        "9a46ce816e5742b687750fc149becbbf": {
          "model_module": "@jupyter-widgets/controls",
          "model_name": "HBoxModel",
          "model_module_version": "1.5.0",
          "state": {
            "_dom_classes": [],
            "_model_module": "@jupyter-widgets/controls",
            "_model_module_version": "1.5.0",
            "_model_name": "HBoxModel",
            "_view_count": null,
            "_view_module": "@jupyter-widgets/controls",
            "_view_module_version": "1.5.0",
            "_view_name": "HBoxView",
            "box_style": "",
            "children": [
              "IPY_MODEL_895bbef1fce94c9c86177c0c355f6691",
              "IPY_MODEL_ad5d793e31814f2db2abb98544f8c91c",
              "IPY_MODEL_f5b8e1774225453da8fdcdd391be8b68"
            ],
            "layout": "IPY_MODEL_7b4937e883724682ad301c4015fb510b"
          }
        },
        "895bbef1fce94c9c86177c0c355f6691": {
          "model_module": "@jupyter-widgets/controls",
          "model_name": "HTMLModel",
          "model_module_version": "1.5.0",
          "state": {
            "_dom_classes": [],
            "_model_module": "@jupyter-widgets/controls",
            "_model_module_version": "1.5.0",
            "_model_name": "HTMLModel",
            "_view_count": null,
            "_view_module": "@jupyter-widgets/controls",
            "_view_module_version": "1.5.0",
            "_view_name": "HTMLView",
            "description": "",
            "description_tooltip": null,
            "layout": "IPY_MODEL_680e9b807a734f1aa1f218f78c413ea6",
            "placeholder": "​",
            "style": "IPY_MODEL_76004f2b49124f4585492e91ee6983e1",
            "value": "merges.txt: 100%"
          }
        },
        "ad5d793e31814f2db2abb98544f8c91c": {
          "model_module": "@jupyter-widgets/controls",
          "model_name": "FloatProgressModel",
          "model_module_version": "1.5.0",
          "state": {
            "_dom_classes": [],
            "_model_module": "@jupyter-widgets/controls",
            "_model_module_version": "1.5.0",
            "_model_name": "FloatProgressModel",
            "_view_count": null,
            "_view_module": "@jupyter-widgets/controls",
            "_view_module_version": "1.5.0",
            "_view_name": "ProgressView",
            "bar_style": "success",
            "description": "",
            "description_tooltip": null,
            "layout": "IPY_MODEL_5901a214b6584f64b2152684eea72713",
            "max": 456318,
            "min": 0,
            "orientation": "horizontal",
            "style": "IPY_MODEL_3c9cd524a20843ea89da81f5eaadc466",
            "value": 456318
          }
        },
        "f5b8e1774225453da8fdcdd391be8b68": {
          "model_module": "@jupyter-widgets/controls",
          "model_name": "HTMLModel",
          "model_module_version": "1.5.0",
          "state": {
            "_dom_classes": [],
            "_model_module": "@jupyter-widgets/controls",
            "_model_module_version": "1.5.0",
            "_model_name": "HTMLModel",
            "_view_count": null,
            "_view_module": "@jupyter-widgets/controls",
            "_view_module_version": "1.5.0",
            "_view_name": "HTMLView",
            "description": "",
            "description_tooltip": null,
            "layout": "IPY_MODEL_9e23d72df593464887fa1f0a30ebcd93",
            "placeholder": "​",
            "style": "IPY_MODEL_f015dc6c195e4c06ba5d6cd6073fe181",
            "value": " 456k/456k [00:00&lt;00:00, 11.9MB/s]"
          }
        },
        "7b4937e883724682ad301c4015fb510b": {
          "model_module": "@jupyter-widgets/base",
          "model_name": "LayoutModel",
          "model_module_version": "1.2.0",
          "state": {
            "_model_module": "@jupyter-widgets/base",
            "_model_module_version": "1.2.0",
            "_model_name": "LayoutModel",
            "_view_count": null,
            "_view_module": "@jupyter-widgets/base",
            "_view_module_version": "1.2.0",
            "_view_name": "LayoutView",
            "align_content": null,
            "align_items": null,
            "align_self": null,
            "border": null,
            "bottom": null,
            "display": null,
            "flex": null,
            "flex_flow": null,
            "grid_area": null,
            "grid_auto_columns": null,
            "grid_auto_flow": null,
            "grid_auto_rows": null,
            "grid_column": null,
            "grid_gap": null,
            "grid_row": null,
            "grid_template_areas": null,
            "grid_template_columns": null,
            "grid_template_rows": null,
            "height": null,
            "justify_content": null,
            "justify_items": null,
            "left": null,
            "margin": null,
            "max_height": null,
            "max_width": null,
            "min_height": null,
            "min_width": null,
            "object_fit": null,
            "object_position": null,
            "order": null,
            "overflow": null,
            "overflow_x": null,
            "overflow_y": null,
            "padding": null,
            "right": null,
            "top": null,
            "visibility": null,
            "width": null
          }
        },
        "680e9b807a734f1aa1f218f78c413ea6": {
          "model_module": "@jupyter-widgets/base",
          "model_name": "LayoutModel",
          "model_module_version": "1.2.0",
          "state": {
            "_model_module": "@jupyter-widgets/base",
            "_model_module_version": "1.2.0",
            "_model_name": "LayoutModel",
            "_view_count": null,
            "_view_module": "@jupyter-widgets/base",
            "_view_module_version": "1.2.0",
            "_view_name": "LayoutView",
            "align_content": null,
            "align_items": null,
            "align_self": null,
            "border": null,
            "bottom": null,
            "display": null,
            "flex": null,
            "flex_flow": null,
            "grid_area": null,
            "grid_auto_columns": null,
            "grid_auto_flow": null,
            "grid_auto_rows": null,
            "grid_column": null,
            "grid_gap": null,
            "grid_row": null,
            "grid_template_areas": null,
            "grid_template_columns": null,
            "grid_template_rows": null,
            "height": null,
            "justify_content": null,
            "justify_items": null,
            "left": null,
            "margin": null,
            "max_height": null,
            "max_width": null,
            "min_height": null,
            "min_width": null,
            "object_fit": null,
            "object_position": null,
            "order": null,
            "overflow": null,
            "overflow_x": null,
            "overflow_y": null,
            "padding": null,
            "right": null,
            "top": null,
            "visibility": null,
            "width": null
          }
        },
        "76004f2b49124f4585492e91ee6983e1": {
          "model_module": "@jupyter-widgets/controls",
          "model_name": "DescriptionStyleModel",
          "model_module_version": "1.5.0",
          "state": {
            "_model_module": "@jupyter-widgets/controls",
            "_model_module_version": "1.5.0",
            "_model_name": "DescriptionStyleModel",
            "_view_count": null,
            "_view_module": "@jupyter-widgets/base",
            "_view_module_version": "1.2.0",
            "_view_name": "StyleView",
            "description_width": ""
          }
        },
        "5901a214b6584f64b2152684eea72713": {
          "model_module": "@jupyter-widgets/base",
          "model_name": "LayoutModel",
          "model_module_version": "1.2.0",
          "state": {
            "_model_module": "@jupyter-widgets/base",
            "_model_module_version": "1.2.0",
            "_model_name": "LayoutModel",
            "_view_count": null,
            "_view_module": "@jupyter-widgets/base",
            "_view_module_version": "1.2.0",
            "_view_name": "LayoutView",
            "align_content": null,
            "align_items": null,
            "align_self": null,
            "border": null,
            "bottom": null,
            "display": null,
            "flex": null,
            "flex_flow": null,
            "grid_area": null,
            "grid_auto_columns": null,
            "grid_auto_flow": null,
            "grid_auto_rows": null,
            "grid_column": null,
            "grid_gap": null,
            "grid_row": null,
            "grid_template_areas": null,
            "grid_template_columns": null,
            "grid_template_rows": null,
            "height": null,
            "justify_content": null,
            "justify_items": null,
            "left": null,
            "margin": null,
            "max_height": null,
            "max_width": null,
            "min_height": null,
            "min_width": null,
            "object_fit": null,
            "object_position": null,
            "order": null,
            "overflow": null,
            "overflow_x": null,
            "overflow_y": null,
            "padding": null,
            "right": null,
            "top": null,
            "visibility": null,
            "width": null
          }
        },
        "3c9cd524a20843ea89da81f5eaadc466": {
          "model_module": "@jupyter-widgets/controls",
          "model_name": "ProgressStyleModel",
          "model_module_version": "1.5.0",
          "state": {
            "_model_module": "@jupyter-widgets/controls",
            "_model_module_version": "1.5.0",
            "_model_name": "ProgressStyleModel",
            "_view_count": null,
            "_view_module": "@jupyter-widgets/base",
            "_view_module_version": "1.2.0",
            "_view_name": "StyleView",
            "bar_color": null,
            "description_width": ""
          }
        },
        "9e23d72df593464887fa1f0a30ebcd93": {
          "model_module": "@jupyter-widgets/base",
          "model_name": "LayoutModel",
          "model_module_version": "1.2.0",
          "state": {
            "_model_module": "@jupyter-widgets/base",
            "_model_module_version": "1.2.0",
            "_model_name": "LayoutModel",
            "_view_count": null,
            "_view_module": "@jupyter-widgets/base",
            "_view_module_version": "1.2.0",
            "_view_name": "LayoutView",
            "align_content": null,
            "align_items": null,
            "align_self": null,
            "border": null,
            "bottom": null,
            "display": null,
            "flex": null,
            "flex_flow": null,
            "grid_area": null,
            "grid_auto_columns": null,
            "grid_auto_flow": null,
            "grid_auto_rows": null,
            "grid_column": null,
            "grid_gap": null,
            "grid_row": null,
            "grid_template_areas": null,
            "grid_template_columns": null,
            "grid_template_rows": null,
            "height": null,
            "justify_content": null,
            "justify_items": null,
            "left": null,
            "margin": null,
            "max_height": null,
            "max_width": null,
            "min_height": null,
            "min_width": null,
            "object_fit": null,
            "object_position": null,
            "order": null,
            "overflow": null,
            "overflow_x": null,
            "overflow_y": null,
            "padding": null,
            "right": null,
            "top": null,
            "visibility": null,
            "width": null
          }
        },
        "f015dc6c195e4c06ba5d6cd6073fe181": {
          "model_module": "@jupyter-widgets/controls",
          "model_name": "DescriptionStyleModel",
          "model_module_version": "1.5.0",
          "state": {
            "_model_module": "@jupyter-widgets/controls",
            "_model_module_version": "1.5.0",
            "_model_name": "DescriptionStyleModel",
            "_view_count": null,
            "_view_module": "@jupyter-widgets/base",
            "_view_module_version": "1.2.0",
            "_view_name": "StyleView",
            "description_width": ""
          }
        },
        "78a84952100c41e1a93d443e21373cb9": {
          "model_module": "@jupyter-widgets/controls",
          "model_name": "HBoxModel",
          "model_module_version": "1.5.0",
          "state": {
            "_dom_classes": [],
            "_model_module": "@jupyter-widgets/controls",
            "_model_module_version": "1.5.0",
            "_model_name": "HBoxModel",
            "_view_count": null,
            "_view_module": "@jupyter-widgets/controls",
            "_view_module_version": "1.5.0",
            "_view_name": "HBoxView",
            "box_style": "",
            "children": [
              "IPY_MODEL_21ab35b1c2ba45fdbc640d5c2928608f",
              "IPY_MODEL_f9fc4a2939c44a2cbfc23868ba9dd87b",
              "IPY_MODEL_48972dc17f8e4c42b6f2a011441b48cc"
            ],
            "layout": "IPY_MODEL_f91c279fb0e54234bffb29b8f8bb29fd"
          }
        },
        "21ab35b1c2ba45fdbc640d5c2928608f": {
          "model_module": "@jupyter-widgets/controls",
          "model_name": "HTMLModel",
          "model_module_version": "1.5.0",
          "state": {
            "_dom_classes": [],
            "_model_module": "@jupyter-widgets/controls",
            "_model_module_version": "1.5.0",
            "_model_name": "HTMLModel",
            "_view_count": null,
            "_view_module": "@jupyter-widgets/controls",
            "_view_module_version": "1.5.0",
            "_view_name": "HTMLView",
            "description": "",
            "description_tooltip": null,
            "layout": "IPY_MODEL_28ec409f6138406aae3b1408ff02025b",
            "placeholder": "​",
            "style": "IPY_MODEL_d54fb5dde28c44e29ca613dc3a8f8840",
            "value": "tokenizer.json: 100%"
          }
        },
        "f9fc4a2939c44a2cbfc23868ba9dd87b": {
          "model_module": "@jupyter-widgets/controls",
          "model_name": "FloatProgressModel",
          "model_module_version": "1.5.0",
          "state": {
            "_dom_classes": [],
            "_model_module": "@jupyter-widgets/controls",
            "_model_module_version": "1.5.0",
            "_model_name": "FloatProgressModel",
            "_view_count": null,
            "_view_module": "@jupyter-widgets/controls",
            "_view_module_version": "1.5.0",
            "_view_name": "ProgressView",
            "bar_style": "success",
            "description": "",
            "description_tooltip": null,
            "layout": "IPY_MODEL_2ae345d25e694c45a6f515aa6f162f5b",
            "max": 1355863,
            "min": 0,
            "orientation": "horizontal",
            "style": "IPY_MODEL_02534945453d418aa6a1731f32da26b0",
            "value": 1355863
          }
        },
        "48972dc17f8e4c42b6f2a011441b48cc": {
          "model_module": "@jupyter-widgets/controls",
          "model_name": "HTMLModel",
          "model_module_version": "1.5.0",
          "state": {
            "_dom_classes": [],
            "_model_module": "@jupyter-widgets/controls",
            "_model_module_version": "1.5.0",
            "_model_name": "HTMLModel",
            "_view_count": null,
            "_view_module": "@jupyter-widgets/controls",
            "_view_module_version": "1.5.0",
            "_view_name": "HTMLView",
            "description": "",
            "description_tooltip": null,
            "layout": "IPY_MODEL_09df8e8e5b134190842c7d58b0cfa2ab",
            "placeholder": "​",
            "style": "IPY_MODEL_9b7eaed883094079b04efb804a180183",
            "value": " 1.36M/1.36M [00:00&lt;00:00, 27.8MB/s]"
          }
        },
        "f91c279fb0e54234bffb29b8f8bb29fd": {
          "model_module": "@jupyter-widgets/base",
          "model_name": "LayoutModel",
          "model_module_version": "1.2.0",
          "state": {
            "_model_module": "@jupyter-widgets/base",
            "_model_module_version": "1.2.0",
            "_model_name": "LayoutModel",
            "_view_count": null,
            "_view_module": "@jupyter-widgets/base",
            "_view_module_version": "1.2.0",
            "_view_name": "LayoutView",
            "align_content": null,
            "align_items": null,
            "align_self": null,
            "border": null,
            "bottom": null,
            "display": null,
            "flex": null,
            "flex_flow": null,
            "grid_area": null,
            "grid_auto_columns": null,
            "grid_auto_flow": null,
            "grid_auto_rows": null,
            "grid_column": null,
            "grid_gap": null,
            "grid_row": null,
            "grid_template_areas": null,
            "grid_template_columns": null,
            "grid_template_rows": null,
            "height": null,
            "justify_content": null,
            "justify_items": null,
            "left": null,
            "margin": null,
            "max_height": null,
            "max_width": null,
            "min_height": null,
            "min_width": null,
            "object_fit": null,
            "object_position": null,
            "order": null,
            "overflow": null,
            "overflow_x": null,
            "overflow_y": null,
            "padding": null,
            "right": null,
            "top": null,
            "visibility": null,
            "width": null
          }
        },
        "28ec409f6138406aae3b1408ff02025b": {
          "model_module": "@jupyter-widgets/base",
          "model_name": "LayoutModel",
          "model_module_version": "1.2.0",
          "state": {
            "_model_module": "@jupyter-widgets/base",
            "_model_module_version": "1.2.0",
            "_model_name": "LayoutModel",
            "_view_count": null,
            "_view_module": "@jupyter-widgets/base",
            "_view_module_version": "1.2.0",
            "_view_name": "LayoutView",
            "align_content": null,
            "align_items": null,
            "align_self": null,
            "border": null,
            "bottom": null,
            "display": null,
            "flex": null,
            "flex_flow": null,
            "grid_area": null,
            "grid_auto_columns": null,
            "grid_auto_flow": null,
            "grid_auto_rows": null,
            "grid_column": null,
            "grid_gap": null,
            "grid_row": null,
            "grid_template_areas": null,
            "grid_template_columns": null,
            "grid_template_rows": null,
            "height": null,
            "justify_content": null,
            "justify_items": null,
            "left": null,
            "margin": null,
            "max_height": null,
            "max_width": null,
            "min_height": null,
            "min_width": null,
            "object_fit": null,
            "object_position": null,
            "order": null,
            "overflow": null,
            "overflow_x": null,
            "overflow_y": null,
            "padding": null,
            "right": null,
            "top": null,
            "visibility": null,
            "width": null
          }
        },
        "d54fb5dde28c44e29ca613dc3a8f8840": {
          "model_module": "@jupyter-widgets/controls",
          "model_name": "DescriptionStyleModel",
          "model_module_version": "1.5.0",
          "state": {
            "_model_module": "@jupyter-widgets/controls",
            "_model_module_version": "1.5.0",
            "_model_name": "DescriptionStyleModel",
            "_view_count": null,
            "_view_module": "@jupyter-widgets/base",
            "_view_module_version": "1.2.0",
            "_view_name": "StyleView",
            "description_width": ""
          }
        },
        "2ae345d25e694c45a6f515aa6f162f5b": {
          "model_module": "@jupyter-widgets/base",
          "model_name": "LayoutModel",
          "model_module_version": "1.2.0",
          "state": {
            "_model_module": "@jupyter-widgets/base",
            "_model_module_version": "1.2.0",
            "_model_name": "LayoutModel",
            "_view_count": null,
            "_view_module": "@jupyter-widgets/base",
            "_view_module_version": "1.2.0",
            "_view_name": "LayoutView",
            "align_content": null,
            "align_items": null,
            "align_self": null,
            "border": null,
            "bottom": null,
            "display": null,
            "flex": null,
            "flex_flow": null,
            "grid_area": null,
            "grid_auto_columns": null,
            "grid_auto_flow": null,
            "grid_auto_rows": null,
            "grid_column": null,
            "grid_gap": null,
            "grid_row": null,
            "grid_template_areas": null,
            "grid_template_columns": null,
            "grid_template_rows": null,
            "height": null,
            "justify_content": null,
            "justify_items": null,
            "left": null,
            "margin": null,
            "max_height": null,
            "max_width": null,
            "min_height": null,
            "min_width": null,
            "object_fit": null,
            "object_position": null,
            "order": null,
            "overflow": null,
            "overflow_x": null,
            "overflow_y": null,
            "padding": null,
            "right": null,
            "top": null,
            "visibility": null,
            "width": null
          }
        },
        "02534945453d418aa6a1731f32da26b0": {
          "model_module": "@jupyter-widgets/controls",
          "model_name": "ProgressStyleModel",
          "model_module_version": "1.5.0",
          "state": {
            "_model_module": "@jupyter-widgets/controls",
            "_model_module_version": "1.5.0",
            "_model_name": "ProgressStyleModel",
            "_view_count": null,
            "_view_module": "@jupyter-widgets/base",
            "_view_module_version": "1.2.0",
            "_view_name": "StyleView",
            "bar_color": null,
            "description_width": ""
          }
        },
        "09df8e8e5b134190842c7d58b0cfa2ab": {
          "model_module": "@jupyter-widgets/base",
          "model_name": "LayoutModel",
          "model_module_version": "1.2.0",
          "state": {
            "_model_module": "@jupyter-widgets/base",
            "_model_module_version": "1.2.0",
            "_model_name": "LayoutModel",
            "_view_count": null,
            "_view_module": "@jupyter-widgets/base",
            "_view_module_version": "1.2.0",
            "_view_name": "LayoutView",
            "align_content": null,
            "align_items": null,
            "align_self": null,
            "border": null,
            "bottom": null,
            "display": null,
            "flex": null,
            "flex_flow": null,
            "grid_area": null,
            "grid_auto_columns": null,
            "grid_auto_flow": null,
            "grid_auto_rows": null,
            "grid_column": null,
            "grid_gap": null,
            "grid_row": null,
            "grid_template_areas": null,
            "grid_template_columns": null,
            "grid_template_rows": null,
            "height": null,
            "justify_content": null,
            "justify_items": null,
            "left": null,
            "margin": null,
            "max_height": null,
            "max_width": null,
            "min_height": null,
            "min_width": null,
            "object_fit": null,
            "object_position": null,
            "order": null,
            "overflow": null,
            "overflow_x": null,
            "overflow_y": null,
            "padding": null,
            "right": null,
            "top": null,
            "visibility": null,
            "width": null
          }
        },
        "9b7eaed883094079b04efb804a180183": {
          "model_module": "@jupyter-widgets/controls",
          "model_name": "DescriptionStyleModel",
          "model_module_version": "1.5.0",
          "state": {
            "_model_module": "@jupyter-widgets/controls",
            "_model_module_version": "1.5.0",
            "_model_name": "DescriptionStyleModel",
            "_view_count": null,
            "_view_module": "@jupyter-widgets/base",
            "_view_module_version": "1.2.0",
            "_view_name": "StyleView",
            "description_width": ""
          }
        }
      }
    }
  },
  "nbformat": 4,
  "nbformat_minor": 0
}