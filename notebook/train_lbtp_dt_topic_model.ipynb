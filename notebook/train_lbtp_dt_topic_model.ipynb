{
 "cells": [
  {
   "cell_type": "code",
   "execution_count": 1,
   "metadata": {},
   "outputs": [],
   "source": [
    "import torch\n",
    "import numpy as np\n",
    "import pandas as pd\n",
    "import torch.nn as nn\n",
    "from sklearn.model_selection import train_test_split\n",
    "from torch.optim import Adam\n",
    "from torch.optim.lr_scheduler import ReduceLROnPlateau\n",
    "from torch.utils.data.sampler import WeightedRandomSampler\n",
    "\n",
    "from triagerx.dataset.processor import DatasetProcessor\n",
    "from triagerx.model.lbt_p import LBTPClassifier\n",
    "from triagerx.model.roberta_cnn import RobertaCNNClassifier\n",
    "from triagerx.model.roberta_fcn import RobertaFCNClassifier\n",
    "from triagerx.trainer.model_trainer import ModelTrainer\n",
    "from triagerx.trainer.train_config import TrainConfig\n"
   ]
  },
  {
   "cell_type": "code",
   "execution_count": 2,
   "metadata": {},
   "outputs": [],
   "source": [
    "dataset_path = \"/home/mdafifal.mamun/notebooks/triagerX/notebook/data/deeptriage/gc_20.json\""
   ]
  },
  {
   "cell_type": "code",
   "execution_count": 2,
   "metadata": {},
   "outputs": [],
   "source": [
    "dataset_path = \"/home/mdafifal.mamun/notebooks/triagerX/notebook/data/deeptriage/gc_20_topics_kmeans.csv\"\n",
    "\n",
    "df = pd.read_csv(dataset_path)\n",
    "df = df[df[\"owner\"].notna()]"
   ]
  },
  {
   "cell_type": "code",
   "execution_count": 3,
   "metadata": {},
   "outputs": [],
   "source": [
    "topic_id = 3"
   ]
  },
  {
   "cell_type": "code",
   "execution_count": 4,
   "metadata": {},
   "outputs": [
    {
     "data": {
      "text/plain": [
       "289"
      ]
     },
     "execution_count": 4,
     "metadata": {},
     "output_type": "execute_result"
    }
   ],
   "source": [
    "topic_df = df[df[\"topic_id\"] == topic_id]\n",
    "len(topic_df.owner.unique())"
   ]
  },
  {
   "cell_type": "code",
   "execution_count": 6,
   "metadata": {},
   "outputs": [],
   "source": [
    "developers = topic_df[\"owner\"].value_counts()\n",
    "filtered_developers = developers.index[developers >= 5]\n",
    "topic_df = topic_df[topic_df[\"owner\"].isin(filtered_developers)]"
   ]
  },
  {
   "cell_type": "code",
   "execution_count": 7,
   "metadata": {},
   "outputs": [
    {
     "data": {
      "text/plain": [
       "90"
      ]
     },
     "execution_count": 7,
     "metadata": {},
     "output_type": "execute_result"
    }
   ],
   "source": [
    "len(topic_df.owner.value_counts())"
   ]
  },
  {
   "cell_type": "code",
   "execution_count": 8,
   "metadata": {},
   "outputs": [
    {
     "data": {
      "text/plain": [
       "1629"
      ]
     },
     "execution_count": 8,
     "metadata": {},
     "output_type": "execute_result"
    }
   ],
   "source": [
    "len(topic_df)"
   ]
  },
  {
   "cell_type": "code",
   "execution_count": 9,
   "metadata": {},
   "outputs": [
    {
     "name": "stdout",
     "output_type": "stream",
     "text": [
      "Total number of issues: 1629\n"
     ]
    },
    {
     "name": "stderr",
     "output_type": "stream",
     "text": [
      "/tmp/ipykernel_1701033/1974161368.py:2: FutureWarning: The default value of regex will change from True to False in a future version.\n",
      "  df['text'] = df['text'].str.replace('http[s]?://(?:[a-zA-Z]|[0-9]|[$-_@.&+]|[!*\\(\\),]|(?:%[0-9a-fA-F][0-9a-fA-F]))+', ' ')\n"
     ]
    }
   ],
   "source": [
    "def clean_data(df):\n",
    "    df['text'] = df['text'].str.replace('http[s]?://(?:[a-zA-Z]|[0-9]|[$-_@.&+]|[!*\\(\\),]|(?:%[0-9a-fA-F][0-9a-fA-F]))+', ' ')\n",
    "    df[\"text\"] = df['text'].str.replace(\" +\", \" \", regex=True)\n",
    "\n",
    "    return df\n",
    "    \n",
    "def prepare_dataframe(df: pd.DataFrame) -> pd.DataFrame:\n",
    "    df[\"text\"] = df.apply(\n",
    "            lambda x: \"Title: \"\n",
    "            + str(x[\"issue_title\"])\n",
    "            # + \"\\nIssue Topic: \"\n",
    "            # + str(x[\"issue_label\"])\n",
    "            + \"\\nDescription: \"\n",
    "            + str(x[\"description\"]),\n",
    "            axis=1,\n",
    "        )\n",
    "    \n",
    "    min_length = 15\n",
    "    df = df[df[\"text\"].str.len().gt(min_length)]\n",
    "\n",
    "    # df[\"owner_id\"] = pd.factorize(df[\"assignees\"])[0]\n",
    "\n",
    "    return df\n",
    "\n",
    "df = prepare_dataframe(topic_df)\n",
    "df = clean_data(df)\n",
    "\n",
    "num_issues = len(df)\n",
    "\n",
    "print(f\"Total number of issues: {num_issues}\")"
   ]
  },
  {
   "cell_type": "code",
   "execution_count": 13,
   "metadata": {},
   "outputs": [
    {
     "data": {
      "text/html": [
       "<div>\n",
       "<style scoped>\n",
       "    .dataframe tbody tr th:only-of-type {\n",
       "        vertical-align: middle;\n",
       "    }\n",
       "\n",
       "    .dataframe tbody tr th {\n",
       "        vertical-align: top;\n",
       "    }\n",
       "\n",
       "    .dataframe thead th {\n",
       "        text-align: right;\n",
       "    }\n",
       "</style>\n",
       "<table border=\"1\" class=\"dataframe\">\n",
       "  <thead>\n",
       "    <tr style=\"text-align: right;\">\n",
       "      <th></th>\n",
       "      <th>Unnamed: 0</th>\n",
       "      <th>owner</th>\n",
       "      <th>issue_title</th>\n",
       "      <th>description</th>\n",
       "      <th>topic_id</th>\n",
       "      <th>topic_label</th>\n",
       "      <th>text</th>\n",
       "    </tr>\n",
       "  </thead>\n",
       "  <tbody>\n",
       "    <tr>\n",
       "      <th>38</th>\n",
       "      <td>38</td>\n",
       "      <td>erikwright@chromium.org</td>\n",
       "      <td>2% regression in chromium-rel-win7-dual/dromae...</td>\n",
       "      <td>Graphs:https://chromeperf.appspot.com/report?r...</td>\n",
       "      <td>3</td>\n",
       "      <td>Performance Regression in Blink</td>\n",
       "      <td>Title: 2% regression in chromium-rel-win7-dual...</td>\n",
       "    </tr>\n",
       "    <tr>\n",
       "      <th>87</th>\n",
       "      <td>87</td>\n",
       "      <td>erikwright@chromium.org</td>\n",
       "      <td>2% regression in linux-release/dromaeo.jslibmo...</td>\n",
       "      <td>Graphs:https://chromeperf.appspot.com/report?r...</td>\n",
       "      <td>3</td>\n",
       "      <td>Performance Regression in Blink</td>\n",
       "      <td>Title: 2% regression in linux-release/dromaeo....</td>\n",
       "    </tr>\n",
       "    <tr>\n",
       "      <th>105</th>\n",
       "      <td>105</td>\n",
       "      <td>erikwright@chromium.org</td>\n",
       "      <td>10% regression in linux-release/blink_perf/Par...</td>\n",
       "      <td>Graphs:https://chromeperf.appspot.com/report?r...</td>\n",
       "      <td>3</td>\n",
       "      <td>Performance Regression in Blink</td>\n",
       "      <td>Title: 10% regression in linux-release/blink_p...</td>\n",
       "    </tr>\n",
       "    <tr>\n",
       "      <th>128</th>\n",
       "      <td>128</td>\n",
       "      <td>erikwright@chromium.org</td>\n",
       "      <td>6% regression in chromium-rel-mac9/image_decod...</td>\n",
       "      <td>Graphs:https://chromeperf.appspot.com/report?r...</td>\n",
       "      <td>3</td>\n",
       "      <td>Performance Regression in Blink</td>\n",
       "      <td>Title: 6% regression in chromium-rel-mac9/imag...</td>\n",
       "    </tr>\n",
       "    <tr>\n",
       "      <th>151</th>\n",
       "      <td>151</td>\n",
       "      <td>robertphillips@chromium.org</td>\n",
       "      <td>6% regression in chromium-rel-mac8/moz/vm_resi...</td>\n",
       "      <td>The skia roll to r11489 regresses vm_resident_...</td>\n",
       "      <td>3</td>\n",
       "      <td>Performance Regression in Blink</td>\n",
       "      <td>Title: 6% regression in chromium-rel-mac8/moz/...</td>\n",
       "    </tr>\n",
       "  </tbody>\n",
       "</table>\n",
       "</div>"
      ],
      "text/plain": [
       "     Unnamed: 0                        owner  \\\n",
       "38           38      erikwright@chromium.org   \n",
       "87           87      erikwright@chromium.org   \n",
       "105         105      erikwright@chromium.org   \n",
       "128         128      erikwright@chromium.org   \n",
       "151         151  robertphillips@chromium.org   \n",
       "\n",
       "                                           issue_title  \\\n",
       "38   2% regression in chromium-rel-win7-dual/dromae...   \n",
       "87   2% regression in linux-release/dromaeo.jslibmo...   \n",
       "105  10% regression in linux-release/blink_perf/Par...   \n",
       "128  6% regression in chromium-rel-mac9/image_decod...   \n",
       "151  6% regression in chromium-rel-mac8/moz/vm_resi...   \n",
       "\n",
       "                                           description  topic_id  \\\n",
       "38   Graphs:https://chromeperf.appspot.com/report?r...         3   \n",
       "87   Graphs:https://chromeperf.appspot.com/report?r...         3   \n",
       "105  Graphs:https://chromeperf.appspot.com/report?r...         3   \n",
       "128  Graphs:https://chromeperf.appspot.com/report?r...         3   \n",
       "151  The skia roll to r11489 regresses vm_resident_...         3   \n",
       "\n",
       "                         topic_label  \\\n",
       "38   Performance Regression in Blink   \n",
       "87   Performance Regression in Blink   \n",
       "105  Performance Regression in Blink   \n",
       "128  Performance Regression in Blink   \n",
       "151  Performance Regression in Blink   \n",
       "\n",
       "                                                  text  \n",
       "38   Title: 2% regression in chromium-rel-win7-dual...  \n",
       "87   Title: 2% regression in linux-release/dromaeo....  \n",
       "105  Title: 10% regression in linux-release/blink_p...  \n",
       "128  Title: 6% regression in chromium-rel-mac9/imag...  \n",
       "151  Title: 6% regression in chromium-rel-mac8/moz/...  "
      ]
     },
     "execution_count": 13,
     "metadata": {},
     "output_type": "execute_result"
    }
   ],
   "source": [
    "df.head()"
   ]
  },
  {
   "cell_type": "code",
   "execution_count": 14,
   "metadata": {},
   "outputs": [
    {
     "data": {
      "text/plain": [
       "90"
      ]
     },
     "execution_count": 14,
     "metadata": {},
     "output_type": "execute_result"
    }
   ],
   "source": [
    "len(df[:int(len(df)*0.8)].owner.unique())"
   ]
  },
  {
   "cell_type": "code",
   "execution_count": 15,
   "metadata": {},
   "outputs": [
    {
     "name": "stdout",
     "output_type": "stream",
     "text": [
      "Training data: 1303, Validation data: 326\n",
      "Training dev: 90, Validation dev: 67\n"
     ]
    }
   ],
   "source": [
    "# num_cv = 10\n",
    "# sample_threshold=20\n",
    "# samples_per_block = len(df) // num_cv + 1\n",
    "# print(f\"Samples per block: {samples_per_block}\")\n",
    "\n",
    "# block = 1\n",
    "X_df = df[:int(len(df)*0.8)]\n",
    "y_df = df[int(len(df)*0.8):]\n",
    "\n",
    "\n",
    "train_owners = set(X_df[\"owner\"])\n",
    "test_owners = set(y_df[\"owner\"])\n",
    "\n",
    "unwanted = list(test_owners - train_owners)\n",
    "\n",
    "y_df = y_df[~y_df[\"owner\"].isin(unwanted)]\n",
    "\n",
    "print(f\"Training data: {len(X_df)}, Validation data: {len(y_df)}\")\n",
    "print(f\"Training dev: {len(X_df.owner.unique())}, Validation dev: {len(y_df.owner.unique())}\")\n",
    "\n",
    "lbl2idx = {}\n",
    "\n",
    "for idx, dev in enumerate(train_owners):\n",
    "    lbl2idx[dev] = idx"
   ]
  },
  {
   "cell_type": "code",
   "execution_count": 16,
   "metadata": {},
   "outputs": [
    {
     "name": "stderr",
     "output_type": "stream",
     "text": [
      "/tmp/ipykernel_1701033/798035673.py:1: SettingWithCopyWarning: \n",
      "A value is trying to be set on a copy of a slice from a DataFrame.\n",
      "Try using .loc[row_indexer,col_indexer] = value instead\n",
      "\n",
      "See the caveats in the documentation: https://pandas.pydata.org/pandas-docs/stable/user_guide/indexing.html#returning-a-view-versus-a-copy\n",
      "  X_df[\"owner_id\"] = X_df[\"owner\"].apply(lambda owner: lbl2idx[owner])\n"
     ]
    }
   ],
   "source": [
    "X_df[\"owner_id\"] = X_df[\"owner\"].apply(lambda owner: lbl2idx[owner])\n",
    "y_df[\"owner_id\"] = y_df[\"owner\"].apply(lambda owner: lbl2idx[owner])"
   ]
  },
  {
   "cell_type": "code",
   "execution_count": 19,
   "metadata": {},
   "outputs": [],
   "source": [
    "class CombineLoss(nn.Module):\n",
    "    def __init__(self) -> None:\n",
    "        super().__init__()\n",
    "        self._ce = nn.CrossEntropyLoss()\n",
    "\n",
    "    def forward(\n",
    "        self,\n",
    "        prediction,\n",
    "        labels\n",
    "    ) -> torch.Tensor:\n",
    "        loss = 0\n",
    "\n",
    "        for i in range(len(prediction)):\n",
    "            loss += self._ce(prediction[i], labels)\n",
    "            # print(loss)\n",
    "\n",
    "        return loss"
   ]
  },
  {
   "cell_type": "code",
   "execution_count": 20,
   "metadata": {},
   "outputs": [
    {
     "name": "stderr",
     "output_type": "stream",
     "text": [
      "Some weights of RobertaModel were not initialized from the model checkpoint at roberta-large and are newly initialized: ['roberta.pooler.dense.bias', 'roberta.pooler.dense.weight']\n",
      "You should probably TRAIN this model on a down-stream task to be able to use it for predictions and inference.\n"
     ]
    }
   ],
   "source": [
    "model = LBTPClassifier(\n",
    "    output_size=len(X_df.owner_id.unique())\n",
    ")"
   ]
  },
  {
   "cell_type": "code",
   "execution_count": 21,
   "metadata": {},
   "outputs": [],
   "source": [
    "class_counts = np.bincount(X_df[\"owner_id\"])\n",
    "num_samples = sum(class_counts)\n",
    "labels = X_df[\"owner_id\"].to_list() #corresponding labels of samples\n",
    "\n",
    "class_weights = [num_samples/class_counts[i] for i in range(len(class_counts))]\n",
    "weights = [class_weights[labels[i]] for i in range(int(num_samples))]\n",
    "sampler = WeightedRandomSampler(torch.DoubleTensor(weights), int(num_samples))"
   ]
  },
  {
   "cell_type": "code",
   "execution_count": 22,
   "metadata": {},
   "outputs": [],
   "source": [
    "learning_rate = 1e-5\n",
    "epochs = 20\n",
    "batch_size = 15"
   ]
  },
  {
   "cell_type": "code",
   "execution_count": 23,
   "metadata": {},
   "outputs": [],
   "source": [
    "sampler_name = sampler.__class__.__name__ if sampler else \"None\"\n",
    "model_name = model.__class__.__name__\n",
    "\n",
    "output_file = f\"dt_lbtp_kmeans_topic_{topic_id}\"\n",
    "output_path = f\"/home/mdafifal.mamun/notebooks/triagerX/output/{output_file}.pt\"\n",
    "\n",
    "wandb_config = {\n",
    "        \"project\": \"triagerx_topic_model\",\n",
    "        \"name\": f\"run_{output_file}\",\n",
    "        \"config\": {\n",
    "        \"learning_rate\": learning_rate,\n",
    "        \"architecture\": \"Roberta-FCN\",\n",
    "        \"dataset\": \"deeptriage\",\n",
    "        \"epochs\": epochs,\n",
    "    }\n",
    "}\n",
    "\n",
    "criterion = CombineLoss()\n",
    "optimizer = Adam(model.parameters(), lr=learning_rate)\n",
    "scheduler = ReduceLROnPlateau(optimizer, \"min\", patience=10, factor=0.1, threshold=1e-8)\n",
    "\n",
    "train_config = TrainConfig(\n",
    "    optimizer=optimizer,\n",
    "    criterion=criterion,\n",
    "    train_dataset=X_df,\n",
    "    validation_dataset=y_df,\n",
    "    learning_rate=learning_rate,\n",
    "    batch_size=batch_size,\n",
    "    epochs=epochs,\n",
    "    output_file=output_path,\n",
    "    sampler=sampler,\n",
    "    scheduler=scheduler,\n",
    "    wandb=wandb_config\n",
    ")"
   ]
  },
  {
   "cell_type": "code",
   "execution_count": 24,
   "metadata": {},
   "outputs": [
    {
     "name": "stderr",
     "output_type": "stream",
     "text": [
      "\u001b[32m2024-02-13 20:50:04.235\u001b[0m | \u001b[34m\u001b[1mDEBUG   \u001b[0m | \u001b[36mtriagerx.dataset.triage_dataset\u001b[0m:\u001b[36m__init__\u001b[0m:\u001b[36m17\u001b[0m - \u001b[34m\u001b[1mGenerating torch dataset...\u001b[0m\n",
      "\u001b[32m2024-02-13 20:50:04.237\u001b[0m | \u001b[34m\u001b[1mDEBUG   \u001b[0m | \u001b[36mtriagerx.dataset.triage_dataset\u001b[0m:\u001b[36m__init__\u001b[0m:\u001b[36m20\u001b[0m - \u001b[34m\u001b[1mTokenizing texts...\u001b[0m\n",
      "\u001b[32m2024-02-13 20:50:04.830\u001b[0m | \u001b[34m\u001b[1mDEBUG   \u001b[0m | \u001b[36mtriagerx.dataset.triage_dataset\u001b[0m:\u001b[36m__init__\u001b[0m:\u001b[36m17\u001b[0m - \u001b[34m\u001b[1mGenerating torch dataset...\u001b[0m\n",
      "\u001b[32m2024-02-13 20:50:04.832\u001b[0m | \u001b[34m\u001b[1mDEBUG   \u001b[0m | \u001b[36mtriagerx.dataset.triage_dataset\u001b[0m:\u001b[36m__init__\u001b[0m:\u001b[36m20\u001b[0m - \u001b[34m\u001b[1mTokenizing texts...\u001b[0m\n",
      "\u001b[32m2024-02-13 20:50:04.979\u001b[0m | \u001b[34m\u001b[1mDEBUG   \u001b[0m | \u001b[36mtriagerx.trainer.model_trainer\u001b[0m:\u001b[36mtrain\u001b[0m:\u001b[36m33\u001b[0m - \u001b[34m\u001b[1mInitializing wandb...\u001b[0m\n",
      "\u001b[34m\u001b[1mwandb\u001b[0m: Currently logged in as: \u001b[33mafifaniks\u001b[0m. Use \u001b[1m`wandb login --relogin`\u001b[0m to force relogin\n"
     ]
    },
    {
     "data": {
      "text/html": [
       "wandb version 0.16.3 is available!  To upgrade, please run:\n",
       " $ pip install wandb --upgrade"
      ],
      "text/plain": [
       "<IPython.core.display.HTML object>"
      ]
     },
     "metadata": {},
     "output_type": "display_data"
    },
    {
     "data": {
      "text/html": [
       "Tracking run with wandb version 0.16.2"
      ],
      "text/plain": [
       "<IPython.core.display.HTML object>"
      ]
     },
     "metadata": {},
     "output_type": "display_data"
    },
    {
     "data": {
      "text/html": [
       "Run data is saved locally in <code>/home/mdafifal.mamun/notebooks/triagerX/wandb/run-20240213_205007-ljpd863c</code>"
      ],
      "text/plain": [
       "<IPython.core.display.HTML object>"
      ]
     },
     "metadata": {},
     "output_type": "display_data"
    },
    {
     "data": {
      "text/html": [
       "Syncing run <strong><a href='https://wandb.ai/afifaniks/triagerx_topic_model/runs/ljpd863c' target=\"_blank\">run_dt_lbtp_kmeans_topic_3</a></strong> to <a href='https://wandb.ai/afifaniks/triagerx_topic_model' target=\"_blank\">Weights & Biases</a> (<a href='https://wandb.me/run' target=\"_blank\">docs</a>)<br/>"
      ],
      "text/plain": [
       "<IPython.core.display.HTML object>"
      ]
     },
     "metadata": {},
     "output_type": "display_data"
    },
    {
     "data": {
      "text/html": [
       " View project at <a href='https://wandb.ai/afifaniks/triagerx_topic_model' target=\"_blank\">https://wandb.ai/afifaniks/triagerx_topic_model</a>"
      ],
      "text/plain": [
       "<IPython.core.display.HTML object>"
      ]
     },
     "metadata": {},
     "output_type": "display_data"
    },
    {
     "data": {
      "text/html": [
       " View run at <a href='https://wandb.ai/afifaniks/triagerx_topic_model/runs/ljpd863c' target=\"_blank\">https://wandb.ai/afifaniks/triagerx_topic_model/runs/ljpd863c</a>"
      ],
      "text/plain": [
       "<IPython.core.display.HTML object>"
      ]
     },
     "metadata": {},
     "output_type": "display_data"
    },
    {
     "name": "stderr",
     "output_type": "stream",
     "text": [
      "\u001b[32m2024-02-13 20:50:15.077\u001b[0m | \u001b[34m\u001b[1mDEBUG   \u001b[0m | \u001b[36mtriagerx.trainer.model_trainer\u001b[0m:\u001b[36mtrain\u001b[0m:\u001b[36m48\u001b[0m - \u001b[34m\u001b[1mSelected compute device: cuda\u001b[0m\n",
      "  0%|          | 0/87 [00:00<?, ?it/s]/home/mdafifal.mamun/miniconda3/envs/trx/lib/python3.10/site-packages/torch/nn/modules/conv.py:456: UserWarning: Applied workaround for CuDNN issue, install nvrtc.so (Triggered internally at /opt/conda/conda-bld/pytorch_1702400366987/work/aten/src/ATen/native/cudnn/Conv_v8.cpp:80.)\n",
      "  return F.conv2d(input, weight, bias, self.stride,\n",
      "100%|██████████| 87/87 [00:46<00:00,  1.86it/s]\n",
      "/home/mdafifal.mamun/miniconda3/envs/trx/lib/python3.10/site-packages/sklearn/metrics/_classification.py:1471: UndefinedMetricWarning: Precision and F-score are ill-defined and being set to 0.0 in labels with no predicted samples. Use `zero_division` parameter to control this behavior.\n",
      "  _warn_prf(average, modifier, msg_start, len(result))\n",
      "/home/mdafifal.mamun/miniconda3/envs/trx/lib/python3.10/site-packages/sklearn/metrics/_classification.py:1471: UndefinedMetricWarning: Recall and F-score are ill-defined and being set to 0.0 in labels with no true samples. Use `zero_division` parameter to control this behavior.\n",
      "  _warn_prf(average, modifier, msg_start, len(result))\n",
      "\u001b[32m2024-02-13 20:51:10.623\u001b[0m | \u001b[1mINFO    \u001b[0m | \u001b[36mtriagerx.trainer.model_trainer\u001b[0m:\u001b[36m_log_step\u001b[0m:\u001b[36m173\u001b[0m - \u001b[1mEpochs: 1 | Train Loss:  1.197                     | Train Accuracy:  0.068                     | Val Loss:  1.226                     | Val Accuracy:  0.003                     | Top 10: 0.07668711656441718                     | Precision:  0.001                     | Recall:  0.014                     | F1-score:  0.001\u001b[0m\n",
      "\u001b[32m2024-02-13 20:51:10.627\u001b[0m | \u001b[32m\u001b[1mSUCCESS \u001b[0m | \u001b[36mtriagerx.trainer.model_trainer\u001b[0m:\u001b[36mtrain\u001b[0m:\u001b[36m143\u001b[0m - \u001b[32m\u001b[1mFound new best model. Saving weights...\u001b[0m\n",
      "100%|██████████| 87/87 [00:47<00:00,  1.84it/s]\n",
      "/home/mdafifal.mamun/miniconda3/envs/trx/lib/python3.10/site-packages/sklearn/metrics/_classification.py:1471: UndefinedMetricWarning: Precision and F-score are ill-defined and being set to 0.0 in labels with no predicted samples. Use `zero_division` parameter to control this behavior.\n",
      "  _warn_prf(average, modifier, msg_start, len(result))\n",
      "/home/mdafifal.mamun/miniconda3/envs/trx/lib/python3.10/site-packages/sklearn/metrics/_classification.py:1471: UndefinedMetricWarning: Recall and F-score are ill-defined and being set to 0.0 in labels with no true samples. Use `zero_division` parameter to control this behavior.\n",
      "  _warn_prf(average, modifier, msg_start, len(result))\n",
      "\u001b[32m2024-02-13 20:52:09.939\u001b[0m | \u001b[1mINFO    \u001b[0m | \u001b[36mtriagerx.trainer.model_trainer\u001b[0m:\u001b[36m_log_step\u001b[0m:\u001b[36m173\u001b[0m - \u001b[1mEpochs: 2 | Train Loss:  1.128                     | Train Accuracy:  0.190                     | Val Loss:  1.208                     | Val Accuracy:  0.015                     | Top 10: 0.10122699386503067                     | Precision:  0.004                     | Recall:  0.036                     | F1-score:  0.007\u001b[0m\n",
      "\u001b[32m2024-02-13 20:52:09.942\u001b[0m | \u001b[32m\u001b[1mSUCCESS \u001b[0m | \u001b[36mtriagerx.trainer.model_trainer\u001b[0m:\u001b[36mtrain\u001b[0m:\u001b[36m143\u001b[0m - \u001b[32m\u001b[1mFound new best model. Saving weights...\u001b[0m\n",
      "100%|██████████| 87/87 [00:47<00:00,  1.84it/s]\n",
      "/home/mdafifal.mamun/miniconda3/envs/trx/lib/python3.10/site-packages/sklearn/metrics/_classification.py:1471: UndefinedMetricWarning: Precision and F-score are ill-defined and being set to 0.0 in labels with no predicted samples. Use `zero_division` parameter to control this behavior.\n",
      "  _warn_prf(average, modifier, msg_start, len(result))\n",
      "/home/mdafifal.mamun/miniconda3/envs/trx/lib/python3.10/site-packages/sklearn/metrics/_classification.py:1471: UndefinedMetricWarning: Recall and F-score are ill-defined and being set to 0.0 in labels with no true samples. Use `zero_division` parameter to control this behavior.\n",
      "  _warn_prf(average, modifier, msg_start, len(result))\n",
      "\u001b[32m2024-02-13 20:53:09.199\u001b[0m | \u001b[1mINFO    \u001b[0m | \u001b[36mtriagerx.trainer.model_trainer\u001b[0m:\u001b[36m_log_step\u001b[0m:\u001b[36m173\u001b[0m - \u001b[1mEpochs: 3 | Train Loss:  1.025                     | Train Accuracy:  0.346                     | Val Loss:  1.189                     | Val Accuracy:  0.012                     | Top 10: 0.20552147239263804                     | Precision:  0.007                     | Recall:  0.041                     | F1-score:  0.012\u001b[0m\n",
      "\u001b[32m2024-02-13 20:53:09.202\u001b[0m | \u001b[32m\u001b[1mSUCCESS \u001b[0m | \u001b[36mtriagerx.trainer.model_trainer\u001b[0m:\u001b[36mtrain\u001b[0m:\u001b[36m143\u001b[0m - \u001b[32m\u001b[1mFound new best model. Saving weights...\u001b[0m\n",
      "100%|██████████| 87/87 [00:47<00:00,  1.84it/s]\n",
      "/home/mdafifal.mamun/miniconda3/envs/trx/lib/python3.10/site-packages/sklearn/metrics/_classification.py:1471: UndefinedMetricWarning: Precision and F-score are ill-defined and being set to 0.0 in labels with no predicted samples. Use `zero_division` parameter to control this behavior.\n",
      "  _warn_prf(average, modifier, msg_start, len(result))\n",
      "/home/mdafifal.mamun/miniconda3/envs/trx/lib/python3.10/site-packages/sklearn/metrics/_classification.py:1471: UndefinedMetricWarning: Recall and F-score are ill-defined and being set to 0.0 in labels with no true samples. Use `zero_division` parameter to control this behavior.\n",
      "  _warn_prf(average, modifier, msg_start, len(result))\n",
      "\u001b[32m2024-02-13 20:54:08.679\u001b[0m | \u001b[1mINFO    \u001b[0m | \u001b[36mtriagerx.trainer.model_trainer\u001b[0m:\u001b[36m_log_step\u001b[0m:\u001b[36m173\u001b[0m - \u001b[1mEpochs: 4 | Train Loss:  0.944                     | Train Accuracy:  0.408                     | Val Loss:  1.154                     | Val Accuracy:  0.064                     | Top 10: 0.3987730061349693                     | Precision:  0.011                     | Recall:  0.034                     | F1-score:  0.013\u001b[0m\n",
      "\u001b[32m2024-02-13 20:54:08.682\u001b[0m | \u001b[32m\u001b[1mSUCCESS \u001b[0m | \u001b[36mtriagerx.trainer.model_trainer\u001b[0m:\u001b[36mtrain\u001b[0m:\u001b[36m143\u001b[0m - \u001b[32m\u001b[1mFound new best model. Saving weights...\u001b[0m\n",
      "100%|██████████| 87/87 [00:47<00:00,  1.85it/s]\n",
      "/home/mdafifal.mamun/miniconda3/envs/trx/lib/python3.10/site-packages/sklearn/metrics/_classification.py:1471: UndefinedMetricWarning: Precision and F-score are ill-defined and being set to 0.0 in labels with no predicted samples. Use `zero_division` parameter to control this behavior.\n",
      "  _warn_prf(average, modifier, msg_start, len(result))\n",
      "/home/mdafifal.mamun/miniconda3/envs/trx/lib/python3.10/site-packages/sklearn/metrics/_classification.py:1471: UndefinedMetricWarning: Recall and F-score are ill-defined and being set to 0.0 in labels with no true samples. Use `zero_division` parameter to control this behavior.\n",
      "  _warn_prf(average, modifier, msg_start, len(result))\n",
      "\u001b[32m2024-02-13 20:55:08.214\u001b[0m | \u001b[1mINFO    \u001b[0m | \u001b[36mtriagerx.trainer.model_trainer\u001b[0m:\u001b[36m_log_step\u001b[0m:\u001b[36m173\u001b[0m - \u001b[1mEpochs: 5 | Train Loss:  0.862                     | Train Accuracy:  0.467                     | Val Loss:  1.181                     | Val Accuracy:  0.025                     | Top 10: 0.23006134969325154                     | Precision:  0.009                     | Recall:  0.039                     | F1-score:  0.012\u001b[0m\n",
      "100%|██████████| 87/87 [00:47<00:00,  1.85it/s]\n",
      "/home/mdafifal.mamun/miniconda3/envs/trx/lib/python3.10/site-packages/sklearn/metrics/_classification.py:1471: UndefinedMetricWarning: Precision and F-score are ill-defined and being set to 0.0 in labels with no predicted samples. Use `zero_division` parameter to control this behavior.\n",
      "  _warn_prf(average, modifier, msg_start, len(result))\n",
      "/home/mdafifal.mamun/miniconda3/envs/trx/lib/python3.10/site-packages/sklearn/metrics/_classification.py:1471: UndefinedMetricWarning: Recall and F-score are ill-defined and being set to 0.0 in labels with no true samples. Use `zero_division` parameter to control this behavior.\n",
      "  _warn_prf(average, modifier, msg_start, len(result))\n",
      "\u001b[32m2024-02-13 20:56:03.639\u001b[0m | \u001b[1mINFO    \u001b[0m | \u001b[36mtriagerx.trainer.model_trainer\u001b[0m:\u001b[36m_log_step\u001b[0m:\u001b[36m173\u001b[0m - \u001b[1mEpochs: 6 | Train Loss:  0.778                     | Train Accuracy:  0.562                     | Val Loss:  1.201                     | Val Accuracy:  0.021                     | Top 10: 0.15030674846625766                     | Precision:  0.009                     | Recall:  0.032                     | F1-score:  0.011\u001b[0m\n",
      "100%|██████████| 87/87 [00:47<00:00,  1.85it/s]\n",
      "/home/mdafifal.mamun/miniconda3/envs/trx/lib/python3.10/site-packages/sklearn/metrics/_classification.py:1471: UndefinedMetricWarning: Precision and F-score are ill-defined and being set to 0.0 in labels with no predicted samples. Use `zero_division` parameter to control this behavior.\n",
      "  _warn_prf(average, modifier, msg_start, len(result))\n",
      "/home/mdafifal.mamun/miniconda3/envs/trx/lib/python3.10/site-packages/sklearn/metrics/_classification.py:1471: UndefinedMetricWarning: Recall and F-score are ill-defined and being set to 0.0 in labels with no true samples. Use `zero_division` parameter to control this behavior.\n",
      "  _warn_prf(average, modifier, msg_start, len(result))\n",
      "\u001b[32m2024-02-13 20:56:59.060\u001b[0m | \u001b[1mINFO    \u001b[0m | \u001b[36mtriagerx.trainer.model_trainer\u001b[0m:\u001b[36m_log_step\u001b[0m:\u001b[36m173\u001b[0m - \u001b[1mEpochs: 7 | Train Loss:  0.717                     | Train Accuracy:  0.596                     | Val Loss:  1.187                     | Val Accuracy:  0.037                     | Top 10: 0.22085889570552147                     | Precision:  0.023                     | Recall:  0.036                     | F1-score:  0.017\u001b[0m\n",
      "100%|██████████| 87/87 [00:47<00:00,  1.85it/s]\n",
      "/home/mdafifal.mamun/miniconda3/envs/trx/lib/python3.10/site-packages/sklearn/metrics/_classification.py:1471: UndefinedMetricWarning: Precision and F-score are ill-defined and being set to 0.0 in labels with no predicted samples. Use `zero_division` parameter to control this behavior.\n",
      "  _warn_prf(average, modifier, msg_start, len(result))\n",
      "/home/mdafifal.mamun/miniconda3/envs/trx/lib/python3.10/site-packages/sklearn/metrics/_classification.py:1471: UndefinedMetricWarning: Recall and F-score are ill-defined and being set to 0.0 in labels with no true samples. Use `zero_division` parameter to control this behavior.\n",
      "  _warn_prf(average, modifier, msg_start, len(result))\n",
      "\u001b[32m2024-02-13 20:57:54.500\u001b[0m | \u001b[1mINFO    \u001b[0m | \u001b[36mtriagerx.trainer.model_trainer\u001b[0m:\u001b[36m_log_step\u001b[0m:\u001b[36m173\u001b[0m - \u001b[1mEpochs: 8 | Train Loss:  0.648                     | Train Accuracy:  0.666                     | Val Loss:  1.186                     | Val Accuracy:  0.018                     | Top 10: 0.2361963190184049                     | Precision:  0.013                     | Recall:  0.028                     | F1-score:  0.010\u001b[0m\n",
      "100%|██████████| 87/87 [00:47<00:00,  1.85it/s]\n",
      "/home/mdafifal.mamun/miniconda3/envs/trx/lib/python3.10/site-packages/sklearn/metrics/_classification.py:1471: UndefinedMetricWarning: Precision and F-score are ill-defined and being set to 0.0 in labels with no predicted samples. Use `zero_division` parameter to control this behavior.\n",
      "  _warn_prf(average, modifier, msg_start, len(result))\n",
      "/home/mdafifal.mamun/miniconda3/envs/trx/lib/python3.10/site-packages/sklearn/metrics/_classification.py:1471: UndefinedMetricWarning: Recall and F-score are ill-defined and being set to 0.0 in labels with no true samples. Use `zero_division` parameter to control this behavior.\n",
      "  _warn_prf(average, modifier, msg_start, len(result))\n",
      "\u001b[32m2024-02-13 20:58:49.919\u001b[0m | \u001b[1mINFO    \u001b[0m | \u001b[36mtriagerx.trainer.model_trainer\u001b[0m:\u001b[36m_log_step\u001b[0m:\u001b[36m173\u001b[0m - \u001b[1mEpochs: 9 | Train Loss:  0.602                     | Train Accuracy:  0.672                     | Val Loss:  1.185                     | Val Accuracy:  0.028                     | Top 10: 0.2392638036809816                     | Precision:  0.017                     | Recall:  0.040                     | F1-score:  0.013\u001b[0m\n",
      "100%|██████████| 87/87 [00:47<00:00,  1.85it/s]\n",
      "/home/mdafifal.mamun/miniconda3/envs/trx/lib/python3.10/site-packages/sklearn/metrics/_classification.py:1471: UndefinedMetricWarning: Precision and F-score are ill-defined and being set to 0.0 in labels with no predicted samples. Use `zero_division` parameter to control this behavior.\n",
      "  _warn_prf(average, modifier, msg_start, len(result))\n",
      "/home/mdafifal.mamun/miniconda3/envs/trx/lib/python3.10/site-packages/sklearn/metrics/_classification.py:1471: UndefinedMetricWarning: Recall and F-score are ill-defined and being set to 0.0 in labels with no true samples. Use `zero_division` parameter to control this behavior.\n",
      "  _warn_prf(average, modifier, msg_start, len(result))\n",
      "\u001b[32m2024-02-13 20:59:45.366\u001b[0m | \u001b[1mINFO    \u001b[0m | \u001b[36mtriagerx.trainer.model_trainer\u001b[0m:\u001b[36m_log_step\u001b[0m:\u001b[36m173\u001b[0m - \u001b[1mEpochs: 10 | Train Loss:  0.541                     | Train Accuracy:  0.718                     | Val Loss:  1.173                     | Val Accuracy:  0.028                     | Top 10: 0.26380368098159507                     | Precision:  0.017                     | Recall:  0.031                     | F1-score:  0.014\u001b[0m\n",
      "100%|██████████| 87/87 [00:47<00:00,  1.85it/s]\n",
      "/home/mdafifal.mamun/miniconda3/envs/trx/lib/python3.10/site-packages/sklearn/metrics/_classification.py:1471: UndefinedMetricWarning: Precision and F-score are ill-defined and being set to 0.0 in labels with no predicted samples. Use `zero_division` parameter to control this behavior.\n",
      "  _warn_prf(average, modifier, msg_start, len(result))\n",
      "/home/mdafifal.mamun/miniconda3/envs/trx/lib/python3.10/site-packages/sklearn/metrics/_classification.py:1471: UndefinedMetricWarning: Recall and F-score are ill-defined and being set to 0.0 in labels with no true samples. Use `zero_division` parameter to control this behavior.\n",
      "  _warn_prf(average, modifier, msg_start, len(result))\n",
      "\u001b[32m2024-02-13 21:00:40.786\u001b[0m | \u001b[1mINFO    \u001b[0m | \u001b[36mtriagerx.trainer.model_trainer\u001b[0m:\u001b[36m_log_step\u001b[0m:\u001b[36m173\u001b[0m - \u001b[1mEpochs: 11 | Train Loss:  0.495                     | Train Accuracy:  0.748                     | Val Loss:  1.167                     | Val Accuracy:  0.037                     | Top 10: 0.24846625766871167                     | Precision:  0.022                     | Recall:  0.037                     | F1-score:  0.017\u001b[0m\n",
      "100%|██████████| 87/87 [00:47<00:00,  1.85it/s]\n",
      "/home/mdafifal.mamun/miniconda3/envs/trx/lib/python3.10/site-packages/sklearn/metrics/_classification.py:1471: UndefinedMetricWarning: Precision and F-score are ill-defined and being set to 0.0 in labels with no predicted samples. Use `zero_division` parameter to control this behavior.\n",
      "  _warn_prf(average, modifier, msg_start, len(result))\n",
      "/home/mdafifal.mamun/miniconda3/envs/trx/lib/python3.10/site-packages/sklearn/metrics/_classification.py:1471: UndefinedMetricWarning: Recall and F-score are ill-defined and being set to 0.0 in labels with no true samples. Use `zero_division` parameter to control this behavior.\n",
      "  _warn_prf(average, modifier, msg_start, len(result))\n",
      "\u001b[32m2024-02-13 21:01:36.213\u001b[0m | \u001b[1mINFO    \u001b[0m | \u001b[36mtriagerx.trainer.model_trainer\u001b[0m:\u001b[36m_log_step\u001b[0m:\u001b[36m173\u001b[0m - \u001b[1mEpochs: 12 | Train Loss:  0.434                     | Train Accuracy:  0.797                     | Val Loss:  1.191                     | Val Accuracy:  0.037                     | Top 10: 0.22392638036809817                     | Precision:  0.030                     | Recall:  0.051                     | F1-score:  0.024\u001b[0m\n",
      "100%|██████████| 87/87 [00:47<00:00,  1.85it/s]\n",
      "/home/mdafifal.mamun/miniconda3/envs/trx/lib/python3.10/site-packages/sklearn/metrics/_classification.py:1471: UndefinedMetricWarning: Precision and F-score are ill-defined and being set to 0.0 in labels with no predicted samples. Use `zero_division` parameter to control this behavior.\n",
      "  _warn_prf(average, modifier, msg_start, len(result))\n",
      "/home/mdafifal.mamun/miniconda3/envs/trx/lib/python3.10/site-packages/sklearn/metrics/_classification.py:1471: UndefinedMetricWarning: Recall and F-score are ill-defined and being set to 0.0 in labels with no true samples. Use `zero_division` parameter to control this behavior.\n",
      "  _warn_prf(average, modifier, msg_start, len(result))\n",
      "\u001b[32m2024-02-13 21:02:31.652\u001b[0m | \u001b[1mINFO    \u001b[0m | \u001b[36mtriagerx.trainer.model_trainer\u001b[0m:\u001b[36m_log_step\u001b[0m:\u001b[36m173\u001b[0m - \u001b[1mEpochs: 13 | Train Loss:  0.409                     | Train Accuracy:  0.806                     | Val Loss:  1.156                     | Val Accuracy:  0.049                     | Top 10: 0.32515337423312884                     | Precision:  0.032                     | Recall:  0.036                     | F1-score:  0.019\u001b[0m\n",
      "100%|██████████| 87/87 [00:47<00:00,  1.85it/s]\n",
      "/home/mdafifal.mamun/miniconda3/envs/trx/lib/python3.10/site-packages/sklearn/metrics/_classification.py:1471: UndefinedMetricWarning: Precision and F-score are ill-defined and being set to 0.0 in labels with no predicted samples. Use `zero_division` parameter to control this behavior.\n",
      "  _warn_prf(average, modifier, msg_start, len(result))\n",
      "/home/mdafifal.mamun/miniconda3/envs/trx/lib/python3.10/site-packages/sklearn/metrics/_classification.py:1471: UndefinedMetricWarning: Recall and F-score are ill-defined and being set to 0.0 in labels with no true samples. Use `zero_division` parameter to control this behavior.\n",
      "  _warn_prf(average, modifier, msg_start, len(result))\n",
      "\u001b[32m2024-02-13 21:03:27.061\u001b[0m | \u001b[1mINFO    \u001b[0m | \u001b[36mtriagerx.trainer.model_trainer\u001b[0m:\u001b[36m_log_step\u001b[0m:\u001b[36m173\u001b[0m - \u001b[1mEpochs: 14 | Train Loss:  0.370                     | Train Accuracy:  0.829                     | Val Loss:  1.153                     | Val Accuracy:  0.049                     | Top 10: 0.34662576687116564                     | Precision:  0.021                     | Recall:  0.035                     | F1-score:  0.019\u001b[0m\n",
      "\u001b[32m2024-02-13 21:03:27.064\u001b[0m | \u001b[32m\u001b[1mSUCCESS \u001b[0m | \u001b[36mtriagerx.trainer.model_trainer\u001b[0m:\u001b[36mtrain\u001b[0m:\u001b[36m143\u001b[0m - \u001b[32m\u001b[1mFound new best model. Saving weights...\u001b[0m\n",
      "100%|██████████| 87/87 [00:46<00:00,  1.85it/s]\n",
      "/home/mdafifal.mamun/miniconda3/envs/trx/lib/python3.10/site-packages/sklearn/metrics/_classification.py:1471: UndefinedMetricWarning: Precision and F-score are ill-defined and being set to 0.0 in labels with no predicted samples. Use `zero_division` parameter to control this behavior.\n",
      "  _warn_prf(average, modifier, msg_start, len(result))\n",
      "/home/mdafifal.mamun/miniconda3/envs/trx/lib/python3.10/site-packages/sklearn/metrics/_classification.py:1471: UndefinedMetricWarning: Recall and F-score are ill-defined and being set to 0.0 in labels with no true samples. Use `zero_division` parameter to control this behavior.\n",
      "  _warn_prf(average, modifier, msg_start, len(result))\n",
      "\u001b[32m2024-02-13 21:04:26.434\u001b[0m | \u001b[1mINFO    \u001b[0m | \u001b[36mtriagerx.trainer.model_trainer\u001b[0m:\u001b[36m_log_step\u001b[0m:\u001b[36m173\u001b[0m - \u001b[1mEpochs: 15 | Train Loss:  0.354                     | Train Accuracy:  0.848                     | Val Loss:  1.156                     | Val Accuracy:  0.046                     | Top 10: 0.32515337423312884                     | Precision:  0.026                     | Recall:  0.036                     | F1-score:  0.023\u001b[0m\n",
      "100%|██████████| 87/87 [00:46<00:00,  1.85it/s]\n",
      "/home/mdafifal.mamun/miniconda3/envs/trx/lib/python3.10/site-packages/sklearn/metrics/_classification.py:1471: UndefinedMetricWarning: Precision and F-score are ill-defined and being set to 0.0 in labels with no predicted samples. Use `zero_division` parameter to control this behavior.\n",
      "  _warn_prf(average, modifier, msg_start, len(result))\n",
      "/home/mdafifal.mamun/miniconda3/envs/trx/lib/python3.10/site-packages/sklearn/metrics/_classification.py:1471: UndefinedMetricWarning: Recall and F-score are ill-defined and being set to 0.0 in labels with no true samples. Use `zero_division` parameter to control this behavior.\n",
      "  _warn_prf(average, modifier, msg_start, len(result))\n",
      "\u001b[32m2024-02-13 21:05:21.831\u001b[0m | \u001b[1mINFO    \u001b[0m | \u001b[36mtriagerx.trainer.model_trainer\u001b[0m:\u001b[36m_log_step\u001b[0m:\u001b[36m173\u001b[0m - \u001b[1mEpochs: 16 | Train Loss:  0.304                     | Train Accuracy:  0.881                     | Val Loss:  1.150                     | Val Accuracy:  0.058                     | Top 10: 0.32515337423312884                     | Precision:  0.025                     | Recall:  0.041                     | F1-score:  0.026\u001b[0m\n",
      "\u001b[32m2024-02-13 21:05:21.833\u001b[0m | \u001b[32m\u001b[1mSUCCESS \u001b[0m | \u001b[36mtriagerx.trainer.model_trainer\u001b[0m:\u001b[36mtrain\u001b[0m:\u001b[36m143\u001b[0m - \u001b[32m\u001b[1mFound new best model. Saving weights...\u001b[0m\n",
      "100%|██████████| 87/87 [00:46<00:00,  1.85it/s]\n",
      "/home/mdafifal.mamun/miniconda3/envs/trx/lib/python3.10/site-packages/sklearn/metrics/_classification.py:1471: UndefinedMetricWarning: Precision and F-score are ill-defined and being set to 0.0 in labels with no predicted samples. Use `zero_division` parameter to control this behavior.\n",
      "  _warn_prf(average, modifier, msg_start, len(result))\n",
      "/home/mdafifal.mamun/miniconda3/envs/trx/lib/python3.10/site-packages/sklearn/metrics/_classification.py:1471: UndefinedMetricWarning: Recall and F-score are ill-defined and being set to 0.0 in labels with no true samples. Use `zero_division` parameter to control this behavior.\n",
      "  _warn_prf(average, modifier, msg_start, len(result))\n",
      "\u001b[32m2024-02-13 21:06:20.845\u001b[0m | \u001b[1mINFO    \u001b[0m | \u001b[36mtriagerx.trainer.model_trainer\u001b[0m:\u001b[36m_log_step\u001b[0m:\u001b[36m173\u001b[0m - \u001b[1mEpochs: 17 | Train Loss:  0.276                     | Train Accuracy:  0.900                     | Val Loss:  1.176                     | Val Accuracy:  0.052                     | Top 10: 0.294478527607362                     | Precision:  0.037                     | Recall:  0.057                     | F1-score:  0.032\u001b[0m\n",
      "100%|██████████| 87/87 [00:47<00:00,  1.85it/s]\n",
      "/home/mdafifal.mamun/miniconda3/envs/trx/lib/python3.10/site-packages/sklearn/metrics/_classification.py:1471: UndefinedMetricWarning: Precision and F-score are ill-defined and being set to 0.0 in labels with no predicted samples. Use `zero_division` parameter to control this behavior.\n",
      "  _warn_prf(average, modifier, msg_start, len(result))\n",
      "/home/mdafifal.mamun/miniconda3/envs/trx/lib/python3.10/site-packages/sklearn/metrics/_classification.py:1471: UndefinedMetricWarning: Recall and F-score are ill-defined and being set to 0.0 in labels with no true samples. Use `zero_division` parameter to control this behavior.\n",
      "  _warn_prf(average, modifier, msg_start, len(result))\n",
      "\u001b[32m2024-02-13 21:07:16.276\u001b[0m | \u001b[1mINFO    \u001b[0m | \u001b[36mtriagerx.trainer.model_trainer\u001b[0m:\u001b[36m_log_step\u001b[0m:\u001b[36m173\u001b[0m - \u001b[1mEpochs: 18 | Train Loss:  0.248                     | Train Accuracy:  0.905                     | Val Loss:  1.168                     | Val Accuracy:  0.061                     | Top 10: 0.294478527607362                     | Precision:  0.036                     | Recall:  0.052                     | F1-score:  0.030\u001b[0m\n",
      "100%|██████████| 87/87 [00:46<00:00,  1.85it/s]\n",
      "/home/mdafifal.mamun/miniconda3/envs/trx/lib/python3.10/site-packages/sklearn/metrics/_classification.py:1471: UndefinedMetricWarning: Precision and F-score are ill-defined and being set to 0.0 in labels with no predicted samples. Use `zero_division` parameter to control this behavior.\n",
      "  _warn_prf(average, modifier, msg_start, len(result))\n",
      "/home/mdafifal.mamun/miniconda3/envs/trx/lib/python3.10/site-packages/sklearn/metrics/_classification.py:1471: UndefinedMetricWarning: Recall and F-score are ill-defined and being set to 0.0 in labels with no true samples. Use `zero_division` parameter to control this behavior.\n",
      "  _warn_prf(average, modifier, msg_start, len(result))\n",
      "\u001b[32m2024-02-13 21:08:11.667\u001b[0m | \u001b[1mINFO    \u001b[0m | \u001b[36mtriagerx.trainer.model_trainer\u001b[0m:\u001b[36m_log_step\u001b[0m:\u001b[36m173\u001b[0m - \u001b[1mEpochs: 19 | Train Loss:  0.206                     | Train Accuracy:  0.946                     | Val Loss:  1.184                     | Val Accuracy:  0.043                     | Top 10: 0.3067484662576687                     | Precision:  0.025                     | Recall:  0.042                     | F1-score:  0.023\u001b[0m\n",
      "100%|██████████| 87/87 [00:47<00:00,  1.85it/s]\n",
      "/home/mdafifal.mamun/miniconda3/envs/trx/lib/python3.10/site-packages/sklearn/metrics/_classification.py:1471: UndefinedMetricWarning: Precision and F-score are ill-defined and being set to 0.0 in labels with no predicted samples. Use `zero_division` parameter to control this behavior.\n",
      "  _warn_prf(average, modifier, msg_start, len(result))\n",
      "/home/mdafifal.mamun/miniconda3/envs/trx/lib/python3.10/site-packages/sklearn/metrics/_classification.py:1471: UndefinedMetricWarning: Recall and F-score are ill-defined and being set to 0.0 in labels with no true samples. Use `zero_division` parameter to control this behavior.\n",
      "  _warn_prf(average, modifier, msg_start, len(result))\n",
      "\u001b[32m2024-02-13 21:09:07.090\u001b[0m | \u001b[1mINFO    \u001b[0m | \u001b[36mtriagerx.trainer.model_trainer\u001b[0m:\u001b[36m_log_step\u001b[0m:\u001b[36m173\u001b[0m - \u001b[1mEpochs: 20 | Train Loss:  0.200                     | Train Accuracy:  0.948                     | Val Loss:  1.173                     | Val Accuracy:  0.080                     | Top 10: 0.3312883435582822                     | Precision:  0.050                     | Recall:  0.065                     | F1-score:  0.039\u001b[0m\n",
      "wandb: WARNING Source type is set to 'repo' but some required information is missing from the environment. A job will not be created from this run. See https://docs.wandb.ai/guides/launch/create-job\n"
     ]
    },
    {
     "data": {
      "application/vnd.jupyter.widget-view+json": {
       "model_id": "756262ef19ad45bdb08e7a9190f9bc7a",
       "version_major": 2,
       "version_minor": 0
      },
      "text/plain": [
       "VBox(children=(Label(value='0.005 MB of 0.005 MB uploaded\\r'), FloatProgress(value=1.0, max=1.0)))"
      ]
     },
     "metadata": {},
     "output_type": "display_data"
    },
    {
     "data": {
      "text/html": [
       "<style>\n",
       "    table.wandb td:nth-child(1) { padding: 0 10px; text-align: left ; width: auto;} td:nth-child(2) {text-align: left ; width: 100%}\n",
       "    .wandb-row { display: flex; flex-direction: row; flex-wrap: wrap; justify-content: flex-start; width: 100% }\n",
       "    .wandb-col { display: flex; flex-direction: column; flex-basis: 100%; flex: 1; padding: 10px; }\n",
       "    </style>\n",
       "<div class=\"wandb-row\"><div class=\"wandb-col\"><h3>Run history:</h3><br/><table class=\"wandb\"><tr><td>f1-score</td><td>▁▂▃▃▃▃▄▃▃▃▄▅▄▄▅▆▇▆▅█</td></tr><tr><td>precision</td><td>▁▁▂▂▂▂▄▃▃▃▄▅▅▄▅▅▆▆▄█</td></tr><tr><td>recall</td><td>▁▄▅▄▄▃▄▃▅▃▄▆▄▄▄▅▇▆▅█</td></tr><tr><td>top10</td><td>▁▂▄█▄▃▄▄▅▅▅▄▆▇▆▆▆▆▆▇</td></tr><tr><td>train_acc</td><td>▁▂▃▄▄▅▅▆▆▆▆▇▇▇▇▇████</td></tr><tr><td>train_loss</td><td>██▇▆▆▅▅▄▄▃▃▃▂▂▂▂▂▁▁▁</td></tr><tr><td>val_acc</td><td>▁▂▂▇▃▃▄▂▃▃▄▄▅▅▅▆▅▆▅█</td></tr><tr><td>val_loss</td><td>█▆▅▁▄▆▄▄▄▃▃▅▁▁▂▁▃▃▄▃</td></tr></table><br/></div><div class=\"wandb-col\"><h3>Run summary:</h3><br/><table class=\"wandb\"><tr><td>f1-score</td><td>0.03928</td></tr><tr><td>precision</td><td>0.05007</td></tr><tr><td>recall</td><td>0.06526</td></tr><tr><td>top10</td><td>0.33129</td></tr><tr><td>train_acc</td><td>0.94781</td></tr><tr><td>train_loss</td><td>0.19971</td></tr><tr><td>val_acc</td><td>0.07975</td></tr><tr><td>val_loss</td><td>1.17337</td></tr></table><br/></div></div>"
      ],
      "text/plain": [
       "<IPython.core.display.HTML object>"
      ]
     },
     "metadata": {},
     "output_type": "display_data"
    },
    {
     "data": {
      "text/html": [
       " View run <strong style=\"color:#cdcd00\">run_dt_lbtp_kmeans_topic_3</strong> at: <a href='https://wandb.ai/afifaniks/triagerx_topic_model/runs/ljpd863c' target=\"_blank\">https://wandb.ai/afifaniks/triagerx_topic_model/runs/ljpd863c</a><br/>Synced 6 W&B file(s), 0 media file(s), 0 artifact file(s) and 0 other file(s)"
      ],
      "text/plain": [
       "<IPython.core.display.HTML object>"
      ]
     },
     "metadata": {},
     "output_type": "display_data"
    },
    {
     "data": {
      "text/html": [
       "Find logs at: <code>./wandb/run-20240213_205007-ljpd863c/logs</code>"
      ],
      "text/plain": [
       "<IPython.core.display.HTML object>"
      ]
     },
     "metadata": {},
     "output_type": "display_data"
    }
   ],
   "source": [
    "trainer = ModelTrainer(train_config)\n",
    "trainer.train(model=model)"
   ]
  },
  {
   "cell_type": "code",
   "execution_count": null,
   "metadata": {},
   "outputs": [],
   "source": []
  }
 ],
 "metadata": {
  "kernelspec": {
   "display_name": "Python 3 (ipykernel)",
   "language": "python",
   "name": "python3"
  },
  "language_info": {
   "codemirror_mode": {
    "name": "ipython",
    "version": 3
   },
   "file_extension": ".py",
   "mimetype": "text/x-python",
   "name": "python",
   "nbconvert_exporter": "python",
   "pygments_lexer": "ipython3",
   "version": "3.10.13"
  }
 },
 "nbformat": 4,
 "nbformat_minor": 2
}
