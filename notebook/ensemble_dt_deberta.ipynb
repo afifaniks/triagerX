{
 "cells": [
  {
   "cell_type": "code",
   "execution_count": 1,
   "metadata": {},
   "outputs": [
    {
     "name": "stderr",
     "output_type": "stream",
     "text": [
      "/home/mdafifal.mamun/miniconda3/envs/trx/lib/python3.10/site-packages/transformers/utils/generic.py:441: UserWarning: torch.utils._pytree._register_pytree_node is deprecated. Please use torch.utils._pytree.register_pytree_node instead.\n",
      "  _torch_pytree._register_pytree_node(\n",
      "/home/mdafifal.mamun/miniconda3/envs/trx/lib/python3.10/site-packages/transformers/utils/generic.py:309: UserWarning: torch.utils._pytree._register_pytree_node is deprecated. Please use torch.utils._pytree.register_pytree_node instead.\n",
      "  _torch_pytree._register_pytree_node(\n",
      "/home/mdafifal.mamun/miniconda3/envs/trx/lib/python3.10/site-packages/transformers/utils/generic.py:309: UserWarning: torch.utils._pytree._register_pytree_node is deprecated. Please use torch.utils._pytree.register_pytree_node instead.\n",
      "  _torch_pytree._register_pytree_node(\n"
     ]
    }
   ],
   "source": [
    "import torch\n",
    "import numpy as np\n",
    "import pandas as pd\n",
    "import torch.nn as nn\n",
    "from sklearn.model_selection import train_test_split\n",
    "from torch.optim import Adam\n",
    "from torch.optim.lr_scheduler import ReduceLROnPlateau\n",
    "from torch.utils.data.sampler import WeightedRandomSampler\n",
    "from tqdm import tqdm\n",
    "\n",
    "tqdm.pandas()\n",
    "\n",
    "from triagerx.dataset.processor import DatasetProcessor\n",
    "from triagerx.model.lbt_p import LBTPClassifier\n",
    "from triagerx.model.roberta_cnn import RobertaCNNClassifier\n",
    "from triagerx.model.roberta_fcn import RobertaFCNClassifier\n",
    "from triagerx.trainer.model_trainer import ModelTrainer\n",
    "from triagerx.trainer.train_config import TrainConfig\n"
   ]
  },
  {
   "cell_type": "code",
   "execution_count": 2,
   "metadata": {},
   "outputs": [
    {
     "name": "stderr",
     "output_type": "stream",
     "text": [
      "100%|██████████| 109977/109977 [00:00<00:00, 122128.42it/s]\n"
     ]
    },
    {
     "name": "stdout",
     "output_type": "stream",
     "text": [
      "Total number of issues: 109977\n"
     ]
    }
   ],
   "source": [
    "dataset_path = \"/home/mdafifal.mamun/notebooks/triagerX/notebook/data/deeptriage/gc_20_topics_kmeans.csv\"\n",
    "\n",
    "df = pd.read_csv(dataset_path)\n",
    "df = df[df[\"owner\"].notna()]\n",
    "\n",
    "def clean_data(df):\n",
    "    df['text'] = df['text'].str.replace('http[s]?://(?:[a-zA-Z]|[0-9]|[$-_@.&+]|[!*\\(\\),]|(?:%[0-9a-fA-F][0-9a-fA-F]))+', ' ', regex=True)\n",
    "    df[\"text\"] = df['text'].str.replace(\" +\", \" \", regex=True)\n",
    "\n",
    "    return df\n",
    "    \n",
    "def prepare_dataframe(df: pd.DataFrame) -> pd.DataFrame:\n",
    "    df[\"text\"] = df.progress_apply(\n",
    "            lambda x: \"Title: \"\n",
    "            + str(x[\"issue_title\"])\n",
    "            + \"\\nDescription: \"\n",
    "            + str(x[\"description\"]),\n",
    "            axis=1,\n",
    "        )\n",
    "    \n",
    "    min_length = 15\n",
    "    df = df[df[\"text\"].str.len().gt(min_length)]\n",
    "\n",
    "    # df[\"owner_id\"] = pd.factorize(df[\"assignees\"])[0]\n",
    "\n",
    "    return df\n",
    "\n",
    "df = prepare_dataframe(df)\n",
    "df = clean_data(df)\n",
    "\n",
    "num_issues = len(df)\n",
    "\n",
    "print(f\"Total number of issues: {num_issues}\")"
   ]
  },
  {
   "cell_type": "code",
   "execution_count": 3,
   "metadata": {},
   "outputs": [],
   "source": [
    "lenx = df[\"text\"].str.split().apply(lambda x: len(x))"
   ]
  },
  {
   "cell_type": "code",
   "execution_count": 4,
   "metadata": {},
   "outputs": [
    {
     "data": {
      "text/plain": [
       "<Axes: >"
      ]
     },
     "execution_count": 4,
     "metadata": {},
     "output_type": "execute_result"
    },
    {
     "data": {
      "image/png": "[encoded data removed]",
      "text/plain": [
       "<Figure size 640x480 with 1 Axes>"
      ]
     },
     "metadata": {},
     "output_type": "display_data"
    }
   ],
   "source": [
    "lenx.value_counts().plot(kind=\"bar\")"
   ]
  },
  {
   "cell_type": "code",
   "execution_count": 5,
   "metadata": {},
   "outputs": [],
   "source": [
    "df[\"topic_hot\"] = pd.get_dummies(df[\"topic_label\"]).values.tolist()"
   ]
  },
  {
   "cell_type": "code",
   "execution_count": 6,
   "metadata": {},
   "outputs": [
    {
     "name": "stdout",
     "output_type": "stream",
     "text": [
      "Samples per block: 10998\n"
     ]
    }
   ],
   "source": [
    "num_cv = 10\n",
    "sample_threshold=20\n",
    "samples_per_block = len(df) // num_cv + 1\n",
    "print(f\"Samples per block: {samples_per_block}\")\n",
    "\n",
    "block = 1\n",
    "sliced_df = df[: samples_per_block * (block+1)]"
   ]
  },
  {
   "cell_type": "code",
   "execution_count": 7,
   "metadata": {},
   "outputs": [],
   "source": [
    "# from sentence_transformers import SentenceTransformer\n",
    "\n",
    "# # Pre-calculate embeddings\n",
    "# embedding_model = SentenceTransformer(\"BAAI/bge-small-en\")\n",
    "# embeddings = embedding_model.encode(sliced_df.issue_title.to_list(), show_progress_bar=True)"
   ]
  },
  {
   "cell_type": "code",
   "execution_count": 8,
   "metadata": {},
   "outputs": [],
   "source": [
    "# from bertopic import BERTopic\n",
    "# from sklearn.feature_extraction.text import CountVectorizer\n",
    "\n",
    "# vectorizer_model = CountVectorizer(stop_words=\"english\")\n",
    "\n",
    "# topic_model = BERTopic(calculate_probabilities=True)"
   ]
  },
  {
   "cell_type": "code",
   "execution_count": 9,
   "metadata": {},
   "outputs": [],
   "source": [
    "# topics, probs = topic_model.fit_transform(sliced_df.issue_title.to_list())"
   ]
  },
  {
   "cell_type": "code",
   "execution_count": 10,
   "metadata": {},
   "outputs": [],
   "source": [
    "# topic_distr, _ = topic_model.approximate_distribution(sliced_df.issue_title.to_list())"
   ]
  },
  {
   "cell_type": "code",
   "execution_count": 11,
   "metadata": {},
   "outputs": [],
   "source": [
    "# topic_model.visualize_distribution(topic_distr[1])"
   ]
  },
  {
   "cell_type": "code",
   "execution_count": 12,
   "metadata": {},
   "outputs": [],
   "source": [
    "# topic_distr, _ = topic_model.approximate_distribution(sliced_df.issue_title.to_list())"
   ]
  },
  {
   "cell_type": "code",
   "execution_count": 13,
   "metadata": {},
   "outputs": [],
   "source": [
    "# len(probs[0])"
   ]
  },
  {
   "cell_type": "code",
   "execution_count": 14,
   "metadata": {},
   "outputs": [
    {
     "name": "stdout",
     "output_type": "stream",
     "text": [
      "Training data: 7030, Validation data: 6096\n",
      "Number of developers: 168\n"
     ]
    }
   ],
   "source": [
    "# sliced_df[\"representations\"] = list(probs)\n",
    "\n",
    "X_df = sliced_df[:samples_per_block*block]\n",
    "y_df = sliced_df[samples_per_block*block : samples_per_block * (block+1)]\n",
    "\n",
    "developers = X_df[\"owner\"].value_counts()\n",
    "filtered_developers = developers.index[developers >= sample_threshold]\n",
    "X_df = X_df[X_df[\"owner\"].isin(filtered_developers)]\n",
    "\n",
    "# train_developers = X_df.owner.unique()\n",
    "# topic_owner = X_df.groupby(\"owner\")[\"topic_label\"].value_counts()\n",
    "# topic_owner = topic_owner[topic_owner > 5]\n",
    "# X_df = X_df[X_df.apply(lambda x: (x['owner'], x['topic_label']) in topic_owner.index, axis=1)]\n",
    "\n",
    "train_owners = set(X_df[\"owner\"])\n",
    "test_owners = set(y_df[\"owner\"])\n",
    "\n",
    "unwanted = list(test_owners - train_owners)\n",
    "\n",
    "y_df = y_df[~y_df[\"owner\"].isin(unwanted)]\n",
    "\n",
    "print(f\"Training data: {len(X_df)}, Validation data: {len(y_df)}\")\n",
    "print(f\"Number of developers: {len(X_df.owner.unique())}\")"
   ]
  },
  {
   "cell_type": "code",
   "execution_count": 15,
   "metadata": {},
   "outputs": [],
   "source": [
    "lbl2idx = {}\n",
    "\n",
    "train_owners = sorted(train_owners)\n",
    "\n",
    "for idx, dev in enumerate(train_owners):\n",
    "    lbl2idx[dev] = idx"
   ]
  },
  {
   "cell_type": "code",
   "execution_count": 16,
   "metadata": {},
   "outputs": [],
   "source": [
    "X_df[\"owner_id\"] = X_df[\"owner\"].apply(lambda owner: lbl2idx[owner])\n",
    "y_df[\"owner_id\"] = y_df[\"owner\"].apply(lambda owner: lbl2idx[owner])"
   ]
  },
  {
   "cell_type": "code",
   "execution_count": 17,
   "metadata": {},
   "outputs": [
    {
     "data": {
      "text/plain": [
       "<Axes: >"
      ]
     },
     "execution_count": 17,
     "metadata": {},
     "output_type": "execute_result"
    },
    {
     "data": {
      "image/png": "[encoded data removed]",
      "text/plain": [
       "<Figure size 640x480 with 1 Axes>"
      ]
     },
     "metadata": {},
     "output_type": "display_data"
    }
   ],
   "source": [
    "X_df.owner.value_counts().plot(kind=\"bar\")"
   ]
  },
  {
   "cell_type": "code",
   "execution_count": 18,
   "metadata": {},
   "outputs": [],
   "source": [
    "from sentence_transformers import SentenceTransformer"
   ]
  },
  {
   "cell_type": "code",
   "execution_count": 19,
   "metadata": {},
   "outputs": [],
   "source": [
    "import pandas as pd\n",
    "import numpy as np\n",
    "from loguru import logger\n",
    "from torch.utils.data import Dataset\n",
    "\n",
    "from transformers import PreTrainedTokenizer\n",
    "\n",
    "\n",
    "class TriageDataset(Dataset):\n",
    "    def __init__(\n",
    "        self,\n",
    "        df: pd.DataFrame,\n",
    "        tokenizer: PreTrainedTokenizer,\n",
    "        feature: str = \"text\",\n",
    "        target: str = \"owner_id\",\n",
    "    ):\n",
    "        logger.debug(\"Generating torch dataset...\")\n",
    "        self.tokenizer = tokenizer\n",
    "        self.labels = [label for label in df[target]]\n",
    "        # self.embedding_model = SentenceTransformer(\"BAAI/bge-small-en\")\n",
    "        logger.debug(\"Tokenizing texts...\")\n",
    "        self.texts = [\n",
    "            (row.text, self.tokenizer(\n",
    "                row.text,\n",
    "                padding=\"max_length\",\n",
    "                max_length=512,\n",
    "                truncation=True,\n",
    "                return_tensors=\"pt\",\n",
    "            ), torch.tensor(row.topic_hot))\n",
    "            for _, row in df.iterrows()\n",
    "        ]\n",
    "\n",
    "    def classes(self):\n",
    "        return self.labels\n",
    "\n",
    "    def __len__(self):\n",
    "        return len(self.labels)\n",
    "\n",
    "    def get_batch_labels(self, idx):\n",
    "        # Fetch a batch of labels\n",
    "        return np.array(self.labels[idx])\n",
    "\n",
    "    def get_batch_texts(self, idx):\n",
    "        # Fetch a batch of inputs\n",
    "        return self.texts[idx]\n",
    "\n",
    "    def __getitem__(self, idx):\n",
    "\n",
    "        batch_texts = self.get_batch_texts(idx)\n",
    "        batch_y = self.get_batch_labels(idx)\n",
    "\n",
    "        return batch_texts, batch_y\n"
   ]
  },
  {
   "cell_type": "code",
   "execution_count": 20,
   "metadata": {},
   "outputs": [],
   "source": [
    "import torch\n",
    "import torch.nn.functional as F\n",
    "from torch import nn\n",
    "from transformers import AutoModel, AutoTokenizer\n",
    "\n",
    "\n",
    "class LBTPClassifierTopic(nn.Module):\n",
    "    def __init__(\n",
    "        self, output_size, topic_size, unfrozen_layers=4, embed_size=1024, dropout=0.1\n",
    "    ) -> None:\n",
    "        super().__init__()\n",
    "        model_name = \"microsoft/deberta-large\"\n",
    "        self.base_model = AutoModel.from_pretrained(\n",
    "            model_name, output_hidden_states=True\n",
    "        )\n",
    "        self._tokenizer = AutoTokenizer.from_pretrained(model_name)\n",
    "\n",
    "        # Freeze embedding layers\n",
    "        for p in self.base_model.embeddings.parameters():\n",
    "            p.requires_grad = False\n",
    "\n",
    "        # Freeze encoder layers till last {unfrozen_layers} layers\n",
    "        for i in range(0, 24 - unfrozen_layers):\n",
    "            for p in self.base_model.encoder.layer[i].parameters():\n",
    "                p.requires_grad = False\n",
    "\n",
    "        filter_sizes = [3, 4, 5, 6]\n",
    "        self._num_filters = 256\n",
    "        self._max_tokens = 512\n",
    "        self._embed_size = embed_size\n",
    "        self.unfrozen_layers = unfrozen_layers\n",
    "        self.conv_blocks = nn.ModuleList(\n",
    "            [\n",
    "                nn.ModuleList(\n",
    "                    [\n",
    "                        nn.Sequential(\n",
    "                            nn.Conv2d(1, self._num_filters, (K, embed_size)),\n",
    "                            nn.BatchNorm2d(self._num_filters),\n",
    "                            nn.ReLU(),\n",
    "                            nn.Flatten(),\n",
    "                            nn.MaxPool1d(self._max_tokens - (K - 1)),\n",
    "                            nn.Flatten(start_dim=1),\n",
    "                        )\n",
    "                        for K in filter_sizes\n",
    "                    ]\n",
    "                )\n",
    "                for _ in range(unfrozen_layers)\n",
    "            ]\n",
    "        )\n",
    "\n",
    "        self.classifiers = nn.ModuleList(\n",
    "            [\n",
    "                nn.Linear(\n",
    "                    len(filter_sizes) * self._num_filters + topic_size, output_size\n",
    "                )\n",
    "                for _ in range(unfrozen_layers)\n",
    "            ]\n",
    "        )\n",
    "\n",
    "        self.dropout = nn.Dropout(dropout)\n",
    "\n",
    "    def forward(self, input_ids, attention_mask, tok_type, topic_id):\n",
    "        outputs = []\n",
    "\n",
    "        base_out = self.base_model(input_ids=input_ids, token_type_ids=tok_type, attention_mask=attention_mask)\n",
    "        # pooler_out = base_out.last_hidden_state.squeeze(0)\n",
    "        hidden_states = base_out.hidden_states[-self.unfrozen_layers :]\n",
    "\n",
    "        for i in range(self.unfrozen_layers):\n",
    "            batch_size, sequence_length, hidden_size = hidden_states[i].size()\n",
    "            x = [\n",
    "                conv(hidden_states[i].view(batch_size, 1, sequence_length, hidden_size))\n",
    "                for conv in self.conv_blocks[i]\n",
    "            ]\n",
    "            x = torch.cat(x, dim=1)\n",
    "            # print(x.shape, pooler_out.shape)\n",
    "            # x = torch.cat([pooler_out, x], dim=1)\n",
    "            x = self.dropout(x)\n",
    "            x = torch.cat([x, topic_id], dim=1)\n",
    "            x = self.classifiers[i](x)\n",
    "\n",
    "            outputs.append(x)\n",
    "\n",
    "        return outputs\n",
    "\n",
    "    def tokenizer(self) -> AutoTokenizer:\n",
    "        return self._tokenizer\n"
   ]
  },
  {
   "cell_type": "code",
   "execution_count": 21,
   "metadata": {},
   "outputs": [],
   "source": [
    "class FocalLoss(nn.Module):\n",
    "    def __init__(self, gamma=2, alpha=None, reduction='mean'):\n",
    "        super(FocalLoss, self).__init__()\n",
    "        self.gamma = gamma\n",
    "        self.alpha = alpha\n",
    "        self.reduction = reduction\n",
    "\n",
    "    def forward(self, input, target):\n",
    "        ce_loss = F.cross_entropy(input, target, reduction='none')\n",
    "        pt = torch.exp(-ce_loss)\n",
    "        focal_loss = (1 - pt) ** self.gamma * ce_loss\n",
    "\n",
    "        if self.alpha is not None:\n",
    "            if self.alpha.type() != input.data.type():\n",
    "                self.alpha = self.alpha.type_as(input.data)\n",
    "            focal_loss = focal_loss * self.alpha\n",
    "\n",
    "        if self.reduction == 'mean':\n",
    "            return torch.mean(focal_loss)\n",
    "        elif self.reduction == 'sum':\n",
    "            return torch.sum(focal_loss)\n",
    "        else:\n",
    "            return focal_loss"
   ]
  },
  {
   "cell_type": "code",
   "execution_count": 22,
   "metadata": {},
   "outputs": [],
   "source": [
    "class CombineLoss(nn.Module):\n",
    "    def __init__(self) -> None:\n",
    "        super().__init__()\n",
    "        self._ce = nn.CrossEntropyLoss()\n",
    "\n",
    "    def forward(\n",
    "        self,\n",
    "        prediction,\n",
    "        labels\n",
    "    ) -> torch.Tensor:\n",
    "        loss = 0\n",
    "\n",
    "        for i in range(len(prediction)):\n",
    "            loss += self._ce(prediction[i], labels)\n",
    "            # print(loss)\n",
    "\n",
    "        return loss"
   ]
  },
  {
   "cell_type": "code",
   "execution_count": 23,
   "metadata": {},
   "outputs": [],
   "source": [
    "class CombineFocalLoss(nn.Module):\n",
    "    def __init__(self) -> None:\n",
    "        super().__init__()\n",
    "        self._ce = FocalLoss()\n",
    "\n",
    "    def forward(\n",
    "        self,\n",
    "        prediction,\n",
    "        labels\n",
    "    ) -> torch.Tensor:\n",
    "        loss = 0\n",
    "\n",
    "        for i in range(len(prediction)):\n",
    "            loss += self._ce(prediction[i], labels)\n",
    "            # print(loss)\n",
    "\n",
    "        return loss"
   ]
  },
  {
   "cell_type": "code",
   "execution_count": 24,
   "metadata": {},
   "outputs": [],
   "source": [
    "from torch.optim import AdamW"
   ]
  },
  {
   "cell_type": "code",
   "execution_count": 25,
   "metadata": {},
   "outputs": [],
   "source": [
    "from transformers import get_linear_schedule_with_warmup"
   ]
  },
  {
   "cell_type": "code",
   "execution_count": 26,
   "metadata": {},
   "outputs": [],
   "source": [
    "class_counts = np.bincount(X_df[\"owner_id\"])\n",
    "num_samples = sum(class_counts)\n",
    "labels = X_df[\"owner_id\"].to_list() #corresponding labels of samples\n",
    "\n",
    "class_weights = [num_samples/class_counts[i] for i in range(len(class_counts))]\n",
    "weights = [class_weights[labels[i]] for i in range(int(num_samples))]\n",
    "sampler = WeightedRandomSampler(torch.DoubleTensor(weights), int(num_samples))\n",
    "\n",
    "learning_rate = 1e-5\n",
    "epochs = 12\n",
    "batch_size = 15\n",
    "\n",
    "model = LBTPClassifierTopic(len(X_df.owner_id.unique()), 20, dropout=0.3)\n",
    "criterion = CombineFocalLoss()\n",
    "optimizer = AdamW(model.parameters(), lr=learning_rate, eps=1e-8, weight_decay=0.001)\n",
    "scheduler = ReduceLROnPlateau(optimizer, \"min\", patience=2, factor=0.1, threshold=1e-8)\n",
    "# scheduler = get_linear_schedule_with_warmup(optimizer=optimizer, num_warmup_steps=2, )"
   ]
  },
  {
   "cell_type": "code",
   "execution_count": 27,
   "metadata": {},
   "outputs": [
    {
     "name": "stderr",
     "output_type": "stream",
     "text": [
      "\u001b[32m2024-03-01 15:44:17.162\u001b[0m | \u001b[34m\u001b[1mDEBUG   \u001b[0m | \u001b[36m__main__\u001b[0m:\u001b[36m__init__\u001b[0m:\u001b[36m17\u001b[0m - \u001b[34m\u001b[1mGenerating torch dataset...\u001b[0m\n",
      "\u001b[32m2024-03-01 15:44:17.164\u001b[0m | \u001b[34m\u001b[1mDEBUG   \u001b[0m | \u001b[36m__main__\u001b[0m:\u001b[36m__init__\u001b[0m:\u001b[36m21\u001b[0m - \u001b[34m\u001b[1mTokenizing texts...\u001b[0m\n",
      "\u001b[32m2024-03-01 15:44:23.789\u001b[0m | \u001b[34m\u001b[1mDEBUG   \u001b[0m | \u001b[36m__main__\u001b[0m:\u001b[36m__init__\u001b[0m:\u001b[36m17\u001b[0m - \u001b[34m\u001b[1mGenerating torch dataset...\u001b[0m\n",
      "\u001b[32m2024-03-01 15:44:23.791\u001b[0m | \u001b[34m\u001b[1mDEBUG   \u001b[0m | \u001b[36m__main__\u001b[0m:\u001b[36m__init__\u001b[0m:\u001b[36m21\u001b[0m - \u001b[34m\u001b[1mTokenizing texts...\u001b[0m\n"
     ]
    }
   ],
   "source": [
    "train = TriageDataset(X_df, model.tokenizer())\n",
    "val = TriageDataset(y_df, model.tokenizer())"
   ]
  },
  {
   "cell_type": "code",
   "execution_count": 28,
   "metadata": {},
   "outputs": [],
   "source": [
    "from torch.utils.data import DataLoader"
   ]
  },
  {
   "cell_type": "code",
   "execution_count": 29,
   "metadata": {},
   "outputs": [],
   "source": [
    "train_dataloader = DataLoader(\n",
    "    dataset=train,\n",
    "    batch_size=10,\n",
    "    shuffle=False if sampler else True,\n",
    "    sampler=sampler,\n",
    ")\n",
    "val_dataloader = DataLoader(val, batch_size=10)"
   ]
  },
  {
   "cell_type": "code",
   "execution_count": 30,
   "metadata": {},
   "outputs": [
    {
     "name": "stderr",
     "output_type": "stream",
     "text": [
      "\u001b[32m2024-03-01 15:44:29.615\u001b[0m | \u001b[34m\u001b[1mDEBUG   \u001b[0m | \u001b[36m__main__\u001b[0m:\u001b[36m<module>\u001b[0m:\u001b[36m5\u001b[0m - \u001b[34m\u001b[1mSelected compute device: cuda\u001b[0m\n"
     ]
    }
   ],
   "source": [
    "device = torch.device(\"cuda\" if torch.cuda.is_available() else \"cpu\")\n",
    "best_loss = float(\"inf\")\n",
    "\n",
    "if torch.cuda.is_available():\n",
    "    logger.debug(f\"Selected compute device: {device}\")\n",
    "    model = model.cuda()\n",
    "    criterion = criterion.cuda()"
   ]
  },
  {
   "cell_type": "code",
   "execution_count": 31,
   "metadata": {},
   "outputs": [],
   "source": [
    "from sklearn.metrics import precision_recall_fscore_support"
   ]
  },
  {
   "cell_type": "code",
   "execution_count": 32,
   "metadata": {},
   "outputs": [],
   "source": [
    "def log_step(\n",
    "        epoch_num,\n",
    "        total_acc_train,\n",
    "        total_acc_val,\n",
    "        total_loss_train,\n",
    "        total_loss_val,\n",
    "        precision,\n",
    "        recall,\n",
    "        f1_score,\n",
    "        train_data,\n",
    "        validation_data,\n",
    "        topk,\n",
    "    ):\n",
    "        log = f\"Epochs: {epoch_num + 1} | Train Loss: {total_loss_train / len(train_data): .3f} \\\n",
    "                    | Train Accuracy: {total_acc_train / len(train_data): .3f} \\\n",
    "                    | Val Loss: {total_loss_val / len(validation_data): .3f} \\\n",
    "                    | Val Accuracy: {total_acc_val / len(validation_data): .3f} \\\n",
    "                    | Top 10: {topk} \\\n",
    "                    | Precision: {precision: .3f} \\\n",
    "                    | Recall: {recall: .3f} \\\n",
    "                    | F1-score: {f1_score: .3f}\"\n",
    "\n",
    "        logger.info(log)"
   ]
  },
  {
   "cell_type": "code",
   "execution_count": 33,
   "metadata": {},
   "outputs": [],
   "source": [
    "from tqdm import tqdm"
   ]
  },
  {
   "cell_type": "code",
   "execution_count": 34,
   "metadata": {},
   "outputs": [],
   "source": [
    "model = model.cuda()"
   ]
  },
  {
   "cell_type": "code",
   "execution_count": 35,
   "metadata": {},
   "outputs": [
    {
     "name": "stderr",
     "output_type": "stream",
     "text": [
      "  0%|          | 0/703 [00:00<?, ?it/s]"
     ]
    },
    {
     "name": "stderr",
     "output_type": "stream",
     "text": [
      " 88%|████████▊ | 622/703 [09:28<01:13,  1.09it/s]\n"
     ]
    },
    {
     "ename": "KeyboardInterrupt",
     "evalue": "",
     "output_type": "error",
     "traceback": [
      "\u001b[0;31m---------------------------------------------------------------------------\u001b[0m",
      "\u001b[0;31mKeyboardInterrupt\u001b[0m                         Traceback (most recent call last)",
      "Cell \u001b[0;32mIn[35], line 7\u001b[0m\n\u001b[1;32m      3\u001b[0m total_loss_train \u001b[38;5;241m=\u001b[39m \u001b[38;5;241m0\u001b[39m\n\u001b[1;32m      5\u001b[0m \u001b[38;5;28;01mfor\u001b[39;00m train_input, train_label \u001b[38;5;129;01min\u001b[39;00m tqdm(train_dataloader):\n\u001b[1;32m      6\u001b[0m     \u001b[38;5;66;03m# print(train_input)\u001b[39;00m\n\u001b[0;32m----> 7\u001b[0m     train_label \u001b[38;5;241m=\u001b[39m \u001b[43mtrain_label\u001b[49m\u001b[38;5;241;43m.\u001b[39;49m\u001b[43mto\u001b[49m\u001b[43m(\u001b[49m\u001b[43mdevice\u001b[49m\u001b[43m)\u001b[49m\n\u001b[1;32m      8\u001b[0m     mask \u001b[38;5;241m=\u001b[39m train_input[\u001b[38;5;241m1\u001b[39m][\u001b[38;5;124m\"\u001b[39m\u001b[38;5;124mattention_mask\u001b[39m\u001b[38;5;124m\"\u001b[39m]\u001b[38;5;241m.\u001b[39msqueeze(\u001b[38;5;241m1\u001b[39m)\u001b[38;5;241m.\u001b[39mto(device)\n\u001b[1;32m      9\u001b[0m     input_id \u001b[38;5;241m=\u001b[39m train_input[\u001b[38;5;241m1\u001b[39m][\u001b[38;5;124m\"\u001b[39m\u001b[38;5;124minput_ids\u001b[39m\u001b[38;5;124m\"\u001b[39m]\u001b[38;5;241m.\u001b[39msqueeze(\u001b[38;5;241m1\u001b[39m)\u001b[38;5;241m.\u001b[39mto(device)\n",
      "\u001b[0;31mKeyboardInterrupt\u001b[0m: "
     ]
    }
   ],
   "source": [
    "for epoch_num in range(epochs):\n",
    "    total_acc_train = 0\n",
    "    total_loss_train = 0\n",
    "\n",
    "    for train_input, train_label in tqdm(train_dataloader):\n",
    "        # print(train_input)\n",
    "        train_label = train_label.to(device)\n",
    "        mask = train_input[1][\"attention_mask\"].squeeze(1).to(device)\n",
    "        input_id = train_input[1][\"input_ids\"].squeeze(1).to(device)\n",
    "        tok_type = train_input[1][\"token_type_ids\"].squeeze(1).to(device)\n",
    "        repr = train_input[2].to(device)\n",
    "        # print(tok_type.shape, input_id.shape, mask.shape)\n",
    "        # print(repr.dtype, input_id.dtype, mask.dtype)\n",
    "\n",
    "        output = model(input_id, mask, tok_type, repr)\n",
    "\n",
    "        batch_loss = criterion(output, train_label.long())\n",
    "        total_loss_train += batch_loss.item()\n",
    "\n",
    "        output = torch.sum(torch.stack(output), 0)\n",
    "        acc = (output.argmax(dim=1) == train_label).sum().item()\n",
    "        \n",
    "        total_acc_train += acc\n",
    "\n",
    "        model.zero_grad()\n",
    "        batch_loss.backward()\n",
    "        optimizer.step()\n",
    "\n",
    "    total_acc_val = 0\n",
    "    total_loss_val = 0\n",
    "    correct_top_k = 0\n",
    "\n",
    "    all_preds = []\n",
    "    all_labels = []\n",
    "\n",
    "    with torch.no_grad():\n",
    "\n",
    "        for val_input, val_label in val_dataloader:\n",
    "            val_label = val_label.to(device)\n",
    "            mask = val_input[1][\"attention_mask\"].squeeze(1).to(device)\n",
    "            input_id = val_input[1][\"input_ids\"].squeeze(1).to(device)\n",
    "            tok_type = val_input[1][\"token_type_ids\"].squeeze(1).to(device)\n",
    "            repr = val_input[2].to(device)\n",
    "\n",
    "            output = model(input_id, mask, tok_type, repr)\n",
    "\n",
    "            batch_loss = criterion(output, val_label.long())\n",
    "            total_loss_val += batch_loss.item()\n",
    "\n",
    "            output = torch.sum(torch.stack(output), 0)\n",
    "            _, top_k_predictions = output.topk(10, 1, True, True)\n",
    "\n",
    "            top_k_predictions = top_k_predictions.t()\n",
    "\n",
    "            correct_top_k += (\n",
    "                top_k_predictions.eq(\n",
    "                    val_label.view(1, -1).expand_as(top_k_predictions)\n",
    "                )\n",
    "                .sum()\n",
    "                .item()\n",
    "            )\n",
    "\n",
    "            acc = (output.argmax(dim=1) == val_label).sum().item()\n",
    "\n",
    "            all_preds.append(output.argmax(dim=1).cpu().numpy())\n",
    "            all_labels.append(val_label.cpu().numpy())\n",
    "\n",
    "            total_acc_val += acc\n",
    "\n",
    "    all_preds = np.concatenate(all_preds)\n",
    "    all_labels = np.concatenate(all_labels)\n",
    "\n",
    "    precision, recall, f1_score, _ = precision_recall_fscore_support(\n",
    "        all_labels, all_preds, average=\"macro\"\n",
    "    )\n",
    "\n",
    "    top10 = correct_top_k / len(y_df)\n",
    "\n",
    "    log_step(\n",
    "        epoch_num,\n",
    "        total_acc_train,\n",
    "        total_acc_val,\n",
    "        total_loss_train,\n",
    "        total_loss_val,\n",
    "        precision,\n",
    "        recall,\n",
    "        f1_score,\n",
    "        X_df,\n",
    "        y_df,\n",
    "        top10,\n",
    "    )\n",
    "\n",
    "    val_loss = total_loss_val / len(y_df)\n",
    "\n",
    "    if scheduler:\n",
    "        scheduler.step(val_loss)\n",
    "\n",
    "    if val_loss < best_loss:\n",
    "        logger.success(\"Found new best model. Saving weights...\")\n",
    "        torch.save(model.state_dict(), \"ensemble_deberta_cv1.pt\")\n",
    "        best_loss = val_loss"
   ]
  },
  {
   "cell_type": "code",
   "execution_count": null,
   "metadata": {},
   "outputs": [
    {
     "name": "stdout",
     "output_type": "stream",
     "text": [
      "Thu Feb 22 23:55:50 2024       \n",
      "+---------------------------------------------------------------------------------------+\n",
      "| NVIDIA-SMI 535.104.12             Driver Version: 535.104.12   CUDA Version: 12.2     |\n",
      "|-----------------------------------------+----------------------+----------------------+\n",
      "| GPU  Name                 Persistence-M | Bus-Id        Disp.A | Volatile Uncorr. ECC |\n",
      "| Fan  Temp   Perf          Pwr:Usage/Cap |         Memory-Usage | GPU-Util  Compute M. |\n",
      "|                                         |                      |               MIG M. |\n",
      "|=========================================+======================+======================|\n",
      "|   0  NVIDIA A100-PCIE-40GB          On  | 00000000:CA:00.0 Off |                    0 |\n",
      "| N/A   64C    P0              78W / 250W |  32409MiB / 40960MiB |     97%      Default |\n",
      "|                                         |                      |             Disabled |\n",
      "+-----------------------------------------+----------------------+----------------------+\n",
      "                                                                                         \n",
      "+---------------------------------------------------------------------------------------+\n",
      "| Processes:                                                                            |\n",
      "|  GPU   GI   CI        PID   Type   Process name                            GPU Memory |\n",
      "|        ID   ID                                                             Usage      |\n",
      "|=======================================================================================|\n",
      "|    0   N/A  N/A   2762936      C   ...amun/miniconda3/envs/trx/bin/python    32396MiB |\n",
      "+---------------------------------------------------------------------------------------+\n"
     ]
    },
    {
     "name": "stderr",
     "output_type": "stream",
     "text": [
      "huggingface/tokenizers: The current process just got forked, after parallelism has already been used. Disabling parallelism to avoid deadlocks...\n",
      "To disable this warning, you can either:\n",
      "\t- Avoid using `tokenizers` before the fork if possible\n",
      "\t- Explicitly set the environment variable TOKENIZERS_PARALLELISM=(true | false)\n"
     ]
    }
   ],
   "source": [
    "!nvidia-smi"
   ]
  },
  {
   "cell_type": "code",
   "execution_count": null,
   "metadata": {},
   "outputs": [
    {
     "data": {
      "text/plain": [
       "<All keys matched successfully>"
      ]
     },
     "execution_count": 27,
     "metadata": {},
     "output_type": "execute_result"
    }
   ],
   "source": [
    "model.load_state_dict(torch.load(\"/home/mdafifal.mamun/notebooks/triagerX/ensemble_deberta_cv1.pt\"))"
   ]
  },
  {
   "cell_type": "code",
   "execution_count": null,
   "metadata": {},
   "outputs": [],
   "source": [
    "loader = DataLoader(val, 30)"
   ]
  },
  {
   "cell_type": "code",
   "execution_count": null,
   "metadata": {},
   "outputs": [],
   "source": [
    "from sentence_transformers import SentenceTransformer, util\n",
    "import numpy as np"
   ]
  },
  {
   "cell_type": "code",
   "execution_count": null,
   "metadata": {},
   "outputs": [
    {
     "name": "stderr",
     "output_type": "stream",
     "text": [
      "/home/mdafifal.mamun/miniconda3/envs/trx/lib/python3.10/site-packages/transformers/utils/generic.py:309: UserWarning: torch.utils._pytree._register_pytree_node is deprecated. Please use torch.utils._pytree.register_pytree_node instead.\n",
      "  _torch_pytree._register_pytree_node(\n"
     ]
    }
   ],
   "source": [
    "similarity_model = SentenceTransformer('all-MiniLM-L6-v2')"
   ]
  },
  {
   "cell_type": "code",
   "execution_count": null,
   "metadata": {},
   "outputs": [],
   "source": [
    "all_embeddings = similarity_model.encode(X_df.issue_title.to_list(), batch_size=15)"
   ]
  },
  {
   "cell_type": "code",
   "execution_count": null,
   "metadata": {},
   "outputs": [],
   "source": [
    "def get_top_k_similar_devs(issues, k=5, threshold=0.65):\n",
    "    test_embed = similarity_model.encode(issues)\n",
    "    cos = util.cos_sim(test_embed, all_embeddings)\n",
    "    topk_values, topk_indices = torch.topk(cos, k=k)\n",
    "    \n",
    "    similarities = []\n",
    "    \n",
    "    for idx, sim_score in zip(topk_indices, topk_values):\n",
    "        sim_threshold = sim_score >= threshold\n",
    "        filtered_idx = idx[sim_threshold].numpy()\n",
    "        similarities.append(X_df.iloc[filtered_idx][\"owner_id\"].unique().tolist())\n",
    "\n",
    "    return similarities"
   ]
  },
  {
   "cell_type": "code",
   "execution_count": null,
   "metadata": {},
   "outputs": [
    {
     "name": "stderr",
     "output_type": "stream",
     "text": [
      "/tmp/ipykernel_3821156/2502538685.py:19: UserWarning: To copy construct from a tensor, it is recommended to use sourceTensor.clone().detach() or sourceTensor.clone().detach().requires_grad_(True), rather than torch.tensor(sourceTensor).\n",
      "  repr = torch.tensor(val_input[2]).to(device)\n"
     ]
    }
   ],
   "source": [
    "total_acc_val = 0\n",
    "total_loss_val = 0\n",
    "correct_top_k = 0\n",
    "correct_top_k_wo_sim = 0\n",
    "\n",
    "all_preds = []\n",
    "all_labels = []\n",
    "device=\"cuda\"\n",
    "\n",
    "model = model.cuda()\n",
    "\n",
    "with torch.no_grad():\n",
    "\n",
    "    for val_input, val_label in loader:\n",
    "        val_label = val_label.to(device)\n",
    "        mask = val_input[1][\"attention_mask\"].squeeze(1).to(device)\n",
    "        input_id = val_input[1][\"input_ids\"].squeeze(1).to(device)\n",
    "        tok_type = val_input[1][\"token_type_ids\"].squeeze(1).to(device)\n",
    "        repr = torch.tensor(val_input[2]).to(device)\n",
    "\n",
    "        output = model(input_id, mask, tok_type, repr)\n",
    "\n",
    "\n",
    "\n",
    "        output = torch.sum(torch.stack(output), 0)\n",
    "\n",
    "        #wo similarity\n",
    "        _, top_k_wo_sim = output.topk(10, 1, True, True)\n",
    "\n",
    "        top_k_wo_sim = top_k_wo_sim.t()\n",
    "\n",
    "        correct_top_k_wo_sim += (\n",
    "            top_k_wo_sim.eq(\n",
    "                val_label.view(1, -1).expand_as(top_k_wo_sim)\n",
    "            )\n",
    "            .sum()\n",
    "            .item()\n",
    "        )\n",
    "\n",
    "\n",
    "        # with similarity\n",
    "        _, top_k_predictions = output.topk(10, 1, True, True)\n",
    "        similar_preds = get_top_k_similar_devs(val_input[0], k=5)\n",
    "\n",
    "        unique_preds = []\n",
    "\n",
    "        for top, sim in zip(top_k_predictions, similar_preds):\n",
    "            # print(top, sim)\n",
    "            \n",
    "            copy_pred = top.cpu().numpy().tolist()\n",
    "            top_preds = top.cpu().numpy().tolist()[:5]\n",
    "\n",
    "            for s in sim:\n",
    "                if s not in top_preds:\n",
    "                    top_preds.append(s)\n",
    "            \n",
    "            if len(top_preds) < 10:\n",
    "                top_preds = top_preds + copy_pred[5:5 + 10 - len(top_preds)]\n",
    "            \n",
    "            unique_preds.append(top_preds)\n",
    "\n",
    "        unique_preds = torch.tensor(unique_preds).cuda()\n",
    "        top_k_predictions = unique_preds.t()\n",
    "\n",
    "        correct_top_k += (\n",
    "            top_k_predictions.eq(\n",
    "                val_label.view(1, -1).expand_as(top_k_predictions)\n",
    "            )\n",
    "            .sum()\n",
    "            .item()\n",
    "        )\n",
    "\n",
    "        # break\n",
    "\n",
    "        acc = (output.argmax(dim=1) == val_label).sum().item()\n",
    "\n",
    "        all_preds.append(output.argmax(dim=1).cpu().numpy())\n",
    "        all_labels.append(val_label.cpu().numpy())\n",
    "\n",
    "        total_acc_val += acc"
   ]
  },
  {
   "cell_type": "code",
   "execution_count": null,
   "metadata": {},
   "outputs": [
    {
     "name": "stdout",
     "output_type": "stream",
     "text": [
      "Correct Prediction without Similarity: 4315, 0.7078412073490814\n",
      "Correct Prediction with Similarity: 4326, 0.7096456692913385\n"
     ]
    }
   ],
   "source": [
    "print(f\"Correct Prediction without Similarity: {correct_top_k_wo_sim}, {correct_top_k_wo_sim / len(y_df)}\")\n",
    "print(f\"Correct Prediction with Similarity: {correct_top_k}, {correct_top_k / len(y_df)}\")"
   ]
  },
  {
   "cell_type": "markdown",
   "metadata": {},
   "source": [
    "Block 1\n",
    "===================================================================\n",
    "Correct Prediction without Similarity: 4347, 0.7130905511811023\n",
    "\n",
    "Correct Prediction with Similarity: 4342, 0.7122703412073491\n",
    "\n",
    "\n",
    "Block 9\n",
    "==============\n",
    "#### Threshold: None\n",
    "---\n",
    "Correct Prediction without Similarity: 7607, 0.7057240931440765\n",
    "\n",
    "Correct Prediction with Similarity: 7598, 0.7048891362835142\n",
    "\n",
    "#### Threshold: 0.63\n",
    "---\n",
    "Correct Prediction without Similarity: 7598, 0.7048891362835142\n",
    "\n",
    "Correct Prediction with Similarity: 7669, 0.7114760181835049"
   ]
  },
  {
   "cell_type": "code",
   "execution_count": null,
   "metadata": {},
   "outputs": [],
   "source": [
    "all_preds_np = np.concatenate(all_preds)\n",
    "all_labels_np = np.concatenate(all_labels)"
   ]
  },
  {
   "cell_type": "code",
   "execution_count": null,
   "metadata": {},
   "outputs": [],
   "source": [
    "from sklearn.metrics import confusion_matrix"
   ]
  },
  {
   "cell_type": "code",
   "execution_count": null,
   "metadata": {},
   "outputs": [],
   "source": [
    "idx2label = {\n",
    "    row[\"owner_id\"]: row[\"owner\"]\n",
    "    for _, row in y_df.iterrows()\n",
    "}\n",
    "\n",
    "labels = y_df.owner_id.to_list()\n",
    "labels = sorted(set(labels))\n",
    "labels = [f\"{idx}: {idx2label[idx]}\" for idx in labels]"
   ]
  },
  {
   "cell_type": "code",
   "execution_count": null,
   "metadata": {},
   "outputs": [
    {
     "data": {
      "text/plain": [
       "array([[ 1,  0,  0, ...,  0,  0,  0],\n",
       "       [ 0,  6,  0, ...,  0,  0,  1],\n",
       "       [ 0,  0, 10, ...,  0,  0,  0],\n",
       "       ...,\n",
       "       [ 0,  0,  0, ...,  3,  0,  0],\n",
       "       [ 0,  0,  0, ...,  0, 15,  0],\n",
       "       [ 0,  0,  0, ...,  0,  0,  5]])"
      ]
     },
     "execution_count": 44,
     "metadata": {},
     "output_type": "execute_result"
    }
   ],
   "source": [
    "confusion_matrix(all_labels_np, all_preds_np)"
   ]
  },
  {
   "cell_type": "code",
   "execution_count": null,
   "metadata": {},
   "outputs": [
    {
     "data": {
      "text/plain": [
       "Chrome sync issues                        3\n",
       "Performance testing issues in Chromium    1\n",
       "Name: topic_label, dtype: int64"
      ]
     },
     "execution_count": 45,
     "metadata": {},
     "output_type": "execute_result"
    }
   ],
   "source": [
    "y_df[y_df.owner == \"altimofeev@chromium.org\"].topic_label.value_counts()"
   ]
  },
  {
   "cell_type": "code",
   "execution_count": null,
   "metadata": {},
   "outputs": [
    {
     "data": {
      "text/plain": [
       "Shill WiFi configuration                 13\n",
       "Chrome sync issues                        8\n",
       "Security and SSL issues                   7\n",
       "Chrome Tab and Window Behavior Issues     4\n",
       "Webpage rendering regression issues       1\n",
       "Data Enhancement                          1\n",
       "Input and keyboard issues                 1\n",
       "DevTools Crashes                          1\n",
       "Chrome stability issues                   1\n",
       "Chrome crash reports                      1\n",
       "Layout Testing Issues                     1\n",
       "Name: topic_label, dtype: int64"
      ]
     },
     "execution_count": 12,
     "metadata": {},
     "output_type": "execute_result"
    }
   ],
   "source": [
    "X_df[X_df.owner == \"altimofeev@chromium.org\"].topic_label.value_counts()"
   ]
  },
  {
   "cell_type": "code",
   "execution_count": null,
   "metadata": {},
   "outputs": [
    {
     "name": "stdout",
     "output_type": "stream",
     "text": [
      "                                precision    recall  f1-score   support\n",
      "\n",
      "          0: a...@chromium.org       0.03      0.02      0.02        61\n",
      "            1: aa@chromium.org       0.10      0.12      0.11        50\n",
      "        2: abarth@chromium.org       0.19      0.21      0.20        48\n",
      "       3: achuith@chromium.org       0.12      0.20      0.15        10\n",
      "          4: adlr@chromium.org       0.68      0.80      0.73        98\n",
      "           5: agl@chromium.org       0.11      0.18      0.14        56\n",
      "        6: akalin@chromium.org       0.18      0.15      0.16        20\n",
      "    7: altimofeev@chromium.org       0.00      0.00      0.00         4\n",
      "          8: amit@chromium.org       0.29      0.57      0.38         7\n",
      "        9: ananta@chromium.org       0.32      0.25      0.28        56\n",
      "      10: annapop@chromium.org       0.50      0.67      0.57        48\n",
      "     11: apatrick@chromium.org       0.47      0.33      0.39        21\n",
      "      12: apavlov@chromium.org       0.43      0.49      0.46        51\n",
      "          13: arv@chromium.org       0.35      0.11      0.17        62\n",
      "     14: asargent@chromium.org       0.08      0.14      0.10        14\n",
      "     15: atwilson@chromium.org       0.67      0.23      0.34        26\n",
      "       16: bauerb@chromium.org       0.54      0.35      0.42        20\n",
      "          17: ben@chromium.org       0.13      0.18      0.15        55\n",
      "      18: benchan@chromium.org       0.54      0.41      0.47        90\n",
      "       19: bleung@chromium.org       0.33      0.03      0.06        33\n",
      "     20: blundell@chromium.org       0.27      0.23      0.25        13\n",
      "       21: brettw@chromium.org       0.01      0.03      0.02        40\n",
      "         22: bshe@chromium.org       0.62      0.25      0.36        20\n",
      "     23: cbentzel@chromium.org       0.38      0.36      0.37        14\n",
      "       24: cevans@chromium.org       0.56      0.35      0.43        43\n",
      "      25: cmasone@chromium.org       0.31      0.05      0.09        81\n",
      "          26: cpu@chromium.org       1.00      0.07      0.12        45\n",
      "        27: creis@chromium.org       0.19      0.21      0.20        19\n",
      "        28: csilv@chromium.org       0.26      0.36      0.30        33\n",
      "       29: ctguil@chromium.org       0.23      0.43      0.30         7\n",
      "   30: dalecur...@chromium.org       0.39      0.28      0.33        32\n",
      "        31: darin@chromium.org       0.25      0.44      0.32        36\n",
      "    32: davemoore@chromium.org       0.22      0.11      0.14        19\n",
      "   33: davidjames@chromium.org       0.32      0.45      0.38       140\n",
      "34: dennisjeffrey@chromium.org       0.32      0.50      0.39        12\n",
      "        35: derat@chromium.org       0.26      0.37      0.31        46\n",
      "     36: dglazkov@chromium.org       0.16      0.32      0.21        38\n",
      "      37: dgozman@chromium.org       0.13      0.06      0.08        33\n",
      "     38: dhollowa@chromium.org       0.24      0.40      0.30        25\n",
      "     39: diand...@chromium.org       0.11      0.22      0.15         9\n",
      "      40: djkurtz@chromium.org       0.32      0.25      0.28        32\n",
      "         41: djmm@chromium.org       0.42      0.29      0.34        28\n",
      "     42: dmazz...@chromium.org       0.23      0.39      0.29        18\n",
      "      43: dpranke@chromium.org       0.57      0.33      0.42        24\n",
      "   44: dschimmels@chromium.org       0.63      0.93      0.75        28\n",
      "         45: e...@chromium.org       0.15      0.17      0.16        52\n",
      "       46: eblake@chromium.org       0.52      0.55      0.54        20\n",
      "    47: ellyjo...@chromium.org       0.23      0.50      0.32        14\n",
      "       48: eroman@chromium.org       0.17      0.20      0.19        49\n",
      "       49: estade@chromium.org       0.39      0.21      0.27       203\n",
      "         50: evan@chromium.org       0.17      0.02      0.04        48\n",
      "    51: fbarchard@chromium.org       0.42      0.36      0.39        22\n",
      "     52: ferringb@chromium.org       0.57      0.16      0.25        74\n",
      "       53: finnur@chromium.org       0.16      0.20      0.18        45\n",
      "       54: flackr@chromium.org       0.67      0.16      0.26        38\n",
      "         55: glen@chromium.org       0.13      0.15      0.14        41\n",
      "    56: hashimoto@chromium.org       0.00      0.00      0.00        24\n",
      "        57: hbono@chromium.org       0.36      0.23      0.28        40\n",
      "       58: hirono@chromium.org       0.63      0.40      0.49        30\n",
      "       59: hungte@chromium.org       0.25      0.38      0.30         8\n",
      "          60: ihf@chromium.org       0.59      0.44      0.51        36\n",
      "      61: infe...@chromium.org       0.72      0.66      0.69        50\n",
      "     62: isherman@chromium.org       0.28      0.31      0.29        49\n",
      "       63: ivankr@chromium.org       0.07      0.29      0.11         7\n",
      "       64: jam...@chromium.org       0.17      0.20      0.19        20\n",
      "          65: jam@chromium.org       0.30      0.32      0.31        88\n",
      "    66: jamescook@chromium.org       0.26      0.29      0.27        38\n",
      "   67: jamiewa...@chromium.org       0.40      0.47      0.43        17\n",
      "       68: japhet@chromium.org       0.22      0.12      0.16        41\n",
      "          69: jar@chromium.org       0.17      0.43      0.24        28\n",
      "      70: jcampan@chromium.org       0.20      0.12      0.15        65\n",
      "       71: jen...@chromium.org       0.80      0.27      0.40        15\n",
      "     72: jglasgow@chromium.org       0.29      0.24      0.26        25\n",
      "     73: jhawkins@chromium.org       0.17      0.09      0.12        75\n",
      "       74: jianli@chromium.org       0.38      0.25      0.30        24\n",
      "  75: joaodasilva@chromium.org       0.41      0.33      0.37        27\n",
      "       76: jochen@chromium.org       0.13      0.18      0.15        28\n",
      "          77: jon@chromium.org       0.33      0.11      0.16        64\n",
      "   78: jrbarnette@chromium.org       0.40      0.50      0.44        24\n",
      "        79: js...@chromium.org       0.34      0.62      0.44        39\n",
      "     80: jstritar@chromium.org       0.20      0.10      0.13        30\n",
      "  81: juliatut...@chromium.org       0.19      0.44      0.27        16\n",
      "   82: kaznacheev@chromium.org       0.42      0.36      0.39        61\n",
      "          83: kbr@chromium.org       0.30      0.30      0.30        27\n",
      "       84: kinaba@chromium.org       0.30      0.40      0.34        20\n",
      "        85: krisr@chromium.org       0.26      0.29      0.27        28\n",
      "      86: kuchhal@chromium.org       0.50      0.26      0.35        34\n",
      "       87: mar...@chromium.org       0.09      0.12      0.10        16\n",
      "      88: marc...@chromium.org       0.37      0.52      0.43        25\n",
      "         89: mark@chromium.org       0.12      0.03      0.05        30\n",
      "        90: mazda@chromium.org       0.20      0.12      0.15         8\n",
      "      91: mbelshe@chromium.org       0.12      0.08      0.10        12\n",
      "     92: mirandac@chromium.org       0.06      0.06      0.06        17\n",
      "       93: mmenke@chromium.org       0.38      0.25      0.30        24\n",
      "     94: mnissler@chromium.org       0.17      0.25      0.21        32\n",
      "   95: mpcomplete@chromium.org       0.35      0.37      0.36        46\n",
      "          96: msw@chromium.org       0.43      0.12      0.18        26\n",
      "     97: mtennant@chromium.org       0.46      0.65      0.54        17\n",
      "      98: mtomasz@chromium.org       0.52      0.40      0.45        30\n",
      "        99: mukai@chromium.org       0.50      0.06      0.11        31\n",
      "        100: n...@chromium.org       0.33      0.21      0.26        14\n",
      "       101: nduca@chromium.org       0.60      0.43      0.50        14\n",
      "   102: nirnimesh@chromium.org       0.24      0.60      0.35        20\n",
      "   103: nkostylev@chromium.org       0.09      0.29      0.14        17\n",
      "        104: nona@chromium.org       0.57      0.40      0.47        10\n",
      "        105: ojan@chromium.org       0.12      0.15      0.14        13\n",
      "       106: olofj@chromium.org       0.20      0.20      0.20        15\n",
      "      107: osh...@chromium.org       0.13      0.18      0.15        33\n",
      "         108: pam@chromium.org       0.09      0.12      0.11         8\n",
      "  109: pastarmovj@chromium.org       0.25      0.21      0.23        24\n",
      "        110: paul@chromium.org       0.27      0.09      0.14        32\n",
      "   111: petermayo@chromium.org       0.38      0.41      0.39        27\n",
      "      112: petkov@chromium.org       0.30      0.16      0.21        43\n",
      "    113: pfeldman@chromium.org       0.41      0.57      0.47        82\n",
      "  114: phajdan.jr@chromium.org       0.20      0.32      0.25        60\n",
      "       115: piman@chromium.org       0.00      0.00      0.00        11\n",
      "    116: pkasting@chromium.org       0.08      0.31      0.12        52\n",
      "    117: pkotw...@chromium.org       0.27      0.38      0.32        16\n",
      "       118: pstew@chromium.org       0.36      0.42      0.39        78\n",
      "      119: quiche@chromium.org       0.36      0.31      0.33        49\n",
      "        120: r...@chromium.org       0.80      0.09      0.16        46\n",
      "        121: rcui@chromium.org       0.28      0.59      0.38        27\n",
      "     122: reve...@chromium.org       0.36      0.36      0.36        14\n",
      "      123: rginda@chromium.org       0.86      0.79      0.83        48\n",
      "     124: rogerta@chromium.org       0.26      0.45      0.33        11\n",
      "      125: rsesek@chromium.org       0.10      0.23      0.14        26\n",
      "     126: rsleevi@chromium.org       0.62      0.53      0.57        19\n",
      "    127: rtenneti@chromium.org       0.44      0.15      0.22        48\n",
      "     128: rvargas@chromium.org       0.41      0.60      0.48        25\n",
      "      129: sadrul@chromium.org       0.36      0.27      0.31        37\n",
      "        130: sail@chromium.org       0.41      0.50      0.45        32\n",
      "     131: satorux@chromium.org       0.14      0.08      0.11        24\n",
      "    132: scherkus@chromium.org       0.52      0.53      0.53        43\n",
      "      133: scottz@chromium.org       0.22      0.17      0.19        99\n",
      " 134: senorblanco@chromium.org       0.30      0.35      0.32        31\n",
      "     135: sergeyu@chromium.org       0.60      0.53      0.56        40\n",
      "       136: serya@chromium.org       0.32      0.35      0.33        23\n",
      "       137: sh...@chromium.org       0.57      0.13      0.22        60\n",
      "         138: sjg@chromium.org       0.78      0.80      0.79        35\n",
      "         139: sky@chromium.org       0.21      0.22      0.22       121\n",
      "    140: sleffler@chromium.org       0.00      0.00      0.00         8\n",
      "        141: sosa@chromium.org       0.22      0.13      0.16       117\n",
      "        142: sque@chromium.org       0.41      0.50      0.45        28\n",
      "    143: steve...@chromium.org       0.28      0.43      0.34        30\n",
      "     144: tbarzic@chromium.org       0.19      0.33      0.24        18\n",
      "     145: tfarina@chromium.org       0.21      0.15      0.18        40\n",
      "      146: tha...@chromium.org       0.22      0.24      0.23        76\n",
      "     147: thestig@chromium.org       0.33      0.28      0.30        53\n",
      "     148: thieule@chromium.org       0.48      0.24      0.32        41\n",
      "         149: tim@chromium.org       0.00      0.00      0.00         5\n",
      "       150: tkent@chromium.org       0.42      0.48      0.44        46\n",
      "        151: tony@chromium.org       0.09      0.11      0.10        66\n",
      "       152: tonyg@chromium.org       0.18      0.28      0.22        25\n",
      "    153: vangelis@chromium.org       0.12      0.25      0.16        16\n",
      "      154: vapier@chromium.org       0.55      0.48      0.51        87\n",
      "      155: vsevik@chromium.org       0.25      0.06      0.10        34\n",
      "    156: willchan@chromium.org       0.22      0.23      0.22        44\n",
      "         157: wtc@chromium.org       0.27      0.38      0.32        24\n",
      "      158: xiy...@chromium.org       0.26      0.23      0.24        39\n",
      "         159: xji@chromium.org       0.42      0.52      0.47        21\n",
      "     160: yoshiki@chromium.org       0.37      0.67      0.47        27\n",
      "       161: yu...@chromium.org       0.34      0.31      0.33        32\n",
      "     162: yusukes@chromium.org       0.28      0.50      0.36        26\n",
      "      163: zbehan@chromium.org       0.10      0.14      0.12        21\n",
      "         164: zea@chromium.org       0.42      0.24      0.30        21\n",
      "    165: zelidrag@chromium.org       0.12      0.19      0.14        16\n",
      "         166: zmo@chromium.org       0.33      0.52      0.40        29\n",
      "        167: zork@chromium.org       0.50      0.31      0.38        16\n",
      "\n",
      "                      accuracy                           0.29      6096\n",
      "                     macro avg       0.32      0.30      0.28      6096\n",
      "                  weighted avg       0.33      0.29      0.29      6096\n",
      "\n"
     ]
    }
   ],
   "source": [
    "from sklearn.metrics import classification_report\n",
    "print(classification_report(all_labels_np, all_preds_np, target_names=labels))"
   ]
  },
  {
   "cell_type": "code",
   "execution_count": null,
   "metadata": {},
   "outputs": [],
   "source": [
    "def get_topic_distribution(owner):\n",
    "    print(\"Training topic distribution\")\n",
    "    print(\"=======================================\")\n",
    "    print(X_df[X_df.owner == owner].topic_label.value_counts())\n",
    "\n",
    "    print(\"\\n\\nTesting topic distribution\")\n",
    "    print(\"=======================================\")\n",
    "    print(y_df[y_df.owner == owner].topic_label.value_counts())"
   ]
  },
  {
   "cell_type": "code",
   "execution_count": null,
   "metadata": {},
   "outputs": [
    {
     "data": {
      "text/plain": [
       "Chrome Tab and Window Behavior Issues     947\n",
       "Build failures                            840\n",
       "Chrome stability issues                   487\n",
       "Layout Testing Issues                     400\n",
       "Chrome crash reports                      391\n",
       "Security and SSL issues                   372\n",
       "Input and keyboard issues                 370\n",
       "Webpage rendering regression issues       357\n",
       "Chrome sync issues                        354\n",
       "Shill WiFi configuration                  337\n",
       "iOS File Issues                           321\n",
       "Data Enhancement                          298\n",
       "Touch and Scroll Issues                   273\n",
       "DevTools Crashes                          260\n",
       "GPU rendering issues                      235\n",
       "Memory Leaks in WebCore and Blink         220\n",
       "Performance testing issues in Chromium    197\n",
       "WebRTC audio/video issues                 184\n",
       "Bookmark issues                           174\n",
       "Performance Regression in Blink            13\n",
       "Name: topic_label, dtype: int64"
      ]
     },
     "execution_count": 39,
     "metadata": {},
     "output_type": "execute_result"
    }
   ],
   "source": [
    "X_df.topic_label.value_counts()"
   ]
  },
  {
   "cell_type": "code",
   "execution_count": null,
   "metadata": {},
   "outputs": [
    {
     "name": "stdout",
     "output_type": "stream",
     "text": [
      "Training topic distribution\n",
      "=======================================\n",
      "Chrome Tab and Window Behavior Issues     10\n",
      "Webpage rendering regression issues        5\n",
      "Memory Leaks in WebCore and Blink          4\n",
      "Chrome stability issues                    4\n",
      "DevTools Crashes                           3\n",
      "Data Enhancement                           3\n",
      "Input and keyboard issues                  3\n",
      "Touch and Scroll Issues                    2\n",
      "Bookmark issues                            1\n",
      "Security and SSL issues                    1\n",
      "Chrome sync issues                         1\n",
      "Layout Testing Issues                      1\n",
      "Build failures                             1\n",
      "iOS File Issues                            1\n",
      "Performance testing issues in Chromium     1\n",
      "Name: topic_label, dtype: int64\n",
      "\n",
      "\n",
      "Testing topic distribution\n",
      "=======================================\n",
      "Chrome Tab and Window Behavior Issues     17\n",
      "Webpage rendering regression issues        7\n",
      "DevTools Crashes                           6\n",
      "iOS File Issues                            6\n",
      "Touch and Scroll Issues                    4\n",
      "Input and keyboard issues                  4\n",
      "Data Enhancement                           4\n",
      "Chrome crash reports                       4\n",
      "Chrome stability issues                    3\n",
      "Memory Leaks in WebCore and Blink          2\n",
      "Chrome sync issues                         2\n",
      "Bookmark issues                            1\n",
      "Performance testing issues in Chromium     1\n",
      "Name: topic_label, dtype: int64\n"
     ]
    }
   ],
   "source": [
    "get_topic_distribution(\"a...@chromium.org\")"
   ]
  },
  {
   "cell_type": "code",
   "execution_count": null,
   "metadata": {},
   "outputs": [
    {
     "name": "stdout",
     "output_type": "stream",
     "text": [
      "Training topic distribution\n",
      "=======================================\n",
      "Chrome Tab and Window Behavior Issues     62\n",
      "Bookmark issues                           45\n",
      "Chrome crash reports                      19\n",
      "Input and keyboard issues                 13\n",
      "Chrome stability issues                    8\n",
      "Layout Testing Issues                      8\n",
      "Webpage rendering regression issues        6\n",
      "GPU rendering issues                       4\n",
      "Touch and Scroll Issues                    4\n",
      "DevTools Crashes                           3\n",
      "Security and SSL issues                    2\n",
      "Chrome sync issues                         2\n",
      "iOS File Issues                            2\n",
      "Memory Leaks in WebCore and Blink          1\n",
      "Shill WiFi configuration                   1\n",
      "Data Enhancement                           1\n",
      "Performance testing issues in Chromium     1\n",
      "Name: topic_label, dtype: int64\n",
      "\n",
      "\n",
      "Testing topic distribution\n",
      "=======================================\n",
      "Chrome Tab and Window Behavior Issues    37\n",
      "Bookmark issues                          22\n",
      "Chrome crash reports                     14\n",
      "Input and keyboard issues                13\n",
      "Layout Testing Issues                    10\n",
      "DevTools Crashes                          5\n",
      "Chrome stability issues                   4\n",
      "Security and SSL issues                   4\n",
      "Memory Leaks in WebCore and Blink         3\n",
      "Data Enhancement                          3\n",
      "Touch and Scroll Issues                   3\n",
      "Webpage rendering regression issues       1\n",
      "Build failures                            1\n",
      "Performance Regression in Blink           1\n",
      "Name: topic_label, dtype: int64\n"
     ]
    }
   ],
   "source": [
    "get_topic_distribution(\"sky@chromium.org\")"
   ]
  },
  {
   "cell_type": "code",
   "execution_count": null,
   "metadata": {},
   "outputs": [],
   "source": []
  }
 ],
 "metadata": {
  "kernelspec": {
   "display_name": "Python 3 (ipykernel)",
   "language": "python",
   "name": "python3"
  },
  "language_info": {
   "codemirror_mode": {
    "name": "ipython",
    "version": 3
   },
   "file_extension": ".py",
   "mimetype": "text/x-python",
   "name": "python",
   "nbconvert_exporter": "python",
   "pygments_lexer": "ipython3",
   "version": "3.10.13"
  }
 },
 "nbformat": 4,
 "nbformat_minor": 2
}
