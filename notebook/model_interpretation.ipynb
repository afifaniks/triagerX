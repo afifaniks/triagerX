{
 "cells": [
  {
   "cell_type": "code",
   "execution_count": 1,
   "metadata": {},
   "outputs": [],
   "source": [
    "import pandas as pd\n",
    "from transformers import RobertaModel, RobertaTokenizer, RobertaConfig"
   ]
  },
  {
   "cell_type": "code",
   "execution_count": 49,
   "metadata": {},
   "outputs": [],
   "source": [
    "from tqdm import tqdm\n",
    "tqdm.pandas()"
   ]
  },
  {
   "cell_type": "code",
   "execution_count": 50,
   "metadata": {},
   "outputs": [
    {
     "name": "stderr",
     "output_type": "stream",
     "text": [
      "100%|██████████| 10781/10781 [00:00<00:00, 1168625.41it/s]\n",
      "\u001b[32m2024-07-09 18:18:13.693\u001b[0m | \u001b[1mINFO    \u001b[0m | \u001b[36mtriagerx.dataset.text_processor\u001b[0m:\u001b[36mprepare_dataframe\u001b[0m:\u001b[36m58\u001b[0m - \u001b[1mCleaning text...\u001b[0m\n",
      "100%|██████████| 10781/10781 [00:01<00:00, 5638.55it/s]\n",
      "\u001b[32m2024-07-09 18:18:15.610\u001b[0m | \u001b[1mINFO    \u001b[0m | \u001b[36mtriagerx.dataset.text_processor\u001b[0m:\u001b[36mprepare_dataframe\u001b[0m:\u001b[36m71\u001b[0m - \u001b[1mAdding description...\u001b[0m\n",
      "100%|██████████| 10781/10781 [00:00<00:00, 132236.86it/s]"
     ]
    },
    {
     "name": "stdout",
     "output_type": "stream",
     "text": [
      "Training data: 98165, Validation data: 10781\n",
      "Number of train developers: 986\n",
      "Number of test developers: 857\n"
     ]
    },
    {
     "name": "stderr",
     "output_type": "stream",
     "text": [
      "\n"
     ]
    }
   ],
   "source": [
    "dataset_path = \"/home/mdafifal.mamun/notebooks/triagerX/data/deeptriage/google_chrome/classifier_data_20.csv\"\n",
    "df = pd.read_csv(dataset_path)\n",
    "df = df[df[\"owner\"].notna()]\n",
    "\n",
    "num_cv = 10\n",
    "block = 9\n",
    "# sample_threshold=20 # Threshold to filter developers\n",
    "samples_per_block = len(df) // num_cv\n",
    "\n",
    "sliced_df = df[: samples_per_block * (block + 1)]\n",
    "df_train = sliced_df[: samples_per_block * block]\n",
    "df_test = sliced_df[samples_per_block * block : samples_per_block * (block + 1)]\n",
    "\n",
    "sample_threshold = 20\n",
    "developers = df_train[\"owner\"].value_counts()\n",
    "filtered_developers = developers.index[developers >= sample_threshold]\n",
    "df_train = df_train[df_train[\"owner\"].isin(filtered_developers)]\n",
    "\n",
    "train_owners = set(df_train[\"owner\"])\n",
    "test_owners = set(df_test[\"owner\"])\n",
    "\n",
    "unwanted = list(test_owners - train_owners)\n",
    "\n",
    "df_test = df_test[~df_test[\"owner\"].isin(unwanted)]\n",
    "\n",
    "lbl2idx = {}\n",
    "idx2lbl = {}\n",
    "\n",
    "train_owners = sorted(train_owners)\n",
    "\n",
    "for idx, dev in enumerate(train_owners):\n",
    "    lbl2idx[dev] = idx\n",
    "    idx2lbl[idx] = dev\n",
    "\n",
    "df_train[\"owner_id\"] = df_train[\"owner\"].apply(lambda owner: lbl2idx[owner])\n",
    "df_test[\"owner_id\"] = df_test[\"owner\"].apply(lambda owner: lbl2idx[owner])\n",
    "df_test = TextProcessor.prepare_dataframe(df_test, False, False, True, False, False)\n",
    "\n",
    "print(f\"Training data: {len(df_train)}, Validation data: {len(df_test)}\")\n",
    "print(f\"Number of train developers: {len(df_train.owner.unique())}\")\n",
    "print(f\"Number of test developers: {len(df_test.owner.unique())}\")"
   ]
  },
  {
   "cell_type": "code",
   "execution_count": 53,
   "metadata": {},
   "outputs": [
    {
     "data": {
      "text/plain": [
       "'Bug Title: Allow canvases on background pages to have their GPU resources evicted\\nBug Description: In order to reduce the probability of canvas-based apps losing data due to GPU context losses and to prevent slow-downs caused by GPU resource strain, canvases should be swapped-out from GPU memory when the host page becomes hidden.'"
      ]
     },
     "execution_count": 53,
     "metadata": {},
     "output_type": "execute_result"
    }
   ],
   "source": [
    "df_test.iloc[100].text"
   ]
  },
  {
   "cell_type": "code",
   "execution_count": 3,
   "metadata": {},
   "outputs": [],
   "source": [
    "from torch.utils.data import Dataset, DataLoader\n",
    "from transformers import RobertaTokenizer\n",
    "import numpy as np\n",
    "\n",
    "class TriageDataset(Dataset):\n",
    "    def __init__(\n",
    "        self,\n",
    "        df: pd.DataFrame,\n",
    "        tokenizer: RobertaTokenizer,\n",
    "        feature: str = \"text\",\n",
    "        target: str = \"owner_id\",\n",
    "        max_tokens: int = 256,\n",
    "    ):\n",
    "        print(\"Generating torch dataset...\")\n",
    "        self.tokenizer = tokenizer\n",
    "        self.labels = [label for label in df[target]]\n",
    "        print(\"Tokenizing texts...\")\n",
    "        self.texts = [\n",
    "            self.tokenizer(\n",
    "                row[feature],\n",
    "                padding=\"max_length\",\n",
    "                max_length=max_tokens,\n",
    "                truncation=True,\n",
    "                return_tensors=\"pt\",\n",
    "            )\n",
    "            for _, row in df.iterrows()\n",
    "        ]\n",
    "\n",
    "    def classes(self):\n",
    "        return self.labels\n",
    "\n",
    "    def __len__(self):\n",
    "        return len(self.labels)\n",
    "\n",
    "    def get_batch_labels(self, idx):\n",
    "        # Fetch a batch of labels\n",
    "        return np.array(self.labels[idx])\n",
    "\n",
    "    def get_batch_texts(self, idx):\n",
    "        # Fetch a batch of inputs\n",
    "        return self.texts[idx]\n",
    "\n",
    "    def __getitem__(self, idx):\n",
    "\n",
    "        batch_texts = self.get_batch_texts(idx)\n",
    "        batch_y = self.get_batch_labels(idx)\n",
    "\n",
    "        return batch_texts, batch_y"
   ]
  },
  {
   "cell_type": "code",
   "execution_count": 32,
   "metadata": {},
   "outputs": [],
   "source": [
    "import numpy as np\n",
    "import pandas as pd\n",
    "from loguru import logger\n",
    "from torch.utils.data import Dataset\n",
    "from transformers import PreTrainedTokenizer\n",
    "\n",
    "from triagerx.model.prediction_model import PredictionModel\n",
    "from triagerx.dataset.text_processor import TextProcessor\n",
    "\n",
    "\n",
    "def process_data_for_triagerx(\n",
    "        text,\n",
    "        model: PredictionModel,\n",
    "        max_length: int = 256,\n",
    "        device=\"cuda\"\n",
    "    ):\n",
    "        \n",
    "        text = TextProcessor.clean_text(text)\n",
    "\n",
    "        tokenizer1 = model.tokenizer(0)\n",
    "        tokenizer2 = model.tokenizer(1)\n",
    "\n",
    "        tok1 = tokenizer1(\n",
    "                    text,\n",
    "                    padding=\"max_length\",\n",
    "                    max_length=max_length,\n",
    "                    truncation=True,\n",
    "                    return_tensors=\"pt\",\n",
    "                )\n",
    "        \n",
    "        input_ids1 = tok1[\"input_ids\"].to(device)\n",
    "        mask1 = tok1[\"attention_mask\"].to(device)\n",
    "        \n",
    "        \n",
    "        tok2 = tokenizer2(\n",
    "                    text,\n",
    "                    padding=\"max_length\",\n",
    "                    max_length=max_length,\n",
    "                    truncation=True,\n",
    "                    return_tensors=\"pt\",\n",
    "                )\n",
    "        \n",
    "        input_ids2 = tok2[\"input_ids\"].to(device)\n",
    "        mask2 = tok2[\"attention_mask\"].to(device)\n",
    "\n",
    "        return input_ids1, mask1, input_ids2, mask2\n"
   ]
  },
  {
   "cell_type": "code",
   "execution_count": 4,
   "metadata": {},
   "outputs": [],
   "source": [
    "import torch\n",
    "import torch.nn as nn\n",
    "\n",
    "device=\"cuda\"\n",
    "\n",
    "class LBTPClassifier(nn.Module):\n",
    "    def __init__(\n",
    "        self,\n",
    "        embedding_model,\n",
    "        output_size,\n",
    "        unfrozen_layers=1,\n",
    "        num_classifiers=3,\n",
    "        max_tokens=256,\n",
    "    ) -> None:\n",
    "        super().__init__()\n",
    "        self.base_model = embedding_model\n",
    "\n",
    "        # Freeze embedding layers\n",
    "        for p in self.base_model.embeddings.parameters():\n",
    "            p.requires_grad = False\n",
    "\n",
    "        # Freeze encoder layers till last {unfrozen_layers} layers\n",
    "        for i in range(0, self.base_model.config.num_hidden_layers - unfrozen_layers):\n",
    "            for p in self.base_model.encoder.layer[i].parameters():\n",
    "                p.requires_grad = False\n",
    "\n",
    "        filter_sizes = [3, 4, 5, 6]\n",
    "        self._num_filters = 256\n",
    "        self._max_tokens = max_tokens\n",
    "        self._num_classifiers = num_classifiers\n",
    "        self._embed_size = embedding_model.config.hidden_size\n",
    "        self.unfrozen_layers = unfrozen_layers\n",
    "        self.conv_blocks = nn.ModuleList(\n",
    "            [\n",
    "                nn.ModuleList(\n",
    "                    [\n",
    "                        nn.Sequential(\n",
    "                            nn.Conv2d(1, self._num_filters, (K, self._embed_size)),\n",
    "                            nn.ReLU(),\n",
    "                            nn.Flatten(),\n",
    "                            nn.MaxPool1d(self._max_tokens - (K - 1)),\n",
    "                            nn.Flatten(start_dim=1),\n",
    "                        )\n",
    "                        for K in filter_sizes\n",
    "                    ]\n",
    "                )\n",
    "                for _ in range(self._num_classifiers)\n",
    "            ]\n",
    "        )\n",
    "\n",
    "        self.classifier_weights = nn.Parameter(torch.ones(self._num_classifiers))\n",
    "\n",
    "        self.classifiers = nn.ModuleList(\n",
    "            [\n",
    "                nn.Linear(\n",
    "                    len(filter_sizes) * self._num_filters + self._embed_size,\n",
    "                    output_size,\n",
    "                )\n",
    "                for _ in range(self._num_classifiers)\n",
    "            ]\n",
    "        )\n",
    "\n",
    "        # Dropout is ommitted as it is not mentioned in the LBTP paper\n",
    "        # self.dropout = nn.Dropout(dropout)\n",
    "\n",
    "    def forward(self, input_ids, attention_mask=None):\n",
    "        # input_ids = input[\"input_ids\"].squeeze(1).to(device)\n",
    "        # attention_mask = input[\"attention_mask\"].squeeze(1).to(device)\n",
    "\n",
    "        outputs = []\n",
    "\n",
    "        base_out = self.base_model(input_ids=input_ids, attention_mask=attention_mask, output_attentions=True)\n",
    "\n",
    "        # print(base_out.attentions)\n",
    "        \n",
    "        pooler_out = base_out.pooler_output.squeeze(0)\n",
    "        \n",
    "        if len(pooler_out.shape) == 1:\n",
    "            pooler_out = pooler_out.unsqueeze(0)\n",
    "            \n",
    "        hidden_states = base_out.hidden_states[-self._num_classifiers :]\n",
    "\n",
    "        for i in range(self._num_classifiers):\n",
    "            batch_size, sequence_length, hidden_size = hidden_states[i].size()\n",
    "            x = [\n",
    "                conv(hidden_states[i].view(batch_size, 1, sequence_length, hidden_size))\n",
    "                for conv in self.conv_blocks[i]\n",
    "            ]  \n",
    "            x = torch.cat(x, dim=1)\n",
    "            x = torch.cat([pooler_out, x], dim=1)\n",
    "            x = self.classifier_weights[i] * self.classifiers[i](x)\n",
    "\n",
    "            outputs.append(x)\n",
    "\n",
    "        return outputs"
   ]
  },
  {
   "cell_type": "code",
   "execution_count": 5,
   "metadata": {},
   "outputs": [
    {
     "name": "stdout",
     "output_type": "stream",
     "text": [
      "Load pretrained embedding model\n",
      "Loaded weights from the saved state.\n"
     ]
    },
    {
     "data": {
      "text/plain": [
       "<All keys matched successfully>"
      ]
     },
     "execution_count": 5,
     "metadata": {},
     "output_type": "execute_result"
    }
   ],
   "source": [
    "print(\"Load pretrained embedding model\")\n",
    "model_config = RobertaConfig.from_pretrained(\"roberta-large\")\n",
    "model_config.num_hidden_layers = 3\n",
    "model_config.output_hidden_states = True\n",
    "embedding_model = RobertaModel(model_config)\n",
    "embedding_model.load_state_dict(torch.load(\"/work/disa_lab/projects/triagerx/models/distillation/lbtp_gc_base.pt\"))\n",
    "print(\"Loaded weights from the saved state.\")\n",
    "\n",
    "tokenizer = RobertaTokenizer.from_pretrained(\"roberta-large\")\n",
    "\n",
    "model = LBTPClassifier(embedding_model, output_size=len(df_train.owner_id.unique()))\n",
    "model.load_state_dict(torch.load(\"/work/disa_lab/projects/triagerx/models/lbtp_dt_gc/lbtp_gc_block9.pt\"))"
   ]
  },
  {
   "cell_type": "code",
   "execution_count": null,
   "metadata": {},
   "outputs": [],
   "source": []
  },
  {
   "cell_type": "code",
   "execution_count": 99,
   "metadata": {},
   "outputs": [],
   "source": [
    "import torch\n",
    "from loguru import logger\n",
    "from torch import nn\n",
    "from transformers import AutoModel, AutoTokenizer, PreTrainedTokenizer\n",
    "\n",
    "from triagerx.model.prediction_model import PredictionModel\n",
    "\n",
    "\n",
    "class TriagerxModel(PredictionModel):\n",
    "    def __init__(\n",
    "        self,\n",
    "        output_size,\n",
    "        unfrozen_layers,\n",
    "        num_classifiers,\n",
    "        base_models,\n",
    "        dropout=0.1,\n",
    "        max_tokens=512,\n",
    "        num_filters=256,\n",
    "        label_map=None,\n",
    "    ) -> None:\n",
    "        super(TriagerxModel, self).__init__()\n",
    "\n",
    "        # Initialize base models and their respective tokenizers\n",
    "        logger.debug(f\"Loading base transformer models: {base_models}\")\n",
    "        self.base_models = nn.ModuleList(\n",
    "            [\n",
    "                AutoModel.from_pretrained(model, output_hidden_states=True)\n",
    "                for model in base_models\n",
    "            ]\n",
    "        )\n",
    "        self.tokenizers = [\n",
    "            AutoTokenizer.from_pretrained(model) for model in base_models\n",
    "        ]\n",
    "        self._label_map = label_map\n",
    "\n",
    "        if unfrozen_layers == -1:\n",
    "            logger.debug(\"Initiating full training...\")\n",
    "        else:\n",
    "            # Freeze embedding layers for all models\n",
    "            for base_model in self.base_models:\n",
    "                logger.debug(\n",
    "                    f\"Freezing {base_model.config.num_hidden_layers - unfrozen_layers} layers\"\n",
    "                )\n",
    "                for p in base_model.embeddings.parameters():\n",
    "                    p.requires_grad = False\n",
    "\n",
    "            # Freeze encoder layers until the last `unfrozen_layers` layers for all models\n",
    "            for base_model in self.base_models:\n",
    "                for i in range(\n",
    "                    0, base_model.config.num_hidden_layers - unfrozen_layers\n",
    "                ):\n",
    "                    for p in base_model.encoder.layer[i].parameters():\n",
    "                        p.requires_grad = False\n",
    "\n",
    "        # Define filter sizes for convolution layers\n",
    "        filter_sizes = [3, 4, 5, 6]\n",
    "        self._num_filters = num_filters\n",
    "        self._num_classifiers = num_classifiers\n",
    "        self._max_tokens = max_tokens\n",
    "        self.unfrozen_layers = unfrozen_layers\n",
    "\n",
    "        # Calculate total embedding size by summing hidden sizes of all base models\n",
    "        embed_sizes = [base_model.config.hidden_size for base_model in self.base_models]\n",
    "        self._embed_size = sum(embed_sizes)\n",
    "\n",
    "        # Initialize convolutional blocks for each classifier\n",
    "        self.conv_blocks = nn.ModuleList(\n",
    "            [\n",
    "                nn.ModuleList(\n",
    "                    [\n",
    "                        nn.Sequential(\n",
    "                            nn.Conv2d(\n",
    "                                1,\n",
    "                                self._num_filters,\n",
    "                                (K, self._embed_size),\n",
    "                            ),\n",
    "                            nn.BatchNorm2d(self._num_filters),\n",
    "                            nn.ReLU(),\n",
    "                            nn.Flatten(),\n",
    "                            nn.MaxPool1d(self._max_tokens - (K - 1)),\n",
    "                            nn.Flatten(start_dim=1),\n",
    "                        )\n",
    "                        for K in filter_sizes\n",
    "                    ]\n",
    "                )\n",
    "                for _ in range(self._num_classifiers)\n",
    "            ]\n",
    "        )\n",
    "\n",
    "        # Initialize classifiers for each classifier block\n",
    "        self.classifiers = nn.ModuleList(\n",
    "            [\n",
    "                nn.Linear(len(filter_sizes) * self._num_filters, output_size)\n",
    "                for _ in range(self._num_classifiers)\n",
    "            ]\n",
    "        )\n",
    "\n",
    "        self.dropout = nn.Dropout(dropout)\n",
    "\n",
    "        # Initialize learnable weights for each base model\n",
    "        self.model_weights = nn.ParameterList(\n",
    "            [nn.Parameter(torch.ones(self._num_classifiers)) for _ in self.base_models]\n",
    "        )\n",
    "        self.classifier_weights = nn.Parameter(torch.ones(self._num_classifiers))\n",
    "\n",
    "    def forward(self, input_ids1, attention_mask1, input_ids2, attention_mask2):\n",
    "        # Process input data for each base model\n",
    "        # inputs = [\n",
    "        #     {\n",
    "        #         key: value.squeeze(1).to(next(self.parameters()).device)\n",
    "        #         for key, value in model_inputs.items()\n",
    "        #     }\n",
    "        #     for model_inputs in inputs\n",
    "        # ]\n",
    "\n",
    "        hidden_states = []\n",
    "\n",
    "        # Extract hidden states from each base model\n",
    "        for idx, base_model in enumerate(self.base_models):\n",
    "            ids = None\n",
    "            mask = None\n",
    "\n",
    "            if idx == 0:\n",
    "                ids = input_ids1\n",
    "                mask = attention_mask1\n",
    "\n",
    "            if idx == 1:\n",
    "                ids = input_ids2\n",
    "                mask = attention_mask2\n",
    "\n",
    "\n",
    "            base_out = base_model(\n",
    "                input_ids=ids,\n",
    "                attention_mask=mask,\n",
    "            )\n",
    "            hidden_states.append(base_out.hidden_states[-self._num_classifiers :])\n",
    "\n",
    "        outputs = []\n",
    "\n",
    "        # Concatenate hidden states and apply convolutional blocks and classifiers\n",
    "        for i in range(self._num_classifiers):\n",
    "            # Apply learnable weights to hidden states from each base model\n",
    "            weighted_hidden_states = [\n",
    "                self.model_weights[idx][i] * hidden_states[idx][i]\n",
    "                for idx in range(len(self.base_models))\n",
    "            ]\n",
    "            concatenated_hidden_states = torch.cat(weighted_hidden_states, dim=-1)\n",
    "            batch_size, sequence_length, hidden_size = concatenated_hidden_states.size()\n",
    "            x = [\n",
    "                conv(\n",
    "                    concatenated_hidden_states.view(\n",
    "                        batch_size, 1, sequence_length, hidden_size\n",
    "                    )\n",
    "                )\n",
    "                for conv in self.conv_blocks[i]\n",
    "            ]\n",
    "            # Concatenating outputs of the convolutional blocks of different filter sizes\n",
    "            x = torch.cat(x, dim=1)\n",
    "            x = self.dropout(x)\n",
    "            x = self.classifier_weights[i] * self.classifiers[i](x)\n",
    "\n",
    "            outputs.append(x)\n",
    "\n",
    "        return outputs\n",
    "\n",
    "    def tokenizer(self, model_idx) -> PreTrainedTokenizer:\n",
    "        # Return the tokenizer for the specified base model index\n",
    "        if model_idx < 0 or model_idx >= len(self.tokenizers):\n",
    "            raise ValueError(\n",
    "                f\"Invalid model index, choose between 0 and {len(self.tokenizers) - 1}\"\n",
    "            )\n",
    "        return self.tokenizers[model_idx]\n",
    "\n",
    "    def tokenize_text(self, text):\n",
    "        return [\n",
    "            tokenizer(\n",
    "                text,\n",
    "                padding=\"max_length\",\n",
    "                max_length=self._max_tokens,\n",
    "                truncation=True,\n",
    "                return_tensors=\"pt\",\n",
    "            )\n",
    "            for tokenizer in self.tokenizers\n",
    "        ]\n",
    "\n",
    "    def get_label_map(self):\n",
    "        return self._label_map\n"
   ]
  },
  {
   "cell_type": "code",
   "execution_count": 100,
   "metadata": {},
   "outputs": [
    {
     "name": "stderr",
     "output_type": "stream",
     "text": [
      "\u001b[32m2024-07-09 18:41:19.174\u001b[0m | \u001b[34m\u001b[1mDEBUG   \u001b[0m | \u001b[36m__main__\u001b[0m:\u001b[36m__init__\u001b[0m:\u001b[36m24\u001b[0m - \u001b[34m\u001b[1mLoading base transformer models: ['microsoft/deberta-base', 'roberta-base']\u001b[0m\n",
      "Some weights of RobertaModel were not initialized from the model checkpoint at roberta-base and are newly initialized: ['roberta.pooler.dense.bias', 'roberta.pooler.dense.weight']\n",
      "You should probably TRAIN this model on a down-stream task to be able to use it for predictions and inference.\n",
      "\u001b[32m2024-07-09 18:41:20.314\u001b[0m | \u001b[34m\u001b[1mDEBUG   \u001b[0m | \u001b[36m__main__\u001b[0m:\u001b[36m__init__\u001b[0m:\u001b[36m41\u001b[0m - \u001b[34m\u001b[1mFreezing 9 layers\u001b[0m\n",
      "\u001b[32m2024-07-09 18:41:20.316\u001b[0m | \u001b[34m\u001b[1mDEBUG   \u001b[0m | \u001b[36m__main__\u001b[0m:\u001b[36m__init__\u001b[0m:\u001b[36m41\u001b[0m - \u001b[34m\u001b[1mFreezing 9 layers\u001b[0m\n"
     ]
    }
   ],
   "source": [
    "triagerx_model = TriagerxModel(\n",
    "    output_size=len(df_train.owner.unique()),\n",
    "    unfrozen_layers=3,\n",
    "    num_classifiers=3,\n",
    "    base_models=[\"microsoft/deberta-base\", \"roberta-base\"],\n",
    "    dropout=0.2,\n",
    "    max_tokens=256,\n",
    "    num_filters=256,\n",
    "    label_map=None,\n",
    ")"
   ]
  },
  {
   "cell_type": "code",
   "execution_count": 101,
   "metadata": {},
   "outputs": [
    {
     "data": {
      "text/plain": [
       "<All keys matched successfully>"
      ]
     },
     "execution_count": 101,
     "metadata": {},
     "output_type": "execute_result"
    }
   ],
   "source": [
    "triagerx_model.load_state_dict(torch.load(\"/work/disa_lab/projects/triagerx/models/deeptriage/triagerx_ensemble_dt_gc_th20_block9_seed42.pt\"))"
   ]
  },
  {
   "cell_type": "code",
   "execution_count": 102,
   "metadata": {},
   "outputs": [],
   "source": [
    "triagerx_model = triagerx_model.cuda()"
   ]
  },
  {
   "cell_type": "code",
   "execution_count": 103,
   "metadata": {},
   "outputs": [
    {
     "data": {
      "text/plain": [
       "('zork@chromium.org',\n",
       " 'Bug Title: Add unit tests for office document mime sniffing\\nBug Description: The sniffing capability was added, but we need tests to prevent regressions.')"
      ]
     },
     "execution_count": 103,
     "metadata": {},
     "output_type": "execute_result"
    }
   ],
   "source": [
    "get_data(982, 1)"
   ]
  },
  {
   "cell_type": "code",
   "execution_count": 105,
   "metadata": {},
   "outputs": [
    {
     "data": {
      "text/plain": [
       "tensor([982], device='cuda:0')"
      ]
     },
     "execution_count": 105,
     "metadata": {},
     "output_type": "execute_result"
    }
   ],
   "source": [
    "owner, text = get_data(982, 0)\n",
    "id1,  m1, id2, m2 = process_data_for_triagerx(text, triagerx_model)\n",
    "\n",
    "triagerx_model.eval()\n",
    "output = triagerx_model(id1, m1, id2, m2)\n",
    "output = torch.sum(torch.stack(output), 0)\n",
    "output.argmax(dim=1)"
   ]
  },
  {
   "cell_type": "code",
   "execution_count": 210,
   "metadata": {},
   "outputs": [],
   "source": [
    "def clean_data(df):\n",
    "    df[\"text2\"] = df.apply(\n",
    "        lambda x: str(x[\"issue_title\"]) + \"\\n\" + str(x[\"description\"]),\n",
    "        axis=1,\n",
    "    )\n",
    "    df[\"text2\"] = df[\"text2\"].str.replace(\n",
    "        \"http[s]?://(?:[a-zA-Z]|[0-9]|[$-_@.&+]|[!*\\(\\),]|(?:%[0-9a-fA-F][0-9a-fA-F]))+\",\n",
    "        \" \",\n",
    "        regex=True,\n",
    "    )\n",
    "    df[\"text2\"] = df[\"text2\"].str.replace(\"[^A-Za-z0-9 ]+\", \" \", regex=True)\n",
    "    df[\"text2\"] = df[\"text2\"].str.replace(\" +\", \" \", regex=True)\n",
    "\n",
    "    min_length = 15\n",
    "    df = df[df[\"text2\"].str.len().gt(min_length)]\n",
    "\n",
    "    return df\n",
    "\n",
    "df_test = clean_data(df_test)\n",
    "# dataset = TriageDataset(df_test, tokenizer)\n",
    "# val_dataloader = DataLoader(dataset, batch_size=1, drop_last=True)"
   ]
  },
  {
   "cell_type": "code",
   "execution_count": 211,
   "metadata": {},
   "outputs": [
    {
     "data": {
      "text/html": [
       "<div>\n",
       "<style scoped>\n",
       "    .dataframe tbody tr th:only-of-type {\n",
       "        vertical-align: middle;\n",
       "    }\n",
       "\n",
       "    .dataframe tbody tr th {\n",
       "        vertical-align: top;\n",
       "    }\n",
       "\n",
       "    .dataframe thead th {\n",
       "        text-align: right;\n",
       "    }\n",
       "</style>\n",
       "<table border=\"1\" class=\"dataframe\">\n",
       "  <thead>\n",
       "    <tr style=\"text-align: right;\">\n",
       "      <th></th>\n",
       "      <th>owner</th>\n",
       "      <th>issue_title</th>\n",
       "      <th>description</th>\n",
       "      <th>owner_id</th>\n",
       "      <th>text</th>\n",
       "      <th>text2</th>\n",
       "    </tr>\n",
       "  </thead>\n",
       "  <tbody>\n",
       "    <tr>\n",
       "      <th>98973</th>\n",
       "      <td>kojii@chromium.org</td>\n",
       "      <td>English text character spacing issue in Korean...</td>\n",
       "      <td>Version: 37.0.2062.20 (Official Build 283104)O...</td>\n",
       "      <td>490</td>\n",
       "      <td>Bug Title: English text character spacing issu...</td>\n",
       "      <td>English text character spacing issue in Korean...</td>\n",
       "    </tr>\n",
       "    <tr>\n",
       "      <th>98974</th>\n",
       "      <td>dalecur...@chromium.org</td>\n",
       "      <td>Trying to initialize AVDA w/ known-unaccelerat...</td>\n",
       "      <td>This can cost up to 300ms on slower devices --...</td>\n",
       "      <td>169</td>\n",
       "      <td>Bug Title: Trying to initialize AVDA w/ known-...</td>\n",
       "      <td>Trying to initialize AVDA w known unaccelerate...</td>\n",
       "    </tr>\n",
       "    <tr>\n",
       "      <th>98975</th>\n",
       "      <td>treib@chromium.org</td>\n",
       "      <td>Account picture not auto-populated</td>\n",
       "      <td>Chrome Version : M38 Canary OSXReported by akl...</td>\n",
       "      <td>885</td>\n",
       "      <td>Bug Title: Account picture not auto-populated\\...</td>\n",
       "      <td>Account picture not auto populated Chrome Vers...</td>\n",
       "    </tr>\n",
       "    <tr>\n",
       "      <th>98976</th>\n",
       "      <td>maxbogue@chromium.org</td>\n",
       "      <td>Sync should have a histogram for encryption st...</td>\n",
       "      <td>Record it on startup, with the following bucke...</td>\n",
       "      <td>545</td>\n",
       "      <td>Bug Title: Sync should have a histogram for en...</td>\n",
       "      <td>Sync should have a histogram for encryption st...</td>\n",
       "    </tr>\n",
       "    <tr>\n",
       "      <th>98977</th>\n",
       "      <td>sigbjo...@opera.com</td>\n",
       "      <td>12.1%-17% regression in blink_perf.parser at 3...</td>\n",
       "      <td>See the link to graphs below.</td>\n",
       "      <td>801</td>\n",
       "      <td>Bug Title: 12.1%-17% regression in blink_perf....</td>\n",
       "      <td>12 1 17 regression in blink perf parser at 310...</td>\n",
       "    </tr>\n",
       "    <tr>\n",
       "      <th>...</th>\n",
       "      <td>...</td>\n",
       "      <td>...</td>\n",
       "      <td>...</td>\n",
       "      <td>...</td>\n",
       "      <td>...</td>\n",
       "      <td>...</td>\n",
       "    </tr>\n",
       "    <tr>\n",
       "      <th>109965</th>\n",
       "      <td>bokan@chromium.org</td>\n",
       "      <td>[Pinch-to-zoom] Move pinch viewport into WebCore</td>\n",
       "      <td>In order to to support the new inner/outer vie...</td>\n",
       "      <td>105</td>\n",
       "      <td>Bug Title: [Pinch-to-zoom] Move pinch viewport...</td>\n",
       "      <td>Pinch to zoom Move pinch viewport into WebCor...</td>\n",
       "    </tr>\n",
       "    <tr>\n",
       "      <th>109966</th>\n",
       "      <td>armansito@chromium.org</td>\n",
       "      <td>Leaks in BluetoothApiTest tests after r255262</td>\n",
       "      <td>leak of 32 byte(s) in 1 object(s) allocated fr...</td>\n",
       "      <td>60</td>\n",
       "      <td>Bug Title: Leaks in BluetoothApiTest tests aft...</td>\n",
       "      <td>Leaks in BluetoothApiTest tests after r255262 ...</td>\n",
       "    </tr>\n",
       "    <tr>\n",
       "      <th>109967</th>\n",
       "      <td>dpolukhin@chromium.org</td>\n",
       "      <td>InvalidRead in MachineStatisticsInitializer::M...</td>\n",
       "      <td>dpolukhi@, your change is only cros specific c...</td>\n",
       "      <td>220</td>\n",
       "      <td>Bug Title: InvalidRead in MachineStatisticsIni...</td>\n",
       "      <td>InvalidRead in MachineStatisticsInitializer Ma...</td>\n",
       "    </tr>\n",
       "    <tr>\n",
       "      <th>109968</th>\n",
       "      <td>roc...@chromium.org</td>\n",
       "      <td>Docserver: support APIs moving out of src/chrome</td>\n",
       "      <td>The doc server is built to index only chrome/c...</td>\n",
       "      <td>726</td>\n",
       "      <td>Bug Title: Docserver: support APIs moving out ...</td>\n",
       "      <td>Docserver support APIs moving out of src chrom...</td>\n",
       "    </tr>\n",
       "    <tr>\n",
       "      <th>109969</th>\n",
       "      <td>a...@chromium.org</td>\n",
       "      <td>Class filter is broken</td>\n",
       "      <td>1. Take a heap snapshot2. In summary view type...</td>\n",
       "      <td>1</td>\n",
       "      <td>Bug Title: Class filter is broken\\nBug Descrip...</td>\n",
       "      <td>Class filter is broken 1 Take a heap snapshot2...</td>\n",
       "    </tr>\n",
       "  </tbody>\n",
       "</table>\n",
       "<p>10781 rows × 6 columns</p>\n",
       "</div>"
      ],
      "text/plain": [
       "                          owner  \\\n",
       "98973        kojii@chromium.org   \n",
       "98974   dalecur...@chromium.org   \n",
       "98975        treib@chromium.org   \n",
       "98976     maxbogue@chromium.org   \n",
       "98977       sigbjo...@opera.com   \n",
       "...                         ...   \n",
       "109965       bokan@chromium.org   \n",
       "109966   armansito@chromium.org   \n",
       "109967   dpolukhin@chromium.org   \n",
       "109968      roc...@chromium.org   \n",
       "109969        a...@chromium.org   \n",
       "\n",
       "                                              issue_title  \\\n",
       "98973   English text character spacing issue in Korean...   \n",
       "98974   Trying to initialize AVDA w/ known-unaccelerat...   \n",
       "98975                  Account picture not auto-populated   \n",
       "98976   Sync should have a histogram for encryption st...   \n",
       "98977   12.1%-17% regression in blink_perf.parser at 3...   \n",
       "...                                                   ...   \n",
       "109965   [Pinch-to-zoom] Move pinch viewport into WebCore   \n",
       "109966      Leaks in BluetoothApiTest tests after r255262   \n",
       "109967  InvalidRead in MachineStatisticsInitializer::M...   \n",
       "109968   Docserver: support APIs moving out of src/chrome   \n",
       "109969                             Class filter is broken   \n",
       "\n",
       "                                              description  owner_id  \\\n",
       "98973   Version: 37.0.2062.20 (Official Build 283104)O...       490   \n",
       "98974   This can cost up to 300ms on slower devices --...       169   \n",
       "98975   Chrome Version : M38 Canary OSXReported by akl...       885   \n",
       "98976   Record it on startup, with the following bucke...       545   \n",
       "98977                       See the link to graphs below.       801   \n",
       "...                                                   ...       ...   \n",
       "109965  In order to to support the new inner/outer vie...       105   \n",
       "109966  leak of 32 byte(s) in 1 object(s) allocated fr...        60   \n",
       "109967  dpolukhi@, your change is only cros specific c...       220   \n",
       "109968  The doc server is built to index only chrome/c...       726   \n",
       "109969  1. Take a heap snapshot2. In summary view type...         1   \n",
       "\n",
       "                                                     text  \\\n",
       "98973   Bug Title: English text character spacing issu...   \n",
       "98974   Bug Title: Trying to initialize AVDA w/ known-...   \n",
       "98975   Bug Title: Account picture not auto-populated\\...   \n",
       "98976   Bug Title: Sync should have a histogram for en...   \n",
       "98977   Bug Title: 12.1%-17% regression in blink_perf....   \n",
       "...                                                   ...   \n",
       "109965  Bug Title: [Pinch-to-zoom] Move pinch viewport...   \n",
       "109966  Bug Title: Leaks in BluetoothApiTest tests aft...   \n",
       "109967  Bug Title: InvalidRead in MachineStatisticsIni...   \n",
       "109968  Bug Title: Docserver: support APIs moving out ...   \n",
       "109969  Bug Title: Class filter is broken\\nBug Descrip...   \n",
       "\n",
       "                                                    text2  \n",
       "98973   English text character spacing issue in Korean...  \n",
       "98974   Trying to initialize AVDA w known unaccelerate...  \n",
       "98975   Account picture not auto populated Chrome Vers...  \n",
       "98976   Sync should have a histogram for encryption st...  \n",
       "98977   12 1 17 regression in blink perf parser at 310...  \n",
       "...                                                   ...  \n",
       "109965   Pinch to zoom Move pinch viewport into WebCor...  \n",
       "109966  Leaks in BluetoothApiTest tests after r255262 ...  \n",
       "109967  InvalidRead in MachineStatisticsInitializer Ma...  \n",
       "109968  Docserver support APIs moving out of src chrom...  \n",
       "109969  Class filter is broken 1 Take a heap snapshot2...  \n",
       "\n",
       "[10781 rows x 6 columns]"
      ]
     },
     "execution_count": 211,
     "metadata": {},
     "output_type": "execute_result"
    }
   ],
   "source": [
    "df_test"
   ]
  },
  {
   "cell_type": "code",
   "execution_count": 17,
   "metadata": {},
   "outputs": [],
   "source": [
    "# Define model output\n",
    "def model_output(inputs):\n",
    "  model.eval()\n",
    "  output = model(inputs)\n",
    "  return torch.sum(torch.stack(output), 0)\n",
    "\n",
    "# Define model input\n",
    "model_input = model.base_models.embeddings"
   ]
  },
  {
   "cell_type": "code",
   "execution_count": 67,
   "metadata": {},
   "outputs": [
    {
     "data": {
      "text/plain": [
       "DebertaEmbeddings(\n",
       "  (word_embeddings): Embedding(50265, 768, padding_idx=0)\n",
       "  (LayerNorm): DebertaLayerNorm()\n",
       "  (dropout): StableDropout()\n",
       ")"
      ]
     },
     "execution_count": 67,
     "metadata": {},
     "output_type": "execute_result"
    }
   ],
   "source": [
    "triagerx_model.base_models[0].embeddings"
   ]
  },
  {
   "cell_type": "code",
   "execution_count": 117,
   "metadata": {},
   "outputs": [],
   "source": [
    "# Define model output\n",
    "def model_output_triagerx(id1, m1, id2, m2):\n",
    "  model.eval()\n",
    "  output = triagerx_model(id1, m1, id2, m2)\n",
    "  return torch.sum(torch.stack(output), 0)\n",
    "\n",
    "# Define model input\n",
    "triagerx_model_input = [triagerx_model.base_models[0].embeddings, triagerx_model.base_models[1].embeddings]"
   ]
  },
  {
   "cell_type": "code",
   "execution_count": 18,
   "metadata": {},
   "outputs": [],
   "source": [
    "from captum.attr import LayerIntegratedGradients\n",
    "\n",
    "lig = LayerIntegratedGradients(model_output, model_input)"
   ]
  },
  {
   "cell_type": "code",
   "execution_count": 118,
   "metadata": {},
   "outputs": [
    {
     "name": "stderr",
     "output_type": "stream",
     "text": [
      "/home/mdafifal.mamun/miniconda3/envs/trx/lib/python3.10/site-packages/captum/attr/_core/layer/layer_integrated_gradients.py:101: UserWarning: Multiple layers provided. Please ensure that each layer is**not** solely dependent on the outputs ofanother layer. Please refer to the documentation for moredetail.\n",
      "  warnings.warn(\n"
     ]
    }
   ],
   "source": [
    "triagerx_lig = LayerIntegratedGradients(model_output_triagerx, triagerx_model_input)"
   ]
  },
  {
   "cell_type": "code",
   "execution_count": 200,
   "metadata": {},
   "outputs": [],
   "source": [
    "def get_data(owner_id, sample_index):\n",
    "    sample = df_test[df_test[\"owner_id\"] == owner_id].iloc[sample_index]\n",
    "\n",
    "    return sample.owner, sample.text, sample.text2"
   ]
  },
  {
   "cell_type": "code",
   "execution_count": 208,
   "metadata": {},
   "outputs": [
    {
     "data": {
      "text/plain": [
       "('a...@chromium.org',\n",
       " 'Bug Title: Android MediaInfoLoader doesn\\'t follow redirects\\nBug Description: r352531 renamed WebURLLoaderClient::willSendRequest() to willFollowRedirect() . It renamed the function in a bunch of overriding classes, too, but it missed the Android MediaInfoLoader. Functions overriding Blink base classes aren\\'t forced to have the \"override\" annotation, and this one didn\\'t, so it was missed. (The Blink base class exemption is being closed in bug 535367; this work is how this issue was discovered.)I don\\'t know for certain if this is a real problem, but my gut says it\\'s pretty bad. The fix is simple, but will likely to be merged. M-47 predated the rename by 300 revs (phew!), so if we merge, M-48 will be the target.See .',\n",
       " 'Bug Title: Android MediaInfoLoader doesn\\'t follow redirects\\nBug Description: r352531 renamed WebURLLoaderClient::willSendRequest() to willFollowRedirect() . It renamed the function in a bunch of overriding classes, too, but it missed the Android MediaInfoLoader. Functions overriding Blink base classes aren\\'t forced to have the \"override\" annotation, and this one didn\\'t, so it was missed. (The Blink base class exemption is being closed in bug 535367; this work is how this issue was discovered.)I don\\'t know for certain if this is a real problem, but my gut says it\\'s pretty bad. The fix is simple, but will likely to be merged. M-47 predated the rename by 300 revs (phew!), so if we merge, M-48 will be the target.See .')"
      ]
     },
     "execution_count": 208,
     "metadata": {},
     "output_type": "execute_result"
    }
   ],
   "source": [
    "get_data(1, 2)"
   ]
  },
  {
   "cell_type": "code",
   "execution_count": 201,
   "metadata": {},
   "outputs": [
    {
     "name": "stdout",
     "output_type": "stream",
     "text": [
      "original text: tensor([[    1, 46379, 13497,    35, 15745,  1295,  5209, 13561,  3260,   197,\n",
      "            28,  1373,   227, 14050,     8,  3208, 50118, 46379, 33425,    35,\n",
      "          1868,  2454,   500, 44827, 17357,  3548, 48455,     8,  2454,   500,\n",
      "         44827, 42375,   486,  1542, 38304, 40025,   877,   534, 46508,     8,\n",
      "         12760,  1397,    22, 35685,  1215,   113,     7,  5368,     5,  5209,\n",
      "         13561,     4,   152,  3260, 41988,   197,    28,  4460,     4,   170,\n",
      "           115,  1169,  1606,    10,  5448,     7,    10,  8309,  6229,  2454,\n",
      "           500, 44827,  1380,    50,  2532,  5368,     5, 13561,    15,     5,\n",
      "          1765,   526,     8,  1622,  1323,    24,     7, 21384, 43929,     4,\n",
      "         29774,  8845,    15,     5,   464,    14,  3639, 21384, 43929,  5574,\n",
      "            13,  3208,    35,     2,     0,     0,     0,     0,     0,     0,\n",
      "             0,     0,     0,     0,     0,     0,     0,     0,     0,     0,\n",
      "             0,     0,     0,     0,     0,     0,     0,     0,     0,     0,\n",
      "             0,     0,     0,     0,     0,     0,     0,     0,     0,     0,\n",
      "             0,     0,     0,     0,     0,     0,     0,     0,     0,     0,\n",
      "             0,     0,     0,     0,     0,     0,     0,     0,     0,     0,\n",
      "             0,     0,     0,     0,     0,     0,     0,     0,     0,     0,\n",
      "             0,     0,     0,     0,     0,     0,     0,     0,     0,     0,\n",
      "             0,     0,     0,     0,     0,     0,     0,     0,     0,     0,\n",
      "             0,     0,     0,     0,     0,     0,     0,     0,     0,     0,\n",
      "             0,     0,     0,     0,     0,     0,     0,     0,     0,     0,\n",
      "             0,     0,     0,     0,     0,     0,     0,     0,     0,     0,\n",
      "             0,     0,     0,     0,     0,     0,     0,     0,     0,     0,\n",
      "             0,     0,     0,     0,     0,     0,     0,     0,     0,     0,\n",
      "             0,     0,     0,     0,     0,     0,     0,     0,     0,     0,\n",
      "             0,     0,     0,     0,     0,     0]], device='cuda:0')\n",
      "baseline text: ['[CLS]', 'Bug', 'ĠTitle', ':', 'ĠGener', 'ating', 'Ġpresentation', 'Ġid', 'Ġcode', 'Ġshould', 'Ġbe', 'Ġshared', 'Ġbetween', 'Ġdesktop', 'Ġand', 'ĠAndroid', 'Ċ', 'Bug', 'ĠDescription', ':', 'ĠBoth', 'ĠMedia', 'R', 'outer', 'Mo', 'jo', 'Impl', 'Ġand', 'ĠMedia', 'R', 'outer', 'Android', 'Ġcall', 'Ġbase', '::', 'Gener', 'ate', 'G', 'UID', 'Ġand', 'Ġprep', 'end', 'Ġ\"', 'mr', '_', '\"', 'Ġto', 'Ġgenerate', 'Ġthe', 'Ġpresentation', 'Ġid', '.', 'ĠThis', 'Ġcode', 'Ġduplication', 'Ġshould', 'Ġbe', 'Ġfixed', '.', 'We', 'Ġcould', 'Ġeither', 'Ġadd', 'Ġa', 'Ġmethod', 'Ġto', 'Ġa', 'Ġpure', 'Ġvirtual', 'ĠMedia', 'R', 'outer', 'Ġclass', 'Ġor', 'Ġperhaps', 'Ġgenerate', 'Ġthe', 'Ġid', 'Ġon', 'Ġthe', 'Ġcalling', 'Ġside', 'Ġand', 'Ġsimply', 'Ġpass', 'Ġit', 'Ġto', 'ĠCreate', 'Route', '.', 'Dep', 'ends', 'Ġon', 'Ġthe', 'Ġchange', 'Ġthat', 'Ġadds', 'ĠCreate', 'Route', 'Ġimplementation', 'Ġfor', 'ĠAndroid', ':', '[SEP]', '[PAD]', '[PAD]', '[PAD]', '[PAD]', '[PAD]', '[PAD]', '[PAD]', '[PAD]', '[PAD]', '[PAD]', '[PAD]', '[PAD]', '[PAD]', '[PAD]', '[PAD]', '[PAD]', '[PAD]', '[PAD]', '[PAD]', '[PAD]', '[PAD]', '[PAD]', '[PAD]', '[PAD]', '[PAD]', '[PAD]', '[PAD]', '[PAD]', '[PAD]', '[PAD]', '[PAD]', '[PAD]', '[PAD]', '[PAD]', '[PAD]', '[PAD]', '[PAD]', '[PAD]', '[PAD]', '[PAD]', '[PAD]', '[PAD]', '[PAD]', '[PAD]', '[PAD]', '[PAD]', '[PAD]', '[PAD]', '[PAD]', '[PAD]', '[PAD]', '[PAD]', '[PAD]', '[PAD]', '[PAD]', '[PAD]', '[PAD]', '[PAD]', '[PAD]', '[PAD]', '[PAD]', '[PAD]', '[PAD]', '[PAD]', '[PAD]', '[PAD]', '[PAD]', '[PAD]', '[PAD]', '[PAD]', '[PAD]', '[PAD]', '[PAD]', '[PAD]', '[PAD]', '[PAD]', '[PAD]', '[PAD]', '[PAD]', '[PAD]', '[PAD]', '[PAD]', '[PAD]', '[PAD]', '[PAD]', '[PAD]', '[PAD]', '[PAD]', '[PAD]', '[PAD]', '[PAD]', '[PAD]', '[PAD]', '[PAD]', '[PAD]', '[PAD]', '[PAD]', '[PAD]', '[PAD]', '[PAD]', '[PAD]', '[PAD]', '[PAD]', '[PAD]', '[PAD]', '[PAD]', '[PAD]', '[PAD]', '[PAD]', '[PAD]', '[PAD]', '[PAD]', '[PAD]', '[PAD]', '[PAD]', '[PAD]', '[PAD]', '[PAD]', '[PAD]', '[PAD]', '[PAD]', '[PAD]', '[PAD]', '[PAD]', '[PAD]', '[PAD]', '[PAD]', '[PAD]', '[PAD]', '[PAD]', '[PAD]', '[PAD]', '[PAD]', '[PAD]', '[PAD]', '[PAD]', '[PAD]', '[PAD]', '[PAD]', '[PAD]', '[PAD]', '[PAD]', '[PAD]', '[PAD]', '[PAD]', '[PAD]', '[PAD]', '[PAD]', '[PAD]', '[PAD]', '[PAD]', '[PAD]']\n",
      "[0, 0, 0, 0, 0, 0, 0, 0, 0, 0, 0, 0, 0, 0, 0, 0, 0, 0, 0, 0, 0, 0, 0, 0, 0, 0, 0, 0, 0, 0, 0, 0, 0, 0, 0, 0, 0, 0, 0, 0, 0, 0, 0, 0, 0, 0, 0, 0, 0, 0, 0, 0, 0, 0, 0, 0, 0, 0, 0, 0, 0, 0, 0, 0, 0, 0, 0, 0, 0, 0, 0, 0, 0, 0, 0, 0, 0, 0, 0, 0, 0, 0, 0, 0, 0, 0, 0, 0, 0, 0, 0, 0, 0, 0, 0, 0, 0, 0, 0, 0, 0, 0, 0, 0, 0, 0, 0, 0, 0, 0, 0, 0, 0, 0, 0, 0, 0, 0, 0, 0, 0, 0, 0, 0, 0, 0, 0, 0, 0, 0, 0, 0, 0, 0, 0, 0, 0, 0, 0, 0, 0, 0, 0, 0, 0, 0, 0, 0, 0, 0, 0, 0, 0, 0, 0, 0, 0, 0, 0, 0, 0, 0, 0, 0, 0, 0, 0, 0, 0, 0, 0, 0, 0, 0, 0, 0, 0, 0, 0, 0, 0, 0, 0, 0, 0, 0, 0, 0, 0, 0, 0, 0, 0, 0, 0, 0, 0, 0, 0, 0, 0, 0, 0, 0, 0, 0, 0, 0, 0, 0, 0, 0, 0, 0, 0, 0, 0, 0, 0, 0, 0, 0, 0, 0, 0, 0, 0, 0, 0, 0, 0, 0, 0, 0, 0, 0, 0, 0, 0, 0, 0, 0, 0, 0, 0, 0, 0, 0, 0, 0, 0, 0, 0, 0, 0, 0]\n"
     ]
    }
   ],
   "source": [
    "def construct_input_and_baseline_triagerx(text):\n",
    "\n",
    "    max_length = 256\n",
    "    baseline_token_id1 = triagerx_model.tokenizer(0).pad_token_id \n",
    "    baseline_token_id2 = triagerx_model.tokenizer(1).pad_token_id \n",
    "    # sep_token_id = tokenizer.sep_token_id \n",
    "    # cls_token_id = tokenizer.cls_token_id \n",
    "\n",
    "    id1, m1, id2, m2 = process_data_for_triagerx(text, triagerx_model, max_length=max_length)\n",
    "   \n",
    "    # input_ids = [cls_token_id] + text_ids + [sep_token_id]\n",
    "    token_list = triagerx_model.tokenizer(0).convert_ids_to_tokens(id1.squeeze())\n",
    "\n",
    "    baseline1 = [baseline_token_id1] * max_length\n",
    "    baseline2 = [baseline_token_id2] * max_length\n",
    "    return id1, m1, id2, m2, baseline1, baseline2, token_list\n",
    "\n",
    "owner, text, _ = get_data(72, 1)\n",
    "id1, m1, id2, m2, baseline1, baseline2, token_list = construct_input_and_baseline_triagerx(text)\n",
    "\n",
    "print(f'original text: {id1}')\n",
    "print(f'baseline text: {token_list}')\n",
    "print(baseline1)"
   ]
  },
  {
   "cell_type": "code",
   "execution_count": 202,
   "metadata": {},
   "outputs": [
    {
     "name": "stdout",
     "output_type": "stream",
     "text": [
      "original text: tensor([[    0, 46379, 13497,    35, 15745,  1295,  5209, 13561,  3260,   197,\n",
      "            28,  1373,   227, 14050,     8,  3208, 50118, 46379, 33425,    35,\n",
      "          1868,  2454,   500, 44827, 17357,  3548, 48455,     8,  2454,   500,\n",
      "         44827, 42375,   486,  1542, 38304, 40025,   877,   534, 46508,     8,\n",
      "         12760,  1397,    22, 35685,  1215,   113,     7,  5368,     5,  5209,\n",
      "         13561,     4,   152,  3260, 41988,   197,    28,  4460,     4,   170,\n",
      "           115,  1169,  1606,    10,  5448,     7,    10,  8309,  6229,  2454,\n",
      "           500, 44827,  1380,    50,  2532,  5368,     5, 13561,    15,     5,\n",
      "          1765,   526,     8,  1622,  1323,    24,     7, 21384, 43929,     4,\n",
      "         29774,  8845,    15,     5,   464,    14,  3639, 21384, 43929,  5574,\n",
      "            13,  3208,    35,     1,     1,     1,     1,     1,     1,     1,\n",
      "             1,     1,     1,     1,     1,     1,     1,     1,     1,     1,\n",
      "             1,     1,     1,     1,     1,     1,     1,     1,     1,     1,\n",
      "             1,     1,     1,     1,     1,     1,     1,     1,     1,     1,\n",
      "             1,     1,     1,     1,     1,     1,     1,     1,     1,     1,\n",
      "             1,     1,     1,     1,     1,     1,     1,     1,     1,     1,\n",
      "             1,     1,     1,     1,     1,     1,     1,     1,     1,     1,\n",
      "             1,     1,     1,     1,     1,     1,     1,     1,     1,     1,\n",
      "             1,     1,     1,     1,     1,     1,     1,     1,     1,     1,\n",
      "             1,     1,     1,     1,     1,     1,     1,     1,     1,     1,\n",
      "             1,     1,     1,     1,     1,     1,     1,     1,     1,     1,\n",
      "             1,     1,     1,     1,     1,     1,     1,     1,     1,     1,\n",
      "             1,     1,     1,     1,     1,     1,     1,     1,     1,     1,\n",
      "             1,     1,     1,     1,     1,     1,     1,     1,     1,     1,\n",
      "             1,     1,     1,     1,     1,     1,     1,     1,     1,     1,\n",
      "             1,     1,     1,     1,     1,     2]])\n",
      "baseline text: tensor([[0, 1, 1, 1, 1, 1, 1, 1, 1, 1, 1, 1, 1, 1, 1, 1, 1, 1, 1, 1, 1, 1, 1, 1,\n",
      "         1, 1, 1, 1, 1, 1, 1, 1, 1, 1, 1, 1, 1, 1, 1, 1, 1, 1, 1, 1, 1, 1, 1, 1,\n",
      "         1, 1, 1, 1, 1, 1, 1, 1, 1, 1, 1, 1, 1, 1, 1, 1, 1, 1, 1, 1, 1, 1, 1, 1,\n",
      "         1, 1, 1, 1, 1, 1, 1, 1, 1, 1, 1, 1, 1, 1, 1, 1, 1, 1, 1, 1, 1, 1, 1, 1,\n",
      "         1, 1, 1, 1, 1, 1, 1, 1, 1, 1, 1, 1, 1, 1, 1, 1, 1, 1, 1, 1, 1, 1, 1, 1,\n",
      "         1, 1, 1, 1, 1, 1, 1, 1, 1, 1, 1, 1, 1, 1, 1, 1, 1, 1, 1, 1, 1, 1, 1, 1,\n",
      "         1, 1, 1, 1, 1, 1, 1, 1, 1, 1, 1, 1, 1, 1, 1, 1, 1, 1, 1, 1, 1, 1, 1, 1,\n",
      "         1, 1, 1, 1, 1, 1, 1, 1, 1, 1, 1, 1, 1, 1, 1, 1, 1, 1, 1, 1, 1, 1, 1, 1,\n",
      "         1, 1, 1, 1, 1, 1, 1, 1, 1, 1, 1, 1, 1, 1, 1, 1, 1, 1, 1, 1, 1, 1, 1, 1,\n",
      "         1, 1, 1, 1, 1, 1, 1, 1, 1, 1, 1, 1, 1, 1, 1, 1, 1, 1, 1, 1, 1, 1, 1, 1,\n",
      "         1, 1, 1, 1, 1, 1, 1, 1, 1, 1, 1, 1, 1, 1, 1, 2]])\n"
     ]
    }
   ],
   "source": [
    "def construct_input_and_baseline(text):\n",
    "\n",
    "    max_length = 254\n",
    "    baseline_token_id = tokenizer.pad_token_id \n",
    "    sep_token_id = tokenizer.sep_token_id \n",
    "    cls_token_id = tokenizer.cls_token_id \n",
    "\n",
    "    text_ids = tokenizer.encode(text, max_length=max_length, padding=\"max_length\", truncation=True, add_special_tokens=False)\n",
    "   \n",
    "    input_ids = [cls_token_id] + text_ids + [sep_token_id]\n",
    "    token_list = tokenizer.convert_ids_to_tokens(input_ids)\n",
    "\n",
    "    baseline_input_ids = [cls_token_id] + [baseline_token_id] * len(text_ids) + [sep_token_id]\n",
    "    return torch.tensor([input_ids], device='cpu'), torch.tensor([baseline_input_ids], device='cpu'), token_list\n",
    "\n",
    "owner, _, text = get_data(72, 1)\n",
    "input_ids, baseline_input_ids, all_tokens = construct_input_and_baseline(text)\n",
    "\n",
    "print(f'original text: {input_ids}')\n",
    "print(f'baseline text: {baseline_input_ids}')"
   ]
  },
  {
   "cell_type": "code",
   "execution_count": 191,
   "metadata": {},
   "outputs": [
    {
     "data": {
      "text/plain": [
       "tensor([[4, 6]])"
      ]
     },
     "execution_count": 191,
     "metadata": {},
     "output_type": "execute_result"
    }
   ],
   "source": [
    "sum([torch.tensor([[1, 2]]), torch.tensor([[3, 4]])])"
   ]
  },
  {
   "cell_type": "code",
   "execution_count": 192,
   "metadata": {},
   "outputs": [],
   "source": [
    "def summarize_attributions_triagerx(attributions):\n",
    "\n",
    "    attributions = sum(attributions)\n",
    "\n",
    "    attributions = attributions.sum(dim=-1).squeeze(0)\n",
    "    attributions = attributions / torch.norm(attributions)\n",
    "    \n",
    "    return attributions\n",
    "\n",
    "def summarize_attributions(attributions):\n",
    "    attributions = attributions.sum(dim=-1).squeeze(0)\n",
    "    attributions = attributions / torch.norm(attributions)\n",
    "    \n",
    "    return attributions\n",
    "\n",
    "# attributions_sum = summarize_attributions(attributions)\n",
    "# print(attributions_sum.size())"
   ]
  },
  {
   "cell_type": "code",
   "execution_count": 227,
   "metadata": {},
   "outputs": [],
   "source": [
    "from captum.attr import visualization as viz\n",
    "import matplotlib.pyplot as plt\n",
    "\n",
    "def interpret_text_triagerx(text, true_class):\n",
    "    id1, m1, id2, m2, baseline1, baseline2, all_tokens = construct_input_and_baseline_triagerx(text)\n",
    "    baseline1 = torch.tensor([baseline1]).to(device)\n",
    "    baseline2 = torch.tensor([baseline2]).to(device)\n",
    "    attributions, delta = triagerx_lig.attribute(inputs=(id1, m1, id2, m2),\n",
    "                                    baselines= (baseline1, baseline1, baseline2, baseline2),\n",
    "                                    return_convergence_delta=True,\n",
    "                                    internal_batch_size=1,\n",
    "                                    target=true_class\n",
    "                                    )\n",
    "    attributions_sum = summarize_attributions_triagerx(attributions)\n",
    "\n",
    "    all_tokens= [token for token in all_tokens if token != triagerx_model.tokenizer(0).pad_token]\n",
    "\n",
    "    print(all_tokens)\n",
    "    print(triagerx_model.tokenizer(0).pad_token)\n",
    "\n",
    "    score_vis = viz.VisualizationDataRecord(\n",
    "                        word_attributions = attributions_sum,\n",
    "                        pred_prob = torch.max(model_output_triagerx(id1, m1, id2, m2)[0]),\n",
    "                        pred_class = torch.argmax(model_output_triagerx(id1, m1, id2, m2)[0]).cpu().numpy(),\n",
    "                        true_class = true_class,\n",
    "                        attr_class = text,\n",
    "                        attr_score = attributions_sum.sum(),       \n",
    "                        raw_input_ids = all_tokens,\n",
    "                        convergence_score = delta)\n",
    "\n",
    "    viz.visualize_text([score_vis])\n",
    "\n",
    "    fig, ax = plt.subplots(figsize=(10, 2))\n",
    "    ax.bar(range(len(all_tokens)), attributions_sum.cpu().numpy()[:len(all_tokens)], color='blue', alpha=0.7)\n",
    "    ax.set_xticks(range(len(all_tokens)))\n",
    "    ax.set_xticklabels(all_tokens, rotation=90)\n",
    "    ax.set_xlabel('Tokens')\n",
    "    ax.set_ylabel('Attribution')\n",
    "    ax.set_title('Token Attributions for Text Classification')\n",
    "\n",
    "    plt.tight_layout()\n",
    "    plt.savefig('saliency_map.png', dpi=300)\n",
    "    plt.show()\n"
   ]
  },
  {
   "cell_type": "code",
   "execution_count": 228,
   "metadata": {},
   "outputs": [
    {
     "name": "stdout",
     "output_type": "stream",
     "text": [
      "Bug Title: inspector/console/console-format-collections.html needs rebaselining after V8 change\n",
      "Bug Description: Previously, v8::Object::ObjectProtoToString used to return \"[object Object]\" when called on the \"arguments\" object, but is being fixed in V8 to return \"[object Arguments]\" (just as we already do in the JS version of Object.prototype.toString).\n",
      "['[CLS]', 'Bug', 'ĠTitle', ':', 'Ġinspector', '/', 'console', '/', 'console', '-', 'format', '-', 'col', 'lections', '.', 'html', 'Ġneeds', 'Ġreb', 'asel', 'ining', 'Ġafter', 'ĠV', '8', 'Ġchange', 'Ċ', 'Bug', 'ĠDescription', ':', 'ĠPreviously', ',', 'Ġv', '8', '::', 'Object', '::', 'Object', 'Pro', 'to', 'To', 'String', 'Ġused', 'Ġto', 'Ġreturn', 'Ġ\"[', 'object', 'ĠObject', ']\"', 'Ġwhen', 'Ġcalled', 'Ġon', 'Ġthe', 'Ġ\"', 'arg', 'uments', '\"', 'Ġobject', ',', 'Ġbut', 'Ġis', 'Ġbeing', 'Ġfixed', 'Ġin', 'ĠV', '8', 'Ġto', 'Ġreturn', 'Ġ\"[', 'object', 'ĠArg', 'uments', ']\"', 'Ġ(', 'just', 'Ġas', 'Ġwe', 'Ġalready', 'Ġdo', 'Ġin', 'Ġthe', 'ĠJS', 'Ġversion', 'Ġof', 'ĠObject', '.', 'prototype', '.', 'to', 'String', ').', '[SEP]']\n",
      "[PAD]\n"
     ]
    },
    {
     "data": {
      "text/html": [
       "<table width: 100%><div style=\"border-top: 1px solid; margin-top: 5px;             padding-top: 5px; display: inline-block\"><b>Legend: </b><span style=\"display: inline-block; width: 10px; height: 10px;                 border: 1px solid; background-color:                 hsl(0, 75%, 60%)\"></span> Negative  <span style=\"display: inline-block; width: 10px; height: 10px;                 border: 1px solid; background-color:                 hsl(0, 75%, 100%)\"></span> Neutral  <span style=\"display: inline-block; width: 10px; height: 10px;                 border: 1px solid; background-color:                 hsl(120, 75%, 50%)\"></span> Positive  </div><tr><th>True Label</th><th>Predicted Label</th><th>Attribution Label</th><th>Attribution Score</th><th>Word Importance</th><tr><td><text style=\"padding-right:2em\"><b>13</b></text></td><td><text style=\"padding-right:2em\"><b>13 (-12.84)</b></text></td><td><text style=\"padding-right:2em\"><b>Bug Title: inspector/console/console-format-collections.html needs rebaselining after V8 change\n",
       "Bug Description: Previously, v8::Object::ObjectProtoToString used to return \"[object Object]\" when called on the \"arguments\" object, but is being fixed in V8 to return \"[object Arguments]\" (just as we already do in the JS version of Object.prototype.toString).</b></text></td><td><text style=\"padding-right:2em\"><b>0.80</b></text></td><td><mark style=\"background-color: hsl(0, 75%, 85%); opacity:1.0;                     line-height:1.75\"><font color=\"black\"> [CLS]                    </font></mark><mark style=\"background-color: hsl(0, 75%, 97%); opacity:1.0;                     line-height:1.75\"><font color=\"black\"> Bug                    </font></mark><mark style=\"background-color: hsl(0, 75%, 98%); opacity:1.0;                     line-height:1.75\"><font color=\"black\"> ĠTitle                    </font></mark><mark style=\"background-color: hsl(0, 75%, 99%); opacity:1.0;                     line-height:1.75\"><font color=\"black\"> :                    </font></mark><mark style=\"background-color: hsl(120, 75%, 96%); opacity:1.0;                     line-height:1.75\"><font color=\"black\"> Ġinspector                    </font></mark><mark style=\"background-color: hsl(0, 75%, 98%); opacity:1.0;                     line-height:1.75\"><font color=\"black\"> /                    </font></mark><mark style=\"background-color: hsl(120, 75%, 97%); opacity:1.0;                     line-height:1.75\"><font color=\"black\"> console                    </font></mark><mark style=\"background-color: hsl(0, 75%, 99%); opacity:1.0;                     line-height:1.75\"><font color=\"black\"> /                    </font></mark><mark style=\"background-color: hsl(0, 75%, 97%); opacity:1.0;                     line-height:1.75\"><font color=\"black\"> console                    </font></mark><mark style=\"background-color: hsl(120, 75%, 95%); opacity:1.0;                     line-height:1.75\"><font color=\"black\"> -                    </font></mark><mark style=\"background-color: hsl(120, 75%, 84%); opacity:1.0;                     line-height:1.75\"><font color=\"black\"> format                    </font></mark><mark style=\"background-color: hsl(0, 75%, 98%); opacity:1.0;                     line-height:1.75\"><font color=\"black\"> -                    </font></mark><mark style=\"background-color: hsl(120, 75%, 95%); opacity:1.0;                     line-height:1.75\"><font color=\"black\"> col                    </font></mark><mark style=\"background-color: hsl(120, 75%, 97%); opacity:1.0;                     line-height:1.75\"><font color=\"black\"> lections                    </font></mark><mark style=\"background-color: hsl(120, 75%, 97%); opacity:1.0;                     line-height:1.75\"><font color=\"black\"> .                    </font></mark><mark style=\"background-color: hsl(0, 75%, 93%); opacity:1.0;                     line-height:1.75\"><font color=\"black\"> html                    </font></mark><mark style=\"background-color: hsl(0, 75%, 95%); opacity:1.0;                     line-height:1.75\"><font color=\"black\"> Ġneeds                    </font></mark><mark style=\"background-color: hsl(0, 75%, 97%); opacity:1.0;                     line-height:1.75\"><font color=\"black\"> Ġreb                    </font></mark><mark style=\"background-color: hsl(0, 75%, 98%); opacity:1.0;                     line-height:1.75\"><font color=\"black\"> asel                    </font></mark><mark style=\"background-color: hsl(120, 75%, 98%); opacity:1.0;                     line-height:1.75\"><font color=\"black\"> ining                    </font></mark><mark style=\"background-color: hsl(0, 75%, 96%); opacity:1.0;                     line-height:1.75\"><font color=\"black\"> Ġafter                    </font></mark><mark style=\"background-color: hsl(120, 75%, 98%); opacity:1.0;                     line-height:1.75\"><font color=\"black\"> ĠV                    </font></mark><mark style=\"background-color: hsl(120, 75%, 98%); opacity:1.0;                     line-height:1.75\"><font color=\"black\"> 8                    </font></mark><mark style=\"background-color: hsl(120, 75%, 100%); opacity:1.0;                     line-height:1.75\"><font color=\"black\"> Ġchange                    </font></mark><mark style=\"background-color: hsl(0, 75%, 99%); opacity:1.0;                     line-height:1.75\"><font color=\"black\"> Ċ                    </font></mark><mark style=\"background-color: hsl(120, 75%, 99%); opacity:1.0;                     line-height:1.75\"><font color=\"black\"> Bug                    </font></mark><mark style=\"background-color: hsl(0, 75%, 97%); opacity:1.0;                     line-height:1.75\"><font color=\"black\"> ĠDescription                    </font></mark><mark style=\"background-color: hsl(0, 75%, 96%); opacity:1.0;                     line-height:1.75\"><font color=\"black\"> :                    </font></mark><mark style=\"background-color: hsl(120, 75%, 89%); opacity:1.0;                     line-height:1.75\"><font color=\"black\"> ĠPreviously                    </font></mark><mark style=\"background-color: hsl(120, 75%, 97%); opacity:1.0;                     line-height:1.75\"><font color=\"black\"> ,                    </font></mark><mark style=\"background-color: hsl(120, 75%, 100%); opacity:1.0;                     line-height:1.75\"><font color=\"black\"> Ġv                    </font></mark><mark style=\"background-color: hsl(120, 75%, 99%); opacity:1.0;                     line-height:1.75\"><font color=\"black\"> 8                    </font></mark><mark style=\"background-color: hsl(120, 75%, 93%); opacity:1.0;                     line-height:1.75\"><font color=\"black\"> ::                    </font></mark><mark style=\"background-color: hsl(120, 75%, 90%); opacity:1.0;                     line-height:1.75\"><font color=\"black\"> Object                    </font></mark><mark style=\"background-color: hsl(120, 75%, 95%); opacity:1.0;                     line-height:1.75\"><font color=\"black\"> ::                    </font></mark><mark style=\"background-color: hsl(120, 75%, 95%); opacity:1.0;                     line-height:1.75\"><font color=\"black\"> Object                    </font></mark><mark style=\"background-color: hsl(120, 75%, 99%); opacity:1.0;                     line-height:1.75\"><font color=\"black\"> Pro                    </font></mark><mark style=\"background-color: hsl(0, 75%, 98%); opacity:1.0;                     line-height:1.75\"><font color=\"black\"> to                    </font></mark><mark style=\"background-color: hsl(120, 75%, 100%); opacity:1.0;                     line-height:1.75\"><font color=\"black\"> To                    </font></mark><mark style=\"background-color: hsl(120, 75%, 100%); opacity:1.0;                     line-height:1.75\"><font color=\"black\"> String                    </font></mark><mark style=\"background-color: hsl(120, 75%, 98%); opacity:1.0;                     line-height:1.75\"><font color=\"black\"> Ġused                    </font></mark><mark style=\"background-color: hsl(0, 75%, 99%); opacity:1.0;                     line-height:1.75\"><font color=\"black\"> Ġto                    </font></mark><mark style=\"background-color: hsl(0, 75%, 99%); opacity:1.0;                     line-height:1.75\"><font color=\"black\"> Ġreturn                    </font></mark><mark style=\"background-color: hsl(0, 75%, 100%); opacity:1.0;                     line-height:1.75\"><font color=\"black\"> Ġ\"[                    </font></mark><mark style=\"background-color: hsl(120, 75%, 98%); opacity:1.0;                     line-height:1.75\"><font color=\"black\"> object                    </font></mark><mark style=\"background-color: hsl(120, 75%, 100%); opacity:1.0;                     line-height:1.75\"><font color=\"black\"> ĠObject                    </font></mark><mark style=\"background-color: hsl(120, 75%, 100%); opacity:1.0;                     line-height:1.75\"><font color=\"black\"> ]\"                    </font></mark><mark style=\"background-color: hsl(120, 75%, 99%); opacity:1.0;                     line-height:1.75\"><font color=\"black\"> Ġwhen                    </font></mark><mark style=\"background-color: hsl(0, 75%, 100%); opacity:1.0;                     line-height:1.75\"><font color=\"black\"> Ġcalled                    </font></mark><mark style=\"background-color: hsl(120, 75%, 100%); opacity:1.0;                     line-height:1.75\"><font color=\"black\"> Ġon                    </font></mark><mark style=\"background-color: hsl(120, 75%, 95%); opacity:1.0;                     line-height:1.75\"><font color=\"black\"> Ġthe                    </font></mark><mark style=\"background-color: hsl(0, 75%, 100%); opacity:1.0;                     line-height:1.75\"><font color=\"black\"> Ġ\"                    </font></mark><mark style=\"background-color: hsl(0, 75%, 99%); opacity:1.0;                     line-height:1.75\"><font color=\"black\"> arg                    </font></mark><mark style=\"background-color: hsl(120, 75%, 95%); opacity:1.0;                     line-height:1.75\"><font color=\"black\"> uments                    </font></mark><mark style=\"background-color: hsl(120, 75%, 99%); opacity:1.0;                     line-height:1.75\"><font color=\"black\"> \"                    </font></mark><mark style=\"background-color: hsl(120, 75%, 99%); opacity:1.0;                     line-height:1.75\"><font color=\"black\"> Ġobject                    </font></mark><mark style=\"background-color: hsl(120, 75%, 99%); opacity:1.0;                     line-height:1.75\"><font color=\"black\"> ,                    </font></mark><mark style=\"background-color: hsl(0, 75%, 98%); opacity:1.0;                     line-height:1.75\"><font color=\"black\"> Ġbut                    </font></mark><mark style=\"background-color: hsl(0, 75%, 100%); opacity:1.0;                     line-height:1.75\"><font color=\"black\"> Ġis                    </font></mark><mark style=\"background-color: hsl(120, 75%, 99%); opacity:1.0;                     line-height:1.75\"><font color=\"black\"> Ġbeing                    </font></mark><mark style=\"background-color: hsl(120, 75%, 98%); opacity:1.0;                     line-height:1.75\"><font color=\"black\"> Ġfixed                    </font></mark><mark style=\"background-color: hsl(120, 75%, 98%); opacity:1.0;                     line-height:1.75\"><font color=\"black\"> Ġin                    </font></mark><mark style=\"background-color: hsl(120, 75%, 100%); opacity:1.0;                     line-height:1.75\"><font color=\"black\"> ĠV                    </font></mark><mark style=\"background-color: hsl(120, 75%, 98%); opacity:1.0;                     line-height:1.75\"><font color=\"black\"> 8                    </font></mark><mark style=\"background-color: hsl(0, 75%, 99%); opacity:1.0;                     line-height:1.75\"><font color=\"black\"> Ġto                    </font></mark><mark style=\"background-color: hsl(0, 75%, 99%); opacity:1.0;                     line-height:1.75\"><font color=\"black\"> Ġreturn                    </font></mark><mark style=\"background-color: hsl(120, 75%, 98%); opacity:1.0;                     line-height:1.75\"><font color=\"black\"> Ġ\"[                    </font></mark><mark style=\"background-color: hsl(0, 75%, 100%); opacity:1.0;                     line-height:1.75\"><font color=\"black\"> object                    </font></mark><mark style=\"background-color: hsl(0, 75%, 100%); opacity:1.0;                     line-height:1.75\"><font color=\"black\"> ĠArg                    </font></mark><mark style=\"background-color: hsl(120, 75%, 99%); opacity:1.0;                     line-height:1.75\"><font color=\"black\"> uments                    </font></mark><mark style=\"background-color: hsl(120, 75%, 97%); opacity:1.0;                     line-height:1.75\"><font color=\"black\"> ]\"                    </font></mark><mark style=\"background-color: hsl(0, 75%, 100%); opacity:1.0;                     line-height:1.75\"><font color=\"black\"> Ġ(                    </font></mark><mark style=\"background-color: hsl(120, 75%, 97%); opacity:1.0;                     line-height:1.75\"><font color=\"black\"> just                    </font></mark><mark style=\"background-color: hsl(120, 75%, 99%); opacity:1.0;                     line-height:1.75\"><font color=\"black\"> Ġas                    </font></mark><mark style=\"background-color: hsl(0, 75%, 95%); opacity:1.0;                     line-height:1.75\"><font color=\"black\"> Ġwe                    </font></mark><mark style=\"background-color: hsl(120, 75%, 97%); opacity:1.0;                     line-height:1.75\"><font color=\"black\"> Ġalready                    </font></mark><mark style=\"background-color: hsl(120, 75%, 100%); opacity:1.0;                     line-height:1.75\"><font color=\"black\"> Ġdo                    </font></mark><mark style=\"background-color: hsl(120, 75%, 100%); opacity:1.0;                     line-height:1.75\"><font color=\"black\"> Ġin                    </font></mark><mark style=\"background-color: hsl(120, 75%, 91%); opacity:1.0;                     line-height:1.75\"><font color=\"black\"> Ġthe                    </font></mark><mark style=\"background-color: hsl(120, 75%, 100%); opacity:1.0;                     line-height:1.75\"><font color=\"black\"> ĠJS                    </font></mark><mark style=\"background-color: hsl(0, 75%, 100%); opacity:1.0;                     line-height:1.75\"><font color=\"black\"> Ġversion                    </font></mark><mark style=\"background-color: hsl(120, 75%, 100%); opacity:1.0;                     line-height:1.75\"><font color=\"black\"> Ġof                    </font></mark><mark style=\"background-color: hsl(120, 75%, 95%); opacity:1.0;                     line-height:1.75\"><font color=\"black\"> ĠObject                    </font></mark><mark style=\"background-color: hsl(120, 75%, 100%); opacity:1.0;                     line-height:1.75\"><font color=\"black\"> .                    </font></mark><mark style=\"background-color: hsl(120, 75%, 95%); opacity:1.0;                     line-height:1.75\"><font color=\"black\"> prototype                    </font></mark><mark style=\"background-color: hsl(120, 75%, 99%); opacity:1.0;                     line-height:1.75\"><font color=\"black\"> .                    </font></mark><mark style=\"background-color: hsl(0, 75%, 98%); opacity:1.0;                     line-height:1.75\"><font color=\"black\"> to                    </font></mark><mark style=\"background-color: hsl(0, 75%, 100%); opacity:1.0;                     line-height:1.75\"><font color=\"black\"> String                    </font></mark><mark style=\"background-color: hsl(120, 75%, 97%); opacity:1.0;                     line-height:1.75\"><font color=\"black\"> ).                    </font></mark><mark style=\"background-color: hsl(0, 75%, 81%); opacity:1.0;                     line-height:1.75\"><font color=\"black\"> [SEP]                    </font></mark></td><tr></table>"
      ],
      "text/plain": [
       "<IPython.core.display.HTML object>"
      ]
     },
     "metadata": {},
     "output_type": "display_data"
    },
    {
     "data": {
      "image/png": "[encoded data removed]",
      "text/plain": [
       "<Figure size 1000x200 with 1 Axes>"
      ]
     },
     "metadata": {},
     "output_type": "display_data"
    }
   ],
   "source": [
    "owner_id = 13\n",
    "test_data_index = 3\n",
    "owner, text, _ = get_data(owner_id, test_data_index)\n",
    "print(text)\n",
    "interpret_text_triagerx(text, owner_id)"
   ]
  },
  {
   "cell_type": "code",
   "execution_count": 160,
   "metadata": {},
   "outputs": [],
   "source": [
    "from captum.attr import visualization as viz\n",
    "\n",
    "def interpret_text(text, true_class):\n",
    "    input_ids, baseline_input_ids, all_tokens = construct_input_and_baseline(text)\n",
    "    input_ids = input_ids.to(device)\n",
    "    baseline_input_ids = baseline_input_ids.to(device)\n",
    "    attributions, delta = lig.attribute(inputs= input_ids,\n",
    "                                    baselines= baseline_input_ids,\n",
    "                                    return_convergence_delta=True,\n",
    "                                    internal_batch_size=1,\n",
    "                                    target=true_class\n",
    "                                    )\n",
    "    attributions_sum = summarize_attributions(attributions)\n",
    "\n",
    "    all_tokens= [token for token in all_tokens if token != tokenizer.pad_token]\n",
    "\n",
    "    score_vis = viz.VisualizationDataRecord(\n",
    "                        word_attributions = attributions_sum,\n",
    "                        pred_prob = torch.max(model_output(input_ids)[0]),\n",
    "                        pred_class = torch.argmax(model_output(input_ids)[0]).cpu().numpy(),\n",
    "                        true_class = true_class,\n",
    "                        attr_class = text,\n",
    "                        attr_score = attributions_sum.sum(),       \n",
    "                        raw_input_ids = all_tokens,\n",
    "                        convergence_score = delta)\n",
    "\n",
    "    viz.visualize_text([score_vis])\n"
   ]
  },
  {
   "cell_type": "code",
   "execution_count": 152,
   "metadata": {},
   "outputs": [],
   "source": [
    "model = model.to(device)"
   ]
  },
  {
   "cell_type": "code",
   "execution_count": null,
   "metadata": {},
   "outputs": [],
   "source": []
  },
  {
   "cell_type": "code",
   "execution_count": 218,
   "metadata": {},
   "outputs": [
    {
     "name": "stdout",
     "output_type": "stream",
     "text": [
      "inspector console console format collections html needs rebaselining after V8 change Previously v8 Object ObjectProtoToString used to return object Object when called on the arguments object but is being fixed in V8 to return object Arguments just as we already do in the JS version of Object prototype toString \n"
     ]
    },
    {
     "data": {
      "text/html": [
       "<table width: 100%><div style=\"border-top: 1px solid; margin-top: 5px;             padding-top: 5px; display: inline-block\"><b>Legend: </b><span style=\"display: inline-block; width: 10px; height: 10px;                 border: 1px solid; background-color:                 hsl(0, 75%, 60%)\"></span> Negative  <span style=\"display: inline-block; width: 10px; height: 10px;                 border: 1px solid; background-color:                 hsl(0, 75%, 100%)\"></span> Neutral  <span style=\"display: inline-block; width: 10px; height: 10px;                 border: 1px solid; background-color:                 hsl(120, 75%, 50%)\"></span> Positive  </div><tr><th>True Label</th><th>Predicted Label</th><th>Attribution Label</th><th>Attribution Score</th><th>Word Importance</th><tr><td><text style=\"padding-right:2em\"><b>13</b></text></td><td><text style=\"padding-right:2em\"><b>290 (-11.69)</b></text></td><td><text style=\"padding-right:2em\"><b>inspector console console format collections html needs rebaselining after V8 change Previously v8 Object ObjectProtoToString used to return object Object when called on the arguments object but is being fixed in V8 to return object Arguments just as we already do in the JS version of Object prototype toString </b></text></td><td><text style=\"padding-right:2em\"><b>-4.57</b></text></td><td><mark style=\"background-color: hsl(0, 75%, 100%); opacity:1.0;                     line-height:1.75\"><font color=\"black\"> #s                    </font></mark><mark style=\"background-color: hsl(0, 75%, 88%); opacity:1.0;                     line-height:1.75\"><font color=\"black\"> ins                    </font></mark><mark style=\"background-color: hsl(0, 75%, 91%); opacity:1.0;                     line-height:1.75\"><font color=\"black\"> pect                    </font></mark><mark style=\"background-color: hsl(0, 75%, 84%); opacity:1.0;                     line-height:1.75\"><font color=\"black\"> or                    </font></mark><mark style=\"background-color: hsl(0, 75%, 94%); opacity:1.0;                     line-height:1.75\"><font color=\"black\"> Ġconsole                    </font></mark><mark style=\"background-color: hsl(0, 75%, 97%); opacity:1.0;                     line-height:1.75\"><font color=\"black\"> Ġconsole                    </font></mark><mark style=\"background-color: hsl(0, 75%, 94%); opacity:1.0;                     line-height:1.75\"><font color=\"black\"> Ġformat                    </font></mark><mark style=\"background-color: hsl(0, 75%, 97%); opacity:1.0;                     line-height:1.75\"><font color=\"black\"> Ġcollections                    </font></mark><mark style=\"background-color: hsl(0, 75%, 100%); opacity:1.0;                     line-height:1.75\"><font color=\"black\"> Ġhtml                    </font></mark><mark style=\"background-color: hsl(0, 75%, 94%); opacity:1.0;                     line-height:1.75\"><font color=\"black\"> Ġneeds                    </font></mark><mark style=\"background-color: hsl(0, 75%, 97%); opacity:1.0;                     line-height:1.75\"><font color=\"black\"> Ġreb                    </font></mark><mark style=\"background-color: hsl(0, 75%, 96%); opacity:1.0;                     line-height:1.75\"><font color=\"black\"> asel                    </font></mark><mark style=\"background-color: hsl(0, 75%, 100%); opacity:1.0;                     line-height:1.75\"><font color=\"black\"> ining                    </font></mark><mark style=\"background-color: hsl(0, 75%, 98%); opacity:1.0;                     line-height:1.75\"><font color=\"black\"> Ġafter                    </font></mark><mark style=\"background-color: hsl(0, 75%, 98%); opacity:1.0;                     line-height:1.75\"><font color=\"black\"> ĠV                    </font></mark><mark style=\"background-color: hsl(0, 75%, 94%); opacity:1.0;                     line-height:1.75\"><font color=\"black\"> 8                    </font></mark><mark style=\"background-color: hsl(0, 75%, 99%); opacity:1.0;                     line-height:1.75\"><font color=\"black\"> Ġchange                    </font></mark><mark style=\"background-color: hsl(0, 75%, 100%); opacity:1.0;                     line-height:1.75\"><font color=\"black\"> ĠPreviously                    </font></mark><mark style=\"background-color: hsl(0, 75%, 84%); opacity:1.0;                     line-height:1.75\"><font color=\"black\"> Ġv                    </font></mark><mark style=\"background-color: hsl(0, 75%, 93%); opacity:1.0;                     line-height:1.75\"><font color=\"black\"> 8                    </font></mark><mark style=\"background-color: hsl(0, 75%, 100%); opacity:1.0;                     line-height:1.75\"><font color=\"black\"> ĠObject                    </font></mark><mark style=\"background-color: hsl(0, 75%, 100%); opacity:1.0;                     line-height:1.75\"><font color=\"black\"> ĠObject                    </font></mark><mark style=\"background-color: hsl(0, 75%, 100%); opacity:1.0;                     line-height:1.75\"><font color=\"black\"> Pro                    </font></mark><mark style=\"background-color: hsl(0, 75%, 97%); opacity:1.0;                     line-height:1.75\"><font color=\"black\"> to                    </font></mark><mark style=\"background-color: hsl(0, 75%, 99%); opacity:1.0;                     line-height:1.75\"><font color=\"black\"> To                    </font></mark><mark style=\"background-color: hsl(0, 75%, 100%); opacity:1.0;                     line-height:1.75\"><font color=\"black\"> String                    </font></mark><mark style=\"background-color: hsl(0, 75%, 100%); opacity:1.0;                     line-height:1.75\"><font color=\"black\"> Ġused                    </font></mark><mark style=\"background-color: hsl(0, 75%, 100%); opacity:1.0;                     line-height:1.75\"><font color=\"black\"> Ġto                    </font></mark><mark style=\"background-color: hsl(0, 75%, 100%); opacity:1.0;                     line-height:1.75\"><font color=\"black\"> Ġreturn                    </font></mark><mark style=\"background-color: hsl(120, 75%, 100%); opacity:1.0;                     line-height:1.75\"><font color=\"black\"> Ġobject                    </font></mark><mark style=\"background-color: hsl(120, 75%, 100%); opacity:1.0;                     line-height:1.75\"><font color=\"black\"> ĠObject                    </font></mark><mark style=\"background-color: hsl(0, 75%, 100%); opacity:1.0;                     line-height:1.75\"><font color=\"black\"> Ġwhen                    </font></mark><mark style=\"background-color: hsl(0, 75%, 100%); opacity:1.0;                     line-height:1.75\"><font color=\"black\"> Ġcalled                    </font></mark><mark style=\"background-color: hsl(0, 75%, 99%); opacity:1.0;                     line-height:1.75\"><font color=\"black\"> Ġon                    </font></mark><mark style=\"background-color: hsl(0, 75%, 97%); opacity:1.0;                     line-height:1.75\"><font color=\"black\"> Ġthe                    </font></mark><mark style=\"background-color: hsl(0, 75%, 100%); opacity:1.0;                     line-height:1.75\"><font color=\"black\"> Ġarguments                    </font></mark><mark style=\"background-color: hsl(0, 75%, 100%); opacity:1.0;                     line-height:1.75\"><font color=\"black\"> Ġobject                    </font></mark><mark style=\"background-color: hsl(0, 75%, 100%); opacity:1.0;                     line-height:1.75\"><font color=\"black\"> Ġbut                    </font></mark><mark style=\"background-color: hsl(0, 75%, 97%); opacity:1.0;                     line-height:1.75\"><font color=\"black\"> Ġis                    </font></mark><mark style=\"background-color: hsl(0, 75%, 99%); opacity:1.0;                     line-height:1.75\"><font color=\"black\"> Ġbeing                    </font></mark><mark style=\"background-color: hsl(0, 75%, 99%); opacity:1.0;                     line-height:1.75\"><font color=\"black\"> Ġfixed                    </font></mark><mark style=\"background-color: hsl(0, 75%, 96%); opacity:1.0;                     line-height:1.75\"><font color=\"black\"> Ġin                    </font></mark><mark style=\"background-color: hsl(0, 75%, 100%); opacity:1.0;                     line-height:1.75\"><font color=\"black\"> ĠV                    </font></mark><mark style=\"background-color: hsl(0, 75%, 98%); opacity:1.0;                     line-height:1.75\"><font color=\"black\"> 8                    </font></mark><mark style=\"background-color: hsl(0, 75%, 100%); opacity:1.0;                     line-height:1.75\"><font color=\"black\"> Ġto                    </font></mark><mark style=\"background-color: hsl(0, 75%, 99%); opacity:1.0;                     line-height:1.75\"><font color=\"black\"> Ġreturn                    </font></mark><mark style=\"background-color: hsl(0, 75%, 100%); opacity:1.0;                     line-height:1.75\"><font color=\"black\"> Ġobject                    </font></mark><mark style=\"background-color: hsl(120, 75%, 100%); opacity:1.0;                     line-height:1.75\"><font color=\"black\"> ĠArg                    </font></mark><mark style=\"background-color: hsl(120, 75%, 100%); opacity:1.0;                     line-height:1.75\"><font color=\"black\"> uments                    </font></mark><mark style=\"background-color: hsl(0, 75%, 100%); opacity:1.0;                     line-height:1.75\"><font color=\"black\"> Ġjust                    </font></mark><mark style=\"background-color: hsl(0, 75%, 99%); opacity:1.0;                     line-height:1.75\"><font color=\"black\"> Ġas                    </font></mark><mark style=\"background-color: hsl(0, 75%, 97%); opacity:1.0;                     line-height:1.75\"><font color=\"black\"> Ġwe                    </font></mark><mark style=\"background-color: hsl(0, 75%, 99%); opacity:1.0;                     line-height:1.75\"><font color=\"black\"> Ġalready                    </font></mark><mark style=\"background-color: hsl(0, 75%, 99%); opacity:1.0;                     line-height:1.75\"><font color=\"black\"> Ġdo                    </font></mark><mark style=\"background-color: hsl(0, 75%, 97%); opacity:1.0;                     line-height:1.75\"><font color=\"black\"> Ġin                    </font></mark><mark style=\"background-color: hsl(0, 75%, 94%); opacity:1.0;                     line-height:1.75\"><font color=\"black\"> Ġthe                    </font></mark><mark style=\"background-color: hsl(0, 75%, 100%); opacity:1.0;                     line-height:1.75\"><font color=\"black\"> ĠJS                    </font></mark><mark style=\"background-color: hsl(0, 75%, 81%); opacity:1.0;                     line-height:1.75\"><font color=\"black\"> Ġversion                    </font></mark><mark style=\"background-color: hsl(0, 75%, 100%); opacity:1.0;                     line-height:1.75\"><font color=\"black\"> Ġof                    </font></mark><mark style=\"background-color: hsl(120, 75%, 100%); opacity:1.0;                     line-height:1.75\"><font color=\"black\"> ĠObject                    </font></mark><mark style=\"background-color: hsl(0, 75%, 100%); opacity:1.0;                     line-height:1.75\"><font color=\"black\"> Ġprototype                    </font></mark><mark style=\"background-color: hsl(0, 75%, 100%); opacity:1.0;                     line-height:1.75\"><font color=\"black\"> Ġto                    </font></mark><mark style=\"background-color: hsl(0, 75%, 100%); opacity:1.0;                     line-height:1.75\"><font color=\"black\"> String                    </font></mark><mark style=\"background-color: hsl(0, 75%, 100%); opacity:1.0;                     line-height:1.75\"><font color=\"black\"> Ġ                    </font></mark><mark style=\"background-color: hsl(0, 75%, 100%); opacity:1.0;                     line-height:1.75\"><font color=\"black\"> #/s                    </font></mark></td><tr></table>"
      ],
      "text/plain": [
       "<IPython.core.display.HTML object>"
      ]
     },
     "metadata": {},
     "output_type": "display_data"
    }
   ],
   "source": [
    "owner_id = 13\n",
    "test_data_index = 3\n",
    "\n",
    "owner, _, text = get_data(owner_id, test_data_index)\n",
    "print(text)\n",
    "interpret_text(text, owner_id)"
   ]
  },
  {
   "cell_type": "code",
   "execution_count": 205,
   "metadata": {},
   "outputs": [
    {
     "data": {
      "text/plain": [
       "\"Bug Title: Regression: After clicking on 'ON' toggle button internal data accessibility dosen't change on chrome://accessibility/ page.\\nBug Description: Chrome Version: 35.0.1870.2 (Official Build 254650) mOS-Windows 8What steps will reproduce the problem?1,Launch chrome and navigate to chrome://accessibility/2.Click on Global accessibility mode : 'ON' toggle button.3.Observe.After clicking on 'ON' toggle button internal data accessibility dosen't change.After clicking on 'ON' toggle button internal data accessibility state should be change.This is a Regression issue,broken in M-35 and below is the bisect info.Narrow bisect info: r252391 from above narrow bisect info.\""
      ]
     },
     "execution_count": 205,
     "metadata": {},
     "output_type": "execute_result"
    }
   ],
   "source": [
    "text"
   ]
  },
  {
   "cell_type": "code",
   "execution_count": null,
   "metadata": {},
   "outputs": [],
   "source": []
  }
 ],
 "metadata": {
  "kernelspec": {
   "display_name": "Python 3 (ipykernel)",
   "language": "python",
   "name": "python3"
  },
  "language_info": {
   "codemirror_mode": {
    "name": "ipython",
    "version": 3
   },
   "file_extension": ".py",
   "mimetype": "text/x-python",
   "name": "python",
   "nbconvert_exporter": "python",
   "pygments_lexer": "ipython3",
   "version": "3.10.13"
  }
 },
 "nbformat": 4,
 "nbformat_minor": 2
}
