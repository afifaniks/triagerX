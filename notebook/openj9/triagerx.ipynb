{
 "cells": [
  {
   "cell_type": "code",
   "execution_count": 1,
   "metadata": {},
   "outputs": [],
   "source": [
    "from triagerx.model.module_factory import ModelFactory\n",
    "from loguru import logger\n",
    "import torch\n",
    "import pandas as pd\n",
    "from sklearn.model_selection import train_test_split\n",
    "from sentence_transformers import SentenceTransformer\n",
    "from triagerx.dataset.text_processor import TextProcessor\n",
    "from tqdm import tqdm\n",
    "\n",
    "tqdm.pandas()"
   ]
  },
  {
   "cell_type": "code",
   "execution_count": 2,
   "metadata": {},
   "outputs": [
    {
     "data": {
      "text/plain": [
       "<torch._C.Generator at 0x7f082aad1c10>"
      ]
     },
     "execution_count": 2,
     "metadata": {},
     "output_type": "execute_result"
    }
   ],
   "source": [
    "torch.manual_seed(42)"
   ]
  },
  {
   "cell_type": "code",
   "execution_count": 5,
   "metadata": {},
   "outputs": [],
   "source": [
    "target_components = [\"comp:vm\", \"comp:jvmti\", \"comp:jclextensions\", \"comp:test\", \"comp:build\", \"comp:gc\"]\n",
    "target_components = sorted(target_components)"
   ]
  },
  {
   "cell_type": "code",
   "execution_count": 6,
   "metadata": {},
   "outputs": [],
   "source": [
    "# # Define active user map\n",
    "# vm_users = [\n",
    "#     \"pshipton\",\n",
    "#     \"keithc-ca\",\n",
    "#     \"gacholio\",\n",
    "#     \"tajila\",\n",
    "#     \"babsingh\",\n",
    "#     \"JasonFengJ9\",\n",
    "#     \"fengxue-IS\",\n",
    "#     \"hangshao0\",\n",
    "#     \"theresa.t.mammarella\",\n",
    "#     \"ChengJin01\",\n",
    "#     \"singh264\",\n",
    "#     \"thallium\",\n",
    "#     \"ThanHenderson\",\n",
    "# ]\n",
    "# jvmti_users = [\"gacholio\", \"tajila\", \"babsingh\", \"fengxue-IS\"]\n",
    "# jclextensions_users = [\"JasonFengJ9\", \"pshipton\", \"keithc-ca\"]\n",
    "# test_users = [\"LongyuZhang\", \"annaibm\", \"sophiaxu0424\", \"KapilPowar\", \"llxia\"]\n",
    "# build_users = [\"adambrousseau\", \"mahdipub\"]\n",
    "# gc_users = [\"dmitripivkine\", \"amicic\", \"kangyining\", \"LinHu2016\"]\n",
    "\n",
    "# # Putting them in dictionaries\n",
    "# components = {\n",
    "#     \"comp:vm\": vm_users,\n",
    "#     \"comp:jvmti\": jvmti_users,\n",
    "#     \"comp:jclextensions\": jclextensions_users,\n",
    "#     \"comp:test\": test_users,\n",
    "#     \"comp:build\": build_users,\n",
    "#     \"comp:gc\": gc_users,\n",
    "# }\n",
    "\n",
    "# # expected_users = [user for user_list in components.values() for user in user_list]\n",
    "# # df = df[df[\"owner\"].isin(expected_users)]\n",
    "\n",
    "# # df = df[df[\"component\"].isin(target_components)]"
   ]
  },
  {
   "cell_type": "code",
   "execution_count": 60,
   "metadata": {},
   "outputs": [],
   "source": [
    "# df_train, df_test = train_test_split(df, test_size=0.1, shuffle=False)\n",
    "df_train = pd.read_csv(\"/home/mdafifal.mamun/notebooks/triagerX/data/openj9/last_contribution/openj9_train.csv\")\n",
    "df_test = pd.read_csv(\"/home/mdafifal.mamun/notebooks/triagerX/data/openj9/last_contribution/openj9_test.csv\")"
   ]
  },
  {
   "cell_type": "code",
   "execution_count": 61,
   "metadata": {},
   "outputs": [],
   "source": [
    "expected_users = set(df_test.owner.unique())"
   ]
  },
  {
   "cell_type": "code",
   "execution_count": 62,
   "metadata": {},
   "outputs": [
    {
     "name": "stderr",
     "output_type": "stream",
     "text": [
      "\u001b[32m2024-06-20 13:10:33.803\u001b[0m | \u001b[1mINFO    \u001b[0m | \u001b[36m__main__\u001b[0m:\u001b[36m<module>\u001b[0m:\u001b[36m13\u001b[0m - \u001b[1mTraining data: 3323, Validation data: 379\u001b[0m\n",
      "\u001b[32m2024-06-20 13:10:33.805\u001b[0m | \u001b[1mINFO    \u001b[0m | \u001b[36m__main__\u001b[0m:\u001b[36m<module>\u001b[0m:\u001b[36m14\u001b[0m - \u001b[1mNumber of developers: 50\u001b[0m\n",
      "\u001b[32m2024-06-20 13:10:33.806\u001b[0m | \u001b[1mINFO    \u001b[0m | \u001b[36m__main__\u001b[0m:\u001b[36m<module>\u001b[0m:\u001b[36m16\u001b[0m - \u001b[1mTrain dataset size: 3323\u001b[0m\n",
      "\u001b[32m2024-06-20 13:10:33.808\u001b[0m | \u001b[1mINFO    \u001b[0m | \u001b[36m__main__\u001b[0m:\u001b[36m<module>\u001b[0m:\u001b[36m17\u001b[0m - \u001b[1mTest dataset size: 379\u001b[0m\n"
     ]
    }
   ],
   "source": [
    "sample_threshold = 20\n",
    "developers = df_train[\"owner\"].value_counts()\n",
    "filtered_developers = developers.index[developers >= sample_threshold]\n",
    "df_train = df_train[df_train[\"owner\"].isin(filtered_developers)]\n",
    "\n",
    "train_owners = set(df_train[\"owner\"])\n",
    "test_owners = set(df_test[\"owner\"])\n",
    "\n",
    "unwanted = list(test_owners - train_owners)\n",
    "\n",
    "df_test = df_test[~df_test[\"owner\"].isin(unwanted)]\n",
    "\n",
    "logger.info(f\"Training data: {len(df_train)}, Validation data: {len(df_test)}\")\n",
    "logger.info(f\"Number of developers: {len(df_train.owner.unique())}\")\n",
    "\n",
    "logger.info(f\"Train dataset size: {len(df_train)}\")\n",
    "logger.info(f\"Test dataset size: {len(df_test)}\")"
   ]
  },
  {
   "cell_type": "code",
   "execution_count": 65,
   "metadata": {},
   "outputs": [],
   "source": [
    "# # Generate label ids\n",
    "lbl2idx = dict(zip(df_train['owner'], df_train['owner_id']))\n",
    "idx2lbl = dict(zip(df_train['owner_id'], df_train['owner']))\n",
    "\n",
    "# train_owners = sorted(train_owners)\n",
    "\n",
    "# for idx, dev in enumerate(train_owners):\n",
    "#     lbl2idx[dev] = idx\n",
    "#     idx2lbl[idx] = dev\n",
    "\n",
    "# df_train[\"owner_id\"] = df_train[\"owner\"].apply(lambda owner: lbl2idx[owner])\n",
    "# df_test[\"owner_id\"] = df_test[\"owner\"].apply(lambda owner: lbl2idx[owner])"
   ]
  },
  {
   "cell_type": "code",
   "execution_count": 67,
   "metadata": {},
   "outputs": [],
   "source": [
    "df_train = df_train[df_train[\"component\"].notna()]\n",
    "df_test = df_test[df_test[\"component\"].notna()]"
   ]
  },
  {
   "cell_type": "code",
   "execution_count": 68,
   "metadata": {},
   "outputs": [],
   "source": [
    "comp_id2label = {}\n",
    "comp_lbl2id = {}\n",
    "\n",
    "for i, comp in enumerate(target_components):\n",
    "    comp_id2label[i] = comp\n",
    "    comp_lbl2id[comp] = i"
   ]
  },
  {
   "cell_type": "code",
   "execution_count": 69,
   "metadata": {},
   "outputs": [],
   "source": [
    "base_transformer_models = [\"microsoft/deberta-base\", \"roberta-base\"]"
   ]
  },
  {
   "cell_type": "code",
   "execution_count": 70,
   "metadata": {},
   "outputs": [],
   "source": [
    "developer_model_weights = \"/work/disa_lab/projects/triagerx/models/openj9/triagerx_ensemble_u3_50_classes_last_dev_seed42_last_epoch_39.pt\"\n",
    "component_model_weights = \"/work/disa_lab/projects/triagerx/models/openj9/component_triagerx_u3_6_classes_seed42.pt\""
   ]
  },
  {
   "cell_type": "code",
   "execution_count": 71,
   "metadata": {},
   "outputs": [
    {
     "name": "stderr",
     "output_type": "stream",
     "text": [
      "\u001b[32m2024-06-20 13:11:00.147\u001b[0m | \u001b[34m\u001b[1mDEBUG   \u001b[0m | \u001b[36m__main__\u001b[0m:\u001b[36m<module>\u001b[0m:\u001b[36m1\u001b[0m - \u001b[34m\u001b[1mModeling network...\u001b[0m\n",
      "\u001b[32m2024-06-20 13:11:00.149\u001b[0m | \u001b[34m\u001b[1mDEBUG   \u001b[0m | \u001b[36mtriagerx.model.module_factory\u001b[0m:\u001b[36mget_model\u001b[0m:\u001b[36m54\u001b[0m - \u001b[34m\u001b[1mInstantiating model of class: <class 'triagerx.model.triagerx_dev_model.TriagerxDevModel'>\u001b[0m\n",
      "\u001b[32m2024-06-20 13:11:00.149\u001b[0m | \u001b[34m\u001b[1mDEBUG   \u001b[0m | \u001b[36mtriagerx.model.module_factory\u001b[0m:\u001b[36mget_model\u001b[0m:\u001b[36m65\u001b[0m - \u001b[34m\u001b[1mIncluding number of filters and classifiers\u001b[0m\n",
      "\u001b[32m2024-06-20 13:11:00.150\u001b[0m | \u001b[34m\u001b[1mDEBUG   \u001b[0m | \u001b[36mtriagerx.model.triagerx_dev_model\u001b[0m:\u001b[36m__init__\u001b[0m:\u001b[36m24\u001b[0m - \u001b[34m\u001b[1mLoading base transformer models: ['microsoft/deberta-base', 'roberta-base']\u001b[0m\n",
      "Some weights of RobertaModel were not initialized from the model checkpoint at roberta-base and are newly initialized: ['roberta.pooler.dense.bias', 'roberta.pooler.dense.weight']\n",
      "You should probably TRAIN this model on a down-stream task to be able to use it for predictions and inference.\n"
     ]
    }
   ],
   "source": [
    "logger.debug(\"Modeling network...\")\n",
    "dev_model = ModelFactory.get_model(\n",
    "    model_key=\"triagerx\",\n",
    "    output_size=len(df_train.owner_id.unique()),\n",
    "    unfrozen_layers=3,\n",
    "    num_classifiers=3,\n",
    "    base_models=base_transformer_models,\n",
    "    dropout=0.2,\n",
    "    max_tokens=256,\n",
    "    label_map=idx2lbl,\n",
    ")"
   ]
  },
  {
   "cell_type": "code",
   "execution_count": 72,
   "metadata": {},
   "outputs": [
    {
     "data": {
      "text/plain": [
       "<All keys matched successfully>"
      ]
     },
     "execution_count": 72,
     "metadata": {},
     "output_type": "execute_result"
    }
   ],
   "source": [
    "dev_model.load_state_dict(torch.load(developer_model_weights))"
   ]
  },
  {
   "cell_type": "code",
   "execution_count": 73,
   "metadata": {},
   "outputs": [
    {
     "name": "stderr",
     "output_type": "stream",
     "text": [
      "\u001b[32m2024-06-20 13:11:05.511\u001b[0m | \u001b[34m\u001b[1mDEBUG   \u001b[0m | \u001b[36mtriagerx.model.module_factory\u001b[0m:\u001b[36mget_model\u001b[0m:\u001b[36m54\u001b[0m - \u001b[34m\u001b[1mInstantiating model of class: <class 'triagerx.model.triagerx_dev_model.TriagerxDevModel'>\u001b[0m\n",
      "\u001b[32m2024-06-20 13:11:05.513\u001b[0m | \u001b[34m\u001b[1mDEBUG   \u001b[0m | \u001b[36mtriagerx.model.module_factory\u001b[0m:\u001b[36mget_model\u001b[0m:\u001b[36m65\u001b[0m - \u001b[34m\u001b[1mIncluding number of filters and classifiers\u001b[0m\n",
      "\u001b[32m2024-06-20 13:11:05.514\u001b[0m | \u001b[34m\u001b[1mDEBUG   \u001b[0m | \u001b[36mtriagerx.model.triagerx_dev_model\u001b[0m:\u001b[36m__init__\u001b[0m:\u001b[36m24\u001b[0m - \u001b[34m\u001b[1mLoading base transformer models: ['microsoft/deberta-base', 'roberta-base']\u001b[0m\n",
      "Some weights of RobertaModel were not initialized from the model checkpoint at roberta-base and are newly initialized: ['roberta.pooler.dense.bias', 'roberta.pooler.dense.weight']\n",
      "You should probably TRAIN this model on a down-stream task to be able to use it for predictions and inference.\n"
     ]
    }
   ],
   "source": [
    "comp_model = ModelFactory.get_model(\n",
    "    model_key=\"triagerx\",\n",
    "    output_size=6,\n",
    "    unfrozen_layers=3,\n",
    "    num_classifiers=3,\n",
    "    base_models=[\"microsoft/deberta-base\", \"roberta-base\"],\n",
    "    dropout=0.2,\n",
    "    max_tokens=256,\n",
    "    label_map=comp_id2label,\n",
    ")"
   ]
  },
  {
   "cell_type": "code",
   "execution_count": 74,
   "metadata": {},
   "outputs": [
    {
     "data": {
      "text/plain": [
       "<All keys matched successfully>"
      ]
     },
     "execution_count": 74,
     "metadata": {},
     "output_type": "execute_result"
    }
   ],
   "source": [
    "comp_model.load_state_dict(torch.load(component_model_weights))"
   ]
  },
  {
   "cell_type": "code",
   "execution_count": 75,
   "metadata": {},
   "outputs": [],
   "source": [
    "similarity_model = SentenceTransformer(\"all-mpnet-base-v2\")"
   ]
  },
  {
   "cell_type": "code",
   "execution_count": 76,
   "metadata": {},
   "outputs": [],
   "source": [
    "train_embeddings_path = \"/home/mdafifal.mamun/notebooks/triagerX/data/openj9_embeddings/embeddings.npy\""
   ]
  },
  {
   "cell_type": "code",
   "execution_count": 77,
   "metadata": {},
   "outputs": [
    {
     "data": {
      "application/vnd.jupyter.widget-view+json": {
       "model_id": "4439af17b0e24f6f801531af9cd51fdf",
       "version_major": 2,
       "version_minor": 0
      },
      "text/plain": [
       "Batches:   0%|          | 0/83 [00:00<?, ?it/s]"
      ]
     },
     "metadata": {},
     "output_type": "display_data"
    }
   ],
   "source": [
    "encodings = similarity_model.encode(\n",
    "    df_train.text.tolist(),\n",
    "    show_progress_bar=True\n",
    ")\n",
    "\n",
    "import numpy as np\n",
    "\n",
    "np.save(train_embeddings_path, encodings)"
   ]
  },
  {
   "cell_type": "code",
   "execution_count": 164,
   "metadata": {},
   "outputs": [],
   "source": [
    "from datetime import datetime\n",
    "import json\n",
    "import os\n",
    "from collections import defaultdict\n",
    "from typing import Dict, List, Tuple\n",
    "import math\n",
    "\n",
    "import numpy as np\n",
    "import pandas as pd\n",
    "import torch\n",
    "import torch.nn as nn\n",
    "import torch.nn.functional as F\n",
    "from loguru import logger\n",
    "from sentence_transformers import util\n",
    "\n",
    "from triagerx.dataset.text_processor import TextProcessor\n",
    "from triagerx.model.prediction_model import PredictionModel\n",
    "\n",
    "\n",
    "class TriagerX:\n",
    "    \"\"\"\n",
    "    A class for recommending developers and components for issues based on prediction models\n",
    "    and similarity measures.\n",
    "    \"\"\"\n",
    "\n",
    "    def __init__(\n",
    "        self,\n",
    "        component_prediction_model: PredictionModel,\n",
    "        developer_prediction_model: PredictionModel,\n",
    "        similarity_model: nn.Module,\n",
    "        train_data: pd.DataFrame,\n",
    "        train_embeddings: str,\n",
    "        issues_path: str,\n",
    "        developer_id_map: Dict[str, int],\n",
    "        component_id_map: Dict[str, int],        \n",
    "        device: str,\n",
    "        similarity_prediction_weight: float, \n",
    "        time_decay_factor: float,\n",
    "        direct_assignment_score: float = 2.5,\n",
    "        contribution_score: float = 2,\n",
    "        discussion_score: float = 0.5\n",
    "    ) -> None:\n",
    "        \"\"\"\n",
    "        Initializes the TriagerX system with models, data, and configurations.\n",
    "\n",
    "        Args:\n",
    "            component_prediction_model (PredictionModel): Model to predict components.\n",
    "            developer_prediction_model (PredictionModel): Model to predict developers.\n",
    "            similarity_model (nn.Module): Model to compute similarity between issues.\n",
    "            train_data (pd.DataFrame): Training data containing issue information.\n",
    "            train_embeddings (str): Path to precomputed embeddings of training issues.\n",
    "            issues_path (str): Path to the directory containing issue files.\n",
    "            developer_id_map (Dict[str, int]): Mapping from developer names to IDs.\n",
    "            component_id_map (Dict[str, int]): Mapping from component names to IDs.\n",
    "            component_developers_map (Dict[str, List[str]]): Mapping from components to associated developers.\n",
    "            device (str): Device to run the models on (e.g., 'cpu' or 'cuda').\n",
    "        \"\"\"\n",
    "        self._component_prediction_model = component_prediction_model.to(device)\n",
    "        self._developer_prediction_model = developer_prediction_model.to(device)\n",
    "        self._similarity_model = similarity_model\n",
    "        self._device = device\n",
    "        self._similarity_prediction_weight = similarity_prediction_weight\n",
    "        self._time_decay_factor = time_decay_factor\n",
    "        self._direct_assignment_score = direct_assignment_score\n",
    "        self._contribution_score = contribution_score\n",
    "        self._discussion_score = discussion_score\n",
    "        self._train_data = train_data\n",
    "        self._issues_path = issues_path\n",
    "        self._all_issues = os.listdir(issues_path)\n",
    "        self._developer2id_map = developer_id_map\n",
    "        self._component2id_map = component_id_map\n",
    "        self._id2developer_map = {idx: dev for dev, idx in developer_id_map.items()}\n",
    "        self._id2component_map = {idx: comp for comp, idx in component_id_map.items()}\n",
    "        # self._component_developers_map = component_developers_map\n",
    "        self._expected_developers = expected_users\n",
    "        logger.debug(f\"Using device: {device}\")\n",
    "        logger.debug(\"Loading embeddings for existing issues...\")\n",
    "        self._all_embeddings = np.load(train_embeddings)\n",
    "\n",
    "    def get_recommendation(\n",
    "        self, issue: str, k_comp: int, k_dev: int, k_rank: int, similarity_threshold: float\n",
    "    ) -> Dict[str, List]:\n",
    "        # logger.debug(\"Predicting components...\")\n",
    "        comp_prediction_score, predicted_components = self._get_predicted_components(issue, k_comp)\n",
    "        predicted_components_name = [self._id2component_map[idx] for idx in predicted_components]\n",
    "        # logger.info(f\"Predicted components: {predicted_components_name}\")\n",
    "\n",
    "        # logger.debug(\"Generating developer recommendations...\")\n",
    "        dev_prediction_score = self._get_recommendation_scores_from_dev_model(issue)\n",
    "        prediction_score, predicted_devs = dev_prediction_score.topk(k_dev, 0, True, True)\n",
    "\n",
    "        predicted_developers_name = [self._id2developer_map[idx] for idx in predicted_devs.cpu().numpy()]\n",
    "        # logger.info(f\"Recommended developers: {predicted_developers_name}\")\n",
    "\n",
    "        # logger.debug(\"Generating recommendations by similarity...\")\n",
    "        dev_predictions_by_similarity = self._get_recommendation_by_similarity(\n",
    "            issue, predicted_components, k_rank, similarity_threshold\n",
    "        )\n",
    "\n",
    "        similarity_devs = [dev[0] for dev in dev_predictions_by_similarity]\n",
    "        similarity_scores = [score[1] for score in dev_predictions_by_similarity]\n",
    "\n",
    "        normalized_similarity_score = np.array([])\n",
    "\n",
    "        if similarity_scores:\n",
    "            normalized_similarity_score = self.normalize(similarity_scores)\n",
    "\n",
    "            for i, (sim_dev, sim_score) in enumerate(dev_predictions_by_similarity):            \n",
    "                dev_id = self._developer2id_map[sim_dev]\n",
    "                dev_prediction_score[dev_id] += (normalized_similarity_score[i] * self._similarity_prediction_weight)\n",
    "\n",
    "        \n",
    "        similar_issue_devs = [dev_sim for dev_sim, _ in dev_predictions_by_similarity]\n",
    "        # logger.info(f\"Recommended developers by issue similarity: {similar_issue_devs}\")\n",
    "\n",
    "        # logger.debug(\"Aggregating rankings...\")\n",
    "        aggregated_prediction_score, aggregated_predicted_devs = dev_prediction_score.topk(k_dev, 0, True, True)\n",
    "        aggregated_rank = [self._id2developer_map[idx] for idx in aggregated_predicted_devs.cpu().numpy()]\n",
    "\n",
    "        # rank_lists = [predicted_developers_name, similar_issue_devs]\n",
    "        # aggregated_rank = self._aggregate_rank(rank_lists)[:k_dev]\n",
    "        # logger.info(f\"Recommended developers by ranking aggregation: {aggregated_rank}\")\n",
    "\n",
    "        recommendations = {\n",
    "            # \"predicted_components\": predicted_components_name,\n",
    "            # \"comp_prediction_score\": comp_prediction_score,\n",
    "            \"predicted_developers\": predicted_developers_name[:k_dev],\n",
    "            \"dev_prediction_score\": prediction_score[:k_dev],\n",
    "            \"similar_devs\": similarity_devs[:k_dev],\n",
    "            \"similar_score\": normalized_similarity_score.tolist()[:k_dev],\n",
    "            \"combined_ranking\": aggregated_rank,\n",
    "            \"combined_ranking_score\": aggregated_prediction_score\n",
    "        }\n",
    "\n",
    "        return recommendations\n",
    "\n",
    "    def _aggregate_rank(self, rank_lists: List[List[str]]) -> List[str]:\n",
    "        borda_scores = defaultdict(int)\n",
    "        for rank_list in rank_lists:\n",
    "            for i, item in enumerate(rank_list):\n",
    "                borda_scores[item] += len(rank_list) - i\n",
    "        sorted_items = sorted(borda_scores.items(), key=lambda x: x[1], reverse=True)\n",
    "        return [item[0] for item in sorted_items]\n",
    "\n",
    "    def normalize(self, scores):\n",
    "        min_score = np.min(scores)\n",
    "        max_score = np.max(scores)\n",
    "\n",
    "        return (scores - min_score) / (max_score - min_score)\n",
    "    \n",
    "    def normalize_tensor(self, tensor):\n",
    "        min_val = torch.min(tensor)\n",
    "        max_val = torch.max(tensor)\n",
    "        normalized_tensor = (tensor - min_val) / (max_val - min_val)\n",
    "        return normalized_tensor\n",
    "\n",
    "    def _get_recommendation_scores_from_dev_model(self, issue: str) -> torch.Tensor:\n",
    "        self._developer_prediction_model.eval()\n",
    "        with torch.no_grad():\n",
    "            tokenized_issue = self._developer_prediction_model.tokenize_text(issue)\n",
    "            predictions = self._developer_prediction_model(tokenized_issue)\n",
    "        \n",
    "        output = torch.sum(torch.stack(predictions), 0)\n",
    "        normalized_score = self.normalize_tensor(output.squeeze(dim=0))\n",
    "        \n",
    "        return normalized_score\n",
    "\n",
    "    def _get_predicted_components(self, issue: str, k: int) -> Tuple[List[float], List[int]]:\n",
    "        self._component_prediction_model.eval()\n",
    "        with torch.no_grad():\n",
    "            tokenized_issue = self._component_prediction_model.tokenize_text(issue)\n",
    "            predictions = self._component_prediction_model(tokenized_issue)\n",
    "        output = torch.sum(torch.stack(predictions), 0)\n",
    "        prediction_score, predicted_components = output.topk(k, 1, True, True)\n",
    "        return (\n",
    "            F.softmax(prediction_score.squeeze(dim=0), dim=0).cpu().numpy().tolist(),\n",
    "            predicted_components.squeeze(dim=0).cpu().numpy().tolist()\n",
    "        )\n",
    "\n",
    "    def _get_recommendation_by_similarity(\n",
    "        self, issue: str, predicted_components: List[int], k_issue: int, similarity_threshold: float\n",
    "    ) -> List[Tuple[str, float]]:\n",
    "        \n",
    "        similar_issues = self._get_top_k_similar_issues(issue, k_issue, similarity_threshold)\n",
    "        historical_contribution = self._get_historical_contributors(similar_issues)\n",
    "        # logger.debug(historical_contribution)\n",
    "        \n",
    "        return historical_contribution\n",
    "    \n",
    "    def _get_historical_contributors(\n",
    "        self, similar_issues: List[Tuple[int, float]]\n",
    "    ) -> List[Tuple[str, float]]:\n",
    "        user_contribution_scores = {}\n",
    "        skipped_users = set()\n",
    "        for issue_index, sim_score in similar_issues:\n",
    "            base_points = sim_score\n",
    "            issue = self._train_data.iloc[issue_index]\n",
    "            issue_number = issue.issue_number\n",
    "            contributors = self._get_contribution_data(issue_number)\n",
    "            for key, users in contributors.items():\n",
    "                for user_data in users:\n",
    "                    user = user_data[0]\n",
    "                    created_at = user_data[1] if len(user_data) > 1 else None\n",
    "                    \n",
    "                    if user not in self._expected_developers:\n",
    "                        skipped_users.add(user)\n",
    "                        continue\n",
    "\n",
    "                    contribution_point = self._discussion_score\n",
    "                    if key in [\"pull_request\", \"commits\"]:\n",
    "                        contribution_point = self._contribution_score\n",
    "                    elif key in [\"last_assignment\", \"direct_assignment\"]:\n",
    "                        contribution_point = self._direct_assignment_score\n",
    "\n",
    "                    # Calculate time decay only if created_at is available\n",
    "                    time_decay = 1\n",
    "                    if created_at:\n",
    "                        contribution_date = datetime.strptime(created_at, \"%Y-%m-%dT%H:%M:%SZ\")\n",
    "                        days_since_contribution = (datetime.now() - contribution_date).days\n",
    "                        time_decay = math.exp(-self._time_decay_factor * days_since_contribution)\n",
    "\n",
    "                    user_contribution_scores[user] = (\n",
    "                        user_contribution_scores.get(user, 0) + base_points * contribution_point * time_decay\n",
    "                    )\n",
    "\n",
    "        # if skipped_users:\n",
    "        #     logger.warning(\n",
    "        #         f\"Skipped users: {skipped_users} because they don't exist in the expected developers list\"\n",
    "        #     )\n",
    "        return sorted(user_contribution_scores.items(), key=lambda x: x[1], reverse=True)\n",
    "\n",
    "    def _get_contribution_data(self, issue_number: int) -> Dict[str, List[Tuple[str, str]]]:\n",
    "        contributions = {}\n",
    "        issue_file = f\"{issue_number}.json\"\n",
    "        last_assignment = None\n",
    "        \n",
    "        if issue_file in self._all_issues:\n",
    "            with open(os.path.join(self._issues_path, issue_file), \"r\") as file:\n",
    "                issue = json.load(file)\n",
    "                assignees = issue.get(\"assignees\", [])\n",
    "                assignee_logins = [(assignee[\"login\"], None) for assignee in assignees] if assignees else []\n",
    "                contributions[\"direct_assignment\"] = assignee_logins\n",
    "                timeline = issue.get(\"timeline_data\", [])\n",
    "                pull_requests, commits, discussion = [], [], []\n",
    "                \n",
    "                for timeline_event in timeline:\n",
    "                    event = timeline_event.get(\"event\")\n",
    "                    created_at = timeline_event.get(\"created_at\")\n",
    "                    if event == \"cross-referenced\" and timeline_event[\"source\"].get(\"issue\", {}).get(\"pull_request\"):\n",
    "                        actor = timeline_event[\"actor\"][\"login\"]\n",
    "                        pull_requests.append((actor, created_at))\n",
    "                        last_assignment = actor\n",
    "                    elif event == \"referenced\" and timeline_event.get(\"commit_url\"):\n",
    "                        actor = timeline_event[\"actor\"][\"login\"]\n",
    "                        commits.append((actor, created_at))\n",
    "                        last_assignment = actor\n",
    "                    elif event == \"commented\":\n",
    "                        actor = timeline_event[\"actor\"][\"login\"]\n",
    "                        discussion.append((actor, created_at))\n",
    "                \n",
    "                contributions[\"pull_request\"] = pull_requests\n",
    "                contributions[\"commits\"] = commits\n",
    "                contributions[\"discussion\"] = discussion\n",
    "                contributions[\"last_assignment\"] = [(last_assignment, None)] if last_assignment else []\n",
    "        return contributions\n",
    "\n",
    "    def _get_top_k_similar_issues(self, issue: str, k: int, threshold: float) -> List[Tuple[int, float]]:\n",
    "        issue_embedding = self._similarity_model.encode(issue)\n",
    "        cos_sim = util.cos_sim(issue_embedding, self._all_embeddings)\n",
    "        topk_values, topk_indices = torch.topk(cos_sim, k=k)\n",
    "        topk_values = topk_values.cpu().numpy()[0]\n",
    "        topk_indices = topk_indices.cpu().numpy()[0]\n",
    "\n",
    "        return [\n",
    "            (idx, sim_score) for idx, sim_score in zip(topk_indices, topk_values) if sim_score >= threshold\n",
    "        ]\n"
   ]
  },
  {
   "cell_type": "markdown",
   "metadata": {},
   "source": [
    "# Grid Search"
   ]
  },
  {
   "cell_type": "code",
   "execution_count": 165,
   "metadata": {},
   "outputs": [],
   "source": [
    "def get_recommendation(trx, test_idx, k_comp, k_dev, k_rank, sim):\n",
    "    test_data = df_test.iloc[test_idx]\n",
    "\n",
    "    # print(\"Issue URL: \", test_data[\"issue_url\"])\n",
    "    # print(\"Actual owner: \", test_data[\"owner\"])\n",
    "    # print(\"Actual component: \", test_data[\"component\"])\n",
    "\n",
    "    return trx.get_recommendation(\n",
    "        test_data.text,\n",
    "        k_comp=k_comp,\n",
    "        k_dev=k_dev,\n",
    "        k_rank=k_rank,\n",
    "        similarity_threshold=sim\n",
    "    )"
   ]
  },
  {
   "cell_type": "code",
   "execution_count": 179,
   "metadata": {},
   "outputs": [],
   "source": [
    "def get_topk_score(recommendations, top_k):\n",
    "    combined_total = 0\n",
    "    dl_total = 0\n",
    "    sim_total = 0\n",
    "\n",
    "    for idx in range(len(df_test)):\n",
    "        actual = df_test.iloc[idx][\"owner\"]\n",
    "        combined_recommended = recommendations[idx][\"combined_ranking\"][:top_k]\n",
    "        dl_recommended = recommendations[idx][\"predicted_developers\"][:top_k]\n",
    "        sim_recommended = recommendations[idx][\"similar_devs\"][:top_k]\n",
    "\n",
    "        if actual in combined_recommended:\n",
    "            combined_total += 1\n",
    "\n",
    "        if actual in dl_recommended:\n",
    "            dl_total += 1\n",
    "\n",
    "        if actual in sim_recommended:\n",
    "            sim_total += 1\n",
    "\n",
    "    return dl_total/len(df_test), sim_total/len(df_test), combined_total/len(df_test)\n",
    "    "
   ]
  },
  {
   "cell_type": "code",
   "execution_count": 167,
   "metadata": {},
   "outputs": [],
   "source": [
    "def evaluate_recommendations(params):\n",
    "    # Extract parameters\n",
    "    similarity_prediction_weight = params['similarity_prediction_weight']\n",
    "    time_decay_factor = params['time_decay_factor']\n",
    "    direct_assignment_score = params['direct_assignment_score']\n",
    "    contribution_score = params['contribution_score']\n",
    "    discussion_score = params['discussion_score']\n",
    "    similarity_threshold = params['similarity_threshold']\n",
    "\n",
    "    trx = TriagerX(\n",
    "        component_prediction_model=comp_model,\n",
    "        developer_prediction_model=dev_model,\n",
    "        similarity_model=similarity_model,\n",
    "        issues_path=\"/home/mdafifal.mamun/notebooks/triagerX/data/openj9/openj9_issue_data_6_7_24\",\n",
    "        train_embeddings=train_embeddings_path,\n",
    "        developer_id_map=lbl2idx,\n",
    "        component_id_map=comp_lbl2id,\n",
    "        train_data=df_train,\n",
    "        device=\"cuda\",\n",
    "        similarity_prediction_weight=similarity_prediction_weight,\n",
    "        time_decay_factor=time_decay_factor,\n",
    "        direct_assignment_score=direct_assignment_score,\n",
    "        contribution_score=contribution_score,\n",
    "        discussion_score=discussion_score\n",
    "    )\n",
    "\n",
    "    recommendations = []\n",
    "\n",
    "    for i in tqdm(range(len(df_test)), total=len(df_test), desc=\"Processing...\"):\n",
    "        rec = get_recommendation(trx, i, k_comp=3, k_dev=20, k_rank=20, sim=similarity_threshold)\n",
    "        recommendations.append(rec)\n",
    "\n",
    "    top_3 = get_topk_score(recommendations, 3)\n",
    "    top_5 = get_topk_score(recommendations, 5)\n",
    "    top_10 = get_topk_score(recommendations, 10)\n",
    "    top_20 = get_topk_score(recommendations, 20)\n",
    "\n",
    "    return top_3, top_5, top_10, top_20"
   ]
  },
  {
   "cell_type": "code",
   "execution_count": 181,
   "metadata": {},
   "outputs": [],
   "source": [
    "parameter_ranges = {\n",
    "    'similarity_prediction_weight': [0.6, 0.7, 0.8, 0.9, 1.0],\n",
    "    'time_decay_factor': [0.01, 0.02, 0.03, 0.04, 0.05],\n",
    "    'direct_assignment_score': [1.0, 1.5, 2.0, 2.5],\n",
    "    'contribution_score': [1.0, 1.5, 2.0, 2.5],\n",
    "    'discussion_score': [0.5, 0.7, 1.0],\n",
    "    'similarity_threshold': [0.5, 0.6, 0.7]\n",
    "}"
   ]
  },
  {
   "cell_type": "code",
   "execution_count": 182,
   "metadata": {},
   "outputs": [
    {
     "data": {
      "text/plain": [
       "3600"
      ]
     },
     "execution_count": 182,
     "metadata": {},
     "output_type": "execute_result"
    }
   ],
   "source": [
    "len(list(itertools.product(*parameter_ranges.values())))"
   ]
  },
  {
   "cell_type": "code",
   "execution_count": 180,
   "metadata": {},
   "outputs": [
    {
     "name": "stderr",
     "output_type": "stream",
     "text": [
      "\u001b[32m2024-06-20 14:29:05.945\u001b[0m | \u001b[34m\u001b[1mDEBUG   \u001b[0m | \u001b[36m__main__\u001b[0m:\u001b[36m__init__\u001b[0m:\u001b[36m76\u001b[0m - \u001b[34m\u001b[1mUsing device: cuda\u001b[0m\n",
      "\u001b[32m2024-06-20 14:29:05.946\u001b[0m | \u001b[34m\u001b[1mDEBUG   \u001b[0m | \u001b[36m__main__\u001b[0m:\u001b[36m__init__\u001b[0m:\u001b[36m77\u001b[0m - \u001b[34m\u001b[1mLoading embeddings for existing issues...\u001b[0m\n"
     ]
    },
    {
     "name": "stdout",
     "output_type": "stream",
     "text": [
      "Running Grid Search... 1/2\n"
     ]
    },
    {
     "name": "stderr",
     "output_type": "stream",
     "text": [
      "Processing...:  59%|█████▉    | 173/293 [00:21<00:16,  7.33it/s]/tmp/ipykernel_525931/3636110859.py:149: RuntimeWarning: invalid value encountered in divide\n",
      "  return (scores - min_score) / (max_score - min_score)\n",
      "Processing...: 100%|██████████| 293/293 [00:36<00:00,  8.00it/s]\n",
      "\u001b[32m2024-06-20 14:29:42.653\u001b[0m | \u001b[34m\u001b[1mDEBUG   \u001b[0m | \u001b[36m__main__\u001b[0m:\u001b[36m__init__\u001b[0m:\u001b[36m76\u001b[0m - \u001b[34m\u001b[1mUsing device: cuda\u001b[0m\n",
      "\u001b[32m2024-06-20 14:29:42.654\u001b[0m | \u001b[34m\u001b[1mDEBUG   \u001b[0m | \u001b[36m__main__\u001b[0m:\u001b[36m__init__\u001b[0m:\u001b[36m77\u001b[0m - \u001b[34m\u001b[1mLoading embeddings for existing issues...\u001b[0m\n"
     ]
    },
    {
     "name": "stdout",
     "output_type": "stream",
     "text": [
      "Running Grid Search... 2/2\n"
     ]
    },
    {
     "name": "stderr",
     "output_type": "stream",
     "text": [
      "Processing...: 100%|██████████| 293/293 [00:37<00:00,  7.89it/s]\n"
     ]
    },
    {
     "name": "stdout",
     "output_type": "stream",
     "text": [
      "Grid search results saved to grid_search_results.csv\n"
     ]
    }
   ],
   "source": [
    "import itertools\n",
    "\n",
    "total_combinations = len(list(itertools.product(*parameter_ranges.values())))\n",
    "\n",
    "# Initialize an empty list to store results\n",
    "results = []\n",
    "\n",
    "index = 1\n",
    "\n",
    "# Iterate over all combinations\n",
    "for params in itertools.product(*parameter_ranges.values()):\n",
    "    \n",
    "    print(f\"Running Grid Search... {index}/{total_combinations}\")\n",
    "    index += 1\n",
    "    \n",
    "    params_dict = {\n",
    "        'similarity_prediction_weight': params[0],\n",
    "        'time_decay_factor': params[1],\n",
    "        'direct_assignment_score': params[2],\n",
    "        'contribution_score': params[3],\n",
    "        'discussion_score': params[4],\n",
    "        'similarity_threshold': params[5]\n",
    "    }\n",
    "\n",
    "    top_3, top_5, top_10, top_20 = evaluate_recommendations(params_dict)\n",
    "\n",
    "    # Append results to the list\n",
    "    results.append({\n",
    "        'similarity_prediction_weight': params_dict['similarity_prediction_weight'],\n",
    "        'time_decay_factor': params_dict['time_decay_factor'],\n",
    "        'direct_assignment_score': params_dict['direct_assignment_score'],\n",
    "        'contribution_score': params_dict['contribution_score'],\n",
    "        'discussion_score': params_dict['discussion_score'],\n",
    "        'similarity_threshold': params_dict['similarity_threshold'],\n",
    "        'T3DL': top_3[0],\n",
    "        'T3Sim': top_3[1],\n",
    "        'T3Com': top_3[2],\n",
    "        'T5DL': top_5[0],\n",
    "        'T5Sim': top_5[1],\n",
    "        'T5Comb': top_5[2],\n",
    "        'T10DL': top_10[0],\n",
    "        'T10Sim': top_10[1],\n",
    "        'T10Com': top_10[2],\n",
    "        'T20DL': top_20[0],\n",
    "        'T20Sim': top_20[1],\n",
    "        'T20Com': top_20[2],\n",
    "    })\n",
    "\n",
    "# Convert the results list into a pandas DataFrame\n",
    "df = pd.DataFrame(results)\n",
    "\n",
    "# Define output file name\n",
    "output_file = 'grid_search_results.csv'\n",
    "\n",
    "# Write DataFrame to CSV file\n",
    "df.to_csv(output_file, index=False)\n",
    "\n",
    "print(f\"Grid search results saved to {output_file}\")"
   ]
  },
  {
   "cell_type": "code",
   "execution_count": 134,
   "metadata": {},
   "outputs": [
    {
     "name": "stderr",
     "output_type": "stream",
     "text": [
      "\u001b[32m2024-06-20 13:51:52.430\u001b[0m | \u001b[33m\u001b[1mWARNING \u001b[0m | \u001b[36m__main__\u001b[0m:\u001b[36m_get_historical_contributors\u001b[0m:\u001b[36m236\u001b[0m - \u001b[33m\u001b[1mSkipped users: {'sophia-guo', 'DanHeidinga', 'Mesbah-Alam', 'dipak-bagadiya', 'mikezhang1234567890', 'karianna'} because they don't exist in the expected developers list\u001b[0m\n"
     ]
    },
    {
     "name": "stdout",
     "output_type": "stream",
     "text": [
      "Issue URL:  https://github.com/eclipse-openj9/openj9/issues/17871\n",
      "Actual owner:  babsingh\n",
      "Actual component:  comp:vm\n"
     ]
    }
   ],
   "source": [
    "ff = get_recommendation(27, k_comp=3, k_dev=3, k_rank=20, sim=0.7)"
   ]
  },
  {
   "cell_type": "code",
   "execution_count": 137,
   "metadata": {},
   "outputs": [
    {
     "data": {
      "text/plain": [
       "{'predicted_developers': ['JasonFengJ9',\n",
       "  'babsingh',\n",
       "  'llxia',\n",
       "  'hzongaro',\n",
       "  'a7ehuo',\n",
       "  'r30shah',\n",
       "  'hangshao0',\n",
       "  'mpirvu',\n",
       "  'gacholio',\n",
       "  'ChengJin01',\n",
       "  'jdmpapin',\n",
       "  'thallium',\n",
       "  'dsouzai',\n",
       "  'smlambert',\n",
       "  'nbhuiyan',\n",
       "  'BradleyWood',\n",
       "  'keithc-ca',\n",
       "  'pshipton',\n",
       "  'EricYangIBM',\n",
       "  'LongyuZhang'],\n",
       " 'dev_prediction_score': tensor([1.0000, 0.9983, 0.9162, 0.9072, 0.8675, 0.8621, 0.8562, 0.8331, 0.7641,\n",
       "         0.7459, 0.7377, 0.7168, 0.6989, 0.6806, 0.6745, 0.6640, 0.6605, 0.6590,\n",
       "         0.6511, 0.6480], device='cuda:0'),\n",
       " 'similar_devs': ['pshipton',\n",
       "  'knn-k',\n",
       "  'mpirvu',\n",
       "  'keithc-ca',\n",
       "  'llxia',\n",
       "  'hangshao0',\n",
       "  'hzongaro',\n",
       "  'Akira1Saitoh',\n",
       "  'BradleyWood',\n",
       "  'cjjdespres',\n",
       "  'a7ehuo',\n",
       "  'r30shah',\n",
       "  'jdmpapin',\n",
       "  '0xdaryl',\n",
       "  'JasonFengJ9',\n",
       "  'tajila',\n",
       "  'gacholio',\n",
       "  'gita-omr',\n",
       "  'babsingh'],\n",
       " 'similar_score': [1.0,\n",
       "  0.8239102707271186,\n",
       "  0.5334083997652541,\n",
       "  0.5045742298497052,\n",
       "  0.49946390672608015,\n",
       "  0.28976064086595715,\n",
       "  0.28222617310320464,\n",
       "  0.2755069777779865,\n",
       "  0.2622233139697274,\n",
       "  0.2612876095398376,\n",
       "  0.2524950383336636,\n",
       "  0.2492969364253883,\n",
       "  0.24728946015734116,\n",
       "  0.012330988306471405,\n",
       "  0.008807195155735357,\n",
       "  0.00442680696120692,\n",
       "  1.1379469161818415e-06,\n",
       "  3.4423380910438376e-10,\n",
       "  0.0],\n",
       " 'combined_ranking': ['pshipton',\n",
       "  'llxia',\n",
       "  'mpirvu',\n",
       "  'knn-k',\n",
       "  'hzongaro',\n",
       "  'hangshao0',\n",
       "  'a7ehuo',\n",
       "  'r30shah',\n",
       "  'keithc-ca',\n",
       "  'JasonFengJ9',\n",
       "  'babsingh',\n",
       "  'jdmpapin',\n",
       "  'BradleyWood',\n",
       "  'gacholio',\n",
       "  'Akira1Saitoh',\n",
       "  'ChengJin01',\n",
       "  'thallium',\n",
       "  'dsouzai',\n",
       "  'smlambert',\n",
       "  'nbhuiyan'],\n",
       " 'combined_ranking_score': tensor([1.3590, 1.2658, 1.2065, 1.1865, 1.1047, 1.0590, 1.0442, 1.0367, 1.0137,\n",
       "         1.0062, 0.9983, 0.9108, 0.8476, 0.7641, 0.7544, 0.7459, 0.7168, 0.6989,\n",
       "         0.6806, 0.6745], device='cuda:0')}"
      ]
     },
     "execution_count": 137,
     "metadata": {},
     "output_type": "execute_result"
    }
   ],
   "source": [
    "recommendations[1]"
   ]
  },
  {
   "cell_type": "code",
   "execution_count": 144,
   "metadata": {},
   "outputs": [
    {
     "name": "stdout",
     "output_type": "stream",
     "text": [
      "Issue URL:  https://github.com/eclipse-openj9/openj9/issues/17734\n",
      "Actual owner:  a7ehuo\n",
      "Actual component:  comp:jit\n"
     ]
    },
    {
     "name": "stderr",
     "output_type": "stream",
     "text": [
      "\u001b[32m2024-06-20 13:55:59.925\u001b[0m | \u001b[33m\u001b[1mWARNING \u001b[0m | \u001b[36m__main__\u001b[0m:\u001b[36m_get_historical_contributors\u001b[0m:\u001b[36m236\u001b[0m - \u001b[33m\u001b[1mSkipped users: {'liqunl', 'DanHeidinga', 'M-Davies', 'andrewcraik', 'R-Santhir', 'andrew-m-leonard', 'manashaVetrivelu', 'dchopra001', 'zl-wang', 'cathyzhyi', 'pdbain-ibm', 'mikezhang1234567890', 'irinarada', 'lumpfish', 'fjeremic', 'IBMJimmyk', 'dylanjtuttle'} because they don't exist in the expected developers list\u001b[0m\n",
      "\u001b[32m2024-06-20 13:56:00.103\u001b[0m | \u001b[33m\u001b[1mWARNING \u001b[0m | \u001b[36m__main__\u001b[0m:\u001b[36m_get_historical_contributors\u001b[0m:\u001b[36m236\u001b[0m - \u001b[33m\u001b[1mSkipped users: {'manashaVetrivelu', 'cathyzhyi', 'irinarada', 'Talk2Harish', 'dylanjtuttle', 'DanHeidinga', 'dmitry-ten', 'R-Santhir', 'AlenBadel', 'andrew-m-leonard', 'dchopra001', 'pdbain-ibm', 'OussamaSaoudi', 'harryyu1994', 'fjeremic', 'Leonardo2718', 'liqunl', 'jluehe', 'andrewcraik', 'mikezhang1234567890'} because they don't exist in the expected developers list\u001b[0m\n"
     ]
    },
    {
     "name": "stdout",
     "output_type": "stream",
     "text": [
      "Issue URL:  https://github.com/eclipse-openj9/openj9/issues/17736\n",
      "Actual owner:  dsouzai\n",
      "Actual component:  comp:jit\n",
      "Issue URL:  https://github.com/eclipse-openj9/openj9/issues/17738\n",
      "Actual owner:  JasonFengJ9\n",
      "Actual component:  comp:vm\n"
     ]
    },
    {
     "name": "stderr",
     "output_type": "stream",
     "text": [
      "\u001b[32m2024-06-20 13:56:00.255\u001b[0m | \u001b[33m\u001b[1mWARNING \u001b[0m | \u001b[36m__main__\u001b[0m:\u001b[36m_get_historical_contributors\u001b[0m:\u001b[36m236\u001b[0m - \u001b[33m\u001b[1mSkipped users: {'DanHeidinga', 'dmitry-ten', 'mateuszrzeszutek', 'vij-singh', 'Spencer-Comin', 'dchopra001', 'EmanElsaban', 'mikezhang1234567890', 'manqingl'} because they don't exist in the expected developers list\u001b[0m\n",
      "\u001b[32m2024-06-20 13:56:00.373\u001b[0m | \u001b[33m\u001b[1mWARNING \u001b[0m | \u001b[36m__main__\u001b[0m:\u001b[36m_get_historical_contributors\u001b[0m:\u001b[36m236\u001b[0m - \u001b[33m\u001b[1mSkipped users: {'liqunl', 'DanHeidinga', 'dmitry-ten', 'XxAdi101xX', 'dchopra001', 'harryyu1994', 'ashu-mehra'} because they don't exist in the expected developers list\u001b[0m\n"
     ]
    },
    {
     "name": "stdout",
     "output_type": "stream",
     "text": [
      "Issue URL:  https://github.com/eclipse-openj9/openj9/issues/17748\n",
      "Actual owner:  dsouzai\n",
      "Actual component:  comp:test\n",
      "Issue URL:  https://github.com/eclipse-openj9/openj9/issues/17757\n",
      "Actual owner:  keithc-ca\n",
      "Actual component:  comp:build\n"
     ]
    },
    {
     "name": "stderr",
     "output_type": "stream",
     "text": [
      "\u001b[32m2024-06-20 13:56:00.486\u001b[0m | \u001b[33m\u001b[1mWARNING \u001b[0m | \u001b[36m__main__\u001b[0m:\u001b[36m_get_historical_contributors\u001b[0m:\u001b[36m236\u001b[0m - \u001b[33m\u001b[1mSkipped users: {'DanHeidinga', 'andrewcraik', 'vij-singh', 'zl-wang', 'jdekonin', 'fjeremic', 'IBMJimmyk'} because they don't exist in the expected developers list\u001b[0m\n",
      "\u001b[32m2024-06-20 13:56:00.597\u001b[0m | \u001b[33m\u001b[1mWARNING \u001b[0m | \u001b[36m__main__\u001b[0m:\u001b[36m_get_historical_contributors\u001b[0m:\u001b[36m236\u001b[0m - \u001b[33m\u001b[1mSkipped users: {'mstoodle', 'sophia-guo', 'sxa', 'jdekonin', 'midronij', 'irinarada', 'Charlmzz', 'DanHeidinga', 'R-Santhir', 'youngar', 'andrew-m-leonard', 'dchopra001', 'pdbain-ibm', 'adamfarley', 'fjeremic', 'vsebe', 'VermaSh', 'JamesKingdon', 'andrewcraik', 'zl-wang'} because they don't exist in the expected developers list\u001b[0m\n"
     ]
    },
    {
     "name": "stdout",
     "output_type": "stream",
     "text": [
      "Issue URL:  https://github.com/eclipse-openj9/openj9/issues/17759\n",
      "Actual owner:  JasonFengJ9\n",
      "Actual component:  comp:build\n",
      "Issue URL:  https://github.com/eclipse-openj9/openj9/issues/17769\n",
      "Actual owner:  LinHu2016\n",
      "Actual component:  comp:gc\n"
     ]
    },
    {
     "name": "stderr",
     "output_type": "stream",
     "text": [
      "\u001b[32m2024-06-20 13:56:00.719\u001b[0m | \u001b[33m\u001b[1mWARNING \u001b[0m | \u001b[36m__main__\u001b[0m:\u001b[36m_get_historical_contributors\u001b[0m:\u001b[36m236\u001b[0m - \u001b[33m\u001b[1mSkipped users: {'liqunl', 'DanHeidinga', 'fuzzy000', 'dmitry-ten', 'andrewcraik', 'kgibm', 'jabrena', 'mayshukla', 'dnakamura', 'OussamaSaoudi', 'annaibm'} because they don't exist in the expected developers list\u001b[0m\n",
      "\u001b[32m2024-06-20 13:56:00.824\u001b[0m | \u001b[33m\u001b[1mWARNING \u001b[0m | \u001b[36m__main__\u001b[0m:\u001b[36m_get_historical_contributors\u001b[0m:\u001b[36m236\u001b[0m - \u001b[33m\u001b[1mSkipped users: {'DanHeidinga', 'ehrenjulzert', '0dvictor', 'fjeremic', 'VermaSh'} because they don't exist in the expected developers list\u001b[0m\n"
     ]
    },
    {
     "name": "stdout",
     "output_type": "stream",
     "text": [
      "Issue URL:  https://github.com/eclipse-openj9/openj9/issues/17772\n",
      "Actual owner:  JasonFengJ9\n",
      "Actual component:  comp:test\n",
      "Issue URL:  https://github.com/eclipse-openj9/openj9/issues/17782\n",
      "Actual owner:  babsingh\n",
      "Actual component:  comp:vm\n"
     ]
    },
    {
     "name": "stderr",
     "output_type": "stream",
     "text": [
      "\u001b[32m2024-06-20 13:56:00.955\u001b[0m | \u001b[33m\u001b[1mWARNING \u001b[0m | \u001b[36m__main__\u001b[0m:\u001b[36m_get_historical_contributors\u001b[0m:\u001b[36m236\u001b[0m - \u001b[33m\u001b[1mSkipped users: {'sophia-guo', 'DanHeidinga', 'Mesbah-Alam', 'dipak-bagadiya', 'mikezhang1234567890', 'karianna'} because they don't exist in the expected developers list\u001b[0m\n",
      "\u001b[32m2024-06-20 13:56:01.072\u001b[0m | \u001b[33m\u001b[1mWARNING \u001b[0m | \u001b[36m__main__\u001b[0m:\u001b[36m_get_historical_contributors\u001b[0m:\u001b[36m236\u001b[0m - \u001b[33m\u001b[1mSkipped users: {'sophia-guo', 'DanHeidinga', 'Mesbah-Alam', 'mikezhang1234567890', 'karianna'} because they don't exist in the expected developers list\u001b[0m\n"
     ]
    },
    {
     "name": "stdout",
     "output_type": "stream",
     "text": [
      "Issue URL:  https://github.com/eclipse-openj9/openj9/issues/17784\n",
      "Actual owner:  babsingh\n",
      "Actual component:  comp:vm\n",
      "Issue URL:  https://github.com/eclipse-openj9/openj9/issues/17785\n",
      "Actual owner:  theresa-m\n",
      "Actual component:  comp:vm\n"
     ]
    },
    {
     "name": "stderr",
     "output_type": "stream",
     "text": [
      "\u001b[32m2024-06-20 13:56:01.177\u001b[0m | \u001b[33m\u001b[1mWARNING \u001b[0m | \u001b[36m__main__\u001b[0m:\u001b[36m_get_historical_contributors\u001b[0m:\u001b[36m236\u001b[0m - \u001b[33m\u001b[1mSkipped users: {'mstoodle', 'Ailloviee', 'EricYangIBM', 'MarkQingGuo', 'youurayy', 'DanHeidinga', 'acrowthe', '0dvictor', 'gireeshpunathil', 'ashu-mehra', 'raiyansayeed', 'dchopra001', 'pdbain-ibm', 'gkorland', 'harryyu1994', 'fjeremic', 'JamesKingdon', 'doveye', 'andrewcraik', 'SueChaplain', 'LeahKorol', 'rwy7', 'dnakamura'} because they don't exist in the expected developers list\u001b[0m\n",
      "\u001b[32m2024-06-20 13:56:01.278\u001b[0m | \u001b[33m\u001b[1mWARNING \u001b[0m | \u001b[36m__main__\u001b[0m:\u001b[36m_get_historical_contributors\u001b[0m:\u001b[36m236\u001b[0m - \u001b[33m\u001b[1mSkipped users: {'AlexeyKhrabrov', 'dmitry-ten'} because they don't exist in the expected developers list\u001b[0m\n"
     ]
    },
    {
     "name": "stdout",
     "output_type": "stream",
     "text": [
      "Issue URL:  https://github.com/eclipse-openj9/openj9/issues/17786\n",
      "Actual owner:  mpirvu\n",
      "Actual component:  comp:jitserver\n",
      "Issue URL:  https://github.com/eclipse-openj9/openj9/issues/17791\n",
      "Actual owner:  babsingh\n",
      "Actual component:  comp:vm\n"
     ]
    },
    {
     "name": "stderr",
     "output_type": "stream",
     "text": [
      "\u001b[32m2024-06-20 13:56:01.397\u001b[0m | \u001b[33m\u001b[1mWARNING \u001b[0m | \u001b[36m__main__\u001b[0m:\u001b[36m_get_historical_contributors\u001b[0m:\u001b[36m236\u001b[0m - \u001b[33m\u001b[1mSkipped users: {'sophia-guo', 'dipak-bagadiya', 'karianna'} because they don't exist in the expected developers list\u001b[0m\n",
      "\u001b[32m2024-06-20 13:56:01.522\u001b[0m | \u001b[33m\u001b[1mWARNING \u001b[0m | \u001b[36m__main__\u001b[0m:\u001b[36m_get_historical_contributors\u001b[0m:\u001b[36m236\u001b[0m - \u001b[33m\u001b[1mSkipped users: {'DanHeidinga', 'fuzzy000', 'klangman', 'vij-singh', 'acrowthe', 'andrewcraik', 'c-koell', 'zl-wang', 'edrevo', 'vijaysun-omr', 'jdekonin', 'chrisc66', 'gpezzini', 'fjeremic', 'mnalam-p', 'connglli', 'JamesKingdon'} because they don't exist in the expected developers list\u001b[0m\n"
     ]
    },
    {
     "name": "stdout",
     "output_type": "stream",
     "text": [
      "Issue URL:  https://github.com/eclipse-openj9/openj9/issues/17793\n",
      "Actual owner:  JasonFengJ9\n",
      "Actual component:  comp:vm\n",
      "Issue URL:  https://github.com/eclipse-openj9/openj9/issues/17801\n",
      "Actual owner:  JasonFengJ9\n",
      "Actual component:  comp:vm\n"
     ]
    },
    {
     "name": "stderr",
     "output_type": "stream",
     "text": [
      "\u001b[32m2024-06-20 13:56:01.635\u001b[0m | \u001b[33m\u001b[1mWARNING \u001b[0m | \u001b[36m__main__\u001b[0m:\u001b[36m_get_historical_contributors\u001b[0m:\u001b[36m236\u001b[0m - \u001b[33m\u001b[1mSkipped users: {'DanHeidinga', 'Mesbah-Alam', 'andrew-m-leonard', 'zl-wang', 'IBMJimmyk', 'VermaSh', 'karianna'} because they don't exist in the expected developers list\u001b[0m\n",
      "\u001b[32m2024-06-20 13:56:01.802\u001b[0m | \u001b[33m\u001b[1mWARNING \u001b[0m | \u001b[36m__main__\u001b[0m:\u001b[36m_get_historical_contributors\u001b[0m:\u001b[36m236\u001b[0m - \u001b[33m\u001b[1mSkipped users: {'sophia-guo', 'vij-singh', 'pelemie', 'cathyzhyi', 'DanHeidinga', 'dmitry-ten', 'R-Santhir', 'AlexeyKhrabrov', 'mnalam-p', 'renfeiw', 'Mesbah-Alam', 'dchopra001', 'Thihup', 'harryyu1994', 'fjeremic', 'liqunl', 'andrewcraik', 'github-actions[bot]', 'OscarQQ', 'zl-wang'} because they don't exist in the expected developers list\u001b[0m\n"
     ]
    },
    {
     "name": "stdout",
     "output_type": "stream",
     "text": [
      "Issue URL:  https://github.com/eclipse-openj9/openj9/issues/17805\n",
      "Actual owner:  nbhuiyan\n",
      "Actual component:  comp:jit\n",
      "Issue URL:  https://github.com/eclipse-openj9/openj9/issues/17817\n",
      "Actual owner:  a7ehuo\n",
      "Actual component:  comp:jit\n"
     ]
    },
    {
     "name": "stderr",
     "output_type": "stream",
     "text": [
      "\u001b[32m2024-06-20 13:56:02.021\u001b[0m | \u001b[33m\u001b[1mWARNING \u001b[0m | \u001b[36m__main__\u001b[0m:\u001b[36m_get_historical_contributors\u001b[0m:\u001b[36m236\u001b[0m - \u001b[33m\u001b[1mSkipped users: {'liqunl', 'DanHeidinga', 'dmitry-ten', 'andrewcraik', 'R-Santhir', 'andrew-m-leonard', 'manashaVetrivelu', 'dchopra001', 'cathyzhyi', 'harryyu1994', 'pdbain-ibm', 'irinarada', 'mikezhang1234567890', 'fjeremic', 'dylanjtuttle'} because they don't exist in the expected developers list\u001b[0m\n",
      "\u001b[32m2024-06-20 13:56:02.118\u001b[0m | \u001b[33m\u001b[1mWARNING \u001b[0m | \u001b[36m__main__\u001b[0m:\u001b[36m_get_historical_contributors\u001b[0m:\u001b[36m236\u001b[0m - \u001b[33m\u001b[1mSkipped users: {'DanHeidinga', 'R-Santhir', 'dipak-bagadiya', 'acrowthe', 'ehrenjulzert', 'pdbain-ibm', 'bhavanisn'} because they don't exist in the expected developers list\u001b[0m\n"
     ]
    },
    {
     "name": "stdout",
     "output_type": "stream",
     "text": [
      "Issue URL:  https://github.com/eclipse-openj9/openj9/issues/17818\n",
      "Actual owner:  gacholio\n",
      "Actual component:  comp:vm\n",
      "Issue URL:  https://github.com/eclipse-openj9/openj9/issues/17819\n",
      "Actual owner:  jdmpapin\n",
      "Actual component:  comp:jit\n"
     ]
    },
    {
     "name": "stderr",
     "output_type": "stream",
     "text": [
      "\u001b[32m2024-06-20 13:56:02.328\u001b[0m | \u001b[33m\u001b[1mWARNING \u001b[0m | \u001b[36m__main__\u001b[0m:\u001b[36m_get_historical_contributors\u001b[0m:\u001b[36m236\u001b[0m - \u001b[33m\u001b[1mSkipped users: {'liqunl', 'DanHeidinga', 'dmitry-ten', 'andrewcraik', 'R-Santhir', 'manashaVetrivelu', 'cathyzhyi', 'dchopra001', 'harryyu1994', 'zl-wang', 'irinarada', 'OussamaSaoudi', 'fjeremic', 'IBMJimmyk', 'dylanjtuttle'} because they don't exist in the expected developers list\u001b[0m\n",
      "\u001b[32m2024-06-20 13:56:02.433\u001b[0m | \u001b[33m\u001b[1mWARNING \u001b[0m | \u001b[36m__main__\u001b[0m:\u001b[36m_get_historical_contributors\u001b[0m:\u001b[36m236\u001b[0m - \u001b[33m\u001b[1mSkipped users: {'sophia-guo', 'dansmithcode', 'Yuehan-Lin', 'dnakamura', 'sharon-wang', 'Brad0309', 'dholmes-ora'} because they don't exist in the expected developers list\u001b[0m\n"
     ]
    },
    {
     "name": "stdout",
     "output_type": "stream",
     "text": [
      "Issue URL:  https://github.com/eclipse-openj9/openj9/issues/17822\n",
      "Actual owner:  keithc-ca\n",
      "Actual component:  comp:vm\n",
      "Issue URL:  https://github.com/eclipse-openj9/openj9/issues/17832\n",
      "Actual owner:  nbhuiyan\n",
      "Actual component:  comp:jit\n"
     ]
    },
    {
     "name": "stderr",
     "output_type": "stream",
     "text": [
      "\u001b[32m2024-06-20 13:56:02.559\u001b[0m | \u001b[33m\u001b[1mWARNING \u001b[0m | \u001b[36m__main__\u001b[0m:\u001b[36m_get_historical_contributors\u001b[0m:\u001b[36m236\u001b[0m - \u001b[33m\u001b[1mSkipped users: {'sophia-guo', 'liqunl', 'DanHeidinga', 'M-Davies', 'andrewcraik', 'R-Santhir', 'dmitry-ten', 'dipak-bagadiya', 'vij-singh', 'cathyzhyi', 'dchopra001', 'sxa', 'zl-wang', 'lumpfish', 'fjeremic', 'IBMJimmyk', 'karianna', 'Leonardo2718'} because they don't exist in the expected developers list\u001b[0m\n",
      "\u001b[32m2024-06-20 13:56:02.758\u001b[0m | \u001b[33m\u001b[1mWARNING \u001b[0m | \u001b[36m__main__\u001b[0m:\u001b[36m_get_historical_contributors\u001b[0m:\u001b[36m236\u001b[0m - \u001b[33m\u001b[1mSkipped users: {'mstoodle', 'sophia-guo', 'bmarwell', 'DanHeidinga', 'andrewcraik', 'dipak-bagadiya', 'mayshukla', 'EricYangIBM', 'vijaysun-omr', 'dnakamura', 'midronij', 'jkuipers', 'manqingl', 'planetf1', 'ninja-', 'fjeremic', 'karianna'} because they don't exist in the expected developers list\u001b[0m\n"
     ]
    },
    {
     "name": "stdout",
     "output_type": "stream",
     "text": [
      "Issue URL:  https://github.com/eclipse-openj9/openj9/issues/17858\n",
      "Actual owner:  JasonFengJ9\n",
      "Actual component:  comp:vm\n",
      "Issue URL:  https://github.com/eclipse-openj9/openj9/issues/17860\n",
      "Actual owner:  fengxue-IS\n",
      "Actual component:  comp:vm\n",
      "Issue URL:  https://github.com/eclipse-openj9/openj9/issues/17865\n",
      "Actual owner:  babsingh\n",
      "Actual component:  comp:vm\n"
     ]
    },
    {
     "name": "stderr",
     "output_type": "stream",
     "text": [
      "\u001b[32m2024-06-20 13:56:02.874\u001b[0m | \u001b[33m\u001b[1mWARNING \u001b[0m | \u001b[36m__main__\u001b[0m:\u001b[36m_get_historical_contributors\u001b[0m:\u001b[36m236\u001b[0m - \u001b[33m\u001b[1mSkipped users: {'sophia-guo', 'DanHeidinga', 'Mesbah-Alam', 'dipak-bagadiya', 'EricYangIBM', 'mikezhang1234567890'} because they don't exist in the expected developers list\u001b[0m\n",
      "\u001b[32m2024-06-20 13:56:03.011\u001b[0m | \u001b[33m\u001b[1mWARNING \u001b[0m | \u001b[36m__main__\u001b[0m:\u001b[36m_get_historical_contributors\u001b[0m:\u001b[36m236\u001b[0m - \u001b[33m\u001b[1mSkipped users: {'sophia-guo', 'DanHeidinga', 'Mesbah-Alam', 'dchopra001', 'EricYangIBM', 'mikezhang1234567890', 'karianna'} because they don't exist in the expected developers list\u001b[0m\n"
     ]
    },
    {
     "name": "stdout",
     "output_type": "stream",
     "text": [
      "Issue URL:  https://github.com/eclipse-openj9/openj9/issues/17868\n",
      "Actual owner:  babsingh\n",
      "Actual component:  comp:vm\n",
      "Issue URL:  https://github.com/eclipse-openj9/openj9/issues/17869\n",
      "Actual owner:  babsingh\n",
      "Actual component:  comp:vm\n"
     ]
    },
    {
     "name": "stderr",
     "output_type": "stream",
     "text": [
      "\u001b[32m2024-06-20 13:56:03.129\u001b[0m | \u001b[33m\u001b[1mWARNING \u001b[0m | \u001b[36m__main__\u001b[0m:\u001b[36m_get_historical_contributors\u001b[0m:\u001b[36m236\u001b[0m - \u001b[33m\u001b[1mSkipped users: {'sophia-guo', 'DanHeidinga', 'Mesbah-Alam', 'dipak-bagadiya', 'mikezhang1234567890', 'karianna'} because they don't exist in the expected developers list\u001b[0m\n",
      "\u001b[32m2024-06-20 13:56:03.245\u001b[0m | \u001b[33m\u001b[1mWARNING \u001b[0m | \u001b[36m__main__\u001b[0m:\u001b[36m_get_historical_contributors\u001b[0m:\u001b[36m236\u001b[0m - \u001b[33m\u001b[1mSkipped users: {'ThanHenderson', 'liqunl', 'DanHeidinga', 'Mesbah-Alam', 'andrewcraik', 'vij-singh', 'andrew-m-leonard', 'mayshukla', 'pdbain-ibm', 'zl-wang', 'AlenBadel', 'midronij', 'lumpfish', 'mnalam-p', 'ben-walsh', 'mikezhang1234567890', 'yanluo7', 'IBMJimmyk'} because they don't exist in the expected developers list\u001b[0m\n"
     ]
    },
    {
     "name": "stdout",
     "output_type": "stream",
     "text": [
      "Issue URL:  https://github.com/eclipse-openj9/openj9/issues/17870\n",
      "Actual owner:  babsingh\n",
      "Actual component:  comp:test\n",
      "Issue URL:  https://github.com/eclipse-openj9/openj9/issues/17871\n",
      "Actual owner:  babsingh\n",
      "Actual component:  comp:vm\n"
     ]
    },
    {
     "name": "stderr",
     "output_type": "stream",
     "text": [
      "\u001b[32m2024-06-20 13:56:03.366\u001b[0m | \u001b[33m\u001b[1mWARNING \u001b[0m | \u001b[36m__main__\u001b[0m:\u001b[36m_get_historical_contributors\u001b[0m:\u001b[36m236\u001b[0m - \u001b[33m\u001b[1mSkipped users: {'sophia-guo', 'DanHeidinga', 'Mesbah-Alam', 'dipak-bagadiya', 'mikezhang1234567890', 'karianna'} because they don't exist in the expected developers list\u001b[0m\n",
      "\u001b[32m2024-06-20 13:56:03.475\u001b[0m | \u001b[33m\u001b[1mWARNING \u001b[0m | \u001b[36m__main__\u001b[0m:\u001b[36m_get_historical_contributors\u001b[0m:\u001b[36m236\u001b[0m - \u001b[33m\u001b[1mSkipped users: {'mstoodle', 'liqunl', 'DanHeidinga', 'zl-wang', 'midronij', 'VermaSh', 'karianna'} because they don't exist in the expected developers list\u001b[0m\n"
     ]
    },
    {
     "name": "stdout",
     "output_type": "stream",
     "text": [
      "Issue URL:  https://github.com/eclipse-openj9/openj9/issues/17872\n",
      "Actual owner:  ChengJin01\n",
      "Actual component:  comp:vm\n",
      "Issue URL:  https://github.com/eclipse-openj9/openj9/issues/17873\n",
      "Actual owner:  ChengJin01\n",
      "Actual component:  comp:vm\n"
     ]
    },
    {
     "name": "stderr",
     "output_type": "stream",
     "text": [
      "\u001b[32m2024-06-20 13:56:03.596\u001b[0m | \u001b[33m\u001b[1mWARNING \u001b[0m | \u001b[36m__main__\u001b[0m:\u001b[36m_get_historical_contributors\u001b[0m:\u001b[36m236\u001b[0m - \u001b[33m\u001b[1mSkipped users: {'StephanieMeakins', 'liqunl', 'DanHeidinga', 'Mesbah-Alam', 'andrewcraik', 'AidanHa', 'EricYangIBM', 'pdbain-ibm', 'jdekonin', 'ben-walsh', 'terryzuoty', 'fjeremic', 'renfeiw', 'VermaSh', 'pdbain'} because they don't exist in the expected developers list\u001b[0m\n",
      "\u001b[32m2024-06-20 13:56:03.741\u001b[0m | \u001b[33m\u001b[1mWARNING \u001b[0m | \u001b[36m__main__\u001b[0m:\u001b[36m_get_historical_contributors\u001b[0m:\u001b[36m236\u001b[0m - \u001b[33m\u001b[1mSkipped users: {'sophia-guo', 'DanHeidinga', 'andrew-m-leonard', 'VermaSh', 'manqingl', 'fjeremic', 'PushkarBettadpur', 'JamesKingdon', 'ayuan0828'} because they don't exist in the expected developers list\u001b[0m\n"
     ]
    },
    {
     "name": "stdout",
     "output_type": "stream",
     "text": [
      "Issue URL:  https://github.com/eclipse-openj9/openj9/issues/17882\n",
      "Actual owner:  dsouzai\n",
      "Actual component:  comp:jit\n",
      "Issue URL:  https://github.com/eclipse-openj9/openj9/issues/17889\n",
      "Actual owner:  jdmpapin\n",
      "Actual component:  comp:jit\n"
     ]
    },
    {
     "name": "stderr",
     "output_type": "stream",
     "text": [
      "\u001b[32m2024-06-20 13:56:03.895\u001b[0m | \u001b[33m\u001b[1mWARNING \u001b[0m | \u001b[36m__main__\u001b[0m:\u001b[36m_get_historical_contributors\u001b[0m:\u001b[36m236\u001b[0m - \u001b[33m\u001b[1mSkipped users: {'mstoodle', 'vij-singh', 'cathyzhyi', 'EricYangIBM', 'IBMJimmyk', 'DanHeidinga', 'dmitry-ten', 'AlenBadel', 'AlexeyKhrabrov', 'ashu-mehra', 'mayshukla', 'dchopra001', 'fjeremic', 'harryyu1994', 'liqunl', 'andrewcraik', 'zl-wang', 'EmanElsaban', 'sharon-wang', 'alexey-anufriev'} because they don't exist in the expected developers list\u001b[0m\n",
      "\u001b[32m2024-06-20 13:56:04.035\u001b[0m | \u001b[33m\u001b[1mWARNING \u001b[0m | \u001b[36m__main__\u001b[0m:\u001b[36m_get_historical_contributors\u001b[0m:\u001b[36m236\u001b[0m - \u001b[33m\u001b[1mSkipped users: {'DanHeidinga', 'vij-singh', 'acrowthe', 'rmnattas', 'andrew-m-leonard', 'pdbain-ibm', 'mikezhang1234567890', 'ben-walsh', 'dholmes-ora'} because they don't exist in the expected developers list\u001b[0m\n"
     ]
    },
    {
     "name": "stdout",
     "output_type": "stream",
     "text": [
      "Issue URL:  https://github.com/eclipse-openj9/openj9/issues/17901\n",
      "Actual owner:  JasonFengJ9\n",
      "Actual component:  comp:vm\n",
      "Issue URL:  https://github.com/eclipse-openj9/openj9/issues/17910\n",
      "Actual owner:  tajila\n",
      "Actual component:  comp:test\n"
     ]
    },
    {
     "name": "stderr",
     "output_type": "stream",
     "text": [
      "\u001b[32m2024-06-20 13:56:04.155\u001b[0m | \u001b[33m\u001b[1mWARNING \u001b[0m | \u001b[36m__main__\u001b[0m:\u001b[36m_get_historical_contributors\u001b[0m:\u001b[36m236\u001b[0m - \u001b[33m\u001b[1mSkipped users: {'SajinaKandy', 'DanHeidinga', 'andrewcraik', 'andrew-m-leonard', 'KostasTsiounis', 'jasonkatonica', 'WilburZjh', 'mikezhang1234567890', 'ben-walsh', 'patkarns', 'cedrichansen', 'dholmes-ora'} because they don't exist in the expected developers list\u001b[0m\n",
      "\u001b[32m2024-06-20 13:56:04.290\u001b[0m | \u001b[33m\u001b[1mWARNING \u001b[0m | \u001b[36m__main__\u001b[0m:\u001b[36m_get_historical_contributors\u001b[0m:\u001b[36m236\u001b[0m - \u001b[33m\u001b[1mSkipped users: {'mstoodle', 'rrozenshteyn-jha', 'liqunl', 'DanHeidinga', 'dmitry-ten', 'andrewcraik', 'vij-singh', 'acrowthe', 'rmnattas', 'paulcheeseman', 'harryyu1994', 'cathyzhyi', 'edrevo', 'fjeremic'} because they don't exist in the expected developers list\u001b[0m\n"
     ]
    },
    {
     "name": "stdout",
     "output_type": "stream",
     "text": [
      "Issue URL:  https://github.com/eclipse-openj9/openj9/issues/17918\n",
      "Actual owner:  dsouzai\n",
      "Actual component:  comp:jit\n",
      "Issue URL:  https://github.com/eclipse-openj9/openj9/issues/17924\n",
      "Actual owner:  babsingh\n",
      "Actual component:  comp:vm\n"
     ]
    },
    {
     "name": "stderr",
     "output_type": "stream",
     "text": [
      "\u001b[32m2024-06-20 13:56:04.441\u001b[0m | \u001b[33m\u001b[1mWARNING \u001b[0m | \u001b[36m__main__\u001b[0m:\u001b[36m_get_historical_contributors\u001b[0m:\u001b[36m236\u001b[0m - \u001b[33m\u001b[1mSkipped users: {'ThanHenderson', 'liqunl', 'DanHeidinga', 'github-actions[bot]', 'XxAdi101xX', 'mikezhang1234567890', 'harryyu1994', 'ashu-mehra', 'renfeiw', 'VermaSh'} because they don't exist in the expected developers list\u001b[0m\n",
      "\u001b[32m2024-06-20 13:56:04.582\u001b[0m | \u001b[33m\u001b[1mWARNING \u001b[0m | \u001b[36m__main__\u001b[0m:\u001b[36m_get_historical_contributors\u001b[0m:\u001b[36m236\u001b[0m - \u001b[33m\u001b[1mSkipped users: {'DanHeidinga', 'dmitry-ten', 'harryyu1994', 'dchopra001', 'lumpfish', 'AlexeyKhrabrov', 'fjeremic'} because they don't exist in the expected developers list\u001b[0m\n"
     ]
    },
    {
     "name": "stdout",
     "output_type": "stream",
     "text": [
      "Issue URL:  https://github.com/eclipse-openj9/openj9/issues/17929\n",
      "Actual owner:  knn-k\n",
      "Actual component:  comp:jitserver\n",
      "Issue URL:  https://github.com/eclipse-openj9/openj9/issues/17930\n",
      "Actual owner:  mpirvu\n",
      "Actual component:  comp:jitserver\n"
     ]
    },
    {
     "name": "stderr",
     "output_type": "stream",
     "text": [
      "\u001b[32m2024-06-20 13:56:04.731\u001b[0m | \u001b[33m\u001b[1mWARNING \u001b[0m | \u001b[36m__main__\u001b[0m:\u001b[36m_get_historical_contributors\u001b[0m:\u001b[36m236\u001b[0m - \u001b[33m\u001b[1mSkipped users: {'vij-singh', 'XxAdi101xX', 'sxa', 'simonameng', 'irinarada', 'DanHeidinga', 'dmitry-ten', 'tommyettinger', 'AlenBadel', '0dvictor', 'lumpfish', 'PhilWakelin', 'M-Davies', 'piyush286', 'dchopra001', 'charliegracie', 'harryyu1994', 'fjeremic', 'JamesKingdon', 'liqunl', 'markehammons', 'andrewcraik', 'thimo-seitz'} because they don't exist in the expected developers list\u001b[0m\n",
      "\u001b[32m2024-06-20 13:56:04.852\u001b[0m | \u001b[33m\u001b[1mWARNING \u001b[0m | \u001b[36m__main__\u001b[0m:\u001b[36m_get_historical_contributors\u001b[0m:\u001b[36m236\u001b[0m - \u001b[33m\u001b[1mSkipped users: {'harryyu1994', 'ashu-mehra', 'dmitry-ten', 'fjeremic'} because they don't exist in the expected developers list\u001b[0m\n"
     ]
    },
    {
     "name": "stdout",
     "output_type": "stream",
     "text": [
      "Issue URL:  https://github.com/eclipse-openj9/openj9/issues/17931\n",
      "Actual owner:  babsingh\n",
      "Actual component:  comp:jitserver\n",
      "Issue URL:  https://github.com/eclipse-openj9/openj9/issues/17933\n",
      "Actual owner:  babsingh\n",
      "Actual component:  comp:vm\n"
     ]
    },
    {
     "name": "stderr",
     "output_type": "stream",
     "text": [
      "\u001b[32m2024-06-20 13:56:05.007\u001b[0m | \u001b[33m\u001b[1mWARNING \u001b[0m | \u001b[36m__main__\u001b[0m:\u001b[36m_get_historical_contributors\u001b[0m:\u001b[36m236\u001b[0m - \u001b[33m\u001b[1mSkipped users: {'sophia-guo', 'DanHeidinga', 'Mesbah-Alam', 'dipak-bagadiya', 'mikezhang1234567890', 'karianna'} because they don't exist in the expected developers list\u001b[0m\n",
      "\u001b[32m2024-06-20 13:56:05.175\u001b[0m | \u001b[33m\u001b[1mWARNING \u001b[0m | \u001b[36m__main__\u001b[0m:\u001b[36m_get_historical_contributors\u001b[0m:\u001b[36m236\u001b[0m - \u001b[33m\u001b[1mSkipped users: {'liqunl', 'vij-singh', 'dipak-bagadiya', 'Spencer-Comin', 'dchopra001', 'joransiu', 'zl-wang', 'mikezhang1234567890', 'renfeiw', 'VermaSh'} because they don't exist in the expected developers list\u001b[0m\n"
     ]
    },
    {
     "name": "stdout",
     "output_type": "stream",
     "text": [
      "Issue URL:  https://github.com/eclipse-openj9/openj9/issues/17937\n",
      "Actual owner:  jdmpapin\n",
      "Actual component:  comp:jit\n",
      "Issue URL:  https://github.com/eclipse-openj9/openj9/issues/17944\n",
      "Actual owner:  a7ehuo\n",
      "Actual component:  comp:jit\n"
     ]
    },
    {
     "name": "stderr",
     "output_type": "stream",
     "text": [
      "\u001b[32m2024-06-20 13:56:05.335\u001b[0m | \u001b[33m\u001b[1mWARNING \u001b[0m | \u001b[36m__main__\u001b[0m:\u001b[36m_get_historical_contributors\u001b[0m:\u001b[36m236\u001b[0m - \u001b[33m\u001b[1mSkipped users: {'ThanHenderson', 'liqunl', 'DanHeidinga', 'dmitry-ten', 'andrewcraik', 'vij-singh', 'rmnattas', 'github-actions[bot]', 'cathyzhyi', 'mayshukla', 'zl-wang', 'harryyu1994', 'sharon-wang', 'mnalam-p', 'OussamaSaoudi', 'AlexeyKhrabrov', 'fjeremic', 'JamesKingdon'} because they don't exist in the expected developers list\u001b[0m\n"
     ]
    },
    {
     "name": "stdout",
     "output_type": "stream",
     "text": [
      "Issue URL:  https://github.com/eclipse-openj9/openj9/issues/17948\n",
      "Actual owner:  AdamBrousseau\n",
      "Actual component:  comp:infra\n",
      "Issue URL:  https://github.com/eclipse-openj9/openj9/issues/17950\n",
      "Actual owner:  dsouzai\n",
      "Actual component:  comp:jit\n"
     ]
    },
    {
     "name": "stderr",
     "output_type": "stream",
     "text": [
      "\u001b[32m2024-06-20 13:56:05.589\u001b[0m | \u001b[33m\u001b[1mWARNING \u001b[0m | \u001b[36m__main__\u001b[0m:\u001b[36m_get_historical_contributors\u001b[0m:\u001b[36m236\u001b[0m - \u001b[33m\u001b[1mSkipped users: {'liqunl', 'DanHeidinga', 'dmitry-ten', 'andrewcraik', 'R-Santhir', 'cathyzhyi', 'manashaVetrivelu', 'zl-wang', 'Leonardo2718', 'harryyu1994', 'dchopra001', 'irinarada', 'mikezhang1234567890', 'OussamaSaoudi', 'fjeremic', 'IBMJimmyk', 'dylanjtuttle'} because they don't exist in the expected developers list\u001b[0m\n",
      "\u001b[32m2024-06-20 13:56:05.682\u001b[0m | \u001b[33m\u001b[1mWARNING \u001b[0m | \u001b[36m__main__\u001b[0m:\u001b[36m_get_historical_contributors\u001b[0m:\u001b[36m236\u001b[0m - \u001b[33m\u001b[1mSkipped users: {'dusanboskovic', 'pdbain-ibm', 'charliegracie', 'kartben', 'fjeremic', 'mgaudet', 'cedrichansen'} because they don't exist in the expected developers list\u001b[0m\n"
     ]
    },
    {
     "name": "stdout",
     "output_type": "stream",
     "text": [
      "Issue URL:  https://github.com/eclipse-openj9/openj9/issues/17956\n",
      "Actual owner:  a7ehuo\n",
      "Actual component:  comp:jit\n",
      "Issue URL:  https://github.com/eclipse-openj9/openj9/issues/17957\n",
      "Actual owner:  a7ehuo\n",
      "Actual component:  comp:jit\n",
      "Issue URL:  https://github.com/eclipse-openj9/openj9/issues/17961\n",
      "Actual owner:  keithc-ca\n",
      "Actual component:  comp:test\n"
     ]
    },
    {
     "name": "stderr",
     "output_type": "stream",
     "text": [
      "\u001b[32m2024-06-20 13:56:05.870\u001b[0m | \u001b[33m\u001b[1mWARNING \u001b[0m | \u001b[36m__main__\u001b[0m:\u001b[36m_get_historical_contributors\u001b[0m:\u001b[36m236\u001b[0m - \u001b[33m\u001b[1mSkipped users: {'sophia-guo', 'cathyzhyi', 'jdekonin', 'irinarada', 'DanHeidinga', 'dmitry-ten', 'lumpfish', 'AlexeyKhrabrov', 'ashu-mehra', 'M-Davies', 'Mesbah-Alam', 'andrew-m-leonard', 'OussamaSaoudi', 'harryyu1994', 'fjeremic', 'liqunl', 'andrewcraik', 'sharon-wang', 'aviansie-ben'} because they don't exist in the expected developers list\u001b[0m\n",
      "\u001b[32m2024-06-20 13:56:06.004\u001b[0m | \u001b[33m\u001b[1mWARNING \u001b[0m | \u001b[36m__main__\u001b[0m:\u001b[36m_get_historical_contributors\u001b[0m:\u001b[36m236\u001b[0m - \u001b[33m\u001b[1mSkipped users: {'ThanHenderson', 'DanHeidinga', 'Mesbah-Alam', 'andrewcraik', 'yanluo7', 'github-actions[bot]', 'cathyzhyi', 'dchopra001', 'dnakamura', 'mikezhang1234567890', 'ben-walsh', 'fjeremic', 'aviansie-ben'} because they don't exist in the expected developers list\u001b[0m\n"
     ]
    },
    {
     "name": "stdout",
     "output_type": "stream",
     "text": [
      "Issue URL:  https://github.com/eclipse-openj9/openj9/issues/17962\n",
      "Actual owner:  pshipton\n",
      "Actual component:  comp:vm\n",
      "Issue URL:  https://github.com/eclipse-openj9/openj9/issues/17967\n",
      "Actual owner:  babsingh\n",
      "Actual component:  comp:jitserver\n"
     ]
    },
    {
     "name": "stderr",
     "output_type": "stream",
     "text": [
      "\u001b[32m2024-06-20 13:56:06.102\u001b[0m | \u001b[33m\u001b[1mWARNING \u001b[0m | \u001b[36m__main__\u001b[0m:\u001b[36m_get_historical_contributors\u001b[0m:\u001b[36m236\u001b[0m - \u001b[33m\u001b[1mSkipped users: {'liqunl', 'DanHeidinga', 'dmitry-ten', 'andrew-m-leonard', 'XxAdi101xX', 'dchopra001', 'mikezhang1234567890', 'AlexeyKhrabrov', 'harryyu1994', 'ashu-mehra'} because they don't exist in the expected developers list\u001b[0m\n",
      "\u001b[32m2024-06-20 13:56:06.263\u001b[0m | \u001b[33m\u001b[1mWARNING \u001b[0m | \u001b[36m__main__\u001b[0m:\u001b[36m_get_historical_contributors\u001b[0m:\u001b[36m236\u001b[0m - \u001b[33m\u001b[1mSkipped users: {'ThanHenderson', 'SajinaKandy', 'liqunl', 'DanHeidinga', 'andrewcraik', 'dchopra001', 'AlenBadel', 'pdbain-ibm', 'jdekonin', 'irinarada', 'alexey-anufriev', 'fjeremic', 'harryyu1994', 'ashu-mehra', 'renfeiw', 'IBMJimmyk'} because they don't exist in the expected developers list\u001b[0m\n"
     ]
    },
    {
     "name": "stdout",
     "output_type": "stream",
     "text": [
      "Issue URL:  https://github.com/eclipse-openj9/openj9/issues/17973\n",
      "Actual owner:  hzongaro\n",
      "Actual component:  comp:infra\n",
      "Issue URL:  https://github.com/eclipse-openj9/openj9/issues/17978\n",
      "Actual owner:  keithc-ca\n",
      "Actual component:  comp:gc\n"
     ]
    },
    {
     "name": "stderr",
     "output_type": "stream",
     "text": [
      "\u001b[32m2024-06-20 13:56:06.367\u001b[0m | \u001b[33m\u001b[1mWARNING \u001b[0m | \u001b[36m__main__\u001b[0m:\u001b[36m_get_historical_contributors\u001b[0m:\u001b[36m236\u001b[0m - \u001b[33m\u001b[1mSkipped users: {'liqunl', 'DanHeidinga', 'andrewcraik', 'PascalSchumacher', 'dchopra001', 'pdbain-ibm', 'sharon-wang', 'pushkarnk', 'fjeremic', 'VermaSh'} because they don't exist in the expected developers list\u001b[0m\n",
      "\u001b[32m2024-06-20 13:56:06.496\u001b[0m | \u001b[33m\u001b[1mWARNING \u001b[0m | \u001b[36m__main__\u001b[0m:\u001b[36m_get_historical_contributors\u001b[0m:\u001b[36m236\u001b[0m - \u001b[33m\u001b[1mSkipped users: {'fuzzy000', 'avermeer', 'sxa', 'joransiu', 'midronij', 'g-pechorin', 'DanHeidinga', 'Chocohead', 'vijaysun-omr', 'lumpfish', 'RSalman', 'M-Davies', 'qasimy123', 'andrew-m-leonard', 'dchopra001', 'OussamaSaoudi', 'gpezzini', 'fjeremic', 'MNeuling', 'liqunl', 'andrewcraik', 'klangman', 'a0304', 'OscarQQ', 'manqingl'} because they don't exist in the expected developers list\u001b[0m\n"
     ]
    },
    {
     "name": "stdout",
     "output_type": "stream",
     "text": [
      "Issue URL:  https://github.com/eclipse-openj9/openj9/issues/17996\n",
      "Actual owner:  keithc-ca\n",
      "Actual component:  comp:vm\n",
      "Issue URL:  https://github.com/eclipse-openj9/openj9/issues/18002\n",
      "Actual owner:  BradleyWood\n",
      "Actual component:  comp:jit\n"
     ]
    },
    {
     "name": "stderr",
     "output_type": "stream",
     "text": [
      "\u001b[32m2024-06-20 13:56:06.689\u001b[0m | \u001b[33m\u001b[1mWARNING \u001b[0m | \u001b[36m__main__\u001b[0m:\u001b[36m_get_historical_contributors\u001b[0m:\u001b[36m236\u001b[0m - \u001b[33m\u001b[1mSkipped users: {'sophia-guo', 'liqunl', 'DanHeidinga', 'dmitry-ten', 'andrewcraik', 'dipak-bagadiya', 'R-Santhir', 'cathyzhyi', 'manashaVetrivelu', 'dchopra001', 'mikezhang1234567890', 'fjeremic', 'connglli', 'PushkarBettadpur', 'dylanjtuttle', 'VermaSh', 'karianna'} because they don't exist in the expected developers list\u001b[0m\n",
      "\u001b[32m2024-06-20 13:56:06.791\u001b[0m | \u001b[33m\u001b[1mWARNING \u001b[0m | \u001b[36m__main__\u001b[0m:\u001b[36m_get_historical_contributors\u001b[0m:\u001b[36m236\u001b[0m - \u001b[33m\u001b[1mSkipped users: {'DanHeidinga', 'dmitry-ten', 'yanluo7', 'vij-singh', 'rmnattas', 'acrowthe', 'deesebas', 'SueChaplain', 'dchopra001', 'pdbain-ibm', 'fuzzy000', 'jdekonin', 'sharon-wang', 'fjeremic', 'ashu-mehra', 'JamesKingdon', 'dholmes-ora'} because they don't exist in the expected developers list\u001b[0m\n",
      "\u001b[32m2024-06-20 13:56:06.889\u001b[0m | \u001b[33m\u001b[1mWARNING \u001b[0m | \u001b[36m__main__\u001b[0m:\u001b[36m_get_historical_contributors\u001b[0m:\u001b[36m236\u001b[0m - \u001b[33m\u001b[1mSkipped users: {'sophia-guo', 'liqunl', 'dmitry-ten', 'ehrenjulzert', 'VermaSh'} because they don't exist in the expected developers list\u001b[0m\n"
     ]
    },
    {
     "name": "stdout",
     "output_type": "stream",
     "text": [
      "Issue URL:  https://github.com/eclipse-openj9/openj9/issues/18023\n",
      "Actual owner:  tajila\n",
      "Actual component:  comp:doc\n",
      "Issue URL:  https://github.com/eclipse-openj9/openj9/issues/18037\n",
      "Actual owner:  fengxue-IS\n",
      "Actual component:  comp:vm\n",
      "Issue URL:  https://github.com/eclipse-openj9/openj9/issues/18038\n",
      "Actual owner:  babsingh\n",
      "Actual component:  comp:vm\n"
     ]
    },
    {
     "name": "stderr",
     "output_type": "stream",
     "text": [
      "\u001b[32m2024-06-20 13:56:07.005\u001b[0m | \u001b[33m\u001b[1mWARNING \u001b[0m | \u001b[36m__main__\u001b[0m:\u001b[36m_get_historical_contributors\u001b[0m:\u001b[36m236\u001b[0m - \u001b[33m\u001b[1mSkipped users: {'SajinaKandy', 'DanHeidinga', 'dmitry-ten', 'Mesbah-Alam', 'pdbain-ibm', 'AlenBadel', 'terryzuoty', 'renfeiw', 'JamesKingdon', 'andresluuk'} because they don't exist in the expected developers list\u001b[0m\n",
      "\u001b[32m2024-06-20 13:56:07.103\u001b[0m | \u001b[33m\u001b[1mWARNING \u001b[0m | \u001b[36m__main__\u001b[0m:\u001b[36m_get_historical_contributors\u001b[0m:\u001b[36m236\u001b[0m - \u001b[33m\u001b[1mSkipped users: {'DanHeidinga', 'Mesbah-Alam', 'fuzzy000', 'acrowthe', 'pdbain-ibm', 'AlenBadel', 'psoujany', 'lochnagarr', 'sharon-wang', 'terryzuoty', 'yanluo7', 'JamesKingdon', 'dholmes-ora'} because they don't exist in the expected developers list\u001b[0m\n"
     ]
    },
    {
     "name": "stdout",
     "output_type": "stream",
     "text": [
      "Issue URL:  https://github.com/eclipse-openj9/openj9/issues/18046\n",
      "Actual owner:  LongyuZhang\n",
      "Actual component:  comp:jvmti\n",
      "Issue URL:  https://github.com/eclipse-openj9/openj9/issues/18048\n",
      "Actual owner:  dmitripivkine\n",
      "Actual component:  comp:gc\n"
     ]
    },
    {
     "name": "stderr",
     "output_type": "stream",
     "text": [
      "\u001b[32m2024-06-20 13:56:07.213\u001b[0m | \u001b[33m\u001b[1mWARNING \u001b[0m | \u001b[36m__main__\u001b[0m:\u001b[36m_get_historical_contributors\u001b[0m:\u001b[36m236\u001b[0m - \u001b[33m\u001b[1mSkipped users: {'DanHeidinga', 'Mesbah-Alam', 'andrewcraik', 'andrew-m-leonard', 'jdekonin', 'mikezhang1234567890', 'terryzuoty', 'JamesKingdon'} because they don't exist in the expected developers list\u001b[0m\n",
      "\u001b[32m2024-06-20 13:56:07.324\u001b[0m | \u001b[33m\u001b[1mWARNING \u001b[0m | \u001b[36m__main__\u001b[0m:\u001b[36m_get_historical_contributors\u001b[0m:\u001b[36m236\u001b[0m - \u001b[33m\u001b[1mSkipped users: {'SajinaKandy', 'DanHeidinga', 'Mesbah-Alam', 'andrewcraik', 'dmitry-ten', 'EricYangIBM', 'pdbain-ibm', 'dchopra001', 'mikezhang1234567890', 'ben-walsh', 'fjeremic', 'renfeiw', 'VermaSh'} because they don't exist in the expected developers list\u001b[0m\n"
     ]
    },
    {
     "name": "stdout",
     "output_type": "stream",
     "text": [
      "Issue URL:  https://github.com/eclipse-openj9/openj9/issues/18051\n",
      "Actual owner:  babsingh\n",
      "Actual component:  comp:vm\n",
      "Issue URL:  https://github.com/eclipse-openj9/openj9/issues/18052\n",
      "Actual owner:  fengxue-IS\n",
      "Actual component:  comp:vm\n"
     ]
    },
    {
     "name": "stderr",
     "output_type": "stream",
     "text": [
      "\u001b[32m2024-06-20 13:56:07.447\u001b[0m | \u001b[33m\u001b[1mWARNING \u001b[0m | \u001b[36m__main__\u001b[0m:\u001b[36m_get_historical_contributors\u001b[0m:\u001b[36m236\u001b[0m - \u001b[33m\u001b[1mSkipped users: {'ThanHenderson', 'DanHeidinga', 'Mesbah-Alam', 'andrewcraik', 'vij-singh', 'mayshukla', 'AidanHa', 'pdbain-ibm', 'midronij', 'jkuipers', 'mikezhang1234567890', 'ben-walsh', 'VermaSh'} because they don't exist in the expected developers list\u001b[0m\n",
      "\u001b[32m2024-06-20 13:56:07.562\u001b[0m | \u001b[33m\u001b[1mWARNING \u001b[0m | \u001b[36m__main__\u001b[0m:\u001b[36m_get_historical_contributors\u001b[0m:\u001b[36m236\u001b[0m - \u001b[33m\u001b[1mSkipped users: {'sophia-guo', 'bhavanisn', 'dipak-bagadiya', 'karianna'} because they don't exist in the expected developers list\u001b[0m\n"
     ]
    },
    {
     "name": "stdout",
     "output_type": "stream",
     "text": [
      "Issue URL:  https://github.com/eclipse-openj9/openj9/issues/18054\n",
      "Actual owner:  babsingh\n",
      "Actual component:  comp:jvmti\n",
      "Issue URL:  https://github.com/eclipse-openj9/openj9/issues/18057\n",
      "Actual owner:  Akira1Saitoh\n",
      "Actual component:  comp:jit\n"
     ]
    },
    {
     "name": "stderr",
     "output_type": "stream",
     "text": [
      "\u001b[32m2024-06-20 13:56:07.680\u001b[0m | \u001b[33m\u001b[1mWARNING \u001b[0m | \u001b[36m__main__\u001b[0m:\u001b[36m_get_historical_contributors\u001b[0m:\u001b[36m236\u001b[0m - \u001b[33m\u001b[1mSkipped users: {'liqunl', 'DanHeidinga', 'Mesbah-Alam', 'andrewcraik', 'dmitry-ten', 'github-actions[bot]', 'zl-wang', 'pdbain-ibm', 'dnakamura', 'fjeremic', 'aviansie-ben', 'renfeiw', 'IBMJimmyk', 'takiguc', 'Leonardo2718'} because they don't exist in the expected developers list\u001b[0m\n",
      "\u001b[32m2024-06-20 13:56:07.780\u001b[0m | \u001b[33m\u001b[1mWARNING \u001b[0m | \u001b[36m__main__\u001b[0m:\u001b[36m_get_historical_contributors\u001b[0m:\u001b[36m236\u001b[0m - \u001b[33m\u001b[1mSkipped users: {'DanHeidinga', 'EricYangIBM', 'vijaysun-omr', 'mikezhang1234567890', 'fjeremic', 'tjwatson'} because they don't exist in the expected developers list\u001b[0m\n"
     ]
    },
    {
     "name": "stdout",
     "output_type": "stream",
     "text": [
      "Issue URL:  https://github.com/eclipse-openj9/openj9/issues/18058\n",
      "Actual owner:  JasonFengJ9\n",
      "Actual component:  comp:vm\n",
      "Issue URL:  https://github.com/eclipse-openj9/openj9/issues/18074\n",
      "Actual owner:  hzongaro\n",
      "Actual component:  comp:jit\n"
     ]
    },
    {
     "name": "stderr",
     "output_type": "stream",
     "text": [
      "\u001b[32m2024-06-20 13:56:07.945\u001b[0m | \u001b[33m\u001b[1mWARNING \u001b[0m | \u001b[36m__main__\u001b[0m:\u001b[36m_get_historical_contributors\u001b[0m:\u001b[36m236\u001b[0m - \u001b[33m\u001b[1mSkipped users: {'SajinaKandy', 'DanHeidinga', 'klangman', 'Spencer-Comin', 'dchopra001', 'zl-wang', 'mikezhang1234567890', 'connglli'} because they don't exist in the expected developers list\u001b[0m\n",
      "\u001b[32m2024-06-20 13:56:08.062\u001b[0m | \u001b[33m\u001b[1mWARNING \u001b[0m | \u001b[36m__main__\u001b[0m:\u001b[36m_get_historical_contributors\u001b[0m:\u001b[36m236\u001b[0m - \u001b[33m\u001b[1mSkipped users: {'yanluo7', 'lmaisons', 'klangman', 'DanHeidinga', 'dmitry-ten', 'harryyu1994', 'vijaysun-omr', 'chrisc66', 'AlexeyKhrabrov', 'JavaTailor', 'gpezzini', 'manqingl', 'fjeremic', 'ashu-mehra', 'renfeiw'} because they don't exist in the expected developers list\u001b[0m\n"
     ]
    },
    {
     "name": "stdout",
     "output_type": "stream",
     "text": [
      "Issue URL:  https://github.com/eclipse-openj9/openj9/issues/18076\n",
      "Actual owner:  gacholio\n",
      "Actual component:  comp:vm\n",
      "Issue URL:  https://github.com/eclipse-openj9/openj9/issues/18077\n",
      "Actual owner:  babsingh\n",
      "Actual component:  comp:test\n"
     ]
    },
    {
     "name": "stderr",
     "output_type": "stream",
     "text": [
      "\u001b[32m2024-06-20 13:56:08.191\u001b[0m | \u001b[33m\u001b[1mWARNING \u001b[0m | \u001b[36m__main__\u001b[0m:\u001b[36m_get_historical_contributors\u001b[0m:\u001b[36m236\u001b[0m - \u001b[33m\u001b[1mSkipped users: {'DanHeidinga', 'Mesbah-Alam', 'andrewcraik', 'vij-singh', 'Spencer-Comin', 'cathyzhyi', 'dchopra001', 'zl-wang', 'joransiu', '0dvictor', 'jdekonin', 'vijaysun-omr', 'mikezhang1234567890', 'lumpfish', 'fjeremic', 'renfeiw', 'VermaSh'} because they don't exist in the expected developers list\u001b[0m\n",
      "\u001b[32m2024-06-20 13:56:08.305\u001b[0m | \u001b[33m\u001b[1mWARNING \u001b[0m | \u001b[36m__main__\u001b[0m:\u001b[36m_get_historical_contributors\u001b[0m:\u001b[36m236\u001b[0m - \u001b[33m\u001b[1mSkipped users: {'ThanHenderson', 'liqunl', 'DanHeidinga', 'dmitry-ten', 'harryyu1994', 'dchopra001', 'lumpfish', 'OussamaSaoudi', 'fjeremic', 'ashu-mehra', 'renfeiw', 'VermaSh'} because they don't exist in the expected developers list\u001b[0m\n"
     ]
    },
    {
     "name": "stdout",
     "output_type": "stream",
     "text": [
      "Issue URL:  https://github.com/eclipse-openj9/openj9/issues/18081\n",
      "Actual owner:  pshipton\n",
      "Actual component:  comp:test\n",
      "Issue URL:  https://github.com/eclipse-openj9/openj9/issues/18088\n",
      "Actual owner:  fengxue-IS\n",
      "Actual component:  comp:vm\n"
     ]
    },
    {
     "name": "stderr",
     "output_type": "stream",
     "text": [
      "\u001b[32m2024-06-20 13:56:08.433\u001b[0m | \u001b[33m\u001b[1mWARNING \u001b[0m | \u001b[36m__main__\u001b[0m:\u001b[36m_get_historical_contributors\u001b[0m:\u001b[36m236\u001b[0m - \u001b[33m\u001b[1mSkipped users: {'liqunl', 'DanHeidinga', 'Mesbah-Alam', 'dmitry-ten', 'EricYangIBM', 'EmanElsaban', 'mikezhang1234567890', 'Leonardo2718'} because they don't exist in the expected developers list\u001b[0m\n",
      "\u001b[32m2024-06-20 13:56:08.563\u001b[0m | \u001b[33m\u001b[1mWARNING \u001b[0m | \u001b[36m__main__\u001b[0m:\u001b[36m_get_historical_contributors\u001b[0m:\u001b[36m236\u001b[0m - \u001b[33m\u001b[1mSkipped users: {'mstoodle', 'fuzzy000', 'IBMJimmyk', 'DanHeidinga', 'dmitry-ten', 'jabrena', 'AlenBadel', 'vijaysun-omr', 'annaibm', 'connglli', 'ayuan0828', 'Mesbah-Alam', 'andrew-m-leonard', 'mayshukla', 'dchopra001', 'harryyu1994', 'JamesKingdon', 'liqunl', 'andrewcraik', 'dnakamura'} because they don't exist in the expected developers list\u001b[0m\n"
     ]
    },
    {
     "name": "stdout",
     "output_type": "stream",
     "text": [
      "Issue URL:  https://github.com/eclipse-openj9/openj9/issues/18098\n",
      "Actual owner:  hzongaro\n",
      "Actual component:  comp:jit\n",
      "Issue URL:  https://github.com/eclipse-openj9/openj9/issues/18100\n",
      "Actual owner:  keithc-ca\n",
      "Actual component:  comp:vm\n"
     ]
    },
    {
     "name": "stderr",
     "output_type": "stream",
     "text": [
      "\u001b[32m2024-06-20 13:56:08.666\u001b[0m | \u001b[33m\u001b[1mWARNING \u001b[0m | \u001b[36m__main__\u001b[0m:\u001b[36m_get_historical_contributors\u001b[0m:\u001b[36m236\u001b[0m - \u001b[33m\u001b[1mSkipped users: {'andrew-m-leonard', 'sharon-wang', 'DanHeidinga'} because they don't exist in the expected developers list\u001b[0m\n",
      "\u001b[32m2024-06-20 13:56:08.797\u001b[0m | \u001b[33m\u001b[1mWARNING \u001b[0m | \u001b[36m__main__\u001b[0m:\u001b[36m_get_historical_contributors\u001b[0m:\u001b[36m236\u001b[0m - \u001b[33m\u001b[1mSkipped users: {'sophia-guo', 'kriegaex', 'vij-singh', 'jdekonin', 'DanHeidinga', 'dmitry-ten', 'AlenBadel', 'lumpfish', 'ben-walsh', 'dholmes-ora', 'M-Davies', 'dchopra001', 'harryyu1994', 'fjeremic', 'VermaSh', 'liqunl', 'SajinaKandy', 'andrewcraik', 'mikezhang1234567890'} because they don't exist in the expected developers list\u001b[0m\n"
     ]
    },
    {
     "name": "stdout",
     "output_type": "stream",
     "text": [
      "Issue URL:  https://github.com/eclipse-openj9/openj9/issues/18102\n",
      "Actual owner:  hzongaro\n",
      "Actual component:  comp:jit\n",
      "Issue URL:  https://github.com/eclipse-openj9/openj9/issues/18105\n",
      "Actual owner:  JasonFengJ9\n",
      "Actual component:  comp:vm\n"
     ]
    },
    {
     "name": "stderr",
     "output_type": "stream",
     "text": [
      "\u001b[32m2024-06-20 13:56:08.955\u001b[0m | \u001b[33m\u001b[1mWARNING \u001b[0m | \u001b[36m__main__\u001b[0m:\u001b[36m_get_historical_contributors\u001b[0m:\u001b[36m236\u001b[0m - \u001b[33m\u001b[1mSkipped users: {'mikezhang1234567890', 'DanHeidinga', 'vijaysun-omr'} because they don't exist in the expected developers list\u001b[0m\n",
      "\u001b[32m2024-06-20 13:56:09.074\u001b[0m | \u001b[33m\u001b[1mWARNING \u001b[0m | \u001b[36m__main__\u001b[0m:\u001b[36m_get_historical_contributors\u001b[0m:\u001b[36m236\u001b[0m - \u001b[33m\u001b[1mSkipped users: {'mstoodle', 'liqunl', 'DanHeidinga', 'Mesbah-Alam', 'andrewcraik', 'qasimy123', 'M-Davies', 'andrew-m-leonard', 'cathyzhyi', 'zl-wang', 'AlenBadel', 'adamfarley', 'jdekonin', 'gdams', 'fjeremic', 'IBMJimmyk', 'takiguc', 'Leonardo2718'} because they don't exist in the expected developers list\u001b[0m\n"
     ]
    },
    {
     "name": "stdout",
     "output_type": "stream",
     "text": [
      "Issue URL:  https://github.com/eclipse-openj9/openj9/issues/18106\n",
      "Actual owner:  JasonFengJ9\n",
      "Actual component:  comp:vm\n",
      "Issue URL:  https://github.com/eclipse-openj9/openj9/issues/18110\n",
      "Actual owner:  llxia\n",
      "Actual component:  comp:test\n",
      "Issue URL:  https://github.com/eclipse-openj9/openj9/issues/18111\n",
      "Actual owner:  babsingh\n",
      "Actual component:  comp:infra\n"
     ]
    },
    {
     "name": "stderr",
     "output_type": "stream",
     "text": [
      "\u001b[32m2024-06-20 13:56:09.323\u001b[0m | \u001b[33m\u001b[1mWARNING \u001b[0m | \u001b[36m__main__\u001b[0m:\u001b[36m_get_historical_contributors\u001b[0m:\u001b[36m236\u001b[0m - \u001b[33m\u001b[1mSkipped users: {'ThanHenderson', 'sophia-guo', 'liqunl', 'DanHeidinga', 'Mesbah-Alam', 'andrewcraik', 'vij-singh', 'cathyzhyi', 'pdbain-ibm', 'sharon-wang', 'midronij', 'lumpfish', 'ben-walsh', 'harryyu1994', 'ashu-mehra'} because they don't exist in the expected developers list\u001b[0m\n"
     ]
    },
    {
     "name": "stdout",
     "output_type": "stream",
     "text": [
      "Issue URL:  https://github.com/eclipse-openj9/openj9/issues/18125\n",
      "Actual owner:  JasonFengJ9\n",
      "Actual component:  comp:test\n",
      "Issue URL:  https://github.com/eclipse-openj9/openj9/issues/18133\n",
      "Actual owner:  gacholio\n",
      "Actual component:  comp:doc\n"
     ]
    },
    {
     "name": "stderr",
     "output_type": "stream",
     "text": [
      "\u001b[32m2024-06-20 13:56:09.407\u001b[0m | \u001b[33m\u001b[1mWARNING \u001b[0m | \u001b[36m__main__\u001b[0m:\u001b[36m_get_historical_contributors\u001b[0m:\u001b[36m236\u001b[0m - \u001b[33m\u001b[1mSkipped users: {'yanluo7', 'DanHeidinga', 'dholmes-ora'} because they don't exist in the expected developers list\u001b[0m\n",
      "\u001b[32m2024-06-20 13:56:09.546\u001b[0m | \u001b[33m\u001b[1mWARNING \u001b[0m | \u001b[36m__main__\u001b[0m:\u001b[36m_get_historical_contributors\u001b[0m:\u001b[36m236\u001b[0m - \u001b[33m\u001b[1mSkipped users: {'sophia-guo', 'liqunl', 'DanHeidinga', 'dmitry-ten', 'XxAdi101xX', 'manashaVetrivelu', 'chrisc66', 'mikezhang1234567890', 'harryyu1994', 'ashu-mehra', 'karianna', 'dylanjtuttle'} because they don't exist in the expected developers list\u001b[0m\n"
     ]
    },
    {
     "name": "stdout",
     "output_type": "stream",
     "text": [
      "Issue URL:  https://github.com/eclipse-openj9/openj9/issues/18134\n",
      "Actual owner:  gacholio\n",
      "Actual component:  comp:vm\n",
      "Issue URL:  https://github.com/eclipse-openj9/openj9/issues/18142\n",
      "Actual owner:  hzongaro\n",
      "Actual component:  comp:jit\n"
     ]
    },
    {
     "name": "stderr",
     "output_type": "stream",
     "text": [
      "\u001b[32m2024-06-20 13:56:09.684\u001b[0m | \u001b[33m\u001b[1mWARNING \u001b[0m | \u001b[36m__main__\u001b[0m:\u001b[36m_get_historical_contributors\u001b[0m:\u001b[36m236\u001b[0m - \u001b[33m\u001b[1mSkipped users: {'sophia-guo', 'SajinaKandy', 'M-Davies', 'andrewcraik', 'jabrena', 'andrew-m-leonard', 'ehrenjulzert', 'dnakamura', 'sharon-wang', 'lumpfish', 'annaibm', 'patkarns'} because they don't exist in the expected developers list\u001b[0m\n",
      "\u001b[32m2024-06-20 13:56:09.832\u001b[0m | \u001b[33m\u001b[1mWARNING \u001b[0m | \u001b[36m__main__\u001b[0m:\u001b[36m_get_historical_contributors\u001b[0m:\u001b[36m236\u001b[0m - \u001b[33m\u001b[1mSkipped users: {'liqunl', 'DanHeidinga', 'jabrena', 'andrewcraik', 'vij-singh', 'annaibm', 'cathyzhyi', 'pdbain-ibm', 'edrevo', 'dnakamura', 'OussamaSaoudi', 'fjeremic'} because they don't exist in the expected developers list\u001b[0m\n"
     ]
    },
    {
     "name": "stdout",
     "output_type": "stream",
     "text": [
      "Issue URL:  https://github.com/eclipse-openj9/openj9/issues/18143\n",
      "Actual owner:  pshipton\n",
      "Actual component:  comp:test\n",
      "Issue URL:  https://github.com/eclipse-openj9/openj9/issues/18144\n",
      "Actual owner:  hzongaro\n",
      "Actual component:  comp:infra\n"
     ]
    },
    {
     "name": "stderr",
     "output_type": "stream",
     "text": [
      "\u001b[32m2024-06-20 13:56:09.954\u001b[0m | \u001b[33m\u001b[1mWARNING \u001b[0m | \u001b[36m__main__\u001b[0m:\u001b[36m_get_historical_contributors\u001b[0m:\u001b[36m236\u001b[0m - \u001b[33m\u001b[1mSkipped users: {'SajinaKandy', 'DanHeidinga', 'dchopra001', 'EricYangIBM', 'vijaysun-omr', 'VermaSh', 'tjwatson'} because they don't exist in the expected developers list\u001b[0m\n",
      "\u001b[32m2024-06-20 13:56:10.039\u001b[0m | \u001b[33m\u001b[1mWARNING \u001b[0m | \u001b[36m__main__\u001b[0m:\u001b[36m_get_historical_contributors\u001b[0m:\u001b[36m236\u001b[0m - \u001b[33m\u001b[1mSkipped users: {'sharon-wang', 'DanHeidinga', 'pdbain-ibm'} because they don't exist in the expected developers list\u001b[0m\n"
     ]
    },
    {
     "name": "stdout",
     "output_type": "stream",
     "text": [
      "Issue URL:  https://github.com/eclipse-openj9/openj9/issues/18146\n",
      "Actual owner:  keithc-ca\n",
      "Actual component:  comp:vm\n",
      "Issue URL:  https://github.com/eclipse-openj9/openj9/issues/18147\n",
      "Actual owner:  nbhuiyan\n",
      "Actual component:  comp:jit\n"
     ]
    },
    {
     "name": "stderr",
     "output_type": "stream",
     "text": [
      "\u001b[32m2024-06-20 13:56:10.160\u001b[0m | \u001b[33m\u001b[1mWARNING \u001b[0m | \u001b[36m__main__\u001b[0m:\u001b[36m_get_historical_contributors\u001b[0m:\u001b[36m236\u001b[0m - \u001b[33m\u001b[1mSkipped users: {'sophia-guo', 'liqunl', 'DanHeidinga', 'Mesbah-Alam', 'EricYangIBM', 'AlenBadel', 'lumpfish', 'terryzuoty', 'fjeremic', 'renfeiw', 'patkarns', 'JamesKingdon'} because they don't exist in the expected developers list\u001b[0m\n",
      "\u001b[32m2024-06-20 13:56:10.300\u001b[0m | \u001b[33m\u001b[1mWARNING \u001b[0m | \u001b[36m__main__\u001b[0m:\u001b[36m_get_historical_contributors\u001b[0m:\u001b[36m236\u001b[0m - \u001b[33m\u001b[1mSkipped users: {'ThanHenderson', 'liqunl', 'DanHeidinga', 'Mesbah-Alam', 'andrewcraik', 'vij-singh', 'Spencer-Comin', 'dmitry-ten', 'cathyzhyi', 'dchopra001', 'zl-wang', 'mayshukla', 'sharon-wang', 'lumpfish', 'AlexeyKhrabrov', 'fjeremic', 'mnalam-p'} because they don't exist in the expected developers list\u001b[0m\n"
     ]
    },
    {
     "name": "stdout",
     "output_type": "stream",
     "text": [
      "Issue URL:  https://github.com/eclipse-openj9/openj9/issues/18149\n",
      "Actual owner:  babsingh\n",
      "Actual component:  comp:jit\n",
      "Issue URL:  https://github.com/eclipse-openj9/openj9/issues/18157\n",
      "Actual owner:  theresa-m\n",
      "Actual component:  comp:vm\n"
     ]
    },
    {
     "name": "stderr",
     "output_type": "stream",
     "text": [
      "\u001b[32m2024-06-20 13:56:10.412\u001b[0m | \u001b[33m\u001b[1mWARNING \u001b[0m | \u001b[36m__main__\u001b[0m:\u001b[36m_get_historical_contributors\u001b[0m:\u001b[36m236\u001b[0m - \u001b[33m\u001b[1mSkipped users: {'AswathySK', 'DanHeidinga', 'eric98zhang', 'acrowthe', 'ehrenjulzert', 'EricYangIBM', 'midronij'} because they don't exist in the expected developers list\u001b[0m\n",
      "\u001b[32m2024-06-20 13:56:10.523\u001b[0m | \u001b[33m\u001b[1mWARNING \u001b[0m | \u001b[36m__main__\u001b[0m:\u001b[36m_get_historical_contributors\u001b[0m:\u001b[36m236\u001b[0m - \u001b[33m\u001b[1mSkipped users: {'AswathySK', 'DanHeidinga', 'andrewcraik', 'eric98zhang', 'acrowthe', 'ehrenjulzert', 'EricYangIBM', 'harryyu1994'} because they don't exist in the expected developers list\u001b[0m\n"
     ]
    },
    {
     "name": "stdout",
     "output_type": "stream",
     "text": [
      "Issue URL:  https://github.com/eclipse-openj9/openj9/issues/18170\n",
      "Actual owner:  babsingh\n",
      "Actual component:  comp:jit\n",
      "Issue URL:  https://github.com/eclipse-openj9/openj9/issues/18193\n",
      "Actual owner:  keithc-ca\n",
      "Actual component:  comp:vm\n"
     ]
    },
    {
     "name": "stderr",
     "output_type": "stream",
     "text": [
      "\u001b[32m2024-06-20 13:56:10.628\u001b[0m | \u001b[33m\u001b[1mWARNING \u001b[0m | \u001b[36m__main__\u001b[0m:\u001b[36m_get_historical_contributors\u001b[0m:\u001b[36m236\u001b[0m - \u001b[33m\u001b[1mSkipped users: {'dusanboskovic', 'liqunl', 'DanHeidinga', 'dmitry-ten', 'fuzzy000', 'andrewcraik', 'vij-singh', 'paulcheeseman', 'rmnattas', 'ebadyano', '0dvictor', 'manqingl', 'fjeremic', 'harryyu1994', 'gervaisj', 'JamesKingdon', 'dholmes-ora'} because they don't exist in the expected developers list\u001b[0m\n",
      "\u001b[32m2024-06-20 13:56:10.767\u001b[0m | \u001b[33m\u001b[1mWARNING \u001b[0m | \u001b[36m__main__\u001b[0m:\u001b[36m_get_historical_contributors\u001b[0m:\u001b[36m236\u001b[0m - \u001b[33m\u001b[1mSkipped users: {'DanHeidinga', 'Mesbah-Alam', 'andrewcraik', 'kriegaex', 'vij-singh', 'Yuehan-Lin', 'vijaysun-omr', 'fjeremic', 'aviansie-ben'} because they don't exist in the expected developers list\u001b[0m\n"
     ]
    },
    {
     "name": "stdout",
     "output_type": "stream",
     "text": [
      "Issue URL:  https://github.com/eclipse-openj9/openj9/issues/18195\n",
      "Actual owner:  Akira1Saitoh\n",
      "Actual component:  comp:jit\n",
      "Issue URL:  https://github.com/eclipse-openj9/openj9/issues/18196\n",
      "Actual owner:  Akira1Saitoh\n",
      "Actual component:  comp:jit\n"
     ]
    },
    {
     "name": "stderr",
     "output_type": "stream",
     "text": [
      "\u001b[32m2024-06-20 13:56:10.896\u001b[0m | \u001b[33m\u001b[1mWARNING \u001b[0m | \u001b[36m__main__\u001b[0m:\u001b[36m_get_historical_contributors\u001b[0m:\u001b[36m236\u001b[0m - \u001b[33m\u001b[1mSkipped users: {'liqunl', 'DanHeidinga', 'dmitry-ten', 'mateuszrzeszutek', 'Spencer-Comin', 'Mesbah-Alam', 'dchopra001', 'EmanElsaban', 'mikezhang1234567890', 'manqingl', 'Leonardo2718'} because they don't exist in the expected developers list\u001b[0m\n",
      "\u001b[32m2024-06-20 13:56:11.003\u001b[0m | \u001b[33m\u001b[1mWARNING \u001b[0m | \u001b[36m__main__\u001b[0m:\u001b[36m_get_historical_contributors\u001b[0m:\u001b[36m236\u001b[0m - \u001b[33m\u001b[1mSkipped users: {'DanHeidinga', 'jdekonin', 'mikezhang1234567890', 'vsebe', 'JamesKingdon'} because they don't exist in the expected developers list\u001b[0m\n"
     ]
    },
    {
     "name": "stdout",
     "output_type": "stream",
     "text": [
      "Issue URL:  https://github.com/eclipse-openj9/openj9/issues/18211\n",
      "Actual owner:  keithc-ca\n",
      "Actual component:  comp:infra\n",
      "Issue URL:  https://github.com/eclipse-openj9/openj9/issues/18245\n",
      "Actual owner:  babsingh\n",
      "Actual component:  comp:vm\n"
     ]
    },
    {
     "name": "stderr",
     "output_type": "stream",
     "text": [
      "\u001b[32m2024-06-20 13:56:11.119\u001b[0m | \u001b[33m\u001b[1mWARNING \u001b[0m | \u001b[36m__main__\u001b[0m:\u001b[36m_get_historical_contributors\u001b[0m:\u001b[36m236\u001b[0m - \u001b[33m\u001b[1mSkipped users: {'aprenaud', 'DanHeidinga', 'Spencer-Comin', 'AlenBadel', 'terryzuoty', 'JamesKingdon'} because they don't exist in the expected developers list\u001b[0m\n",
      "\u001b[32m2024-06-20 13:56:11.245\u001b[0m | \u001b[33m\u001b[1mWARNING \u001b[0m | \u001b[36m__main__\u001b[0m:\u001b[36m_get_historical_contributors\u001b[0m:\u001b[36m236\u001b[0m - \u001b[33m\u001b[1mSkipped users: {'pwagland', 'DanHeidinga', 'Mesbah-Alam', 'andrewcraik', 'vij-singh', 'ehrenjulzert', 'dchopra001', 'zl-wang', 'joransiu', 'lumpfish', 'fjeremic', 'yanluo7'} because they don't exist in the expected developers list\u001b[0m\n"
     ]
    },
    {
     "name": "stdout",
     "output_type": "stream",
     "text": [
      "Issue URL:  https://github.com/eclipse-openj9/openj9/issues/18246\n",
      "Actual owner:  hzongaro\n",
      "Actual component:  comp:vm\n",
      "Issue URL:  https://github.com/eclipse-openj9/openj9/issues/18249\n",
      "Actual owner:  mpirvu\n",
      "Actual component:  comp:jit\n"
     ]
    },
    {
     "name": "stderr",
     "output_type": "stream",
     "text": [
      "\u001b[32m2024-06-20 13:56:11.367\u001b[0m | \u001b[33m\u001b[1mWARNING \u001b[0m | \u001b[36m__main__\u001b[0m:\u001b[36m_get_historical_contributors\u001b[0m:\u001b[36m236\u001b[0m - \u001b[33m\u001b[1mSkipped users: {'ThanHenderson', 'DanHeidinga', 'dmitry-ten', 'OussamaSaoudi', 'manqingl', 'harryyu1994', 'renfeiw', 'VermaSh'} because they don't exist in the expected developers list\u001b[0m\n",
      "\u001b[32m2024-06-20 13:56:11.519\u001b[0m | \u001b[33m\u001b[1mWARNING \u001b[0m | \u001b[36m__main__\u001b[0m:\u001b[36m_get_historical_contributors\u001b[0m:\u001b[36m236\u001b[0m - \u001b[33m\u001b[1mSkipped users: {'sophia-guo', 'DanHeidinga', 'Mesbah-Alam', 'Spencer-Comin', 'EricYangIBM', 'mikezhang1234567890'} because they don't exist in the expected developers list\u001b[0m\n"
     ]
    },
    {
     "name": "stdout",
     "output_type": "stream",
     "text": [
      "Issue URL:  https://github.com/eclipse-openj9/openj9/issues/18260\n",
      "Actual owner:  dmitripivkine\n",
      "Actual component:  comp:vm\n",
      "Issue URL:  https://github.com/eclipse-openj9/openj9/issues/18265\n",
      "Actual owner:  keithc-ca\n",
      "Actual component:  comp:vm\n"
     ]
    },
    {
     "name": "stderr",
     "output_type": "stream",
     "text": [
      "\u001b[32m2024-06-20 13:56:11.625\u001b[0m | \u001b[33m\u001b[1mWARNING \u001b[0m | \u001b[36m__main__\u001b[0m:\u001b[36m_get_historical_contributors\u001b[0m:\u001b[36m236\u001b[0m - \u001b[33m\u001b[1mSkipped users: {'mstoodle', 'DanHeidinga', 'fuzzy000', 'vij-singh', 'acrowthe', 'rmnattas', 'andrew-m-leonard', 'pdbain-ibm', 'lochnagarr', 'mikezhang1234567890', 'ben-walsh', 'Thihup', 'pmhayward', 'dholmes-ora'} because they don't exist in the expected developers list\u001b[0m\n",
      "\u001b[32m2024-06-20 13:56:11.827\u001b[0m | \u001b[33m\u001b[1mWARNING \u001b[0m | \u001b[36m__main__\u001b[0m:\u001b[36m_get_historical_contributors\u001b[0m:\u001b[36m236\u001b[0m - \u001b[33m\u001b[1mSkipped users: {'DanHeidinga', 'vij-singh', 'cathyzhyi', 'dnakamura', 'sharon-wang', 'fjeremic'} because they don't exist in the expected developers list\u001b[0m\n"
     ]
    },
    {
     "name": "stdout",
     "output_type": "stream",
     "text": [
      "Issue URL:  https://github.com/eclipse-openj9/openj9/issues/18302\n",
      "Actual owner:  amicic\n",
      "Actual component:  comp:vm\n",
      "Issue URL:  https://github.com/eclipse-openj9/openj9/issues/18305\n",
      "Actual owner:  JasonFengJ9\n",
      "Actual component:  comp:vm\n"
     ]
    },
    {
     "name": "stderr",
     "output_type": "stream",
     "text": [
      "\u001b[32m2024-06-20 13:56:11.948\u001b[0m | \u001b[33m\u001b[1mWARNING \u001b[0m | \u001b[36m__main__\u001b[0m:\u001b[36m_get_historical_contributors\u001b[0m:\u001b[36m236\u001b[0m - \u001b[33m\u001b[1mSkipped users: {'sophia-guo', 'liqunl', 'DanHeidinga', 'dmitry-ten', 'vij-singh', 'mikezhang1234567890', 'VermaSh', 'karianna'} because they don't exist in the expected developers list\u001b[0m\n"
     ]
    },
    {
     "name": "stdout",
     "output_type": "stream",
     "text": [
      "Issue URL:  https://github.com/eclipse-openj9/openj9/issues/18306\n",
      "Actual owner:  keithc-ca\n",
      "Actual component:  comp:vm\n",
      "Issue URL:  https://github.com/eclipse-openj9/openj9/issues/18316\n",
      "Actual owner:  theresa-m\n",
      "Actual component:  comp:vm\n"
     ]
    },
    {
     "name": "stderr",
     "output_type": "stream",
     "text": [
      "\u001b[32m2024-06-20 13:56:12.045\u001b[0m | \u001b[33m\u001b[1mWARNING \u001b[0m | \u001b[36m__main__\u001b[0m:\u001b[36m_get_historical_contributors\u001b[0m:\u001b[36m236\u001b[0m - \u001b[33m\u001b[1mSkipped users: {'AswathySK', 'DanHeidinga', 'eric98zhang', 'acrowthe', 'ehrenjulzert', 'zl-wang', 'OussamaSaoudi', 'anikser'} because they don't exist in the expected developers list\u001b[0m\n",
      "\u001b[32m2024-06-20 13:56:12.246\u001b[0m | \u001b[33m\u001b[1mWARNING \u001b[0m | \u001b[36m__main__\u001b[0m:\u001b[36m_get_historical_contributors\u001b[0m:\u001b[36m236\u001b[0m - \u001b[33m\u001b[1mSkipped users: {'liqunl', 'DanHeidinga', 'M-Davies', 'andrewcraik', 'qasimy123', 'andrew-m-leonard', 'vij-singh', 'R-Santhir', 'cathyzhyi', 'yanluo7', 'zl-wang', 'mateuszrzeszutek', 'mayshukla', 'chrisc66', 'mnalam-p', 'fjeremic', 'Leonardo2718'} because they don't exist in the expected developers list\u001b[0m\n"
     ]
    },
    {
     "name": "stdout",
     "output_type": "stream",
     "text": [
      "Issue URL:  https://github.com/eclipse-openj9/openj9/issues/18318\n",
      "Actual owner:  gacholio\n",
      "Actual component:  comp:vm\n",
      "Issue URL:  https://github.com/eclipse-openj9/openj9/issues/18321\n",
      "Actual owner:  hzongaro\n",
      "Actual component:  comp:jit\n",
      "Issue URL:  https://github.com/eclipse-openj9/openj9/issues/18326\n",
      "Actual owner:  JasonFengJ9\n",
      "Actual component:  comp:vm\n"
     ]
    },
    {
     "name": "stderr",
     "output_type": "stream",
     "text": [
      "\u001b[32m2024-06-20 13:56:12.357\u001b[0m | \u001b[33m\u001b[1mWARNING \u001b[0m | \u001b[36m__main__\u001b[0m:\u001b[36m_get_historical_contributors\u001b[0m:\u001b[36m236\u001b[0m - \u001b[33m\u001b[1mSkipped users: {'vsebe', 'DanHeidinga', 'andrewcraik', 'andrew-m-leonard', 'zl-wang', 'dnakamura', 'IBMJimmyk'} because they don't exist in the expected developers list\u001b[0m\n",
      "\u001b[32m2024-06-20 13:56:12.517\u001b[0m | \u001b[33m\u001b[1mWARNING \u001b[0m | \u001b[36m__main__\u001b[0m:\u001b[36m_get_historical_contributors\u001b[0m:\u001b[36m236\u001b[0m - \u001b[33m\u001b[1mSkipped users: {'sophia-guo', 'doveye', 'DanHeidinga', 'Mesbah-Alam', 'andrewcraik', 'vij-singh', 'cathyzhyi', 'c-koell', 'jdekonin', 'sharon-wang', 'mikezhang1234567890', 'quijote', 'JamesKingdon', 'VermaSh', 'ayuan0828'} because they don't exist in the expected developers list\u001b[0m\n"
     ]
    },
    {
     "name": "stdout",
     "output_type": "stream",
     "text": [
      "Issue URL:  https://github.com/eclipse-openj9/openj9/issues/18336\n",
      "Actual owner:  knn-k\n",
      "Actual component:  comp:jit\n",
      "Issue URL:  https://github.com/eclipse-openj9/openj9/issues/18349\n",
      "Actual owner:  JasonFengJ9\n",
      "Actual component:  comp:test\n"
     ]
    },
    {
     "name": "stderr",
     "output_type": "stream",
     "text": [
      "\u001b[32m2024-06-20 13:56:12.634\u001b[0m | \u001b[33m\u001b[1mWARNING \u001b[0m | \u001b[36m__main__\u001b[0m:\u001b[36m_get_historical_contributors\u001b[0m:\u001b[36m236\u001b[0m - \u001b[33m\u001b[1mSkipped users: {'ThanHenderson', 'liqunl', 'DanHeidinga', 'dmitry-ten', 'dipak-bagadiya', 'acrowthe', 'EricYangIBM', 'pdbain-ibm', 'mikezhang1234567890', 'alexey-anufriev', 'OussamaSaoudi', 'harryyu1994', 'Leonardo2718'} because they don't exist in the expected developers list\u001b[0m\n",
      "\u001b[32m2024-06-20 13:56:12.758\u001b[0m | \u001b[33m\u001b[1mWARNING \u001b[0m | \u001b[36m__main__\u001b[0m:\u001b[36m_get_historical_contributors\u001b[0m:\u001b[36m236\u001b[0m - \u001b[33m\u001b[1mSkipped users: {'mstoodle', 'liqunl', 'DanHeidinga', 'dmitry-ten', 'vij-singh', 'cathyzhyi', 'zl-wang', 'mnalam-p', 'mikezhang1234567890', 'fjeremic', 'harryyu1994'} because they don't exist in the expected developers list\u001b[0m\n"
     ]
    },
    {
     "name": "stdout",
     "output_type": "stream",
     "text": [
      "Issue URL:  https://github.com/eclipse-openj9/openj9/issues/18353\n",
      "Actual owner:  fengxue-IS\n",
      "Actual component:  comp:vm\n",
      "Issue URL:  https://github.com/eclipse-openj9/openj9/issues/18370\n",
      "Actual owner:  babsingh\n",
      "Actual component:  comp:vm\n"
     ]
    },
    {
     "name": "stderr",
     "output_type": "stream",
     "text": [
      "\u001b[32m2024-06-20 13:56:12.874\u001b[0m | \u001b[33m\u001b[1mWARNING \u001b[0m | \u001b[36m__main__\u001b[0m:\u001b[36m_get_historical_contributors\u001b[0m:\u001b[36m236\u001b[0m - \u001b[33m\u001b[1mSkipped users: {'sophia-guo', 'DanHeidinga', 'Mesbah-Alam', 'dipak-bagadiya', 'EricYangIBM', 'mikezhang1234567890', 'karianna'} because they don't exist in the expected developers list\u001b[0m\n",
      "\u001b[32m2024-06-20 13:56:12.998\u001b[0m | \u001b[33m\u001b[1mWARNING \u001b[0m | \u001b[36m__main__\u001b[0m:\u001b[36m_get_historical_contributors\u001b[0m:\u001b[36m236\u001b[0m - \u001b[33m\u001b[1mSkipped users: {'rrozenshteyn-jha', 'mstoodle', 'liqunl', 'dhong44', 'dmitry-ten', 'andrewcraik', 'vij-singh', 'SueChaplain', 'cathyzhyi', 'harryyu1994', 'dchopra001', 'vijaysun-omr', 'chrisc66', 'irinarada', 'fjeremic', 'urisimchoni', 'JamesKingdon', 'caohaley'} because they don't exist in the expected developers list\u001b[0m\n"
     ]
    },
    {
     "name": "stdout",
     "output_type": "stream",
     "text": [
      "Issue URL:  https://github.com/eclipse-openj9/openj9/issues/18385\n",
      "Actual owner:  hzongaro\n",
      "Actual component:  comp:jit\n",
      "Issue URL:  https://github.com/eclipse-openj9/openj9/issues/18386\n",
      "Actual owner:  thallium\n",
      "Actual component:  comp:vm\n"
     ]
    },
    {
     "name": "stderr",
     "output_type": "stream",
     "text": [
      "\u001b[32m2024-06-20 13:56:13.108\u001b[0m | \u001b[33m\u001b[1mWARNING \u001b[0m | \u001b[36m__main__\u001b[0m:\u001b[36m_get_historical_contributors\u001b[0m:\u001b[36m236\u001b[0m - \u001b[33m\u001b[1mSkipped users: {'SajinaKandy', 'DanHeidinga', 'Spencer-Comin', 'dipak-bagadiya', 'EricYangIBM', '0dvictor', 'bhavanisn', 'Sreekala-Gopakumar'} because they don't exist in the expected developers list\u001b[0m\n",
      "\u001b[32m2024-06-20 13:56:13.237\u001b[0m | \u001b[33m\u001b[1mWARNING \u001b[0m | \u001b[36m__main__\u001b[0m:\u001b[36m_get_historical_contributors\u001b[0m:\u001b[36m236\u001b[0m - \u001b[33m\u001b[1mSkipped users: {'DanHeidinga', 'dmitry-ten', 'andrewcraik', 'vij-singh', 'yanluo7', 'trabetti-hcl', 'Spencer-Comin', 'quijote', 'fjeremic'} because they don't exist in the expected developers list\u001b[0m\n"
     ]
    },
    {
     "name": "stdout",
     "output_type": "stream",
     "text": [
      "Issue URL:  https://github.com/eclipse-openj9/openj9/issues/18392\n",
      "Actual owner:  LinHu2016\n",
      "Actual component:  comp:vm\n",
      "Issue URL:  https://github.com/eclipse-openj9/openj9/issues/18401\n",
      "Actual owner:  babsingh\n",
      "Actual component:  comp:vm\n"
     ]
    },
    {
     "name": "stderr",
     "output_type": "stream",
     "text": [
      "\u001b[32m2024-06-20 13:56:13.351\u001b[0m | \u001b[33m\u001b[1mWARNING \u001b[0m | \u001b[36m__main__\u001b[0m:\u001b[36m_get_historical_contributors\u001b[0m:\u001b[36m236\u001b[0m - \u001b[33m\u001b[1mSkipped users: {'sophia-guo', 'doveye', 'DanHeidinga', 'Mesbah-Alam', 'vij-singh', 'EricYangIBM', 'pdbain-ibm', 'mikezhang1234567890', 'taoliult', 'dmigowski', 'Thihup', 'yanluo7', 'groeges', 'fjeremic'} because they don't exist in the expected developers list\u001b[0m\n",
      "\u001b[32m2024-06-20 13:56:13.458\u001b[0m | \u001b[33m\u001b[1mWARNING \u001b[0m | \u001b[36m__main__\u001b[0m:\u001b[36m_get_historical_contributors\u001b[0m:\u001b[36m236\u001b[0m - \u001b[33m\u001b[1mSkipped users: {'ThanHenderson', 'doveye', 'DanHeidinga', 'vij-singh', 'acrowthe', 'dipak-bagadiya', 'Yuehan-Lin', 'pdbain-ibm', 'Tom-Poe', 'vijaysun-omr', 'linyuehan', 'midronij', 'dmigowski', 'fjeremic', 'gervaisj', 'stevewallin', 'karianna'} because they don't exist in the expected developers list\u001b[0m\n"
     ]
    },
    {
     "name": "stdout",
     "output_type": "stream",
     "text": [
      "Issue URL:  https://github.com/eclipse-openj9/openj9/issues/18403\n",
      "Actual owner:  JasonFengJ9\n",
      "Actual component:  comp:vm\n",
      "Issue URL:  https://github.com/eclipse-openj9/openj9/issues/18405\n",
      "Actual owner:  babsingh\n",
      "Actual component:  comp:vm\n"
     ]
    },
    {
     "name": "stderr",
     "output_type": "stream",
     "text": [
      "\u001b[32m2024-06-20 13:56:13.630\u001b[0m | \u001b[33m\u001b[1mWARNING \u001b[0m | \u001b[36m__main__\u001b[0m:\u001b[36m_get_historical_contributors\u001b[0m:\u001b[36m236\u001b[0m - \u001b[33m\u001b[1mSkipped users: {'ThanHenderson', 'doveye', 'sophia-guo', 'DanHeidinga', 'dmitry-ten', 'vij-singh', 'EricYangIBM', 'zl-wang', 'vijaysun-omr', 'quijote', 'midronij', 'mnalam-p', 'patkarns', 'karianna'} because they don't exist in the expected developers list\u001b[0m\n",
      "\u001b[32m2024-06-20 13:56:13.740\u001b[0m | \u001b[33m\u001b[1mWARNING \u001b[0m | \u001b[36m__main__\u001b[0m:\u001b[36m_get_historical_contributors\u001b[0m:\u001b[36m236\u001b[0m - \u001b[33m\u001b[1mSkipped users: {'liqunl', 'DanHeidinga', 'Mesbah-Alam', 'R-Santhir', 'Spencer-Comin', 'acrowthe', 'AntonKatilin', 'EricYangIBM', 'fjeremic', 'bhavanisn'} because they don't exist in the expected developers list\u001b[0m\n"
     ]
    },
    {
     "name": "stdout",
     "output_type": "stream",
     "text": [
      "Issue URL:  https://github.com/eclipse-openj9/openj9/issues/18416\n",
      "Actual owner:  fengxue-IS\n",
      "Actual component:  comp:jvmti\n",
      "Issue URL:  https://github.com/eclipse-openj9/openj9/issues/18418\n",
      "Actual owner:  AdamBrousseau\n",
      "Actual component:  comp:infra\n"
     ]
    },
    {
     "name": "stderr",
     "output_type": "stream",
     "text": [
      "\u001b[32m2024-06-20 13:56:13.857\u001b[0m | \u001b[33m\u001b[1mWARNING \u001b[0m | \u001b[36m__main__\u001b[0m:\u001b[36m_get_historical_contributors\u001b[0m:\u001b[36m236\u001b[0m - \u001b[33m\u001b[1mSkipped users: {'DanHeidinga', 'Mesbah-Alam', 'andrewcraik', 'vij-singh', 'rmnattas', 'SueChaplain', 'github-actions[bot]', 'dmitry-ten', '0dvictor', 'vijaysun-omr', 'jdekonin', 'fjeremic', 'ashu-mehra', 'JamesKingdon'} because they don't exist in the expected developers list\u001b[0m\n",
      "\u001b[32m2024-06-20 13:56:13.989\u001b[0m | \u001b[33m\u001b[1mWARNING \u001b[0m | \u001b[36m__main__\u001b[0m:\u001b[36m_get_historical_contributors\u001b[0m:\u001b[36m236\u001b[0m - \u001b[33m\u001b[1mSkipped users: {'sophia-guo', 'DanHeidinga', 'dipak-bagadiya', 'mikezhang1234567890', 'karianna'} because they don't exist in the expected developers list\u001b[0m\n"
     ]
    },
    {
     "name": "stdout",
     "output_type": "stream",
     "text": [
      "Issue URL:  https://github.com/eclipse-openj9/openj9/issues/18426\n",
      "Actual owner:  fengxue-IS\n",
      "Actual component:  comp:vm\n",
      "Issue URL:  https://github.com/eclipse-openj9/openj9/issues/18427\n",
      "Actual owner:  JasonFengJ9\n",
      "Actual component:  comp:vm\n"
     ]
    },
    {
     "name": "stderr",
     "output_type": "stream",
     "text": [
      "\u001b[32m2024-06-20 13:56:14.089\u001b[0m | \u001b[33m\u001b[1mWARNING \u001b[0m | \u001b[36m__main__\u001b[0m:\u001b[36m_get_historical_contributors\u001b[0m:\u001b[36m236\u001b[0m - \u001b[33m\u001b[1mSkipped users: {'liqunl', 'DanHeidinga', 'andrewcraik', 'irinarada', 'harryyu1994'} because they don't exist in the expected developers list\u001b[0m\n",
      "\u001b[32m2024-06-20 13:56:14.241\u001b[0m | \u001b[33m\u001b[1mWARNING \u001b[0m | \u001b[36m__main__\u001b[0m:\u001b[36m_get_historical_contributors\u001b[0m:\u001b[36m236\u001b[0m - \u001b[33m\u001b[1mSkipped users: {'mstoodle', 'liqunl', 'DanHeidinga', 'Mesbah-Alam', 'Spencer-Comin', 'vij-singh', 'ehrenjulzert', 'joransiu', 'zl-wang', 'mikezhang1234567890', 'lumpfish', 'VermaSh'} because they don't exist in the expected developers list\u001b[0m\n"
     ]
    },
    {
     "name": "stdout",
     "output_type": "stream",
     "text": [
      "Issue URL:  https://github.com/eclipse-openj9/openj9/issues/18444\n",
      "Actual owner:  babsingh\n",
      "Actual component:  comp:vm\n",
      "Issue URL:  https://github.com/eclipse-openj9/openj9/issues/18456\n",
      "Actual owner:  JasonFengJ9\n",
      "Actual component:  comp:test\n"
     ]
    },
    {
     "name": "stderr",
     "output_type": "stream",
     "text": [
      "\u001b[32m2024-06-20 13:56:14.360\u001b[0m | \u001b[33m\u001b[1mWARNING \u001b[0m | \u001b[36m__main__\u001b[0m:\u001b[36m_get_historical_contributors\u001b[0m:\u001b[36m236\u001b[0m - \u001b[33m\u001b[1mSkipped users: {'DanHeidinga', 'andrew-m-leonard', 'Ailloviee', 'dchopra001', 'AlenBadel', 'mikezhang1234567890', 'alexey-anufriev', 'lumpfish', 'fjeremic', 'IBMJimmyk'} because they don't exist in the expected developers list\u001b[0m\n",
      "\u001b[32m2024-06-20 13:56:14.507\u001b[0m | \u001b[33m\u001b[1mWARNING \u001b[0m | \u001b[36m__main__\u001b[0m:\u001b[36m_get_historical_contributors\u001b[0m:\u001b[36m236\u001b[0m - \u001b[33m\u001b[1mSkipped users: {'liqunl', 'DanHeidinga', 'dmitry-ten', 'Ailloviee', 'dchopra001', 'lumpfish', 'alexey-anufriev', 'mikezhang1234567890', 'fjeremic', 'IBMJimmyk'} because they don't exist in the expected developers list\u001b[0m\n"
     ]
    },
    {
     "name": "stdout",
     "output_type": "stream",
     "text": [
      "Issue URL:  https://github.com/eclipse-openj9/openj9/issues/18471\n",
      "Actual owner:  knn-k\n",
      "Actual component:  comp:vm\n",
      "Issue URL:  https://github.com/eclipse-openj9/openj9/issues/18482\n",
      "Actual owner:  babsingh\n",
      "Actual component:  comp:vm\n"
     ]
    },
    {
     "name": "stderr",
     "output_type": "stream",
     "text": [
      "\u001b[32m2024-06-20 13:56:14.734\u001b[0m | \u001b[33m\u001b[1mWARNING \u001b[0m | \u001b[36m__main__\u001b[0m:\u001b[36m_get_historical_contributors\u001b[0m:\u001b[36m236\u001b[0m - \u001b[33m\u001b[1mSkipped users: {'liqunl', 'DanHeidinga', 'dmitry-ten', 'Spencer-Comin', 'Ailloviee', 'EricYangIBM', 'alexey-anufriev', 'IBMJimmyk'} because they don't exist in the expected developers list\u001b[0m\n",
      "\u001b[32m2024-06-20 13:56:14.838\u001b[0m | \u001b[33m\u001b[1mWARNING \u001b[0m | \u001b[36m__main__\u001b[0m:\u001b[36m_get_historical_contributors\u001b[0m:\u001b[36m236\u001b[0m - \u001b[33m\u001b[1mSkipped users: {'sophia-guo', 'SajinaKandy', 'Mesbah-Alam', 'R-Santhir', 'dipak-bagadiya', 'acrowthe', 'Spencer-Comin', 'EricYangIBM', 'bhavanisn', 'karianna'} because they don't exist in the expected developers list\u001b[0m\n"
     ]
    },
    {
     "name": "stdout",
     "output_type": "stream",
     "text": [
      "Issue URL:  https://github.com/eclipse-openj9/openj9/issues/18504\n",
      "Actual owner:  fengxue-IS\n",
      "Actual component:  comp:vm\n",
      "Issue URL:  https://github.com/eclipse-openj9/openj9/issues/18512\n",
      "Actual owner:  pshipton\n",
      "Actual component:  comp:test\n"
     ]
    },
    {
     "name": "stderr",
     "output_type": "stream",
     "text": [
      "\u001b[32m2024-06-20 13:56:15.022\u001b[0m | \u001b[33m\u001b[1mWARNING \u001b[0m | \u001b[36m__main__\u001b[0m:\u001b[36m_get_historical_contributors\u001b[0m:\u001b[36m236\u001b[0m - \u001b[33m\u001b[1mSkipped users: {'DanHeidinga', 'M-Davies', 'andrewcraik', 'vij-singh', 'andrew-m-leonard', 'Ailloviee', 'dchopra001', '0dvictor', 'vijaysun-omr', 'jdekonin', 'lumpfish', 'mikezhang1234567890', 'fjeremic'} because they don't exist in the expected developers list\u001b[0m\n",
      "\u001b[32m2024-06-20 13:56:15.184\u001b[0m | \u001b[33m\u001b[1mWARNING \u001b[0m | \u001b[36m__main__\u001b[0m:\u001b[36m_get_historical_contributors\u001b[0m:\u001b[36m236\u001b[0m - \u001b[33m\u001b[1mSkipped users: {'DanHeidinga', 'Ailloviee', 'dchopra001', 'alexey-anufriev', 'IBMJimmyk'} because they don't exist in the expected developers list\u001b[0m\n"
     ]
    },
    {
     "name": "stdout",
     "output_type": "stream",
     "text": [
      "Issue URL:  https://github.com/eclipse-openj9/openj9/issues/18513\n",
      "Actual owner:  JasonFengJ9\n",
      "Actual component:  comp:test\n",
      "Issue URL:  https://github.com/eclipse-openj9/openj9/issues/18526\n",
      "Actual owner:  babsingh\n",
      "Actual component:  comp:vm\n"
     ]
    },
    {
     "name": "stderr",
     "output_type": "stream",
     "text": [
      "\u001b[32m2024-06-20 13:56:15.334\u001b[0m | \u001b[33m\u001b[1mWARNING \u001b[0m | \u001b[36m__main__\u001b[0m:\u001b[36m_get_historical_contributors\u001b[0m:\u001b[36m236\u001b[0m - \u001b[33m\u001b[1mSkipped users: {'liqunl', 'DanHeidinga', 'dmitry-ten', 'andrewcraik', 'vij-singh', 'Mesbah-Alam', 'Ailloviee', 'Yuehan-Lin', 'zl-wang', '0dvictor', 'harryyu1994', 'jdekonin', 'irinarada', 'fjeremic', 'IBMJimmyk'} because they don't exist in the expected developers list\u001b[0m\n",
      "\u001b[32m2024-06-20 13:56:15.496\u001b[0m | \u001b[33m\u001b[1mWARNING \u001b[0m | \u001b[36m__main__\u001b[0m:\u001b[36m_get_historical_contributors\u001b[0m:\u001b[36m236\u001b[0m - \u001b[33m\u001b[1mSkipped users: {'liqunl', 'DanHeidinga', 'andrew-m-leonard', 'harryyu1994', 'dchopra001', 'lumpfish', 'alexey-anufriev', 'fjeremic', 'ashu-mehra', 'IBMJimmyk'} because they don't exist in the expected developers list\u001b[0m\n"
     ]
    },
    {
     "name": "stdout",
     "output_type": "stream",
     "text": [
      "Issue URL:  https://github.com/eclipse-openj9/openj9/issues/18527\n",
      "Actual owner:  JasonFengJ9\n",
      "Actual component:  comp:vm\n",
      "Issue URL:  https://github.com/eclipse-openj9/openj9/issues/18542\n",
      "Actual owner:  hzongaro\n",
      "Actual component:  comp:jit\n"
     ]
    },
    {
     "name": "stderr",
     "output_type": "stream",
     "text": [
      "\u001b[32m2024-06-20 13:56:15.775\u001b[0m | \u001b[33m\u001b[1mWARNING \u001b[0m | \u001b[36m__main__\u001b[0m:\u001b[36m_get_historical_contributors\u001b[0m:\u001b[36m236\u001b[0m - \u001b[33m\u001b[1mSkipped users: {'sophia-guo', 'liqunl', 'DanHeidinga', 'Mesbah-Alam', 'andrewcraik', 'vij-singh', 'Spencer-Comin', 'Ailloviee', 'dchopra001', 'zl-wang', 'joransiu', 'mikezhang1234567890', 'lumpfish', 'VermaSh'} because they don't exist in the expected developers list\u001b[0m\n"
     ]
    },
    {
     "name": "stdout",
     "output_type": "stream",
     "text": [
      "Issue URL:  https://github.com/eclipse-openj9/openj9/issues/18556\n",
      "Actual owner:  JasonFengJ9\n",
      "Actual component:  comp:vm\n",
      "Issue URL:  https://github.com/eclipse-openj9/openj9/issues/18599\n",
      "Actual owner:  a7ehuo\n",
      "Actual component:  comp:jitserver\n"
     ]
    },
    {
     "name": "stderr",
     "output_type": "stream",
     "text": [
      "\u001b[32m2024-06-20 13:56:15.921\u001b[0m | \u001b[33m\u001b[1mWARNING \u001b[0m | \u001b[36m__main__\u001b[0m:\u001b[36m_get_historical_contributors\u001b[0m:\u001b[36m236\u001b[0m - \u001b[33m\u001b[1mSkipped users: {'ThanHenderson', 'liqunl', 'DanHeidinga', 'alon-sh', 'andrew-m-leonard', 'dchopra001', 'joransiu', 'jasonkatonica', 'OscarQQ', 'jdekonin', 'EmanElsaban', 'irinarada', 'taoliult', 'fjeremic', 'harryyu1994', 'ashu-mehra', 'renfeiw'} because they don't exist in the expected developers list\u001b[0m\n"
     ]
    },
    {
     "name": "stdout",
     "output_type": "stream",
     "text": [
      "Issue URL:  https://github.com/eclipse-openj9/openj9/issues/18618\n",
      "Actual owner:  pshipton\n",
      "Actual component:  comp:test\n"
     ]
    },
    {
     "name": "stderr",
     "output_type": "stream",
     "text": [
      "\u001b[32m2024-06-20 13:56:16.145\u001b[0m | \u001b[33m\u001b[1mWARNING \u001b[0m | \u001b[36m__main__\u001b[0m:\u001b[36m_get_historical_contributors\u001b[0m:\u001b[36m236\u001b[0m - \u001b[33m\u001b[1mSkipped users: {'DanHeidinga', 'Mesbah-Alam', 'andrew-m-leonard', 'pdbain-ibm', 'lumpfish', 'renfeiw'} because they don't exist in the expected developers list\u001b[0m\n",
      "\u001b[32m2024-06-20 13:56:16.295\u001b[0m | \u001b[33m\u001b[1mWARNING \u001b[0m | \u001b[36m__main__\u001b[0m:\u001b[36m_get_historical_contributors\u001b[0m:\u001b[36m236\u001b[0m - \u001b[33m\u001b[1mSkipped users: {'mstoodle', 'vij-singh', 'cathyzhyi', 'jdekonin', 'IBMJimmyk', 'DanHeidinga', 'dmitry-ten', 'AlenBadel', 'lumpfish', 'AlexeyKhrabrov', 'ashu-mehra', 'Mesbah-Alam', 'mayshukla', 'dchopra001', 'harryyu1994', 'fjeremic', 'liqunl', 'andrewcraik', 'zl-wang', 'sharon-wang', 'alexey-anufriev'} because they don't exist in the expected developers list\u001b[0m\n"
     ]
    },
    {
     "name": "stdout",
     "output_type": "stream",
     "text": [
      "Issue URL:  https://github.com/eclipse-openj9/openj9/issues/18621\n",
      "Actual owner:  babsingh\n",
      "Actual component:  comp:vm\n",
      "Issue URL:  https://github.com/eclipse-openj9/openj9/issues/18626\n",
      "Actual owner:  0xdaryl\n",
      "Actual component:  comp:jit\n"
     ]
    },
    {
     "name": "stderr",
     "output_type": "stream",
     "text": [
      "\u001b[32m2024-06-20 13:56:16.422\u001b[0m | \u001b[33m\u001b[1mWARNING \u001b[0m | \u001b[36m__main__\u001b[0m:\u001b[36m_get_historical_contributors\u001b[0m:\u001b[36m236\u001b[0m - \u001b[33m\u001b[1mSkipped users: {'DanHeidinga', 'Mesbah-Alam', 'andrewcraik', 'vij-singh', 'ehrenjulzert', 'chrisc66', 'lumpfish', 'fjeremic', 'harryyu1994', 'kobinau'} because they don't exist in the expected developers list\u001b[0m\n",
      "\u001b[32m2024-06-20 13:56:16.569\u001b[0m | \u001b[33m\u001b[1mWARNING \u001b[0m | \u001b[36m__main__\u001b[0m:\u001b[36m_get_historical_contributors\u001b[0m:\u001b[36m236\u001b[0m - \u001b[33m\u001b[1mSkipped users: {'EilonSt', 'cathyzhyi', 'joransiu', 'irinarada', 'iankko', 'rrozenshteyn-jha', 'pwagland', 'dale-fu', 'DanHeidinga', 'dmitry-ten', 'zjingjbj', 'gleromsourd', 'AlenBadel', 'connglli', 'tellison', 'andrew-m-leonard', 'fjeremic', 'cedrichansen', 'VermaSh', 'mdafsanhossain', 'MNeuling', 'liqunl', 'andrewcraik', 'levivic', 'zl-wang', 'bharathappali', 'douglaspalmer', 'edrevo'} because they don't exist in the expected developers list\u001b[0m\n"
     ]
    },
    {
     "name": "stdout",
     "output_type": "stream",
     "text": [
      "Issue URL:  https://github.com/eclipse-openj9/openj9/issues/18644\n",
      "Actual owner:  dmitripivkine\n",
      "Actual component:  comp:gc\n",
      "Issue URL:  https://github.com/eclipse-openj9/openj9/issues/18671\n",
      "Actual owner:  keithc-ca\n",
      "Actual component:  comp:vm\n"
     ]
    },
    {
     "name": "stderr",
     "output_type": "stream",
     "text": [
      "\u001b[32m2024-06-20 13:56:16.682\u001b[0m | \u001b[33m\u001b[1mWARNING \u001b[0m | \u001b[36m__main__\u001b[0m:\u001b[36m_get_historical_contributors\u001b[0m:\u001b[36m236\u001b[0m - \u001b[33m\u001b[1mSkipped users: {'sophia-guo', 'Mesbah-Alam', 'Spencer-Comin', 'dipak-bagadiya', 'acrowthe', 'EricYangIBM', 'bhavanisn', 'karianna'} because they don't exist in the expected developers list\u001b[0m\n",
      "\u001b[32m2024-06-20 13:56:16.883\u001b[0m | \u001b[33m\u001b[1mWARNING \u001b[0m | \u001b[36m__main__\u001b[0m:\u001b[36m_get_historical_contributors\u001b[0m:\u001b[36m236\u001b[0m - \u001b[33m\u001b[1mSkipped users: {'sophia-guo', 'DanHeidinga', 'vij-singh', 'dipak-bagadiya', 'Spencer-Comin', 'zl-wang', 'mikezhang1234567890', 'karianna'} because they don't exist in the expected developers list\u001b[0m\n"
     ]
    },
    {
     "name": "stdout",
     "output_type": "stream",
     "text": [
      "Issue URL:  https://github.com/eclipse-openj9/openj9/issues/18675\n",
      "Actual owner:  fengxue-IS\n",
      "Actual component:  comp:vm\n"
     ]
    },
    {
     "name": "stderr",
     "output_type": "stream",
     "text": [
      "\u001b[32m2024-06-20 13:56:16.978\u001b[0m | \u001b[33m\u001b[1mWARNING \u001b[0m | \u001b[36m__main__\u001b[0m:\u001b[36m_get_historical_contributors\u001b[0m:\u001b[36m236\u001b[0m - \u001b[33m\u001b[1mSkipped users: {'dinogun', 'CodingFabian', 'DanHeidinga', 'pdbain-ibm'} because they don't exist in the expected developers list\u001b[0m\n",
      "\u001b[32m2024-06-20 13:56:17.087\u001b[0m | \u001b[33m\u001b[1mWARNING \u001b[0m | \u001b[36m__main__\u001b[0m:\u001b[36m_get_historical_contributors\u001b[0m:\u001b[36m236\u001b[0m - \u001b[33m\u001b[1mSkipped users: {'pwagland', 'DanHeidinga', 'dmitry-ten', 'andrewcraik', 'mreuvers', 'jschmied', 'dchopra001', 'pdbain-ibm', 'EmanElsaban', 'dnakamura', 'sharon-wang', 'AlexeyKhrabrov', 'ben-walsh', 'harryyu1994', 'renfeiw'} because they don't exist in the expected developers list\u001b[0m\n"
     ]
    },
    {
     "name": "stdout",
     "output_type": "stream",
     "text": [
      "Issue URL:  https://github.com/eclipse-openj9/openj9/issues/18679\n",
      "Actual owner:  JasonFengJ9\n",
      "Actual component:  comp:vm\n",
      "Issue URL:  https://github.com/eclipse-openj9/openj9/issues/18691\n",
      "Actual owner:  knn-k\n",
      "Actual component:  comp:jitserver\n"
     ]
    },
    {
     "name": "stderr",
     "output_type": "stream",
     "text": [
      "\u001b[32m2024-06-20 13:56:17.198\u001b[0m | \u001b[33m\u001b[1mWARNING \u001b[0m | \u001b[36m__main__\u001b[0m:\u001b[36m_get_historical_contributors\u001b[0m:\u001b[36m236\u001b[0m - \u001b[33m\u001b[1mSkipped users: {'DanHeidinga', 'Mesbah-Alam', 'dipak-bagadiya', 'ehrenjulzert', 'dchopra001', 'mikezhang1234567890', 'renfeiw', 'VermaSh'} because they don't exist in the expected developers list\u001b[0m\n"
     ]
    },
    {
     "name": "stdout",
     "output_type": "stream",
     "text": [
      "Issue URL:  https://github.com/eclipse-openj9/openj9/issues/18693\n",
      "Actual owner:  keithc-ca\n",
      "Actual component:  comp:vm\n",
      "Issue URL:  https://github.com/eclipse-openj9/openj9/issues/18694\n",
      "Actual owner:  babsingh\n",
      "Actual component:  comp:vm\n"
     ]
    },
    {
     "name": "stderr",
     "output_type": "stream",
     "text": [
      "\u001b[32m2024-06-20 13:56:17.323\u001b[0m | \u001b[33m\u001b[1mWARNING \u001b[0m | \u001b[36m__main__\u001b[0m:\u001b[36m_get_historical_contributors\u001b[0m:\u001b[36m236\u001b[0m - \u001b[33m\u001b[1mSkipped users: {'sophia-guo', 'DanHeidinga', 'M-Davies', 'pdbain-ibm', 'ben-walsh', 'renfeiw'} because they don't exist in the expected developers list\u001b[0m\n",
      "\u001b[32m2024-06-20 13:56:17.437\u001b[0m | \u001b[33m\u001b[1mWARNING \u001b[0m | \u001b[36m__main__\u001b[0m:\u001b[36m_get_historical_contributors\u001b[0m:\u001b[36m236\u001b[0m - \u001b[33m\u001b[1mSkipped users: {'DanHeidinga', 'Mesbah-Alam', 'EricYangIBM', 'AlenBadel', 'ben-walsh', 'terryzuoty', 'renfeiw', 'JamesKingdon'} because they don't exist in the expected developers list\u001b[0m\n"
     ]
    },
    {
     "name": "stdout",
     "output_type": "stream",
     "text": [
      "Issue URL:  https://github.com/eclipse-openj9/openj9/issues/18696\n",
      "Actual owner:  fengxue-IS\n",
      "Actual component:  comp:vm\n",
      "Issue URL:  https://github.com/eclipse-openj9/openj9/issues/18697\n",
      "Actual owner:  fengxue-IS\n",
      "Actual component:  comp:vm\n"
     ]
    },
    {
     "name": "stderr",
     "output_type": "stream",
     "text": [
      "\u001b[32m2024-06-20 13:56:17.551\u001b[0m | \u001b[33m\u001b[1mWARNING \u001b[0m | \u001b[36m__main__\u001b[0m:\u001b[36m_get_historical_contributors\u001b[0m:\u001b[36m236\u001b[0m - \u001b[33m\u001b[1mSkipped users: {'DanHeidinga', 'EricYangIBM', 'AlenBadel', 'terryzuoty', 'JamesKingdon'} because they don't exist in the expected developers list\u001b[0m\n",
      "\u001b[32m2024-06-20 13:56:17.667\u001b[0m | \u001b[33m\u001b[1mWARNING \u001b[0m | \u001b[36m__main__\u001b[0m:\u001b[36m_get_historical_contributors\u001b[0m:\u001b[36m236\u001b[0m - \u001b[33m\u001b[1mSkipped users: {'sophia-guo', 'vij-singh', 'alon-sh', 'joransiu', 'CptGit', 'patkarns', 'ThanHenderson', 'JeffersonYu1', 'KostasTsiounis', 'JellyBrick', 'WilburZjh', 'lumpfish', 'renfeiw', 'karianna', 'Mesbah-Alam', 'dchopra001', 'zzambers', 'OscarQQ', 'jasonkatonica', 'shanchao95'} because they don't exist in the expected developers list\u001b[0m\n"
     ]
    },
    {
     "name": "stdout",
     "output_type": "stream",
     "text": [
      "Issue URL:  https://github.com/eclipse-openj9/openj9/issues/18703\n",
      "Actual owner:  JasonFengJ9\n",
      "Actual component:  comp:crypto\n",
      "Issue URL:  https://github.com/eclipse-openj9/openj9/issues/18704\n",
      "Actual owner:  gita-omr\n",
      "Actual component:  comp:jit\n"
     ]
    },
    {
     "name": "stderr",
     "output_type": "stream",
     "text": [
      "\u001b[32m2024-06-20 13:56:17.789\u001b[0m | \u001b[33m\u001b[1mWARNING \u001b[0m | \u001b[36m__main__\u001b[0m:\u001b[36m_get_historical_contributors\u001b[0m:\u001b[36m236\u001b[0m - \u001b[33m\u001b[1mSkipped users: {'liqunl', 'DanHeidinga', 'dmitry-ten', 'andrewcraik', 'vij-singh', 'andrew-m-leonard', 'dipak-bagadiya', 'github-actions[bot]', 'cathyzhyi', 'harryyu1994', 'joransiu', 'zl-wang', 'vijaysun-omr', 'Mesbah-Alam', 'mikezhang1234567890', 'irinarada', 'fjeremic', 'IBMJimmyk'} because they don't exist in the expected developers list\u001b[0m\n",
      "\u001b[32m2024-06-20 13:56:17.907\u001b[0m | \u001b[33m\u001b[1mWARNING \u001b[0m | \u001b[36m__main__\u001b[0m:\u001b[36m_get_historical_contributors\u001b[0m:\u001b[36m236\u001b[0m - \u001b[33m\u001b[1mSkipped users: {'sophia-guo', 'DanHeidinga', 'jonathan-albrecht-ibm', 'dansmithcode', 'pdbain-ibm', 'Sidong-Wei', 'vijaysun-omr', '0dvictor', 'pushkarnk', 'Brad0309', 'fjeremic', 'connglli', 'dholmes-ora'} because they don't exist in the expected developers list\u001b[0m\n"
     ]
    },
    {
     "name": "stdout",
     "output_type": "stream",
     "text": [
      "Issue URL:  https://github.com/eclipse-openj9/openj9/issues/18705\n",
      "Actual owner:  theresa-m\n",
      "Actual component:  comp:vm\n",
      "Issue URL:  https://github.com/eclipse-openj9/openj9/issues/18712\n",
      "Actual owner:  pshipton\n",
      "Actual component:  comp:test\n"
     ]
    },
    {
     "name": "stderr",
     "output_type": "stream",
     "text": [
      "\u001b[32m2024-06-20 13:56:18.025\u001b[0m | \u001b[33m\u001b[1mWARNING \u001b[0m | \u001b[36m__main__\u001b[0m:\u001b[36m_get_historical_contributors\u001b[0m:\u001b[36m236\u001b[0m - \u001b[33m\u001b[1mSkipped users: {'sophia-guo', 'DanHeidinga', 'Mesbah-Alam', 'dipak-bagadiya', 'EricYangIBM', 'mikezhang1234567890', 'karianna'} because they don't exist in the expected developers list\u001b[0m\n",
      "\u001b[32m2024-06-20 13:56:18.132\u001b[0m | \u001b[33m\u001b[1mWARNING \u001b[0m | \u001b[36m__main__\u001b[0m:\u001b[36m_get_historical_contributors\u001b[0m:\u001b[36m236\u001b[0m - \u001b[33m\u001b[1mSkipped users: {'sophia-guo', 'DanHeidinga', 'Mesbah-Alam', 'M-Davies', 'qasimy123', 'pdbain-ibm', 'mikezhang1234567890', 'ben-walsh', 'Maldivia', 'VermaSh', 'karianna'} because they don't exist in the expected developers list\u001b[0m\n",
      "\u001b[32m2024-06-20 13:56:18.216\u001b[0m | \u001b[33m\u001b[1mWARNING \u001b[0m | \u001b[36m__main__\u001b[0m:\u001b[36m_get_historical_contributors\u001b[0m:\u001b[36m236\u001b[0m - \u001b[33m\u001b[1mSkipped users: {'CodingFabian', 'DanHeidinga', 'pdbain-ibm', 'Tom-Poe', 'BrijeshNekkare', 'dinogun'} because they don't exist in the expected developers list\u001b[0m\n"
     ]
    },
    {
     "name": "stdout",
     "output_type": "stream",
     "text": [
      "Issue URL:  https://github.com/eclipse-openj9/openj9/issues/18718\n",
      "Actual owner:  babsingh\n",
      "Actual component:  comp:vm\n",
      "Issue URL:  https://github.com/eclipse-openj9/openj9/issues/18720\n",
      "Actual owner:  JasonFengJ9\n",
      "Actual component:  comp:vm\n",
      "Issue URL:  https://github.com/eclipse-openj9/openj9/issues/18727\n",
      "Actual owner:  cjjdespres\n",
      "Actual component:  comp:jitserver\n"
     ]
    },
    {
     "name": "stderr",
     "output_type": "stream",
     "text": [
      "\u001b[32m2024-06-20 13:56:18.303\u001b[0m | \u001b[33m\u001b[1mWARNING \u001b[0m | \u001b[36m__main__\u001b[0m:\u001b[36m_get_historical_contributors\u001b[0m:\u001b[36m236\u001b[0m - \u001b[33m\u001b[1mSkipped users: {'dmitry-ten'} because they don't exist in the expected developers list\u001b[0m\n",
      "\u001b[32m2024-06-20 13:56:18.417\u001b[0m | \u001b[33m\u001b[1mWARNING \u001b[0m | \u001b[36m__main__\u001b[0m:\u001b[36m_get_historical_contributors\u001b[0m:\u001b[36m236\u001b[0m - \u001b[33m\u001b[1mSkipped users: {'sophia-guo', 'DanHeidinga', 'Mesbah-Alam', 'dipak-bagadiya', 'mikezhang1234567890', 'karianna'} because they don't exist in the expected developers list\u001b[0m\n"
     ]
    },
    {
     "name": "stdout",
     "output_type": "stream",
     "text": [
      "Issue URL:  https://github.com/eclipse-openj9/openj9/issues/18730\n",
      "Actual owner:  babsingh\n",
      "Actual component:  comp:vm\n",
      "Issue URL:  https://github.com/eclipse-openj9/openj9/issues/18735\n",
      "Actual owner:  fengxue-IS\n",
      "Actual component:  comp:vm\n"
     ]
    },
    {
     "name": "stderr",
     "output_type": "stream",
     "text": [
      "\u001b[32m2024-06-20 13:56:18.533\u001b[0m | \u001b[33m\u001b[1mWARNING \u001b[0m | \u001b[36m__main__\u001b[0m:\u001b[36m_get_historical_contributors\u001b[0m:\u001b[36m236\u001b[0m - \u001b[33m\u001b[1mSkipped users: {'sophia-guo', 'DanHeidinga', 'Mesbah-Alam', 'dipak-bagadiya', 'mikezhang1234567890', 'karianna'} because they don't exist in the expected developers list\u001b[0m\n",
      "\u001b[32m2024-06-20 13:56:18.615\u001b[0m | \u001b[33m\u001b[1mWARNING \u001b[0m | \u001b[36m__main__\u001b[0m:\u001b[36m_get_historical_contributors\u001b[0m:\u001b[36m236\u001b[0m - \u001b[33m\u001b[1mSkipped users: {'MarkQingGuo', 'AswathySK', 'anikser', 'eric98zhang'} because they don't exist in the expected developers list\u001b[0m\n"
     ]
    },
    {
     "name": "stdout",
     "output_type": "stream",
     "text": [
      "Issue URL:  https://github.com/eclipse-openj9/openj9/issues/18742\n",
      "Actual owner:  a7ehuo\n",
      "Actual component:  comp:jit\n",
      "Issue URL:  https://github.com/eclipse-openj9/openj9/issues/18748\n",
      "Actual owner:  a7ehuo\n",
      "Actual component:  comp:jit\n"
     ]
    },
    {
     "name": "stderr",
     "output_type": "stream",
     "text": [
      "\u001b[32m2024-06-20 13:56:18.773\u001b[0m | \u001b[33m\u001b[1mWARNING \u001b[0m | \u001b[36m__main__\u001b[0m:\u001b[36m_get_historical_contributors\u001b[0m:\u001b[36m236\u001b[0m - \u001b[33m\u001b[1mSkipped users: {'EilonSt', 'trabetti-hcl', 'vij-singh', 'joransiu', 'quijote', 'iankko', 'rrozenshteyn-jha', 'DanHeidinga', 'dale-fu', 'zjingjbj', 'acrowthe', 'gleromsourd', 'ayuan0828', 'tellison', 'taoliult', 'fjeremic', 'VermaSh', 'mdafsanhossain', 'JamesKingdon', 'liqunl', 'andrewcraik', 'Spencer-Comin', 'levivic', 'jasonkatonica', 'douglaspalmer', 'edrevo'} because they don't exist in the expected developers list\u001b[0m\n",
      "\u001b[32m2024-06-20 13:56:18.907\u001b[0m | \u001b[33m\u001b[1mWARNING \u001b[0m | \u001b[36m__main__\u001b[0m:\u001b[36m_get_historical_contributors\u001b[0m:\u001b[36m236\u001b[0m - \u001b[33m\u001b[1mSkipped users: {'pwagland', 'liqunl', 'MNeuling', 'DanHeidinga', 'andrewcraik', 'vij-singh', 'andrew-m-leonard', 'mayshukla', 'dchopra001', 'zl-wang', 'AlenBadel', 'joransiu', 'quijote', 'fjeremic', 'edrevo', 'connglli', 'IBMJimmyk'} because they don't exist in the expected developers list\u001b[0m\n"
     ]
    },
    {
     "name": "stdout",
     "output_type": "stream",
     "text": [
      "Issue URL:  https://github.com/eclipse-openj9/openj9/issues/18750\n",
      "Actual owner:  babsingh\n",
      "Actual component:  comp:vm\n",
      "Issue URL:  https://github.com/eclipse-openj9/openj9/issues/18756\n",
      "Actual owner:  BradleyWood\n",
      "Actual component:  comp:jit\n"
     ]
    },
    {
     "name": "stderr",
     "output_type": "stream",
     "text": [
      "\u001b[32m2024-06-20 13:56:19.041\u001b[0m | \u001b[33m\u001b[1mWARNING \u001b[0m | \u001b[36m__main__\u001b[0m:\u001b[36m_get_historical_contributors\u001b[0m:\u001b[36m236\u001b[0m - \u001b[33m\u001b[1mSkipped users: {'markehammons', 'DanHeidinga', 'andrewcraik', 'harryyu1994', 'dansmithcode', '0dvictor', 'tianxiaogu', 'dnakamura', 'charliegracie', 'irinarada', 'Brad0309', 'fjeremic', 'connglli', 'JamesKingdon', 'dholmes-ora'} because they don't exist in the expected developers list\u001b[0m\n",
      "\u001b[32m2024-06-20 13:56:19.142\u001b[0m | \u001b[33m\u001b[1mWARNING \u001b[0m | \u001b[36m__main__\u001b[0m:\u001b[36m_get_historical_contributors\u001b[0m:\u001b[36m236\u001b[0m - \u001b[33m\u001b[1mSkipped users: {'DanHeidinga', 'dipak-bagadiya', 'ehrenjulzert', '0dvictor', 'fjeremic'} because they don't exist in the expected developers list\u001b[0m\n"
     ]
    },
    {
     "name": "stdout",
     "output_type": "stream",
     "text": [
      "Issue URL:  https://github.com/eclipse-openj9/openj9/issues/18758\n",
      "Actual owner:  keithc-ca\n",
      "Actual component:  comp:test\n",
      "Issue URL:  https://github.com/eclipse-openj9/openj9/issues/18763\n",
      "Actual owner:  babsingh\n",
      "Actual component:  comp:vm\n"
     ]
    },
    {
     "name": "stderr",
     "output_type": "stream",
     "text": [
      "\u001b[32m2024-06-20 13:56:19.265\u001b[0m | \u001b[33m\u001b[1mWARNING \u001b[0m | \u001b[36m__main__\u001b[0m:\u001b[36m_get_historical_contributors\u001b[0m:\u001b[36m236\u001b[0m - \u001b[33m\u001b[1mSkipped users: {'sophia-guo', 'DanHeidinga', 'dipak-bagadiya', 'mikezhang1234567890', 'karianna'} because they don't exist in the expected developers list\u001b[0m\n",
      "\u001b[32m2024-06-20 13:56:19.370\u001b[0m | \u001b[33m\u001b[1mWARNING \u001b[0m | \u001b[36m__main__\u001b[0m:\u001b[36m_get_historical_contributors\u001b[0m:\u001b[36m236\u001b[0m - \u001b[33m\u001b[1mSkipped users: {'liqunl', 'DanHeidinga', 'dmitry-ten', 'andrewcraik', 'andrew-m-leonard', 'EricYangIBM', 'pdbain-ibm', 'AlenBadel', 'zl-wang', 'lumpfish', 'mikezhang1234567890', 'yanluo7', 'renfeiw', 'cedrichansen'} because they don't exist in the expected developers list\u001b[0m\n"
     ]
    },
    {
     "name": "stdout",
     "output_type": "stream",
     "text": [
      "Issue URL:  https://github.com/eclipse-openj9/openj9/issues/18771\n",
      "Actual owner:  keithc-ca\n",
      "Actual component:  comp:vm\n",
      "Issue URL:  https://github.com/eclipse-openj9/openj9/issues/18777\n",
      "Actual owner:  a7ehuo\n",
      "Actual component:  comp:jit\n"
     ]
    },
    {
     "name": "stderr",
     "output_type": "stream",
     "text": [
      "\u001b[32m2024-06-20 13:56:19.497\u001b[0m | \u001b[33m\u001b[1mWARNING \u001b[0m | \u001b[36m__main__\u001b[0m:\u001b[36m_get_historical_contributors\u001b[0m:\u001b[36m236\u001b[0m - \u001b[33m\u001b[1mSkipped users: {'DanHeidinga', 'fuzzy000', 'harryyu1994', 'dansmithcode', 'tianxiaogu', 'dnakamura', 'charliegracie', 'irinarada', 'Brad0309', 'fjeremic', 'connglli', 'JamesKingdon', 'dholmes-ora'} because they don't exist in the expected developers list\u001b[0m\n",
      "\u001b[32m2024-06-20 13:56:19.611\u001b[0m | \u001b[33m\u001b[1mWARNING \u001b[0m | \u001b[36m__main__\u001b[0m:\u001b[36m_get_historical_contributors\u001b[0m:\u001b[36m236\u001b[0m - \u001b[33m\u001b[1mSkipped users: {'sophia-guo', 'non-conformances-research', 'pwagland', 'DanHeidinga', 'AlenBadel', '0dvictor', 'vijaysun-omr', 'NigelYiboYu', 'lumpfish', 'ben-walsh', 'qasimy123', 'andrew-m-leonard', 'dchopra001', 'fjeremic', 'VermaSh', 'liqunl', 'andrewcraik', 'PascalSchumacher', 'mikezhang1234567890', 'JavaTailor', 'yanluo7'} because they don't exist in the expected developers list\u001b[0m\n"
     ]
    },
    {
     "name": "stdout",
     "output_type": "stream",
     "text": [
      "Issue URL:  https://github.com/eclipse-openj9/openj9/issues/18791\n",
      "Actual owner:  keithc-ca\n",
      "Actual component:  comp:vm\n",
      "Issue URL:  https://github.com/eclipse-openj9/openj9/issues/18801\n",
      "Actual owner:  JasonFengJ9\n",
      "Actual component:  comp:fips\n"
     ]
    },
    {
     "name": "stderr",
     "output_type": "stream",
     "text": [
      "\u001b[32m2024-06-20 13:56:19.763\u001b[0m | \u001b[33m\u001b[1mWARNING \u001b[0m | \u001b[36m__main__\u001b[0m:\u001b[36m_get_historical_contributors\u001b[0m:\u001b[36m236\u001b[0m - \u001b[33m\u001b[1mSkipped users: {'vij-singh', 'alon-sh', 'joransiu', 'CptGit', 'patkarns', 'IBMJimmyk', 'ThanHenderson', 'DanHeidinga', 'jabrena', 'JeffersonYu1', 'dmitry-ten', 'KostasTsiounis', 'dipak-bagadiya', 'AlenBadel', 'JellyBrick', 'WilburZjh', 'annaibm', 'renfeiw', 'andrew-m-leonard', 'mayshukla', 'dchopra001', 'zzambers', 'taoliult', 'harryyu1994', 'SajinaKandy', 'liqunl', 'andrewcraik', 'OscarQQ', 'jasonkatonica', 'dnakamura', 'shanchao95'} because they don't exist in the expected developers list\u001b[0m\n",
      "\u001b[32m2024-06-20 13:56:19.881\u001b[0m | \u001b[33m\u001b[1mWARNING \u001b[0m | \u001b[36m__main__\u001b[0m:\u001b[36m_get_historical_contributors\u001b[0m:\u001b[36m236\u001b[0m - \u001b[33m\u001b[1mSkipped users: {'sophia-guo', 'DanHeidinga', 'Mesbah-Alam', 'andrewcraik', 'M-Davies', 'EricYangIBM', 'pdbain-ibm', 'ben-walsh', 'renfeiw'} because they don't exist in the expected developers list\u001b[0m\n"
     ]
    },
    {
     "name": "stdout",
     "output_type": "stream",
     "text": [
      "Issue URL:  https://github.com/eclipse-openj9/openj9/issues/18804\n",
      "Actual owner:  pshipton\n",
      "Actual component:  comp:gc\n",
      "Issue URL:  https://github.com/eclipse-openj9/openj9/issues/18805\n",
      "Actual owner:  pshipton\n",
      "Actual component:  comp:vm\n"
     ]
    },
    {
     "name": "stderr",
     "output_type": "stream",
     "text": [
      "\u001b[32m2024-06-20 13:56:20.023\u001b[0m | \u001b[33m\u001b[1mWARNING \u001b[0m | \u001b[36m__main__\u001b[0m:\u001b[36m_get_historical_contributors\u001b[0m:\u001b[36m236\u001b[0m - \u001b[33m\u001b[1mSkipped users: {'liqunl', 'DanHeidinga', 'dmitry-ten', 'andrewcraik', 'vij-singh', 'andrew-m-leonard', 'Mesbah-Alam', 'mayshukla', 'EricYangIBM', 'zl-wang', 'AlenBadel', 'joransiu', 'fjeremic', 'harryyu1994', 'IBMJimmyk'} because they don't exist in the expected developers list\u001b[0m\n",
      "\u001b[32m2024-06-20 13:56:20.131\u001b[0m | \u001b[33m\u001b[1mWARNING \u001b[0m | \u001b[36m__main__\u001b[0m:\u001b[36m_get_historical_contributors\u001b[0m:\u001b[36m236\u001b[0m - \u001b[33m\u001b[1mSkipped users: {'EricYangIBM', 'Mesbah-Alam', 'DanHeidinga', 'AlenBadel'} because they don't exist in the expected developers list\u001b[0m\n"
     ]
    },
    {
     "name": "stdout",
     "output_type": "stream",
     "text": [
      "Issue URL:  https://github.com/eclipse-openj9/openj9/issues/18807\n",
      "Actual owner:  babsingh\n",
      "Actual component:  comp:jvmti\n",
      "Issue URL:  https://github.com/eclipse-openj9/openj9/issues/18809\n",
      "Actual owner:  JasonFengJ9\n",
      "Actual component:  comp:jvmti\n"
     ]
    },
    {
     "name": "stderr",
     "output_type": "stream",
     "text": [
      "\u001b[32m2024-06-20 13:56:20.245\u001b[0m | \u001b[33m\u001b[1mWARNING \u001b[0m | \u001b[36m__main__\u001b[0m:\u001b[36m_get_historical_contributors\u001b[0m:\u001b[36m236\u001b[0m - \u001b[33m\u001b[1mSkipped users: {'DanHeidinga', 'Mesbah-Alam', 'EricYangIBM', 'mikezhang1234567890', 'VermaSh'} because they don't exist in the expected developers list\u001b[0m\n",
      "\u001b[32m2024-06-20 13:56:20.386\u001b[0m | \u001b[33m\u001b[1mWARNING \u001b[0m | \u001b[36m__main__\u001b[0m:\u001b[36m_get_historical_contributors\u001b[0m:\u001b[36m236\u001b[0m - \u001b[33m\u001b[1mSkipped users: {'sophia-guo', 'SajinaKandy', 'dipak-bagadiya', 'karianna'} because they don't exist in the expected developers list\u001b[0m\n"
     ]
    },
    {
     "name": "stdout",
     "output_type": "stream",
     "text": [
      "Issue URL:  https://github.com/eclipse-openj9/openj9/issues/18810\n",
      "Actual owner:  babsingh\n",
      "Actual component:  comp:jvmti\n",
      "Issue URL:  https://github.com/eclipse-openj9/openj9/issues/18811\n",
      "Actual owner:  llxia\n",
      "Actual component:  comp:jvmti\n"
     ]
    },
    {
     "name": "stderr",
     "output_type": "stream",
     "text": [
      "\u001b[32m2024-06-20 13:56:20.541\u001b[0m | \u001b[33m\u001b[1mWARNING \u001b[0m | \u001b[36m__main__\u001b[0m:\u001b[36m_get_historical_contributors\u001b[0m:\u001b[36m236\u001b[0m - \u001b[33m\u001b[1mSkipped users: {'liqunl', 'DanHeidinga', 'andrewcraik', 'rmnattas', 'cathyzhyi', 'fjeremic'} because they don't exist in the expected developers list\u001b[0m\n"
     ]
    },
    {
     "name": "stdout",
     "output_type": "stream",
     "text": [
      "Issue URL:  https://github.com/eclipse-openj9/openj9/issues/18812\n",
      "Actual owner:  babsingh\n",
      "Actual component:  comp:jvmti\n"
     ]
    },
    {
     "name": "stderr",
     "output_type": "stream",
     "text": [
      "\u001b[32m2024-06-20 13:56:20.763\u001b[0m | \u001b[33m\u001b[1mWARNING \u001b[0m | \u001b[36m__main__\u001b[0m:\u001b[36m_get_historical_contributors\u001b[0m:\u001b[36m236\u001b[0m - \u001b[33m\u001b[1mSkipped users: {'sophia-guo', 'SajinaKandy', 'dipak-bagadiya', 'dchopra001', 'mikezhang1234567890', 'renfeiw', 'karianna'} because they don't exist in the expected developers list\u001b[0m\n"
     ]
    },
    {
     "name": "stdout",
     "output_type": "stream",
     "text": [
      "Issue URL:  https://github.com/eclipse-openj9/openj9/issues/18828\n",
      "Actual owner:  theresa-m\n",
      "Actual component:  comp:vm\n"
     ]
    },
    {
     "name": "stderr",
     "output_type": "stream",
     "text": [
      "\u001b[32m2024-06-20 13:56:20.975\u001b[0m | \u001b[33m\u001b[1mWARNING \u001b[0m | \u001b[36m__main__\u001b[0m:\u001b[36m_get_historical_contributors\u001b[0m:\u001b[36m236\u001b[0m - \u001b[33m\u001b[1mSkipped users: {'AswathySK', 'DanHeidinga', 'andrewcraik', 'eric98zhang', 'acrowthe', 'ehrenjulzert', 'anikser', 'harryyu1994'} because they don't exist in the expected developers list\u001b[0m\n"
     ]
    },
    {
     "name": "stdout",
     "output_type": "stream",
     "text": [
      "Issue URL:  https://github.com/eclipse-openj9/openj9/issues/18834\n",
      "Actual owner:  BradleyWood\n",
      "Actual component:  comp:jit\n"
     ]
    },
    {
     "name": "stderr",
     "output_type": "stream",
     "text": [
      "\u001b[32m2024-06-20 13:56:21.197\u001b[0m | \u001b[33m\u001b[1mWARNING \u001b[0m | \u001b[36m__main__\u001b[0m:\u001b[36m_get_historical_contributors\u001b[0m:\u001b[36m236\u001b[0m - \u001b[33m\u001b[1mSkipped users: {'markehammons', 'DanHeidinga', 'JeffersonYu1', 'andrewcraik', 'rmnattas', 'dansmithcode', 'tianxiaogu', '0dvictor', 'dnakamura', 'Brad0309', 'fjeremic', 'connglli', 'JamesKingdon', 'dholmes-ora'} because they don't exist in the expected developers list\u001b[0m\n"
     ]
    },
    {
     "name": "stdout",
     "output_type": "stream",
     "text": [
      "Issue URL:  https://github.com/eclipse-openj9/openj9/issues/18844\n",
      "Actual owner:  pshipton\n",
      "Actual component:  comp:test\n"
     ]
    },
    {
     "name": "stderr",
     "output_type": "stream",
     "text": [
      "\u001b[32m2024-06-20 13:56:21.467\u001b[0m | \u001b[33m\u001b[1mWARNING \u001b[0m | \u001b[36m__main__\u001b[0m:\u001b[36m_get_historical_contributors\u001b[0m:\u001b[36m236\u001b[0m - \u001b[33m\u001b[1mSkipped users: {'liqunl', 'DanHeidinga', 'Mesbah-Alam', 'andrewcraik', 'ehrenjulzert', 'dchopra001', 'pdbain-ibm', 'AlenBadel', 'patkarns', 'EricYangIBM', 'ben-walsh', 'fjeremic', 'yanluo7', 'renfeiw', 'VermaSh'} because they don't exist in the expected developers list\u001b[0m\n"
     ]
    },
    {
     "name": "stdout",
     "output_type": "stream",
     "text": [
      "Issue URL:  https://github.com/eclipse-openj9/openj9/issues/18845\n",
      "Actual owner:  JasonFengJ9\n",
      "Actual component:  comp:vm\n"
     ]
    },
    {
     "name": "stderr",
     "output_type": "stream",
     "text": [
      "\u001b[32m2024-06-20 13:56:21.723\u001b[0m | \u001b[33m\u001b[1mWARNING \u001b[0m | \u001b[36m__main__\u001b[0m:\u001b[36m_get_historical_contributors\u001b[0m:\u001b[36m236\u001b[0m - \u001b[33m\u001b[1mSkipped users: {'liqunl', 'DanHeidinga', 'dmitry-ten', 'jabrena', 'vij-singh', 'andrew-m-leonard', 'harryyu1994', 'zl-wang', 'dnakamura', 'fjeremic', 'annaibm'} because they don't exist in the expected developers list\u001b[0m\n",
      "\u001b[32m2024-06-20 13:56:21.860\u001b[0m | \u001b[33m\u001b[1mWARNING \u001b[0m | \u001b[36m__main__\u001b[0m:\u001b[36m_get_historical_contributors\u001b[0m:\u001b[36m236\u001b[0m - \u001b[33m\u001b[1mSkipped users: {'harryyu1994', 'AlexeyKhrabrov', 'dmitry-ten'} because they don't exist in the expected developers list\u001b[0m\n"
     ]
    },
    {
     "name": "stdout",
     "output_type": "stream",
     "text": [
      "Issue URL:  https://github.com/eclipse-openj9/openj9/issues/18858\n",
      "Actual owner:  cjjdespres\n",
      "Actual component:  comp:jitserver\n",
      "Issue URL:  https://github.com/eclipse-openj9/openj9/issues/18859\n",
      "Actual owner:  fengxue-IS\n",
      "Actual component:  comp:vm\n"
     ]
    },
    {
     "name": "stderr",
     "output_type": "stream",
     "text": [
      "\u001b[32m2024-06-20 13:56:22.052\u001b[0m | \u001b[33m\u001b[1mWARNING \u001b[0m | \u001b[36m__main__\u001b[0m:\u001b[36m_get_historical_contributors\u001b[0m:\u001b[36m236\u001b[0m - \u001b[33m\u001b[1mSkipped users: {'sophia-guo', 'vij-singh', 'sxa', 'joransiu', 'DanHeidinga', 'R-Santhir', 'RSalman', 'karianna', 'Mesbah-Alam', 'qasimy123', 'Haroon-Khel', 'OussamaSaoudi', 'fjeremic', 'liqunl', 'andrewcraik', 'OscarQQ', 'dnakamura', 'mikezhang1234567890', 'manqingl', 'yanluo7'} because they don't exist in the expected developers list\u001b[0m\n",
      "\u001b[32m2024-06-20 13:56:22.157\u001b[0m | \u001b[33m\u001b[1mWARNING \u001b[0m | \u001b[36m__main__\u001b[0m:\u001b[36m_get_historical_contributors\u001b[0m:\u001b[36m236\u001b[0m - \u001b[33m\u001b[1mSkipped users: {'mstoodle', 'irinarada', 'vijaysun-omr'} because they don't exist in the expected developers list\u001b[0m\n",
      "\u001b[32m2024-06-20 13:56:22.242\u001b[0m | \u001b[33m\u001b[1mWARNING \u001b[0m | \u001b[36m__main__\u001b[0m:\u001b[36m_get_historical_contributors\u001b[0m:\u001b[36m236\u001b[0m - \u001b[33m\u001b[1mSkipped users: {'dnakamura', 'DanHeidinga'} because they don't exist in the expected developers list\u001b[0m\n",
      "/tmp/ipykernel_525931/1211419611.py:158: RuntimeWarning: invalid value encountered in divide\n",
      "  return (scores - min_score) / (max_score - min_score)\n"
     ]
    },
    {
     "name": "stdout",
     "output_type": "stream",
     "text": [
      "Issue URL:  https://github.com/eclipse-openj9/openj9/issues/18866\n",
      "Actual owner:  dsouzai\n",
      "Actual component:  comp:vm\n",
      "Issue URL:  https://github.com/eclipse-openj9/openj9/issues/18870\n",
      "Actual owner:  knn-k\n",
      "Actual component:  comp:gc\n",
      "Issue URL:  https://github.com/eclipse-openj9/openj9/issues/18871\n",
      "Actual owner:  mpirvu\n",
      "Actual component:  comp:jit\n"
     ]
    },
    {
     "name": "stderr",
     "output_type": "stream",
     "text": [
      "\u001b[32m2024-06-20 13:56:22.381\u001b[0m | \u001b[33m\u001b[1mWARNING \u001b[0m | \u001b[36m__main__\u001b[0m:\u001b[36m_get_historical_contributors\u001b[0m:\u001b[36m236\u001b[0m - \u001b[33m\u001b[1mSkipped users: {'liqunl', 'DanHeidinga', 'yanluo7', 'R-Santhir', 'vij-singh', 'andrewcraik', 'joransiu', 'zl-wang', 'jdekonin', 'bragaigor', 'fjeremic'} because they don't exist in the expected developers list\u001b[0m\n",
      "\u001b[32m2024-06-20 13:56:22.538\u001b[0m | \u001b[33m\u001b[1mWARNING \u001b[0m | \u001b[36m__main__\u001b[0m:\u001b[36m_get_historical_contributors\u001b[0m:\u001b[36m236\u001b[0m - \u001b[33m\u001b[1mSkipped users: {'liqunl', 'DanHeidinga', 'dmitry-ten', 'andrewcraik', 'vij-singh', 'cathyzhyi', 'mayshukla', 'zl-wang', 'harryyu1994', 'sharon-wang', 'mnalam-p', 'AlexeyKhrabrov', 'OussamaSaoudi', 'fjeremic', 'JamesKingdon'} because they don't exist in the expected developers list\u001b[0m\n"
     ]
    },
    {
     "name": "stdout",
     "output_type": "stream",
     "text": [
      "Issue URL:  https://github.com/eclipse-openj9/openj9/issues/18873\n",
      "Actual owner:  a7ehuo\n",
      "Actual component:  comp:jit\n",
      "Issue URL:  https://github.com/eclipse-openj9/openj9/issues/18874\n",
      "Actual owner:  r30shah\n",
      "Actual component:  comp:jit\n"
     ]
    },
    {
     "name": "stderr",
     "output_type": "stream",
     "text": [
      "\u001b[32m2024-06-20 13:56:22.659\u001b[0m | \u001b[33m\u001b[1mWARNING \u001b[0m | \u001b[36m__main__\u001b[0m:\u001b[36m_get_historical_contributors\u001b[0m:\u001b[36m236\u001b[0m - \u001b[33m\u001b[1mSkipped users: {'liqunl', 'DanHeidinga', 'yanluo7', 'andrewcraik', 'vij-singh', 'joransiu', 'zl-wang', 'bragaigor', 'lumpfish', 'fjeremic'} because they don't exist in the expected developers list\u001b[0m\n",
      "\u001b[32m2024-06-20 13:56:22.767\u001b[0m | \u001b[33m\u001b[1mWARNING \u001b[0m | \u001b[36m__main__\u001b[0m:\u001b[36m_get_historical_contributors\u001b[0m:\u001b[36m236\u001b[0m - \u001b[33m\u001b[1mSkipped users: {'ThanHenderson', 'DanHeidinga', 'fuzzy000', 'alon-sh', 'vij-singh', 'KostasTsiounis', 'sxa', 'OscarQQ', 'joransiu', 'jasonkatonica', 'pdbain-ibm', 'WilburZjh', 'mikezhang1234567890', 'taoliult', 'ben-walsh', 'renfeiw', 'dholmes-ora'} because they don't exist in the expected developers list\u001b[0m\n"
     ]
    },
    {
     "name": "stdout",
     "output_type": "stream",
     "text": [
      "Issue URL:  https://github.com/eclipse-openj9/openj9/issues/18875\n",
      "Actual owner:  llxia\n",
      "Actual component:  comp:test\n",
      "Issue URL:  https://github.com/eclipse-openj9/openj9/issues/18877\n",
      "Actual owner:  pshipton\n",
      "Actual component:  comp:vm\n"
     ]
    },
    {
     "name": "stderr",
     "output_type": "stream",
     "text": [
      "\u001b[32m2024-06-20 13:56:22.876\u001b[0m | \u001b[33m\u001b[1mWARNING \u001b[0m | \u001b[36m__main__\u001b[0m:\u001b[36m_get_historical_contributors\u001b[0m:\u001b[36m236\u001b[0m - \u001b[33m\u001b[1mSkipped users: {'DanHeidinga', 'dmitry-ten', 'andrewcraik', 'EricYangIBM', 'pdbain-ibm', 'OussamaSaoudi', 'ben-walsh', 'renfeiw', 'VermaSh'} because they don't exist in the expected developers list\u001b[0m\n",
      "\u001b[32m2024-06-20 13:56:23.035\u001b[0m | \u001b[33m\u001b[1mWARNING \u001b[0m | \u001b[36m__main__\u001b[0m:\u001b[36m_get_historical_contributors\u001b[0m:\u001b[36m236\u001b[0m - \u001b[33m\u001b[1mSkipped users: {'liqunl', 'DanHeidinga', 'Mesbah-Alam', 'R-Santhir', 'andrewcraik', 'vij-singh', 'github-actions[bot]', 'harryyu1994', 'joransiu', 'AlenBadel', 'dnakamura', 'lumpfish', 'irinarada', 'ben-walsh', 'fjeremic', 'yanluo7'} because they don't exist in the expected developers list\u001b[0m\n"
     ]
    },
    {
     "name": "stdout",
     "output_type": "stream",
     "text": [
      "Issue URL:  https://github.com/eclipse-openj9/openj9/issues/18882\n",
      "Actual owner:  nbhuiyan\n",
      "Actual component:  comp:jit\n",
      "Issue URL:  https://github.com/eclipse-openj9/openj9/issues/18900\n",
      "Actual owner:  pshipton\n",
      "Actual component:  comp:vm\n"
     ]
    },
    {
     "name": "stderr",
     "output_type": "stream",
     "text": [
      "\u001b[32m2024-06-20 13:56:23.146\u001b[0m | \u001b[33m\u001b[1mWARNING \u001b[0m | \u001b[36m__main__\u001b[0m:\u001b[36m_get_historical_contributors\u001b[0m:\u001b[36m236\u001b[0m - \u001b[33m\u001b[1mSkipped users: {'sophia-guo', 'ThanHenderson', 'DanHeidinga', 'Mesbah-Alam', 'EricYangIBM', 'pdbain-ibm', '0dvictor', 'mikezhang1234567890', 'taoliult', 'yanluo7', 'groeges'} because they don't exist in the expected developers list\u001b[0m\n",
      "\u001b[32m2024-06-20 13:56:23.281\u001b[0m | \u001b[33m\u001b[1mWARNING \u001b[0m | \u001b[36m__main__\u001b[0m:\u001b[36m_get_historical_contributors\u001b[0m:\u001b[36m236\u001b[0m - \u001b[33m\u001b[1mSkipped users: {'liqunl', 'DanHeidinga', 'yanluo7', 'andrewcraik', 'vij-singh', 'Mesbah-Alam', 'andrew-m-leonard', 'cathyzhyi', 'ehrenjulzert', 'zl-wang', 'AlenBadel', 'mayshukla', 'pdbain-ibm', 'mnalam-p', 'ben-walsh', 'fjeremic', 'IBMJimmyk'} because they don't exist in the expected developers list\u001b[0m\n"
     ]
    },
    {
     "name": "stdout",
     "output_type": "stream",
     "text": [
      "Issue URL:  https://github.com/eclipse-openj9/openj9/issues/18907\n",
      "Actual owner:  theresa-m\n",
      "Actual component:  comp:vm\n",
      "Issue URL:  https://github.com/eclipse-openj9/openj9/issues/18908\n",
      "Actual owner:  fengxue-IS\n",
      "Actual component:  comp:vm\n"
     ]
    },
    {
     "name": "stderr",
     "output_type": "stream",
     "text": [
      "\u001b[32m2024-06-20 13:56:23.447\u001b[0m | \u001b[33m\u001b[1mWARNING \u001b[0m | \u001b[36m__main__\u001b[0m:\u001b[36m_get_historical_contributors\u001b[0m:\u001b[36m236\u001b[0m - \u001b[33m\u001b[1mSkipped users: {'mstoodle', 'liqunl', 'DanHeidinga', 'Mesbah-Alam', 'vij-singh', 'Spencer-Comin', 'ehrenjulzert', 'zl-wang', 'joransiu', 'mikezhang1234567890', 'mnalam-p', 'fjeremic', 'VermaSh'} because they don't exist in the expected developers list\u001b[0m\n",
      "\u001b[32m2024-06-20 13:56:23.560\u001b[0m | \u001b[33m\u001b[1mWARNING \u001b[0m | \u001b[36m__main__\u001b[0m:\u001b[36m_get_historical_contributors\u001b[0m:\u001b[36m236\u001b[0m - \u001b[33m\u001b[1mSkipped users: {'DanHeidinga', 'lmaisons', 'Mesbah-Alam', 'andrewcraik', 'github-actions[bot]', 'dmitry-ten', 'sxa', 'OscarQQ', 'pdbain-ibm', 'cwillhelm', 'dnakamura', 'jdekonin', 'renfeiw', 'vsebe', 'VermaSh'} because they don't exist in the expected developers list\u001b[0m\n"
     ]
    },
    {
     "name": "stdout",
     "output_type": "stream",
     "text": [
      "Issue URL:  https://github.com/eclipse-openj9/openj9/issues/18909\n",
      "Actual owner:  pshipton\n",
      "Actual component:  comp:vm\n",
      "Issue URL:  https://github.com/eclipse-openj9/openj9/issues/18910\n",
      "Actual owner:  hzongaro\n",
      "Actual component:  comp:jit\n"
     ]
    },
    {
     "name": "stderr",
     "output_type": "stream",
     "text": [
      "\u001b[32m2024-06-20 13:56:23.676\u001b[0m | \u001b[33m\u001b[1mWARNING \u001b[0m | \u001b[36m__main__\u001b[0m:\u001b[36m_get_historical_contributors\u001b[0m:\u001b[36m236\u001b[0m - \u001b[33m\u001b[1mSkipped users: {'liqunl', 'DanHeidinga', 'Mesbah-Alam', 'andrewcraik', 'vij-singh', 'dmitry-ten', 'cathyzhyi', 'dchopra001', 'zl-wang', 'mayshukla', 'harryyu1994', 'jdekonin', 'sharon-wang', 'irinarada', 'AlexeyKhrabrov', 'fjeremic', 'IBMJimmyk'} because they don't exist in the expected developers list\u001b[0m\n",
      "\u001b[32m2024-06-20 13:56:23.850\u001b[0m | \u001b[33m\u001b[1mWARNING \u001b[0m | \u001b[36m__main__\u001b[0m:\u001b[36m_get_historical_contributors\u001b[0m:\u001b[36m236\u001b[0m - \u001b[33m\u001b[1mSkipped users: {'vij-singh', 'Ailloviee', 'joransiu', 'jdekonin', 'DanHeidinga', 'dmitry-ten', '0dvictor', 'vijaysun-omr', 'lumpfish', 'renfeiw', 'Mesbah-Alam', 'dchopra001', 'fjeremic', 'VermaSh', 'andrewcraik', 'Spencer-Comin', 'github-actions[bot]', 'zl-wang', 'mikezhang1234567890'} because they don't exist in the expected developers list\u001b[0m\n"
     ]
    },
    {
     "name": "stdout",
     "output_type": "stream",
     "text": [
      "Issue URL:  https://github.com/eclipse-openj9/openj9/issues/18938\n",
      "Actual owner:  ChengJin01\n",
      "Actual component:  comp:vm\n",
      "Issue URL:  https://github.com/eclipse-openj9/openj9/issues/18939\n",
      "Actual owner:  ChengJin01\n",
      "Actual component:  comp:vm\n"
     ]
    },
    {
     "name": "stderr",
     "output_type": "stream",
     "text": [
      "\u001b[32m2024-06-20 13:56:23.969\u001b[0m | \u001b[33m\u001b[1mWARNING \u001b[0m | \u001b[36m__main__\u001b[0m:\u001b[36m_get_historical_contributors\u001b[0m:\u001b[36m236\u001b[0m - \u001b[33m\u001b[1mSkipped users: {'sophia-guo', 'liqunl', 'DanHeidinga', 'andrewcraik', 'vij-singh', 'andrew-m-leonard', 'mayshukla', 'AlenBadel', 'zl-wang', 'midronij', 'mnalam-p', 'IBMJimmyk', 'karianna'} because they don't exist in the expected developers list\u001b[0m\n",
      "\u001b[32m2024-06-20 13:56:24.074\u001b[0m | \u001b[33m\u001b[1mWARNING \u001b[0m | \u001b[36m__main__\u001b[0m:\u001b[36m_get_historical_contributors\u001b[0m:\u001b[36m236\u001b[0m - \u001b[33m\u001b[1mSkipped users: {'ThanHenderson', 'liqunl', 'DanHeidinga', 'Mesbah-Alam', 'andrewcraik', 'vij-singh', 'andrew-m-leonard', 'R-Santhir', 'dchopra001', 'zl-wang', 'pdbain-ibm', 'fjeremic', 'renfeiw'} because they don't exist in the expected developers list\u001b[0m\n"
     ]
    },
    {
     "name": "stdout",
     "output_type": "stream",
     "text": [
      "Issue URL:  https://github.com/eclipse-openj9/openj9/issues/18940\n",
      "Actual owner:  ChengJin01\n",
      "Actual component:  comp:vm\n",
      "Issue URL:  https://github.com/eclipse-openj9/openj9/issues/18941\n",
      "Actual owner:  ChengJin01\n",
      "Actual component:  comp:vm\n"
     ]
    },
    {
     "name": "stderr",
     "output_type": "stream",
     "text": [
      "\u001b[32m2024-06-20 13:56:24.189\u001b[0m | \u001b[33m\u001b[1mWARNING \u001b[0m | \u001b[36m__main__\u001b[0m:\u001b[36m_get_historical_contributors\u001b[0m:\u001b[36m236\u001b[0m - \u001b[33m\u001b[1mSkipped users: {'liqunl', 'DanHeidinga', 'Mesbah-Alam', 'andrewcraik', 'acrowthe', 'andrew-m-leonard', 'mayshukla', 'zl-wang', 'AlenBadel', 'pdbain-ibm', 'lumpfish', 'rschnitk', 'patkarns', 'IBMJimmyk'} because they don't exist in the expected developers list\u001b[0m\n",
      "\u001b[32m2024-06-20 13:56:24.320\u001b[0m | \u001b[33m\u001b[1mWARNING \u001b[0m | \u001b[36m__main__\u001b[0m:\u001b[36m_get_historical_contributors\u001b[0m:\u001b[36m236\u001b[0m - \u001b[33m\u001b[1mSkipped users: {'liqunl', 'DanHeidinga', 'Mesbah-Alam', 'R-Santhir', 'vij-singh', 'andrewcraik', 'ehrenjulzert', 'EricYangIBM', 'zl-wang', 'fjeremic', 'yanluo7'} because they don't exist in the expected developers list\u001b[0m\n"
     ]
    },
    {
     "name": "stdout",
     "output_type": "stream",
     "text": [
      "Issue URL:  https://github.com/eclipse-openj9/openj9/issues/18942\n",
      "Actual owner:  ChengJin01\n",
      "Actual component:  comp:vm\n",
      "Issue URL:  https://github.com/eclipse-openj9/openj9/issues/18943\n",
      "Actual owner:  ChengJin01\n",
      "Actual component:  comp:vm\n"
     ]
    },
    {
     "name": "stderr",
     "output_type": "stream",
     "text": [
      "\u001b[32m2024-06-20 13:56:24.454\u001b[0m | \u001b[33m\u001b[1mWARNING \u001b[0m | \u001b[36m__main__\u001b[0m:\u001b[36m_get_historical_contributors\u001b[0m:\u001b[36m236\u001b[0m - \u001b[33m\u001b[1mSkipped users: {'liqunl', 'DanHeidinga', 'R-Santhir', 'vij-singh', 'andrewcraik', 'andrew-m-leonard', 'mayshukla', 'cathyzhyi', 'zl-wang', 'AlenBadel', 'joransiu', 'lumpfish', 'mnalam-p', 'fjeremic', 'yanluo7', 'IBMJimmyk'} because they don't exist in the expected developers list\u001b[0m\n",
      "\u001b[32m2024-06-20 13:56:24.583\u001b[0m | \u001b[33m\u001b[1mWARNING \u001b[0m | \u001b[36m__main__\u001b[0m:\u001b[36m_get_historical_contributors\u001b[0m:\u001b[36m236\u001b[0m - \u001b[33m\u001b[1mSkipped users: {'liqunl', 'DanHeidinga', 'yanluo7', 'R-Santhir', 'vij-singh', 'andrewcraik', 'Spencer-Comin', 'joransiu', 'zl-wang', 'bragaigor', 'mikezhang1234567890', 'OussamaSaoudi', 'fjeremic'} because they don't exist in the expected developers list\u001b[0m\n"
     ]
    },
    {
     "name": "stdout",
     "output_type": "stream",
     "text": [
      "Issue URL:  https://github.com/eclipse-openj9/openj9/issues/18953\n",
      "Actual owner:  dsouzai\n",
      "Actual component:  comp:jit\n",
      "Issue URL:  https://github.com/eclipse-openj9/openj9/issues/18957\n",
      "Actual owner:  cjjdespres\n",
      "Actual component:  comp:jitserver\n"
     ]
    },
    {
     "name": "stderr",
     "output_type": "stream",
     "text": [
      "\u001b[32m2024-06-20 13:56:24.759\u001b[0m | \u001b[33m\u001b[1mWARNING \u001b[0m | \u001b[36m__main__\u001b[0m:\u001b[36m_get_historical_contributors\u001b[0m:\u001b[36m236\u001b[0m - \u001b[33m\u001b[1mSkipped users: {'sophia-guo', 'liqunl', 'DanHeidinga', 'dmitry-ten', 'andrewcraik', 'R-Santhir', 'cathyzhyi', 'dchopra001', 'AlenBadel', 'harryyu1994', 'jdekonin', 'irinarada', 'AlexeyKhrabrov', 'fjeremic', 'ashu-mehra', 'karianna'} because they don't exist in the expected developers list\u001b[0m\n",
      "\u001b[32m2024-06-20 13:56:24.867\u001b[0m | \u001b[33m\u001b[1mWARNING \u001b[0m | \u001b[36m__main__\u001b[0m:\u001b[36m_get_historical_contributors\u001b[0m:\u001b[36m236\u001b[0m - \u001b[33m\u001b[1mSkipped users: {'DanHeidinga', 'andrewcraik', 'EricYangIBM', 'AlenBadel', 'pdbain-ibm', 'ben-walsh', 'terryzuoty', 'renfeiw', 'JamesKingdon'} because they don't exist in the expected developers list\u001b[0m\n"
     ]
    },
    {
     "name": "stdout",
     "output_type": "stream",
     "text": [
      "Issue URL:  https://github.com/eclipse-openj9/openj9/issues/18961\n",
      "Actual owner:  fengxue-IS\n",
      "Actual component:  comp:vm\n",
      "Issue URL:  https://github.com/eclipse-openj9/openj9/issues/18974\n",
      "Actual owner:  pshipton\n",
      "Actual component:  comp:jit\n"
     ]
    },
    {
     "name": "stderr",
     "output_type": "stream",
     "text": [
      "\u001b[32m2024-06-20 13:56:24.990\u001b[0m | \u001b[33m\u001b[1mWARNING \u001b[0m | \u001b[36m__main__\u001b[0m:\u001b[36m_get_historical_contributors\u001b[0m:\u001b[36m236\u001b[0m - \u001b[33m\u001b[1mSkipped users: {'sophia-guo', 'liqunl', 'DanHeidinga', 'dmitry-ten', 'vij-singh', 'Ailloviee', 'harryyu1994', 'dchopra001', 'AlenBadel', 'sxa', 'VermaSh', 'irinarada', 'lumpfish', 'AlexeyKhrabrov', 'fjeremic', 'takiguc'} because they don't exist in the expected developers list\u001b[0m\n",
      "\u001b[32m2024-06-20 13:56:25.112\u001b[0m | \u001b[33m\u001b[1mWARNING \u001b[0m | \u001b[36m__main__\u001b[0m:\u001b[36m_get_historical_contributors\u001b[0m:\u001b[36m236\u001b[0m - \u001b[33m\u001b[1mSkipped users: {'liqunl', 'DanHeidinga', 'Mesbah-Alam', 'M-Davies', 'vij-singh', 'andrew-m-leonard', 'andrewcraik', 'dmitry-ten', 'Ailloviee', 'dnakamura', 'lumpfish', 'alexey-anufriev', 'IBMJimmyk'} because they don't exist in the expected developers list\u001b[0m\n"
     ]
    },
    {
     "name": "stdout",
     "output_type": "stream",
     "text": [
      "Issue URL:  https://github.com/eclipse-openj9/openj9/issues/18975\n",
      "Actual owner:  tajila\n",
      "Actual component:  comp:vm\n",
      "Issue URL:  https://github.com/eclipse-openj9/openj9/issues/18979\n",
      "Actual owner:  hzongaro\n",
      "Actual component:  comp:jit\n"
     ]
    },
    {
     "name": "stderr",
     "output_type": "stream",
     "text": [
      "\u001b[32m2024-06-20 13:56:25.246\u001b[0m | \u001b[33m\u001b[1mWARNING \u001b[0m | \u001b[36m__main__\u001b[0m:\u001b[36m_get_historical_contributors\u001b[0m:\u001b[36m236\u001b[0m - \u001b[33m\u001b[1mSkipped users: {'liqunl', 'DanHeidinga', 'R-Santhir', 'andrewcraik', 'vij-singh', 'zl-wang', 'joransiu', 'lumpfish', 'fjeremic', 'yanluo7'} because they don't exist in the expected developers list\u001b[0m\n",
      "\u001b[32m2024-06-20 13:56:25.339\u001b[0m | \u001b[33m\u001b[1mWARNING \u001b[0m | \u001b[36m__main__\u001b[0m:\u001b[36m_get_historical_contributors\u001b[0m:\u001b[36m236\u001b[0m - \u001b[33m\u001b[1mSkipped users: {'DanHeidinga', 'dmitry-ten', 'andrewcraik', 'github-actions[bot]', 'OscarQQ', 'fjeremic', 'renfeiw'} because they don't exist in the expected developers list\u001b[0m\n"
     ]
    },
    {
     "name": "stdout",
     "output_type": "stream",
     "text": [
      "Issue URL:  https://github.com/eclipse-openj9/openj9/issues/18980\n",
      "Actual owner:  JasonFengJ9\n",
      "Actual component:  comp:crypto\n",
      "Issue URL:  https://github.com/eclipse-openj9/openj9/issues/18987\n",
      "Actual owner:  JasonFengJ9\n",
      "Actual component:  comp:jclextensions\n"
     ]
    },
    {
     "name": "stderr",
     "output_type": "stream",
     "text": [
      "\u001b[32m2024-06-20 13:56:25.498\u001b[0m | \u001b[33m\u001b[1mWARNING \u001b[0m | \u001b[36m__main__\u001b[0m:\u001b[36m_get_historical_contributors\u001b[0m:\u001b[36m236\u001b[0m - \u001b[33m\u001b[1mSkipped users: {'SajinaKandy', 'liqunl', 'DanHeidinga', 'M-Davies', 'andrewcraik', 'dmitry-ten', 'andrew-m-leonard', 'AlenBadel', 'lumpfish'} because they don't exist in the expected developers list\u001b[0m\n",
      "\u001b[32m2024-06-20 13:56:25.621\u001b[0m | \u001b[33m\u001b[1mWARNING \u001b[0m | \u001b[36m__main__\u001b[0m:\u001b[36m_get_historical_contributors\u001b[0m:\u001b[36m236\u001b[0m - \u001b[33m\u001b[1mSkipped users: {'mstoodle', 'dmitry-ten', 'AlenBadel', 'AlexeyKhrabrov', 'harryyu1994'} because they don't exist in the expected developers list\u001b[0m\n"
     ]
    },
    {
     "name": "stdout",
     "output_type": "stream",
     "text": [
      "Issue URL:  https://github.com/eclipse-openj9/openj9/issues/18990\n",
      "Actual owner:  cjjdespres\n",
      "Actual component:  comp:jitserver\n",
      "Issue URL:  https://github.com/eclipse-openj9/openj9/issues/18993\n",
      "Actual owner:  hangshao0\n",
      "Actual component:  comp:vm\n"
     ]
    },
    {
     "name": "stderr",
     "output_type": "stream",
     "text": [
      "\u001b[32m2024-06-20 13:56:25.715\u001b[0m | \u001b[33m\u001b[1mWARNING \u001b[0m | \u001b[36m__main__\u001b[0m:\u001b[36m_get_historical_contributors\u001b[0m:\u001b[36m236\u001b[0m - \u001b[33m\u001b[1mSkipped users: {'acrowthe', 'ehrenjulzert', 'DanHeidinga', 'eric98zhang'} because they don't exist in the expected developers list\u001b[0m\n",
      "\u001b[32m2024-06-20 13:56:25.843\u001b[0m | \u001b[33m\u001b[1mWARNING \u001b[0m | \u001b[36m__main__\u001b[0m:\u001b[36m_get_historical_contributors\u001b[0m:\u001b[36m236\u001b[0m - \u001b[33m\u001b[1mSkipped users: {'sophia-guo', 'SajinaKandy', 'liqunl', 'DanHeidinga', 'andrewcraik', 'cathyzhyi', 'sharon-wang', 'alexey-anufriev', 'harryyu1994', 'ashu-mehra', 'IBMJimmyk'} because they don't exist in the expected developers list\u001b[0m\n"
     ]
    },
    {
     "name": "stdout",
     "output_type": "stream",
     "text": [
      "Issue URL:  https://github.com/eclipse-openj9/openj9/issues/18994\n",
      "Actual owner:  hzongaro\n",
      "Actual component:  comp:infra\n",
      "Issue URL:  https://github.com/eclipse-openj9/openj9/issues/19012\n",
      "Actual owner:  hzongaro\n",
      "Actual component:  comp:jit\n"
     ]
    },
    {
     "name": "stderr",
     "output_type": "stream",
     "text": [
      "\u001b[32m2024-06-20 13:56:25.973\u001b[0m | \u001b[33m\u001b[1mWARNING \u001b[0m | \u001b[36m__main__\u001b[0m:\u001b[36m_get_historical_contributors\u001b[0m:\u001b[36m236\u001b[0m - \u001b[33m\u001b[1mSkipped users: {'markehammons', 'andrewcraik', 'JeffersonYu1', '0dvictor', 'fjeremic', 'connglli', 'JamesKingdon', 'caohaley'} because they don't exist in the expected developers list\u001b[0m\n",
      "\u001b[32m2024-06-20 13:56:26.088\u001b[0m | \u001b[33m\u001b[1mWARNING \u001b[0m | \u001b[36m__main__\u001b[0m:\u001b[36m_get_historical_contributors\u001b[0m:\u001b[36m236\u001b[0m - \u001b[33m\u001b[1mSkipped users: {'liqunl', 'DanHeidinga', 'andrewcraik', 'JeffersonYu1', 'pdbain-ibm', 'AlenBadel', 'lochnagarr', 'fjeremic', 'connglli', 'JamesKingdon', 'caohaley'} because they don't exist in the expected developers list\u001b[0m\n"
     ]
    },
    {
     "name": "stdout",
     "output_type": "stream",
     "text": [
      "Issue URL:  https://github.com/eclipse-openj9/openj9/issues/19013\n",
      "Actual owner:  hzongaro\n",
      "Actual component:  comp:jit\n",
      "Issue URL:  https://github.com/eclipse-openj9/openj9/issues/19014\n",
      "Actual owner:  nbhuiyan\n",
      "Actual component:  comp:jit\n"
     ]
    },
    {
     "name": "stderr",
     "output_type": "stream",
     "text": [
      "\u001b[32m2024-06-20 13:56:26.205\u001b[0m | \u001b[33m\u001b[1mWARNING \u001b[0m | \u001b[36m__main__\u001b[0m:\u001b[36m_get_historical_contributors\u001b[0m:\u001b[36m236\u001b[0m - \u001b[33m\u001b[1mSkipped users: {'DanySK', 'DanHeidinga', 'JeffersonYu1', 'acrowthe', 'paulcheeseman', 'ehrenjulzert', 'dchopra001', 'pdbain-ibm', 'thimo-seitz', 'non-conformances-research', 'fjeremic', 'connglli'} because they don't exist in the expected developers list\u001b[0m\n",
      "\u001b[32m2024-06-20 13:56:26.320\u001b[0m | \u001b[33m\u001b[1mWARNING \u001b[0m | \u001b[36m__main__\u001b[0m:\u001b[36m_get_historical_contributors\u001b[0m:\u001b[36m236\u001b[0m - \u001b[33m\u001b[1mSkipped users: {'fuzzy000', 'edrevo', 'DanySK', 'DanHeidinga', 'lumpfish', 'offerbaruch', 'connglli', 'renfeiw', 'keeganwitt', 'dholmes-ora', 'planetf1', 'fjeremic', 'andrewcraik', 'paulcheeseman', 'lochnagarr', 'sharon-wang', 'JavaTailor', 'manqingl', 'yanluo7', 'mbarbero'} because they don't exist in the expected developers list\u001b[0m\n"
     ]
    },
    {
     "name": "stdout",
     "output_type": "stream",
     "text": [
      "Issue URL:  https://github.com/eclipse-openj9/openj9/issues/19016\n",
      "Actual owner:  hangshao0\n",
      "Actual component:  comp:vm\n",
      "Issue URL:  https://github.com/eclipse-openj9/openj9/issues/19039\n",
      "Actual owner:  babsingh\n",
      "Actual component:  comp:vm\n"
     ]
    },
    {
     "name": "stderr",
     "output_type": "stream",
     "text": [
      "\u001b[32m2024-06-20 13:56:26.429\u001b[0m | \u001b[33m\u001b[1mWARNING \u001b[0m | \u001b[36m__main__\u001b[0m:\u001b[36m_get_historical_contributors\u001b[0m:\u001b[36m236\u001b[0m - \u001b[33m\u001b[1mSkipped users: {'sophia-guo', 'SajinaKandy', 'DanHeidinga', 'Mesbah-Alam', 'R-Santhir', 'dipak-bagadiya', 'acrowthe', 'ehrenjulzert', 'Yuehan-Lin', 'MarkQingGuo', 'jerboaa', 'bhavanisn', 'karianna'} because they don't exist in the expected developers list\u001b[0m\n",
      "\u001b[32m2024-06-20 13:56:26.517\u001b[0m | \u001b[33m\u001b[1mWARNING \u001b[0m | \u001b[36m__main__\u001b[0m:\u001b[36m_get_historical_contributors\u001b[0m:\u001b[36m236\u001b[0m - \u001b[33m\u001b[1mSkipped users: {'doveye', 'DanHeidinga', 'avermeer', 'SueChaplain', 'pdbain-ibm', 'ashu-mehra', 'pdbain'} because they don't exist in the expected developers list\u001b[0m\n",
      "\u001b[32m2024-06-20 13:56:26.618\u001b[0m | \u001b[33m\u001b[1mWARNING \u001b[0m | \u001b[36m__main__\u001b[0m:\u001b[36m_get_historical_contributors\u001b[0m:\u001b[36m236\u001b[0m - \u001b[33m\u001b[1mSkipped users: {'DanHeidinga', 'Ailloviee', 'zl-wang', 'jdekonin', 'dnakamura', 'fjeremic', 'IBMJimmyk'} because they don't exist in the expected developers list\u001b[0m\n"
     ]
    },
    {
     "name": "stdout",
     "output_type": "stream",
     "text": [
      "Issue URL:  https://github.com/eclipse-openj9/openj9/issues/19045\n",
      "Actual owner:  JasonFengJ9\n",
      "Actual component:  comp:vm\n",
      "Issue URL:  https://github.com/eclipse-openj9/openj9/issues/19049\n",
      "Actual owner:  keithc-ca\n",
      "Actual component:  comp:build\n",
      "Issue URL:  https://github.com/eclipse-openj9/openj9/issues/19060\n",
      "Actual owner:  tajila\n",
      "Actual component:  comp:infra\n"
     ]
    },
    {
     "name": "stderr",
     "output_type": "stream",
     "text": [
      "\u001b[32m2024-06-20 13:56:26.755\u001b[0m | \u001b[33m\u001b[1mWARNING \u001b[0m | \u001b[36m__main__\u001b[0m:\u001b[36m_get_historical_contributors\u001b[0m:\u001b[36m236\u001b[0m - \u001b[33m\u001b[1mSkipped users: {'ThanHenderson', 'SajinaKandy', 'DanHeidinga', 'andrewcraik', 'OscarQQ', '0dvictor', 'jdekonin', 'mikezhang1234567890', 'OussamaSaoudi', 'fjeremic', 'aviansie-ben', 'renfeiw', 'VermaSh'} because they don't exist in the expected developers list\u001b[0m\n",
      "\u001b[32m2024-06-20 13:56:26.880\u001b[0m | \u001b[33m\u001b[1mWARNING \u001b[0m | \u001b[36m__main__\u001b[0m:\u001b[36m_get_historical_contributors\u001b[0m:\u001b[36m236\u001b[0m - \u001b[33m\u001b[1mSkipped users: {'vij-singh', 'EricYangIBM', 'DanHeidinga', 'dmitry-ten', 'deesebas', 'AlenBadel', '0dvictor', 'tmcdermo', 'ashu-mehra', 'dchopra001', 'pdbain-ibm', 'harryyu1994', 'fjeremic', 'vsebe', 'liqunl', 'andrewcraik', 'rmnattas', 'SueChaplain', 'yanluo7'} because they don't exist in the expected developers list\u001b[0m\n"
     ]
    },
    {
     "name": "stdout",
     "output_type": "stream",
     "text": [
      "Issue URL:  https://github.com/eclipse-openj9/openj9/issues/19064\n",
      "Actual owner:  BradleyWood\n",
      "Actual component:  comp:jit\n",
      "Issue URL:  https://github.com/eclipse-openj9/openj9/issues/19078\n",
      "Actual owner:  gita-omr\n",
      "Actual component:  comp:jit\n"
     ]
    },
    {
     "name": "stderr",
     "output_type": "stream",
     "text": [
      "\u001b[32m2024-06-20 13:56:27.037\u001b[0m | \u001b[33m\u001b[1mWARNING \u001b[0m | \u001b[36m__main__\u001b[0m:\u001b[36m_get_historical_contributors\u001b[0m:\u001b[36m236\u001b[0m - \u001b[33m\u001b[1mSkipped users: {'liqunl', 'dmitry-ten', 'vij-singh', 'dipak-bagadiya', 'dchopra001', 'EmanElsaban', 'Leonardo2718'} because they don't exist in the expected developers list\u001b[0m\n",
      "\u001b[32m2024-06-20 13:56:27.181\u001b[0m | \u001b[33m\u001b[1mWARNING \u001b[0m | \u001b[36m__main__\u001b[0m:\u001b[36m_get_historical_contributors\u001b[0m:\u001b[36m236\u001b[0m - \u001b[33m\u001b[1mSkipped users: {'DanHeidinga', 'JeffersonYu1', 'acrowthe', 'ayuan0828', 'dansmithcode', 'tianxiaogu', 'lochnagarr', 'dnakamura', 'Brad0309', 'fjeremic', 'connglli', 'JamesKingdon', 'dholmes-ora'} because they don't exist in the expected developers list\u001b[0m\n"
     ]
    },
    {
     "name": "stdout",
     "output_type": "stream",
     "text": [
      "Issue URL:  https://github.com/eclipse-openj9/openj9/issues/19079\n",
      "Actual owner:  a7ehuo\n",
      "Actual component:  comp:jit\n",
      "Issue URL:  https://github.com/eclipse-openj9/openj9/issues/19083\n",
      "Actual owner:  JasonFengJ9\n",
      "Actual component:  comp:jclextensions\n"
     ]
    },
    {
     "name": "stderr",
     "output_type": "stream",
     "text": [
      "\u001b[32m2024-06-20 13:56:27.362\u001b[0m | \u001b[33m\u001b[1mWARNING \u001b[0m | \u001b[36m__main__\u001b[0m:\u001b[36m_get_historical_contributors\u001b[0m:\u001b[36m236\u001b[0m - \u001b[33m\u001b[1mSkipped users: {'ThanHenderson', 'liqunl', 'DanHeidinga', 'dmitry-ten', 'vij-singh', 'OussamaSaoudi', 'harryyu1994', 'takiguc'} because they don't exist in the expected developers list\u001b[0m\n"
     ]
    },
    {
     "name": "stdout",
     "output_type": "stream",
     "text": [
      "Issue URL:  https://github.com/eclipse-openj9/openj9/issues/19084\n",
      "Actual owner:  a7ehuo\n",
      "Actual component:  comp:jitserver\n"
     ]
    },
    {
     "name": "stderr",
     "output_type": "stream",
     "text": [
      "\u001b[32m2024-06-20 13:56:27.565\u001b[0m | \u001b[33m\u001b[1mWARNING \u001b[0m | \u001b[36m__main__\u001b[0m:\u001b[36m_get_historical_contributors\u001b[0m:\u001b[36m236\u001b[0m - \u001b[33m\u001b[1mSkipped users: {'liqunl', 'DanHeidinga', 'dmitry-ten', 'dchopra001', 'EmanElsaban', 'lumpfish', 'AlexeyKhrabrov', 'fjeremic', 'harryyu1994', 'ashu-mehra', 'IBMJimmyk'} because they don't exist in the expected developers list\u001b[0m\n",
      "\u001b[32m2024-06-20 13:56:27.719\u001b[0m | \u001b[33m\u001b[1mWARNING \u001b[0m | \u001b[36m__main__\u001b[0m:\u001b[36m_get_historical_contributors\u001b[0m:\u001b[36m236\u001b[0m - \u001b[33m\u001b[1mSkipped users: {'liqunl', 'DanHeidinga', 'yanluo7', 'R-Santhir', 'Spencer-Comin', 'vij-singh', 'andrewcraik', 'joransiu', 'zl-wang', 'bragaigor', 'mikezhang1234567890', 'fjeremic'} because they don't exist in the expected developers list\u001b[0m\n"
     ]
    },
    {
     "name": "stdout",
     "output_type": "stream",
     "text": [
      "Issue URL:  https://github.com/eclipse-openj9/openj9/issues/19102\n",
      "Actual owner:  dsouzai\n",
      "Actual component:  comp:jit\n",
      "Issue URL:  https://github.com/eclipse-openj9/openj9/issues/19115\n",
      "Actual owner:  llxia\n",
      "Actual component:  comp:test\n"
     ]
    },
    {
     "name": "stderr",
     "output_type": "stream",
     "text": [
      "\u001b[32m2024-06-20 13:56:27.855\u001b[0m | \u001b[33m\u001b[1mWARNING \u001b[0m | \u001b[36m__main__\u001b[0m:\u001b[36m_get_historical_contributors\u001b[0m:\u001b[36m236\u001b[0m - \u001b[33m\u001b[1mSkipped users: {'liqunl', 'DanHeidinga', 'andrewcraik', 'Spencer-Comin', 'vij-singh', 'harryyu1994', 'EricYangIBM', 'joransiu', '0dvictor', 'mikezhang1234567890', 'OussamaSaoudi', 'alexey-anufriev', 'ashu-mehra', 'fjeremic', 'aviansie-ben', 'IBMJimmyk'} because they don't exist in the expected developers list\u001b[0m\n",
      "\u001b[32m2024-06-20 13:56:27.974\u001b[0m | \u001b[33m\u001b[1mWARNING \u001b[0m | \u001b[36m__main__\u001b[0m:\u001b[36m_get_historical_contributors\u001b[0m:\u001b[36m236\u001b[0m - \u001b[33m\u001b[1mSkipped users: {'vij-singh', 'midronij', 'ThanHenderson', 'DanHeidinga', 'dmitry-ten', 'acrowthe', 'vijaysun-omr', 'rschnitk', 'mnalam-p', 'Mesbah-Alam', 'ehrenjulzert', 'pdbain-ibm', 'gpezzini', 'harryyu1994', 'fjeremic', 'andrewcraik', 'klangman', 'zl-wang', 'jasonkatonica', 'yanluo7'} because they don't exist in the expected developers list\u001b[0m\n"
     ]
    },
    {
     "name": "stdout",
     "output_type": "stream",
     "text": [
      "Issue URL:  https://github.com/eclipse-openj9/openj9/issues/19116\n",
      "Actual owner:  pshipton\n",
      "Actual component:  comp:openssl\n",
      "Issue URL:  https://github.com/eclipse-openj9/openj9/issues/19119\n",
      "Actual owner:  theresa-m\n",
      "Actual component:  comp:vm\n"
     ]
    },
    {
     "name": "stderr",
     "output_type": "stream",
     "text": [
      "\u001b[32m2024-06-20 13:56:28.068\u001b[0m | \u001b[33m\u001b[1mWARNING \u001b[0m | \u001b[36m__main__\u001b[0m:\u001b[36m_get_historical_contributors\u001b[0m:\u001b[36m236\u001b[0m - \u001b[33m\u001b[1mSkipped users: {'DanHeidinga', 'andrewcraik', 'ehrenjulzert', 'JavaTailor', 'manqingl'} because they don't exist in the expected developers list\u001b[0m\n",
      "\u001b[32m2024-06-20 13:56:28.187\u001b[0m | \u001b[33m\u001b[1mWARNING \u001b[0m | \u001b[36m__main__\u001b[0m:\u001b[36m_get_historical_contributors\u001b[0m:\u001b[36m236\u001b[0m - \u001b[33m\u001b[1mSkipped users: {'DanHeidinga', 'Mesbah-Alam', 'dmitry-ten', 'dipak-bagadiya', 'vij-singh', 'andrew-m-leonard', 'dchopra001', 'dnakamura', 'mikezhang1234567890', 'lumpfish', 'harryyu1994'} because they don't exist in the expected developers list\u001b[0m\n"
     ]
    },
    {
     "name": "stdout",
     "output_type": "stream",
     "text": [
      "Issue URL:  https://github.com/eclipse-openj9/openj9/issues/19122\n",
      "Actual owner:  LongyuZhang\n",
      "Actual component:  comp:test\n",
      "Issue URL:  https://github.com/eclipse-openj9/openj9/issues/19124\n",
      "Actual owner:  nbhuiyan\n",
      "Actual component:  comp:jit\n"
     ]
    },
    {
     "name": "stderr",
     "output_type": "stream",
     "text": [
      "\u001b[32m2024-06-20 13:56:28.298\u001b[0m | \u001b[33m\u001b[1mWARNING \u001b[0m | \u001b[36m__main__\u001b[0m:\u001b[36m_get_historical_contributors\u001b[0m:\u001b[36m236\u001b[0m - \u001b[33m\u001b[1mSkipped users: {'DanySK', 'DanHeidinga', 'fuzzy000', 'JeffersonYu1', 'acrowthe', 'paulcheeseman', 'ehrenjulzert', 'dchopra001', 'pdbain-ibm', 'mikezhang1234567890', 'non-conformances-research', 'fjeremic', 'connglli'} because they don't exist in the expected developers list\u001b[0m\n",
      "\u001b[32m2024-06-20 13:56:28.419\u001b[0m | \u001b[33m\u001b[1mWARNING \u001b[0m | \u001b[36m__main__\u001b[0m:\u001b[36m_get_historical_contributors\u001b[0m:\u001b[36m236\u001b[0m - \u001b[33m\u001b[1mSkipped users: {'sophia-guo', 'fuzzy000', 'Brad0309', 'pwagland', 'DanHeidinga', 'jschmied', 'lumpfish', 'ben-walsh', 'dholmes-ora', 'ehrenjulzert', 'dansmithcode', 'fjeremic', 'JamesKingdon', 'liqunl', 'mreuvers', 'dnakamura', 'sharon-wang', 'mikezhang1234567890', 'yanluo7'} because they don't exist in the expected developers list\u001b[0m\n"
     ]
    },
    {
     "name": "stdout",
     "output_type": "stream",
     "text": [
      "Issue URL:  https://github.com/eclipse-openj9/openj9/issues/19125\n",
      "Actual owner:  ChengJin01\n",
      "Actual component:  comp:vm\n",
      "Issue URL:  https://github.com/eclipse-openj9/openj9/issues/19129\n",
      "Actual owner:  theresa-m\n",
      "Actual component:  comp:vm\n"
     ]
    },
    {
     "name": "stderr",
     "output_type": "stream",
     "text": [
      "\u001b[32m2024-06-20 13:56:28.543\u001b[0m | \u001b[33m\u001b[1mWARNING \u001b[0m | \u001b[36m__main__\u001b[0m:\u001b[36m_get_historical_contributors\u001b[0m:\u001b[36m236\u001b[0m - \u001b[33m\u001b[1mSkipped users: {'DanHeidinga', 'fuzzy000', 'andrewcraik', 'ehrenjulzert', 'dansmithcode', 'edrevo', 'psoujany', 'dnakamura', 'sharon-wang', 'Brad0309', 'yanluo7', 'connglli', 'JamesKingdon', 'dholmes-ora'} because they don't exist in the expected developers list\u001b[0m\n",
      "\u001b[32m2024-06-20 13:56:28.656\u001b[0m | \u001b[33m\u001b[1mWARNING \u001b[0m | \u001b[36m__main__\u001b[0m:\u001b[36m_get_historical_contributors\u001b[0m:\u001b[36m236\u001b[0m - \u001b[33m\u001b[1mSkipped users: {'DanHeidinga', 'JeffersonYu1', 'tianxiaogu', 'lochnagarr', 'dnakamura', 'fjeremic', 'connglli', 'JamesKingdon', 'ayuan0828'} because they don't exist in the expected developers list\u001b[0m\n"
     ]
    },
    {
     "name": "stdout",
     "output_type": "stream",
     "text": [
      "Issue URL:  https://github.com/eclipse-openj9/openj9/issues/19131\n",
      "Actual owner:  BradleyWood\n",
      "Actual component:  comp:jit\n",
      "Issue URL:  https://github.com/eclipse-openj9/openj9/issues/19132\n",
      "Actual owner:  theresa-m\n",
      "Actual component:  comp:vm\n"
     ]
    },
    {
     "name": "stderr",
     "output_type": "stream",
     "text": [
      "\u001b[32m2024-06-20 13:56:28.782\u001b[0m | \u001b[33m\u001b[1mWARNING \u001b[0m | \u001b[36m__main__\u001b[0m:\u001b[36m_get_historical_contributors\u001b[0m:\u001b[36m236\u001b[0m - \u001b[33m\u001b[1mSkipped users: {'sophia-guo', 'Brad0309', 'CptGit', 'DanySK', 'DanHeidinga', 'JeffersonYu1', 'vijaysun-omr', 'lumpfish', 'ben-walsh', 'connglli', 'dholmes-ora', 'igordmn', 'dansmithcode', 'dchopra001', 'charliegracie', 'fjeremic', 'VermaSh', 'liqunl', 'SajinaKandy', 'andrewcraik', 'SueChaplain', 'paulcheeseman', 'mikezhang1234567890', 'edrevo'} because they don't exist in the expected developers list\u001b[0m\n",
      "\u001b[32m2024-06-20 13:56:28.897\u001b[0m | \u001b[33m\u001b[1mWARNING \u001b[0m | \u001b[36m__main__\u001b[0m:\u001b[36m_get_historical_contributors\u001b[0m:\u001b[36m236\u001b[0m - \u001b[33m\u001b[1mSkipped users: {'DanySK', 'DanHeidinga', 'JeffersonYu1', 'Spencer-Comin', 'paulcheeseman', 'ehrenjulzert', 'EricYangIBM', 'zl-wang', 'dchopra001', 'thimo-seitz', 'fjeremic', 'connglli'} because they don't exist in the expected developers list\u001b[0m\n"
     ]
    },
    {
     "name": "stdout",
     "output_type": "stream",
     "text": [
      "Issue URL:  https://github.com/eclipse-openj9/openj9/issues/19139\n",
      "Actual owner:  nbhuiyan\n",
      "Actual component:  comp:jit\n",
      "Issue URL:  https://github.com/eclipse-openj9/openj9/issues/19144\n",
      "Actual owner:  JasonFengJ9\n",
      "Actual component:  comp:vm\n"
     ]
    },
    {
     "name": "stderr",
     "output_type": "stream",
     "text": [
      "\u001b[32m2024-06-20 13:56:29.002\u001b[0m | \u001b[33m\u001b[1mWARNING \u001b[0m | \u001b[36m__main__\u001b[0m:\u001b[36m_get_historical_contributors\u001b[0m:\u001b[36m236\u001b[0m - \u001b[33m\u001b[1mSkipped users: {'DanHeidinga', 'andrewcraik', 'eric98zhang', 'acrowthe', 'ehrenjulzert', 'EricYangIBM', 'midronij'} because they don't exist in the expected developers list\u001b[0m\n"
     ]
    },
    {
     "name": "stdout",
     "output_type": "stream",
     "text": [
      "Issue URL:  https://github.com/eclipse-openj9/openj9/issues/19148\n",
      "Actual owner:  hzongaro\n",
      "Actual component:  comp:jit\n",
      "Issue URL:  https://github.com/eclipse-openj9/openj9/issues/19151\n",
      "Actual owner:  mpirvu\n",
      "Actual component:  comp:jitserver\n"
     ]
    },
    {
     "name": "stderr",
     "output_type": "stream",
     "text": [
      "\u001b[32m2024-06-20 13:56:29.207\u001b[0m | \u001b[33m\u001b[1mWARNING \u001b[0m | \u001b[36m__main__\u001b[0m:\u001b[36m_get_historical_contributors\u001b[0m:\u001b[36m236\u001b[0m - \u001b[33m\u001b[1mSkipped users: {'liqunl', 'DanHeidinga', 'dmitry-ten', 'XxAdi101xX', 'EmanElsaban', 'mikezhang1234567890', 'AlexeyKhrabrov', 'chandrams', 'fjeremic', 'harryyu1994', 'ashu-mehra'} because they don't exist in the expected developers list\u001b[0m\n",
      "\u001b[32m2024-06-20 13:56:29.314\u001b[0m | \u001b[33m\u001b[1mWARNING \u001b[0m | \u001b[36m__main__\u001b[0m:\u001b[36m_get_historical_contributors\u001b[0m:\u001b[36m236\u001b[0m - \u001b[33m\u001b[1mSkipped users: {'liqunl', 'DanHeidinga', 'andrewcraik', 'vij-singh', 'piyush286', 'vijaysun-omr'} because they don't exist in the expected developers list\u001b[0m\n",
      "\u001b[32m2024-06-20 13:56:29.397\u001b[0m | \u001b[33m\u001b[1mWARNING \u001b[0m | \u001b[36m__main__\u001b[0m:\u001b[36m_get_historical_contributors\u001b[0m:\u001b[36m236\u001b[0m - \u001b[33m\u001b[1mSkipped users: {'liqunl', 'andrewcraik', 'vijaysun-omr'} because they don't exist in the expected developers list\u001b[0m\n"
     ]
    },
    {
     "name": "stdout",
     "output_type": "stream",
     "text": [
      "Issue URL:  https://github.com/eclipse-openj9/openj9/issues/19152\n",
      "Actual owner:  jdmpapin\n",
      "Actual component:  comp:vm\n",
      "Issue URL:  https://github.com/eclipse-openj9/openj9/issues/19153\n",
      "Actual owner:  jdmpapin\n",
      "Actual component:  comp:vm\n",
      "Issue URL:  https://github.com/eclipse-openj9/openj9/issues/19161\n",
      "Actual owner:  babsingh\n",
      "Actual component:  comp:vm\n"
     ]
    },
    {
     "name": "stderr",
     "output_type": "stream",
     "text": [
      "\u001b[32m2024-06-20 13:56:29.565\u001b[0m | \u001b[33m\u001b[1mWARNING \u001b[0m | \u001b[36m__main__\u001b[0m:\u001b[36m_get_historical_contributors\u001b[0m:\u001b[36m236\u001b[0m - \u001b[33m\u001b[1mSkipped users: {'liqunl', 'DanHeidinga', 'andrewcraik', 'cathyzhyi', 'AlenBadel', 'jdekonin', 'irinarada', 'alexey-anufriev', 'fjeremic', 'harryyu1994', 'ashu-mehra', 'IBMJimmyk'} because they don't exist in the expected developers list\u001b[0m\n",
      "\u001b[32m2024-06-20 13:56:29.744\u001b[0m | \u001b[33m\u001b[1mWARNING \u001b[0m | \u001b[36m__main__\u001b[0m:\u001b[36m_get_historical_contributors\u001b[0m:\u001b[36m236\u001b[0m - \u001b[33m\u001b[1mSkipped users: {'fuzzy000', 'trabetti-hcl', 'joransiu', 'quijote', 'iankko', 'DanHeidinga', 'dmitry-ten', 'zjingjbj', 'dale-fu', 'acrowthe', 'gleromsourd', 'tianxiaogu', 'vijaysun-omr', 'connglli', 'tellison', 'gpezzini', 'fjeremic', 'mdafsanhossain', 'VermaSh', 'MNeuling', 'liqunl', 'klangman', 'andrewcraik', 'a0304', 'levivic', 'dnakamura', 'douglaspalmer'} because they don't exist in the expected developers list\u001b[0m\n"
     ]
    },
    {
     "name": "stdout",
     "output_type": "stream",
     "text": [
      "Issue URL:  https://github.com/eclipse-openj9/openj9/issues/19163\n",
      "Actual owner:  JasonFengJ9\n",
      "Actual component:  comp:vm\n",
      "Issue URL:  https://github.com/eclipse-openj9/openj9/issues/19164\n",
      "Actual owner:  smlambert\n",
      "Actual component:  comp:test\n"
     ]
    },
    {
     "name": "stderr",
     "output_type": "stream",
     "text": [
      "\u001b[32m2024-06-20 13:56:29.912\u001b[0m | \u001b[33m\u001b[1mWARNING \u001b[0m | \u001b[36m__main__\u001b[0m:\u001b[36m_get_historical_contributors\u001b[0m:\u001b[36m236\u001b[0m - \u001b[33m\u001b[1mSkipped users: {'liqunl', 'DanHeidinga', 'Mesbah-Alam', 'andrewcraik', 'alon-sh', 'vij-singh', 'cwillhelm', 'OscarQQ', 'zl-wang', 'AlenBadel', 'dchopra001', 'dnakamura', 'jdekonin', 'irinarada', 'zzambers', 'fjeremic', 'renfeiw', 'IBMJimmyk'} because they don't exist in the expected developers list\u001b[0m\n",
      "\u001b[32m2024-06-20 13:56:30.054\u001b[0m | \u001b[33m\u001b[1mWARNING \u001b[0m | \u001b[36m__main__\u001b[0m:\u001b[36m_get_historical_contributors\u001b[0m:\u001b[36m236\u001b[0m - \u001b[33m\u001b[1mSkipped users: {'DanHeidinga', 'Mesbah-Alam', 'andrewcraik', 'pdbain-ibm', 'ben-walsh', 'fjeremic', 'renfeiw'} because they don't exist in the expected developers list\u001b[0m\n"
     ]
    },
    {
     "name": "stdout",
     "output_type": "stream",
     "text": [
      "Issue URL:  https://github.com/eclipse-openj9/openj9/issues/19165\n",
      "Actual owner:  JasonFengJ9\n",
      "Actual component:  comp:test\n",
      "Issue URL:  https://github.com/eclipse-openj9/openj9/issues/19176\n",
      "Actual owner:  llxia\n",
      "Actual component:  comp:test\n"
     ]
    },
    {
     "name": "stderr",
     "output_type": "stream",
     "text": [
      "\u001b[32m2024-06-20 13:56:30.172\u001b[0m | \u001b[33m\u001b[1mWARNING \u001b[0m | \u001b[36m__main__\u001b[0m:\u001b[36m_get_historical_contributors\u001b[0m:\u001b[36m236\u001b[0m - \u001b[33m\u001b[1mSkipped users: {'M-Davies', 'andrewcraik', 'vij-singh', '1a2s3d4f1', 'psoohoo-turbonomic', 'sxa', 'EricYangIBM', 'zl-wang', 'joransiu', 'vijaysun-omr', 'jdekonin', 'lumpfish'} because they don't exist in the expected developers list\u001b[0m\n",
      "\u001b[32m2024-06-20 13:56:30.332\u001b[0m | \u001b[33m\u001b[1mWARNING \u001b[0m | \u001b[36m__main__\u001b[0m:\u001b[36m_get_historical_contributors\u001b[0m:\u001b[36m236\u001b[0m - \u001b[33m\u001b[1mSkipped users: {'DanHeidinga', 'dmitry-ten', 'Spencer-Comin', 'dchopra001', 'zl-wang', 'EmanElsaban', 'mnalam-p'} because they don't exist in the expected developers list\u001b[0m\n"
     ]
    },
    {
     "name": "stdout",
     "output_type": "stream",
     "text": [
      "Issue URL:  https://github.com/eclipse-openj9/openj9/issues/19189\n",
      "Actual owner:  nbhuiyan\n",
      "Actual component:  comp:jit\n",
      "Issue URL:  https://github.com/eclipse-openj9/openj9/issues/19197\n",
      "Actual owner:  hzongaro\n",
      "Actual component:  comp:jit\n"
     ]
    },
    {
     "name": "stderr",
     "output_type": "stream",
     "text": [
      "\u001b[32m2024-06-20 13:56:30.477\u001b[0m | \u001b[33m\u001b[1mWARNING \u001b[0m | \u001b[36m__main__\u001b[0m:\u001b[36m_get_historical_contributors\u001b[0m:\u001b[36m236\u001b[0m - \u001b[33m\u001b[1mSkipped users: {'DanHeidinga', 'dmitry-ten', 'mateuszrzeszutek', 'Spencer-Comin', 'vij-singh', 'dchopra001', 'EmanElsaban', 'manqingl', 'connglli'} because they don't exist in the expected developers list\u001b[0m\n",
      "\u001b[32m2024-06-20 13:56:30.597\u001b[0m | \u001b[33m\u001b[1mWARNING \u001b[0m | \u001b[36m__main__\u001b[0m:\u001b[36m_get_historical_contributors\u001b[0m:\u001b[36m236\u001b[0m - \u001b[33m\u001b[1mSkipped users: {'liqunl', 'DanHeidinga', 'dmitry-ten', 'vij-singh', 'Ailloviee', 'EricYangIBM', 'dchopra001', 'harryyu1994'} because they don't exist in the expected developers list\u001b[0m\n"
     ]
    },
    {
     "name": "stdout",
     "output_type": "stream",
     "text": [
      "Issue URL:  https://github.com/eclipse-openj9/openj9/issues/19200\n",
      "Actual owner:  llxia\n",
      "Actual component:  comp:fips\n",
      "Issue URL:  https://github.com/eclipse-openj9/openj9/issues/19201\n",
      "Actual owner:  theresa-m\n",
      "Actual component:  comp:vm\n"
     ]
    },
    {
     "name": "stderr",
     "output_type": "stream",
     "text": [
      "\u001b[32m2024-06-20 13:56:30.683\u001b[0m | \u001b[33m\u001b[1mWARNING \u001b[0m | \u001b[36m__main__\u001b[0m:\u001b[36m_get_historical_contributors\u001b[0m:\u001b[36m236\u001b[0m - \u001b[33m\u001b[1mSkipped users: {'DanHeidinga', 'pdbain-ibm'} because they don't exist in the expected developers list\u001b[0m\n",
      "\u001b[32m2024-06-20 13:56:30.801\u001b[0m | \u001b[33m\u001b[1mWARNING \u001b[0m | \u001b[36m__main__\u001b[0m:\u001b[36m_get_historical_contributors\u001b[0m:\u001b[36m236\u001b[0m - \u001b[33m\u001b[1mSkipped users: {'sophia-guo', 'SajinaKandy', 'dipak-bagadiya', 'bhavanisn', 'karianna'} because they don't exist in the expected developers list\u001b[0m\n"
     ]
    },
    {
     "name": "stdout",
     "output_type": "stream",
     "text": [
      "Issue URL:  https://github.com/eclipse-openj9/openj9/issues/19203\n",
      "Actual owner:  babsingh\n",
      "Actual component:  comp:test\n",
      "Issue URL:  https://github.com/eclipse-openj9/openj9/issues/19205\n",
      "Actual owner:  JasonFengJ9\n",
      "Actual component:  comp:fips\n"
     ]
    },
    {
     "name": "stderr",
     "output_type": "stream",
     "text": [
      "\u001b[32m2024-06-20 13:56:30.919\u001b[0m | \u001b[33m\u001b[1mWARNING \u001b[0m | \u001b[36m__main__\u001b[0m:\u001b[36m_get_historical_contributors\u001b[0m:\u001b[36m236\u001b[0m - \u001b[33m\u001b[1mSkipped users: {'liqunl', 'DanHeidinga', 'dmitry-ten', 'andrewcraik', 'vij-singh', 'cathyzhyi', 'OscarQQ', 'mayshukla', 'alexey-anufriev', 'OussamaSaoudi', 'harryyu1994', 'renfeiw', 'IBMJimmyk'} because they don't exist in the expected developers list\u001b[0m\n",
      "\u001b[32m2024-06-20 13:56:31.020\u001b[0m | \u001b[33m\u001b[1mWARNING \u001b[0m | \u001b[36m__main__\u001b[0m:\u001b[36m_get_historical_contributors\u001b[0m:\u001b[36m236\u001b[0m - \u001b[33m\u001b[1mSkipped users: {'andrew-m-leonard', 'sharon-wang', 'DanHeidinga', 'Mesbah-Alam'} because they don't exist in the expected developers list\u001b[0m\n"
     ]
    },
    {
     "name": "stdout",
     "output_type": "stream",
     "text": [
      "Issue URL:  https://github.com/eclipse-openj9/openj9/issues/19208\n",
      "Actual owner:  JasonFengJ9\n",
      "Actual component:  comp:vm\n",
      "Issue URL:  https://github.com/eclipse-openj9/openj9/issues/19215\n",
      "Actual owner:  keithc-ca\n",
      "Actual component:  comp:ras\n",
      "Issue URL:  https://github.com/eclipse-openj9/openj9/issues/19218\n",
      "Actual owner:  a7ehuo\n",
      "Actual component:  comp:jit\n"
     ]
    },
    {
     "name": "stderr",
     "output_type": "stream",
     "text": [
      "\u001b[32m2024-06-20 13:56:31.212\u001b[0m | \u001b[33m\u001b[1mWARNING \u001b[0m | \u001b[36m__main__\u001b[0m:\u001b[36m_get_historical_contributors\u001b[0m:\u001b[36m236\u001b[0m - \u001b[33m\u001b[1mSkipped users: {'connglli', 'trabetti-hcl', 'Spencer-Comin'} because they don't exist in the expected developers list\u001b[0m\n",
      "\u001b[32m2024-06-20 13:56:31.325\u001b[0m | \u001b[33m\u001b[1mWARNING \u001b[0m | \u001b[36m__main__\u001b[0m:\u001b[36m_get_historical_contributors\u001b[0m:\u001b[36m236\u001b[0m - \u001b[33m\u001b[1mSkipped users: {'JeffersonYu1', 'trabetti-hcl', 'rmnattas', 'connglli', 'JamesKingdon'} because they don't exist in the expected developers list\u001b[0m\n"
     ]
    },
    {
     "name": "stdout",
     "output_type": "stream",
     "text": [
      "Issue URL:  https://github.com/eclipse-openj9/openj9/issues/19220\n",
      "Actual owner:  a7ehuo\n",
      "Actual component:  comp:jit\n",
      "Issue URL:  https://github.com/eclipse-openj9/openj9/issues/19221\n",
      "Actual owner:  knn-k\n",
      "Actual component:  comp:jit\n"
     ]
    },
    {
     "name": "stderr",
     "output_type": "stream",
     "text": [
      "\u001b[32m2024-06-20 13:56:31.438\u001b[0m | \u001b[33m\u001b[1mWARNING \u001b[0m | \u001b[36m__main__\u001b[0m:\u001b[36m_get_historical_contributors\u001b[0m:\u001b[36m236\u001b[0m - \u001b[33m\u001b[1mSkipped users: {'liqunl', 'DanHeidinga', 'Mesbah-Alam', 'andrewcraik', 'qasimy123', 'M-Davies', 'andrew-m-leonard', 'cwillhelm', 'sxa', 'pdbain-ibm', 'cathyzhyi', 'OscarQQ', 'jdekonin', 'dnakamura', 'renfeiw', 'Leonardo2718'} because they don't exist in the expected developers list\u001b[0m\n",
      "\u001b[32m2024-06-20 13:56:31.519\u001b[0m | \u001b[33m\u001b[1mWARNING \u001b[0m | \u001b[36m__main__\u001b[0m:\u001b[36m_get_historical_contributors\u001b[0m:\u001b[36m236\u001b[0m - \u001b[33m\u001b[1mSkipped users: {'fjeremic', 'DanHeidinga'} because they don't exist in the expected developers list\u001b[0m\n",
      "\u001b[32m2024-06-20 13:56:31.633\u001b[0m | \u001b[33m\u001b[1mWARNING \u001b[0m | \u001b[36m__main__\u001b[0m:\u001b[36m_get_historical_contributors\u001b[0m:\u001b[36m236\u001b[0m - \u001b[33m\u001b[1mSkipped users: {'liqunl', 'DanHeidinga', 'Mesbah-Alam', 'andrewcraik', 'vij-singh', 'andrew-m-leonard', 'M-Davies', 'cathyzhyi', 'dchopra001', 'zl-wang', 'sxa', 'irinarada', 'lumpfish', 'fjeremic', 'harryyu1994', 'IBMJimmyk'} because they don't exist in the expected developers list\u001b[0m\n"
     ]
    },
    {
     "name": "stdout",
     "output_type": "stream",
     "text": [
      "Issue URL:  https://github.com/eclipse-openj9/openj9/issues/19231\n",
      "Actual owner:  llxia\n",
      "Actual component:  comp:test\n",
      "Issue URL:  https://github.com/eclipse-openj9/openj9/issues/19237\n",
      "Actual owner:  LinHu2016\n",
      "Actual component:  comp:gc\n",
      "Issue URL:  https://github.com/eclipse-openj9/openj9/issues/19246\n",
      "Actual owner:  pshipton\n",
      "Actual component:  comp:gc\n"
     ]
    },
    {
     "name": "stderr",
     "output_type": "stream",
     "text": [
      "\u001b[32m2024-06-20 13:56:31.751\u001b[0m | \u001b[33m\u001b[1mWARNING \u001b[0m | \u001b[36m__main__\u001b[0m:\u001b[36m_get_historical_contributors\u001b[0m:\u001b[36m236\u001b[0m - \u001b[33m\u001b[1mSkipped users: {'DanHeidinga', 'Mesbah-Alam', 'jabrena', 'vij-singh', 'dipak-bagadiya', 'M-Davies', 'andrewcraik', 'dchopra001', 'AlenBadel', 'dnakamura', 'jdekonin', 'lumpfish', 'annaibm', 'dholmes-ora'} because they don't exist in the expected developers list\u001b[0m\n",
      "\u001b[32m2024-06-20 13:56:31.873\u001b[0m | \u001b[33m\u001b[1mWARNING \u001b[0m | \u001b[36m__main__\u001b[0m:\u001b[36m_get_historical_contributors\u001b[0m:\u001b[36m236\u001b[0m - \u001b[33m\u001b[1mSkipped users: {'vij-singh', 'joransiu', 'jdekonin', 'irinarada', 'IBMJimmyk', 'DanHeidinga', 'dmitry-ten', 'Mesbah-Alam', 'andrew-m-leonard', 'ehrenjulzert', 'harryyu1994', 'fjeremic', 'VermaSh', 'Leonardo2718', 'liqunl', 'andrewcraik', 'klangman', 'zl-wang', 'mikezhang1234567890'} because they don't exist in the expected developers list\u001b[0m\n"
     ]
    },
    {
     "name": "stdout",
     "output_type": "stream",
     "text": [
      "Issue URL:  https://github.com/eclipse-openj9/openj9/issues/19249\n",
      "Actual owner:  BradleyWood\n",
      "Actual component:  comp:jit\n",
      "Issue URL:  https://github.com/eclipse-openj9/openj9/issues/19273\n",
      "Actual owner:  pshipton\n",
      "Actual component:  comp:vm\n"
     ]
    },
    {
     "name": "stderr",
     "output_type": "stream",
     "text": [
      "\u001b[32m2024-06-20 13:56:31.972\u001b[0m | \u001b[33m\u001b[1mWARNING \u001b[0m | \u001b[36m__main__\u001b[0m:\u001b[36m_get_historical_contributors\u001b[0m:\u001b[36m236\u001b[0m - \u001b[33m\u001b[1mSkipped users: {'DanHeidinga', 'andrewcraik', 'PascalSchumacher', 'dchopra001', 'sharon-wang', 'mikezhang1234567890', 'NigelYiboYu', 'fjeremic', 'VermaSh'} because they don't exist in the expected developers list\u001b[0m\n",
      "\u001b[32m2024-06-20 13:56:32.145\u001b[0m | \u001b[33m\u001b[1mWARNING \u001b[0m | \u001b[36m__main__\u001b[0m:\u001b[36m_get_historical_contributors\u001b[0m:\u001b[36m236\u001b[0m - \u001b[33m\u001b[1mSkipped users: {'sophia-guo', 'liqunl', 'DanHeidinga', 'Mesbah-Alam', 'dmitry-ten', 'acrowthe', 'andrew-m-leonard', 'XxAdi101xX', 'harryyu1994', 'EricYangIBM', 'dchopra001', 'jdekonin', 'lumpfish', 'alexey-anufriev', 'fjeremic', 'ashu-mehra', 'IBMJimmyk', 'karianna'} because they don't exist in the expected developers list\u001b[0m\n"
     ]
    },
    {
     "name": "stdout",
     "output_type": "stream",
     "text": [
      "Issue URL:  https://github.com/eclipse-openj9/openj9/issues/19276\n",
      "Actual owner:  pshipton\n",
      "Actual component:  comp:test\n",
      "Issue URL:  https://github.com/eclipse-openj9/openj9/issues/19300\n",
      "Actual owner:  babsingh\n",
      "Actual component:  comp:vm\n"
     ]
    },
    {
     "name": "stderr",
     "output_type": "stream",
     "text": [
      "\u001b[32m2024-06-20 13:56:32.330\u001b[0m | \u001b[33m\u001b[1mWARNING \u001b[0m | \u001b[36m__main__\u001b[0m:\u001b[36m_get_historical_contributors\u001b[0m:\u001b[36m236\u001b[0m - \u001b[33m\u001b[1mSkipped users: {'sophia-guo', 'liqunl', 'DanHeidinga', 'Mesbah-Alam', 'andrewcraik', 'vij-singh', 'andrew-m-leonard', 'Spencer-Comin', 'R-Santhir', 'mayshukla', 'yanluo7', 'zl-wang', 'AlenBadel', 'lumpfish', 'mnalam-p', 'IBMJimmyk'} because they don't exist in the expected developers list\u001b[0m\n",
      "\u001b[32m2024-06-20 13:56:32.503\u001b[0m | \u001b[33m\u001b[1mWARNING \u001b[0m | \u001b[36m__main__\u001b[0m:\u001b[36m_get_historical_contributors\u001b[0m:\u001b[36m236\u001b[0m - \u001b[33m\u001b[1mSkipped users: {'liqunl', 'DanHeidinga', 'Mesbah-Alam', 'dmitry-ten', 'vij-singh', 'github-actions[bot]', 'pelemie', 'OscarQQ', 'Ailloviee', 'Yuehan-Lin', 'renfeiw'} because they don't exist in the expected developers list\u001b[0m\n"
     ]
    },
    {
     "name": "stdout",
     "output_type": "stream",
     "text": [
      "Issue URL:  https://github.com/eclipse-openj9/openj9/issues/19301\n",
      "Actual owner:  babsingh\n",
      "Actual component:  comp:vm\n",
      "Issue URL:  https://github.com/eclipse-openj9/openj9/issues/19303\n",
      "Actual owner:  pshipton\n",
      "Actual component:  comp:vm\n"
     ]
    },
    {
     "name": "stderr",
     "output_type": "stream",
     "text": [
      "\u001b[32m2024-06-20 13:56:32.643\u001b[0m | \u001b[33m\u001b[1mWARNING \u001b[0m | \u001b[36m__main__\u001b[0m:\u001b[36m_get_historical_contributors\u001b[0m:\u001b[36m236\u001b[0m - \u001b[33m\u001b[1mSkipped users: {'sophia-guo', 'liqunl', 'DanHeidinga', 'Mesbah-Alam', 'andrewcraik', 'PascalSchumacher', 'cathyzhyi', 'dchopra001', 'mikezhang1234567890', 'lumpfish', 'fjeremic', 'karianna'} because they don't exist in the expected developers list\u001b[0m\n",
      "\u001b[32m2024-06-20 13:56:32.795\u001b[0m | \u001b[33m\u001b[1mWARNING \u001b[0m | \u001b[36m__main__\u001b[0m:\u001b[36m_get_historical_contributors\u001b[0m:\u001b[36m236\u001b[0m - \u001b[33m\u001b[1mSkipped users: {'DanHeidinga', 'Mesbah-Alam', 'Spencer-Comin', 'dchopra001', 'ben-walsh', 'renfeiw'} because they don't exist in the expected developers list\u001b[0m\n"
     ]
    },
    {
     "name": "stdout",
     "output_type": "stream",
     "text": [
      "Issue URL:  https://github.com/eclipse-openj9/openj9/issues/19304\n",
      "Actual owner:  babsingh\n",
      "Actual component:  comp:vm\n",
      "Issue URL:  https://github.com/eclipse-openj9/openj9/issues/19308\n",
      "Actual owner:  hangshao0\n",
      "Actual component:  comp:vm\n"
     ]
    },
    {
     "name": "stderr",
     "output_type": "stream",
     "text": [
      "\u001b[32m2024-06-20 13:56:33.021\u001b[0m | \u001b[33m\u001b[1mWARNING \u001b[0m | \u001b[36m__main__\u001b[0m:\u001b[36m_get_historical_contributors\u001b[0m:\u001b[36m236\u001b[0m - \u001b[33m\u001b[1mSkipped users: {'sophia-guo', 'liqunl', 'DanHeidinga', 'kriegaex', 'PascalSchumacher', 'kgibm', 'vij-singh', 'acrowthe', 'SueChaplain', 'dchopra001', 'pdbain-ibm', 'mikezhang1234567890', 'lumpfish', 'fjeremic', 'ashu-mehra', 'karianna'} because they don't exist in the expected developers list\u001b[0m\n"
     ]
    },
    {
     "name": "stdout",
     "output_type": "stream",
     "text": [
      "Issue URL:  https://github.com/eclipse-openj9/openj9/issues/19309\n",
      "Actual owner:  llxia\n",
      "Actual component:  comp:jit\n",
      "Issue URL:  https://github.com/eclipse-openj9/openj9/issues/19322\n",
      "Actual owner:  JasonFengJ9\n",
      "Actual component:  comp:vm\n"
     ]
    },
    {
     "name": "stderr",
     "output_type": "stream",
     "text": [
      "\u001b[32m2024-06-20 13:56:33.134\u001b[0m | \u001b[33m\u001b[1mWARNING \u001b[0m | \u001b[36m__main__\u001b[0m:\u001b[36m_get_historical_contributors\u001b[0m:\u001b[36m236\u001b[0m - \u001b[33m\u001b[1mSkipped users: {'CodingFabian', 'DanHeidinga', 'Mesbah-Alam', 'htreu', 'pdbain-ibm', '0dvictor', 'chandrams', 'Param-S', 'terryzuoty', 'scottkurz', 'yanluo7'} because they don't exist in the expected developers list\u001b[0m\n",
      "\u001b[32m2024-06-20 13:56:33.297\u001b[0m | \u001b[33m\u001b[1mWARNING \u001b[0m | \u001b[36m__main__\u001b[0m:\u001b[36m_get_historical_contributors\u001b[0m:\u001b[36m236\u001b[0m - \u001b[33m\u001b[1mSkipped users: {'ThanHenderson', 'liqunl', 'DanHeidinga', 'dmitry-ten', 'alon-sh', 'AlenBadel', 'EmanElsaban', 'jasonkatonica', 'joransiu', 'AlexeyKhrabrov', 'taoliult', 'fjeremic', 'harryyu1994', 'ashu-mehra'} because they don't exist in the expected developers list\u001b[0m\n"
     ]
    },
    {
     "name": "stdout",
     "output_type": "stream",
     "text": [
      "Issue URL:  https://github.com/eclipse-openj9/openj9/issues/19325\n",
      "Actual owner:  cjjdespres\n",
      "Actual component:  comp:jitserver\n",
      "Issue URL:  https://github.com/eclipse-openj9/openj9/issues/19328\n",
      "Actual owner:  hangshao0\n",
      "Actual component:  comp:vm\n"
     ]
    },
    {
     "name": "stderr",
     "output_type": "stream",
     "text": [
      "\u001b[32m2024-06-20 13:56:33.431\u001b[0m | \u001b[33m\u001b[1mWARNING \u001b[0m | \u001b[36m__main__\u001b[0m:\u001b[36m_get_historical_contributors\u001b[0m:\u001b[36m236\u001b[0m - \u001b[33m\u001b[1mSkipped users: {'nicolaimainiero', 'joransiu', 'rubin55', 'DanHeidinga', 'htreu', '0dvictor', 'vijaysun-omr', 'gireeshpunathil', 'ben-walsh', 'ashu-mehra', 'groeges', 'Thihup', 'fjeremic', 'harryyu1994', 'Mailaender', 'JamesKingdon', 'liqunl', 'andrewcraik', 'SueChaplain', 'Donnerbart', 'yanluo7'} because they don't exist in the expected developers list\u001b[0m\n",
      "\u001b[32m2024-06-20 13:56:33.629\u001b[0m | \u001b[33m\u001b[1mWARNING \u001b[0m | \u001b[36m__main__\u001b[0m:\u001b[36m_get_historical_contributors\u001b[0m:\u001b[36m236\u001b[0m - \u001b[33m\u001b[1mSkipped users: {'liqunl', 'DanHeidinga', 'dmitry-ten', 'andrewcraik', 'klangman', 'vij-singh', 'cathyzhyi', 'mayshukla', 'zl-wang', 'sharon-wang', 'mnalam-p', 'OussamaSaoudi', 'AlexeyKhrabrov', 'fjeremic', 'aviansie-ben', 'JamesKingdon'} because they don't exist in the expected developers list\u001b[0m\n"
     ]
    },
    {
     "name": "stdout",
     "output_type": "stream",
     "text": [
      "Issue URL:  https://github.com/eclipse-openj9/openj9/issues/19329\n",
      "Actual owner:  a7ehuo\n",
      "Actual component:  comp:jit\n",
      "Issue URL:  https://github.com/eclipse-openj9/openj9/issues/19330\n",
      "Actual owner:  keithc-ca\n",
      "Actual component:  comp:jclextensions\n"
     ]
    },
    {
     "name": "stderr",
     "output_type": "stream",
     "text": [
      "\u001b[32m2024-06-20 13:56:33.745\u001b[0m | \u001b[33m\u001b[1mWARNING \u001b[0m | \u001b[36m__main__\u001b[0m:\u001b[36m_get_historical_contributors\u001b[0m:\u001b[36m236\u001b[0m - \u001b[33m\u001b[1mSkipped users: {'liqunl', 'DanHeidinga', 'M-Davies', 'andrewcraik', 'vij-singh', 'andrew-m-leonard', 'qasimy123', 'cathyzhyi', 'zl-wang', 'jdekonin', 'fjeremic', 'IBMJimmyk', 'Leonardo2718'} because they don't exist in the expected developers list\u001b[0m\n",
      "\u001b[32m2024-06-20 13:56:33.843\u001b[0m | \u001b[33m\u001b[1mWARNING \u001b[0m | \u001b[36m__main__\u001b[0m:\u001b[36m_get_historical_contributors\u001b[0m:\u001b[36m236\u001b[0m - \u001b[33m\u001b[1mSkipped users: {'DanHeidinga', 'andrewcraik', 'PascalSchumacher', 'dchopra001', 'mikezhang1234567890', 'fjeremic'} because they don't exist in the expected developers list\u001b[0m\n"
     ]
    },
    {
     "name": "stdout",
     "output_type": "stream",
     "text": [
      "Issue URL:  https://github.com/eclipse-openj9/openj9/issues/19334\n",
      "Actual owner:  pshipton\n",
      "Actual component:  comp:vm\n",
      "Issue URL:  https://github.com/eclipse-openj9/openj9/issues/19344\n",
      "Actual owner:  JasonFengJ9\n",
      "Actual component:  comp:vm\n"
     ]
    },
    {
     "name": "stderr",
     "output_type": "stream",
     "text": [
      "\u001b[32m2024-06-20 13:56:33.956\u001b[0m | \u001b[33m\u001b[1mWARNING \u001b[0m | \u001b[36m__main__\u001b[0m:\u001b[36m_get_historical_contributors\u001b[0m:\u001b[36m236\u001b[0m - \u001b[33m\u001b[1mSkipped users: {'sophia-guo', 'mstoodle', 'sxa', 'jdekonin', 'irinarada', 'toshiona', 'DanHeidinga', 'R-Santhir', 'ThePrez', 'andrew-m-leonard', 'pdbain-ibm', 'adamfarley', 'fjeremic', 'vsebe', 'B-Nebel', 'andrewcraik', 'zl-wang', 'pushkarnk', 'kohlschuetter', 'yanluo7'} because they don't exist in the expected developers list\u001b[0m\n",
      "\u001b[32m2024-06-20 13:56:34.074\u001b[0m | \u001b[33m\u001b[1mWARNING \u001b[0m | \u001b[36m__main__\u001b[0m:\u001b[36m_get_historical_contributors\u001b[0m:\u001b[36m236\u001b[0m - \u001b[33m\u001b[1mSkipped users: {'dchopra001', 'vij-singh', 'DanHeidinga', 'dipak-bagadiya'} because they don't exist in the expected developers list\u001b[0m\n"
     ]
    },
    {
     "name": "stdout",
     "output_type": "stream",
     "text": [
      "Issue URL:  https://github.com/eclipse-openj9/openj9/issues/19360\n",
      "Actual owner:  JasonFengJ9\n",
      "Actual component:  comp:test\n",
      "Issue URL:  https://github.com/eclipse-openj9/openj9/issues/19366\n",
      "Actual owner:  babsingh\n",
      "Actual component:  comp:vm\n"
     ]
    },
    {
     "name": "stderr",
     "output_type": "stream",
     "text": [
      "\u001b[32m2024-06-20 13:56:34.206\u001b[0m | \u001b[33m\u001b[1mWARNING \u001b[0m | \u001b[36m__main__\u001b[0m:\u001b[36m_get_historical_contributors\u001b[0m:\u001b[36m236\u001b[0m - \u001b[33m\u001b[1mSkipped users: {'liqunl', 'DanHeidinga', 'Mesbah-Alam', 'andrewcraik', 'vij-singh', 'R-Santhir', 'ehrenjulzert', 'dchopra001', 'zl-wang', 'joransiu', 'pdbain-ibm', 'mnalam-p', 'lumpfish', 'ben-walsh', 'fjeremic', 'yanluo7'} because they don't exist in the expected developers list\u001b[0m\n",
      "\u001b[32m2024-06-20 13:56:34.338\u001b[0m | \u001b[33m\u001b[1mWARNING \u001b[0m | \u001b[36m__main__\u001b[0m:\u001b[36m_get_historical_contributors\u001b[0m:\u001b[36m236\u001b[0m - \u001b[33m\u001b[1mSkipped users: {'sophia-guo', 'vij-singh', 'midronij', 'ThanHenderson', 'DanHeidinga', 'dmitry-ten', 'acrowthe', 'lumpfish', 'ben-walsh', 'ashu-mehra', 'renfeiw', 'karianna', 'dchopra001', 'pdbain-ibm', 'fjeremic', 'harryyu1994', 'VermaSh', 'liqunl', 'github-actions[bot]', 'mikezhang1234567890'} because they don't exist in the expected developers list\u001b[0m\n"
     ]
    },
    {
     "name": "stdout",
     "output_type": "stream",
     "text": [
      "Issue URL:  https://github.com/eclipse-openj9/openj9/issues/19369\n",
      "Actual owner:  r30shah\n",
      "Actual component:  comp:jit\n",
      "Issue URL:  https://github.com/eclipse-openj9/openj9/issues/19377\n",
      "Actual owner:  BradleyWood\n",
      "Actual component:  comp:jit\n"
     ]
    },
    {
     "name": "stderr",
     "output_type": "stream",
     "text": [
      "\u001b[32m2024-06-20 13:56:34.465\u001b[0m | \u001b[33m\u001b[1mWARNING \u001b[0m | \u001b[36m__main__\u001b[0m:\u001b[36m_get_historical_contributors\u001b[0m:\u001b[36m236\u001b[0m - \u001b[33m\u001b[1mSkipped users: {'liqunl', 'DanHeidinga', 'yanluo7', 'andrewcraik', 'vij-singh', 'zl-wang', 'joransiu', 'pdbain-ibm', 'ben-walsh', 'fjeremic', 'aviansie-ben', 'PushkarBettadpur', 'VermaSh'} because they don't exist in the expected developers list\u001b[0m\n",
      "\u001b[32m2024-06-20 13:56:34.578\u001b[0m | \u001b[33m\u001b[1mWARNING \u001b[0m | \u001b[36m__main__\u001b[0m:\u001b[36m_get_historical_contributors\u001b[0m:\u001b[36m236\u001b[0m - \u001b[33m\u001b[1mSkipped users: {'andresluuk', 'DanHeidinga', 'htreu', 'lumpfish', 'gireeshpunathil', 'Mesbah-Alam', 'M-Davies', 'andrew-m-leonard', 'ehrenjulzert', 'Thihup', 'harryyu1994', 'fjeremic', 'JamesKingdon', 'liqunl', 'andrewcraik', 'SueChaplain', 'dnakamura', 'sharon-wang', 'JavaTailor', 'manqingl', 'Donnerbart', 'yanluo7'} because they don't exist in the expected developers list\u001b[0m\n"
     ]
    },
    {
     "name": "stdout",
     "output_type": "stream",
     "text": [
      "Issue URL:  https://github.com/eclipse-openj9/openj9/issues/19378\n",
      "Actual owner:  theresa-m\n",
      "Actual component:  comp:vm\n",
      "Issue URL:  https://github.com/eclipse-openj9/openj9/issues/19395\n",
      "Actual owner:  cjjdespres\n",
      "Actual component:  comp:jitserver\n"
     ]
    },
    {
     "name": "stderr",
     "output_type": "stream",
     "text": [
      "\u001b[32m2024-06-20 13:56:34.688\u001b[0m | \u001b[33m\u001b[1mWARNING \u001b[0m | \u001b[36m__main__\u001b[0m:\u001b[36m_get_historical_contributors\u001b[0m:\u001b[36m236\u001b[0m - \u001b[33m\u001b[1mSkipped users: {'DanHeidinga', 'dmitry-ten', 'andrewcraik', 'andrew-m-leonard', 'cathyzhyi', 'harryyu1994', 'edrevo', 'fjeremic', 'ashu-mehra', 'groeges'} because they don't exist in the expected developers list\u001b[0m\n",
      "\u001b[32m2024-06-20 13:56:34.824\u001b[0m | \u001b[33m\u001b[1mWARNING \u001b[0m | \u001b[36m__main__\u001b[0m:\u001b[36m_get_historical_contributors\u001b[0m:\u001b[36m236\u001b[0m - \u001b[33m\u001b[1mSkipped users: {'liqunl', 'DanHeidinga', 'yanluo7', 'andrewcraik', 'vij-singh', 'zl-wang', 'joransiu', 'bragaigor', 'fjeremic'} because they don't exist in the expected developers list\u001b[0m\n"
     ]
    },
    {
     "name": "stdout",
     "output_type": "stream",
     "text": [
      "Issue URL:  https://github.com/eclipse-openj9/openj9/issues/19408\n",
      "Actual owner:  BradleyWood\n",
      "Actual component:  comp:jit\n",
      "Issue URL:  https://github.com/eclipse-openj9/openj9/issues/19421\n",
      "Actual owner:  LinHu2016\n",
      "Actual component:  comp:gc\n"
     ]
    },
    {
     "name": "stderr",
     "output_type": "stream",
     "text": [
      "\u001b[32m2024-06-20 13:56:35.015\u001b[0m | \u001b[33m\u001b[1mWARNING \u001b[0m | \u001b[36m__main__\u001b[0m:\u001b[36m_get_historical_contributors\u001b[0m:\u001b[36m236\u001b[0m - \u001b[33m\u001b[1mSkipped users: {'liqunl', 'vsebe', 'DanHeidinga', 'andrewcraik', 'harryyu1994', 'zl-wang', 'dnakamura', 'irinarada', 'fjeremic', 'IBMJimmyk'} because they don't exist in the expected developers list\u001b[0m\n"
     ]
    },
    {
     "name": "stdout",
     "output_type": "stream",
     "text": [
      "Issue URL:  https://github.com/eclipse-openj9/openj9/issues/19431\n",
      "Actual owner:  r30shah\n",
      "Actual component:  comp:vm\n",
      "Issue URL:  https://github.com/eclipse-openj9/openj9/issues/19435\n",
      "Actual owner:  llxia\n",
      "Actual component:  comp:test\n"
     ]
    },
    {
     "name": "stderr",
     "output_type": "stream",
     "text": [
      "\u001b[32m2024-06-20 13:56:35.127\u001b[0m | \u001b[33m\u001b[1mWARNING \u001b[0m | \u001b[36m__main__\u001b[0m:\u001b[36m_get_historical_contributors\u001b[0m:\u001b[36m236\u001b[0m - \u001b[33m\u001b[1mSkipped users: {'sophia-guo', 'cathyzhyi', 'jdekonin', 'irinarada', 'Talk2Harish', 'DanHeidinga', 'dmitry-ten', 'R-Santhir', 'AlenBadel', 'lumpfish', 'AlexeyKhrabrov', 'gervaisj', 'groeges', 'renfeiw', 'M-Davies', 'Mesbah-Alam', 'andrew-m-leonard', 'dchopra001', 'pdbain-ibm', 'harryyu1994', 'fjeremic', 'liqunl', 'jluehe', 'andrewcraik', 'sharon-wang', 'aviansie-ben'} because they don't exist in the expected developers list\u001b[0m\n",
      "\u001b[32m2024-06-20 13:56:35.260\u001b[0m | \u001b[33m\u001b[1mWARNING \u001b[0m | \u001b[36m__main__\u001b[0m:\u001b[36m_get_historical_contributors\u001b[0m:\u001b[36m236\u001b[0m - \u001b[33m\u001b[1mSkipped users: {'sophia-guo', 'DanHeidinga', 'Mesbah-Alam', 'Spencer-Comin', 'mikezhang1234567890', 'karianna'} because they don't exist in the expected developers list\u001b[0m\n"
     ]
    },
    {
     "name": "stdout",
     "output_type": "stream",
     "text": [
      "Issue URL:  https://github.com/eclipse-openj9/openj9/issues/19438\n",
      "Actual owner:  babsingh\n",
      "Actual component:  comp:vm\n",
      "Issue URL:  https://github.com/eclipse-openj9/openj9/issues/19439\n",
      "Actual owner:  tajila\n",
      "Actual component:  comp:vm\n"
     ]
    },
    {
     "name": "stderr",
     "output_type": "stream",
     "text": [
      "\u001b[32m2024-06-20 13:56:35.383\u001b[0m | \u001b[33m\u001b[1mWARNING \u001b[0m | \u001b[36m__main__\u001b[0m:\u001b[36m_get_historical_contributors\u001b[0m:\u001b[36m236\u001b[0m - \u001b[33m\u001b[1mSkipped users: {'mstoodle', 'liqunl', 'DanHeidinga', 'dmitry-ten', 'vij-singh', 'Ailloviee', 'cathyzhyi', 'fjeremic'} because they don't exist in the expected developers list\u001b[0m\n",
      "\u001b[32m2024-06-20 13:56:35.561\u001b[0m | \u001b[33m\u001b[1mWARNING \u001b[0m | \u001b[36m__main__\u001b[0m:\u001b[36m_get_historical_contributors\u001b[0m:\u001b[36m236\u001b[0m - \u001b[33m\u001b[1mSkipped users: {'liqunl', 'DanHeidinga', 'andrewcraik', 'vij-singh', 'acrowthe', 'ehrenjulzert', 'EricYangIBM', 'irinarada', 'midronij', 'harryyu1994', 'Leonardo2718'} because they don't exist in the expected developers list\u001b[0m\n"
     ]
    },
    {
     "name": "stdout",
     "output_type": "stream",
     "text": [
      "Issue URL:  https://github.com/eclipse-openj9/openj9/issues/19450\n",
      "Actual owner:  pshipton\n",
      "Actual component:  comp:vm\n",
      "Issue URL:  https://github.com/eclipse-openj9/openj9/issues/19459\n",
      "Actual owner:  theresa-m\n",
      "Actual component:  comp:test\n",
      "Issue URL:  https://github.com/eclipse-openj9/openj9/issues/19461\n",
      "Actual owner:  cjjdespres\n",
      "Actual component:  comp:jitserver\n"
     ]
    },
    {
     "name": "stderr",
     "output_type": "stream",
     "text": [
      "\u001b[32m2024-06-20 13:56:35.674\u001b[0m | \u001b[33m\u001b[1mWARNING \u001b[0m | \u001b[36m__main__\u001b[0m:\u001b[36m_get_historical_contributors\u001b[0m:\u001b[36m236\u001b[0m - \u001b[33m\u001b[1mSkipped users: {'DanHeidinga', 'dmitry-ten', 'XxAdi101xX', 'EmanElsaban', 'jasonkatonica', 'AlexeyKhrabrov', 'harryyu1994', 'ashu-mehra'} because they don't exist in the expected developers list\u001b[0m\n",
      "\u001b[32m2024-06-20 13:56:35.803\u001b[0m | \u001b[33m\u001b[1mWARNING \u001b[0m | \u001b[36m__main__\u001b[0m:\u001b[36m_get_historical_contributors\u001b[0m:\u001b[36m236\u001b[0m - \u001b[33m\u001b[1mSkipped users: {'liqunl', 'DanHeidinga', 'Mesbah-Alam', 'andrewcraik', 'vij-singh', 'M-Davies', 'sxa', 'dchopra001', 'joransiu', 'zl-wang', 'cathyzhyi', 'mikezhang1234567890', 'lumpfish', 'fjeremic', 'VermaSh'} because they don't exist in the expected developers list\u001b[0m\n"
     ]
    },
    {
     "name": "stdout",
     "output_type": "stream",
     "text": [
      "Issue URL:  https://github.com/eclipse-openj9/openj9/issues/19486\n",
      "Actual owner:  LinHu2016\n",
      "Actual component:  comp:gc\n",
      "Issue URL:  https://github.com/eclipse-openj9/openj9/issues/19488\n",
      "Actual owner:  pshipton\n",
      "Actual component:  comp:build\n"
     ]
    },
    {
     "name": "stderr",
     "output_type": "stream",
     "text": [
      "\u001b[32m2024-06-20 13:56:35.892\u001b[0m | \u001b[33m\u001b[1mWARNING \u001b[0m | \u001b[36m__main__\u001b[0m:\u001b[36m_get_historical_contributors\u001b[0m:\u001b[36m236\u001b[0m - \u001b[33m\u001b[1mSkipped users: {'vsebe'} because they don't exist in the expected developers list\u001b[0m\n",
      "\u001b[32m2024-06-20 13:56:35.992\u001b[0m | \u001b[33m\u001b[1mWARNING \u001b[0m | \u001b[36m__main__\u001b[0m:\u001b[36m_get_historical_contributors\u001b[0m:\u001b[36m236\u001b[0m - \u001b[33m\u001b[1mSkipped users: {'doveye', 'dusanboskovic', 'liqunl', 'DanHeidinga', 'andrewcraik', 'cathyzhyi', 'zl-wang', 'vijaysun-omr', 'fjeremic', 'harryyu1994', 'PhilWakelin', 'vesuppi'} because they don't exist in the expected developers list\u001b[0m\n"
     ]
    },
    {
     "name": "stdout",
     "output_type": "stream",
     "text": [
      "Issue URL:  https://github.com/eclipse-openj9/openj9/issues/19490\n",
      "Actual owner:  dmitripivkine\n",
      "Actual component:  comp:gc\n",
      "Issue URL:  https://github.com/eclipse-openj9/openj9/issues/19499\n",
      "Actual owner:  keithc-ca\n",
      "Actual component:  comp:crypto\n"
     ]
    },
    {
     "name": "stderr",
     "output_type": "stream",
     "text": [
      "\u001b[32m2024-06-20 13:56:36.111\u001b[0m | \u001b[33m\u001b[1mWARNING \u001b[0m | \u001b[36m__main__\u001b[0m:\u001b[36m_get_historical_contributors\u001b[0m:\u001b[36m236\u001b[0m - \u001b[33m\u001b[1mSkipped users: {'ThanHenderson', 'liqunl', 'DanHeidinga', 'dmitry-ten', 'Mesbah-Alam', 'vij-singh', 'alon-sh', 'joransiu', 'jasonkatonica', 'mikezhang1234567890', 'taoliult', 'harryyu1994'} because they don't exist in the expected developers list\u001b[0m\n",
      "\u001b[32m2024-06-20 13:56:36.194\u001b[0m | \u001b[33m\u001b[1mWARNING \u001b[0m | \u001b[36m__main__\u001b[0m:\u001b[36m_get_historical_contributors\u001b[0m:\u001b[36m236\u001b[0m - \u001b[33m\u001b[1mSkipped users: {'jdekonin', 'dnakamura', 'janvrany'} because they don't exist in the expected developers list\u001b[0m\n"
     ]
    },
    {
     "name": "stdout",
     "output_type": "stream",
     "text": [
      "Issue URL:  https://github.com/eclipse-openj9/openj9/issues/19501\n",
      "Actual owner:  knn-k\n",
      "Actual component:  comp:build\n",
      "Issue URL:  https://github.com/eclipse-openj9/openj9/issues/19525\n",
      "Actual owner:  knn-k\n",
      "Actual component:  comp:jit\n"
     ]
    },
    {
     "name": "stderr",
     "output_type": "stream",
     "text": [
      "\u001b[32m2024-06-20 13:56:36.324\u001b[0m | \u001b[33m\u001b[1mWARNING \u001b[0m | \u001b[36m__main__\u001b[0m:\u001b[36m_get_historical_contributors\u001b[0m:\u001b[36m236\u001b[0m - \u001b[33m\u001b[1mSkipped users: {'liqunl', 'DanHeidinga', 'yanluo7', 'andrewcraik', 'R-Santhir', 'vij-singh', 'mayshukla', 'zl-wang', 'joransiu', 'bragaigor', 'fjeremic'} because they don't exist in the expected developers list\u001b[0m\n"
     ]
    },
    {
     "name": "stdout",
     "output_type": "stream",
     "text": [
      "Issue URL:  https://github.com/eclipse-openj9/openj9/issues/19532\n",
      "Actual owner:  jdmpapin\n",
      "Actual component:  comp:jit\n"
     ]
    },
    {
     "name": "stderr",
     "output_type": "stream",
     "text": [
      "\u001b[32m2024-06-20 13:56:36.553\u001b[0m | \u001b[33m\u001b[1mWARNING \u001b[0m | \u001b[36m__main__\u001b[0m:\u001b[36m_get_historical_contributors\u001b[0m:\u001b[36m236\u001b[0m - \u001b[33m\u001b[1mSkipped users: {'StephanieMeakins', 'liqunl', 'groeges', 'DanHeidinga', 'dmitry-ten', 'andrewcraik', 'Mesbah-Alam', 'AidanHa', 'patkarns', 'pdbain-ibm', 'manashaVetrivelu', 'harryyu1994', 'mikezhang1234567890', 'ben-walsh', 'fjeremic', 'pdbain', 'VermaSh', 'dylanjtuttle'} because they don't exist in the expected developers list\u001b[0m\n",
      "\u001b[32m2024-06-20 13:56:36.636\u001b[0m | \u001b[33m\u001b[1mWARNING \u001b[0m | \u001b[36m__main__\u001b[0m:\u001b[36m_get_historical_contributors\u001b[0m:\u001b[36m236\u001b[0m - \u001b[33m\u001b[1mSkipped users: {'singh264'} because they don't exist in the expected developers list\u001b[0m\n"
     ]
    },
    {
     "name": "stdout",
     "output_type": "stream",
     "text": [
      "Issue URL:  https://github.com/eclipse-openj9/openj9/issues/19534\n",
      "Actual owner:  JasonFengJ9\n",
      "Actual component:  comp:vm\n",
      "Issue URL:  https://github.com/eclipse-openj9/openj9/issues/19543\n",
      "Actual owner:  pshipton\n",
      "Actual component:  comp:vm\n",
      "Issue URL:  https://github.com/eclipse-openj9/openj9/issues/19546\n",
      "Actual owner:  nbhuiyan\n",
      "Actual component:  comp:jit\n"
     ]
    },
    {
     "name": "stderr",
     "output_type": "stream",
     "text": [
      "\u001b[32m2024-06-20 13:56:36.838\u001b[0m | \u001b[33m\u001b[1mWARNING \u001b[0m | \u001b[36m__main__\u001b[0m:\u001b[36m_get_historical_contributors\u001b[0m:\u001b[36m236\u001b[0m - \u001b[33m\u001b[1mSkipped users: {'dmitry-ten', 'Mesbah-Alam', 'vij-singh', 'dchopra001', 'zl-wang', 'vijaysun-omr', 'dnakamura', 'ninja-', 'fjeremic', 'harryyu1994', 'ashu-mehra'} because they don't exist in the expected developers list\u001b[0m\n",
      "\u001b[32m2024-06-20 13:56:36.946\u001b[0m | \u001b[33m\u001b[1mWARNING \u001b[0m | \u001b[36m__main__\u001b[0m:\u001b[36m_get_historical_contributors\u001b[0m:\u001b[36m236\u001b[0m - \u001b[33m\u001b[1mSkipped users: {'ThanHenderson', 'liqunl', 'DanHeidinga', 'yanluo7', 'jluehe', 'vij-singh', 'andrew-m-leonard', 'pdbain-ibm', 'zl-wang', 'AlenBadel', 'irinarada', 'midronij', 'taoliult', 'Talk2Harish', 'mnalam-p', 'groeges'} because they don't exist in the expected developers list\u001b[0m\n"
     ]
    },
    {
     "name": "stdout",
     "output_type": "stream",
     "text": [
      "Issue URL:  https://github.com/eclipse-openj9/openj9/issues/19583\n",
      "Actual owner:  JasonFengJ9\n",
      "Actual component:  comp:vm\n",
      "Issue URL:  https://github.com/eclipse-openj9/openj9/issues/19605\n",
      "Actual owner:  pshipton\n",
      "Actual component:  comp:vm\n"
     ]
    },
    {
     "name": "stderr",
     "output_type": "stream",
     "text": [
      "\u001b[32m2024-06-20 13:56:37.065\u001b[0m | \u001b[33m\u001b[1mWARNING \u001b[0m | \u001b[36m__main__\u001b[0m:\u001b[36m_get_historical_contributors\u001b[0m:\u001b[36m236\u001b[0m - \u001b[33m\u001b[1mSkipped users: {'DanHeidinga', 'fuzzy000', 'dmitry-ten', 'yanluo7', 'acrowthe', 'pdbain-ibm', 'AlenBadel', 'psoujany', 'adamfarley', 'sharon-wang', 'mikezhang1234567890', 'ben-walsh', 'harryyu1994', 'dholmes-ora'} because they don't exist in the expected developers list\u001b[0m\n"
     ]
    }
   ],
   "source": [
    "recommendations = []\n",
    "\n",
    "for i in range(len(df_test)):\n",
    "    rec = get_recommendation(i, k_comp=3, k_dev=20, k_rank=20, sim=0.6)\n",
    "    recommendations.append(rec)"
   ]
  },
  {
   "cell_type": "code",
   "execution_count": 151,
   "metadata": {},
   "outputs": [
    {
     "name": "stdout",
     "output_type": "stream",
     "text": [
      "True\n",
      "0 Comb,DL,Sim===\n",
      "False\n",
      "1 ===\n",
      "True\n",
      "2 Comb,Sim===\n",
      "True\n",
      "3 Comb,DL,Sim===\n",
      "True\n",
      "4 Comb,DL,Sim===\n",
      "True\n",
      "5 Comb,DL,Sim===\n",
      "True\n",
      "6 Sim===\n",
      "True\n",
      "7 Comb,DL,Sim===\n",
      "True\n",
      "8 Comb,DL,Sim===\n",
      "True\n",
      "9 Comb,DL,Sim===\n",
      "False\n",
      "10 ===\n",
      "True\n",
      "11 Comb,DL,Sim===\n",
      "True\n",
      "12 Comb,DL,Sim===\n",
      "True\n",
      "13 Comb,DL,Sim===\n",
      "True\n",
      "14 Comb,DL,Sim===\n",
      "False\n",
      "15 ===\n",
      "True\n",
      "16 Comb,DL,Sim===\n",
      "True\n",
      "17 Comb,DL,Sim===\n",
      "False\n",
      "18 ===\n",
      "True\n",
      "19 Comb,DL,Sim===\n",
      "False\n",
      "20 ===\n",
      "False\n",
      "21 Comb,DL,===\n",
      "True\n",
      "22 Comb,DL,Sim===\n",
      "True\n",
      "23 Comb,DL,Sim===\n",
      "True\n",
      "24 Comb,DL,Sim===\n",
      "True\n",
      "25 Comb,DL,Sim===\n",
      "True\n",
      "26 Comb,DL,Sim===\n",
      "True\n",
      "27 Comb,DL,Sim===\n",
      "True\n",
      "28 Comb,DL,Sim===\n",
      "True\n",
      "29 Comb,DL,Sim===\n",
      "False\n",
      "30 Comb,DL,===\n",
      "True\n",
      "31 Comb,DL,Sim===\n",
      "True\n",
      "32 Comb,DL,Sim===\n",
      "True\n",
      "33 Sim===\n",
      "False\n",
      "34 ===\n",
      "True\n",
      "35 Comb,DL,Sim===\n",
      "True\n",
      "36 Comb,DL,Sim===\n",
      "True\n",
      "37 Comb,DL,Sim===\n",
      "False\n",
      "38 ===\n",
      "True\n",
      "39 Comb,DL,Sim===\n",
      "True\n",
      "40 Sim===\n",
      "False\n",
      "41 DL,===\n",
      "False\n",
      "42 Comb,DL,===\n",
      "False\n",
      "43 Comb,DL,===\n",
      "True\n",
      "44 Comb,DL,Sim===\n",
      "False\n",
      "45 Comb,DL,===\n",
      "True\n",
      "46 Comb,DL,Sim===\n",
      "True\n",
      "47 Comb,DL,Sim===\n",
      "False\n",
      "48 ===\n",
      "False\n",
      "49 ===\n",
      "False\n",
      "50 Comb,DL,===\n",
      "True\n",
      "51 Comb,DL,Sim===\n",
      "False\n",
      "52 Comb,DL,===\n",
      "False\n",
      "53 DL,===\n",
      "True\n",
      "54 Comb,DL,Sim===\n",
      "True\n",
      "55 Comb,DL,Sim===\n",
      "False\n",
      "56 ===\n",
      "False\n",
      "57 ===\n",
      "True\n",
      "58 Comb,DL,Sim===\n",
      "True\n",
      "59 Comb,DL,Sim===\n",
      "True\n",
      "60 Comb,DL,Sim===\n",
      "False\n",
      "61 Comb,DL,===\n",
      "True\n",
      "62 Comb,DL,Sim===\n",
      "False\n",
      "63 Comb,DL,===\n",
      "True\n",
      "64 Comb,DL,Sim===\n",
      "True\n",
      "65 Comb,DL,Sim===\n",
      "True\n",
      "66 Comb,DL,Sim===\n",
      "True\n",
      "67 Comb,DL,Sim===\n",
      "True\n",
      "68 Comb,DL,Sim===\n",
      "True\n",
      "69 Comb,DL,Sim===\n",
      "False\n",
      "70 ===\n",
      "False\n",
      "71 Comb,DL,===\n",
      "True\n",
      "72 Comb,DL,Sim===\n",
      "True\n",
      "73 Comb,DL,Sim===\n",
      "False\n",
      "74 Comb,DL,===\n",
      "True\n",
      "75 Comb,DL,Sim===\n",
      "False\n",
      "76 ===\n",
      "False\n",
      "77 Comb,DL,===\n",
      "False\n",
      "78 ===\n",
      "True\n",
      "79 Comb,DL,Sim===\n",
      "False\n",
      "80 ===\n",
      "False\n",
      "81 Comb,DL,===\n",
      "False\n",
      "82 ===\n",
      "True\n",
      "83 Comb,DL,Sim===\n",
      "True\n",
      "84 Comb,DL,Sim===\n",
      "True\n",
      "85 Comb,DL,Sim===\n",
      "True\n",
      "86 Comb,DL,Sim===\n",
      "False\n",
      "87 ===\n",
      "False\n",
      "88 ===\n",
      "True\n",
      "89 Comb,DL,Sim===\n",
      "True\n",
      "90 Comb,DL,Sim===\n",
      "False\n",
      "91 DL,===\n",
      "False\n",
      "92 ===\n",
      "False\n",
      "93 ===\n",
      "True\n",
      "94 Comb,Sim===\n",
      "False\n",
      "95 ===\n",
      "True\n",
      "96 Comb,DL,Sim===\n",
      "False\n",
      "97 Comb,DL,===\n",
      "True\n",
      "98 Comb,DL,Sim===\n",
      "False\n",
      "99 Comb,DL,===\n",
      "True\n",
      "100 Comb,Sim===\n",
      "True\n",
      "101 Comb,DL,Sim===\n",
      "False\n",
      "102 ===\n",
      "True\n",
      "103 Comb,DL,Sim===\n",
      "True\n",
      "104 Comb,DL,Sim===\n",
      "True\n",
      "105 Comb,DL,Sim===\n",
      "True\n",
      "106 Comb,DL,Sim===\n",
      "True\n",
      "107 Sim===\n",
      "False\n",
      "108 DL,===\n",
      "True\n",
      "109 Comb,DL,Sim===\n",
      "True\n",
      "110 Comb,DL,Sim===\n",
      "True\n",
      "111 Comb,DL,Sim===\n",
      "True\n",
      "112 Comb,DL,Sim===\n",
      "True\n",
      "113 Sim===\n",
      "True\n",
      "114 Comb,DL,Sim===\n",
      "True\n",
      "115 Comb,DL,Sim===\n",
      "True\n",
      "116 Comb,DL,Sim===\n",
      "True\n",
      "117 Comb,Sim===\n",
      "False\n",
      "118 ===\n",
      "True\n",
      "119 Comb,DL,Sim===\n",
      "True\n",
      "120 Comb,DL,Sim===\n",
      "True\n",
      "121 Comb,DL,Sim===\n",
      "True\n",
      "122 Comb,DL,Sim===\n",
      "True\n",
      "123 Comb,DL,Sim===\n",
      "True\n",
      "124 Comb,DL,Sim===\n",
      "False\n",
      "125 Comb,DL,===\n",
      "True\n",
      "126 Comb,DL,Sim===\n",
      "True\n",
      "127 Comb,DL,Sim===\n",
      "True\n",
      "128 Comb,DL,Sim===\n",
      "True\n",
      "129 Comb,Sim===\n",
      "False\n",
      "130 Comb,DL,===\n",
      "True\n",
      "131 Comb,DL,Sim===\n",
      "True\n",
      "132 Sim===\n",
      "True\n",
      "133 Comb,DL,Sim===\n",
      "False\n",
      "134 Comb,DL,===\n",
      "False\n",
      "135 ===\n",
      "False\n",
      "136 ===\n",
      "True\n",
      "137 Comb,DL,Sim===\n",
      "True\n",
      "138 Comb,Sim===\n",
      "True\n",
      "139 Comb,DL,Sim===\n",
      "True\n",
      "140 Comb,DL,Sim===\n",
      "False\n",
      "141 Comb,DL,===\n",
      "False\n",
      "142 DL,===\n",
      "False\n",
      "143 ===\n",
      "True\n",
      "144 Comb,DL,Sim===\n",
      "True\n",
      "145 Comb,DL,Sim===\n",
      "True\n",
      "146 Sim===\n",
      "True\n",
      "147 Comb,DL,Sim===\n",
      "True\n",
      "148 Comb,DL,Sim===\n",
      "True\n",
      "149 Sim===\n",
      "True\n",
      "150 Comb,DL,Sim===\n",
      "False\n",
      "151 ===\n",
      "True\n",
      "152 Comb,DL,Sim===\n",
      "False\n",
      "153 Comb,DL,===\n",
      "True\n",
      "154 Comb,DL,Sim===\n",
      "True\n",
      "155 Comb,Sim===\n",
      "True\n",
      "156 Comb,Sim===\n",
      "False\n",
      "157 ===\n",
      "True\n",
      "158 Comb,DL,Sim===\n",
      "True\n",
      "159 Comb,DL,Sim===\n",
      "True\n",
      "160 Comb,DL,Sim===\n",
      "True\n",
      "161 Comb,DL,Sim===\n",
      "True\n",
      "162 Comb,DL,Sim===\n",
      "True\n",
      "163 Comb,DL,Sim===\n",
      "True\n",
      "164 Sim===\n",
      "True\n",
      "165 Comb,DL,Sim===\n",
      "True\n",
      "166 Comb,DL,Sim===\n",
      "True\n",
      "167 Comb,DL,Sim===\n",
      "True\n",
      "168 Comb,DL,Sim===\n",
      "True\n",
      "169 Comb,DL,Sim===\n",
      "True\n",
      "170 Comb,DL,Sim===\n",
      "True\n",
      "171 Comb,DL,Sim===\n",
      "True\n",
      "172 Comb,DL,Sim===\n",
      "False\n",
      "173 Comb,DL,===\n",
      "False\n",
      "174 ===\n",
      "False\n",
      "175 ===\n",
      "True\n",
      "176 Sim===\n",
      "True\n",
      "177 Comb,DL,Sim===\n",
      "True\n",
      "178 Comb,DL,Sim===\n",
      "False\n",
      "179 DL,===\n",
      "True\n",
      "180 Comb,DL,Sim===\n",
      "False\n",
      "181 ===\n",
      "True\n",
      "182 Comb,DL,Sim===\n",
      "True\n",
      "183 Comb,DL,Sim===\n",
      "True\n",
      "184 Comb,DL,Sim===\n",
      "False\n",
      "185 Comb,DL,===\n",
      "True\n",
      "186 Comb,DL,Sim===\n",
      "True\n",
      "187 Comb,DL,Sim===\n",
      "True\n",
      "188 Comb,DL,Sim===\n",
      "True\n",
      "189 Comb,DL,Sim===\n",
      "True\n",
      "190 Comb,DL,Sim===\n",
      "False\n",
      "191 Comb,DL,===\n",
      "True\n",
      "192 Comb,DL,Sim===\n",
      "True\n",
      "193 Comb,DL,Sim===\n",
      "True\n",
      "194 Comb,DL,Sim===\n",
      "True\n",
      "195 Sim===\n",
      "False\n",
      "196 ===\n",
      "True\n",
      "197 Comb,DL,Sim===\n",
      "True\n",
      "198 Comb,DL,Sim===\n",
      "True\n",
      "199 Comb,DL,Sim===\n",
      "True\n",
      "200 Comb,DL,Sim===\n",
      "False\n",
      "201 ===\n",
      "True\n",
      "202 Comb,DL,Sim===\n",
      "True\n",
      "203 Comb,DL,Sim===\n",
      "True\n",
      "204 Sim===\n",
      "True\n",
      "205 Sim===\n",
      "True\n",
      "206 Comb,DL,Sim===\n",
      "True\n",
      "207 Comb,DL,Sim===\n",
      "True\n",
      "208 Comb,DL,Sim===\n",
      "True\n",
      "209 Comb,DL,Sim===\n",
      "True\n",
      "210 Comb,Sim===\n",
      "True\n",
      "211 Comb,Sim===\n",
      "True\n",
      "212 Comb,DL,Sim===\n",
      "True\n",
      "213 Comb,DL,Sim===\n",
      "True\n",
      "214 Comb,DL,Sim===\n",
      "False\n",
      "215 Comb,DL,===\n",
      "True\n",
      "216 Comb,DL,Sim===\n",
      "True\n",
      "217 Comb,DL,Sim===\n",
      "True\n",
      "218 Sim===\n",
      "True\n",
      "219 Comb,DL,Sim===\n",
      "False\n",
      "220 ===\n",
      "True\n",
      "221 Comb,DL,Sim===\n",
      "False\n",
      "222 DL,===\n",
      "True\n",
      "223 Comb,DL,Sim===\n",
      "False\n",
      "224 ===\n",
      "True\n",
      "225 Sim===\n",
      "True\n",
      "226 Sim===\n",
      "False\n",
      "227 Comb,DL,===\n",
      "True\n",
      "228 Comb,DL,Sim===\n",
      "False\n",
      "229 ===\n",
      "False\n",
      "230 Comb,DL,===\n",
      "True\n",
      "231 Comb,DL,Sim===\n",
      "True\n",
      "232 Comb,Sim===\n",
      "False\n",
      "233 DL,===\n",
      "True\n",
      "234 Comb,DL,Sim===\n",
      "True\n",
      "235 Comb,DL,Sim===\n",
      "True\n",
      "236 Comb,Sim===\n",
      "True\n",
      "237 Comb,DL,Sim===\n",
      "True\n",
      "238 Comb,DL,Sim===\n",
      "False\n",
      "239 Comb,DL,===\n",
      "True\n",
      "240 Comb,DL,Sim===\n",
      "True\n",
      "241 Comb,DL,Sim===\n",
      "True\n",
      "242 Comb,DL,Sim===\n",
      "False\n",
      "243 Comb,DL,===\n",
      "True\n",
      "244 Comb,DL,Sim===\n",
      "True\n",
      "245 Comb,Sim===\n",
      "True\n",
      "246 Comb,DL,Sim===\n",
      "True\n",
      "247 Comb,DL,Sim===\n",
      "False\n",
      "248 ===\n",
      "True\n",
      "249 Comb,DL,Sim===\n",
      "False\n",
      "250 ===\n",
      "True\n",
      "251 Comb,DL,Sim===\n",
      "True\n",
      "252 Comb,DL,Sim===\n",
      "True\n",
      "253 Comb,DL,Sim===\n",
      "True\n",
      "254 Comb,DL,Sim===\n",
      "True\n",
      "255 Comb,DL,Sim===\n",
      "True\n",
      "256 Comb,DL,Sim===\n",
      "False\n",
      "257 ===\n",
      "True\n",
      "258 Sim===\n",
      "True\n",
      "259 Comb,DL,Sim===\n",
      "False\n",
      "260 Comb,===\n",
      "True\n",
      "261 Comb,DL,Sim===\n",
      "False\n",
      "262 Comb,DL,===\n",
      "True\n",
      "263 Comb,DL,Sim===\n",
      "True\n",
      "264 Comb,Sim===\n",
      "True\n",
      "265 Comb,DL,Sim===\n",
      "True\n",
      "266 Comb,DL,Sim===\n",
      "False\n",
      "267 ===\n",
      "True\n",
      "268 Sim===\n",
      "False\n",
      "269 ===\n",
      "False\n",
      "270 ===\n",
      "False\n",
      "271 Comb,DL,===\n",
      "False\n",
      "272 ===\n",
      "False\n",
      "273 ===\n",
      "False\n",
      "274 ===\n",
      "True\n",
      "275 Comb,Sim===\n",
      "True\n",
      "276 Comb,DL,Sim===\n",
      "False\n",
      "277 ===\n",
      "False\n",
      "278 Comb,DL,===\n",
      "False\n",
      "279 ===\n",
      "True\n",
      "280 Comb,DL,Sim===\n",
      "False\n",
      "281 DL,===\n",
      "True\n",
      "282 Comb,DL,Sim===\n",
      "True\n",
      "283 Comb,DL,Sim===\n",
      "True\n",
      "284 Comb,DL,Sim===\n",
      "True\n",
      "285 Comb,DL,Sim===\n",
      "True\n",
      "286 Comb,DL,Sim===\n",
      "False\n",
      "287 DL,===\n",
      "True\n",
      "288 Comb,DL,Sim===\n",
      "False\n",
      "289 Comb,DL,===\n",
      "False\n",
      "290 ===\n",
      "True\n",
      "291 Comb,DL,Sim===\n",
      "True\n",
      "292 Comb,DL,Sim===\n"
     ]
    }
   ],
   "source": [
    "combined_total = 0\n",
    "dl_total = 0\n",
    "sim_total = 0\n",
    "top_k = 10\n",
    "\n",
    "for idx in range(len(df_test)):\n",
    "    actual = df_test.iloc[idx][\"owner\"]\n",
    "    combined_recommended = recommendations[idx][\"combined_ranking\"][:top_k]\n",
    "    dl_recommended = recommendations[idx][\"predicted_developers\"][:top_k]\n",
    "    sim_recommended = recommendations[idx][\"similar_devs\"][:top_k]\n",
    "\n",
    "    # print(actual)\n",
    "    # print(sim_recommended)\n",
    "\n",
    "    # if sim_recommended:\n",
    "    #     sim_recommended = [s[0] for s in sim_recommended]\n",
    "\n",
    "    print(actual in sim_recommended)\n",
    "\n",
    "    print(idx, end=\" \")\n",
    "\n",
    "    if actual in combined_recommended:\n",
    "        print(\"Comb,\", end=\"\")\n",
    "        combined_total += 1\n",
    "\n",
    "    if actual in dl_recommended:\n",
    "        print(\"DL,\", end=\"\")\n",
    "        dl_total += 1\n",
    "\n",
    "    if actual in sim_recommended:\n",
    "        print(\"Sim\", end=\"\")\n",
    "        sim_total += 1\n",
    "\n",
    "    print(\"===\")"
   ]
  },
  {
   "cell_type": "code",
   "execution_count": 152,
   "metadata": {},
   "outputs": [
    {
     "data": {
      "text/plain": [
       "(0.7201365187713311, 0.689419795221843, 0.7406143344709898)"
      ]
     },
     "execution_count": 152,
     "metadata": {},
     "output_type": "execute_result"
    }
   ],
   "source": [
    "dl_total/len(df_test), sim_total/len(df_test), combined_total/len(df_test)"
   ]
  },
  {
   "cell_type": "code",
   "execution_count": 57,
   "metadata": {},
   "outputs": [
    {
     "name": "stderr",
     "output_type": "stream",
     "text": [
      "\u001b[32m2024-06-20 12:19:35.239\u001b[0m | \u001b[34m\u001b[1mDEBUG   \u001b[0m | \u001b[36m__main__\u001b[0m:\u001b[36mget_recommendation\u001b[0m:\u001b[36m87\u001b[0m - \u001b[34m\u001b[1mPredicting components...\u001b[0m\n",
      "\u001b[32m2024-06-20 12:19:35.275\u001b[0m | \u001b[1mINFO    \u001b[0m | \u001b[36m__main__\u001b[0m:\u001b[36mget_recommendation\u001b[0m:\u001b[36m90\u001b[0m - \u001b[1mPredicted components: ['comp:vm', 'comp:gc', 'comp:test']\u001b[0m\n",
      "\u001b[32m2024-06-20 12:19:35.276\u001b[0m | \u001b[34m\u001b[1mDEBUG   \u001b[0m | \u001b[36m__main__\u001b[0m:\u001b[36mget_recommendation\u001b[0m:\u001b[36m92\u001b[0m - \u001b[34m\u001b[1mGenerating developer recommendations...\u001b[0m\n"
     ]
    },
    {
     "name": "stdout",
     "output_type": "stream",
     "text": [
      "Issue URL:  https://github.com/eclipse-openj9/openj9/issues/19334\n",
      "Actual owner:  pshipton\n",
      "Actual component:  comp:vm\n"
     ]
    },
    {
     "name": "stderr",
     "output_type": "stream",
     "text": [
      "\u001b[32m2024-06-20 12:19:35.311\u001b[0m | \u001b[1mINFO    \u001b[0m | \u001b[36m__main__\u001b[0m:\u001b[36mget_recommendation\u001b[0m:\u001b[36m99\u001b[0m - \u001b[1mRecommended developers: ['mikezhang1234567890', 'keithc-ca', 'hzongaro']\u001b[0m\n",
      "\u001b[32m2024-06-20 12:19:35.312\u001b[0m | \u001b[34m\u001b[1mDEBUG   \u001b[0m | \u001b[36m__main__\u001b[0m:\u001b[36mget_recommendation\u001b[0m:\u001b[36m101\u001b[0m - \u001b[34m\u001b[1mGenerating recommendations by similarity...\u001b[0m\n",
      "\u001b[32m2024-06-20 12:19:35.340\u001b[0m | \u001b[33m\u001b[1mWARNING \u001b[0m | \u001b[36m__main__\u001b[0m:\u001b[36m_get_historical_contributors\u001b[0m:\u001b[36m308\u001b[0m - \u001b[33m\u001b[1mSkipped users: {'dchopra001', 'mikezhang1234567890', 'andrewcraik', 'PascalSchumacher', 'fjeremic', 'DanHeidinga'} because they don't exist in the expected developers list\u001b[0m\n",
      "\u001b[32m2024-06-20 12:19:35.341\u001b[0m | \u001b[34m\u001b[1mDEBUG   \u001b[0m | \u001b[36m__main__\u001b[0m:\u001b[36m_get_recommendation_by_similarity\u001b[0m:\u001b[36m245\u001b[0m - \u001b[34m\u001b[1m[('pshipton', 4.682542394465974), ('Akira1Saitoh', 1.7882484696126846), ('hzongaro', 1.5787483303407723), ('tajila', 0.0005607664597205145), ('dmitripivkine', 2.73656584099672e-08)]\u001b[0m\n",
      "\u001b[32m2024-06-20 12:19:35.343\u001b[0m | \u001b[1mINFO    \u001b[0m | \u001b[36m__main__\u001b[0m:\u001b[36mget_recommendation\u001b[0m:\u001b[36m125\u001b[0m - \u001b[1mRecommended developers by issue similarity: ['pshipton', 'Akira1Saitoh', 'hzongaro', 'tajila', 'dmitripivkine']\u001b[0m\n",
      "\u001b[32m2024-06-20 12:19:35.344\u001b[0m | \u001b[34m\u001b[1mDEBUG   \u001b[0m | \u001b[36m__main__\u001b[0m:\u001b[36mget_recommendation\u001b[0m:\u001b[36m127\u001b[0m - \u001b[34m\u001b[1mAggregating rankings...\u001b[0m\n"
     ]
    },
    {
     "name": "stdout",
     "output_type": "stream",
     "text": [
      "Aggregated score tensor([1.3422, 1.1808, 1.0000], device='cuda:0')\n"
     ]
    },
    {
     "data": {
      "text/plain": [
       "{'predicted_components': ['comp:vm', 'comp:gc', 'comp:test'],\n",
       " 'comp_prediction_score': [0.9986054301261902,\n",
       "  0.0013944254023954272,\n",
       "  1.2235675228566834e-07],\n",
       " 'predicted_developers': ['mikezhang1234567890', 'keithc-ca', 'hzongaro'],\n",
       " 'dev_prediction_score': tensor([1.3422, 1.1808, 1.0000], device='cuda:0'),\n",
       " 'similar_devs': [('pshipton', 4.682542394465974),\n",
       "  ('Akira1Saitoh', 1.7882484696126846),\n",
       "  ('hzongaro', 1.5787483303407723)],\n",
       " 'combined_ranking': ['pshipton', 'hzongaro', 'mikezhang1234567890']}"
      ]
     },
     "execution_count": 57,
     "metadata": {},
     "output_type": "execute_result"
    }
   ],
   "source": [
    "get_recommendation(264, k_comp=3, k_dev=3, k_rank=20, sim=0.6)"
   ]
  },
  {
   "cell_type": "code",
   "execution_count": 33,
   "metadata": {},
   "outputs": [
    {
     "name": "stdout",
     "output_type": "stream",
     "text": [
      "https://github.com/eclipse-openj9/openj9/issues/17962\n"
     ]
    },
    {
     "data": {
      "text/plain": [
       "(Unnamed: 0                                                   7258\n",
       " issue_number                                                17962\n",
       " issue_title     testDDRExtJunit_FindExtThread Failed to constr...\n",
       " description     testDDRExtJunit_FindExtThread_0\\r\\n```\\r\\n    ...\n",
       " issue_url       https://github.com/eclipse-openj9/openj9/issue...\n",
       " issue_state                                                  open\n",
       " creator                                                  pshipton\n",
       " labels                                      comp:vm, test failure\n",
       " owner                                                    pshipton\n",
       " component                                                 comp:vm\n",
       " text            Bug Title: testDDRExtJunit_FindExtThread Faile...\n",
       " owner_id                                                       41\n",
       " Name: 59, dtype: object,\n",
       " {'predicted_components': ['comp:vm', 'comp:test', 'comp:gc'],\n",
       "  'comp_prediction_score': [0.8749904036521912,\n",
       "   0.12500955164432526,\n",
       "   1.1886748296774385e-07],\n",
       "  'predicted_developers': ['keithc-ca',\n",
       "   'JasonFengJ9',\n",
       "   'pshipton',\n",
       "   'mikezhang1234567890',\n",
       "   'llxia',\n",
       "   'ChengJin01',\n",
       "   'pdbain-ibm',\n",
       "   'hangshao0',\n",
       "   'babsingh',\n",
       "   'dsouzai',\n",
       "   'dchopra001',\n",
       "   'knn-k',\n",
       "   'fjeremic',\n",
       "   'Mesbah-Alam',\n",
       "   'gacholio',\n",
       "   'hzongaro',\n",
       "   'tajila',\n",
       "   'ymanton',\n",
       "   'AlenBadel',\n",
       "   'smlambert'],\n",
       "  'dev_prediction_score': tensor([1.4836, 1.2968, 1.1538, 0.9695, 0.9617, 0.8418, 0.7791, 0.7420, 0.7287,\n",
       "          0.7242, 0.6264, 0.6209, 0.5987, 0.5965, 0.5371, 0.5336, 0.5292, 0.5202,\n",
       "          0.5173, 0.4832], device='cuda:0'),\n",
       "  'similar_devs': [('JasonFengJ9', 7.14595020986601),\n",
       "   ('babsingh', 4.1825529241733435),\n",
       "   ('ymanton', 3.7613171445463487),\n",
       "   ('ChengJin01', 3.637917533822839),\n",
       "   ('pshipton', 3.5885314265311417),\n",
       "   ('keithc-ca', 3.5347975052547023),\n",
       "   ('r30shah', 3.478831877523346),\n",
       "   ('hangshao0', 1.8971324172570898),\n",
       "   ('knn-k', 1.888074064741972),\n",
       "   ('llxia', 1.8638609657121155),\n",
       "   ('cjjdespres', 1.852862650656752),\n",
       "   ('a7ehuo', 1.836497579009215),\n",
       "   ('tajila', 1.7481087371871513),\n",
       "   ('smlambert', 1.7389880233558017),\n",
       "   ('dmitripivkine', 0.026126545992671064),\n",
       "   ('0xdaryl', 0.012571582212036941),\n",
       "   ('mpirvu', 0.007922486553677275),\n",
       "   ('fengxue-IS', 0.0055002804644058816),\n",
       "   ('dsouzai', 0.00013998730283296237),\n",
       "   ('jdmpapin', 0.00010095585987706781)],\n",
       "  'combined_ranking': ['JasonFengJ9',\n",
       "   'keithc-ca',\n",
       "   'pshipton',\n",
       "   'babsingh',\n",
       "   'ChengJin01',\n",
       "   'llxia',\n",
       "   'hangshao0',\n",
       "   'mikezhang1234567890',\n",
       "   'knn-k',\n",
       "   'ymanton',\n",
       "   'pdbain-ibm',\n",
       "   'tajila',\n",
       "   'dsouzai',\n",
       "   'dchopra001',\n",
       "   'r30shah',\n",
       "   'smlambert',\n",
       "   'fjeremic',\n",
       "   'Mesbah-Alam',\n",
       "   'gacholio',\n",
       "   'hzongaro']})"
      ]
     },
     "execution_count": 33,
     "metadata": {},
     "output_type": "execute_result"
    }
   ],
   "source": [
    "anal_id = 47\n",
    "\n",
    "print(df_test.iloc[anal_id][\"issue_url\"])\n",
    "df_test.iloc[anal_id], recommendations[anal_id]"
   ]
  },
  {
   "cell_type": "code",
   "execution_count": null,
   "metadata": {},
   "outputs": [],
   "source": []
  }
 ],
 "metadata": {
  "kernelspec": {
   "display_name": "Python 3 (ipykernel)",
   "language": "python",
   "name": "python3"
  },
  "language_info": {
   "codemirror_mode": {
    "name": "ipython",
    "version": 3
   },
   "file_extension": ".py",
   "mimetype": "text/x-python",
   "name": "python",
   "nbconvert_exporter": "python",
   "pygments_lexer": "ipython3",
   "version": "3.10.13"
  }
 },
 "nbformat": 4,
 "nbformat_minor": 2
}
