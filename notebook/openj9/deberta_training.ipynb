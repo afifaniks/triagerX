{
 "cells": [
  {
   "cell_type": "markdown",
   "metadata": {},
   "source": [
    "# Import Modules"
   ]
  },
  {
   "cell_type": "code",
   "execution_count": 1,
   "metadata": {},
   "outputs": [
    {
     "name": "stderr",
     "output_type": "stream",
     "text": [
      "/home/mdafifal.mamun/miniconda3/envs/trx/lib/python3.10/site-packages/transformers/utils/generic.py:441: UserWarning: torch.utils._pytree._register_pytree_node is deprecated. Please use torch.utils._pytree.register_pytree_node instead.\n",
      "  _torch_pytree._register_pytree_node(\n"
     ]
    }
   ],
   "source": [
    "import re\n",
    "import torch\n",
    "import numpy as np\n",
    "import pandas as pd\n",
    "import torch.nn as nn\n",
    "import torch.nn.functional as F\n",
    "from torch.optim import AdamW\n",
    "from torch.utils.data import Dataset, DataLoader\n",
    "from torch.optim.lr_scheduler import ReduceLROnPlateau\n",
    "from torch.utils.data.sampler import WeightedRandomSampler\n",
    "from tqdm import tqdm\n",
    "from sentence_transformers import SentenceTransformer, util\n",
    "from loguru import logger\n",
    "from transformers import AutoModel, AutoTokenizer, get_linear_schedule_with_warmup, PreTrainedTokenizer\n",
    "from sklearn.metrics import precision_recall_fscore_support, classification_report, confusion_matrix\n",
    "import wandb\n",
    "\n",
    "tqdm.pandas()"
   ]
  },
  {
   "cell_type": "markdown",
   "metadata": {},
   "source": [
    "# Prepare Dataset"
   ]
  },
  {
   "cell_type": "code",
   "execution_count": 2,
   "metadata": {},
   "outputs": [
    {
     "name": "stderr",
     "output_type": "stream",
     "text": [
      "100%|██████████| 4381/4381 [00:00<00:00, 115320.99it/s]\n"
     ]
    },
    {
     "name": "stdout",
     "output_type": "stream",
     "text": [
      "Total number of issues: 4381\n"
     ]
    }
   ],
   "source": [
    "dataset_path = \"/home/mdafifal.mamun/notebooks/triagerX/notebook/data/openj9/openj9_processed.csv\"\n",
    "\n",
    "df = pd.read_csv(dataset_path)\n",
    "df = df.rename(columns={\"assignees\": \"owner\", \"issue_body\": \"description\"})\n",
    "df = df[df[\"owner\"].notna()]\n",
    "special_tokens = {\n",
    "    \"hex\": \"[HEX]\",\n",
    "    \"timestamp\": \"[TIMESTAMP]\",\n",
    "    \"float\": \"[FLOAT_VALUE]\",\n",
    "    \"param\": \"[PARAM_VALUE]\"\n",
    "}\n",
    "\n",
    "def clean_issue_description(text):\n",
    "    cleaned_text = text.strip()\n",
    "    cleaned_text = re.sub(r'0x[\\da-fA-F]+', special_tokens[\"hex\"], cleaned_text)\n",
    "    cleaned_text = re.sub(r'\\b[0-9a-fA-F]{16}\\b', special_tokens[\"hex\"], cleaned_text)\n",
    "    cleaned_text = re.sub(r'\\b\\d{2}:\\d{2}:\\d{2}\\.\\d{3}\\b', special_tokens[\"timestamp\"], cleaned_text)\n",
    "    cleaned_text = re.sub(r'\\s*[-+]?\\d*\\.\\d+([eE][-+]?\\d+)?', special_tokens[\"float\"], cleaned_text)\n",
    "    cleaned_text = re.sub(r'=\\s*-?\\d+', f'= {special_tokens[\"param\"]}', cleaned_text)\n",
    "    \n",
    "    return cleaned_text\n",
    "\n",
    "def clean_data(df):\n",
    "    df['text'] = df['text'].str.replace('http[s]?://(?:[a-zA-Z]|[0-9]|[$-_@.&+]|[!*\\(\\),]|(?:%[0-9a-fA-F][0-9a-fA-F]))+', ' ', regex=True)\n",
    "    df[\"text\"] = df['text'].str.replace(\" +\", \" \", regex=True)\n",
    "    df[\"text\"] = df[\"text\"].apply(clean_issue_description)\n",
    "\n",
    "    return df\n",
    "    \n",
    "def prepare_dataframe(df: pd.DataFrame) -> pd.DataFrame:\n",
    "    df[\"text\"] = df.progress_apply(\n",
    "            lambda x: \"Title: \"\n",
    "            + str(x[\"issue_title\"])\n",
    "            # + \"\\nComponent: \"\n",
    "            # + str(x[\"component\"])\n",
    "            # + \"\\nIssue Topic: \"\n",
    "            # + str(x[\"topic_label\"])\n",
    "            + \"\\nDescription: \"\n",
    "            + str(x[\"description\"]),\n",
    "            axis=1,\n",
    "        )\n",
    "    \n",
    "    min_length = 15\n",
    "    df = df[df[\"text\"].str.len().gt(min_length)]\n",
    "\n",
    "    # df[\"owner_id\"] = pd.factorize(df[\"assignees\"])[0]\n",
    "\n",
    "    return df\n",
    "\n",
    "df = prepare_dataframe(df)\n",
    "df = clean_data(df)\n",
    "df = df.sort_values(by=\"issue_number\")\n",
    "\n",
    "num_issues = len(df)\n",
    "\n",
    "print(f\"Total number of issues: {num_issues}\")"
   ]
  },
  {
   "cell_type": "code",
   "execution_count": 3,
   "metadata": {},
   "outputs": [],
   "source": [
    "vm_users = ['pshipton', 'keithc-ca', 'gacholio', 'tajila', 'babsingh', 'JasonFengJ9', 'fengxue-IS', 'hangshao0', 'theresa.t.mammarella', 'ChengJin01', 'singh264', 'thallium', 'ThanHenderson']\n",
    "jvmti_users = ['gacholio', 'tajila', 'babsingh', 'fengxue-IS']\n",
    "jclextensions_users = ['JasonFengJ9', 'pshipton', 'keithc-ca']\n",
    "test_users = ['LongyuZhang', 'annaibm', 'sophiaxu0424', 'KapilPowar', 'llxia']\n",
    "build_users = ['adambrousseau', 'mahdipub']\n",
    "gc_users = ['dmitripivkine', 'amicic', 'kangyining', 'LinHu2016']\n",
    "\n",
    "# Putting them in dictionaries\n",
    "components = {\n",
    "    'comp:vm': vm_users,\n",
    "    'comp:jvmti': jvmti_users,\n",
    "    'comp:jclextensions': jclextensions_users,\n",
    "    'comp:test': test_users,\n",
    "    'comp:build': build_users,\n",
    "    'comp:gc': gc_users\n",
    "}\n",
    "\n",
    "expected_users = [user for user_list in components.values() for user in user_list]"
   ]
  },
  {
   "cell_type": "code",
   "execution_count": 4,
   "metadata": {},
   "outputs": [
    {
     "name": "stdout",
     "output_type": "stream",
     "text": [
      "Total issues after developer filtering: 1992\n"
     ]
    }
   ],
   "source": [
    "df = df[df[\"owner\"].isin(expected_users)]\n",
    "print(\"Total issues after developer filtering:\", len(df))"
   ]
  },
  {
   "cell_type": "code",
   "execution_count": 5,
   "metadata": {},
   "outputs": [
    {
     "data": {
      "text/plain": [
       "owner\n",
       "JasonFengJ9      363\n",
       "pshipton         317\n",
       "keithc-ca        269\n",
       "babsingh         251\n",
       "hangshao0        108\n",
       "gacholio         104\n",
       "ChengJin01       100\n",
       "fengxue-IS        99\n",
       "llxia             97\n",
       "tajila            81\n",
       "LongyuZhang       41\n",
       "LinHu2016         36\n",
       "dmitripivkine     32\n",
       "thallium          30\n",
       "amicic            27\n",
       "singh264          20\n",
       "ThanHenderson     10\n",
       "kangyining         6\n",
       "sophiaxu0424       1\n",
       "Name: count, dtype: int64"
      ]
     },
     "execution_count": 5,
     "metadata": {},
     "output_type": "execute_result"
    }
   ],
   "source": [
    "df.owner.value_counts()"
   ]
  },
  {
   "cell_type": "code",
   "execution_count": 6,
   "metadata": {},
   "outputs": [
    {
     "name": "stdout",
     "output_type": "stream",
     "text": [
      "Samples per block: 200\n"
     ]
    }
   ],
   "source": [
    "# Cross-Validation Fold Definition\n",
    "\n",
    "num_cv = 10\n",
    "sample_threshold = 10 # Threshold to filter developers\n",
    "samples_per_block = len(df) // num_cv + 1\n",
    "print(f\"Samples per block: {samples_per_block}\")\n",
    "\n",
    "block = 9 \n",
    "sliced_df = df[: samples_per_block * (block+1)]"
   ]
  },
  {
   "cell_type": "code",
   "execution_count": 7,
   "metadata": {},
   "outputs": [],
   "source": [
    "from sklearn.model_selection import train_test_split"
   ]
  },
  {
   "cell_type": "code",
   "execution_count": 8,
   "metadata": {},
   "outputs": [
    {
     "name": "stdout",
     "output_type": "stream",
     "text": [
      "Training data: 1577, Validation data: 398\n",
      "Number of developers: 16\n"
     ]
    }
   ],
   "source": [
    "# Train and Validation preparation\n",
    "\n",
    "# X_df = sliced_df[:samples_per_block*block]\n",
    "# y_df = sliced_df[samples_per_block*block : samples_per_block * (block+2)]\n",
    "\n",
    "X_df, y_df = train_test_split(df, test_size=0.2)\n",
    "\n",
    "developers = X_df[\"owner\"].value_counts()\n",
    "filtered_developers = developers.index[developers >= sample_threshold]\n",
    "X_df = X_df[X_df[\"owner\"].isin(filtered_developers)]\n",
    "# X_df[\"owner\"] = X_df[\"owner\"].apply(lambda x: x if x in filtered_developers else \"minority\")\n",
    "# y_df[\"owner\"] = y_df[\"owner\"].apply(lambda x: x if x in filtered_developers else \"minority\")\n",
    "\n",
    "train_owners = set(X_df[\"owner\"])\n",
    "test_owners = set(y_df[\"owner\"])\n",
    "\n",
    "unwanted = list(test_owners - train_owners)\n",
    "\n",
    "y_df = y_df[~y_df[\"owner\"].isin(unwanted)]\n",
    "\n",
    "print(f\"Training data: {len(X_df)}, Validation data: {len(y_df)}\")\n",
    "print(f\"Number of developers: {len(X_df.owner.unique())}\")"
   ]
  },
  {
   "cell_type": "code",
   "execution_count": 9,
   "metadata": {},
   "outputs": [
    {
     "data": {
      "text/plain": [
       "<Axes: xlabel='owner'>"
      ]
     },
     "execution_count": 9,
     "metadata": {},
     "output_type": "execute_result"
    },
    {
     "data": {
      "image/png": "[encoded data removed]",
      "text/plain": [
       "<Figure size 640x480 with 1 Axes>"
      ]
     },
     "metadata": {},
     "output_type": "display_data"
    }
   ],
   "source": [
    "X_df.owner.value_counts().plot(kind=\"bar\")"
   ]
  },
  {
   "cell_type": "code",
   "execution_count": 10,
   "metadata": {},
   "outputs": [
    {
     "data": {
      "text/plain": [
       "<Axes: xlabel='owner'>"
      ]
     },
     "execution_count": 10,
     "metadata": {},
     "output_type": "execute_result"
    },
    {
     "data": {
      "image/png": "[encoded data removed]",
      "text/plain": [
       "<Figure size 640x480 with 1 Axes>"
      ]
     },
     "metadata": {},
     "output_type": "display_data"
    }
   ],
   "source": [
    "y_df.owner.value_counts().plot(kind=\"bar\")"
   ]
  },
  {
   "cell_type": "code",
   "execution_count": 11,
   "metadata": {},
   "outputs": [],
   "source": [
    "# Label encode developers\n",
    "\n",
    "lbl2idx = {}\n",
    "\n",
    "train_owners = sorted(train_owners)\n",
    "\n",
    "for idx, dev in enumerate(train_owners):\n",
    "    lbl2idx[dev] = idx\n",
    "\n",
    "X_df[\"owner_id\"] = X_df[\"owner\"].apply(lambda owner: lbl2idx[owner])\n",
    "y_df[\"owner_id\"] = y_df[\"owner\"].apply(lambda owner: lbl2idx[owner])"
   ]
  },
  {
   "cell_type": "code",
   "execution_count": 12,
   "metadata": {},
   "outputs": [],
   "source": [
    "assert len(X_df.owner.unique()) == len(y_df.owner.unique())"
   ]
  },
  {
   "cell_type": "code",
   "execution_count": 13,
   "metadata": {},
   "outputs": [
    {
     "data": {
      "text/plain": [
       "{'ChengJin01': 0,\n",
       " 'JasonFengJ9': 1,\n",
       " 'LinHu2016': 2,\n",
       " 'LongyuZhang': 3,\n",
       " 'amicic': 4,\n",
       " 'babsingh': 5,\n",
       " 'dmitripivkine': 6,\n",
       " 'fengxue-IS': 7,\n",
       " 'gacholio': 8,\n",
       " 'hangshao0': 9,\n",
       " 'keithc-ca': 10,\n",
       " 'llxia': 11,\n",
       " 'pshipton': 12,\n",
       " 'singh264': 13,\n",
       " 'tajila': 14,\n",
       " 'thallium': 15}"
      ]
     },
     "execution_count": 13,
     "metadata": {},
     "output_type": "execute_result"
    }
   ],
   "source": [
    "lbl2idx"
   ]
  },
  {
   "cell_type": "code",
   "execution_count": 14,
   "metadata": {},
   "outputs": [
    {
     "data": {
      "text/plain": [
       "<Axes: xlabel='owner_id'>"
      ]
     },
     "execution_count": 14,
     "metadata": {},
     "output_type": "execute_result"
    },
    {
     "data": {
      "image/png": "[encoded data removed]",
      "text/plain": [
       "<Figure size 640x480 with 1 Axes>"
      ]
     },
     "metadata": {},
     "output_type": "display_data"
    }
   ],
   "source": [
    "# Contribution plot\n",
    "\n",
    "y_df.owner_id.value_counts().plot(kind=\"bar\")"
   ]
  },
  {
   "cell_type": "markdown",
   "metadata": {},
   "source": [
    "# Prepare PyTorch Dataset"
   ]
  },
  {
   "cell_type": "code",
   "execution_count": 15,
   "metadata": {},
   "outputs": [],
   "source": [
    "class TriageDataset(Dataset):\n",
    "    def __init__(\n",
    "        self,\n",
    "        df: pd.DataFrame,\n",
    "        tokenizer: PreTrainedTokenizer,\n",
    "        feature: str = \"text\",\n",
    "        target: str = \"owner_id\",\n",
    "    ):\n",
    "        logger.debug(\"Generating torch dataset...\")\n",
    "        self.tokenizer = tokenizer\n",
    "        self.labels = [label for label in df[target]]\n",
    "        # self.embedding_model = SentenceTransformer(\"BAAI/bge-small-en\")\n",
    "        logger.debug(\"Tokenizing texts...\")\n",
    "        self.texts = [\n",
    "            (row.text, self.tokenizer(\n",
    "                row.text,\n",
    "                padding=\"max_length\",\n",
    "                max_length=512,\n",
    "                truncation=True,\n",
    "                return_tensors=\"pt\",\n",
    "            ))\n",
    "            for _, row in df.iterrows()\n",
    "        ]\n",
    "\n",
    "    def classes(self):\n",
    "        return self.labels\n",
    "\n",
    "    def __len__(self):\n",
    "        return len(self.labels)\n",
    "\n",
    "    def get_batch_labels(self, idx):\n",
    "        # Fetch a batch of labels\n",
    "        return np.array(self.labels[idx])\n",
    "\n",
    "    def get_batch_texts(self, idx):\n",
    "        # Fetch a batch of inputs\n",
    "        return self.texts[idx]\n",
    "\n",
    "    def __getitem__(self, idx):\n",
    "\n",
    "        batch_texts = self.get_batch_texts(idx)\n",
    "        batch_y = self.get_batch_labels(idx)\n",
    "\n",
    "        return batch_texts, batch_y\n"
   ]
  },
  {
   "cell_type": "markdown",
   "metadata": {},
   "source": [
    "# Training Parameters"
   ]
  },
  {
   "cell_type": "code",
   "execution_count": 16,
   "metadata": {},
   "outputs": [
    {
     "name": "stderr",
     "output_type": "stream",
     "text": [
      "\u001b[34m\u001b[1mwandb\u001b[0m: Currently logged in as: \u001b[33mafifaniks\u001b[0m. Use \u001b[1m`wandb login --relogin`\u001b[0m to force relogin\n"
     ]
    },
    {
     "data": {
      "text/plain": [
       "True"
      ]
     },
     "execution_count": 16,
     "metadata": {},
     "output_type": "execute_result"
    }
   ],
   "source": [
    "wandb.login()"
   ]
  },
  {
   "cell_type": "code",
   "execution_count": 17,
   "metadata": {},
   "outputs": [],
   "source": [
    "from triagerx.model.lbt_p_deberta import LBTPDeberta\n",
    "from triagerx.model.lbtp_bilstm import LBTPBiLSTM\n",
    "from triagerx.loss.loss_functions import *"
   ]
  },
  {
   "cell_type": "code",
   "execution_count": 18,
   "metadata": {},
   "outputs": [
    {
     "name": "stderr",
     "output_type": "stream",
     "text": [
      "/home/mdafifal.mamun/miniconda3/envs/trx/lib/python3.10/site-packages/transformers/utils/generic.py:309: UserWarning: torch.utils._pytree._register_pytree_node is deprecated. Please use torch.utils._pytree.register_pytree_node instead.\n",
      "  _torch_pytree._register_pytree_node(\n",
      "/home/mdafifal.mamun/miniconda3/envs/trx/lib/python3.10/site-packages/transformers/utils/generic.py:309: UserWarning: torch.utils._pytree._register_pytree_node is deprecated. Please use torch.utils._pytree.register_pytree_node instead.\n",
      "  _torch_pytree._register_pytree_node(\n"
     ]
    },
    {
     "data": {
      "text/html": [
       "wandb version 0.16.6 is available!  To upgrade, please run:\n",
       " $ pip install wandb --upgrade"
      ],
      "text/plain": [
       "<IPython.core.display.HTML object>"
      ]
     },
     "metadata": {},
     "output_type": "display_data"
    },
    {
     "data": {
      "text/html": [
       "Tracking run with wandb version 0.16.2"
      ],
      "text/plain": [
       "<IPython.core.display.HTML object>"
      ]
     },
     "metadata": {},
     "output_type": "display_data"
    },
    {
     "data": {
      "text/html": [
       "Run data is saved locally in <code>/home/mdafifal.mamun/notebooks/triagerX/wandb/run-20240502_140041-qhp89s5o</code>"
      ],
      "text/plain": [
       "<IPython.core.display.HTML object>"
      ]
     },
     "metadata": {},
     "output_type": "display_data"
    },
    {
     "data": {
      "text/html": [
       "Syncing run <strong><a href='https://wandb.ai/afifaniks/openj9_developers/runs/qhp89s5o' target=\"_blank\">dev_ex_LBTPDeberta_u4_cv9_classes16_CombinedLoss</a></strong> to <a href='https://wandb.ai/afifaniks/openj9_developers' target=\"_blank\">Weights & Biases</a> (<a href='https://wandb.me/run' target=\"_blank\">docs</a>)<br/>"
      ],
      "text/plain": [
       "<IPython.core.display.HTML object>"
      ]
     },
     "metadata": {},
     "output_type": "display_data"
    },
    {
     "data": {
      "text/html": [
       " View project at <a href='https://wandb.ai/afifaniks/openj9_developers' target=\"_blank\">https://wandb.ai/afifaniks/openj9_developers</a>"
      ],
      "text/plain": [
       "<IPython.core.display.HTML object>"
      ]
     },
     "metadata": {},
     "output_type": "display_data"
    },
    {
     "data": {
      "text/html": [
       " View run at <a href='https://wandb.ai/afifaniks/openj9_developers/runs/qhp89s5o' target=\"_blank\">https://wandb.ai/afifaniks/openj9_developers/runs/qhp89s5o</a>"
      ],
      "text/plain": [
       "<IPython.core.display.HTML object>"
      ]
     },
     "metadata": {},
     "output_type": "display_data"
    },
    {
     "data": {
      "text/html": [
       "<button onClick=\"this.nextSibling.style.display='block';this.style.display='none';\">Display W&B run</button><iframe src='https://wandb.ai/afifaniks/openj9_developers/runs/qhp89s5o?jupyter=true' style='border:none;width:100%;height:420px;display:none;'></iframe>"
      ],
      "text/plain": [
       "<wandb.sdk.wandb_run.Run at 0x7f02a07fd8d0>"
      ]
     },
     "execution_count": 18,
     "metadata": {},
     "output_type": "execute_result"
    }
   ],
   "source": [
    "class_counts = np.bincount(X_df[\"owner_id\"])\n",
    "num_samples = sum(class_counts)\n",
    "labels = X_df[\"owner_id\"].to_list() # corresponding labels of samples\n",
    "\n",
    "class_weights = [num_samples/class_counts[i] for i in range(len(class_counts))]\n",
    "weights = [class_weights[labels[i]] for i in range(int(num_samples))]\n",
    "sampler = WeightedRandomSampler(torch.DoubleTensor(weights), int(num_samples))\n",
    "\n",
    "\n",
    "# Define hyperparameters\n",
    "learning_rate = 1e-5\n",
    "epochs = 40\n",
    "batch_size = 10\n",
    "unfrozen_layers=4\n",
    "num_classes = len(X_df.owner_id.unique())\n",
    "\n",
    "model = LBTPDeberta(\n",
    "    output_size=num_classes, \n",
    "    unfrozen_layers=unfrozen_layers, \n",
    "    dropout=0.3, \n",
    "    base_model=\"microsoft/deberta-large\"\n",
    ")\n",
    "# criterion = CombineLoss(weights=None)\n",
    "criterion = CombinedLoss(weights=None)\n",
    "optimizer = AdamW(model.parameters(), lr=learning_rate, weight_decay=0.001)\n",
    "# scheduler = ReduceLROnPlateau(optimizer, \"min\", patience=2, factor=0.1, threshold=1e-10, verbose=True)\n",
    "\n",
    "run_name = f\"dev_ex_{model.__class__.__name__}_u{unfrozen_layers}_cv{block}_classes{num_classes}_{criterion.__class__.__name__}\"\n",
    "weights_save_location = f\"/work/disa_lab/projects/triagerx/models/{run_name}.pt\"\n",
    "wandb.init(\n",
    "    # Set the project where this run will be logged\n",
    "    project=\"openj9_developers\", \n",
    "    # We pass a run name (otherwise it’ll be randomly assigned, like sunshine-lollypop-10)\n",
    "    name=run_name, \n",
    "    # Track hyperparameters and run metadata\n",
    "    config={\n",
    "    \"learning_rate\": learning_rate,\n",
    "    \"architecture\": \"Deberta-LBT-P\",\n",
    "    \"dataset\": \"openj9\",\n",
    "    \"epochs\": epochs,\n",
    "})"
   ]
  },
  {
   "cell_type": "code",
   "execution_count": 19,
   "metadata": {},
   "outputs": [],
   "source": [
    "tokenizer = model.tokenizer()"
   ]
  },
  {
   "cell_type": "code",
   "execution_count": 20,
   "metadata": {},
   "outputs": [
    {
     "data": {
      "text/plain": [
       "['[CLS]', '[SEP]', '[UNK]', '[PAD]', '[MASK]']"
      ]
     },
     "execution_count": 20,
     "metadata": {},
     "output_type": "execute_result"
    }
   ],
   "source": [
    "tokenizer.all_special_tokens"
   ]
  },
  {
   "cell_type": "code",
   "execution_count": 21,
   "metadata": {},
   "outputs": [
    {
     "data": {
      "text/plain": [
       "Embedding(50269, 1024)"
      ]
     },
     "execution_count": 21,
     "metadata": {},
     "output_type": "execute_result"
    }
   ],
   "source": [
    "special_tokens_dict = {\"additional_special_tokens\": list(special_tokens.values())}\n",
    "num_added_toks = tokenizer.add_special_tokens(special_tokens_dict)\n",
    "model.base_model.resize_token_embeddings(len(tokenizer))"
   ]
  },
  {
   "cell_type": "code",
   "execution_count": 22,
   "metadata": {},
   "outputs": [
    {
     "name": "stdout",
     "output_type": "stream",
     "text": [
      "[1, 2, 3, 0, 50264, 50265, 50266, 50267, 50268]\n"
     ]
    }
   ],
   "source": [
    "# tokenizer.all_special_tokens\n",
    "print(tokenizer.all_special_ids)"
   ]
  },
  {
   "cell_type": "code",
   "execution_count": 23,
   "metadata": {},
   "outputs": [],
   "source": [
    "X_df.to_csv(\"train_data.csv\")\n",
    "y_df.to_csv(\"test_data.csv\")"
   ]
  },
  {
   "cell_type": "code",
   "execution_count": 24,
   "metadata": {},
   "outputs": [
    {
     "name": "stderr",
     "output_type": "stream",
     "text": [
      "\u001b[32m2024-05-02 14:00:52.442\u001b[0m | \u001b[34m\u001b[1mDEBUG   \u001b[0m | \u001b[36m__main__\u001b[0m:\u001b[36m__init__\u001b[0m:\u001b[36m9\u001b[0m - \u001b[34m\u001b[1mGenerating torch dataset...\u001b[0m\n",
      "\u001b[32m2024-05-02 14:00:52.445\u001b[0m | \u001b[34m\u001b[1mDEBUG   \u001b[0m | \u001b[36m__main__\u001b[0m:\u001b[36m__init__\u001b[0m:\u001b[36m13\u001b[0m - \u001b[34m\u001b[1mTokenizing texts...\u001b[0m\n",
      "\u001b[32m2024-05-02 14:00:56.138\u001b[0m | \u001b[34m\u001b[1mDEBUG   \u001b[0m | \u001b[36m__main__\u001b[0m:\u001b[36m__init__\u001b[0m:\u001b[36m9\u001b[0m - \u001b[34m\u001b[1mGenerating torch dataset...\u001b[0m\n",
      "\u001b[32m2024-05-02 14:00:56.141\u001b[0m | \u001b[34m\u001b[1mDEBUG   \u001b[0m | \u001b[36m__main__\u001b[0m:\u001b[36m__init__\u001b[0m:\u001b[36m13\u001b[0m - \u001b[34m\u001b[1mTokenizing texts...\u001b[0m\n"
     ]
    }
   ],
   "source": [
    "# Prepare torch dataset from train and validation splits\n",
    "train = TriageDataset(X_df, tokenizer)\n",
    "val = TriageDataset(y_df, tokenizer)"
   ]
  },
  {
   "cell_type": "code",
   "execution_count": 25,
   "metadata": {},
   "outputs": [],
   "source": [
    "train_dataloader = DataLoader(\n",
    "    dataset=train,\n",
    "    batch_size=batch_size,\n",
    "    shuffle=False if sampler else True,\n",
    "    sampler=sampler,\n",
    ")\n",
    "val_dataloader = DataLoader(val, batch_size=batch_size)"
   ]
  },
  {
   "cell_type": "code",
   "execution_count": 26,
   "metadata": {},
   "outputs": [],
   "source": [
    "total_steps = len(train_dataloader) * epochs\n",
    "warmup_steps = int(0.1 * total_steps)\n",
    "scheduler = get_linear_schedule_with_warmup(optimizer, num_warmup_steps=warmup_steps, num_training_steps=total_steps)\n"
   ]
  },
  {
   "cell_type": "code",
   "execution_count": 27,
   "metadata": {},
   "outputs": [
    {
     "name": "stderr",
     "output_type": "stream",
     "text": [
      "\u001b[32m2024-05-02 14:00:57.116\u001b[0m | \u001b[34m\u001b[1mDEBUG   \u001b[0m | \u001b[36m__main__\u001b[0m:\u001b[36m<module>\u001b[0m:\u001b[36m5\u001b[0m - \u001b[34m\u001b[1mSelected compute device: cuda\u001b[0m\n"
     ]
    }
   ],
   "source": [
    "device = torch.device(\"cuda\" if torch.cuda.is_available() else \"cpu\")\n",
    "best_loss = float(\"inf\")\n",
    "\n",
    "if torch.cuda.is_available():\n",
    "    logger.debug(f\"Selected compute device: {device}\")\n",
    "    model = model.cuda()\n",
    "    criterion = criterion.cuda()"
   ]
  },
  {
   "cell_type": "code",
   "execution_count": 28,
   "metadata": {},
   "outputs": [],
   "source": [
    "def log_step(\n",
    "        epoch_num,\n",
    "        total_acc_train,\n",
    "        total_acc_val,\n",
    "        total_loss_train,\n",
    "        total_loss_val,\n",
    "        precision,\n",
    "        recall,\n",
    "        f1_score,\n",
    "        train_data,\n",
    "        validation_data,\n",
    "        topk,\n",
    "    ):\n",
    "        log = f\"Epochs: {epoch_num + 1} | Train Loss: {total_loss_train / len(train_data): .3f} \\\n",
    "                    | Train Accuracy: {total_acc_train / len(train_data): .3f} \\\n",
    "                    | Val Loss: {total_loss_val / len(validation_data): .3f} \\\n",
    "                    | Val Accuracy: {total_acc_val / len(validation_data): .3f} \\\n",
    "                    | Top K: {topk} \\\n",
    "                    | Precision: {precision: .3f} \\\n",
    "                    | Recall: {recall: .3f} \\\n",
    "                    | F1-score: {f1_score: .3f}\"\n",
    "        \n",
    "        wandb.log({\n",
    "            \"train_acc\": total_acc_train / len(train_data), \n",
    "            \"train_loss\": total_loss_train / len(train_data),\n",
    "            \"val_acc\": total_acc_val / len(validation_data),\n",
    "            \"val_loss\": total_loss_val / len(validation_data),\n",
    "            \"top3_acc\": topk,\n",
    "            \"precision\": precision,\n",
    "            \"recall\": recall,\n",
    "            \"f1-score\": f1_score\n",
    "        })\n",
    "\n",
    "        logger.info(log)"
   ]
  },
  {
   "cell_type": "markdown",
   "metadata": {},
   "source": [
    "# Training Loop"
   ]
  },
  {
   "cell_type": "code",
   "execution_count": 29,
   "metadata": {},
   "outputs": [],
   "source": [
    "model = model.cuda()"
   ]
  },
  {
   "cell_type": "code",
   "execution_count": 30,
   "metadata": {},
   "outputs": [
    {
     "name": "stderr",
     "output_type": "stream",
     "text": [
      "Training Steps:   0%|          | 0/158 [00:00<?, ?it/s]"
     ]
    },
    {
     "name": "stderr",
     "output_type": "stream",
     "text": [
      "Training Steps: 100%|██████████| 158/158 [02:25<00:00,  1.09it/s]\n",
      "Validation Steps: 100%|██████████| 40/40 [00:15<00:00,  2.58it/s]\n",
      "/home/mdafifal.mamun/miniconda3/envs/trx/lib/python3.10/site-packages/sklearn/metrics/_classification.py:1509: UndefinedMetricWarning: Precision is ill-defined and being set to 0.0 in labels with no predicted samples. Use `zero_division` parameter to control this behavior.\n",
      "  _warn_prf(average, modifier, f\"{metric.capitalize()} is\", len(result))\n",
      "\u001b[32m2024-05-02 14:03:38.574\u001b[0m | \u001b[1mINFO    \u001b[0m | \u001b[36m__main__\u001b[0m:\u001b[36mlog_step\u001b[0m:\u001b[36m34\u001b[0m - \u001b[1mEpochs: 1 | Train Loss:  1.706                     | Train Accuracy:  0.073                     | Val Loss:  1.502                     | Val Accuracy:  0.038                     | Top K: 0.11055276381909548                     | Precision:  0.103                     | Recall:  0.048                     | F1-score:  0.031\u001b[0m\n",
      "\u001b[32m2024-05-02 14:03:38.576\u001b[0m | \u001b[32m\u001b[1mSUCCESS \u001b[0m | \u001b[36m__main__\u001b[0m:\u001b[36m<module>\u001b[0m:\u001b[36m99\u001b[0m - \u001b[32m\u001b[1mFound new best model. Saving weights...\u001b[0m\n",
      "Training Steps: 100%|██████████| 158/158 [02:25<00:00,  1.09it/s]\n",
      "Validation Steps: 100%|██████████| 40/40 [00:15<00:00,  2.59it/s]\n",
      "\u001b[32m2024-05-02 14:06:23.534\u001b[0m | \u001b[1mINFO    \u001b[0m | \u001b[36m__main__\u001b[0m:\u001b[36mlog_step\u001b[0m:\u001b[36m34\u001b[0m - \u001b[1mEpochs: 2 | Train Loss:  1.279                     | Train Accuracy:  0.147                     | Val Loss:  1.344                     | Val Accuracy:  0.088                     | Top K: 0.20854271356783918                     | Precision:  0.106                     | Recall:  0.137                     | F1-score:  0.069\u001b[0m\n",
      "\u001b[32m2024-05-02 14:06:23.536\u001b[0m | \u001b[32m\u001b[1mSUCCESS \u001b[0m | \u001b[36m__main__\u001b[0m:\u001b[36m<module>\u001b[0m:\u001b[36m99\u001b[0m - \u001b[32m\u001b[1mFound new best model. Saving weights...\u001b[0m\n",
      "Training Steps: 100%|██████████| 158/158 [02:24<00:00,  1.09it/s]\n",
      "Validation Steps: 100%|██████████| 40/40 [00:15<00:00,  2.60it/s]\n",
      "\u001b[32m2024-05-02 14:09:08.929\u001b[0m | \u001b[1mINFO    \u001b[0m | \u001b[36m__main__\u001b[0m:\u001b[36mlog_step\u001b[0m:\u001b[36m34\u001b[0m - \u001b[1mEpochs: 3 | Train Loss:  1.110                     | Train Accuracy:  0.315                     | Val Loss:  1.346                     | Val Accuracy:  0.080                     | Top K: 0.1984924623115578                     | Precision:  0.097                     | Recall:  0.131                     | F1-score:  0.075\u001b[0m\n",
      "Training Steps: 100%|██████████| 158/158 [02:24<00:00,  1.09it/s]\n",
      "Validation Steps: 100%|██████████| 40/40 [00:15<00:00,  2.60it/s]\n",
      "\u001b[32m2024-05-02 14:11:48.958\u001b[0m | \u001b[1mINFO    \u001b[0m | \u001b[36m__main__\u001b[0m:\u001b[36mlog_step\u001b[0m:\u001b[36m34\u001b[0m - \u001b[1mEpochs: 4 | Train Loss:  0.962                     | Train Accuracy:  0.458                     | Val Loss:  1.273                     | Val Accuracy:  0.121                     | Top K: 0.2864321608040201                     | Precision:  0.084                     | Recall:  0.113                     | F1-score:  0.076\u001b[0m\n",
      "\u001b[32m2024-05-02 14:11:48.960\u001b[0m | \u001b[32m\u001b[1mSUCCESS \u001b[0m | \u001b[36m__main__\u001b[0m:\u001b[36m<module>\u001b[0m:\u001b[36m99\u001b[0m - \u001b[32m\u001b[1mFound new best model. Saving weights...\u001b[0m\n",
      "Training Steps: 100%|██████████| 158/158 [02:24<00:00,  1.09it/s]\n",
      "Validation Steps: 100%|██████████| 40/40 [00:15<00:00,  2.60it/s]\n",
      "\u001b[32m2024-05-02 14:14:34.308\u001b[0m | \u001b[1mINFO    \u001b[0m | \u001b[36m__main__\u001b[0m:\u001b[36mlog_step\u001b[0m:\u001b[36m34\u001b[0m - \u001b[1mEpochs: 5 | Train Loss:  0.796                     | Train Accuracy:  0.614                     | Val Loss:  1.201                     | Val Accuracy:  0.148                     | Top K: 0.3768844221105528                     | Precision:  0.108                     | Recall:  0.107                     | F1-score:  0.093\u001b[0m\n",
      "\u001b[32m2024-05-02 14:14:34.310\u001b[0m | \u001b[32m\u001b[1mSUCCESS \u001b[0m | \u001b[36m__main__\u001b[0m:\u001b[36m<module>\u001b[0m:\u001b[36m99\u001b[0m - \u001b[32m\u001b[1mFound new best model. Saving weights...\u001b[0m\n",
      "Training Steps: 100%|██████████| 158/158 [02:24<00:00,  1.09it/s]\n",
      "Validation Steps: 100%|██████████| 40/40 [00:15<00:00,  2.60it/s]\n",
      "\u001b[32m2024-05-02 14:17:19.951\u001b[0m | \u001b[1mINFO    \u001b[0m | \u001b[36m__main__\u001b[0m:\u001b[36mlog_step\u001b[0m:\u001b[36m34\u001b[0m - \u001b[1mEpochs: 6 | Train Loss:  0.680                     | Train Accuracy:  0.721                     | Val Loss:  1.159                     | Val Accuracy:  0.214                     | Top K: 0.4271356783919598                     | Precision:  0.191                     | Recall:  0.194                     | F1-score:  0.177\u001b[0m\n",
      "\u001b[32m2024-05-02 14:17:19.953\u001b[0m | \u001b[32m\u001b[1mSUCCESS \u001b[0m | \u001b[36m__main__\u001b[0m:\u001b[36m<module>\u001b[0m:\u001b[36m99\u001b[0m - \u001b[32m\u001b[1mFound new best model. Saving weights...\u001b[0m\n",
      "Training Steps: 100%|██████████| 158/158 [02:24<00:00,  1.09it/s]\n",
      "Validation Steps: 100%|██████████| 40/40 [00:15<00:00,  2.59it/s]\n",
      "\u001b[32m2024-05-02 14:20:05.532\u001b[0m | \u001b[1mINFO    \u001b[0m | \u001b[36m__main__\u001b[0m:\u001b[36mlog_step\u001b[0m:\u001b[36m34\u001b[0m - \u001b[1mEpochs: 7 | Train Loss:  0.586                     | Train Accuracy:  0.770                     | Val Loss:  1.147                     | Val Accuracy:  0.183                     | Top K: 0.4623115577889447                     | Precision:  0.155                     | Recall:  0.153                     | F1-score:  0.143\u001b[0m\n",
      "\u001b[32m2024-05-02 14:20:05.534\u001b[0m | \u001b[32m\u001b[1mSUCCESS \u001b[0m | \u001b[36m__main__\u001b[0m:\u001b[36m<module>\u001b[0m:\u001b[36m99\u001b[0m - \u001b[32m\u001b[1mFound new best model. Saving weights...\u001b[0m\n",
      "Training Steps: 100%|██████████| 158/158 [02:24<00:00,  1.09it/s]\n",
      "Validation Steps: 100%|██████████| 40/40 [00:15<00:00,  2.60it/s]\n",
      "/home/mdafifal.mamun/miniconda3/envs/trx/lib/python3.10/site-packages/sklearn/metrics/_classification.py:1509: UndefinedMetricWarning: Precision is ill-defined and being set to 0.0 in labels with no predicted samples. Use `zero_division` parameter to control this behavior.\n",
      "  _warn_prf(average, modifier, f\"{metric.capitalize()} is\", len(result))\n",
      "\u001b[32m2024-05-02 14:22:50.909\u001b[0m | \u001b[1mINFO    \u001b[0m | \u001b[36m__main__\u001b[0m:\u001b[36mlog_step\u001b[0m:\u001b[36m34\u001b[0m - \u001b[1mEpochs: 8 | Train Loss:  0.510                     | Train Accuracy:  0.828                     | Val Loss:  1.130                     | Val Accuracy:  0.214                     | Top K: 0.46733668341708545                     | Precision:  0.160                     | Recall:  0.179                     | F1-score:  0.160\u001b[0m\n",
      "\u001b[32m2024-05-02 14:22:50.911\u001b[0m | \u001b[32m\u001b[1mSUCCESS \u001b[0m | \u001b[36m__main__\u001b[0m:\u001b[36m<module>\u001b[0m:\u001b[36m99\u001b[0m - \u001b[32m\u001b[1mFound new best model. Saving weights...\u001b[0m\n",
      "Training Steps: 100%|██████████| 158/158 [02:24<00:00,  1.09it/s]\n",
      "Validation Steps: 100%|██████████| 40/40 [00:15<00:00,  2.60it/s]\n",
      "/home/mdafifal.mamun/miniconda3/envs/trx/lib/python3.10/site-packages/sklearn/metrics/_classification.py:1509: UndefinedMetricWarning: Precision is ill-defined and being set to 0.0 in labels with no predicted samples. Use `zero_division` parameter to control this behavior.\n",
      "  _warn_prf(average, modifier, f\"{metric.capitalize()} is\", len(result))\n",
      "\u001b[32m2024-05-02 14:25:36.278\u001b[0m | \u001b[1mINFO    \u001b[0m | \u001b[36m__main__\u001b[0m:\u001b[36mlog_step\u001b[0m:\u001b[36m34\u001b[0m - \u001b[1mEpochs: 9 | Train Loss:  0.441                     | Train Accuracy:  0.858                     | Val Loss:  1.120                     | Val Accuracy:  0.264                     | Top K: 0.5125628140703518                     | Precision:  0.243                     | Recall:  0.209                     | F1-score:  0.206\u001b[0m\n",
      "\u001b[32m2024-05-02 14:25:36.280\u001b[0m | \u001b[32m\u001b[1mSUCCESS \u001b[0m | \u001b[36m__main__\u001b[0m:\u001b[36m<module>\u001b[0m:\u001b[36m99\u001b[0m - \u001b[32m\u001b[1mFound new best model. Saving weights...\u001b[0m\n",
      "Training Steps: 100%|██████████| 158/158 [02:24<00:00,  1.09it/s]\n",
      "Validation Steps: 100%|██████████| 40/40 [00:15<00:00,  2.60it/s]\n",
      "\u001b[32m2024-05-02 14:28:21.748\u001b[0m | \u001b[1mINFO    \u001b[0m | \u001b[36m__main__\u001b[0m:\u001b[36mlog_step\u001b[0m:\u001b[36m34\u001b[0m - \u001b[1mEpochs: 10 | Train Loss:  0.412                     | Train Accuracy:  0.876                     | Val Loss:  1.085                     | Val Accuracy:  0.269                     | Top K: 0.5301507537688442                     | Precision:  0.245                     | Recall:  0.241                     | F1-score:  0.229\u001b[0m\n",
      "\u001b[32m2024-05-02 14:28:21.750\u001b[0m | \u001b[32m\u001b[1mSUCCESS \u001b[0m | \u001b[36m__main__\u001b[0m:\u001b[36m<module>\u001b[0m:\u001b[36m99\u001b[0m - \u001b[32m\u001b[1mFound new best model. Saving weights...\u001b[0m\n",
      "Training Steps: 100%|██████████| 158/158 [02:24<00:00,  1.10it/s]\n",
      "Validation Steps: 100%|██████████| 40/40 [00:15<00:00,  2.60it/s]\n",
      "\u001b[32m2024-05-02 14:31:06.432\u001b[0m | \u001b[1mINFO    \u001b[0m | \u001b[36m__main__\u001b[0m:\u001b[36mlog_step\u001b[0m:\u001b[36m34\u001b[0m - \u001b[1mEpochs: 11 | Train Loss:  0.362                     | Train Accuracy:  0.897                     | Val Loss:  1.076                     | Val Accuracy:  0.256                     | Top K: 0.5728643216080402                     | Precision:  0.166                     | Recall:  0.173                     | F1-score:  0.164\u001b[0m\n",
      "\u001b[32m2024-05-02 14:31:06.434\u001b[0m | \u001b[32m\u001b[1mSUCCESS \u001b[0m | \u001b[36m__main__\u001b[0m:\u001b[36m<module>\u001b[0m:\u001b[36m99\u001b[0m - \u001b[32m\u001b[1mFound new best model. Saving weights...\u001b[0m\n",
      "Training Steps: 100%|██████████| 158/158 [02:24<00:00,  1.10it/s]\n",
      "Validation Steps: 100%|██████████| 40/40 [00:15<00:00,  2.60it/s]\n",
      "\u001b[32m2024-05-02 14:33:50.919\u001b[0m | \u001b[1mINFO    \u001b[0m | \u001b[36m__main__\u001b[0m:\u001b[36mlog_step\u001b[0m:\u001b[36m34\u001b[0m - \u001b[1mEpochs: 12 | Train Loss:  0.325                     | Train Accuracy:  0.917                     | Val Loss:  1.080                     | Val Accuracy:  0.264                     | Top K: 0.535175879396985                     | Precision:  0.202                     | Recall:  0.194                     | F1-score:  0.188\u001b[0m\n",
      "Training Steps: 100%|██████████| 158/158 [02:24<00:00,  1.09it/s]\n",
      "Validation Steps: 100%|██████████| 40/40 [00:15<00:00,  2.60it/s]\n",
      "/home/mdafifal.mamun/miniconda3/envs/trx/lib/python3.10/site-packages/sklearn/metrics/_classification.py:1509: UndefinedMetricWarning: Precision is ill-defined and being set to 0.0 in labels with no predicted samples. Use `zero_division` parameter to control this behavior.\n",
      "  _warn_prf(average, modifier, f\"{metric.capitalize()} is\", len(result))\n",
      "\u001b[32m2024-05-02 14:36:30.646\u001b[0m | \u001b[1mINFO    \u001b[0m | \u001b[36m__main__\u001b[0m:\u001b[36mlog_step\u001b[0m:\u001b[36m34\u001b[0m - \u001b[1mEpochs: 13 | Train Loss:  0.308                     | Train Accuracy:  0.918                     | Val Loss:  1.086                     | Val Accuracy:  0.246                     | Top K: 0.5603015075376885                     | Precision:  0.230                     | Recall:  0.179                     | F1-score:  0.180\u001b[0m\n",
      "Training Steps: 100%|██████████| 158/158 [02:24<00:00,  1.09it/s]\n",
      "Validation Steps: 100%|██████████| 40/40 [00:15<00:00,  2.60it/s]\n",
      "\u001b[32m2024-05-02 14:39:10.386\u001b[0m | \u001b[1mINFO    \u001b[0m | \u001b[36m__main__\u001b[0m:\u001b[36mlog_step\u001b[0m:\u001b[36m34\u001b[0m - \u001b[1mEpochs: 14 | Train Loss:  0.278                     | Train Accuracy:  0.936                     | Val Loss:  1.078                     | Val Accuracy:  0.256                     | Top K: 0.5577889447236181                     | Precision:  0.222                     | Recall:  0.193                     | F1-score:  0.190\u001b[0m\n",
      "Training Steps: 100%|██████████| 158/158 [02:24<00:00,  1.10it/s]\n",
      "Validation Steps: 100%|██████████| 40/40 [00:15<00:00,  2.60it/s]\n",
      "\u001b[32m2024-05-02 14:41:50.043\u001b[0m | \u001b[1mINFO    \u001b[0m | \u001b[36m__main__\u001b[0m:\u001b[36mlog_step\u001b[0m:\u001b[36m34\u001b[0m - \u001b[1mEpochs: 15 | Train Loss:  0.251                     | Train Accuracy:  0.949                     | Val Loss:  1.043                     | Val Accuracy:  0.264                     | Top K: 0.6105527638190955                     | Precision:  0.228                     | Recall:  0.186                     | F1-score:  0.192\u001b[0m\n",
      "\u001b[32m2024-05-02 14:41:50.045\u001b[0m | \u001b[32m\u001b[1mSUCCESS \u001b[0m | \u001b[36m__main__\u001b[0m:\u001b[36m<module>\u001b[0m:\u001b[36m99\u001b[0m - \u001b[32m\u001b[1mFound new best model. Saving weights...\u001b[0m\n",
      "Training Steps: 100%|██████████| 158/158 [02:24<00:00,  1.10it/s]\n",
      "Validation Steps: 100%|██████████| 40/40 [00:15<00:00,  2.60it/s]\n",
      "\u001b[32m2024-05-02 14:44:34.074\u001b[0m | \u001b[1mINFO    \u001b[0m | \u001b[36m__main__\u001b[0m:\u001b[36mlog_step\u001b[0m:\u001b[36m34\u001b[0m - \u001b[1mEpochs: 16 | Train Loss:  0.238                     | Train Accuracy:  0.954                     | Val Loss:  1.065                     | Val Accuracy:  0.269                     | Top K: 0.5527638190954773                     | Precision:  0.275                     | Recall:  0.213                     | F1-score:  0.220\u001b[0m\n",
      "Training Steps: 100%|██████████| 158/158 [02:24<00:00,  1.10it/s]\n",
      "Validation Steps: 100%|██████████| 40/40 [00:15<00:00,  2.61it/s]\n",
      "/home/mdafifal.mamun/miniconda3/envs/trx/lib/python3.10/site-packages/sklearn/metrics/_classification.py:1509: UndefinedMetricWarning: Precision is ill-defined and being set to 0.0 in labels with no predicted samples. Use `zero_division` parameter to control this behavior.\n",
      "  _warn_prf(average, modifier, f\"{metric.capitalize()} is\", len(result))\n",
      "\u001b[32m2024-05-02 14:47:13.499\u001b[0m | \u001b[1mINFO    \u001b[0m | \u001b[36m__main__\u001b[0m:\u001b[36mlog_step\u001b[0m:\u001b[36m34\u001b[0m - \u001b[1mEpochs: 17 | Train Loss:  0.215                     | Train Accuracy:  0.966                     | Val Loss:  1.051                     | Val Accuracy:  0.286                     | Top K: 0.6130653266331658                     | Precision:  0.255                     | Recall:  0.196                     | F1-score:  0.206\u001b[0m\n",
      "Training Steps: 100%|██████████| 158/158 [02:24<00:00,  1.10it/s]\n",
      "Validation Steps: 100%|██████████| 40/40 [00:15<00:00,  2.60it/s]\n",
      "\u001b[32m2024-05-02 14:49:52.922\u001b[0m | \u001b[1mINFO    \u001b[0m | \u001b[36m__main__\u001b[0m:\u001b[36mlog_step\u001b[0m:\u001b[36m34\u001b[0m - \u001b[1mEpochs: 18 | Train Loss:  0.200                     | Train Accuracy:  0.967                     | Val Loss:  1.026                     | Val Accuracy:  0.324                     | Top K: 0.5979899497487438                     | Precision:  0.323                     | Recall:  0.241                     | F1-score:  0.257\u001b[0m\n",
      "\u001b[32m2024-05-02 14:49:52.923\u001b[0m | \u001b[32m\u001b[1mSUCCESS \u001b[0m | \u001b[36m__main__\u001b[0m:\u001b[36m<module>\u001b[0m:\u001b[36m99\u001b[0m - \u001b[32m\u001b[1mFound new best model. Saving weights...\u001b[0m\n",
      "Training Steps: 100%|██████████| 158/158 [02:24<00:00,  1.10it/s]\n",
      "Validation Steps: 100%|██████████| 40/40 [00:15<00:00,  2.61it/s]\n",
      "\u001b[32m2024-05-02 14:52:36.854\u001b[0m | \u001b[1mINFO    \u001b[0m | \u001b[36m__main__\u001b[0m:\u001b[36mlog_step\u001b[0m:\u001b[36m34\u001b[0m - \u001b[1mEpochs: 19 | Train Loss:  0.184                     | Train Accuracy:  0.971                     | Val Loss:  1.027                     | Val Accuracy:  0.314                     | Top K: 0.6005025125628141                     | Precision:  0.322                     | Recall:  0.213                     | F1-score:  0.231\u001b[0m\n",
      "Training Steps: 100%|██████████| 158/158 [02:24<00:00,  1.09it/s]\n",
      "Validation Steps: 100%|██████████| 40/40 [00:15<00:00,  2.60it/s]\n",
      "\u001b[32m2024-05-02 14:55:16.575\u001b[0m | \u001b[1mINFO    \u001b[0m | \u001b[36m__main__\u001b[0m:\u001b[36mlog_step\u001b[0m:\u001b[36m34\u001b[0m - \u001b[1mEpochs: 20 | Train Loss:  0.176                     | Train Accuracy:  0.972                     | Val Loss:  1.029                     | Val Accuracy:  0.307                     | Top K: 0.6105527638190955                     | Precision:  0.293                     | Recall:  0.223                     | F1-score:  0.235\u001b[0m\n",
      "Training Steps: 100%|██████████| 158/158 [02:24<00:00,  1.10it/s]\n",
      "Validation Steps: 100%|██████████| 40/40 [00:15<00:00,  2.60it/s]\n",
      "/home/mdafifal.mamun/miniconda3/envs/trx/lib/python3.10/site-packages/sklearn/metrics/_classification.py:1509: UndefinedMetricWarning: Precision is ill-defined and being set to 0.0 in labels with no predicted samples. Use `zero_division` parameter to control this behavior.\n",
      "  _warn_prf(average, modifier, f\"{metric.capitalize()} is\", len(result))\n",
      "\u001b[32m2024-05-02 14:57:56.222\u001b[0m | \u001b[1mINFO    \u001b[0m | \u001b[36m__main__\u001b[0m:\u001b[36mlog_step\u001b[0m:\u001b[36m34\u001b[0m - \u001b[1mEpochs: 21 | Train Loss:  0.159                     | Train Accuracy:  0.980                     | Val Loss:  1.033                     | Val Accuracy:  0.309                     | Top K: 0.5979899497487438                     | Precision:  0.199                     | Recall:  0.194                     | F1-score:  0.188\u001b[0m\n",
      "Training Steps: 100%|██████████| 158/158 [02:24<00:00,  1.09it/s]\n",
      "Validation Steps: 100%|██████████| 40/40 [00:15<00:00,  2.60it/s]\n",
      "/home/mdafifal.mamun/miniconda3/envs/trx/lib/python3.10/site-packages/sklearn/metrics/_classification.py:1509: UndefinedMetricWarning: Precision is ill-defined and being set to 0.0 in labels with no predicted samples. Use `zero_division` parameter to control this behavior.\n",
      "  _warn_prf(average, modifier, f\"{metric.capitalize()} is\", len(result))\n",
      "\u001b[32m2024-05-02 15:00:36.012\u001b[0m | \u001b[1mINFO    \u001b[0m | \u001b[36m__main__\u001b[0m:\u001b[36mlog_step\u001b[0m:\u001b[36m34\u001b[0m - \u001b[1mEpochs: 22 | Train Loss:  0.169                     | Train Accuracy:  0.975                     | Val Loss:  1.019                     | Val Accuracy:  0.312                     | Top K: 0.6155778894472361                     | Precision:  0.267                     | Recall:  0.187                     | F1-score:  0.195\u001b[0m\n",
      "\u001b[32m2024-05-02 15:00:36.014\u001b[0m | \u001b[32m\u001b[1mSUCCESS \u001b[0m | \u001b[36m__main__\u001b[0m:\u001b[36m<module>\u001b[0m:\u001b[36m99\u001b[0m - \u001b[32m\u001b[1mFound new best model. Saving weights...\u001b[0m\n",
      "Training Steps: 100%|██████████| 158/158 [02:24<00:00,  1.10it/s]\n",
      "Validation Steps: 100%|██████████| 40/40 [00:15<00:00,  2.61it/s]\n",
      "/home/mdafifal.mamun/miniconda3/envs/trx/lib/python3.10/site-packages/sklearn/metrics/_classification.py:1509: UndefinedMetricWarning: Precision is ill-defined and being set to 0.0 in labels with no predicted samples. Use `zero_division` parameter to control this behavior.\n",
      "  _warn_prf(average, modifier, f\"{metric.capitalize()} is\", len(result))\n",
      "\u001b[32m2024-05-02 15:03:19.881\u001b[0m | \u001b[1mINFO    \u001b[0m | \u001b[36m__main__\u001b[0m:\u001b[36mlog_step\u001b[0m:\u001b[36m34\u001b[0m - \u001b[1mEpochs: 23 | Train Loss:  0.144                     | Train Accuracy:  0.984                     | Val Loss:  1.037                     | Val Accuracy:  0.324                     | Top K: 0.6180904522613065                     | Precision:  0.207                     | Recall:  0.193                     | F1-score:  0.196\u001b[0m\n",
      "Training Steps: 100%|██████████| 158/158 [02:24<00:00,  1.10it/s]\n",
      "Validation Steps: 100%|██████████| 40/40 [00:15<00:00,  2.61it/s]\n",
      "\u001b[32m2024-05-02 15:05:59.382\u001b[0m | \u001b[1mINFO    \u001b[0m | \u001b[36m__main__\u001b[0m:\u001b[36mlog_step\u001b[0m:\u001b[36m34\u001b[0m - \u001b[1mEpochs: 24 | Train Loss:  0.142                     | Train Accuracy:  0.984                     | Val Loss:  1.002                     | Val Accuracy:  0.317                     | Top K: 0.6507537688442211                     | Precision:  0.314                     | Recall:  0.222                     | F1-score:  0.243\u001b[0m\n",
      "\u001b[32m2024-05-02 15:05:59.384\u001b[0m | \u001b[32m\u001b[1mSUCCESS \u001b[0m | \u001b[36m__main__\u001b[0m:\u001b[36m<module>\u001b[0m:\u001b[36m99\u001b[0m - \u001b[32m\u001b[1mFound new best model. Saving weights...\u001b[0m\n",
      "Training Steps: 100%|██████████| 158/158 [02:24<00:00,  1.10it/s]\n",
      "Validation Steps: 100%|██████████| 40/40 [00:15<00:00,  2.60it/s]\n",
      "/home/mdafifal.mamun/miniconda3/envs/trx/lib/python3.10/site-packages/sklearn/metrics/_classification.py:1509: UndefinedMetricWarning: Precision is ill-defined and being set to 0.0 in labels with no predicted samples. Use `zero_division` parameter to control this behavior.\n",
      "  _warn_prf(average, modifier, f\"{metric.capitalize()} is\", len(result))\n",
      "\u001b[32m2024-05-02 15:08:43.060\u001b[0m | \u001b[1mINFO    \u001b[0m | \u001b[36m__main__\u001b[0m:\u001b[36mlog_step\u001b[0m:\u001b[36m34\u001b[0m - \u001b[1mEpochs: 25 | Train Loss:  0.133                     | Train Accuracy:  0.990                     | Val Loss:  1.005                     | Val Accuracy:  0.329                     | Top K: 0.6482412060301508                     | Precision:  0.267                     | Recall:  0.214                     | F1-score:  0.224\u001b[0m\n",
      "Training Steps: 100%|██████████| 158/158 [02:24<00:00,  1.10it/s]\n",
      "Validation Steps: 100%|██████████| 40/40 [00:15<00:00,  2.60it/s]\n",
      "\u001b[32m2024-05-02 15:11:22.690\u001b[0m | \u001b[1mINFO    \u001b[0m | \u001b[36m__main__\u001b[0m:\u001b[36mlog_step\u001b[0m:\u001b[36m34\u001b[0m - \u001b[1mEpochs: 26 | Train Loss:  0.122                     | Train Accuracy:  0.989                     | Val Loss:  1.002                     | Val Accuracy:  0.319                     | Top K: 0.6608040201005025                     | Precision:  0.278                     | Recall:  0.235                     | F1-score:  0.243\u001b[0m\n",
      "Training Steps: 100%|██████████| 158/158 [02:24<00:00,  1.10it/s]\n",
      "Validation Steps: 100%|██████████| 40/40 [00:15<00:00,  2.60it/s]\n",
      "/home/mdafifal.mamun/miniconda3/envs/trx/lib/python3.10/site-packages/sklearn/metrics/_classification.py:1509: UndefinedMetricWarning: Precision is ill-defined and being set to 0.0 in labels with no predicted samples. Use `zero_division` parameter to control this behavior.\n",
      "  _warn_prf(average, modifier, f\"{metric.capitalize()} is\", len(result))\n",
      "\u001b[32m2024-05-02 15:14:02.213\u001b[0m | \u001b[1mINFO    \u001b[0m | \u001b[36m__main__\u001b[0m:\u001b[36mlog_step\u001b[0m:\u001b[36m34\u001b[0m - \u001b[1mEpochs: 27 | Train Loss:  0.126                     | Train Accuracy:  0.989                     | Val Loss:  1.010                     | Val Accuracy:  0.349                     | Top K: 0.635678391959799                     | Precision:  0.282                     | Recall:  0.231                     | F1-score:  0.239\u001b[0m\n",
      "Training Steps: 100%|██████████| 158/158 [02:24<00:00,  1.10it/s]\n",
      "Validation Steps: 100%|██████████| 40/40 [00:15<00:00,  2.60it/s]\n",
      "/home/mdafifal.mamun/miniconda3/envs/trx/lib/python3.10/site-packages/sklearn/metrics/_classification.py:1509: UndefinedMetricWarning: Precision is ill-defined and being set to 0.0 in labels with no predicted samples. Use `zero_division` parameter to control this behavior.\n",
      "  _warn_prf(average, modifier, f\"{metric.capitalize()} is\", len(result))\n",
      "\u001b[32m2024-05-02 15:16:41.786\u001b[0m | \u001b[1mINFO    \u001b[0m | \u001b[36m__main__\u001b[0m:\u001b[36mlog_step\u001b[0m:\u001b[36m34\u001b[0m - \u001b[1mEpochs: 28 | Train Loss:  0.121                     | Train Accuracy:  0.990                     | Val Loss:  0.993                     | Val Accuracy:  0.349                     | Top K: 0.6582914572864321                     | Precision:  0.237                     | Recall:  0.213                     | F1-score:  0.215\u001b[0m\n",
      "\u001b[32m2024-05-02 15:16:41.788\u001b[0m | \u001b[32m\u001b[1mSUCCESS \u001b[0m | \u001b[36m__main__\u001b[0m:\u001b[36m<module>\u001b[0m:\u001b[36m99\u001b[0m - \u001b[32m\u001b[1mFound new best model. Saving weights...\u001b[0m\n",
      "Training Steps: 100%|██████████| 158/158 [02:24<00:00,  1.10it/s]\n",
      "Validation Steps: 100%|██████████| 40/40 [00:15<00:00,  2.61it/s]\n",
      "/home/mdafifal.mamun/miniconda3/envs/trx/lib/python3.10/site-packages/sklearn/metrics/_classification.py:1509: UndefinedMetricWarning: Precision is ill-defined and being set to 0.0 in labels with no predicted samples. Use `zero_division` parameter to control this behavior.\n",
      "  _warn_prf(average, modifier, f\"{metric.capitalize()} is\", len(result))\n",
      "\u001b[32m2024-05-02 15:19:25.576\u001b[0m | \u001b[1mINFO    \u001b[0m | \u001b[36m__main__\u001b[0m:\u001b[36mlog_step\u001b[0m:\u001b[36m34\u001b[0m - \u001b[1mEpochs: 29 | Train Loss:  0.123                     | Train Accuracy:  0.990                     | Val Loss:  0.986                     | Val Accuracy:  0.319                     | Top K: 0.6457286432160804                     | Precision:  0.263                     | Recall:  0.216                     | F1-score:  0.225\u001b[0m\n",
      "\u001b[32m2024-05-02 15:19:25.578\u001b[0m | \u001b[32m\u001b[1mSUCCESS \u001b[0m | \u001b[36m__main__\u001b[0m:\u001b[36m<module>\u001b[0m:\u001b[36m99\u001b[0m - \u001b[32m\u001b[1mFound new best model. Saving weights...\u001b[0m\n",
      "Training Steps: 100%|██████████| 158/158 [02:24<00:00,  1.10it/s]\n",
      "Validation Steps: 100%|██████████| 40/40 [00:15<00:00,  2.61it/s]\n",
      "\u001b[32m2024-05-02 15:22:09.459\u001b[0m | \u001b[1mINFO    \u001b[0m | \u001b[36m__main__\u001b[0m:\u001b[36mlog_step\u001b[0m:\u001b[36m34\u001b[0m - \u001b[1mEpochs: 30 | Train Loss:  0.108                     | Train Accuracy:  0.992                     | Val Loss:  1.007                     | Val Accuracy:  0.329                     | Top K: 0.6658291457286433                     | Precision:  0.296                     | Recall:  0.228                     | F1-score:  0.241\u001b[0m\n",
      "Training Steps: 100%|██████████| 158/158 [02:24<00:00,  1.10it/s]\n",
      "Validation Steps: 100%|██████████| 40/40 [00:15<00:00,  2.61it/s]\n",
      "/home/mdafifal.mamun/miniconda3/envs/trx/lib/python3.10/site-packages/sklearn/metrics/_classification.py:1509: UndefinedMetricWarning: Precision is ill-defined and being set to 0.0 in labels with no predicted samples. Use `zero_division` parameter to control this behavior.\n",
      "  _warn_prf(average, modifier, f\"{metric.capitalize()} is\", len(result))\n",
      "\u001b[32m2024-05-02 15:24:48.917\u001b[0m | \u001b[1mINFO    \u001b[0m | \u001b[36m__main__\u001b[0m:\u001b[36mlog_step\u001b[0m:\u001b[36m34\u001b[0m - \u001b[1mEpochs: 31 | Train Loss:  0.109                     | Train Accuracy:  0.992                     | Val Loss:  0.999                     | Val Accuracy:  0.324                     | Top K: 0.6507537688442211                     | Precision:  0.269                     | Recall:  0.219                     | F1-score:  0.230\u001b[0m\n",
      "Training Steps: 100%|██████████| 158/158 [02:24<00:00,  1.10it/s]\n",
      "Validation Steps: 100%|██████████| 40/40 [00:15<00:00,  2.60it/s]\n",
      "/home/mdafifal.mamun/miniconda3/envs/trx/lib/python3.10/site-packages/sklearn/metrics/_classification.py:1509: UndefinedMetricWarning: Precision is ill-defined and being set to 0.0 in labels with no predicted samples. Use `zero_division` parameter to control this behavior.\n",
      "  _warn_prf(average, modifier, f\"{metric.capitalize()} is\", len(result))\n",
      "\u001b[32m2024-05-02 15:27:28.536\u001b[0m | \u001b[1mINFO    \u001b[0m | \u001b[36m__main__\u001b[0m:\u001b[36mlog_step\u001b[0m:\u001b[36m34\u001b[0m - \u001b[1mEpochs: 32 | Train Loss:  0.110                     | Train Accuracy:  0.995                     | Val Loss:  0.979                     | Val Accuracy:  0.349                     | Top K: 0.6834170854271356                     | Precision:  0.331                     | Recall:  0.230                     | F1-score:  0.250\u001b[0m\n",
      "\u001b[32m2024-05-02 15:27:28.539\u001b[0m | \u001b[32m\u001b[1mSUCCESS \u001b[0m | \u001b[36m__main__\u001b[0m:\u001b[36m<module>\u001b[0m:\u001b[36m99\u001b[0m - \u001b[32m\u001b[1mFound new best model. Saving weights...\u001b[0m\n",
      "Training Steps: 100%|██████████| 158/158 [02:24<00:00,  1.10it/s]\n",
      "Validation Steps: 100%|██████████| 40/40 [00:15<00:00,  2.60it/s]\n",
      "\u001b[32m2024-05-02 15:30:12.588\u001b[0m | \u001b[1mINFO    \u001b[0m | \u001b[36m__main__\u001b[0m:\u001b[36mlog_step\u001b[0m:\u001b[36m34\u001b[0m - \u001b[1mEpochs: 33 | Train Loss:  0.098                     | Train Accuracy:  0.994                     | Val Loss:  1.006                     | Val Accuracy:  0.342                     | Top K: 0.6256281407035176                     | Precision:  0.296                     | Recall:  0.236                     | F1-score:  0.250\u001b[0m\n",
      "Training Steps: 100%|██████████| 158/158 [02:24<00:00,  1.09it/s]\n",
      "Validation Steps: 100%|██████████| 40/40 [00:15<00:00,  2.60it/s]\n",
      "/home/mdafifal.mamun/miniconda3/envs/trx/lib/python3.10/site-packages/sklearn/metrics/_classification.py:1509: UndefinedMetricWarning: Precision is ill-defined and being set to 0.0 in labels with no predicted samples. Use `zero_division` parameter to control this behavior.\n",
      "  _warn_prf(average, modifier, f\"{metric.capitalize()} is\", len(result))\n",
      "\u001b[32m2024-05-02 15:32:52.310\u001b[0m | \u001b[1mINFO    \u001b[0m | \u001b[36m__main__\u001b[0m:\u001b[36mlog_step\u001b[0m:\u001b[36m34\u001b[0m - \u001b[1mEpochs: 34 | Train Loss:  0.097                     | Train Accuracy:  0.996                     | Val Loss:  1.001                     | Val Accuracy:  0.334                     | Top K: 0.6834170854271356                     | Precision:  0.284                     | Recall:  0.211                     | F1-score:  0.220\u001b[0m\n",
      "Training Steps: 100%|██████████| 158/158 [02:24<00:00,  1.10it/s]\n",
      "Validation Steps: 100%|██████████| 40/40 [00:15<00:00,  2.60it/s]\n",
      "/home/mdafifal.mamun/miniconda3/envs/trx/lib/python3.10/site-packages/sklearn/metrics/_classification.py:1509: UndefinedMetricWarning: Precision is ill-defined and being set to 0.0 in labels with no predicted samples. Use `zero_division` parameter to control this behavior.\n",
      "  _warn_prf(average, modifier, f\"{metric.capitalize()} is\", len(result))\n",
      "\u001b[32m2024-05-02 15:35:31.936\u001b[0m | \u001b[1mINFO    \u001b[0m | \u001b[36m__main__\u001b[0m:\u001b[36mlog_step\u001b[0m:\u001b[36m34\u001b[0m - \u001b[1mEpochs: 35 | Train Loss:  0.097                     | Train Accuracy:  0.995                     | Val Loss:  1.002                     | Val Accuracy:  0.322                     | Top K: 0.6532663316582915                     | Precision:  0.225                     | Recall:  0.197                     | F1-score:  0.203\u001b[0m\n",
      "Training Steps: 100%|██████████| 158/158 [02:24<00:00,  1.09it/s]\n",
      "Validation Steps: 100%|██████████| 40/40 [00:15<00:00,  2.60it/s]\n",
      "/home/mdafifal.mamun/miniconda3/envs/trx/lib/python3.10/site-packages/sklearn/metrics/_classification.py:1509: UndefinedMetricWarning: Precision is ill-defined and being set to 0.0 in labels with no predicted samples. Use `zero_division` parameter to control this behavior.\n",
      "  _warn_prf(average, modifier, f\"{metric.capitalize()} is\", len(result))\n",
      "\u001b[32m2024-05-02 15:38:11.668\u001b[0m | \u001b[1mINFO    \u001b[0m | \u001b[36m__main__\u001b[0m:\u001b[36mlog_step\u001b[0m:\u001b[36m34\u001b[0m - \u001b[1mEpochs: 36 | Train Loss:  0.097                     | Train Accuracy:  0.996                     | Val Loss:  0.998                     | Val Accuracy:  0.359                     | Top K: 0.6608040201005025                     | Precision:  0.237                     | Recall:  0.222                     | F1-score:  0.221\u001b[0m\n",
      "Training Steps: 100%|██████████| 158/158 [02:24<00:00,  1.10it/s]\n",
      "Validation Steps: 100%|██████████| 40/40 [00:15<00:00,  2.60it/s]\n",
      "/home/mdafifal.mamun/miniconda3/envs/trx/lib/python3.10/site-packages/sklearn/metrics/_classification.py:1509: UndefinedMetricWarning: Precision is ill-defined and being set to 0.0 in labels with no predicted samples. Use `zero_division` parameter to control this behavior.\n",
      "  _warn_prf(average, modifier, f\"{metric.capitalize()} is\", len(result))\n",
      "\u001b[32m2024-05-02 15:40:51.294\u001b[0m | \u001b[1mINFO    \u001b[0m | \u001b[36m__main__\u001b[0m:\u001b[36mlog_step\u001b[0m:\u001b[36m34\u001b[0m - \u001b[1mEpochs: 37 | Train Loss:  0.100                     | Train Accuracy:  0.992                     | Val Loss:  0.981                     | Val Accuracy:  0.349                     | Top K: 0.6758793969849246                     | Precision:  0.303                     | Recall:  0.236                     | F1-score:  0.251\u001b[0m\n",
      "Training Steps: 100%|██████████| 158/158 [02:24<00:00,  1.10it/s]\n",
      "Validation Steps: 100%|██████████| 40/40 [00:15<00:00,  2.60it/s]\n",
      "\u001b[32m2024-05-02 15:43:30.871\u001b[0m | \u001b[1mINFO    \u001b[0m | \u001b[36m__main__\u001b[0m:\u001b[36mlog_step\u001b[0m:\u001b[36m34\u001b[0m - \u001b[1mEpochs: 38 | Train Loss:  0.091                     | Train Accuracy:  0.994                     | Val Loss:  0.995                     | Val Accuracy:  0.349                     | Top K: 0.6482412060301508                     | Precision:  0.352                     | Recall:  0.233                     | F1-score:  0.260\u001b[0m\n",
      "Training Steps: 100%|██████████| 158/158 [02:24<00:00,  1.09it/s]\n",
      "Validation Steps: 100%|██████████| 40/40 [00:15<00:00,  2.60it/s]\n",
      "\u001b[32m2024-05-02 15:46:10.585\u001b[0m | \u001b[1mINFO    \u001b[0m | \u001b[36m__main__\u001b[0m:\u001b[36mlog_step\u001b[0m:\u001b[36m34\u001b[0m - \u001b[1mEpochs: 39 | Train Loss:  0.094                     | Train Accuracy:  0.994                     | Val Loss:  0.978                     | Val Accuracy:  0.327                     | Top K: 0.6432160804020101                     | Precision:  0.277                     | Recall:  0.218                     | F1-score:  0.234\u001b[0m\n",
      "\u001b[32m2024-05-02 15:46:10.588\u001b[0m | \u001b[32m\u001b[1mSUCCESS \u001b[0m | \u001b[36m__main__\u001b[0m:\u001b[36m<module>\u001b[0m:\u001b[36m99\u001b[0m - \u001b[32m\u001b[1mFound new best model. Saving weights...\u001b[0m\n",
      "Training Steps: 100%|██████████| 158/158 [02:24<00:00,  1.10it/s]\n",
      "Validation Steps: 100%|██████████| 40/40 [00:15<00:00,  2.61it/s]\n",
      "\u001b[32m2024-05-02 15:48:54.470\u001b[0m | \u001b[1mINFO    \u001b[0m | \u001b[36m__main__\u001b[0m:\u001b[36mlog_step\u001b[0m:\u001b[36m34\u001b[0m - \u001b[1mEpochs: 40 | Train Loss:  0.093                     | Train Accuracy:  0.996                     | Val Loss:  0.992                     | Val Accuracy:  0.317                     | Top K: 0.6758793969849246                     | Precision:  0.306                     | Recall:  0.197                     | F1-score:  0.214\u001b[0m\n"
     ]
    }
   ],
   "source": [
    "for epoch_num in range(epochs):\n",
    "    total_acc_train = 0\n",
    "    total_loss_train = 0\n",
    "\n",
    "    for train_input, train_label in tqdm(train_dataloader, desc=\"Training Steps\"):\n",
    "        # print(train_input)\n",
    "        optimizer.zero_grad()\n",
    "\n",
    "        train_label = train_label.to(device)\n",
    "        mask = train_input[1][\"attention_mask\"].squeeze(1).to(device)\n",
    "        input_id = train_input[1][\"input_ids\"].squeeze(1).to(device)\n",
    "        tok_type = train_input[1][\"token_type_ids\"].squeeze(1).to(device)\n",
    "        # print(tok_type.shape, input_id.shape, mask.shape)\n",
    "        # print(repr.dtype, input_id.dtype, mask.dtype)\n",
    "\n",
    "        output = model(input_id, mask, tok_type)\n",
    "\n",
    "        batch_loss = criterion(output, train_label.long())\n",
    "        total_loss_train += batch_loss.item()\n",
    "\n",
    "        output = torch.sum(torch.stack(output), 0)\n",
    "        acc = (output.argmax(dim=1) == train_label).sum().item()\n",
    "        \n",
    "        total_acc_train += acc\n",
    "\n",
    "        batch_loss.backward()\n",
    "        optimizer.step()\n",
    "        scheduler.step()\n",
    "\n",
    "    total_acc_val = 0\n",
    "    total_loss_val = 0\n",
    "    correct_top_k = 0\n",
    "\n",
    "    all_preds = []\n",
    "    all_labels = []\n",
    "\n",
    "    with torch.no_grad():\n",
    "\n",
    "        for val_input, val_label in tqdm(val_dataloader, desc=\"Validation Steps\"):\n",
    "            val_label = val_label.to(device)\n",
    "            mask = val_input[1][\"attention_mask\"].squeeze(1).to(device)\n",
    "            input_id = val_input[1][\"input_ids\"].squeeze(1).to(device)\n",
    "            tok_type = val_input[1][\"token_type_ids\"].squeeze(1).to(device)\n",
    "\n",
    "            output = model(input_id, mask, tok_type)\n",
    "\n",
    "            batch_loss = criterion(output, val_label.long())\n",
    "            total_loss_val += batch_loss.item()\n",
    "\n",
    "            output = torch.sum(torch.stack(output), 0)\n",
    "            _, top_k_predictions = output.topk(3, 1, True, True)\n",
    "\n",
    "            top_k_predictions = top_k_predictions.t()\n",
    "\n",
    "            correct_top_k += (\n",
    "                top_k_predictions.eq(\n",
    "                    val_label.view(1, -1).expand_as(top_k_predictions)\n",
    "                )\n",
    "                .sum()\n",
    "                .item()\n",
    "            )\n",
    "\n",
    "            acc = (output.argmax(dim=1) == val_label).sum().item()\n",
    "\n",
    "            all_preds.append(output.argmax(dim=1).cpu().numpy())\n",
    "            all_labels.append(val_label.cpu().numpy())\n",
    "\n",
    "            total_acc_val += acc\n",
    "\n",
    "    all_preds = np.concatenate(all_preds)\n",
    "    all_labels = np.concatenate(all_labels)\n",
    "\n",
    "    precision, recall, f1_score, _ = precision_recall_fscore_support(\n",
    "        all_labels, all_preds, average=\"macro\"\n",
    "    )\n",
    "\n",
    "    topk = correct_top_k / len(y_df)\n",
    "\n",
    "    log_step(\n",
    "        epoch_num,\n",
    "        total_acc_train,\n",
    "        total_acc_val,\n",
    "        total_loss_train,\n",
    "        total_loss_val,\n",
    "        precision,\n",
    "        recall,\n",
    "        f1_score,\n",
    "        X_df,\n",
    "        y_df,\n",
    "        topk,\n",
    "    )\n",
    "\n",
    "    val_loss = total_loss_val / len(y_df)\n",
    "\n",
    "    # if scheduler:\n",
    "    #     scheduler.step()\n",
    "\n",
    "    if val_loss < best_loss:\n",
    "        logger.success(\"Found new best model. Saving weights...\")\n",
    "        torch.save(model.state_dict(), weights_save_location)\n",
    "        best_loss = val_loss"
   ]
  },
  {
   "cell_type": "code",
   "execution_count": 40,
   "metadata": {},
   "outputs": [
    {
     "name": "stderr",
     "output_type": "stream",
     "text": [
      "wandb: WARNING Source type is set to 'repo' but some required information is missing from the environment. A job will not be created from this run. See https://docs.wandb.ai/guides/launch/create-job\n"
     ]
    },
    {
     "data": {
      "application/vnd.jupyter.widget-view+json": {
       "model_id": "7797742736c640169579ea44883e481a",
       "version_major": 2,
       "version_minor": 0
      },
      "text/plain": [
       "VBox(children=(Label(value='0.005 MB of 0.005 MB uploaded\\r'), FloatProgress(value=1.0, max=1.0)))"
      ]
     },
     "metadata": {},
     "output_type": "display_data"
    },
    {
     "data": {
      "text/html": [
       "<style>\n",
       "    table.wandb td:nth-child(1) { padding: 0 10px; text-align: left ; width: auto;} td:nth-child(2) {text-align: left ; width: 100%}\n",
       "    .wandb-row { display: flex; flex-direction: row; flex-wrap: wrap; justify-content: flex-start; width: 100% }\n",
       "    .wandb-col { display: flex; flex-direction: column; flex-basis: 100%; flex: 1; padding: 10px; }\n",
       "    </style>\n",
       "<div class=\"wandb-row\"><div class=\"wandb-col\"><h3>Run history:</h3><br/><table class=\"wandb\"><tr><td>f1-score</td><td>▁▂▂▂▃▅▄▅▆▇▅▆▆▆▆▇▆█▇▇▆▆▆▇▇▇▇▇▇▇▇██▇▆▇██▇▇</td></tr><tr><td>precision</td><td>▁▂▁▁▂▄▃▃▅▅▃▄▅▅▅▆▅▇▇▆▄▆▄▇▆▆▆▅▆▇▆▇▇▆▅▅▇█▆▇</td></tr><tr><td>recall</td><td>▁▄▄▃▃▆▅▆▇█▆▆▆▆▆▇▆█▇▇▆▆▆▇▇██▇▇█▇██▇▆▇██▇▆</td></tr><tr><td>top3_acc</td><td>▁▂▂▃▄▅▅▅▆▆▇▆▆▆▇▆▇▇▇▇▇▇▇███▇█████▇███████</td></tr><tr><td>train_acc</td><td>▁▂▃▄▅▆▆▇▇▇▇▇▇███████████████████████████</td></tr><tr><td>train_loss</td><td>█▆▅▅▄▄▃▃▃▂▂▂▂▂▂▂▂▁▁▁▁▁▁▁▁▁▁▁▁▁▁▁▁▁▁▁▁▁▁▁</td></tr><tr><td>val_acc</td><td>▁▂▂▃▃▅▄▅▆▆▆▆▆▆▆▆▆▇▇▇▇▇▇▇▇▇██▇▇▇██▇▇███▇▇</td></tr><tr><td>val_loss</td><td>█▆▆▅▄▃▃▃▃▂▂▂▂▂▂▂▂▂▂▂▂▂▂▁▁▁▁▁▁▁▁▁▁▁▁▁▁▁▁▁</td></tr></table><br/></div><div class=\"wandb-col\"><h3>Run summary:</h3><br/><table class=\"wandb\"><tr><td>f1-score</td><td>0.21352</td></tr><tr><td>precision</td><td>0.30577</td></tr><tr><td>recall</td><td>0.1975</td></tr><tr><td>top3_acc</td><td>0.67588</td></tr><tr><td>train_acc</td><td>0.9962</td></tr><tr><td>train_loss</td><td>0.09313</td></tr><tr><td>val_acc</td><td>0.31658</td></tr><tr><td>val_loss</td><td>0.99204</td></tr></table><br/></div></div>"
      ],
      "text/plain": [
       "<IPython.core.display.HTML object>"
      ]
     },
     "metadata": {},
     "output_type": "display_data"
    },
    {
     "data": {
      "text/html": [
       " View run <strong style=\"color:#cdcd00\">dev_ex_LBTPDeberta_u4_cv9_classes16_CombinedLoss</strong> at: <a href='https://wandb.ai/afifaniks/openj9_developers/runs/qhp89s5o' target=\"_blank\">https://wandb.ai/afifaniks/openj9_developers/runs/qhp89s5o</a><br/>Synced 6 W&B file(s), 0 media file(s), 0 artifact file(s) and 0 other file(s)"
      ],
      "text/plain": [
       "<IPython.core.display.HTML object>"
      ]
     },
     "metadata": {},
     "output_type": "display_data"
    },
    {
     "data": {
      "text/html": [
       "Find logs at: <code>./wandb/run-20240502_140041-qhp89s5o/logs</code>"
      ],
      "text/plain": [
       "<IPython.core.display.HTML object>"
      ]
     },
     "metadata": {},
     "output_type": "display_data"
    }
   ],
   "source": [
    "wandb.finish()"
   ]
  },
  {
   "cell_type": "markdown",
   "metadata": {},
   "source": [
    "# Evaluation"
   ]
  },
  {
   "cell_type": "code",
   "execution_count": 31,
   "metadata": {},
   "outputs": [
    {
     "data": {
      "text/plain": [
       "<All keys matched successfully>"
      ]
     },
     "execution_count": 31,
     "metadata": {},
     "output_type": "execute_result"
    }
   ],
   "source": [
    "# Load best checkpoint\n",
    "model.load_state_dict(torch.load(weights_save_location))"
   ]
  },
  {
   "cell_type": "code",
   "execution_count": 32,
   "metadata": {},
   "outputs": [],
   "source": [
    "loader = DataLoader(val, 30)"
   ]
  },
  {
   "cell_type": "code",
   "execution_count": 33,
   "metadata": {},
   "outputs": [
    {
     "name": "stderr",
     "output_type": "stream",
     "text": [
      "/home/mdafifal.mamun/miniconda3/envs/trx/lib/python3.10/site-packages/transformers/utils/generic.py:309: UserWarning: torch.utils._pytree._register_pytree_node is deprecated. Please use torch.utils._pytree.register_pytree_node instead.\n",
      "  _torch_pytree._register_pytree_node(\n"
     ]
    }
   ],
   "source": [
    "# Load embeddings for all train data\n",
    "similarity_model = SentenceTransformer('all-MiniLM-L6-v2')\n",
    "all_embeddings = similarity_model.encode(X_df.issue_title.to_list(), batch_size=15)"
   ]
  },
  {
   "cell_type": "code",
   "execution_count": 34,
   "metadata": {},
   "outputs": [],
   "source": [
    "def get_top_k_similar_devs(issues, k=5, threshold=0.7):\n",
    "    test_embed = similarity_model.encode(issues)\n",
    "    cos = util.cos_sim(test_embed, all_embeddings)\n",
    "    topk_values, topk_indices = torch.topk(cos, k=k)\n",
    "    \n",
    "    similarities = []\n",
    "    \n",
    "    for idx, sim_score in zip(topk_indices, topk_values):\n",
    "        sim_threshold = sim_score >= threshold\n",
    "        filtered_idx = idx[sim_threshold].numpy()\n",
    "        similarities.append(X_df.iloc[filtered_idx][\"owner_id\"].unique().tolist())\n",
    "\n",
    "    return similarities"
   ]
  },
  {
   "cell_type": "code",
   "execution_count": 38,
   "metadata": {},
   "outputs": [],
   "source": [
    "total_acc_val = 0\n",
    "total_loss_val = 0\n",
    "correct_top_k = 0\n",
    "correct_top_k_wo_sim = 0\n",
    "\n",
    "all_preds = []\n",
    "all_labels = []\n",
    "device=\"cuda\"\n",
    "\n",
    "model = model.cuda()\n",
    "\n",
    "with torch.no_grad():\n",
    "\n",
    "    for val_input, val_label in loader:\n",
    "        val_label = val_label.to(device)\n",
    "        mask = val_input[1][\"attention_mask\"].squeeze(1).to(device)\n",
    "        input_id = val_input[1][\"input_ids\"].squeeze(1).to(device)\n",
    "        tok_type = val_input[1][\"token_type_ids\"].squeeze(1).to(device)\n",
    "\n",
    "        output = model(input_id, mask, tok_type)\n",
    "\n",
    "        output = torch.sum(torch.stack(output), 0)\n",
    "\n",
    "        #wo similarity\n",
    "        _, top_k_wo_sim = output.topk(3, 1, True, True)\n",
    "\n",
    "        top_k_wo_sim = top_k_wo_sim.t()\n",
    "\n",
    "        correct_top_k_wo_sim += (\n",
    "            top_k_wo_sim.eq(\n",
    "                val_label.view(1, -1).expand_as(top_k_wo_sim)\n",
    "            )\n",
    "            .sum()\n",
    "            .item()\n",
    "        )\n",
    "\n",
    "\n",
    "        # with similarity\n",
    "        # _, top_k_predictions = output.topk(3, 1, True, True)\n",
    "        # similar_preds = get_top_k_similar_devs(val_input[0], threshold=0.65)\n",
    "\n",
    "        # unique_preds = []\n",
    "\n",
    "        # for top, sim in zip(top_k_predictions, similar_preds):\n",
    "        #     # print(top, sim)\n",
    "            \n",
    "        #     copy_pred = top.cpu().numpy().tolist()\n",
    "        #     top_preds = top.cpu().numpy().tolist()[:5]\n",
    "\n",
    "        #     for s in sim:\n",
    "        #         if s not in top_preds:\n",
    "        #             top_preds.append(s)\n",
    "            \n",
    "        #     if len(top_preds) < 10:\n",
    "        #         top_preds = top_preds + copy_pred[5:5 + 10 - len(top_preds)]\n",
    "            \n",
    "        #     unique_preds.append(top_preds)\n",
    "\n",
    "        # unique_preds = torch.tensor(unique_preds).cuda()\n",
    "        # top_k_predictions = unique_preds.t()\n",
    "\n",
    "        # correct_top_k += (\n",
    "        #     top_k_predictions.eq(\n",
    "        #         val_label.view(1, -1).expand_as(top_k_predictions)\n",
    "        #     )\n",
    "        #     .sum()\n",
    "        #     .item()\n",
    "        # )\n",
    "\n",
    "        # # break\n",
    "\n",
    "        # acc = (output.argmax(dim=1) == val_label).sum().item()\n",
    "\n",
    "        # all_preds.append(output.argmax(dim=1).cpu().numpy())\n",
    "        # all_labels.append(val_label.cpu().numpy())\n",
    "\n",
    "        total_acc_val += acc"
   ]
  },
  {
   "cell_type": "code",
   "execution_count": 39,
   "metadata": {},
   "outputs": [
    {
     "name": "stdout",
     "output_type": "stream",
     "text": [
      "Correct Prediction without Similarity: 258, 0.6482412060301508\n"
     ]
    }
   ],
   "source": [
    "print(f\"Correct Prediction without Similarity: {correct_top_k_wo_sim}, {correct_top_k_wo_sim / len(y_df)}\")\n",
    "# print(f\"Correct Prediction with Similarity: {correct_top_k}, {correct_top_k / len(y_df)}\")"
   ]
  },
  {
   "cell_type": "code",
   "execution_count": null,
   "metadata": {},
   "outputs": [],
   "source": [
    "all_preds_np = np.concatenate(all_preds)\n",
    "all_labels_np = np.concatenate(all_labels)"
   ]
  },
  {
   "cell_type": "markdown",
   "metadata": {},
   "source": [
    "# Result Analysis"
   ]
  },
  {
   "cell_type": "code",
   "execution_count": null,
   "metadata": {},
   "outputs": [
    {
     "ename": "ValueError",
     "evalue": "Number of classes, 15, does not match size of target_names, 1843. Try specifying the labels parameter",
     "output_type": "error",
     "traceback": [
      "\u001b[0;31m---------------------------------------------------------------------------\u001b[0m",
      "\u001b[0;31mValueError\u001b[0m                                Traceback (most recent call last)",
      "Cell \u001b[0;32mIn[34], line 1\u001b[0m\n\u001b[0;32m----> 1\u001b[0m \u001b[38;5;28mprint\u001b[39m(\u001b[43mclassification_report\u001b[49m\u001b[43m(\u001b[49m\u001b[43mall_labels_np\u001b[49m\u001b[43m,\u001b[49m\u001b[43m \u001b[49m\u001b[43mall_preds_np\u001b[49m\u001b[43m,\u001b[49m\u001b[43m \u001b[49m\u001b[43mtarget_names\u001b[49m\u001b[38;5;241;43m=\u001b[39;49m\u001b[43mlabels\u001b[49m\u001b[43m)\u001b[49m)\n",
      "File \u001b[0;32m~/miniconda3/envs/trx/lib/python3.10/site-packages/sklearn/utils/_param_validation.py:213\u001b[0m, in \u001b[0;36mvalidate_params.<locals>.decorator.<locals>.wrapper\u001b[0;34m(*args, **kwargs)\u001b[0m\n\u001b[1;32m    207\u001b[0m \u001b[38;5;28;01mtry\u001b[39;00m:\n\u001b[1;32m    208\u001b[0m     \u001b[38;5;28;01mwith\u001b[39;00m config_context(\n\u001b[1;32m    209\u001b[0m         skip_parameter_validation\u001b[38;5;241m=\u001b[39m(\n\u001b[1;32m    210\u001b[0m             prefer_skip_nested_validation \u001b[38;5;129;01mor\u001b[39;00m global_skip_validation\n\u001b[1;32m    211\u001b[0m         )\n\u001b[1;32m    212\u001b[0m     ):\n\u001b[0;32m--> 213\u001b[0m         \u001b[38;5;28;01mreturn\u001b[39;00m \u001b[43mfunc\u001b[49m\u001b[43m(\u001b[49m\u001b[38;5;241;43m*\u001b[39;49m\u001b[43margs\u001b[49m\u001b[43m,\u001b[49m\u001b[43m \u001b[49m\u001b[38;5;241;43m*\u001b[39;49m\u001b[38;5;241;43m*\u001b[39;49m\u001b[43mkwargs\u001b[49m\u001b[43m)\u001b[49m\n\u001b[1;32m    214\u001b[0m \u001b[38;5;28;01mexcept\u001b[39;00m InvalidParameterError \u001b[38;5;28;01mas\u001b[39;00m e:\n\u001b[1;32m    215\u001b[0m     \u001b[38;5;66;03m# When the function is just a wrapper around an estimator, we allow\u001b[39;00m\n\u001b[1;32m    216\u001b[0m     \u001b[38;5;66;03m# the function to delegate validation to the estimator, but we replace\u001b[39;00m\n\u001b[1;32m    217\u001b[0m     \u001b[38;5;66;03m# the name of the estimator by the name of the function in the error\u001b[39;00m\n\u001b[1;32m    218\u001b[0m     \u001b[38;5;66;03m# message to avoid confusion.\u001b[39;00m\n\u001b[1;32m    219\u001b[0m     msg \u001b[38;5;241m=\u001b[39m re\u001b[38;5;241m.\u001b[39msub(\n\u001b[1;32m    220\u001b[0m         \u001b[38;5;124mr\u001b[39m\u001b[38;5;124m\"\u001b[39m\u001b[38;5;124mparameter of \u001b[39m\u001b[38;5;124m\\\u001b[39m\u001b[38;5;124mw+ must be\u001b[39m\u001b[38;5;124m\"\u001b[39m,\n\u001b[1;32m    221\u001b[0m         \u001b[38;5;124mf\u001b[39m\u001b[38;5;124m\"\u001b[39m\u001b[38;5;124mparameter of \u001b[39m\u001b[38;5;132;01m{\u001b[39;00mfunc\u001b[38;5;241m.\u001b[39m\u001b[38;5;18m__qualname__\u001b[39m\u001b[38;5;132;01m}\u001b[39;00m\u001b[38;5;124m must be\u001b[39m\u001b[38;5;124m\"\u001b[39m,\n\u001b[1;32m    222\u001b[0m         \u001b[38;5;28mstr\u001b[39m(e),\n\u001b[1;32m    223\u001b[0m     )\n",
      "File \u001b[0;32m~/miniconda3/envs/trx/lib/python3.10/site-packages/sklearn/metrics/_classification.py:2626\u001b[0m, in \u001b[0;36mclassification_report\u001b[0;34m(y_true, y_pred, labels, target_names, sample_weight, digits, output_dict, zero_division)\u001b[0m\n\u001b[1;32m   2620\u001b[0m         warnings\u001b[38;5;241m.\u001b[39mwarn(\n\u001b[1;32m   2621\u001b[0m             \u001b[38;5;124m\"\u001b[39m\u001b[38;5;124mlabels size, \u001b[39m\u001b[38;5;132;01m{0}\u001b[39;00m\u001b[38;5;124m, does not match size of target_names, \u001b[39m\u001b[38;5;132;01m{1}\u001b[39;00m\u001b[38;5;124m\"\u001b[39m\u001b[38;5;241m.\u001b[39mformat(\n\u001b[1;32m   2622\u001b[0m                 \u001b[38;5;28mlen\u001b[39m(labels), \u001b[38;5;28mlen\u001b[39m(target_names)\n\u001b[1;32m   2623\u001b[0m             )\n\u001b[1;32m   2624\u001b[0m         )\n\u001b[1;32m   2625\u001b[0m     \u001b[38;5;28;01melse\u001b[39;00m:\n\u001b[0;32m-> 2626\u001b[0m         \u001b[38;5;28;01mraise\u001b[39;00m \u001b[38;5;167;01mValueError\u001b[39;00m(\n\u001b[1;32m   2627\u001b[0m             \u001b[38;5;124m\"\u001b[39m\u001b[38;5;124mNumber of classes, \u001b[39m\u001b[38;5;132;01m{0}\u001b[39;00m\u001b[38;5;124m, does not match size of \u001b[39m\u001b[38;5;124m\"\u001b[39m\n\u001b[1;32m   2628\u001b[0m             \u001b[38;5;124m\"\u001b[39m\u001b[38;5;124mtarget_names, \u001b[39m\u001b[38;5;132;01m{1}\u001b[39;00m\u001b[38;5;124m. Try specifying the labels \u001b[39m\u001b[38;5;124m\"\u001b[39m\n\u001b[1;32m   2629\u001b[0m             \u001b[38;5;124m\"\u001b[39m\u001b[38;5;124mparameter\u001b[39m\u001b[38;5;124m\"\u001b[39m\u001b[38;5;241m.\u001b[39mformat(\u001b[38;5;28mlen\u001b[39m(labels), \u001b[38;5;28mlen\u001b[39m(target_names))\n\u001b[1;32m   2630\u001b[0m         )\n\u001b[1;32m   2631\u001b[0m \u001b[38;5;28;01mif\u001b[39;00m target_names \u001b[38;5;129;01mis\u001b[39;00m \u001b[38;5;28;01mNone\u001b[39;00m:\n\u001b[1;32m   2632\u001b[0m     target_names \u001b[38;5;241m=\u001b[39m [\u001b[38;5;124m\"\u001b[39m\u001b[38;5;132;01m%s\u001b[39;00m\u001b[38;5;124m\"\u001b[39m \u001b[38;5;241m%\u001b[39m l \u001b[38;5;28;01mfor\u001b[39;00m l \u001b[38;5;129;01min\u001b[39;00m labels]\n",
      "\u001b[0;31mValueError\u001b[0m: Number of classes, 15, does not match size of target_names, 1843. Try specifying the labels parameter"
     ]
    },
    {
     "name": "stderr",
     "output_type": "stream",
     "text": [
      "wandb: Network error (ReadTimeout), entering retry loop.\n"
     ]
    }
   ],
   "source": [
    "print(classification_report(all_labels_np, all_preds_np, target_names=labels))"
   ]
  },
  {
   "cell_type": "code",
   "execution_count": null,
   "metadata": {},
   "outputs": [],
   "source": [
    "idx2label = {\n",
    "    row[\"owner_id\"]: row[\"owner\"]\n",
    "    for _, row in y_df.iterrows()\n",
    "}\n",
    "\n",
    "labels = y_df.owner_id.to_list()\n",
    "labels = sorted(set(labels))\n",
    "labels = [f\"{idx}: {idx2label[idx]}\" for idx in labels]"
   ]
  },
  {
   "cell_type": "code",
   "execution_count": null,
   "metadata": {},
   "outputs": [],
   "source": [
    "def get_topic_distribution(owner):\n",
    "    print(\"Training topic distribution\")\n",
    "    print(\"=======================================\")\n",
    "    print(X_df[X_df.owner == owner].topic_label.value_counts())\n",
    "\n",
    "    print(\"\\n\\nTesting topic distribution\")\n",
    "    print(\"=======================================\")\n",
    "    print(y_df[y_df.owner == owner].topic_label.value_counts())"
   ]
  },
  {
   "cell_type": "code",
   "execution_count": null,
   "metadata": {},
   "outputs": [
    {
     "data": {
      "text/plain": [
       "Chrome Tab and Window Behavior Issues     947\n",
       "Build failures                            840\n",
       "Chrome stability issues                   487\n",
       "Layout Testing Issues                     400\n",
       "Chrome crash reports                      391\n",
       "Security and SSL issues                   372\n",
       "Input and keyboard issues                 370\n",
       "Webpage rendering regression issues       357\n",
       "Chrome sync issues                        354\n",
       "Shill WiFi configuration                  337\n",
       "iOS File Issues                           321\n",
       "Data Enhancement                          298\n",
       "Touch and Scroll Issues                   273\n",
       "DevTools Crashes                          260\n",
       "GPU rendering issues                      235\n",
       "Memory Leaks in WebCore and Blink         220\n",
       "Performance testing issues in Chromium    197\n",
       "WebRTC audio/video issues                 184\n",
       "Bookmark issues                           174\n",
       "Performance Regression in Blink            13\n",
       "Name: topic_label, dtype: int64"
      ]
     },
     "execution_count": 39,
     "metadata": {},
     "output_type": "execute_result"
    }
   ],
   "source": [
    "X_df.topic_label.value_counts()"
   ]
  },
  {
   "cell_type": "code",
   "execution_count": null,
   "metadata": {},
   "outputs": [
    {
     "name": "stdout",
     "output_type": "stream",
     "text": [
      "Training topic distribution\n",
      "=======================================\n",
      "Chrome Tab and Window Behavior Issues     10\n",
      "Webpage rendering regression issues        5\n",
      "Memory Leaks in WebCore and Blink          4\n",
      "Chrome stability issues                    4\n",
      "DevTools Crashes                           3\n",
      "Data Enhancement                           3\n",
      "Input and keyboard issues                  3\n",
      "Touch and Scroll Issues                    2\n",
      "Bookmark issues                            1\n",
      "Security and SSL issues                    1\n",
      "Chrome sync issues                         1\n",
      "Layout Testing Issues                      1\n",
      "Build failures                             1\n",
      "iOS File Issues                            1\n",
      "Performance testing issues in Chromium     1\n",
      "Name: topic_label, dtype: int64\n",
      "\n",
      "\n",
      "Testing topic distribution\n",
      "=======================================\n",
      "Chrome Tab and Window Behavior Issues     17\n",
      "Webpage rendering regression issues        7\n",
      "DevTools Crashes                           6\n",
      "iOS File Issues                            6\n",
      "Touch and Scroll Issues                    4\n",
      "Input and keyboard issues                  4\n",
      "Data Enhancement                           4\n",
      "Chrome crash reports                       4\n",
      "Chrome stability issues                    3\n",
      "Memory Leaks in WebCore and Blink          2\n",
      "Chrome sync issues                         2\n",
      "Bookmark issues                            1\n",
      "Performance testing issues in Chromium     1\n",
      "Name: topic_label, dtype: int64\n"
     ]
    }
   ],
   "source": [
    "get_topic_distribution(\"a...@chromium.org\")"
   ]
  },
  {
   "cell_type": "code",
   "execution_count": null,
   "metadata": {},
   "outputs": [],
   "source": []
  }
 ],
 "metadata": {
  "kernelspec": {
   "display_name": "Python 3 (ipykernel)",
   "language": "python",
   "name": "python3"
  }
 },
 "nbformat": 4,
 "nbformat_minor": 2
}
