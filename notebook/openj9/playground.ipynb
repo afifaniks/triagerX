{
 "cells": [
  {
   "cell_type": "code",
   "execution_count": 19,
   "metadata": {},
   "outputs": [],
   "source": [
    "import pandas as pd"
   ]
  },
  {
   "cell_type": "code",
   "execution_count": 99,
   "metadata": {},
   "outputs": [],
   "source": [
    "df = pd.read_csv(\"/home/mdafifal.mamun/notebooks/triagerX/data/openj9/last_contribution/openj9_dataset_6_7_24_last_contrib.csv\")"
   ]
  },
  {
   "cell_type": "code",
   "execution_count": 100,
   "metadata": {},
   "outputs": [],
   "source": [
    "df2 = pd.read_csv(\"/home/mdafifal.mamun/notebooks/triagerX/data/openj9_dataset_6_7_24_last.csv\")"
   ]
  },
  {
   "cell_type": "code",
   "execution_count": 101,
   "metadata": {},
   "outputs": [],
   "source": [
    "df[\"assignees\"] = df.assignees.str.lower()"
   ]
  },
  {
   "cell_type": "code",
   "execution_count": 102,
   "metadata": {},
   "outputs": [
    {
     "data": {
      "text/plain": [
       "False"
      ]
     },
     "execution_count": 102,
     "metadata": {},
     "output_type": "execute_result"
    }
   ],
   "source": [
    "list(df.assignees.values) == list(df2.owner.values)"
   ]
  },
  {
   "cell_type": "code",
   "execution_count": 103,
   "metadata": {},
   "outputs": [
    {
     "data": {
      "text/html": [
       "<div>\n",
       "<style scoped>\n",
       "    .dataframe tbody tr th:only-of-type {\n",
       "        vertical-align: middle;\n",
       "    }\n",
       "\n",
       "    .dataframe tbody tr th {\n",
       "        vertical-align: top;\n",
       "    }\n",
       "\n",
       "    .dataframe thead th {\n",
       "        text-align: right;\n",
       "    }\n",
       "</style>\n",
       "<table border=\"1\" class=\"dataframe\">\n",
       "  <thead>\n",
       "    <tr style=\"text-align: right;\">\n",
       "      <th></th>\n",
       "      <th>issue_number</th>\n",
       "      <th>issue_title</th>\n",
       "      <th>issue_body</th>\n",
       "      <th>issue_url</th>\n",
       "      <th>issue_state</th>\n",
       "      <th>creator</th>\n",
       "      <th>labels</th>\n",
       "      <th>owner</th>\n",
       "      <th>component</th>\n",
       "    </tr>\n",
       "  </thead>\n",
       "  <tbody>\n",
       "    <tr>\n",
       "      <th>6027</th>\n",
       "      <td>15306</td>\n",
       "      <td>JDK8 OpenJ9 Gives Different Results from HotSp...</td>\n",
       "      <td>Java version\\r\\n-------------\\r\\n\\r\\n```\\r\\nop...</td>\n",
       "      <td>https://github.com/eclipse-openj9/openj9/issue...</td>\n",
       "      <td>closed</td>\n",
       "      <td>connglli</td>\n",
       "      <td>comp:jit, userRaised</td>\n",
       "      <td>0xdaryl</td>\n",
       "      <td>comp:jit</td>\n",
       "    </tr>\n",
       "    <tr>\n",
       "      <th>6028</th>\n",
       "      <td>15306</td>\n",
       "      <td>JDK8 OpenJ9 Gives Different Results from HotSp...</td>\n",
       "      <td>Java version\\r\\n-------------\\r\\n\\r\\n```\\r\\nop...</td>\n",
       "      <td>https://github.com/eclipse-openj9/openj9/issue...</td>\n",
       "      <td>closed</td>\n",
       "      <td>connglli</td>\n",
       "      <td>comp:jit, userRaised</td>\n",
       "      <td>hzongaro</td>\n",
       "      <td>comp:jit</td>\n",
       "    </tr>\n",
       "  </tbody>\n",
       "</table>\n",
       "</div>"
      ],
      "text/plain": [
       "      issue_number                                        issue_title  \\\n",
       "6027         15306  JDK8 OpenJ9 Gives Different Results from HotSp...   \n",
       "6028         15306  JDK8 OpenJ9 Gives Different Results from HotSp...   \n",
       "\n",
       "                                             issue_body  \\\n",
       "6027  Java version\\r\\n-------------\\r\\n\\r\\n```\\r\\nop...   \n",
       "6028  Java version\\r\\n-------------\\r\\n\\r\\n```\\r\\nop...   \n",
       "\n",
       "                                              issue_url issue_state   creator  \\\n",
       "6027  https://github.com/eclipse-openj9/openj9/issue...      closed  connglli   \n",
       "6028  https://github.com/eclipse-openj9/openj9/issue...      closed  connglli   \n",
       "\n",
       "                    labels     owner component  \n",
       "6027  comp:jit, userRaised   0xdaryl  comp:jit  \n",
       "6028  comp:jit, userRaised  hzongaro  comp:jit  "
      ]
     },
     "execution_count": 103,
     "metadata": {},
     "output_type": "execute_result"
    }
   ],
   "source": [
    "df2[df2[\"issue_number\"] == 15306]"
   ]
  },
  {
   "cell_type": "code",
   "execution_count": 106,
   "metadata": {},
   "outputs": [
    {
     "data": {
      "text/plain": [
       "array(['gireeshpunathil', 'mpirvu', 'r30shah', 'hzongaro', 'danheidinga',\n",
       "       'tajila', 'smlambert', 'chetanmeh', 'dhong44', 'hangshao0',\n",
       "       'ailloviee', 'renfeiw', 'cathyzhyi', 'fjeremic', nan, 'ebadyano',\n",
       "       'keithc-ca', 'jameskingdon', 'chengjin01', 'adambrousseau',\n",
       "       'mstoodle', 'chandrams', 'vsebe', 'dsouzai', 'fengxue-is',\n",
       "       'pdbain-ibm', 'sophia-guo', 'terryzuoty', 'llxia', 'babsingh',\n",
       "       'amicic', 'mikezhang1234567890', 'alexey-anufriev', 'pshipton',\n",
       "       '0dvictor', 'harryyu1994', 'adamfarley', 'yathamravali',\n",
       "       'jasonfengj9', 'a7ehuo', 'cedrichansen', 'dmitripivkine',\n",
       "       'andrewcraik', 'dchopra001', 'kdbeall', 'yanluo7', 'yuehan-lin',\n",
       "       'alenbadel', 'hanfeiyu', 'lumpfish', '0xdaryl', 'pdbain', 'liqunl',\n",
       "       'rbanerjee', 'knn-k', 'gacholio', 'andrew-m-leonard',\n",
       "       'scott-young-6746', 'theresa-m', 'nbhuiyan', 'joransiu',\n",
       "       'non-conformances-research', 'dnakamura', 'mesbah-alam',\n",
       "       'cwesmills', 'suechaplain', 'linhu2016', 'jdmpapin',\n",
       "       'taliamccormick', 'cgwalters', 'ymanton', 'samuel-rubin',\n",
       "       'eric98zhang', 'ashu-mehra', 'oscarqq', 'rsalman', 'gita-omr',\n",
       "       'catull', 'anikser', 'acrowthe', 'koppor', 'joschi', 'ibmjimmyk',\n",
       "       'jonoommen', 'mickaelistria', 'michellexiaoxiaowang', 'doubletea',\n",
       "       'jsoref', 'simonameng', 'aidanha', 'bharathappali',\n",
       "       'thomaslittletrainx', 'jdekonin', 'sharon-wang', 'dmitry-ten',\n",
       "       'satbir-ca', 'mbvreddy', 'jason-hall', 'youngar', 'enasser',\n",
       "       'charlmzz', 'oneturkmen', 'anthony-kolesov', 'xxadi101xx',\n",
       "       'mimaison', 'markqingguo', 'r-santhir', 'joshcooper',\n",
       "       'jerrylui803', 'nigelyiboyu', 'gdams', 'vermash', 'ealrann',\n",
       "       'alon-sh', 'kobinau', 'aviansie-ben', 'dylanjtuttle', 'shishirh',\n",
       "       'doomerxe', 'sahithiponangi', 'chrisc66', 'caohaley', 'sogutbera',\n",
       "       'longyuzhang', 'o3hjj', 'singh264', 'groeges', 'charliegracie',\n",
       "       'adisuper94', 'karianna', 'efferifick', 'agarwalrounak',\n",
       "       'paulcheeseman', 'jmesyou', 'akira1saitoh', 'danysk',\n",
       "       'oussamasaoudi', 'midronij', 'prajwalbandak', 'zl-wang',\n",
       "       'dipak-bagadiya', 'beverlyxu', 'jennychenyj', 'samantha-rempel',\n",
       "       'm-davies', 'battleblow', 'jcodya', 'pushkarbettadpur',\n",
       "       'adam-thorpe', 'sxa', 'wbh123456', 'headius', 'rohitp27',\n",
       "       'shanchao95', 'mayshukla', 'vijaysun-omr', 'bragaigor', 'fredg02',\n",
       "       'imkabir', 'bradleywood', 'mw918', 'rwy7', 'haroon-khel',\n",
       "       'samasri', 'klangman', 'kgibm', 'mnalam-p', 'emanelsaban',\n",
       "       'harpreetbamrah', 'sajinakandy', 'kbeaton2-unb3035', 'willsparker',\n",
       "       'olvap377', 'leonardo2718', 'thallium', 'breucode', 'cjjdespres',\n",
       "       'ericyangibm', 'rudy2steiner', 'dusanboskovic', 'mingweiarthurli',\n",
       "       'qasimy123', 'rmnattas', 'themarvelfan', 'thanhenderson', 'cho-m',\n",
       "       'preveen-stack', 'alexeykhrabrov', 'gza060625', 'thihup',\n",
       "       'bhavanisn', 'ahwinimirajkar', 'lawqup', 'spencer-comin',\n",
       "       'umang228', 'rajdeepsingh1', 'aswathysk', 'jdmcclur',\n",
       "       'ehrenjulzert', 'tjwatson', 'kangyining', 'aixtools',\n",
       "       'backwaterred', 'nadeensami', 'jackbuggins', 'adbhonsle',\n",
       "       'manashavetrivelu', 'zainabf92', 'wilburzjh', 'ajohnson1',\n",
       "       'jasonkatonica', 'sendaoyan', 'aswinkr77', 'sreekala-gopakumar',\n",
       "       'paritkum', 'kostastsiounis', 'vlsi', 'aman254',\n",
       "       'step-security-bot', 'jinhangzhang', 'flooxo', 'uschindler',\n",
       "       'judovana', 'sophiaxu0424', 'rohit-satya', 'annaibm'], dtype=object)"
      ]
     },
     "execution_count": 106,
     "metadata": {},
     "output_type": "execute_result"
    }
   ],
   "source": [
    "df2.owner.unique()"
   ]
  },
  {
   "cell_type": "code",
   "execution_count": 107,
   "metadata": {},
   "outputs": [
    {
     "name": "stdout",
     "output_type": "stream",
     "text": [
      "Total issues after developer filtering: 2220\n"
     ]
    }
   ],
   "source": [
    "# Define active user map\n",
    "vm_users = [\n",
    "    \"pshipton\",\n",
    "    \"keithc-ca\",\n",
    "    \"gacholio\",\n",
    "    \"tajila\",\n",
    "    \"babsingh\",\n",
    "    \"JasonFengJ9\",\n",
    "    \"fengxue-IS\",\n",
    "    \"hangshao0\",\n",
    "    \"theresa-m\",\n",
    "    \"ChengJin01\",\n",
    "    \"singh264\",\n",
    "    \"thallium\",\n",
    "    \"ThanHenderson\",\n",
    "]\n",
    "jvmti_users = [\"gacholio\", \"tajila\", \"babsingh\", \"fengxue-IS\"]\n",
    "jclextensions_users = [\"JasonFengJ9\", \"pshipton\", \"keithc-ca\"]\n",
    "test_users = [\"LongyuZhang\", \"annaibm\", \"sophiaxu0424\", \"KapilPowar\", \"llxia\"]\n",
    "build_users = [\"adambrousseau\", \"mahdipub\"]\n",
    "gc_users = [\"dmitripivkine\", \"amicic\", \"kangyining\", \"LinHu2016\"]\n",
    "\n",
    "# Putting them in dictionaries\n",
    "components = {\n",
    "    \"comp:vm\": vm_users,\n",
    "    \"comp:jvmti\": jvmti_users,\n",
    "    \"comp:jclextensions\": jclextensions_users,\n",
    "    \"comp:test\": test_users,\n",
    "    \"comp:build\": build_users,\n",
    "    \"comp:gc\": gc_users,\n",
    "}\n",
    "\n",
    "expected_users = [user.lower() for user_list in components.values() for user in user_list]\n",
    "df2 = df2[df2[\"owner\"].isin(expected_users)]\n",
    "print(f\"Total issues after developer filtering: {len(df2)}\")\n",
    "\n",
    "df2 = df2.sort_values(by=\"issue_number\")"
   ]
  },
  {
   "cell_type": "code",
   "execution_count": 108,
   "metadata": {},
   "outputs": [],
   "source": [
    "xx = set(expected_users)"
   ]
  },
  {
   "cell_type": "code",
   "execution_count": 109,
   "metadata": {},
   "outputs": [],
   "source": [
    "yy = set(df2.owner.unique())"
   ]
  },
  {
   "cell_type": "code",
   "execution_count": 110,
   "metadata": {},
   "outputs": [
    {
     "data": {
      "text/plain": [
       "{'kapilpowar', 'mahdipub'}"
      ]
     },
     "execution_count": 110,
     "metadata": {},
     "output_type": "execute_result"
    }
   ],
   "source": [
    "xx - yy"
   ]
  },
  {
   "cell_type": "code",
   "execution_count": 111,
   "metadata": {},
   "outputs": [
    {
     "data": {
      "text/plain": [
       "owner\n",
       "jasonfengj9      377\n",
       "pshipton         329\n",
       "keithc-ca        277\n",
       "babsingh         262\n",
       "llxia            111\n",
       "hangshao0        111\n",
       "gacholio         107\n",
       "fengxue-is       106\n",
       "chengjin01       101\n",
       "tajila            89\n",
       "adambrousseau     71\n",
       "theresa-m         62\n",
       "longyuzhang       42\n",
       "linhu2016         39\n",
       "dmitripivkine     34\n",
       "thallium          30\n",
       "amicic            27\n",
       "singh264          24\n",
       "thanhenderson     13\n",
       "kangyining         6\n",
       "sophiaxu0424       1\n",
       "annaibm            1\n",
       "Name: count, dtype: int64"
      ]
     },
     "execution_count": 111,
     "metadata": {},
     "output_type": "execute_result"
    }
   ],
   "source": [
    "df2.owner.value_counts()"
   ]
  },
  {
   "cell_type": "code",
   "execution_count": 112,
   "metadata": {},
   "outputs": [
    {
     "name": "stdout",
     "output_type": "stream",
     "text": [
      "Training data: 1975, Validation data: 222\n",
      "Number of developers: 17\n",
      "Train dataset size: 1975\n",
      "Test dataset size: 222\n"
     ]
    }
   ],
   "source": [
    "from sklearn.model_selection import train_test_split\n",
    "\n",
    "df_train, df_test = train_test_split(df2, test_size=0.1, shuffle=False)\n",
    "\n",
    "sample_threshold = 20\n",
    "developers = df_train[\"owner\"].value_counts()\n",
    "filtered_developers = developers.index[developers >= sample_threshold]\n",
    "df_train = df_train[df_train[\"owner\"].isin(filtered_developers)]\n",
    "\n",
    "train_owners = set(df_train[\"owner\"])\n",
    "test_owners = set(df_test[\"owner\"])\n",
    "\n",
    "# unwanted = list(test_owners - train_owners)\n",
    "\n",
    "# df_test = df_test[~df_test[\"assignees\"].isin(unwanted)]\n",
    "\n",
    "print(f\"Training data: {len(df_train)}, Validation data: {len(df_test)}\")\n",
    "print(f\"Number of developers: {len(df_train.owner.unique())}\")\n",
    "\n",
    "print(f\"Train dataset size: {len(df_train)}\")\n",
    "print(f\"Test dataset size: {len(df_test)}\")"
   ]
  },
  {
   "cell_type": "code",
   "execution_count": 20,
   "metadata": {},
   "outputs": [],
   "source": [
    "gg = pd.read_csv(\"/home/mdafifal.mamun/notebooks/triagerX/openj9_train_17_devs.csv\")"
   ]
  },
  {
   "cell_type": "code",
   "execution_count": 21,
   "metadata": {},
   "outputs": [],
   "source": [
    "gg = gg[gg[\"owner\"].notna()]"
   ]
  },
  {
   "cell_type": "code",
   "execution_count": 35,
   "metadata": {},
   "outputs": [
    {
     "name": "stdout",
     "output_type": "stream",
     "text": [
      "{'adambrousseau': 0, 'amicic': 1, 'babsingh': 2, 'chengjin01': 3, 'dmitripivkine': 4, 'fengxue-is': 5, 'gacholio': 6, 'hangshao0': 7, 'jasonfengj9': 8, 'keithc-ca': 9, 'linhu2016': 10, 'llxia': 11, 'longyuzhang': 12, 'pshipton': 13, 'tajila': 14, 'thallium': 15, 'theresa-m': 16}\n"
     ]
    }
   ],
   "source": [
    "gggg = {}\n",
    "\n",
    "for _, r in gg.iterrows():\n",
    "    gggg[r[\"owner\"]] = r[\"owner_id\"]\n",
    "\n",
    "gggg = dict(sorted(gggg.items(), key=lambda item: item[1]))\n",
    "\n",
    "print(gggg)"
   ]
  },
  {
   "cell_type": "code",
   "execution_count": 17,
   "metadata": {},
   "outputs": [],
   "source": [
    "sample_threshold = 1\n",
    "developers = gg[\"owner\"].value_counts()\n",
    "filtered_developers = developers.index[developers >= sample_threshold]\n",
    "gg = gg[gg[\"owner\"].isin(filtered_developers)]"
   ]
  },
  {
   "cell_type": "code",
   "execution_count": 36,
   "metadata": {},
   "outputs": [],
   "source": [
    "import yaml"
   ]
  },
  {
   "cell_type": "code",
   "execution_count": 37,
   "metadata": {},
   "outputs": [],
   "source": [
    "with open(\"/home/mdafifal.mamun/notebooks/triagerX/app/config/triagerx_config.yaml\") as f:\n",
    "    cc = yaml.safe_load(f)"
   ]
  },
  {
   "cell_type": "code",
   "execution_count": 42,
   "metadata": {},
   "outputs": [
    {
     "data": {
      "text/plain": [
       "{'adambrousseau',\n",
       " 'amicic',\n",
       " 'babsingh',\n",
       " 'chengjin01',\n",
       " 'dmitripivkine',\n",
       " 'fengxue-is',\n",
       " 'gacholio',\n",
       " 'hangshao0',\n",
       " 'jasonfengj9',\n",
       " 'keithc-ca',\n",
       " 'linhu2016',\n",
       " 'llxia',\n",
       " 'longyuzhang',\n",
       " 'pshipton',\n",
       " 'tajila',\n",
       " 'thallium',\n",
       " 'theresa-m'}"
      ]
     },
     "execution_count": 42,
     "metadata": {},
     "output_type": "execute_result"
    }
   ],
   "source": [
    "set(cc[\"developer_id_map\"].keys())"
   ]
  },
  {
   "cell_type": "code",
   "execution_count": 18,
   "metadata": {},
   "outputs": [
    {
     "data": {
      "text/plain": [
       "2931"
      ]
     },
     "execution_count": 18,
     "metadata": {},
     "output_type": "execute_result"
    }
   ],
   "source": [
    "len(gg)"
   ]
  },
  {
   "cell_type": "code",
   "execution_count": 7,
   "metadata": {},
   "outputs": [
    {
     "data": {
      "text/plain": [
       "18"
      ]
     },
     "execution_count": 7,
     "metadata": {},
     "output_type": "execute_result"
    }
   ],
   "source": [
    "len(gg.owner.unique())"
   ]
  },
  {
   "cell_type": "code",
   "execution_count": 55,
   "metadata": {},
   "outputs": [
    {
     "name": "stdout",
     "output_type": "stream",
     "text": [
      "### Description of the new feature / enhancement\n",
      "\n",
      "PowerToys is an incubation system for testing new work.  Some features are on be default, others off.  Most of the time, we will default them to on.  This, from time to time, leads to unexpected results when someone quickly invokes find my mouse or other utilities. \n",
      "\n",
      "My proposal is to have a more upfront system in both first time run / upgrade as well as the 1st page in settings to show crisply, \n",
      "\n",
      "1. if a utility is on\n",
      "2. Invoke shortcut\n",
      "3. Shortcut to the utility's settings\n",
      "\n",
      "When new utilities come in, this line would also be added to the top of the upgraded dialog as well.\n",
      "\n",
      "### Scenario when this would be used?\n",
      "\n",
      "Getting new users and upgrade paths crisply aware of new things and defaults\n",
      "\n",
      "# Concept\n",
      "This is a very conceptual and quick-and-dirty comp of what a new homepage experience could look like:\n",
      "\n",
      "![image](https://github.com/microsoft/PowerToys/assets/9866362/1e2676c8-9c2a-4897-9c14-77ea13eaa684)\n",
      "\n",
      "- It would have a list of all modules that can be quickly turned on or off.\n",
      "- When turned on, a module card would appear on the 'dashboard' area that could provide:\n",
      "    - name + icon\n",
      "    - main activation shortcuts (if any)\n",
      "    - ability to launch the module (if applicable)\n",
      "\n",
      "\n"
     ]
    }
   ],
   "source": [
    "print(gg.iloc[17].issue_body)"
   ]
  },
  {
   "cell_type": "code",
   "execution_count": 30,
   "metadata": {},
   "outputs": [],
   "source": [
    "import re\n",
    "\n",
    "def clean_text(text: str) -> str:\n",
    "        text = str(text)  # In case, there is nan or something else\n",
    "        cleaned_text = text.strip()\n",
    "\n",
    "        cleaned_text = re.sub(r\"(https?|ftp):\\/\\/[^\\s/$.?#].[^\\s]*\", \"\", cleaned_text)\n",
    "        cleaned_text = re.sub(r\"0x[\\da-fA-F]+\", \"\", cleaned_text)\n",
    "        cleaned_text = re.sub(r\"\\b[0-9a-fA-F]{16}\\b\", \"\", cleaned_text)\n",
    "        cleaned_text = re.sub(\n",
    "            r\"\\b\\d{2}:\\d{2}:\\d{2}:\\d{4,} GMT\\b\",\n",
    "            \"\",\n",
    "            cleaned_text,\n",
    "        )\n",
    "        cleaned_text = re.sub(\n",
    "            r\"\\b\\d{2}:\\d{2}:\\d{2}(\\.\\d{2,3})?\\b\",\n",
    "            \"\",\n",
    "            cleaned_text,\n",
    "        )\n",
    "        cleaned_text = re.sub(\n",
    "            r\"\\b\\d{4}-\\d{2}-\\d{2}T\\d{2}:\\d{2}:\\d{2}\\.\\d+Z\\b\",\n",
    "            \"\",\n",
    "            cleaned_text,\n",
    "        )\n",
    "        cleaned_text = re.sub(r\"```\", \"\", cleaned_text)\n",
    "        # cleaned_text = re.sub(r\"-{3,}\", \"\", cleaned_text)\n",
    "        cleaned_text = re.sub(r\"[\\*#=+\\-]{3,}\", \"\", cleaned_text)\n",
    "\n",
    "        cleaned_text = re.sub(r\"(\\r?\\n)+\", \"\\n\", cleaned_text)\n",
    "        cleaned_text = re.sub(r\"(?![\\r\\n])\\s+\", \" \", cleaned_text)\n",
    "        cleaned_text = cleaned_text.strip()\n",
    "\n",
    "        return cleaned_text"
   ]
  },
  {
   "cell_type": "code",
   "execution_count": 31,
   "metadata": {},
   "outputs": [
    {
     "data": {
      "text/plain": [
       "'### Description of the new feature / enhancement\\r\\n\\r\\nhttps://github.com/microsoft/PowerToys/blob/77063e0767a0619abfc339db3a2a564d27310b6c/src/modules/launcher/Plugins/Microsoft.Plugin.Shell/Main.cs#L51-L62\\r\\nCurrently, the shell plugin in the powertoys can not use `pwsh.exe` to execute shell, I consider we should support it.\\r\\n\\r\\n### Scenario when this would be used?\\r\\n\\r\\nwe can use powershell 7 to instead the powershell 5 which the system provides. \\r\\n\\r\\n### Supporting information\\r\\n\\r\\n_No response_\\r\\n'"
      ]
     },
     "execution_count": 31,
     "metadata": {},
     "output_type": "execute_result"
    }
   ],
   "source": [
    "gg.iloc[17].issue_body"
   ]
  },
  {
   "cell_type": "code",
   "execution_count": 32,
   "metadata": {},
   "outputs": [
    {
     "name": "stdout",
     "output_type": "stream",
     "text": [
      "Description of the new feature / enhancement\n",
      "Currently, the shell plugin in the powertoys can not use `pwsh.exe` to execute shell, I consider we should support it.\n",
      " Scenario when this would be used?\n",
      "we can use powershell 7 to instead the powershell 5 which the system provides. Supporting information\n",
      "_No response_\n"
     ]
    }
   ],
   "source": [
    "print(clean_text(gg.iloc[17].issue_body))"
   ]
  },
  {
   "cell_type": "code",
   "execution_count": 39,
   "metadata": {},
   "outputs": [],
   "source": [
    "from transformers import AutoTokenizer"
   ]
  },
  {
   "cell_type": "code",
   "execution_count": 77,
   "metadata": {},
   "outputs": [],
   "source": [
    "tokenizer = AutoTokenizer.from_pretrained(\"microsoft/deberta-large\")"
   ]
  },
  {
   "cell_type": "code",
   "execution_count": 98,
   "metadata": {},
   "outputs": [
    {
     "data": {
      "text/plain": [
       "'554'"
      ]
     },
     "execution_count": 98,
     "metadata": {},
     "output_type": "execute_result"
    }
   ],
   "source": [
    "tokenizer.decode([38500])"
   ]
  },
  {
   "cell_type": "code",
   "execution_count": 94,
   "metadata": {},
   "outputs": [
    {
     "data": {
      "text/plain": [
       "{'input_ids': [1, 26758, 2036, 2545, 22410, 38500, 2], 'token_type_ids': [0, 0, 0, 0, 0, 0, 0], 'attention_mask': [1, 1, 1, 1, 1, 1, 1]}"
      ]
     },
     "execution_count": 94,
     "metadata": {},
     "output_type": "execute_result"
    }
   ],
   "source": [
    "tokenizer(\"1582275888554\")"
   ]
  },
  {
   "cell_type": "code",
   "execution_count": 46,
   "metadata": {},
   "outputs": [
    {
     "data": {
      "text/plain": [
       "0"
      ]
     },
     "execution_count": 46,
     "metadata": {},
     "output_type": "execute_result"
    }
   ],
   "source": [
    "special_tokens = {\"additional_special_tokens\": [\"<time>\"]}\n",
    "tokenizer.add_special_tokens(special_tokens)\n",
    "\n",
    "tokenizer.add_special_tokens(special_tokens)"
   ]
  },
  {
   "cell_type": "code",
   "execution_count": 52,
   "metadata": {},
   "outputs": [
    {
     "data": {
      "text/plain": [
       "{'input_ids': [1, 2663, 35, 1749, 35, 1570, 2], 'token_type_ids': [0, 0, 0, 0, 0, 0, 0], 'attention_mask': [1, 1, 1, 1, 1, 1, 1]}"
      ]
     },
     "execution_count": 52,
     "metadata": {},
     "output_type": "execute_result"
    }
   ],
   "source": [
    "tokenizer(\"01:40:14\")"
   ]
  },
  {
   "cell_type": "code",
   "execution_count": 1,
   "metadata": {},
   "outputs": [],
   "source": [
    "from triagerx.model.module_factory import DatasetFactory, ModelFactory"
   ]
  },
  {
   "cell_type": "code",
   "execution_count": 24,
   "metadata": {},
   "outputs": [
    {
     "name": "stderr",
     "output_type": "stream",
     "text": [
      "\u001b[32m2024-06-24 16:16:51.810\u001b[0m | \u001b[34m\u001b[1mDEBUG   \u001b[0m | \u001b[36mtriagerx.model.module_factory\u001b[0m:\u001b[36mget_model\u001b[0m:\u001b[36m54\u001b[0m - \u001b[34m\u001b[1mInstantiating model of class: <class 'triagerx.model.triagerx_dev_model.TriagerxDevModel'>\u001b[0m\n",
      "\u001b[32m2024-06-24 16:16:51.811\u001b[0m | \u001b[34m\u001b[1mDEBUG   \u001b[0m | \u001b[36mtriagerx.model.module_factory\u001b[0m:\u001b[36mget_model\u001b[0m:\u001b[36m65\u001b[0m - \u001b[34m\u001b[1mIncluding number of filters and classifiers\u001b[0m\n",
      "\u001b[32m2024-06-24 16:16:51.811\u001b[0m | \u001b[34m\u001b[1mDEBUG   \u001b[0m | \u001b[36mtriagerx.model.triagerx_dev_model\u001b[0m:\u001b[36m__init__\u001b[0m:\u001b[36m24\u001b[0m - \u001b[34m\u001b[1mLoading base transformer models: ['microsoft/deberta-base', 'roberta-base']\u001b[0m\n",
      "Some weights of RobertaModel were not initialized from the model checkpoint at roberta-base and are newly initialized: ['roberta.pooler.dense.bias', 'roberta.pooler.dense.weight']\n",
      "You should probably TRAIN this model on a down-stream task to be able to use it for predictions and inference.\n"
     ]
    }
   ],
   "source": [
    "gg = ModelFactory.get_model(\n",
    "    model_key=\"triagerx\",\n",
    "    output_size=1032,\n",
    "    unfrozen_layers=3,\n",
    "    num_classifiers=3,\n",
    "    base_models=[\"microsoft/deberta-base\", \"roberta-base\"],\n",
    "    dropout=0.2,\n",
    "    max_tokens=256,\n",
    "    label_map={},\n",
    ")"
   ]
  },
  {
   "cell_type": "code",
   "execution_count": 27,
   "metadata": {},
   "outputs": [
    {
     "name": "stderr",
     "output_type": "stream",
     "text": [
      "\u001b[32m2024-06-24 16:17:01.150\u001b[0m | \u001b[34m\u001b[1mDEBUG   \u001b[0m | \u001b[36mtriagerx.model.module_factory\u001b[0m:\u001b[36mget_model\u001b[0m:\u001b[36m54\u001b[0m - \u001b[34m\u001b[1mInstantiating model of class: <class 'triagerx.model.cnn_transformer.CNNTransformer'>\u001b[0m\n",
      "\u001b[32m2024-06-24 16:17:01.151\u001b[0m | \u001b[34m\u001b[1mDEBUG   \u001b[0m | \u001b[36mtriagerx.model.module_factory\u001b[0m:\u001b[36mget_model\u001b[0m:\u001b[36m65\u001b[0m - \u001b[34m\u001b[1mIncluding number of filters and classifiers\u001b[0m\n"
     ]
    }
   ],
   "source": [
    "yy = ModelFactory.get_model(\n",
    "    model_key=\"cnn-transformer\",\n",
    "    output_size=1032,\n",
    "    unfrozen_layers=3,\n",
    "    num_classifiers=3,\n",
    "    base_models=[\"microsoft/deberta-large\"],\n",
    "    dropout=0.2,\n",
    "    max_tokens=256,\n",
    "    label_map={},\n",
    ")"
   ]
  },
  {
   "cell_type": "code",
   "execution_count": 33,
   "metadata": {},
   "outputs": [],
   "source": [
    "total_params = sum(p.numel() for p in gg.parameters())\n",
    "\n",
    "total_params2 = sum(p.numel() for p in yy.parameters())"
   ]
  },
  {
   "cell_type": "code",
   "execution_count": 34,
   "metadata": {},
   "outputs": [
    {
     "data": {
      "text/plain": [
       "-134837751"
      ]
     },
     "execution_count": 34,
     "metadata": {},
     "output_type": "execute_result"
    }
   ],
   "source": [
    "total_params - total_params2"
   ]
  },
  {
   "cell_type": "code",
   "execution_count": 35,
   "metadata": {},
   "outputs": [
    {
     "name": "stdout",
     "output_type": "stream",
     "text": [
      "287663649 422501400\n"
     ]
    }
   ],
   "source": [
    "print(total_params, total_params2)"
   ]
  },
  {
   "cell_type": "code",
   "execution_count": 37,
   "metadata": {},
   "outputs": [
    {
     "data": {
      "text/plain": [
       "0.3191415484067035"
      ]
     },
     "execution_count": 37,
     "metadata": {},
     "output_type": "execute_result"
    }
   ],
   "source": [
    "(total_params2 - total_params) / total_params2"
   ]
  },
  {
   "cell_type": "code",
   "execution_count": 47,
   "metadata": {},
   "outputs": [
    {
     "ename": "SyntaxError",
     "evalue": "can't use starred expression here (383884787.py, line 3)",
     "output_type": "error",
     "traceback": [
      "\u001b[0;36m  Cell \u001b[0;32mIn[47], line 3\u001b[0;36m\u001b[0m\n\u001b[0;31m    *vv\u001b[0m\n\u001b[0m    ^\u001b[0m\n\u001b[0;31mSyntaxError\u001b[0m\u001b[0;31m:\u001b[0m can't use starred expression here\n"
     ]
    }
   ],
   "source": [
    "vv = {1: \"sadasd\", 2: \"alksdj\"}\n",
    "\n",
    "*vv"
   ]
  },
  {
   "cell_type": "code",
   "execution_count": null,
   "metadata": {},
   "outputs": [],
   "source": []
  }
 ],
 "metadata": {
  "kernelspec": {
   "display_name": "Python 3 (ipykernel)",
   "language": "python",
   "name": "python3"
  },
  "language_info": {
   "codemirror_mode": {
    "name": "ipython",
    "version": 3
   },
   "file_extension": ".py",
   "mimetype": "text/x-python",
   "name": "python",
   "nbconvert_exporter": "python",
   "pygments_lexer": "ipython3",
   "version": "3.10.13"
  }
 },
 "nbformat": 4,
 "nbformat_minor": 2
}
