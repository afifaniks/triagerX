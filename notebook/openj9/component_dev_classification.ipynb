{
 "cells": [
  {
   "cell_type": "markdown",
   "metadata": {},
   "source": [
    "# Import Modules"
   ]
  },
  {
   "cell_type": "code",
   "execution_count": 1,
   "metadata": {},
   "outputs": [
    {
     "name": "stderr",
     "output_type": "stream",
     "text": [
      "/home/mdafifal.mamun/miniconda3/envs/trx/lib/python3.10/site-packages/transformers/utils/generic.py:441: UserWarning: torch.utils._pytree._register_pytree_node is deprecated. Please use torch.utils._pytree.register_pytree_node instead.\n",
      "  _torch_pytree._register_pytree_node(\n"
     ]
    }
   ],
   "source": [
    "import re\n",
    "import torch\n",
    "import numpy as np\n",
    "import pandas as pd\n",
    "import torch.nn as nn\n",
    "import torch.nn.functional as F\n",
    "from torch.optim import AdamW\n",
    "from torch.utils.data import Dataset, DataLoader\n",
    "from torch.optim.lr_scheduler import ReduceLROnPlateau\n",
    "from torch.utils.data.sampler import WeightedRandomSampler\n",
    "from tqdm import tqdm\n",
    "from sentence_transformers import SentenceTransformer, util\n",
    "from loguru import logger\n",
    "from transformers import AutoModel, AutoTokenizer, get_linear_schedule_with_warmup, PreTrainedTokenizer\n",
    "from sklearn.metrics import precision_recall_fscore_support, classification_report, confusion_matrix\n",
    "import wandb\n",
    "\n",
    "tqdm.pandas()\n"
   ]
  },
  {
   "cell_type": "markdown",
   "metadata": {},
   "source": [
    "# Prepare Dataset"
   ]
  },
  {
   "cell_type": "code",
   "execution_count": 3,
   "metadata": {},
   "outputs": [
    {
     "name": "stderr",
     "output_type": "stream",
     "text": [
      "100%|██████████| 4381/4381 [00:00<00:00, 78434.18it/s]\n"
     ]
    },
    {
     "name": "stdout",
     "output_type": "stream",
     "text": [
      "Total number of issues: 31\n"
     ]
    }
   ],
   "source": [
    "dataset_path = \"/home/mdafifal.mamun/notebooks/triagerX/notebook/data/openj9/openj9_processed.csv\"\n",
    "\n",
    "df = pd.read_csv(dataset_path)\n",
    "df = df.rename(columns={\"assignees\": \"owner\", \"issue_body\": \"description\"})\n",
    "df = df[df[\"owner\"].notna()]\n",
    "\n",
    "def clean_issue_description(text):\n",
    "    cleaned_text = text.strip()\n",
    "    cleaned_text = re.sub(r'0x[\\da-fA-F]+', '<HEX>', cleaned_text)\n",
    "    cleaned_text = re.sub(r'\\b[0-9a-fA-F]{16}\\b', '<HEX>', cleaned_text)\n",
    "    cleaned_text = re.sub(r'\\b\\d{2}:\\d{2}:\\d{2}\\.\\d{3}\\b', '<TIMESTAMP>', cleaned_text)\n",
    "    cleaned_text = re.sub(r'\\s*[-+]?\\d*\\.\\d+([eE][-+]?\\d+)?', '<FLOAT_VALUE>', cleaned_text)\n",
    "    cleaned_text = re.sub(r'=\\s*-?\\d+', '= <PARAM_VALUE>', cleaned_text)\n",
    "    \n",
    "    return cleaned_text\n",
    "\n",
    "def clean_data(df):\n",
    "    df['text'] = df['text'].str.replace('http[s]?://(?:[a-zA-Z]|[0-9]|[$-_@.&+]|[!*\\(\\),]|(?:%[0-9a-fA-F][0-9a-fA-F]))+', ' ', regex=True)\n",
    "    df[\"text\"] = df['text'].str.replace(\" +\", \" \", regex=True)\n",
    "    df[\"text\"] = df[\"text\"].apply(clean_issue_description)\n",
    "\n",
    "    return df\n",
    "    \n",
    "def prepare_dataframe(df: pd.DataFrame) -> pd.DataFrame:\n",
    "    df[\"text\"] = df.progress_apply(\n",
    "            lambda x: \"Title: \"\n",
    "            + str(x[\"issue_title\"])\n",
    "            + \"\\nComponent: \"\n",
    "            + str(x[\"component\"])\n",
    "            + \"\\nIssue Topic: \"\n",
    "            + str(x[\"topic_label\"])\n",
    "            + \"\\nDescription: \"\n",
    "            + str(x[\"description\"]),\n",
    "            axis=1,\n",
    "        )\n",
    "    \n",
    "    min_length = 15\n",
    "    df = df[df[\"text\"].str.len().gt(min_length)]\n",
    "\n",
    "    # df[\"owner_id\"] = pd.factorize(df[\"assignees\"])[0]\n",
    "\n",
    "    return df\n",
    "\n",
    "df = prepare_dataframe(df)\n",
    "df = clean_data(df)\n",
    "df = df.sort_values(by=\"issue_number\")\n",
    "df = df[df.component == \"comp:jclextensions\"]\n",
    "\n",
    "num_issues = len(df)\n",
    "\n",
    "print(f\"Total number of issues: {num_issues}\")"
   ]
  },
  {
   "cell_type": "code",
   "execution_count": 4,
   "metadata": {},
   "outputs": [
    {
     "data": {
      "text/html": [
       "<div>\n",
       "<style scoped>\n",
       "    .dataframe tbody tr th:only-of-type {\n",
       "        vertical-align: middle;\n",
       "    }\n",
       "\n",
       "    .dataframe tbody tr th {\n",
       "        vertical-align: top;\n",
       "    }\n",
       "\n",
       "    .dataframe thead th {\n",
       "        text-align: right;\n",
       "    }\n",
       "</style>\n",
       "<table border=\"1\" class=\"dataframe\">\n",
       "  <thead>\n",
       "    <tr style=\"text-align: right;\">\n",
       "      <th></th>\n",
       "      <th>Unnamed: 0</th>\n",
       "      <th>issue_number</th>\n",
       "      <th>issue_title</th>\n",
       "      <th>description</th>\n",
       "      <th>issue_url</th>\n",
       "      <th>issue_state</th>\n",
       "      <th>creator</th>\n",
       "      <th>labels</th>\n",
       "      <th>owner</th>\n",
       "      <th>component</th>\n",
       "      <th>text</th>\n",
       "      <th>topic_id</th>\n",
       "      <th>topic_probs</th>\n",
       "      <th>topic_label</th>\n",
       "    </tr>\n",
       "  </thead>\n",
       "  <tbody>\n",
       "    <tr>\n",
       "      <th>3479</th>\n",
       "      <td>3479</td>\n",
       "      <td>9642</td>\n",
       "      <td>OpenJDK11-Acceptance TestZoneInfo310 available...</td>\n",
       "      <td>https://ci.eclipse.org/openj9/job/Pipeline-Ope...</td>\n",
       "      <td>https://github.com/eclipse-openj9/openj9/issue...</td>\n",
       "      <td>closed</td>\n",
       "      <td>pshipton</td>\n",
       "      <td>test failure, comp:jclextensions</td>\n",
       "      <td>pshipton</td>\n",
       "      <td>comp:jclextensions</td>\n",
       "      <td>Title: OpenJDK11-Acceptance TestZoneInfo310 av...</td>\n",
       "      <td>1</td>\n",
       "      <td>[0.010683156549930573, 0.06158875301480293, 0....</td>\n",
       "      <td>Java testing issues</td>\n",
       "    </tr>\n",
       "    <tr>\n",
       "      <th>3531</th>\n",
       "      <td>3531</td>\n",
       "      <td>9774</td>\n",
       "      <td>Windows 32 bit version is not built Large addr...</td>\n",
       "      <td>Duplicated from https://github.com/AdoptOpenJD...</td>\n",
       "      <td>https://github.com/eclipse-openj9/openj9/issue...</td>\n",
       "      <td>closed</td>\n",
       "      <td>pshipton</td>\n",
       "      <td>userRaised, comp:jclextensions</td>\n",
       "      <td>pshipton</td>\n",
       "      <td>comp:jclextensions</td>\n",
       "      <td>Title: Windows 32 bit version is not built Lar...</td>\n",
       "      <td>12</td>\n",
       "      <td>[0.040375322103500366, 0.03504777327179909, 0....</td>\n",
       "      <td>Offline systems</td>\n",
       "    </tr>\n",
       "    <tr>\n",
       "      <th>4302</th>\n",
       "      <td>4302</td>\n",
       "      <td>11624</td>\n",
       "      <td>Enable NX accelerated zlib on AIX machines</td>\n",
       "      <td>This issue to keep track of the PRs that enabl...</td>\n",
       "      <td>https://github.com/eclipse-openj9/openj9/issue...</td>\n",
       "      <td>closed</td>\n",
       "      <td>rmnattas</td>\n",
       "      <td>comp:jclextensions</td>\n",
       "      <td>rmnattas</td>\n",
       "      <td>comp:jclextensions</td>\n",
       "      <td>Title: Enable NX accelerated zlib on AIX machi...</td>\n",
       "      <td>7</td>\n",
       "      <td>[0.07393849641084671, 0.03163274750113487, 0.1...</td>\n",
       "      <td>Java development kit (JDK) issues on AIX</td>\n",
       "    </tr>\n",
       "    <tr>\n",
       "      <th>4441</th>\n",
       "      <td>4441</td>\n",
       "      <td>11922</td>\n",
       "      <td>OJDK MH: MethodHandles.collectArguments Issues</td>\n",
       "      <td>### Errors\\r\\n\\r\\n`MethodHandles.collectArgume...</td>\n",
       "      <td>https://github.com/eclipse-openj9/openj9/issue...</td>\n",
       "      <td>closed</td>\n",
       "      <td>babsingh</td>\n",
       "      <td>prio:low, comp:jclextensions, project:MH</td>\n",
       "      <td>babsingh</td>\n",
       "      <td>comp:jclextensions</td>\n",
       "      <td>Title: OJDK MH: MethodHandles.collectArguments...</td>\n",
       "      <td>13</td>\n",
       "      <td>[0.0, 0.05610651150345802, 0.05578923225402832...</td>\n",
       "      <td>Java Heap Space and Null Pointer Exceptions</td>\n",
       "    </tr>\n",
       "    <tr>\n",
       "      <th>4921</th>\n",
       "      <td>4921</td>\n",
       "      <td>12930</td>\n",
       "      <td>JDKnext openj9-staging is failing to build on ...</td>\n",
       "      <td>https://openj9-jenkins.osuosl.org/job/Pipeline...</td>\n",
       "      <td>https://github.com/eclipse-openj9/openj9/issue...</td>\n",
       "      <td>closed</td>\n",
       "      <td>pshipton</td>\n",
       "      <td>jdk-head, comp:jclextensions</td>\n",
       "      <td>JasonFengJ9</td>\n",
       "      <td>comp:jclextensions</td>\n",
       "      <td>Title: JDKnext openj9-staging is failing to bu...</td>\n",
       "      <td>6</td>\n",
       "      <td>[0.02967166155576706, 0.06333968043327332, 0.0...</td>\n",
       "      <td>Build issues with OpenJ9</td>\n",
       "    </tr>\n",
       "  </tbody>\n",
       "</table>\n",
       "</div>"
      ],
      "text/plain": [
       "      Unnamed: 0  issue_number  \\\n",
       "3479        3479          9642   \n",
       "3531        3531          9774   \n",
       "4302        4302         11624   \n",
       "4441        4441         11922   \n",
       "4921        4921         12930   \n",
       "\n",
       "                                            issue_title  \\\n",
       "3479  OpenJDK11-Acceptance TestZoneInfo310 available...   \n",
       "3531  Windows 32 bit version is not built Large addr...   \n",
       "4302         Enable NX accelerated zlib on AIX machines   \n",
       "4441     OJDK MH: MethodHandles.collectArguments Issues   \n",
       "4921  JDKnext openj9-staging is failing to build on ...   \n",
       "\n",
       "                                            description  \\\n",
       "3479  https://ci.eclipse.org/openj9/job/Pipeline-Ope...   \n",
       "3531  Duplicated from https://github.com/AdoptOpenJD...   \n",
       "4302  This issue to keep track of the PRs that enabl...   \n",
       "4441  ### Errors\\r\\n\\r\\n`MethodHandles.collectArgume...   \n",
       "4921  https://openj9-jenkins.osuosl.org/job/Pipeline...   \n",
       "\n",
       "                                              issue_url issue_state   creator  \\\n",
       "3479  https://github.com/eclipse-openj9/openj9/issue...      closed  pshipton   \n",
       "3531  https://github.com/eclipse-openj9/openj9/issue...      closed  pshipton   \n",
       "4302  https://github.com/eclipse-openj9/openj9/issue...      closed  rmnattas   \n",
       "4441  https://github.com/eclipse-openj9/openj9/issue...      closed  babsingh   \n",
       "4921  https://github.com/eclipse-openj9/openj9/issue...      closed  pshipton   \n",
       "\n",
       "                                        labels        owner  \\\n",
       "3479          test failure, comp:jclextensions     pshipton   \n",
       "3531            userRaised, comp:jclextensions     pshipton   \n",
       "4302                        comp:jclextensions     rmnattas   \n",
       "4441  prio:low, comp:jclextensions, project:MH     babsingh   \n",
       "4921              jdk-head, comp:jclextensions  JasonFengJ9   \n",
       "\n",
       "               component                                               text  \\\n",
       "3479  comp:jclextensions  Title: OpenJDK11-Acceptance TestZoneInfo310 av...   \n",
       "3531  comp:jclextensions  Title: Windows 32 bit version is not built Lar...   \n",
       "4302  comp:jclextensions  Title: Enable NX accelerated zlib on AIX machi...   \n",
       "4441  comp:jclextensions  Title: OJDK MH: MethodHandles.collectArguments...   \n",
       "4921  comp:jclextensions  Title: JDKnext openj9-staging is failing to bu...   \n",
       "\n",
       "      topic_id                                        topic_probs  \\\n",
       "3479         1  [0.010683156549930573, 0.06158875301480293, 0....   \n",
       "3531        12  [0.040375322103500366, 0.03504777327179909, 0....   \n",
       "4302         7  [0.07393849641084671, 0.03163274750113487, 0.1...   \n",
       "4441        13  [0.0, 0.05610651150345802, 0.05578923225402832...   \n",
       "4921         6  [0.02967166155576706, 0.06333968043327332, 0.0...   \n",
       "\n",
       "                                      topic_label  \n",
       "3479                          Java testing issues  \n",
       "3531                              Offline systems  \n",
       "4302     Java development kit (JDK) issues on AIX  \n",
       "4441  Java Heap Space and Null Pointer Exceptions  \n",
       "4921                     Build issues with OpenJ9  "
      ]
     },
     "execution_count": 4,
     "metadata": {},
     "output_type": "execute_result"
    }
   ],
   "source": [
    "df.head()"
   ]
  },
  {
   "cell_type": "code",
   "execution_count": 5,
   "metadata": {},
   "outputs": [],
   "source": [
    "df[\"topic_hot\"] = pd.get_dummies(df[\"topic_label\"]).values.tolist()\n"
   ]
  },
  {
   "cell_type": "code",
   "execution_count": 6,
   "metadata": {},
   "outputs": [],
   "source": [
    "vm_users = ['pshipton', 'keithc-ca', 'gacholio', 'tajila', 'babsingh', 'JasonFengJ9', 'fengxue-IS', 'hangshao0', 'theresa.t.mammarella', 'ChengJin01', 'singh264', 'thallium', 'ThanHenderson']\n",
    "jvmti_users = ['gacholio', 'tajila', 'babsingh', 'fengxue-IS']\n",
    "jclextensions_users = ['JasonFengJ9', 'pshipton', 'keithc-ca']\n",
    "test_users = ['LongyuZhang', 'annaibm', 'sophiaxu0424', 'KapilPowar', 'llxia']\n",
    "build_users = ['adambrousseau', 'mahdipub']\n",
    "gc_users = ['dmitripivkine', 'amicic', 'kangyining', 'LinHu2016']\n",
    "\n",
    "# Putting them in dictionaries\n",
    "components = {\n",
    "    'comp:vm': vm_users,\n",
    "    'comp:jvmti': jvmti_users,\n",
    "    'comp:jclextensions': jclextensions_users,\n",
    "    'comp:test': test_users,\n",
    "    'comp:build': build_users,\n",
    "    'comp:gc': gc_users\n",
    "}\n",
    "\n",
    "expected_users = [user for user_list in components.values() for user in user_list]"
   ]
  },
  {
   "cell_type": "code",
   "execution_count": 7,
   "metadata": {},
   "outputs": [
    {
     "name": "stdout",
     "output_type": "stream",
     "text": [
      "Total issues after developer filtering: 24\n"
     ]
    }
   ],
   "source": [
    "df = df[df[\"owner\"].isin(vm_users)]\n",
    "print(\"Total issues after developer filtering:\", len(df))"
   ]
  },
  {
   "cell_type": "code",
   "execution_count": 8,
   "metadata": {},
   "outputs": [
    {
     "data": {
      "text/plain": [
       "owner\n",
       "pshipton         12\n",
       "keithc-ca         5\n",
       "babsingh          4\n",
       "JasonFengJ9       2\n",
       "ThanHenderson     1\n",
       "Name: count, dtype: int64"
      ]
     },
     "execution_count": 8,
     "metadata": {},
     "output_type": "execute_result"
    }
   ],
   "source": [
    "df.owner.value_counts()"
   ]
  },
  {
   "cell_type": "code",
   "execution_count": 20,
   "metadata": {},
   "outputs": [
    {
     "name": "stdout",
     "output_type": "stream",
     "text": [
      "Samples per block: 3\n"
     ]
    }
   ],
   "source": [
    "# Cross-Validation Fold Definition\n",
    "\n",
    "num_cv = 10\n",
    "sample_threshold = 0 # Threshold to filter developers\n",
    "samples_per_block = len(df) // num_cv + 1\n",
    "print(f\"Samples per block: {samples_per_block}\")\n",
    "\n",
    "block = 7\n",
    "sliced_df = df[: samples_per_block * (block+1)]"
   ]
  },
  {
   "cell_type": "code",
   "execution_count": 21,
   "metadata": {},
   "outputs": [
    {
     "name": "stdout",
     "output_type": "stream",
     "text": [
      "Training data: 21, Validation data: 3\n",
      "Number of developers: 5\n"
     ]
    }
   ],
   "source": [
    "# Train and Validation preparation\n",
    "\n",
    "X_df = sliced_df[:samples_per_block*block]\n",
    "y_df = sliced_df[samples_per_block*block : samples_per_block * (block+1)]\n",
    "\n",
    "developers = X_df[\"owner\"].value_counts()\n",
    "filtered_developers = developers.index[developers >= sample_threshold]\n",
    "X_df = X_df[X_df[\"owner\"].isin(filtered_developers)]\n",
    "\n",
    "train_owners = set(X_df[\"owner\"])\n",
    "test_owners = set(y_df[\"owner\"])\n",
    "\n",
    "unwanted = list(test_owners - train_owners)\n",
    "\n",
    "y_df = y_df[~y_df[\"owner\"].isin(unwanted)]\n",
    "\n",
    "print(f\"Training data: {len(X_df)}, Validation data: {len(y_df)}\")\n",
    "print(f\"Number of developers: {len(X_df.owner.unique())}\")"
   ]
  },
  {
   "cell_type": "code",
   "execution_count": 22,
   "metadata": {},
   "outputs": [
    {
     "data": {
      "text/plain": [
       "<Axes: xlabel='owner'>"
      ]
     },
     "execution_count": 22,
     "metadata": {},
     "output_type": "execute_result"
    },
    {
     "data": {
      "image/png": "[encoded data removed]",
      "text/plain": [
       "<Figure size 640x480 with 1 Axes>"
      ]
     },
     "metadata": {},
     "output_type": "display_data"
    }
   ],
   "source": [
    "X_df.owner.value_counts().plot(kind=\"bar\")"
   ]
  },
  {
   "cell_type": "code",
   "execution_count": 23,
   "metadata": {},
   "outputs": [],
   "source": [
    "# Label encode developers\n",
    "\n",
    "lbl2idx = {}\n",
    "\n",
    "train_owners = sorted(train_owners)\n",
    "\n",
    "for idx, dev in enumerate(train_owners):\n",
    "    lbl2idx[dev] = idx\n",
    "\n",
    "X_df[\"owner_id\"] = X_df[\"owner\"].apply(lambda owner: lbl2idx[owner])\n",
    "y_df[\"owner_id\"] = y_df[\"owner\"].apply(lambda owner: lbl2idx[owner])"
   ]
  },
  {
   "cell_type": "code",
   "execution_count": 55,
   "metadata": {},
   "outputs": [
    {
     "data": {
      "text/plain": [
       "<Axes: xlabel='owner_id'>"
      ]
     },
     "execution_count": 55,
     "metadata": {},
     "output_type": "execute_result"
    },
    {
     "data": {
      "image/png": "[encoded data removed]",
      "text/plain": [
       "<Figure size 640x480 with 1 Axes>"
      ]
     },
     "metadata": {},
     "output_type": "display_data"
    }
   ],
   "source": [
    "# Contribution plot\n",
    "\n",
    "X_df.owner_id.value_counts().plot(kind=\"bar\")"
   ]
  },
  {
   "cell_type": "markdown",
   "metadata": {},
   "source": [
    "# Prepare PyTorch Dataset"
   ]
  },
  {
   "cell_type": "code",
   "execution_count": 21,
   "metadata": {},
   "outputs": [],
   "source": [
    "class TriageDataset(Dataset):\n",
    "    def __init__(\n",
    "        self,\n",
    "        df: pd.DataFrame,\n",
    "        tokenizer: PreTrainedTokenizer,\n",
    "        feature: str = \"text\",\n",
    "        target: str = \"owner_id\",\n",
    "    ):\n",
    "        logger.debug(\"Generating torch dataset...\")\n",
    "        self.tokenizer = tokenizer\n",
    "        self.labels = [label for label in df[target]]\n",
    "        # self.embedding_model = SentenceTransformer(\"BAAI/bge-small-en\")\n",
    "        logger.debug(\"Tokenizing texts...\")\n",
    "        self.texts = [\n",
    "            (row.text, self.tokenizer(\n",
    "                row.text,\n",
    "                padding=\"max_length\",\n",
    "                max_length=512,\n",
    "                truncation=True,\n",
    "                return_tensors=\"pt\",\n",
    "            ), torch.tensor([float(x.strip()) for x in row.topic_probs[1:-1].split(\",\")]))\n",
    "            for _, row in df.iterrows()\n",
    "        ]\n",
    "\n",
    "    def classes(self):\n",
    "        return self.labels\n",
    "\n",
    "    def __len__(self):\n",
    "        return len(self.labels)\n",
    "\n",
    "    def get_batch_labels(self, idx):\n",
    "        # Fetch a batch of labels\n",
    "        return np.array(self.labels[idx])\n",
    "\n",
    "    def get_batch_texts(self, idx):\n",
    "        # Fetch a batch of inputs\n",
    "        return self.texts[idx]\n",
    "\n",
    "    def __getitem__(self, idx):\n",
    "\n",
    "        batch_texts = self.get_batch_texts(idx)\n",
    "        batch_y = self.get_batch_labels(idx)\n",
    "\n",
    "        return batch_texts, batch_y\n"
   ]
  },
  {
   "cell_type": "markdown",
   "metadata": {},
   "source": [
    "# Modified Transformer Model"
   ]
  },
  {
   "cell_type": "code",
   "execution_count": 22,
   "metadata": {},
   "outputs": [
    {
     "name": "stderr",
     "output_type": "stream",
     "text": [
      "/home/mdafifal.mamun/miniconda3/envs/trx/lib/python3.10/site-packages/transformers/utils/generic.py:309: UserWarning: torch.utils._pytree._register_pytree_node is deprecated. Please use torch.utils._pytree.register_pytree_node instead.\n",
      "  _torch_pytree._register_pytree_node(\n",
      "/home/mdafifal.mamun/miniconda3/envs/trx/lib/python3.10/site-packages/transformers/utils/generic.py:309: UserWarning: torch.utils._pytree._register_pytree_node is deprecated. Please use torch.utils._pytree.register_pytree_node instead.\n",
      "  _torch_pytree._register_pytree_node(\n"
     ]
    }
   ],
   "source": [
    "from transformers import DebertaModel, DebertaConfig"
   ]
  },
  {
   "cell_type": "code",
   "execution_count": 23,
   "metadata": {},
   "outputs": [],
   "source": [
    "class LBTPClassifierTopic(nn.Module):\n",
    "    def __init__(\n",
    "        self, output_size, topic_size, unfrozen_layers=4, dropout=0.1\n",
    "    ) -> None:\n",
    "        super().__init__()\n",
    "        model_name = \"microsoft/deberta-base\"\n",
    "        self.base_model = AutoModel.from_pretrained(\n",
    "            model_name, output_hidden_states=True\n",
    "        )\n",
    "        self._tokenizer = AutoTokenizer.from_pretrained(model_name)\n",
    "\n",
    "        # Freeze embedding layers\n",
    "        for p in self.base_model.embeddings.parameters():\n",
    "            p.requires_grad = False\n",
    "\n",
    "        # Freeze encoder layers till last {unfrozen_layers} layers\n",
    "        for i in range(0, self.base_model.config.num_hidden_layers - unfrozen_layers):\n",
    "            for p in self.base_model.encoder.layer[i].parameters():\n",
    "                p.requires_grad = False\n",
    "\n",
    "        filter_sizes = [3, 4, 5, 6]\n",
    "        self._num_filters = 256\n",
    "        self._max_tokens = 512\n",
    "        self._embed_size = self.base_model.config.hidden_size\n",
    "        self.unfrozen_layers = unfrozen_layers\n",
    "        self.conv_blocks = nn.ModuleList(\n",
    "            [\n",
    "                nn.ModuleList(\n",
    "                    [\n",
    "                        nn.Sequential(\n",
    "                            nn.Conv2d(1, self._num_filters, (K, self._embed_size)),\n",
    "                            nn.BatchNorm2d(self._num_filters),\n",
    "                            nn.ReLU(),\n",
    "                            nn.Flatten(),\n",
    "                            nn.MaxPool1d(self._max_tokens - (K - 1)),\n",
    "                            nn.Flatten(start_dim=1),\n",
    "                        )\n",
    "                        for K in filter_sizes\n",
    "                    ]\n",
    "                )\n",
    "                for _ in range(unfrozen_layers)\n",
    "            ]\n",
    "        )\n",
    "\n",
    "        self.classifiers = nn.ModuleList(\n",
    "            [\n",
    "                # nn.Linear(\n",
    "                #     len(filter_sizes) * self._num_filters + topic_size, output_size\n",
    "                # )\n",
    "                nn.Linear(\n",
    "                    len(filter_sizes) * self._num_filters, output_size\n",
    "                )\n",
    "                for _ in range(unfrozen_layers)\n",
    "            ]\n",
    "        )\n",
    "\n",
    "        self.dropout = nn.Dropout(dropout)\n",
    "\n",
    "    def forward(self, input_ids, attention_mask, tok_type, topic_id):\n",
    "        outputs = []\n",
    "\n",
    "        base_out = self.base_model(input_ids=input_ids, token_type_ids=tok_type, attention_mask=attention_mask)\n",
    "        # pooler_out = base_out.last_hidden_state.squeeze(0)\n",
    "        hidden_states = base_out.hidden_states[-self.unfrozen_layers :]\n",
    "\n",
    "        for i in range(self.unfrozen_layers):\n",
    "            batch_size, sequence_length, hidden_size = hidden_states[i].size()\n",
    "            x = [\n",
    "                conv(hidden_states[i].view(batch_size, 1, sequence_length, hidden_size))\n",
    "                for conv in self.conv_blocks[i]\n",
    "            ]\n",
    "            # Concatanating outputs of the conv block of different filter sizes\n",
    "            x = torch.cat(x, dim=1)\n",
    "            x = self.dropout(x)\n",
    "            # x = torch.cat([x, topic_id], dim=1)\n",
    "            x = self.classifiers[i](x)\n",
    "\n",
    "            outputs.append(x)\n",
    "\n",
    "        return outputs\n",
    "\n",
    "    def tokenizer(self) -> AutoTokenizer:\n",
    "        return self._tokenizer\n"
   ]
  },
  {
   "cell_type": "markdown",
   "metadata": {},
   "source": [
    "# Loss Functions"
   ]
  },
  {
   "cell_type": "code",
   "execution_count": 24,
   "metadata": {},
   "outputs": [],
   "source": [
    "class CombineLoss(nn.Module):\n",
    "    def __init__(self, weights = None) -> None:\n",
    "        super().__init__()\n",
    "        self._ce = nn.CrossEntropyLoss(weight=weights)\n",
    "    def forward(\n",
    "        self,\n",
    "        prediction,\n",
    "        labels\n",
    "    ) -> torch.Tensor:\n",
    "        loss = 0\n",
    "\n",
    "        for i in range(len(prediction)):\n",
    "            loss += self._ce(prediction[i], labels)\n",
    "\n",
    "        return loss"
   ]
  },
  {
   "cell_type": "markdown",
   "metadata": {},
   "source": [
    "# Training Parameters"
   ]
  },
  {
   "cell_type": "code",
   "execution_count": 25,
   "metadata": {},
   "outputs": [
    {
     "name": "stdout",
     "output_type": "stream",
     "text": [
      "10\n"
     ]
    }
   ],
   "source": [
    "num_classes = len(X_df[\"owner_id\"].unique())\n",
    "print(num_classes)"
   ]
  },
  {
   "cell_type": "code",
   "execution_count": 26,
   "metadata": {},
   "outputs": [],
   "source": [
    "# wandb.login()\n",
    "# wandb.init(\n",
    "#     # Set the project where this run will be logged\n",
    "#     project=\"openj9_developers\", \n",
    "#     # We pass a run name (otherwise it’ll be randomly assigned, like sunshine-lollypop-10)\n",
    "#     name=f\"developer_prediction_topicprobs_bilstm-cnn_{num_classes}_classes\", \n",
    "#     # Track hyperparameters and run metadata\n",
    "#     config={\n",
    "#     \"learning_rate\": learning_rate,\n",
    "#     \"architecture\": \"Deberta-LBT-P\",\n",
    "#     \"dataset\": \"openj9\",\n",
    "#     \"epochs\": epochs,\n",
    "# })"
   ]
  },
  {
   "cell_type": "code",
   "execution_count": 27,
   "metadata": {},
   "outputs": [],
   "source": [
    "class_counts = np.bincount(X_df[\"owner_id\"])\n",
    "num_samples = sum(class_counts)\n",
    "labels = X_df[\"owner_id\"].to_list() # corresponding labels of samples\n",
    "\n",
    "class_weights = [num_samples/class_counts[i] for i in range(len(class_counts))]\n",
    "weights = [class_weights[labels[i]] for i in range(int(num_samples))]\n",
    "sampler = WeightedRandomSampler(torch.DoubleTensor(weights), int(num_samples))\n",
    "weights_save_location = f\"openj9_dev_compvm.pt\"\n",
    "\n",
    "# Define hyperparameters\n",
    "learning_rate = 1e-4\n",
    "epochs = 20\n",
    "batch_size = 15\n",
    "\n",
    "model = LBTPClassifierTopic(len(X_df.owner_id.unique()), 20, dropout=0.3)\n",
    "criterion = CombineLoss(weights=None)\n",
    "optimizer = AdamW(model.parameters(), lr=learning_rate, eps=1e-8, weight_decay=0.001)\n",
    "scheduler = ReduceLROnPlateau(optimizer, \"min\", patience=2, factor=0.1, threshold=1e-8)"
   ]
  },
  {
   "cell_type": "code",
   "execution_count": 28,
   "metadata": {},
   "outputs": [
    {
     "name": "stderr",
     "output_type": "stream",
     "text": [
      "\u001b[32m2024-04-27 14:48:49.196\u001b[0m | \u001b[34m\u001b[1mDEBUG   \u001b[0m | \u001b[36m__main__\u001b[0m:\u001b[36m__init__\u001b[0m:\u001b[36m9\u001b[0m - \u001b[34m\u001b[1mGenerating torch dataset...\u001b[0m\n",
      "\u001b[32m2024-04-27 14:48:49.198\u001b[0m | \u001b[34m\u001b[1mDEBUG   \u001b[0m | \u001b[36m__main__\u001b[0m:\u001b[36m__init__\u001b[0m:\u001b[36m13\u001b[0m - \u001b[34m\u001b[1mTokenizing texts...\u001b[0m\n",
      "\u001b[32m2024-04-27 14:48:51.119\u001b[0m | \u001b[34m\u001b[1mDEBUG   \u001b[0m | \u001b[36m__main__\u001b[0m:\u001b[36m__init__\u001b[0m:\u001b[36m9\u001b[0m - \u001b[34m\u001b[1mGenerating torch dataset...\u001b[0m\n",
      "\u001b[32m2024-04-27 14:48:51.122\u001b[0m | \u001b[34m\u001b[1mDEBUG   \u001b[0m | \u001b[36m__main__\u001b[0m:\u001b[36m__init__\u001b[0m:\u001b[36m13\u001b[0m - \u001b[34m\u001b[1mTokenizing texts...\u001b[0m\n"
     ]
    }
   ],
   "source": [
    "# Prepare torch dataset from train and validation splits\n",
    "train = TriageDataset(X_df, model.tokenizer())\n",
    "val = TriageDataset(y_df, model.tokenizer())"
   ]
  },
  {
   "cell_type": "code",
   "execution_count": 29,
   "metadata": {},
   "outputs": [],
   "source": [
    "train_dataloader = DataLoader(\n",
    "    dataset=train,\n",
    "    batch_size=10,\n",
    "    shuffle=False if sampler else True,\n",
    "    sampler=sampler,\n",
    ")\n",
    "val_dataloader = DataLoader(val, batch_size=10)"
   ]
  },
  {
   "cell_type": "code",
   "execution_count": 30,
   "metadata": {},
   "outputs": [
    {
     "name": "stderr",
     "output_type": "stream",
     "text": [
      "\u001b[32m2024-04-27 14:48:55.542\u001b[0m | \u001b[34m\u001b[1mDEBUG   \u001b[0m | \u001b[36m__main__\u001b[0m:\u001b[36m<module>\u001b[0m:\u001b[36m5\u001b[0m - \u001b[34m\u001b[1mSelected compute device: cuda\u001b[0m\n"
     ]
    }
   ],
   "source": [
    "device = torch.device(\"cuda\" if torch.cuda.is_available() else \"cpu\")\n",
    "best_loss = float(\"inf\")\n",
    "\n",
    "if torch.cuda.is_available():\n",
    "    logger.debug(f\"Selected compute device: {device}\")\n",
    "    model = model.cuda()\n",
    "    criterion = criterion.cuda()"
   ]
  },
  {
   "cell_type": "code",
   "execution_count": 34,
   "metadata": {},
   "outputs": [],
   "source": [
    "def log_step(\n",
    "        epoch_num,\n",
    "        total_acc_train,\n",
    "        total_acc_val,\n",
    "        total_loss_train,\n",
    "        total_loss_val,\n",
    "        precision,\n",
    "        recall,\n",
    "        f1_score,\n",
    "        train_data,\n",
    "        validation_data,\n",
    "        topk,\n",
    "    ):\n",
    "        log = f\"Epochs: {epoch_num + 1} | Train Loss: {total_loss_train / len(train_data): .3f} \\\n",
    "                    | Train Accuracy: {total_acc_train / len(train_data): .3f} \\\n",
    "                    | Val Loss: {total_loss_val / len(validation_data): .3f} \\\n",
    "                    | Val Accuracy: {total_acc_val / len(validation_data): .3f} \\\n",
    "                    | Top K: {topk} \\\n",
    "                    | Precision: {precision: .3f} \\\n",
    "                    | Recall: {recall: .3f} \\\n",
    "                    | F1-score: {f1_score: .3f}\"\n",
    "        \n",
    "        # wandb.log({\n",
    "        #     \"train_acc\": total_acc_train / len(train_data), \n",
    "        #     \"train_loss\": total_loss_train / len(train_data),\n",
    "        #     \"val_acc\": total_acc_val / len(validation_data),\n",
    "        #     \"val_loss\": total_loss_val / len(validation_data),\n",
    "        #     \"top3_acc\": topk,\n",
    "        #     \"precision\": precision,\n",
    "        #     \"recall\": recall,\n",
    "        #     \"f1-score\": f1_score\n",
    "        # })\n",
    "\n",
    "        logger.info(log)"
   ]
  },
  {
   "cell_type": "markdown",
   "metadata": {},
   "source": [
    "# Training Loop"
   ]
  },
  {
   "cell_type": "code",
   "execution_count": 35,
   "metadata": {},
   "outputs": [],
   "source": [
    "model = model.cuda()"
   ]
  },
  {
   "cell_type": "code",
   "execution_count": 36,
   "metadata": {},
   "outputs": [
    {
     "name": "stderr",
     "output_type": "stream",
     "text": [
      "Training Steps: 100%|██████████| 89/89 [00:30<00:00,  2.94it/s]\n",
      "Validation Steps: 100%|██████████| 9/9 [00:01<00:00,  7.45it/s]\n",
      "/home/mdafifal.mamun/miniconda3/envs/trx/lib/python3.10/site-packages/sklearn/metrics/_classification.py:1509: UndefinedMetricWarning: Precision is ill-defined and being set to 0.0 in labels with no predicted samples. Use `zero_division` parameter to control this behavior.\n",
      "  _warn_prf(average, modifier, f\"{metric.capitalize()} is\", len(result))\n",
      "\u001b[32m2024-04-27 14:50:15.164\u001b[0m | \u001b[1mINFO    \u001b[0m | \u001b[36m__main__\u001b[0m:\u001b[36mlog_step\u001b[0m:\u001b[36m34\u001b[0m - \u001b[1mEpochs: 1 | Train Loss:  0.491                     | Train Accuracy:  0.728                     | Val Loss:  1.123                     | Val Accuracy:  0.271                     | Top K: 0.49411764705882355                     | Precision:  0.209                     | Recall:  0.233                     | F1-score:  0.199\u001b[0m\n",
      "\u001b[32m2024-04-27 14:50:15.165\u001b[0m | \u001b[32m\u001b[1mSUCCESS \u001b[0m | \u001b[36m__main__\u001b[0m:\u001b[36m<module>\u001b[0m:\u001b[36m99\u001b[0m - \u001b[32m\u001b[1mFound new best model. Saving weights...\u001b[0m\n",
      "Training Steps: 100%|██████████| 89/89 [00:30<00:00,  2.93it/s]\n",
      "Validation Steps: 100%|██████████| 9/9 [00:01<00:00,  7.41it/s]\n",
      "\u001b[32m2024-04-27 14:50:48.368\u001b[0m | \u001b[1mINFO    \u001b[0m | \u001b[36m__main__\u001b[0m:\u001b[36mlog_step\u001b[0m:\u001b[36m34\u001b[0m - \u001b[1mEpochs: 2 | Train Loss:  0.320                     | Train Accuracy:  0.845                     | Val Loss:  1.152                     | Val Accuracy:  0.318                     | Top K: 0.5411764705882353                     | Precision:  0.228                     | Recall:  0.271                     | F1-score:  0.225\u001b[0m\n",
      "Training Steps: 100%|██████████| 89/89 [00:30<00:00,  2.91it/s]\n",
      "Validation Steps: 100%|██████████| 9/9 [00:01<00:00,  7.41it/s]\n",
      "/home/mdafifal.mamun/miniconda3/envs/trx/lib/python3.10/site-packages/sklearn/metrics/_classification.py:1509: UndefinedMetricWarning: Precision is ill-defined and being set to 0.0 in labels with no predicted samples. Use `zero_division` parameter to control this behavior.\n",
      "  _warn_prf(average, modifier, f\"{metric.capitalize()} is\", len(result))\n",
      "\u001b[32m2024-04-27 14:51:20.125\u001b[0m | \u001b[1mINFO    \u001b[0m | \u001b[36m__main__\u001b[0m:\u001b[36mlog_step\u001b[0m:\u001b[36m34\u001b[0m - \u001b[1mEpochs: 3 | Train Loss:  0.216                     | Train Accuracy:  0.923                     | Val Loss:  1.153                     | Val Accuracy:  0.341                     | Top K: 0.611764705882353                     | Precision:  0.308                     | Recall:  0.259                     | F1-score:  0.265\u001b[0m\n",
      "Training Steps: 100%|██████████| 89/89 [00:30<00:00,  2.91it/s]\n",
      "Validation Steps: 100%|██████████| 9/9 [00:01<00:00,  7.40it/s]\n",
      "/home/mdafifal.mamun/miniconda3/envs/trx/lib/python3.10/site-packages/sklearn/metrics/_classification.py:1509: UndefinedMetricWarning: Precision is ill-defined and being set to 0.0 in labels with no predicted samples. Use `zero_division` parameter to control this behavior.\n",
      "  _warn_prf(average, modifier, f\"{metric.capitalize()} is\", len(result))\n",
      "\u001b[32m2024-04-27 14:51:51.893\u001b[0m | \u001b[1mINFO    \u001b[0m | \u001b[36m__main__\u001b[0m:\u001b[36mlog_step\u001b[0m:\u001b[36m34\u001b[0m - \u001b[1mEpochs: 4 | Train Loss:  0.154                     | Train Accuracy:  0.955                     | Val Loss:  1.143                     | Val Accuracy:  0.365                     | Top K: 0.5882352941176471                     | Precision:  0.314                     | Recall:  0.286                     | F1-score:  0.293\u001b[0m\n",
      "Training Steps: 100%|██████████| 89/89 [00:30<00:00,  2.92it/s]\n",
      "Validation Steps: 100%|██████████| 9/9 [00:01<00:00,  7.42it/s]\n",
      "/home/mdafifal.mamun/miniconda3/envs/trx/lib/python3.10/site-packages/sklearn/metrics/_classification.py:1509: UndefinedMetricWarning: Precision is ill-defined and being set to 0.0 in labels with no predicted samples. Use `zero_division` parameter to control this behavior.\n",
      "  _warn_prf(average, modifier, f\"{metric.capitalize()} is\", len(result))\n",
      "\u001b[32m2024-04-27 14:52:23.610\u001b[0m | \u001b[1mINFO    \u001b[0m | \u001b[36m__main__\u001b[0m:\u001b[36mlog_step\u001b[0m:\u001b[36m34\u001b[0m - \u001b[1mEpochs: 5 | Train Loss:  0.097                     | Train Accuracy:  0.984                     | Val Loss:  1.145                     | Val Accuracy:  0.329                     | Top K: 0.6235294117647059                     | Precision:  0.314                     | Recall:  0.247                     | F1-score:  0.250\u001b[0m\n",
      "Training Steps: 100%|██████████| 89/89 [00:30<00:00,  2.92it/s]\n",
      "Validation Steps: 100%|██████████| 9/9 [00:01<00:00,  7.43it/s]\n",
      "/home/mdafifal.mamun/miniconda3/envs/trx/lib/python3.10/site-packages/sklearn/metrics/_classification.py:1509: UndefinedMetricWarning: Precision is ill-defined and being set to 0.0 in labels with no predicted samples. Use `zero_division` parameter to control this behavior.\n",
      "  _warn_prf(average, modifier, f\"{metric.capitalize()} is\", len(result))\n",
      "\u001b[32m2024-04-27 14:52:55.288\u001b[0m | \u001b[1mINFO    \u001b[0m | \u001b[36m__main__\u001b[0m:\u001b[36mlog_step\u001b[0m:\u001b[36m34\u001b[0m - \u001b[1mEpochs: 6 | Train Loss:  0.081                     | Train Accuracy:  0.978                     | Val Loss:  1.156                     | Val Accuracy:  0.365                     | Top K: 0.611764705882353                     | Precision:  0.276                     | Recall:  0.259                     | F1-score:  0.249\u001b[0m\n",
      "Training Steps: 100%|██████████| 89/89 [00:30<00:00,  2.93it/s]\n",
      "Validation Steps: 100%|██████████| 9/9 [00:01<00:00,  7.44it/s]\n",
      "/home/mdafifal.mamun/miniconda3/envs/trx/lib/python3.10/site-packages/sklearn/metrics/_classification.py:1509: UndefinedMetricWarning: Precision is ill-defined and being set to 0.0 in labels with no predicted samples. Use `zero_division` parameter to control this behavior.\n",
      "  _warn_prf(average, modifier, f\"{metric.capitalize()} is\", len(result))\n",
      "\u001b[32m2024-04-27 14:53:26.897\u001b[0m | \u001b[1mINFO    \u001b[0m | \u001b[36m__main__\u001b[0m:\u001b[36mlog_step\u001b[0m:\u001b[36m34\u001b[0m - \u001b[1mEpochs: 7 | Train Loss:  0.076                     | Train Accuracy:  0.988                     | Val Loss:  1.124                     | Val Accuracy:  0.400                     | Top K: 0.6470588235294118                     | Precision:  0.297                     | Recall:  0.309                     | F1-score:  0.288\u001b[0m\n",
      "Training Steps: 100%|██████████| 89/89 [00:30<00:00,  2.93it/s]\n",
      "Validation Steps: 100%|██████████| 9/9 [00:01<00:00,  7.45it/s]\n",
      "/home/mdafifal.mamun/miniconda3/envs/trx/lib/python3.10/site-packages/sklearn/metrics/_classification.py:1509: UndefinedMetricWarning: Precision is ill-defined and being set to 0.0 in labels with no predicted samples. Use `zero_division` parameter to control this behavior.\n",
      "  _warn_prf(average, modifier, f\"{metric.capitalize()} is\", len(result))\n",
      "\u001b[32m2024-04-27 14:53:58.478\u001b[0m | \u001b[1mINFO    \u001b[0m | \u001b[36m__main__\u001b[0m:\u001b[36mlog_step\u001b[0m:\u001b[36m34\u001b[0m - \u001b[1mEpochs: 8 | Train Loss:  0.061                     | Train Accuracy:  0.992                     | Val Loss:  1.148                     | Val Accuracy:  0.365                     | Top K: 0.6823529411764706                     | Precision:  0.271                     | Recall:  0.295                     | F1-score:  0.275\u001b[0m\n",
      "Training Steps:  49%|████▉     | 44/89 [00:15<00:15,  2.91it/s]\n"
     ]
    },
    {
     "ename": "KeyboardInterrupt",
     "evalue": "",
     "output_type": "error",
     "traceback": [
      "\u001b[0;31m---------------------------------------------------------------------------\u001b[0m",
      "\u001b[0;31mKeyboardInterrupt\u001b[0m                         Traceback (most recent call last)",
      "Cell \u001b[0;32mIn[36], line 7\u001b[0m\n\u001b[1;32m      3\u001b[0m total_loss_train \u001b[38;5;241m=\u001b[39m \u001b[38;5;241m0\u001b[39m\n\u001b[1;32m      5\u001b[0m \u001b[38;5;28;01mfor\u001b[39;00m train_input, train_label \u001b[38;5;129;01min\u001b[39;00m tqdm(train_dataloader, desc\u001b[38;5;241m=\u001b[39m\u001b[38;5;124m\"\u001b[39m\u001b[38;5;124mTraining Steps\u001b[39m\u001b[38;5;124m\"\u001b[39m):\n\u001b[1;32m      6\u001b[0m     \u001b[38;5;66;03m# print(train_input)\u001b[39;00m\n\u001b[0;32m----> 7\u001b[0m     train_label \u001b[38;5;241m=\u001b[39m \u001b[43mtrain_label\u001b[49m\u001b[38;5;241;43m.\u001b[39;49m\u001b[43mto\u001b[49m\u001b[43m(\u001b[49m\u001b[43mdevice\u001b[49m\u001b[43m)\u001b[49m\n\u001b[1;32m      8\u001b[0m     mask \u001b[38;5;241m=\u001b[39m train_input[\u001b[38;5;241m1\u001b[39m][\u001b[38;5;124m\"\u001b[39m\u001b[38;5;124mattention_mask\u001b[39m\u001b[38;5;124m\"\u001b[39m]\u001b[38;5;241m.\u001b[39msqueeze(\u001b[38;5;241m1\u001b[39m)\u001b[38;5;241m.\u001b[39mto(device)\n\u001b[1;32m      9\u001b[0m     input_id \u001b[38;5;241m=\u001b[39m train_input[\u001b[38;5;241m1\u001b[39m][\u001b[38;5;124m\"\u001b[39m\u001b[38;5;124minput_ids\u001b[39m\u001b[38;5;124m\"\u001b[39m]\u001b[38;5;241m.\u001b[39msqueeze(\u001b[38;5;241m1\u001b[39m)\u001b[38;5;241m.\u001b[39mto(device)\n",
      "\u001b[0;31mKeyboardInterrupt\u001b[0m: "
     ]
    }
   ],
   "source": [
    "for epoch_num in range(epochs):\n",
    "    total_acc_train = 0\n",
    "    total_loss_train = 0\n",
    "\n",
    "    for train_input, train_label in tqdm(train_dataloader, desc=\"Training Steps\"):\n",
    "        # print(train_input)\n",
    "        train_label = train_label.to(device)\n",
    "        mask = train_input[1][\"attention_mask\"].squeeze(1).to(device)\n",
    "        input_id = train_input[1][\"input_ids\"].squeeze(1).to(device)\n",
    "        tok_type = train_input[1][\"token_type_ids\"].squeeze(1).to(device)\n",
    "        repr = train_input[2].to(device)\n",
    "        # print(tok_type.shape, input_id.shape, mask.shape)\n",
    "        # print(repr.dtype, input_id.dtype, mask.dtype)\n",
    "\n",
    "        output = model(input_id, mask, tok_type, repr)\n",
    "\n",
    "        batch_loss = criterion(output, train_label.long())\n",
    "        total_loss_train += batch_loss.item()\n",
    "\n",
    "        output = torch.sum(torch.stack(output), 0)\n",
    "        acc = (output.argmax(dim=1) == train_label).sum().item()\n",
    "        \n",
    "        total_acc_train += acc\n",
    "\n",
    "        model.zero_grad()\n",
    "        batch_loss.backward()\n",
    "        optimizer.step()\n",
    "\n",
    "    total_acc_val = 0\n",
    "    total_loss_val = 0\n",
    "    correct_top_k = 0\n",
    "\n",
    "    all_preds = []\n",
    "    all_labels = []\n",
    "\n",
    "    with torch.no_grad():\n",
    "\n",
    "        for val_input, val_label in tqdm(val_dataloader, desc=\"Validation Steps\"):\n",
    "            val_label = val_label.to(device)\n",
    "            mask = val_input[1][\"attention_mask\"].squeeze(1).to(device)\n",
    "            input_id = val_input[1][\"input_ids\"].squeeze(1).to(device)\n",
    "            tok_type = val_input[1][\"token_type_ids\"].squeeze(1).to(device)\n",
    "            repr = val_input[2].to(device)\n",
    "\n",
    "            output = model(input_id, mask, tok_type, repr)\n",
    "\n",
    "            batch_loss = criterion(output, val_label.long())\n",
    "            total_loss_val += batch_loss.item()\n",
    "\n",
    "            output = torch.sum(torch.stack(output), 0)\n",
    "            _, top_k_predictions = output.topk(3, 1, True, True)\n",
    "\n",
    "            top_k_predictions = top_k_predictions.t()\n",
    "\n",
    "            correct_top_k += (\n",
    "                top_k_predictions.eq(\n",
    "                    val_label.view(1, -1).expand_as(top_k_predictions)\n",
    "                )\n",
    "                .sum()\n",
    "                .item()\n",
    "            )\n",
    "\n",
    "            acc = (output.argmax(dim=1) == val_label).sum().item()\n",
    "\n",
    "            all_preds.append(output.argmax(dim=1).cpu().numpy())\n",
    "            all_labels.append(val_label.cpu().numpy())\n",
    "\n",
    "            total_acc_val += acc\n",
    "\n",
    "    all_preds = np.concatenate(all_preds)\n",
    "    all_labels = np.concatenate(all_labels)\n",
    "\n",
    "    precision, recall, f1_score, _ = precision_recall_fscore_support(\n",
    "        all_labels, all_preds, average=\"macro\"\n",
    "    )\n",
    "\n",
    "    topk = correct_top_k / len(y_df)\n",
    "\n",
    "    log_step(\n",
    "        epoch_num,\n",
    "        total_acc_train,\n",
    "        total_acc_val,\n",
    "        total_loss_train,\n",
    "        total_loss_val,\n",
    "        precision,\n",
    "        recall,\n",
    "        f1_score,\n",
    "        X_df,\n",
    "        y_df,\n",
    "        topk,\n",
    "    )\n",
    "\n",
    "    val_loss = total_loss_val / len(y_df)\n",
    "\n",
    "    if scheduler:\n",
    "        scheduler.step(val_loss)\n",
    "\n",
    "    if val_loss < best_loss:\n",
    "        logger.success(\"Found new best model. Saving weights...\")\n",
    "        torch.save(model.state_dict(), weights_save_location)\n",
    "        best_loss = val_loss"
   ]
  },
  {
   "cell_type": "code",
   "execution_count": 13,
   "metadata": {},
   "outputs": [
    {
     "name": "stderr",
     "output_type": "stream",
     "text": [
      "/home/mdafifal.mamun/miniconda3/envs/trx/lib/python3.10/site-packages/transformers/utils/generic.py:309: UserWarning: torch.utils._pytree._register_pytree_node is deprecated. Please use torch.utils._pytree.register_pytree_node instead.\n",
      "  _torch_pytree._register_pytree_node(\n",
      "/home/mdafifal.mamun/miniconda3/envs/trx/lib/python3.10/site-packages/transformers/utils/generic.py:309: UserWarning: torch.utils._pytree._register_pytree_node is deprecated. Please use torch.utils._pytree.register_pytree_node instead.\n",
      "  _torch_pytree._register_pytree_node(\n"
     ]
    }
   ],
   "source": [
    "sent_model = SentenceTransformer('all-MiniLM-L12-v2')"
   ]
  },
  {
   "cell_type": "code",
   "execution_count": 14,
   "metadata": {},
   "outputs": [],
   "source": [
    "def concat_embs(data_df):\n",
    "    X_embeddings = []\n",
    "\n",
    "    for text, prob in zip(data_df.text.to_list(), data_df.topic_probs.to_list()):\n",
    "        text = sent_model.encode(text, convert_to_tensor=True).cpu().numpy()\n",
    "        prob = np.fromstring(data_df.head().iloc[0].topic_probs[1:-1], sep=\",\")\n",
    "\n",
    "        embed = np.concatenate((text, prob))\n",
    "        X_embeddings.append(embed)\n",
    "\n",
    "    return X_embeddings"
   ]
  },
  {
   "cell_type": "code",
   "execution_count": 24,
   "metadata": {},
   "outputs": [],
   "source": [
    "X_embeddings = sent_model.encode(X_df.text.to_list(), convert_to_tensor=True).cpu().numpy()"
   ]
  },
  {
   "cell_type": "code",
   "execution_count": 25,
   "metadata": {},
   "outputs": [],
   "source": [
    "y_embeddings = sent_model.encode(y_df.text.to_list(), convert_to_tensor=True).cpu().numpy()"
   ]
  },
  {
   "cell_type": "code",
   "execution_count": 26,
   "metadata": {},
   "outputs": [],
   "source": [
    "from sklearn.linear_model import LogisticRegression\n",
    "from sklearn.neighbors import KNeighborsClassifier \n",
    "from sklearn.metrics import accuracy_score, classification_report"
   ]
  },
  {
   "cell_type": "code",
   "execution_count": 27,
   "metadata": {},
   "outputs": [],
   "source": [
    "def get_top3_score(classifier):\n",
    "    # Make predictions probabilities\n",
    "    probabilities = classifier.predict_proba(y_embeddings)\n",
    "\n",
    "    # Get the top 3 predictions for each sample\n",
    "    top_3_indices = (-probabilities).argsort(axis=1)[:, :3]\n",
    "    top_3_predictions = classifier.classes_[top_3_indices]\n",
    "\n",
    "    # Print or use the top 3 predictions as needed\n",
    "    # print(\"Top 3 Predictions:\")\n",
    "    # for i, preds in enumerate(top_3_predictions):\n",
    "    #     print(f\"Sample {i + 1}: {preds}\")\n",
    "\n",
    "    top_3_indices = (-probabilities).argsort(axis=1)[:, :3]\n",
    "    top_3_predictions = classifier.classes_[top_3_indices]\n",
    "\n",
    "    # Convert true labels to a list of lists\n",
    "    true_labels = [[label] for label in y_df.owner_id.to_list()]\n",
    "\n",
    "    # Convert top 3 predictions to a list of lists\n",
    "    pred_labels = top_3_predictions.tolist()\n",
    "\n",
    "    acc = 0\n",
    "    for pred, true in zip(top_3_predictions, true_labels):\n",
    "        if true in pred:\n",
    "            acc += 1\n",
    "\n",
    "    return acc/len(y_df)"
   ]
  },
  {
   "cell_type": "code",
   "execution_count": 28,
   "metadata": {},
   "outputs": [
    {
     "ename": "NameError",
     "evalue": "name 'y_pred' is not defined",
     "output_type": "error",
     "traceback": [
      "\u001b[0;31m---------------------------------------------------------------------------\u001b[0m",
      "\u001b[0;31mNameError\u001b[0m                                 Traceback (most recent call last)",
      "Cell \u001b[0;32mIn[28], line 1\u001b[0m\n\u001b[0;32m----> 1\u001b[0m accuracy \u001b[38;5;241m=\u001b[39m accuracy_score(y_df\u001b[38;5;241m.\u001b[39mowner_id\u001b[38;5;241m.\u001b[39mto_list(), \u001b[43my_pred\u001b[49m)\n\u001b[1;32m      2\u001b[0m \u001b[38;5;28mprint\u001b[39m(\u001b[38;5;124m\"\u001b[39m\u001b[38;5;124mAccuracy:\u001b[39m\u001b[38;5;124m\"\u001b[39m, accuracy)\n\u001b[1;32m      3\u001b[0m \u001b[38;5;28mprint\u001b[39m(\u001b[38;5;124m\"\u001b[39m\u001b[38;5;124mClassification Report:\u001b[39m\u001b[38;5;124m\"\u001b[39m)\n",
      "\u001b[0;31mNameError\u001b[0m: name 'y_pred' is not defined"
     ]
    }
   ],
   "source": [
    "accuracy = accuracy_score(y_df.owner_id.to_list(), y_pred)\n",
    "print(\"Accuracy:\", accuracy)\n",
    "print(\"Classification Report:\")\n",
    "print(classification_report(y_df.owner_id.to_list(), y_pred))"
   ]
  },
  {
   "cell_type": "code",
   "execution_count": 38,
   "metadata": {},
   "outputs": [
    {
     "name": "stdout",
     "output_type": "stream",
     "text": [
      "Logistic Regression Accuracy: 0.6666666666666666\n",
      "              precision    recall  f1-score   support\n",
      "\n",
      "           2       0.00      0.00      0.00         1\n",
      "           4       0.67      1.00      0.80         2\n",
      "\n",
      "    accuracy                           0.67         3\n",
      "   macro avg       0.33      0.50      0.40         3\n",
      "weighted avg       0.44      0.67      0.53         3\n",
      "\n",
      "Logistic Regression Cross-Validation Mean Accuracy: 0.48 +/- 0.039999999999999994\n",
      "Top 3 score: 1.0\n"
     ]
    },
    {
     "name": "stderr",
     "output_type": "stream",
     "text": [
      "/home/mdafifal.mamun/miniconda3/envs/trx/lib/python3.10/site-packages/sklearn/metrics/_classification.py:1509: UndefinedMetricWarning: Precision is ill-defined and being set to 0.0 in labels with no predicted samples. Use `zero_division` parameter to control this behavior.\n",
      "  _warn_prf(average, modifier, f\"{metric.capitalize()} is\", len(result))\n",
      "/home/mdafifal.mamun/miniconda3/envs/trx/lib/python3.10/site-packages/sklearn/metrics/_classification.py:1509: UndefinedMetricWarning: Precision is ill-defined and being set to 0.0 in labels with no predicted samples. Use `zero_division` parameter to control this behavior.\n",
      "  _warn_prf(average, modifier, f\"{metric.capitalize()} is\", len(result))\n",
      "/home/mdafifal.mamun/miniconda3/envs/trx/lib/python3.10/site-packages/sklearn/metrics/_classification.py:1509: UndefinedMetricWarning: Precision is ill-defined and being set to 0.0 in labels with no predicted samples. Use `zero_division` parameter to control this behavior.\n",
      "  _warn_prf(average, modifier, f\"{metric.capitalize()} is\", len(result))\n",
      "/home/mdafifal.mamun/miniconda3/envs/trx/lib/python3.10/site-packages/sklearn/model_selection/_split.py:737: UserWarning: The least populated class in y has only 1 members, which is less than n_splits=5.\n",
      "  warnings.warn(\n"
     ]
    }
   ],
   "source": [
    "from sklearn.model_selection import train_test_split, cross_val_score\n",
    "from sklearn.linear_model import LogisticRegression\n",
    "from sklearn.tree import DecisionTreeClassifier\n",
    "from sklearn.ensemble import RandomForestClassifier\n",
    "from sklearn.svm import SVC\n",
    "from sklearn.neighbors import KNeighborsClassifier\n",
    "from sklearn.metrics import accuracy_score, classification_report\n",
    "from imblearn.over_sampling import SMOTE\n",
    "\n",
    "\n",
    "# Define models\n",
    "models = {\n",
    "    'Logistic Regression': LogisticRegression(),\n",
    "    # 'Decision Tree': DecisionTreeClassifier(),\n",
    "    # 'Random Forest': RandomForestClassifier(),\n",
    "    # 'SVM': SVC(),\n",
    "    # 'k-NN': KNeighborsClassifier()\n",
    "}\n",
    "\n",
    "smote = SMOTE(random_state=42, k_neighbors=1)\n",
    "\n",
    "X_train = X_embeddings\n",
    "y_train = X_df.owner_id.to_list()\n",
    "\n",
    "# X_train, y_train = smote.fit_resample(X_train, y_train)\n",
    "\n",
    "X_test = y_embeddings\n",
    "y_test = y_df.owner_id.to_list()\n",
    "\n",
    "# Train and evaluate each model\n",
    "for name, model in models.items():\n",
    "    # Train model\n",
    "    model.fit(X_train, y_train)\n",
    "    \n",
    "    # Evaluate model\n",
    "    y_pred = model.predict(X_test)\n",
    "    accuracy = accuracy_score(y_test, y_pred)\n",
    "    print(f\"{name} Accuracy: {accuracy}\")\n",
    "    \n",
    "    # Additional evaluation\n",
    "    print(classification_report(y_test, y_pred))\n",
    "    \n",
    "    # Cross-validation\n",
    "    cv_scores = cross_val_score(model, X_train, y_train, cv=5)\n",
    "    print(f\"{name} Cross-Validation Mean Accuracy: {cv_scores.mean()} +/- {cv_scores.std()}\")\n",
    "    print(f\"Top 3 score: {get_top3_score(model)}\")\n",
    "\n",
    "# Perform hyperparameter tuning and further evaluation as needed\n"
   ]
  },
  {
   "cell_type": "code",
   "execution_count": 34,
   "metadata": {},
   "outputs": [
    {
     "name": "stdout",
     "output_type": "stream",
     "text": [
      "Logistic Regression F1-score: 0.4\n",
      "Decision Tree F1-score: 1.0\n",
      "Random Forest F1-score: 0.4\n",
      "k-NN F1-score: 0.6666666666666666\n",
      "Best Model: Decision Tree\n",
      "Best F1-score: 1.0\n"
     ]
    }
   ],
   "source": [
    "smote = SMOTE(random_state=42, k_neighbors=2)\n",
    "\n",
    "X_train = X_embeddings\n",
    "y_train = X_df.owner_id.to_list()\n",
    "\n",
    "# X_train, y_train = smote.fit_resample(X_train, y_train)\n",
    "\n",
    "X_test = y_embeddings\n",
    "y_test = y_df.owner_id.to_list()\n",
    "\n",
    "from sklearn.model_selection import train_test_split, cross_val_score\n",
    "from sklearn.linear_model import LogisticRegression\n",
    "from sklearn.tree import DecisionTreeClassifier\n",
    "from sklearn.ensemble import RandomForestClassifier\n",
    "from sklearn.svm import SVC\n",
    "from sklearn.neighbors import KNeighborsClassifier\n",
    "from sklearn.metrics import f1_score, classification_report\n",
    "\n",
    "# Assuming X_train, X_test, y_train, y_test are your training and testing data\n",
    "# Split data into training and testing sets\n",
    "# X_train, X_test, y_train, y_test = train_test_split(X, y, test_size=0.2, random_state=42)\n",
    "\n",
    "# Define models\n",
    "models = {\n",
    "    'Logistic Regression': LogisticRegression(),\n",
    "    'Decision Tree': DecisionTreeClassifier(),\n",
    "    'Random Forest': RandomForestClassifier(),\n",
    "    # 'SVM': SVC(),\n",
    "    'k-NN': KNeighborsClassifier()\n",
    "}\n",
    "\n",
    "# Dictionary to store model F1-scores\n",
    "model_f1_scores = {}\n",
    "\n",
    "# Train and evaluate each model\n",
    "for name, model in models.items():\n",
    "    # Train model\n",
    "    model.fit(X_train, y_train)\n",
    "    \n",
    "    # Evaluate model\n",
    "    y_pred = model.predict(X_test)\n",
    "    f1 = f1_score(y_test, y_pred, average=\"macro\")\n",
    "    model_f1_scores[name] = f1\n",
    "    \n",
    "    print(f\"{name} F1-score: {f1}\")\n",
    "\n",
    "# Find the best model\n",
    "best_model = max(model_f1_scores, key=model_f1_scores.get)\n",
    "best_f1_score = model_f1_scores[best_model]\n",
    "\n",
    "print(f\"Best Model: {best_model}\")\n",
    "print(f\"Best F1-score: {best_f1_score}\")\n"
   ]
  },
  {
   "cell_type": "markdown",
   "metadata": {},
   "source": [
    "# Evaluation"
   ]
  },
  {
   "cell_type": "code",
   "execution_count": null,
   "metadata": {},
   "outputs": [
    {
     "data": {
      "text/plain": [
       "<All keys matched successfully>"
      ]
     },
     "execution_count": 38,
     "metadata": {},
     "output_type": "execute_result"
    }
   ],
   "source": [
    "# Load best checkpoint\n",
    "model.load_state_dict(torch.load(weights_save_location))"
   ]
  },
  {
   "cell_type": "code",
   "execution_count": null,
   "metadata": {},
   "outputs": [],
   "source": [
    "loader = DataLoader(val, 30)"
   ]
  },
  {
   "cell_type": "code",
   "execution_count": null,
   "metadata": {},
   "outputs": [
    {
     "name": "stderr",
     "output_type": "stream",
     "text": [
      "/home/mdafifal.mamun/miniconda3/envs/trx/lib/python3.10/site-packages/transformers/utils/generic.py:309: UserWarning: torch.utils._pytree._register_pytree_node is deprecated. Please use torch.utils._pytree.register_pytree_node instead.\n",
      "  _torch_pytree._register_pytree_node(\n"
     ]
    }
   ],
   "source": [
    "# Load embeddings for all train data\n",
    "similarity_model = SentenceTransformer('all-MiniLM-L6-v2')\n",
    "all_embeddings = similarity_model.encode(X_df.issue_title.to_list(), batch_size=15)"
   ]
  },
  {
   "cell_type": "code",
   "execution_count": null,
   "metadata": {},
   "outputs": [],
   "source": [
    "def get_top_k_similar_devs(issues, k=5, threshold=0.7):\n",
    "    test_embed = similarity_model.encode(issues)\n",
    "    cos = util.cos_sim(test_embed, all_embeddings)\n",
    "    topk_values, topk_indices = torch.topk(cos, k=k)\n",
    "    \n",
    "    similarities = []\n",
    "    \n",
    "    for idx, sim_score in zip(topk_indices, topk_values):\n",
    "        sim_threshold = sim_score >= threshold\n",
    "        filtered_idx = idx[sim_threshold].numpy()\n",
    "        similarities.append(X_df.iloc[filtered_idx][\"owner_id\"].unique().tolist())\n",
    "\n",
    "    return similarities"
   ]
  },
  {
   "cell_type": "code",
   "execution_count": null,
   "metadata": {},
   "outputs": [],
   "source": [
    "total_acc_val = 0\n",
    "total_loss_val = 0\n",
    "correct_top_k = 0\n",
    "correct_top_k_wo_sim = 0\n",
    "\n",
    "all_preds = []\n",
    "all_labels = []\n",
    "device=\"cuda\"\n",
    "\n",
    "model = model.cuda()\n",
    "\n",
    "with torch.no_grad():\n",
    "\n",
    "    for val_input, val_label in loader:\n",
    "        val_label = val_label.to(device)\n",
    "        mask = val_input[1][\"attention_mask\"].squeeze(1).to(device)\n",
    "        input_id = val_input[1][\"input_ids\"].squeeze(1).to(device)\n",
    "        tok_type = val_input[1][\"token_type_ids\"].squeeze(1).to(device)\n",
    "        repr = val_input[2].to(device)\n",
    "\n",
    "        output = model(input_id, mask, tok_type, repr)\n",
    "\n",
    "\n",
    "\n",
    "        output = torch.sum(torch.stack(output), 0)\n",
    "\n",
    "        #wo similarity\n",
    "        _, top_k_wo_sim = output.topk(10, 1, True, True)\n",
    "\n",
    "        top_k_wo_sim = top_k_wo_sim.t()\n",
    "\n",
    "        correct_top_k_wo_sim += (\n",
    "            top_k_wo_sim.eq(\n",
    "                val_label.view(1, -1).expand_as(top_k_wo_sim)\n",
    "            )\n",
    "            .sum()\n",
    "            .item()\n",
    "        )\n",
    "\n",
    "\n",
    "        # with similarity\n",
    "        _, top_k_predictions = output.topk(10, 1, True, True)\n",
    "        similar_preds = get_top_k_similar_devs(val_input[0], threshold=0.65)\n",
    "\n",
    "        unique_preds = []\n",
    "\n",
    "        for top, sim in zip(top_k_predictions, similar_preds):\n",
    "            # print(top, sim)\n",
    "            \n",
    "            copy_pred = top.cpu().numpy().tolist()\n",
    "            top_preds = top.cpu().numpy().tolist()[:5]\n",
    "\n",
    "            for s in sim:\n",
    "                if s not in top_preds:\n",
    "                    top_preds.append(s)\n",
    "            \n",
    "            if len(top_preds) < 10:\n",
    "                top_preds = top_preds + copy_pred[5:5 + 10 - len(top_preds)]\n",
    "            \n",
    "            unique_preds.append(top_preds)\n",
    "\n",
    "        unique_preds = torch.tensor(unique_preds).cuda()\n",
    "        top_k_predictions = unique_preds.t()\n",
    "\n",
    "        correct_top_k += (\n",
    "            top_k_predictions.eq(\n",
    "                val_label.view(1, -1).expand_as(top_k_predictions)\n",
    "            )\n",
    "            .sum()\n",
    "            .item()\n",
    "        )\n",
    "\n",
    "        # break\n",
    "\n",
    "        acc = (output.argmax(dim=1) == val_label).sum().item()\n",
    "\n",
    "        all_preds.append(output.argmax(dim=1).cpu().numpy())\n",
    "        all_labels.append(val_label.cpu().numpy())\n",
    "\n",
    "        total_acc_val += acc"
   ]
  },
  {
   "cell_type": "code",
   "execution_count": null,
   "metadata": {},
   "outputs": [
    {
     "name": "stdout",
     "output_type": "stream",
     "text": [
      "Correct Prediction without Similarity: 174, 0.925531914893617\n",
      "Correct Prediction with Similarity: 173, 0.9202127659574468\n"
     ]
    }
   ],
   "source": [
    "print(f\"Correct Prediction without Similarity: {correct_top_k_wo_sim}, {correct_top_k_wo_sim / len(y_df)}\")\n",
    "print(f\"Correct Prediction with Similarity: {correct_top_k}, {correct_top_k / len(y_df)}\")"
   ]
  },
  {
   "cell_type": "code",
   "execution_count": null,
   "metadata": {},
   "outputs": [],
   "source": [
    "all_preds_np = np.concatenate(all_preds)\n",
    "all_labels_np = np.concatenate(all_labels)"
   ]
  },
  {
   "cell_type": "markdown",
   "metadata": {},
   "source": [
    "# Result Analysis"
   ]
  },
  {
   "cell_type": "code",
   "execution_count": null,
   "metadata": {},
   "outputs": [
    {
     "ename": "ValueError",
     "evalue": "Number of classes, 15, does not match size of target_names, 1843. Try specifying the labels parameter",
     "output_type": "error",
     "traceback": [
      "\u001b[0;31m---------------------------------------------------------------------------\u001b[0m",
      "\u001b[0;31mValueError\u001b[0m                                Traceback (most recent call last)",
      "Cell \u001b[0;32mIn[45], line 1\u001b[0m\n\u001b[0;32m----> 1\u001b[0m \u001b[38;5;28mprint\u001b[39m(\u001b[43mclassification_report\u001b[49m\u001b[43m(\u001b[49m\u001b[43mall_labels_np\u001b[49m\u001b[43m,\u001b[49m\u001b[43m \u001b[49m\u001b[43mall_preds_np\u001b[49m\u001b[43m,\u001b[49m\u001b[43m \u001b[49m\u001b[43mtarget_names\u001b[49m\u001b[38;5;241;43m=\u001b[39;49m\u001b[43mlabels\u001b[49m\u001b[43m)\u001b[49m)\n",
      "File \u001b[0;32m~/miniconda3/envs/trx/lib/python3.10/site-packages/sklearn/utils/_param_validation.py:213\u001b[0m, in \u001b[0;36mvalidate_params.<locals>.decorator.<locals>.wrapper\u001b[0;34m(*args, **kwargs)\u001b[0m\n\u001b[1;32m    207\u001b[0m \u001b[38;5;28;01mtry\u001b[39;00m:\n\u001b[1;32m    208\u001b[0m     \u001b[38;5;28;01mwith\u001b[39;00m config_context(\n\u001b[1;32m    209\u001b[0m         skip_parameter_validation\u001b[38;5;241m=\u001b[39m(\n\u001b[1;32m    210\u001b[0m             prefer_skip_nested_validation \u001b[38;5;129;01mor\u001b[39;00m global_skip_validation\n\u001b[1;32m    211\u001b[0m         )\n\u001b[1;32m    212\u001b[0m     ):\n\u001b[0;32m--> 213\u001b[0m         \u001b[38;5;28;01mreturn\u001b[39;00m \u001b[43mfunc\u001b[49m\u001b[43m(\u001b[49m\u001b[38;5;241;43m*\u001b[39;49m\u001b[43margs\u001b[49m\u001b[43m,\u001b[49m\u001b[43m \u001b[49m\u001b[38;5;241;43m*\u001b[39;49m\u001b[38;5;241;43m*\u001b[39;49m\u001b[43mkwargs\u001b[49m\u001b[43m)\u001b[49m\n\u001b[1;32m    214\u001b[0m \u001b[38;5;28;01mexcept\u001b[39;00m InvalidParameterError \u001b[38;5;28;01mas\u001b[39;00m e:\n\u001b[1;32m    215\u001b[0m     \u001b[38;5;66;03m# When the function is just a wrapper around an estimator, we allow\u001b[39;00m\n\u001b[1;32m    216\u001b[0m     \u001b[38;5;66;03m# the function to delegate validation to the estimator, but we replace\u001b[39;00m\n\u001b[1;32m    217\u001b[0m     \u001b[38;5;66;03m# the name of the estimator by the name of the function in the error\u001b[39;00m\n\u001b[1;32m    218\u001b[0m     \u001b[38;5;66;03m# message to avoid confusion.\u001b[39;00m\n\u001b[1;32m    219\u001b[0m     msg \u001b[38;5;241m=\u001b[39m re\u001b[38;5;241m.\u001b[39msub(\n\u001b[1;32m    220\u001b[0m         \u001b[38;5;124mr\u001b[39m\u001b[38;5;124m\"\u001b[39m\u001b[38;5;124mparameter of \u001b[39m\u001b[38;5;124m\\\u001b[39m\u001b[38;5;124mw+ must be\u001b[39m\u001b[38;5;124m\"\u001b[39m,\n\u001b[1;32m    221\u001b[0m         \u001b[38;5;124mf\u001b[39m\u001b[38;5;124m\"\u001b[39m\u001b[38;5;124mparameter of \u001b[39m\u001b[38;5;132;01m{\u001b[39;00mfunc\u001b[38;5;241m.\u001b[39m\u001b[38;5;18m__qualname__\u001b[39m\u001b[38;5;132;01m}\u001b[39;00m\u001b[38;5;124m must be\u001b[39m\u001b[38;5;124m\"\u001b[39m,\n\u001b[1;32m    222\u001b[0m         \u001b[38;5;28mstr\u001b[39m(e),\n\u001b[1;32m    223\u001b[0m     )\n",
      "File \u001b[0;32m~/miniconda3/envs/trx/lib/python3.10/site-packages/sklearn/metrics/_classification.py:2626\u001b[0m, in \u001b[0;36mclassification_report\u001b[0;34m(y_true, y_pred, labels, target_names, sample_weight, digits, output_dict, zero_division)\u001b[0m\n\u001b[1;32m   2620\u001b[0m         warnings\u001b[38;5;241m.\u001b[39mwarn(\n\u001b[1;32m   2621\u001b[0m             \u001b[38;5;124m\"\u001b[39m\u001b[38;5;124mlabels size, \u001b[39m\u001b[38;5;132;01m{0}\u001b[39;00m\u001b[38;5;124m, does not match size of target_names, \u001b[39m\u001b[38;5;132;01m{1}\u001b[39;00m\u001b[38;5;124m\"\u001b[39m\u001b[38;5;241m.\u001b[39mformat(\n\u001b[1;32m   2622\u001b[0m                 \u001b[38;5;28mlen\u001b[39m(labels), \u001b[38;5;28mlen\u001b[39m(target_names)\n\u001b[1;32m   2623\u001b[0m             )\n\u001b[1;32m   2624\u001b[0m         )\n\u001b[1;32m   2625\u001b[0m     \u001b[38;5;28;01melse\u001b[39;00m:\n\u001b[0;32m-> 2626\u001b[0m         \u001b[38;5;28;01mraise\u001b[39;00m \u001b[38;5;167;01mValueError\u001b[39;00m(\n\u001b[1;32m   2627\u001b[0m             \u001b[38;5;124m\"\u001b[39m\u001b[38;5;124mNumber of classes, \u001b[39m\u001b[38;5;132;01m{0}\u001b[39;00m\u001b[38;5;124m, does not match size of \u001b[39m\u001b[38;5;124m\"\u001b[39m\n\u001b[1;32m   2628\u001b[0m             \u001b[38;5;124m\"\u001b[39m\u001b[38;5;124mtarget_names, \u001b[39m\u001b[38;5;132;01m{1}\u001b[39;00m\u001b[38;5;124m. Try specifying the labels \u001b[39m\u001b[38;5;124m\"\u001b[39m\n\u001b[1;32m   2629\u001b[0m             \u001b[38;5;124m\"\u001b[39m\u001b[38;5;124mparameter\u001b[39m\u001b[38;5;124m\"\u001b[39m\u001b[38;5;241m.\u001b[39mformat(\u001b[38;5;28mlen\u001b[39m(labels), \u001b[38;5;28mlen\u001b[39m(target_names))\n\u001b[1;32m   2630\u001b[0m         )\n\u001b[1;32m   2631\u001b[0m \u001b[38;5;28;01mif\u001b[39;00m target_names \u001b[38;5;129;01mis\u001b[39;00m \u001b[38;5;28;01mNone\u001b[39;00m:\n\u001b[1;32m   2632\u001b[0m     target_names \u001b[38;5;241m=\u001b[39m [\u001b[38;5;124m\"\u001b[39m\u001b[38;5;132;01m%s\u001b[39;00m\u001b[38;5;124m\"\u001b[39m \u001b[38;5;241m%\u001b[39m l \u001b[38;5;28;01mfor\u001b[39;00m l \u001b[38;5;129;01min\u001b[39;00m labels]\n",
      "\u001b[0;31mValueError\u001b[0m: Number of classes, 15, does not match size of target_names, 1843. Try specifying the labels parameter"
     ]
    }
   ],
   "source": [
    "print(classification_report(all_labels_np, all_preds_np, target_names=labels))"
   ]
  },
  {
   "cell_type": "code",
   "execution_count": null,
   "metadata": {},
   "outputs": [],
   "source": [
    "idx2label = {\n",
    "    row[\"owner_id\"]: row[\"owner\"]\n",
    "    for _, row in y_df.iterrows()\n",
    "}\n",
    "\n",
    "labels = y_df.owner_id.to_list()\n",
    "labels = sorted(set(labels))\n",
    "labels = [f\"{idx}: {idx2label[idx]}\" for idx in labels]"
   ]
  },
  {
   "cell_type": "code",
   "execution_count": null,
   "metadata": {},
   "outputs": [],
   "source": [
    "def get_topic_distribution(owner):\n",
    "    print(\"Training topic distribution\")\n",
    "    print(\"=======================================\")\n",
    "    print(X_df[X_df.owner == owner].topic_label.value_counts())\n",
    "\n",
    "    print(\"\\n\\nTesting topic distribution\")\n",
    "    print(\"=======================================\")\n",
    "    print(y_df[y_df.owner == owner].topic_label.value_counts())"
   ]
  },
  {
   "cell_type": "code",
   "execution_count": null,
   "metadata": {},
   "outputs": [
    {
     "data": {
      "text/plain": [
       "Chrome Tab and Window Behavior Issues     947\n",
       "Build failures                            840\n",
       "Chrome stability issues                   487\n",
       "Layout Testing Issues                     400\n",
       "Chrome crash reports                      391\n",
       "Security and SSL issues                   372\n",
       "Input and keyboard issues                 370\n",
       "Webpage rendering regression issues       357\n",
       "Chrome sync issues                        354\n",
       "Shill WiFi configuration                  337\n",
       "iOS File Issues                           321\n",
       "Data Enhancement                          298\n",
       "Touch and Scroll Issues                   273\n",
       "DevTools Crashes                          260\n",
       "GPU rendering issues                      235\n",
       "Memory Leaks in WebCore and Blink         220\n",
       "Performance testing issues in Chromium    197\n",
       "WebRTC audio/video issues                 184\n",
       "Bookmark issues                           174\n",
       "Performance Regression in Blink            13\n",
       "Name: topic_label, dtype: int64"
      ]
     },
     "execution_count": 39,
     "metadata": {},
     "output_type": "execute_result"
    }
   ],
   "source": [
    "X_df.topic_label.value_counts()"
   ]
  },
  {
   "cell_type": "code",
   "execution_count": null,
   "metadata": {},
   "outputs": [
    {
     "name": "stdout",
     "output_type": "stream",
     "text": [
      "Training topic distribution\n",
      "=======================================\n",
      "Chrome Tab and Window Behavior Issues     10\n",
      "Webpage rendering regression issues        5\n",
      "Memory Leaks in WebCore and Blink          4\n",
      "Chrome stability issues                    4\n",
      "DevTools Crashes                           3\n",
      "Data Enhancement                           3\n",
      "Input and keyboard issues                  3\n",
      "Touch and Scroll Issues                    2\n",
      "Bookmark issues                            1\n",
      "Security and SSL issues                    1\n",
      "Chrome sync issues                         1\n",
      "Layout Testing Issues                      1\n",
      "Build failures                             1\n",
      "iOS File Issues                            1\n",
      "Performance testing issues in Chromium     1\n",
      "Name: topic_label, dtype: int64\n",
      "\n",
      "\n",
      "Testing topic distribution\n",
      "=======================================\n",
      "Chrome Tab and Window Behavior Issues     17\n",
      "Webpage rendering regression issues        7\n",
      "DevTools Crashes                           6\n",
      "iOS File Issues                            6\n",
      "Touch and Scroll Issues                    4\n",
      "Input and keyboard issues                  4\n",
      "Data Enhancement                           4\n",
      "Chrome crash reports                       4\n",
      "Chrome stability issues                    3\n",
      "Memory Leaks in WebCore and Blink          2\n",
      "Chrome sync issues                         2\n",
      "Bookmark issues                            1\n",
      "Performance testing issues in Chromium     1\n",
      "Name: topic_label, dtype: int64\n"
     ]
    }
   ],
   "source": [
    "get_topic_distribution(\"a...@chromium.org\")"
   ]
  },
  {
   "cell_type": "code",
   "execution_count": null,
   "metadata": {},
   "outputs": [],
   "source": []
  }
 ],
 "metadata": {
  "kernelspec": {
   "display_name": "Python 3 (ipykernel)",
   "language": "python",
   "name": "python3"
  }
 },
 "nbformat": 4,
 "nbformat_minor": 2
}
