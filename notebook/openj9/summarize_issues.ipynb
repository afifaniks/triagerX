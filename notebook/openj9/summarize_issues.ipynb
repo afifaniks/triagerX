{
 "cells": [
  {
   "cell_type": "code",
   "execution_count": 1,
   "metadata": {},
   "outputs": [
    {
     "name": "stderr",
     "output_type": "stream",
     "text": [
      "/home/mdafifal.mamun/miniconda3/envs/trx/lib/python3.10/site-packages/transformers/utils/generic.py:441: UserWarning: torch.utils._pytree._register_pytree_node is deprecated. Please use torch.utils._pytree.register_pytree_node instead.\n",
      "  _torch_pytree._register_pytree_node(\n"
     ]
    }
   ],
   "source": [
    "from tqdm import tqdm\n",
    "from transformers import AutoModelForCausalLM, AutoTokenizer\n",
    "import pandas as pd"
   ]
  },
  {
   "cell_type": "code",
   "execution_count": 2,
   "metadata": {},
   "outputs": [
    {
     "name": "stderr",
     "output_type": "stream",
     "text": [
      "/home/mdafifal.mamun/miniconda3/envs/trx/lib/python3.10/site-packages/transformers/utils/generic.py:309: UserWarning: torch.utils._pytree._register_pytree_node is deprecated. Please use torch.utils._pytree.register_pytree_node instead.\n",
      "  _torch_pytree._register_pytree_node(\n",
      "/home/mdafifal.mamun/miniconda3/envs/trx/lib/python3.10/site-packages/transformers/utils/generic.py:309: UserWarning: torch.utils._pytree._register_pytree_node is deprecated. Please use torch.utils._pytree.register_pytree_node instead.\n",
      "  _torch_pytree._register_pytree_node(\n"
     ]
    },
    {
     "data": {
      "application/vnd.jupyter.widget-view+json": {
       "model_id": "feffc72fc27642b5b17b160af96af2c8",
       "version_major": 2,
       "version_minor": 0
      },
      "text/plain": [
       "Loading checkpoint shards:   0%|          | 0/4 [00:00<?, ?it/s]"
      ]
     },
     "metadata": {},
     "output_type": "display_data"
    },
    {
     "name": "stderr",
     "output_type": "stream",
     "text": [
      "Special tokens have been added in the vocabulary, make sure the associated word embeddings are fine-tuned or trained.\n"
     ]
    }
   ],
   "source": [
    "import transformers\n",
    "import torch\n",
    "\n",
    "model_id = \"meta-llama/Meta-Llama-3-8B-Instruct\"\n",
    "\n",
    "pipeline = transformers.pipeline(\n",
    "    \"text-generation\",\n",
    "    model=model_id,\n",
    "    model_kwargs={\"torch_dtype\": torch.bfloat16},\n",
    "    device_map=\"auto\",\n",
    ")"
   ]
  },
  {
   "cell_type": "code",
   "execution_count": 22,
   "metadata": {},
   "outputs": [],
   "source": [
    "df = pd.read_csv(\"/home/mdafifal.mamun/notebooks/triagerX/notebook/data/openj9/component_training/df_train.csv\")"
   ]
  },
  {
   "cell_type": "code",
   "execution_count": 23,
   "metadata": {},
   "outputs": [],
   "source": [
    "df = df.iloc[100:105]"
   ]
  },
  {
   "cell_type": "code",
   "execution_count": 24,
   "metadata": {},
   "outputs": [],
   "source": [
    "def get_summary(text):\n",
    "    messages = [\n",
    "    {\"role\": \"system\", \"content\": \"You are a bug report summarizer. \" \\\n",
    "     \"Given a bug description that includes logs, stacktraces, your job is to summarize the bug in natural language for better understanding.\" \\\n",
    "     \"During summarization avoid using special characters. Include as much crucial information as possible related to the bug.\"},\n",
    "    {\"role\": \"user\", \"content\": \"Sumamrize the bug report:\\n\" + text},\n",
    "]\n",
    "\n",
    "    prompt = pipeline.tokenizer.apply_chat_template(\n",
    "            messages, \n",
    "            tokenize=False, \n",
    "            add_generation_prompt=True\n",
    "    )\n",
    "\n",
    "    terminators = [\n",
    "        pipeline.tokenizer.eos_token_id,\n",
    "        pipeline.tokenizer.convert_tokens_to_ids(\"<|eot_id|>\")\n",
    "    ]\n",
    "\n",
    "    outputs = pipeline(\n",
    "        prompt,\n",
    "        max_new_tokens=512,\n",
    "        eos_token_id=terminators,\n",
    "        do_sample=True,\n",
    "        temperature=0.5,\n",
    "        top_p=0.9,\n",
    "    )\n",
    "    \n",
    "    return outputs[0][\"generated_text\"][len(prompt):]\n"
   ]
  },
  {
   "cell_type": "code",
   "execution_count": 25,
   "metadata": {},
   "outputs": [
    {
     "name": "stderr",
     "output_type": "stream",
     "text": [
      "Processing issue...:   0%|          | 0/5 [00:00<?, ?it/s]Setting `pad_token_id` to `eos_token_id`:128001 for open-end generation.\n",
      "Processing issue...:  20%|██        | 1/5 [00:02<00:08,  2.12s/it]Setting `pad_token_id` to `eos_token_id`:128001 for open-end generation.\n",
      "Processing issue...:  40%|████      | 2/5 [00:05<00:09,  3.14s/it]Setting `pad_token_id` to `eos_token_id`:128001 for open-end generation.\n",
      "Processing issue...:  60%|██████    | 3/5 [00:08<00:05,  2.93s/it]Setting `pad_token_id` to `eos_token_id`:128001 for open-end generation.\n",
      "Processing issue...:  80%|████████  | 4/5 [00:12<00:03,  3.10s/it]Setting `pad_token_id` to `eos_token_id`:128001 for open-end generation.\n",
      "Processing issue...: 100%|██████████| 5/5 [00:16<00:00,  3.20s/it]\n"
     ]
    }
   ],
   "source": [
    "summaries = []\n",
    "\n",
    "for _, row in tqdm(df.iterrows(), total=len(df), desc=\"Processing issue...\"):\n",
    "    text = f\"Bug Title: {row.issue_title}\\nBug Description: {row.description}\"\n",
    "    sumamry = get_summary(text)\n",
    "    sumamry = sumamry.replace(\"\\n\\n\", \"\\n\")\n",
    "    summaries.append(sumamry)\n",
    "\n",
    "\n",
    "df[\"summary\"] = summaries\n",
    "df.to_csv(\"/home/mdafifal.mamun/notebooks/triagerX/notebook/data/openj9/component_training/df_train_summarized.csv\")"
   ]
  },
  {
   "cell_type": "code",
   "execution_count": 26,
   "metadata": {},
   "outputs": [],
   "source": [
    "df_out = pd.read_csv(\"/home/mdafifal.mamun/notebooks/triagerX/notebook/data/openj9/component_training/df_train_summarized.csv\")"
   ]
  },
  {
   "cell_type": "code",
   "execution_count": 27,
   "metadata": {},
   "outputs": [
    {
     "data": {
      "text/html": [
       "<div>\n",
       "<style scoped>\n",
       "    .dataframe tbody tr th:only-of-type {\n",
       "        vertical-align: middle;\n",
       "    }\n",
       "\n",
       "    .dataframe tbody tr th {\n",
       "        vertical-align: top;\n",
       "    }\n",
       "\n",
       "    .dataframe thead th {\n",
       "        text-align: right;\n",
       "    }\n",
       "</style>\n",
       "<table border=\"1\" class=\"dataframe\">\n",
       "  <thead>\n",
       "    <tr style=\"text-align: right;\">\n",
       "      <th></th>\n",
       "      <th>Unnamed: 0.1</th>\n",
       "      <th>Unnamed: 0</th>\n",
       "      <th>issue_number</th>\n",
       "      <th>issue_title</th>\n",
       "      <th>description</th>\n",
       "      <th>issue_url</th>\n",
       "      <th>issue_state</th>\n",
       "      <th>creator</th>\n",
       "      <th>labels</th>\n",
       "      <th>owner</th>\n",
       "      <th>component</th>\n",
       "      <th>text</th>\n",
       "      <th>summary</th>\n",
       "    </tr>\n",
       "  </thead>\n",
       "  <tbody>\n",
       "    <tr>\n",
       "      <th>0</th>\n",
       "      <td>100</td>\n",
       "      <td>1512</td>\n",
       "      <td>4208</td>\n",
       "      <td>Dockerfile for JDK11 installs gcc 7.4 by default</td>\n",
       "      <td>https://github.com/eclipse/openj9/blob/master/...</td>\n",
       "      <td>https://github.com/eclipse-openj9/openj9/issue...</td>\n",
       "      <td>closed</td>\n",
       "      <td>AdamBrousseau</td>\n",
       "      <td>comp:build</td>\n",
       "      <td>babsingh</td>\n",
       "      <td>comp:build</td>\n",
       "      <td>Title: Dockerfile for JDK11 installs gcc 7.4 b...</td>\n",
       "      <td>Here is a summarized version of the bug report...</td>\n",
       "    </tr>\n",
       "    <tr>\n",
       "      <th>1</th>\n",
       "      <td>101</td>\n",
       "      <td>7233</td>\n",
       "      <td>17910</td>\n",
       "      <td>OpenJDK java/lang/runtime/ReferencedKeyTest ja...</td>\n",
       "      <td>https://openj9-jenkins.osuosl.org/job/Test_ope...</td>\n",
       "      <td>https://github.com/eclipse-openj9/openj9/issue...</td>\n",
       "      <td>closed</td>\n",
       "      <td>pshipton</td>\n",
       "      <td>comp:test, test failure</td>\n",
       "      <td>tajila</td>\n",
       "      <td>comp:test</td>\n",
       "      <td>Title: OpenJDK java/lang/runtime/ReferencedKey...</td>\n",
       "      <td>Here is a summary of the bug report in natural...</td>\n",
       "    </tr>\n",
       "    <tr>\n",
       "      <th>2</th>\n",
       "      <td>102</td>\n",
       "      <td>4640</td>\n",
       "      <td>12293</td>\n",
       "      <td>Add SCC option to log `verboseX` output to a file</td>\n",
       "      <td>Java -version output\\r\\n--------------------\\r...</td>\n",
       "      <td>https://github.com/eclipse-openj9/openj9/issue...</td>\n",
       "      <td>open</td>\n",
       "      <td>DanHeidinga</td>\n",
       "      <td>enhancement, comp:vm, userRaised</td>\n",
       "      <td>NaN</td>\n",
       "      <td>comp:vm</td>\n",
       "      <td>Title: Add SCC option to log `verboseX` output...</td>\n",
       "      <td>Here is a summarized version of the bug report...</td>\n",
       "    </tr>\n",
       "    <tr>\n",
       "      <th>3</th>\n",
       "      <td>103</td>\n",
       "      <td>2156</td>\n",
       "      <td>6284</td>\n",
       "      <td>Enable software CS testing on Power</td>\n",
       "      <td>I just noticed from [1] we have `^arch.ppc` sp...</td>\n",
       "      <td>https://github.com/eclipse-openj9/openj9/issue...</td>\n",
       "      <td>closed</td>\n",
       "      <td>fjeremic</td>\n",
       "      <td>comp:test, arch:power, bits:64</td>\n",
       "      <td>gita-omr</td>\n",
       "      <td>comp:test</td>\n",
       "      <td>Title: Enable software CS testing on Power\\nDe...</td>\n",
       "      <td>Here is a summarized version of the bug report...</td>\n",
       "    </tr>\n",
       "    <tr>\n",
       "      <th>4</th>\n",
       "      <td>104</td>\n",
       "      <td>4867</td>\n",
       "      <td>12784</td>\n",
       "      <td>Shared class cache name and number of connecte...</td>\n",
       "      <td>Requirement for the current JVM's resolved sha...</td>\n",
       "      <td>https://github.com/eclipse-openj9/openj9/issue...</td>\n",
       "      <td>closed</td>\n",
       "      <td>gvnmlln</td>\n",
       "      <td>enhancement, comp:vm, userRaised</td>\n",
       "      <td>pshipton</td>\n",
       "      <td>comp:vm</td>\n",
       "      <td>Title: Shared class cache name and number of c...</td>\n",
       "      <td>Here is a summarized version of the bug report...</td>\n",
       "    </tr>\n",
       "  </tbody>\n",
       "</table>\n",
       "</div>"
      ],
      "text/plain": [
       "   Unnamed: 0.1  Unnamed: 0  issue_number  \\\n",
       "0           100        1512          4208   \n",
       "1           101        7233         17910   \n",
       "2           102        4640         12293   \n",
       "3           103        2156          6284   \n",
       "4           104        4867         12784   \n",
       "\n",
       "                                         issue_title  \\\n",
       "0   Dockerfile for JDK11 installs gcc 7.4 by default   \n",
       "1  OpenJDK java/lang/runtime/ReferencedKeyTest ja...   \n",
       "2  Add SCC option to log `verboseX` output to a file   \n",
       "3                Enable software CS testing on Power   \n",
       "4  Shared class cache name and number of connecte...   \n",
       "\n",
       "                                         description  \\\n",
       "0  https://github.com/eclipse/openj9/blob/master/...   \n",
       "1  https://openj9-jenkins.osuosl.org/job/Test_ope...   \n",
       "2  Java -version output\\r\\n--------------------\\r...   \n",
       "3  I just noticed from [1] we have `^arch.ppc` sp...   \n",
       "4  Requirement for the current JVM's resolved sha...   \n",
       "\n",
       "                                           issue_url issue_state  \\\n",
       "0  https://github.com/eclipse-openj9/openj9/issue...      closed   \n",
       "1  https://github.com/eclipse-openj9/openj9/issue...      closed   \n",
       "2  https://github.com/eclipse-openj9/openj9/issue...        open   \n",
       "3  https://github.com/eclipse-openj9/openj9/issue...      closed   \n",
       "4  https://github.com/eclipse-openj9/openj9/issue...      closed   \n",
       "\n",
       "         creator                            labels     owner   component  \\\n",
       "0  AdamBrousseau                        comp:build  babsingh  comp:build   \n",
       "1       pshipton           comp:test, test failure    tajila   comp:test   \n",
       "2    DanHeidinga  enhancement, comp:vm, userRaised       NaN     comp:vm   \n",
       "3       fjeremic    comp:test, arch:power, bits:64  gita-omr   comp:test   \n",
       "4        gvnmlln  enhancement, comp:vm, userRaised  pshipton     comp:vm   \n",
       "\n",
       "                                                text  \\\n",
       "0  Title: Dockerfile for JDK11 installs gcc 7.4 b...   \n",
       "1  Title: OpenJDK java/lang/runtime/ReferencedKey...   \n",
       "2  Title: Add SCC option to log `verboseX` output...   \n",
       "3  Title: Enable software CS testing on Power\\nDe...   \n",
       "4  Title: Shared class cache name and number of c...   \n",
       "\n",
       "                                             summary  \n",
       "0  Here is a summarized version of the bug report...  \n",
       "1  Here is a summary of the bug report in natural...  \n",
       "2  Here is a summarized version of the bug report...  \n",
       "3  Here is a summarized version of the bug report...  \n",
       "4  Here is a summarized version of the bug report...  "
      ]
     },
     "execution_count": 27,
     "metadata": {},
     "output_type": "execute_result"
    }
   ],
   "source": [
    "df_out"
   ]
  },
  {
   "cell_type": "code",
   "execution_count": 37,
   "metadata": {},
   "outputs": [
    {
     "name": "stdout",
     "output_type": "stream",
     "text": [
      "Here is a summarized version of the bug report in natural language:\n",
      "The bug report requests that the name of the current JVM's resolved shared class cache and the number of connected users be made available through APIs. Currently, the resolved shared class cache name is not accessible through the openJ9 SharedClass APIs or the MemoryMXBean, but only the unresolved name can be obtained through the Java system API. The resolved cache name is important because CICS cannot resolve the symbols specified in the cache name. Additionally, the number of users connected to the shared class cache is already available from the openJ9 java core, but it is not accessible through the SharedClass APIs. This limitation prevents CICS from capturing this information and reporting it in its statistics report.\n"
     ]
    }
   ],
   "source": [
    "print(df.iloc[4].summary)"
   ]
  },
  {
   "cell_type": "code",
   "execution_count": 38,
   "metadata": {},
   "outputs": [
    {
     "name": "stdout",
     "output_type": "stream",
     "text": [
      "Requirement for the current JVM's resolved shared class cache name and number of connected users to be added to the MemoryMXBean and SharedClass APIs (com.ibm.oti.shared.SharedClassStatistics and  com.ibm.oti.shared.SharedClassUtilities) so this information can be recorded in CICS JVM server statistics reports.\n",
      "\n",
      "The resolved shared class cache name is not available today in the openJ9 SharedClass APIs or the MemoryMXBean. Only the unresolved shared class cache name is obtainable through the Java system API, via the -Xshareclasses:name=<> JVM option. The resolved cache name is valuable as CICS is unable to resolve the symbols that can be specified in the cache name. \n",
      "\n",
      "The number of users connected to the SCC is already available from the openJ9 java core, but it is not available from the SharedClass APIs. This limits CICS from capturing this information and reporting it in its statistics report. This information is valuable as it allows customers to confirm if the class cache is being shared by other JVMs, which would prevent the cache from being deleted until the connected JVMs are stopped.\n"
     ]
    }
   ],
   "source": [
    "print(df.iloc[4].description)"
   ]
  },
  {
   "cell_type": "code",
   "execution_count": 39,
   "metadata": {},
   "outputs": [
    {
     "name": "stdout",
     "output_type": "stream",
     "text": [
      "Shared class cache name and number of connected users not available through APIs\n"
     ]
    }
   ],
   "source": [
    "print(df.iloc[4].issue_title)"
   ]
  },
  {
   "cell_type": "code",
   "execution_count": null,
   "metadata": {},
   "outputs": [],
   "source": []
  }
 ],
 "metadata": {
  "kernelspec": {
   "display_name": "Python 3 (ipykernel)",
   "language": "python",
   "name": "python3"
  },
  "language_info": {
   "codemirror_mode": {
    "name": "ipython",
    "version": 3
   },
   "file_extension": ".py",
   "mimetype": "text/x-python",
   "name": "python",
   "nbconvert_exporter": "python",
   "pygments_lexer": "ipython3",
   "version": "3.10.13"
  }
 },
 "nbformat": 4,
 "nbformat_minor": 2
}
