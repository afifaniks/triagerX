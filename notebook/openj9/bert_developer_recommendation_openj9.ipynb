{
  "cells": [
    {
      "cell_type": "code",
      "execution_count": 1,
      "metadata": {
        "id": "T1l6Qxgmljqz"
      },
      "outputs": [],
      "source": [
        "import numpy as np\n",
        "import pandas as pd\n",
        "import torch\n",
        "import torch.nn as nn\n",
        "import torch.nn.functional as F\n",
        "import wandb\n",
        "from torch.optim import Adam\n",
        "from tqdm import tqdm\n",
        "from dotenv import load_dotenv\n",
        "\n",
        "from transformers import RobertaModel, RobertaTokenizer"
      ]
    },
    {
      "cell_type": "code",
      "execution_count": 2,
      "metadata": {},
      "outputs": [
        {
          "data": {
            "text/plain": [
              "True"
            ]
          },
          "execution_count": 2,
          "metadata": {},
          "output_type": "execute_result"
        }
      ],
      "source": [
        "load_dotenv()"
      ]
    },
    {
      "cell_type": "code",
      "execution_count": 3,
      "metadata": {},
      "outputs": [
        {
          "name": "stderr",
          "output_type": "stream",
          "text": [
            "\u001b[34m\u001b[1mwandb\u001b[0m: Currently logged in as: \u001b[33mafifaniks\u001b[0m. Use \u001b[1m`wandb login --relogin`\u001b[0m to force relogin\n"
          ]
        },
        {
          "data": {
            "text/plain": [
              "True"
            ]
          },
          "execution_count": 3,
          "metadata": {},
          "output_type": "execute_result"
        }
      ],
      "source": [
        "wandb.login()"
      ]
    },
    {
      "cell_type": "code",
      "execution_count": 4,
      "metadata": {
        "id": "Gkfnr4vWljq0"
      },
      "outputs": [],
      "source": [
        "def load_dataframe(path: str) -> pd.DataFrame:\n",
        "    return pd.read_csv(path)"
      ]
    },
    {
      "cell_type": "code",
      "execution_count": 5,
      "metadata": {
        "id": "ejgz_3v_ljq1"
      },
      "outputs": [],
      "source": [
        "def clean_data(df):\n",
        "    df['text'] = df['text'].str.replace('http[s]?://(?:[a-zA-Z]|[0-9]|[$-_@.&+]|[!*\\(\\),]|(?:%[0-9a-fA-F][0-9a-fA-F]))+', ' ')\n",
        "    df[\"text\"] = df['text'].str.replace(\" +\", \" \", regex=True)\n",
        "\n",
        "    return df\n",
        "    \n",
        "def prepare_dataframe(df: pd.DataFrame, minimum_contribution = 0) -> pd.DataFrame:\n",
        "    developers = df[\"assignees\"].value_counts()\n",
        "    filtered_developers = developers.index[developers >= minimum_contribution]\n",
        "    df = df[df[\"assignees\"].isin(filtered_developers)]\n",
        "\n",
        "    df[\"text\"] = df.apply(lambda x: str(x[\"issue_title\"]) + \"\\n\" + str(x[\"issue_body\"]), axis=1)\n",
        "    df[\"owner_id\"] = pd.factorize(df[\"assignees\"])[0]\n",
        "\n",
        "    min_length = 15\n",
        "    df = df[df[\"text\"].str.len().gt(min_length)]\n",
        "\n",
        "    return df"
      ]
    },
    {
      "cell_type": "code",
      "execution_count": 6,
      "metadata": {},
      "outputs": [],
      "source": [
        "data_path = \"/home/mdafifal.mamun/notebooks/triagerX/notebook/data/openj9_issues_cleaned.csv\"\n",
        "\n",
        "df = load_dataframe(data_path)\n",
        "df = prepare_dataframe(df)\n",
        "df = clean_data(df)"
      ]
    },
    {
      "cell_type": "code",
      "execution_count": 7,
      "metadata": {},
      "outputs": [
        {
          "data": {
            "text/plain": [
              "assignees\n",
              "DanHeidinga      798\n",
              "mpirvu           695\n",
              "0xdaryl          537\n",
              "pshipton         503\n",
              "fjeremic         477\n",
              "keithc-ca        403\n",
              "knn-k            188\n",
              "dsouzai          153\n",
              "andrewcraik      146\n",
              "JasonFengJ9      143\n",
              "gacholio         138\n",
              "dmitripivkine    131\n",
              "babsingh          69\n",
              "vijaysun-omr      61\n",
              "hzongaro          61\n",
              "ymanton           53\n",
              "gita-omr          47\n",
              "ChengJin01        45\n",
              "fengxue-IS        44\n",
              "jdmpapin          42\n",
              "tajila            42\n",
              "amicic            41\n",
              "charliegracie     40\n",
              "joransiu          34\n",
              "llxia             34\n",
              "a7ehuo            33\n",
              "Name: count, dtype: int64"
            ]
          },
          "execution_count": 7,
          "metadata": {},
          "output_type": "execute_result"
        }
      ],
      "source": [
        "df[\"assignees\"].value_counts()"
      ]
    },
    {
      "cell_type": "code",
      "execution_count": 8,
      "metadata": {},
      "outputs": [
        {
          "data": {
            "text/html": [
              "<div>\n",
              "<style scoped>\n",
              "    .dataframe tbody tr th:only-of-type {\n",
              "        vertical-align: middle;\n",
              "    }\n",
              "\n",
              "    .dataframe tbody tr th {\n",
              "        vertical-align: top;\n",
              "    }\n",
              "\n",
              "    .dataframe thead th {\n",
              "        text-align: right;\n",
              "    }\n",
              "</style>\n",
              "<table border=\"1\" class=\"dataframe\">\n",
              "  <thead>\n",
              "    <tr style=\"text-align: right;\">\n",
              "      <th></th>\n",
              "      <th>Unnamed: 0</th>\n",
              "      <th>issue_number</th>\n",
              "      <th>issue_url</th>\n",
              "      <th>issue_title</th>\n",
              "      <th>issue_body</th>\n",
              "      <th>issue_state</th>\n",
              "      <th>creator</th>\n",
              "      <th>comments</th>\n",
              "      <th>assignees</th>\n",
              "      <th>text</th>\n",
              "      <th>owner_id</th>\n",
              "    </tr>\n",
              "  </thead>\n",
              "  <tbody>\n",
              "    <tr>\n",
              "      <th>0</th>\n",
              "      <td>0</td>\n",
              "      <td>10</td>\n",
              "      <td>https://github.com/eclipse-openj9/openj9/pull/10</td>\n",
              "      <td>Update README.md with proper AdoptOpenJDK link</td>\n",
              "      <td>Also remove the the coming soon reference, sin...</td>\n",
              "      <td>closed</td>\n",
              "      <td>pshipton</td>\n",
              "      <td>NaN</td>\n",
              "      <td>charliegracie</td>\n",
              "      <td>Update README.md with proper AdoptOpenJDK link...</td>\n",
              "      <td>0</td>\n",
              "    </tr>\n",
              "    <tr>\n",
              "      <th>1</th>\n",
              "      <td>1</td>\n",
              "      <td>15</td>\n",
              "      <td>https://github.com/eclipse-openj9/openj9/pull/15</td>\n",
              "      <td>Refactor and clean up CodeCacheManager</td>\n",
              "      <td>- Change invocation parameters of superclass c...</td>\n",
              "      <td>closed</td>\n",
              "      <td>lmaisons</td>\n",
              "      <td>&lt;comment&gt;&lt;user&gt;lmaisons&lt;/user&gt;&lt;body&gt;This has a...</td>\n",
              "      <td>0xdaryl</td>\n",
              "      <td>Refactor and clean up CodeCacheManager\\n- Chan...</td>\n",
              "      <td>1</td>\n",
              "    </tr>\n",
              "    <tr>\n",
              "      <th>2</th>\n",
              "      <td>2</td>\n",
              "      <td>17</td>\n",
              "      <td>https://github.com/eclipse-openj9/openj9/pull/17</td>\n",
              "      <td>WIP Add support for function pointers in Panama</td>\n",
              "      <td>When invoking a native function (with Panama) ...</td>\n",
              "      <td>closed</td>\n",
              "      <td>tajila</td>\n",
              "      <td>&lt;comment&gt;&lt;user&gt;tajila&lt;/user&gt;&lt;body&gt;Thanks for t...</td>\n",
              "      <td>DanHeidinga</td>\n",
              "      <td>WIP Add support for function pointers in Panam...</td>\n",
              "      <td>2</td>\n",
              "    </tr>\n",
              "    <tr>\n",
              "      <th>3</th>\n",
              "      <td>3</td>\n",
              "      <td>22</td>\n",
              "      <td>https://github.com/eclipse-openj9/openj9/pull/22</td>\n",
              "      <td>fix illegal-access behaviour</td>\n",
              "      <td>fix illegal-access behaviour\\r\\n\\r\\nThis is th...</td>\n",
              "      <td>closed</td>\n",
              "      <td>tajila</td>\n",
              "      <td>&lt;comment&gt;&lt;user&gt;DanHeidinga&lt;/user&gt;&lt;body&gt;@tajila...</td>\n",
              "      <td>DanHeidinga</td>\n",
              "      <td>fix illegal-access behaviour\\nfix illegal-acce...</td>\n",
              "      <td>2</td>\n",
              "    </tr>\n",
              "    <tr>\n",
              "      <th>4</th>\n",
              "      <td>4</td>\n",
              "      <td>24</td>\n",
              "      <td>https://github.com/eclipse-openj9/openj9/issue...</td>\n",
              "      <td>Enable a travis.ci-based PR build for linux x8...</td>\n",
              "      <td>Build a basic PR build based off the linux_x86...</td>\n",
              "      <td>closed</td>\n",
              "      <td>DanHeidinga</td>\n",
              "      <td>&lt;comment&gt;&lt;user&gt;mgaudet&lt;/user&gt;&lt;body&gt;This has be...</td>\n",
              "      <td>DanHeidinga</td>\n",
              "      <td>Enable a travis.ci-based PR build for linux x8...</td>\n",
              "      <td>2</td>\n",
              "    </tr>\n",
              "  </tbody>\n",
              "</table>\n",
              "</div>"
            ],
            "text/plain": [
              "   Unnamed: 0  issue_number  \\\n",
              "0           0            10   \n",
              "1           1            15   \n",
              "2           2            17   \n",
              "3           3            22   \n",
              "4           4            24   \n",
              "\n",
              "                                           issue_url  \\\n",
              "0   https://github.com/eclipse-openj9/openj9/pull/10   \n",
              "1   https://github.com/eclipse-openj9/openj9/pull/15   \n",
              "2   https://github.com/eclipse-openj9/openj9/pull/17   \n",
              "3   https://github.com/eclipse-openj9/openj9/pull/22   \n",
              "4  https://github.com/eclipse-openj9/openj9/issue...   \n",
              "\n",
              "                                         issue_title  \\\n",
              "0     Update README.md with proper AdoptOpenJDK link   \n",
              "1             Refactor and clean up CodeCacheManager   \n",
              "2    WIP Add support for function pointers in Panama   \n",
              "3                       fix illegal-access behaviour   \n",
              "4  Enable a travis.ci-based PR build for linux x8...   \n",
              "\n",
              "                                          issue_body issue_state      creator  \\\n",
              "0  Also remove the the coming soon reference, sin...      closed     pshipton   \n",
              "1  - Change invocation parameters of superclass c...      closed     lmaisons   \n",
              "2  When invoking a native function (with Panama) ...      closed       tajila   \n",
              "3  fix illegal-access behaviour\\r\\n\\r\\nThis is th...      closed       tajila   \n",
              "4  Build a basic PR build based off the linux_x86...      closed  DanHeidinga   \n",
              "\n",
              "                                            comments      assignees  \\\n",
              "0                                                NaN  charliegracie   \n",
              "1  <comment><user>lmaisons</user><body>This has a...        0xdaryl   \n",
              "2  <comment><user>tajila</user><body>Thanks for t...    DanHeidinga   \n",
              "3  <comment><user>DanHeidinga</user><body>@tajila...    DanHeidinga   \n",
              "4  <comment><user>mgaudet</user><body>This has be...    DanHeidinga   \n",
              "\n",
              "                                                text  owner_id  \n",
              "0  Update README.md with proper AdoptOpenJDK link...         0  \n",
              "1  Refactor and clean up CodeCacheManager\\n- Chan...         1  \n",
              "2  WIP Add support for function pointers in Panam...         2  \n",
              "3  fix illegal-access behaviour\\nfix illegal-acce...         2  \n",
              "4  Enable a travis.ci-based PR build for linux x8...         2  "
            ]
          },
          "execution_count": 8,
          "metadata": {},
          "output_type": "execute_result"
        }
      ],
      "source": [
        "df.head()"
      ]
    },
    {
      "cell_type": "code",
      "execution_count": 9,
      "metadata": {
        "colab": {
          "base_uri": "https://localhost:8080/"
        },
        "id": "g7qCf2hQljq1",
        "outputId": "4dbc3210-087a-4703-b0a5-6f9328da9bc7"
      },
      "outputs": [
        {
          "name": "stdout",
          "output_type": "stream",
          "text": [
            "4958\n"
          ]
        }
      ],
      "source": [
        "print(len(df))"
      ]
    },
    {
      "cell_type": "code",
      "execution_count": 10,
      "metadata": {
        "colab": {
          "base_uri": "https://localhost:8080/",
          "height": 423
        },
        "id": "brKE-wY2ljq2",
        "outputId": "392d0662-1aa1-4a06-da60-70d3a3139666"
      },
      "outputs": [
        {
          "data": {
            "text/plain": [
              "<Axes: ylabel='count'>"
            ]
          },
          "execution_count": 10,
          "metadata": {},
          "output_type": "execute_result"
        },
        {
          "data": {
            "image/png": "[encoded data removed]",
            "text/plain": [
              "<Figure size 640x480 with 1 Axes>"
            ]
          },
          "metadata": {},
          "output_type": "display_data"
        }
      ],
      "source": [
        "df[\"assignees\"].value_counts().plot(kind=\"pie\")"
      ]
    },
    {
      "cell_type": "code",
      "execution_count": 11,
      "metadata": {
        "colab": {
          "base_uri": "https://localhost:8080/"
        },
        "id": "OMHP35ORljq2",
        "outputId": "39cdc362-052d-4374-87ec-45893e3517bd"
      },
      "outputs": [
        {
          "name": "stdout",
          "output_type": "stream",
          "text": [
            "3966 496 496\n"
          ]
        },
        {
          "name": "stderr",
          "output_type": "stream",
          "text": [
            "/home/mdafifal.mamun/miniconda3/envs/triagerx/lib/python3.10/site-packages/numpy/core/fromnumeric.py:59: FutureWarning: 'DataFrame.swapaxes' is deprecated and will be removed in a future version. Please use 'DataFrame.transpose' instead.\n",
            "  return bound(*args, **kwds)\n"
          ]
        }
      ],
      "source": [
        "np.random.seed(112)\n",
        "df_train, df_val, df_test = np.split(df.sample(frac=1, random_state=22),\n",
        "                                     [int(.8*len(df)), int(.9*len(df))])\n",
        "\n",
        "print(len(df_train),len(df_val), len(df_test))"
      ]
    },
    {
      "cell_type": "code",
      "execution_count": 12,
      "metadata": {
        "colab": {
          "base_uri": "https://localhost:8080/"
        },
        "id": "HzXSL5pRljq2",
        "outputId": "4807bdbf-44ee-413a-e8b8-de0df5f079e4"
      },
      "outputs": [
        {
          "data": {
            "text/plain": [
              "assignees\n",
              "DanHeidinga      798\n",
              "mpirvu           695\n",
              "0xdaryl          537\n",
              "pshipton         503\n",
              "fjeremic         477\n",
              "keithc-ca        403\n",
              "knn-k            188\n",
              "dsouzai          153\n",
              "andrewcraik      146\n",
              "JasonFengJ9      143\n",
              "gacholio         138\n",
              "dmitripivkine    131\n",
              "babsingh          69\n",
              "vijaysun-omr      61\n",
              "hzongaro          61\n",
              "ymanton           53\n",
              "gita-omr          47\n",
              "ChengJin01        45\n",
              "fengxue-IS        44\n",
              "jdmpapin          42\n",
              "tajila            42\n",
              "amicic            41\n",
              "charliegracie     40\n",
              "joransiu          34\n",
              "llxia             34\n",
              "a7ehuo            33\n",
              "Name: count, dtype: int64"
            ]
          },
          "execution_count": 12,
          "metadata": {},
          "output_type": "execute_result"
        }
      ],
      "source": [
        "df[\"assignees\"].value_counts()"
      ]
    },
    {
      "cell_type": "code",
      "execution_count": 13,
      "metadata": {
        "id": "R-LMku-lljq2"
      },
      "outputs": [],
      "source": [
        "class Dataset(torch.utils.data.Dataset):\n",
        "    def __init__(self, df, tokenizer):\n",
        "        self.tokenizer = tokenizer\n",
        "        self.labels = [label for label in df['owner_id']]\n",
        "        self.texts = [self.tokenizer(text,\n",
        "                               padding='max_length', max_length = 512, truncation=True,\n",
        "                                return_tensors=\"pt\") for text in df['text']]\n",
        "\n",
        "    def classes(self):\n",
        "        return self.labels\n",
        "\n",
        "    def __len__(self):\n",
        "        return len(self.labels)\n",
        "\n",
        "    def get_batch_labels(self, idx):\n",
        "        # Fetch a batch of labels\n",
        "        return np.array(self.labels[idx])\n",
        "\n",
        "    def get_batch_texts(self, idx):\n",
        "        # Fetch a batch of inputs\n",
        "        return self.texts[idx]\n",
        "\n",
        "    def __getitem__(self, idx):\n",
        "\n",
        "        batch_texts = self.get_batch_texts(idx)\n",
        "        batch_y = self.get_batch_labels(idx)\n",
        "\n",
        "        return batch_texts, batch_y"
      ]
    },
    {
      "cell_type": "code",
      "execution_count": 14,
      "metadata": {},
      "outputs": [],
      "source": [
        "class LBTLikeClassifier(nn.Module):\n",
        "    def __init__(self, model_name: str, output_size, num_filters=256, bert_layers=4, embed_size=768, dropout = 0.1) -> None:\n",
        "        super().__init__()\n",
        "        self.base_model = RobertaModel.from_pretrained(model_name, output_hidden_states=True)\n",
        "        filter_sizes = [3, 4, 5, 6]\n",
        "        self.num_filters = num_filters\n",
        "        self.bert_layers = bert_layers\n",
        "        self.convs1 = nn.ModuleList([nn.Conv2d(self.bert_layers, num_filters, (K, embed_size)) for K in filter_sizes])\n",
        "        self.dropout = nn.Dropout(dropout)\n",
        "        self.fc1 = nn.Linear(len(filter_sizes)*num_filters + embed_size, output_size)\n",
        "        self.relu = nn.ReLU()\n",
        "\n",
        "    def forward(self, input_ids, attention_mask):\n",
        "        x = self.base_model(input_ids, attention_mask = attention_mask)\n",
        "        hidden_states = x[\"hidden_states\"][-self.bert_layers:]\n",
        "        pooler_output = x[\"pooler_output\"]\n",
        "        x = torch.stack(hidden_states, dim=1)\n",
        "        x = [F.relu(conv(x)).squeeze(3) for conv in self.convs1]\n",
        "        x = [F.max_pool1d(i, i.size(2)).squeeze(2) for i in x]\n",
        "        x = torch.cat(x, 1)\n",
        "        x = torch.cat([pooler_output, x], 1)\n",
        "        x = self.dropout(x)\n",
        "        logit = self.fc1(x)\n",
        "\n",
        "        return self.relu(x)\n"
      ]
    },
    {
      "cell_type": "code",
      "execution_count": 15,
      "metadata": {
        "id": "-SRJ7jLKljq2"
      },
      "outputs": [],
      "source": [
        "class Classifier(nn.Module):\n",
        "    def __init__(self, model_name: str, output_size, embed_size=1024, dropout = 0.1) -> None:\n",
        "        super().__init__()\n",
        "        self.base_model = RobertaModel.from_pretrained(model_name, output_hidden_states=True)\n",
        "        filter_sizes = [3, 4, 5, 6]\n",
        "        num_filters = 256\n",
        "        self._tokenizer = RobertaTokenizer.from_pretrained(model_name)\n",
        "        self.convs1 = nn.ModuleList([nn.Conv2d(4, num_filters, (K, embed_size)) for K in filter_sizes])\n",
        "        self.dropout = nn.Dropout(dropout)\n",
        "        self.fc1 = nn.Linear(len(filter_sizes)*num_filters, output_size)\n",
        "        self.relu = nn.ReLU()\n",
        "\n",
        "    def forward(self, input_ids, attention_mask):\n",
        "        x = self.base_model(input_ids, attention_mask = attention_mask)[2][-4:]\n",
        "        x = torch.stack(x, dim=1)\n",
        "        x = [F.relu(conv(x)).squeeze(3) for conv in self.convs1] \n",
        "        x = [F.max_pool1d(i, i.size(2)).squeeze(2) for i in x]  \n",
        "        x = torch.cat(x, 1)\n",
        "        x = self.dropout(x)\n",
        "        logit = self.fc1(x)  \n",
        "\n",
        "        return self.relu(logit)\n",
        "    \n",
        "    def tokenizer(self) -> RobertaTokenizer:\n",
        "        return self._tokenizer\n"
      ]
    },
    {
      "cell_type": "code",
      "execution_count": 16,
      "metadata": {
        "colab": {
          "base_uri": "https://localhost:8080/",
          "height": 185,
          "referenced_widgets": [
            "de0cfd344b124ecb824236fb275fe2f5",
            "adc2784c4ac7413ba5580e0b33708a12",
            "24a58ef6fe6a4109915369a6eeae3338",
            "b681fdca75014187b2f71654962eebf5",
            "4bf9ba6922914a73b82fd21046a8cd65",
            "79451d94e83a49dea269d48542856f06",
            "4d043728724f4c8a90fa341d59c90284",
            "c868ad3e4aee4eb0a57823eea21b4eb9",
            "1fc017f70c03466bb4e69d3104fa560b",
            "884aca7e1ed74e43aa58a0a99b98d479",
            "83af8edcf7ea41229e7f1a4ef7360a4a",
            "5ea83e9f34224e089408b07f904f3710",
            "24a34163989e4c49be2db4f119cc0611",
            "c5d931fa523c4d6f94dc4c4d4476c03f",
            "98960af25a4d4aa09f527a3615fa195e",
            "36413e7c0a664892afe561f5ab605e57",
            "d2af56977bc4409cb46bfe881fec89b6",
            "5359199b61a74a3f84a4c6aafb30f8fa",
            "e21a3b6417d441ea82f962901a44aee1",
            "f434480e98974cefa060e84d126a5f71",
            "1cb615aadcf54929905b51caeb5a2128",
            "23f4a8aa21e3455b9c7d57734980fd00",
            "34ee3dcd7f50419c96bcec4063709dff",
            "587f407537e94a6aa0049639e8bb05ad",
            "4b60ac7be2cd4199adf98633f0663ad2",
            "655f618162da476ea2f4eed237134dd9",
            "f6efe5bff81e4afca469690f27ac21bb",
            "1abba754403e467d88397adbefba5f39",
            "76771682b1d64e9c8e6cf6104066435c",
            "d26a4496e2f94cd78af2da75c1092266",
            "c425bf5440d24001a7fe0de35873bb17",
            "f82540c948ae4d369e9498fea3b38f00",
            "34879c980641445ab7354fcc75210306"
          ]
        },
        "id": "DHZjW9JuofD2",
        "outputId": "9faff1fd-87a1-4da7-cabc-7998f01f4017"
      },
      "outputs": [
        {
          "name": "stderr",
          "output_type": "stream",
          "text": [
            "Some weights of RobertaModel were not initialized from the model checkpoint at roberta-base and are newly initialized: ['roberta.pooler.dense.bias', 'roberta.pooler.dense.weight']\n",
            "You should probably TRAIN this model on a down-stream task to be able to use it for predictions and inference.\n"
          ]
        },
        {
          "data": {
            "text/html": [
              "Tracking run with wandb version 0.16.2"
            ],
            "text/plain": [
              "<IPython.core.display.HTML object>"
            ]
          },
          "metadata": {},
          "output_type": "display_data"
        },
        {
          "data": {
            "text/html": [
              "Run data is saved locally in <code>/home/mdafifal.mamun/notebooks/triagerX/wandb/run-20240110_211345-e59hvs1h</code>"
            ],
            "text/plain": [
              "<IPython.core.display.HTML object>"
            ]
          },
          "metadata": {},
          "output_type": "display_data"
        },
        {
          "data": {
            "text/html": [
              "Syncing run <strong><a href='https://wandb.ai/afifaniks/triager_x/runs/e59hvs1h' target=\"_blank\">experiment_base</a></strong> to <a href='https://wandb.ai/afifaniks/triager_x' target=\"_blank\">Weights & Biases</a> (<a href='https://wandb.me/run' target=\"_blank\">docs</a>)<br/>"
            ],
            "text/plain": [
              "<IPython.core.display.HTML object>"
            ]
          },
          "metadata": {},
          "output_type": "display_data"
        },
        {
          "data": {
            "text/html": [
              " View project at <a href='https://wandb.ai/afifaniks/triager_x' target=\"_blank\">https://wandb.ai/afifaniks/triager_x</a>"
            ],
            "text/plain": [
              "<IPython.core.display.HTML object>"
            ]
          },
          "metadata": {},
          "output_type": "display_data"
        },
        {
          "data": {
            "text/html": [
              " View run at <a href='https://wandb.ai/afifaniks/triager_x/runs/e59hvs1h' target=\"_blank\">https://wandb.ai/afifaniks/triager_x/runs/e59hvs1h</a>"
            ],
            "text/plain": [
              "<IPython.core.display.HTML object>"
            ]
          },
          "metadata": {},
          "output_type": "display_data"
        },
        {
          "name": "stdout",
          "output_type": "stream",
          "text": [
            "Using CUDA...\n",
            "Epoch: 0\n"
          ]
        },
        {
          "name": "stderr",
          "output_type": "stream",
          "text": [
            "100%|██████████| 265/265 [01:40<00:00,  2.64it/s]\n"
          ]
        },
        {
          "name": "stdout",
          "output_type": "stream",
          "text": [
            "Epochs: 1 | Train Loss:  0.205                 | Train Accuracy:  0.159                 | Val Loss:  0.187                 | Val Accuracy:  0.268\n",
            "Found new best model. Saving weights...\n",
            "Epoch: 1\n"
          ]
        },
        {
          "name": "stderr",
          "output_type": "stream",
          "text": [
            "100%|██████████| 265/265 [01:40<00:00,  2.64it/s]\n"
          ]
        },
        {
          "name": "stdout",
          "output_type": "stream",
          "text": [
            "Epochs: 2 | Train Loss:  0.175                 | Train Accuracy:  0.309                 | Val Loss:  0.169                 | Val Accuracy:  0.351\n",
            "Found new best model. Saving weights...\n",
            "Epoch: 2\n"
          ]
        },
        {
          "name": "stderr",
          "output_type": "stream",
          "text": [
            "100%|██████████| 265/265 [01:39<00:00,  2.65it/s]\n"
          ]
        },
        {
          "name": "stdout",
          "output_type": "stream",
          "text": [
            "Epochs: 3 | Train Loss:  0.162                 | Train Accuracy:  0.368                 | Val Loss:  0.162                 | Val Accuracy:  0.359\n",
            "Found new best model. Saving weights...\n",
            "Epoch: 3\n"
          ]
        },
        {
          "name": "stderr",
          "output_type": "stream",
          "text": [
            "100%|██████████| 265/265 [01:39<00:00,  2.66it/s]\n"
          ]
        },
        {
          "name": "stdout",
          "output_type": "stream",
          "text": [
            "Epochs: 4 | Train Loss:  0.153                 | Train Accuracy:  0.394                 | Val Loss:  0.155                 | Val Accuracy:  0.413\n",
            "Found new best model. Saving weights...\n",
            "Epoch: 4\n"
          ]
        },
        {
          "name": "stderr",
          "output_type": "stream",
          "text": [
            "100%|██████████| 265/265 [01:39<00:00,  2.66it/s]\n"
          ]
        },
        {
          "name": "stdout",
          "output_type": "stream",
          "text": [
            "Epochs: 5 | Train Loss:  0.146                 | Train Accuracy:  0.428                 | Val Loss:  0.151                 | Val Accuracy:  0.403\n",
            "Found new best model. Saving weights...\n",
            "Epoch: 5\n"
          ]
        },
        {
          "name": "stderr",
          "output_type": "stream",
          "text": [
            "100%|██████████| 265/265 [01:39<00:00,  2.66it/s]\n"
          ]
        },
        {
          "name": "stdout",
          "output_type": "stream",
          "text": [
            "Epochs: 6 | Train Loss:  0.140                 | Train Accuracy:  0.451                 | Val Loss:  0.147                 | Val Accuracy:  0.431\n",
            "Found new best model. Saving weights...\n",
            "Epoch: 6\n"
          ]
        },
        {
          "name": "stderr",
          "output_type": "stream",
          "text": [
            "100%|██████████| 265/265 [01:39<00:00,  2.66it/s]\n"
          ]
        },
        {
          "name": "stdout",
          "output_type": "stream",
          "text": [
            "Epochs: 7 | Train Loss:  0.134                 | Train Accuracy:  0.475                 | Val Loss:  0.144                 | Val Accuracy:  0.444\n",
            "Found new best model. Saving weights...\n",
            "Epoch: 7\n"
          ]
        },
        {
          "name": "stderr",
          "output_type": "stream",
          "text": [
            "100%|██████████| 265/265 [01:39<00:00,  2.66it/s]\n"
          ]
        },
        {
          "name": "stdout",
          "output_type": "stream",
          "text": [
            "Epochs: 8 | Train Loss:  0.130                 | Train Accuracy:  0.495                 | Val Loss:  0.142                 | Val Accuracy:  0.456\n",
            "Found new best model. Saving weights...\n",
            "Epoch: 8\n"
          ]
        },
        {
          "name": "stderr",
          "output_type": "stream",
          "text": [
            "100%|██████████| 265/265 [01:39<00:00,  2.66it/s]\n"
          ]
        },
        {
          "name": "stdout",
          "output_type": "stream",
          "text": [
            "Epochs: 9 | Train Loss:  0.126                 | Train Accuracy:  0.511                 | Val Loss:  0.141                 | Val Accuracy:  0.456\n",
            "Found new best model. Saving weights...\n",
            "Epoch: 9\n"
          ]
        },
        {
          "name": "stderr",
          "output_type": "stream",
          "text": [
            "100%|██████████| 265/265 [01:39<00:00,  2.66it/s]\n"
          ]
        },
        {
          "name": "stdout",
          "output_type": "stream",
          "text": [
            "Epochs: 10 | Train Loss:  0.122                 | Train Accuracy:  0.528                 | Val Loss:  0.139                 | Val Accuracy:  0.456\n",
            "Found new best model. Saving weights...\n",
            "Epoch: 10\n"
          ]
        },
        {
          "name": "stderr",
          "output_type": "stream",
          "text": [
            "100%|██████████| 265/265 [01:39<00:00,  2.66it/s]\n"
          ]
        },
        {
          "name": "stdout",
          "output_type": "stream",
          "text": [
            "Epochs: 11 | Train Loss:  0.119                 | Train Accuracy:  0.539                 | Val Loss:  0.139                 | Val Accuracy:  0.464\n",
            "Found new best model. Saving weights...\n",
            "Epoch: 11\n"
          ]
        },
        {
          "name": "stderr",
          "output_type": "stream",
          "text": [
            "100%|██████████| 265/265 [01:39<00:00,  2.66it/s]\n"
          ]
        },
        {
          "name": "stdout",
          "output_type": "stream",
          "text": [
            "Epochs: 12 | Train Loss:  0.115                 | Train Accuracy:  0.553                 | Val Loss:  0.137                 | Val Accuracy:  0.452\n",
            "Found new best model. Saving weights...\n",
            "Epoch: 12\n"
          ]
        },
        {
          "name": "stderr",
          "output_type": "stream",
          "text": [
            "100%|██████████| 265/265 [01:39<00:00,  2.66it/s]\n"
          ]
        },
        {
          "name": "stdout",
          "output_type": "stream",
          "text": [
            "Epochs: 13 | Train Loss:  0.112                 | Train Accuracy:  0.572                 | Val Loss:  0.136                 | Val Accuracy:  0.464\n",
            "Found new best model. Saving weights...\n",
            "Epoch: 13\n"
          ]
        },
        {
          "name": "stderr",
          "output_type": "stream",
          "text": [
            "100%|██████████| 265/265 [01:39<00:00,  2.66it/s]\n"
          ]
        },
        {
          "name": "stdout",
          "output_type": "stream",
          "text": [
            "Epochs: 14 | Train Loss:  0.108                 | Train Accuracy:  0.590                 | Val Loss:  0.135                 | Val Accuracy:  0.478\n",
            "Found new best model. Saving weights...\n",
            "Epoch: 14\n"
          ]
        },
        {
          "name": "stderr",
          "output_type": "stream",
          "text": [
            "100%|██████████| 265/265 [01:39<00:00,  2.66it/s]\n"
          ]
        },
        {
          "name": "stdout",
          "output_type": "stream",
          "text": [
            "Epochs: 15 | Train Loss:  0.106                 | Train Accuracy:  0.604                 | Val Loss:  0.136                 | Val Accuracy:  0.462\n",
            "Epoch: 15\n"
          ]
        },
        {
          "name": "stderr",
          "output_type": "stream",
          "text": [
            "100%|██████████| 265/265 [01:39<00:00,  2.66it/s]\n"
          ]
        },
        {
          "name": "stdout",
          "output_type": "stream",
          "text": [
            "Epochs: 16 | Train Loss:  0.102                 | Train Accuracy:  0.617                 | Val Loss:  0.136                 | Val Accuracy:  0.460\n",
            "Epoch: 16\n"
          ]
        },
        {
          "name": "stderr",
          "output_type": "stream",
          "text": [
            "100%|██████████| 265/265 [01:39<00:00,  2.66it/s]\n"
          ]
        },
        {
          "name": "stdout",
          "output_type": "stream",
          "text": [
            "Epochs: 17 | Train Loss:  0.099                 | Train Accuracy:  0.628                 | Val Loss:  0.135                 | Val Accuracy:  0.470\n",
            "Found new best model. Saving weights...\n",
            "Epoch: 17\n"
          ]
        },
        {
          "name": "stderr",
          "output_type": "stream",
          "text": [
            "100%|██████████| 265/265 [01:39<00:00,  2.66it/s]\n"
          ]
        },
        {
          "name": "stdout",
          "output_type": "stream",
          "text": [
            "Epochs: 18 | Train Loss:  0.096                 | Train Accuracy:  0.642                 | Val Loss:  0.134                 | Val Accuracy:  0.470\n",
            "Found new best model. Saving weights...\n",
            "Epoch: 18\n"
          ]
        },
        {
          "name": "stderr",
          "output_type": "stream",
          "text": [
            "100%|██████████| 265/265 [01:39<00:00,  2.66it/s]\n"
          ]
        }
      ],
      "source": [
        "def train(model, tokenizer, train_data, val_data, learning_rate, epochs, out_file, run, batch_size = 15):\n",
        "    train, val = Dataset(train_data, tokenizer), Dataset(val_data, tokenizer)\n",
        "\n",
        "    wandb.init(\n",
        "        # Set the project where this run will be logged\n",
        "        project=\"triager_x\", \n",
        "        # We pass a run name (otherwise it’ll be randomly assigned, like sunshine-lollypop-10)\n",
        "        name=f\"experiment_{run}\", \n",
        "        # Track hyperparameters and run metadata\n",
        "        config={\n",
        "        \"learning_rate\": learning_rate,\n",
        "        \"architecture\": \"Roberta-CNN\",\n",
        "        \"dataset\": \"openj9\",\n",
        "        \"epochs\": epochs,\n",
        "    })\n",
        "    \n",
        "\n",
        "    train_dataloader = torch.utils.data.DataLoader(\n",
        "        train, batch_size=batch_size, shuffle=True\n",
        "    )\n",
        "    val_dataloader = torch.utils.data.DataLoader(val, batch_size=batch_size)\n",
        "\n",
        "    use_cuda = torch.cuda.is_available()\n",
        "    device = torch.device(\"cuda\" if use_cuda else \"cpu\")\n",
        "    best_loss = float(\"inf\")\n",
        "\n",
        "    criterion = nn.CrossEntropyLoss()\n",
        "    optimizer = Adam(model.parameters(), lr=learning_rate)\n",
        "\n",
        "    if use_cuda:\n",
        "        print(\"Using CUDA...\")\n",
        "        model = model.cuda()\n",
        "        criterion = criterion.cuda()\n",
        "\n",
        "    for epoch_num in range(epochs):\n",
        "        print(f\"Epoch: {epoch_num}\")\n",
        "        total_acc_train = 0\n",
        "        total_loss_train = 0\n",
        "\n",
        "        for train_input, train_label in tqdm(train_dataloader):\n",
        "            train_label = train_label.to(device)\n",
        "            mask = train_input[\"attention_mask\"].to(device)\n",
        "            input_id = train_input[\"input_ids\"].squeeze(1).to(device)\n",
        "\n",
        "            output = model(input_id, mask)\n",
        "\n",
        "            batch_loss = criterion(output, train_label.long())\n",
        "            total_loss_train += batch_loss.item()\n",
        "\n",
        "            acc = (output.argmax(dim=1) == train_label).sum().item()\n",
        "            total_acc_train += acc\n",
        "\n",
        "            model.zero_grad()\n",
        "            batch_loss.backward()\n",
        "            optimizer.step()\n",
        "\n",
        "        total_acc_val = 0\n",
        "        total_loss_val = 0\n",
        "\n",
        "        with torch.no_grad():\n",
        "\n",
        "            for val_input, val_label in val_dataloader:\n",
        "\n",
        "                val_label = val_label.to(device)\n",
        "                mask = val_input[\"attention_mask\"].to(device)\n",
        "                input_id = val_input[\"input_ids\"].squeeze(1).to(device)\n",
        "\n",
        "                output = model(input_id, mask)\n",
        "\n",
        "                batch_loss = criterion(output, val_label.long())\n",
        "                total_loss_val += batch_loss.item()\n",
        "\n",
        "                acc = (output.argmax(dim=1) == val_label).sum().item()\n",
        "                total_acc_val += acc\n",
        "\n",
        "        val_loss = total_loss_val / len(val_data)\n",
        "\n",
        "        log = f\"Epochs: {epoch_num + 1} | Train Loss: {total_loss_train / len(train_data): .3f} \\\n",
        "                | Train Accuracy: {total_acc_train / len(train_data): .3f} \\\n",
        "                | Val Loss: {total_loss_val / len(val_data): .3f} \\\n",
        "                | Val Accuracy: {total_acc_val / len(val_data): .3f}\"\n",
        "        print(log)\n",
        "\n",
        "        wandb.log({\n",
        "            \"train_acc\": total_acc_train / len(train_data), \n",
        "            \"train_loss\": total_loss_train / len(train_data),\n",
        "            \"val_acc\": total_acc_val / len(val_data),\n",
        "            \"val_loss\": total_loss_val / len(val_data)\n",
        "            })\n",
        "\n",
        "        if val_loss < best_loss:\n",
        "            print(\"Found new best model. Saving weights...\")\n",
        "            torch.save(model.state_dict(), out_file)\n",
        "            best_loss = val_loss\n",
        "    \n",
        "    wandb.finish()\n",
        "\n",
        "EPOCHS = 20\n",
        "num_classes = len(df[\"assignees\"].unique())\n",
        "model = Classifier(\"roberta-base\", num_classes, 768)\n",
        "tokenizer = model.tokenizer()\n",
        "LR = 1e-6\n",
        "\n",
        "train(model, tokenizer, df_train, df_val, LR, EPOCHS, \"teacher.pt\", \"base\")"
      ]
    },
    {
      "cell_type": "code",
      "execution_count": null,
      "metadata": {},
      "outputs": [
        {
          "name": "stdout",
          "output_type": "stream",
          "text": [
            "2 tensor(2, device='cuda:0')\n",
            "16 tensor(5, device='cuda:0')\n",
            "1 tensor(1, device='cuda:0')\n",
            "6 tensor(6, device='cuda:0')\n",
            "8 tensor(1, device='cuda:0')\n"
          ]
        }
      ],
      "source": [
        "import random\n",
        "\n",
        "for i in range(5):\n",
        "    rand = random.randint(0, len(df_val))\n",
        "    dx = df_val.iloc[rand]\n",
        "\n",
        "    data = model.tokenizer()(dx[\"text\"])\n",
        "    ids, mask = data[\"input_ids\"], data[\"attention_mask\"]\n",
        "\n",
        "    id = torch.tensor([ids]).cuda()\n",
        "    m = torch.tensor([mask]).cuda()\n",
        "\n",
        "    g = nn.Softmax(dim=1)\n",
        "\n",
        "    print(dx[\"owner_id\"], torch.argmax(g(model(id, m))))"
      ]
    },
    {
      "cell_type": "code",
      "execution_count": null,
      "metadata": {},
      "outputs": [],
      "source": []
    }
  ],
  "metadata": {
    "accelerator": "GPU",
    "colab": {
      "gpuType": "T4",
      "provenance": []
    },
    "kernelspec": {
      "display_name": "Python 3 (ipykernel)",
      "language": "python",
      "name": "python3"
    },
    "language_info": {
      "codemirror_mode": {
        "name": "ipython",
        "version": 3
      },
      "file_extension": ".py",
      "mimetype": "text/x-python",
      "name": "python",
      "nbconvert_exporter": "python",
      "pygments_lexer": "ipython3",
      "version": "3.10.0"
    },
    "widgets": {
      "application/vnd.jupyter.widget-state+json": {
        "1abba754403e467d88397adbefba5f39": {
          "model_module": "@jupyter-widgets/base",
          "model_module_version": "1.2.0",
          "model_name": "LayoutModel",
          "state": {
            "_model_module": "@jupyter-widgets/base",
            "_model_module_version": "1.2.0",
            "_model_name": "LayoutModel",
            "_view_count": null,
            "_view_module": "@jupyter-widgets/base",
            "_view_module_version": "1.2.0",
            "_view_name": "LayoutView",
            "align_content": null,
            "align_items": null,
            "align_self": null,
            "border": null,
            "bottom": null,
            "display": null,
            "flex": null,
            "flex_flow": null,
            "grid_area": null,
            "grid_auto_columns": null,
            "grid_auto_flow": null,
            "grid_auto_rows": null,
            "grid_column": null,
            "grid_gap": null,
            "grid_row": null,
            "grid_template_areas": null,
            "grid_template_columns": null,
            "grid_template_rows": null,
            "height": null,
            "justify_content": null,
            "justify_items": null,
            "left": null,
            "margin": null,
            "max_height": null,
            "max_width": null,
            "min_height": null,
            "min_width": null,
            "object_fit": null,
            "object_position": null,
            "order": null,
            "overflow": null,
            "overflow_x": null,
            "overflow_y": null,
            "padding": null,
            "right": null,
            "top": null,
            "visibility": null,
            "width": null
          }
        },
        "1cb615aadcf54929905b51caeb5a2128": {
          "model_module": "@jupyter-widgets/base",
          "model_module_version": "1.2.0",
          "model_name": "LayoutModel",
          "state": {
            "_model_module": "@jupyter-widgets/base",
            "_model_module_version": "1.2.0",
            "_model_name": "LayoutModel",
            "_view_count": null,
            "_view_module": "@jupyter-widgets/base",
            "_view_module_version": "1.2.0",
            "_view_name": "LayoutView",
            "align_content": null,
            "align_items": null,
            "align_self": null,
            "border": null,
            "bottom": null,
            "display": null,
            "flex": null,
            "flex_flow": null,
            "grid_area": null,
            "grid_auto_columns": null,
            "grid_auto_flow": null,
            "grid_auto_rows": null,
            "grid_column": null,
            "grid_gap": null,
            "grid_row": null,
            "grid_template_areas": null,
            "grid_template_columns": null,
            "grid_template_rows": null,
            "height": null,
            "justify_content": null,
            "justify_items": null,
            "left": null,
            "margin": null,
            "max_height": null,
            "max_width": null,
            "min_height": null,
            "min_width": null,
            "object_fit": null,
            "object_position": null,
            "order": null,
            "overflow": null,
            "overflow_x": null,
            "overflow_y": null,
            "padding": null,
            "right": null,
            "top": null,
            "visibility": null,
            "width": null
          }
        },
        "1fc017f70c03466bb4e69d3104fa560b": {
          "model_module": "@jupyter-widgets/controls",
          "model_module_version": "1.5.0",
          "model_name": "ProgressStyleModel",
          "state": {
            "_model_module": "@jupyter-widgets/controls",
            "_model_module_version": "1.5.0",
            "_model_name": "ProgressStyleModel",
            "_view_count": null,
            "_view_module": "@jupyter-widgets/base",
            "_view_module_version": "1.2.0",
            "_view_name": "StyleView",
            "bar_color": null,
            "description_width": ""
          }
        },
        "23f4a8aa21e3455b9c7d57734980fd00": {
          "model_module": "@jupyter-widgets/controls",
          "model_module_version": "1.5.0",
          "model_name": "DescriptionStyleModel",
          "state": {
            "_model_module": "@jupyter-widgets/controls",
            "_model_module_version": "1.5.0",
            "_model_name": "DescriptionStyleModel",
            "_view_count": null,
            "_view_module": "@jupyter-widgets/base",
            "_view_module_version": "1.2.0",
            "_view_name": "StyleView",
            "description_width": ""
          }
        },
        "24a34163989e4c49be2db4f119cc0611": {
          "model_module": "@jupyter-widgets/controls",
          "model_module_version": "1.5.0",
          "model_name": "HTMLModel",
          "state": {
            "_dom_classes": [],
            "_model_module": "@jupyter-widgets/controls",
            "_model_module_version": "1.5.0",
            "_model_name": "HTMLModel",
            "_view_count": null,
            "_view_module": "@jupyter-widgets/controls",
            "_view_module_version": "1.5.0",
            "_view_name": "HTMLView",
            "description": "",
            "description_tooltip": null,
            "layout": "IPY_MODEL_d2af56977bc4409cb46bfe881fec89b6",
            "placeholder": "​",
            "style": "IPY_MODEL_5359199b61a74a3f84a4c6aafb30f8fa",
            "value": "Downloading (…)olve/main/merges.txt: 100%"
          }
        },
        "24a58ef6fe6a4109915369a6eeae3338": {
          "model_module": "@jupyter-widgets/controls",
          "model_module_version": "1.5.0",
          "model_name": "FloatProgressModel",
          "state": {
            "_dom_classes": [],
            "_model_module": "@jupyter-widgets/controls",
            "_model_module_version": "1.5.0",
            "_model_name": "FloatProgressModel",
            "_view_count": null,
            "_view_module": "@jupyter-widgets/controls",
            "_view_module_version": "1.5.0",
            "_view_name": "ProgressView",
            "bar_style": "success",
            "description": "",
            "description_tooltip": null,
            "layout": "IPY_MODEL_c868ad3e4aee4eb0a57823eea21b4eb9",
            "max": 898823,
            "min": 0,
            "orientation": "horizontal",
            "style": "IPY_MODEL_1fc017f70c03466bb4e69d3104fa560b",
            "value": 898823
          }
        },
        "34879c980641445ab7354fcc75210306": {
          "model_module": "@jupyter-widgets/controls",
          "model_module_version": "1.5.0",
          "model_name": "DescriptionStyleModel",
          "state": {
            "_model_module": "@jupyter-widgets/controls",
            "_model_module_version": "1.5.0",
            "_model_name": "DescriptionStyleModel",
            "_view_count": null,
            "_view_module": "@jupyter-widgets/base",
            "_view_module_version": "1.2.0",
            "_view_name": "StyleView",
            "description_width": ""
          }
        },
        "34ee3dcd7f50419c96bcec4063709dff": {
          "model_module": "@jupyter-widgets/controls",
          "model_module_version": "1.5.0",
          "model_name": "HBoxModel",
          "state": {
            "_dom_classes": [],
            "_model_module": "@jupyter-widgets/controls",
            "_model_module_version": "1.5.0",
            "_model_name": "HBoxModel",
            "_view_count": null,
            "_view_module": "@jupyter-widgets/controls",
            "_view_module_version": "1.5.0",
            "_view_name": "HBoxView",
            "box_style": "",
            "children": [
              "IPY_MODEL_587f407537e94a6aa0049639e8bb05ad",
              "IPY_MODEL_4b60ac7be2cd4199adf98633f0663ad2",
              "IPY_MODEL_655f618162da476ea2f4eed237134dd9"
            ],
            "layout": "IPY_MODEL_f6efe5bff81e4afca469690f27ac21bb"
          }
        },
        "36413e7c0a664892afe561f5ab605e57": {
          "model_module": "@jupyter-widgets/base",
          "model_module_version": "1.2.0",
          "model_name": "LayoutModel",
          "state": {
            "_model_module": "@jupyter-widgets/base",
            "_model_module_version": "1.2.0",
            "_model_name": "LayoutModel",
            "_view_count": null,
            "_view_module": "@jupyter-widgets/base",
            "_view_module_version": "1.2.0",
            "_view_name": "LayoutView",
            "align_content": null,
            "align_items": null,
            "align_self": null,
            "border": null,
            "bottom": null,
            "display": null,
            "flex": null,
            "flex_flow": null,
            "grid_area": null,
            "grid_auto_columns": null,
            "grid_auto_flow": null,
            "grid_auto_rows": null,
            "grid_column": null,
            "grid_gap": null,
            "grid_row": null,
            "grid_template_areas": null,
            "grid_template_columns": null,
            "grid_template_rows": null,
            "height": null,
            "justify_content": null,
            "justify_items": null,
            "left": null,
            "margin": null,
            "max_height": null,
            "max_width": null,
            "min_height": null,
            "min_width": null,
            "object_fit": null,
            "object_position": null,
            "order": null,
            "overflow": null,
            "overflow_x": null,
            "overflow_y": null,
            "padding": null,
            "right": null,
            "top": null,
            "visibility": null,
            "width": null
          }
        },
        "4b60ac7be2cd4199adf98633f0663ad2": {
          "model_module": "@jupyter-widgets/controls",
          "model_module_version": "1.5.0",
          "model_name": "FloatProgressModel",
          "state": {
            "_dom_classes": [],
            "_model_module": "@jupyter-widgets/controls",
            "_model_module_version": "1.5.0",
            "_model_name": "FloatProgressModel",
            "_view_count": null,
            "_view_module": "@jupyter-widgets/controls",
            "_view_module_version": "1.5.0",
            "_view_name": "ProgressView",
            "bar_style": "success",
            "description": "",
            "description_tooltip": null,
            "layout": "IPY_MODEL_d26a4496e2f94cd78af2da75c1092266",
            "max": 1355863,
            "min": 0,
            "orientation": "horizontal",
            "style": "IPY_MODEL_c425bf5440d24001a7fe0de35873bb17",
            "value": 1355863
          }
        },
        "4bf9ba6922914a73b82fd21046a8cd65": {
          "model_module": "@jupyter-widgets/base",
          "model_module_version": "1.2.0",
          "model_name": "LayoutModel",
          "state": {
            "_model_module": "@jupyter-widgets/base",
            "_model_module_version": "1.2.0",
            "_model_name": "LayoutModel",
            "_view_count": null,
            "_view_module": "@jupyter-widgets/base",
            "_view_module_version": "1.2.0",
            "_view_name": "LayoutView",
            "align_content": null,
            "align_items": null,
            "align_self": null,
            "border": null,
            "bottom": null,
            "display": null,
            "flex": null,
            "flex_flow": null,
            "grid_area": null,
            "grid_auto_columns": null,
            "grid_auto_flow": null,
            "grid_auto_rows": null,
            "grid_column": null,
            "grid_gap": null,
            "grid_row": null,
            "grid_template_areas": null,
            "grid_template_columns": null,
            "grid_template_rows": null,
            "height": null,
            "justify_content": null,
            "justify_items": null,
            "left": null,
            "margin": null,
            "max_height": null,
            "max_width": null,
            "min_height": null,
            "min_width": null,
            "object_fit": null,
            "object_position": null,
            "order": null,
            "overflow": null,
            "overflow_x": null,
            "overflow_y": null,
            "padding": null,
            "right": null,
            "top": null,
            "visibility": null,
            "width": null
          }
        },
        "4d043728724f4c8a90fa341d59c90284": {
          "model_module": "@jupyter-widgets/controls",
          "model_module_version": "1.5.0",
          "model_name": "DescriptionStyleModel",
          "state": {
            "_model_module": "@jupyter-widgets/controls",
            "_model_module_version": "1.5.0",
            "_model_name": "DescriptionStyleModel",
            "_view_count": null,
            "_view_module": "@jupyter-widgets/base",
            "_view_module_version": "1.2.0",
            "_view_name": "StyleView",
            "description_width": ""
          }
        },
        "5359199b61a74a3f84a4c6aafb30f8fa": {
          "model_module": "@jupyter-widgets/controls",
          "model_module_version": "1.5.0",
          "model_name": "DescriptionStyleModel",
          "state": {
            "_model_module": "@jupyter-widgets/controls",
            "_model_module_version": "1.5.0",
            "_model_name": "DescriptionStyleModel",
            "_view_count": null,
            "_view_module": "@jupyter-widgets/base",
            "_view_module_version": "1.2.0",
            "_view_name": "StyleView",
            "description_width": ""
          }
        },
        "587f407537e94a6aa0049639e8bb05ad": {
          "model_module": "@jupyter-widgets/controls",
          "model_module_version": "1.5.0",
          "model_name": "HTMLModel",
          "state": {
            "_dom_classes": [],
            "_model_module": "@jupyter-widgets/controls",
            "_model_module_version": "1.5.0",
            "_model_name": "HTMLModel",
            "_view_count": null,
            "_view_module": "@jupyter-widgets/controls",
            "_view_module_version": "1.5.0",
            "_view_name": "HTMLView",
            "description": "",
            "description_tooltip": null,
            "layout": "IPY_MODEL_1abba754403e467d88397adbefba5f39",
            "placeholder": "​",
            "style": "IPY_MODEL_76771682b1d64e9c8e6cf6104066435c",
            "value": "Downloading (…)/main/tokenizer.json: 100%"
          }
        },
        "5ea83e9f34224e089408b07f904f3710": {
          "model_module": "@jupyter-widgets/controls",
          "model_module_version": "1.5.0",
          "model_name": "HBoxModel",
          "state": {
            "_dom_classes": [],
            "_model_module": "@jupyter-widgets/controls",
            "_model_module_version": "1.5.0",
            "_model_name": "HBoxModel",
            "_view_count": null,
            "_view_module": "@jupyter-widgets/controls",
            "_view_module_version": "1.5.0",
            "_view_name": "HBoxView",
            "box_style": "",
            "children": [
              "IPY_MODEL_24a34163989e4c49be2db4f119cc0611",
              "IPY_MODEL_c5d931fa523c4d6f94dc4c4d4476c03f",
              "IPY_MODEL_98960af25a4d4aa09f527a3615fa195e"
            ],
            "layout": "IPY_MODEL_36413e7c0a664892afe561f5ab605e57"
          }
        },
        "655f618162da476ea2f4eed237134dd9": {
          "model_module": "@jupyter-widgets/controls",
          "model_module_version": "1.5.0",
          "model_name": "HTMLModel",
          "state": {
            "_dom_classes": [],
            "_model_module": "@jupyter-widgets/controls",
            "_model_module_version": "1.5.0",
            "_model_name": "HTMLModel",
            "_view_count": null,
            "_view_module": "@jupyter-widgets/controls",
            "_view_module_version": "1.5.0",
            "_view_name": "HTMLView",
            "description": "",
            "description_tooltip": null,
            "layout": "IPY_MODEL_f82540c948ae4d369e9498fea3b38f00",
            "placeholder": "​",
            "style": "IPY_MODEL_34879c980641445ab7354fcc75210306",
            "value": " 1.36M/1.36M [00:00&lt;00:00, 19.2MB/s]"
          }
        },
        "76771682b1d64e9c8e6cf6104066435c": {
          "model_module": "@jupyter-widgets/controls",
          "model_module_version": "1.5.0",
          "model_name": "DescriptionStyleModel",
          "state": {
            "_model_module": "@jupyter-widgets/controls",
            "_model_module_version": "1.5.0",
            "_model_name": "DescriptionStyleModel",
            "_view_count": null,
            "_view_module": "@jupyter-widgets/base",
            "_view_module_version": "1.2.0",
            "_view_name": "StyleView",
            "description_width": ""
          }
        },
        "79451d94e83a49dea269d48542856f06": {
          "model_module": "@jupyter-widgets/base",
          "model_module_version": "1.2.0",
          "model_name": "LayoutModel",
          "state": {
            "_model_module": "@jupyter-widgets/base",
            "_model_module_version": "1.2.0",
            "_model_name": "LayoutModel",
            "_view_count": null,
            "_view_module": "@jupyter-widgets/base",
            "_view_module_version": "1.2.0",
            "_view_name": "LayoutView",
            "align_content": null,
            "align_items": null,
            "align_self": null,
            "border": null,
            "bottom": null,
            "display": null,
            "flex": null,
            "flex_flow": null,
            "grid_area": null,
            "grid_auto_columns": null,
            "grid_auto_flow": null,
            "grid_auto_rows": null,
            "grid_column": null,
            "grid_gap": null,
            "grid_row": null,
            "grid_template_areas": null,
            "grid_template_columns": null,
            "grid_template_rows": null,
            "height": null,
            "justify_content": null,
            "justify_items": null,
            "left": null,
            "margin": null,
            "max_height": null,
            "max_width": null,
            "min_height": null,
            "min_width": null,
            "object_fit": null,
            "object_position": null,
            "order": null,
            "overflow": null,
            "overflow_x": null,
            "overflow_y": null,
            "padding": null,
            "right": null,
            "top": null,
            "visibility": null,
            "width": null
          }
        },
        "83af8edcf7ea41229e7f1a4ef7360a4a": {
          "model_module": "@jupyter-widgets/controls",
          "model_module_version": "1.5.0",
          "model_name": "DescriptionStyleModel",
          "state": {
            "_model_module": "@jupyter-widgets/controls",
            "_model_module_version": "1.5.0",
            "_model_name": "DescriptionStyleModel",
            "_view_count": null,
            "_view_module": "@jupyter-widgets/base",
            "_view_module_version": "1.2.0",
            "_view_name": "StyleView",
            "description_width": ""
          }
        },
        "884aca7e1ed74e43aa58a0a99b98d479": {
          "model_module": "@jupyter-widgets/base",
          "model_module_version": "1.2.0",
          "model_name": "LayoutModel",
          "state": {
            "_model_module": "@jupyter-widgets/base",
            "_model_module_version": "1.2.0",
            "_model_name": "LayoutModel",
            "_view_count": null,
            "_view_module": "@jupyter-widgets/base",
            "_view_module_version": "1.2.0",
            "_view_name": "LayoutView",
            "align_content": null,
            "align_items": null,
            "align_self": null,
            "border": null,
            "bottom": null,
            "display": null,
            "flex": null,
            "flex_flow": null,
            "grid_area": null,
            "grid_auto_columns": null,
            "grid_auto_flow": null,
            "grid_auto_rows": null,
            "grid_column": null,
            "grid_gap": null,
            "grid_row": null,
            "grid_template_areas": null,
            "grid_template_columns": null,
            "grid_template_rows": null,
            "height": null,
            "justify_content": null,
            "justify_items": null,
            "left": null,
            "margin": null,
            "max_height": null,
            "max_width": null,
            "min_height": null,
            "min_width": null,
            "object_fit": null,
            "object_position": null,
            "order": null,
            "overflow": null,
            "overflow_x": null,
            "overflow_y": null,
            "padding": null,
            "right": null,
            "top": null,
            "visibility": null,
            "width": null
          }
        },
        "98960af25a4d4aa09f527a3615fa195e": {
          "model_module": "@jupyter-widgets/controls",
          "model_module_version": "1.5.0",
          "model_name": "HTMLModel",
          "state": {
            "_dom_classes": [],
            "_model_module": "@jupyter-widgets/controls",
            "_model_module_version": "1.5.0",
            "_model_name": "HTMLModel",
            "_view_count": null,
            "_view_module": "@jupyter-widgets/controls",
            "_view_module_version": "1.5.0",
            "_view_name": "HTMLView",
            "description": "",
            "description_tooltip": null,
            "layout": "IPY_MODEL_1cb615aadcf54929905b51caeb5a2128",
            "placeholder": "​",
            "style": "IPY_MODEL_23f4a8aa21e3455b9c7d57734980fd00",
            "value": " 456k/456k [00:00&lt;00:00, 12.7MB/s]"
          }
        },
        "adc2784c4ac7413ba5580e0b33708a12": {
          "model_module": "@jupyter-widgets/controls",
          "model_module_version": "1.5.0",
          "model_name": "HTMLModel",
          "state": {
            "_dom_classes": [],
            "_model_module": "@jupyter-widgets/controls",
            "_model_module_version": "1.5.0",
            "_model_name": "HTMLModel",
            "_view_count": null,
            "_view_module": "@jupyter-widgets/controls",
            "_view_module_version": "1.5.0",
            "_view_name": "HTMLView",
            "description": "",
            "description_tooltip": null,
            "layout": "IPY_MODEL_79451d94e83a49dea269d48542856f06",
            "placeholder": "​",
            "style": "IPY_MODEL_4d043728724f4c8a90fa341d59c90284",
            "value": "Downloading (…)olve/main/vocab.json: 100%"
          }
        },
        "b681fdca75014187b2f71654962eebf5": {
          "model_module": "@jupyter-widgets/controls",
          "model_module_version": "1.5.0",
          "model_name": "HTMLModel",
          "state": {
            "_dom_classes": [],
            "_model_module": "@jupyter-widgets/controls",
            "_model_module_version": "1.5.0",
            "_model_name": "HTMLModel",
            "_view_count": null,
            "_view_module": "@jupyter-widgets/controls",
            "_view_module_version": "1.5.0",
            "_view_name": "HTMLView",
            "description": "",
            "description_tooltip": null,
            "layout": "IPY_MODEL_884aca7e1ed74e43aa58a0a99b98d479",
            "placeholder": "​",
            "style": "IPY_MODEL_83af8edcf7ea41229e7f1a4ef7360a4a",
            "value": " 899k/899k [00:00&lt;00:00, 4.49MB/s]"
          }
        },
        "c425bf5440d24001a7fe0de35873bb17": {
          "model_module": "@jupyter-widgets/controls",
          "model_module_version": "1.5.0",
          "model_name": "ProgressStyleModel",
          "state": {
            "_model_module": "@jupyter-widgets/controls",
            "_model_module_version": "1.5.0",
            "_model_name": "ProgressStyleModel",
            "_view_count": null,
            "_view_module": "@jupyter-widgets/base",
            "_view_module_version": "1.2.0",
            "_view_name": "StyleView",
            "bar_color": null,
            "description_width": ""
          }
        },
        "c5d931fa523c4d6f94dc4c4d4476c03f": {
          "model_module": "@jupyter-widgets/controls",
          "model_module_version": "1.5.0",
          "model_name": "FloatProgressModel",
          "state": {
            "_dom_classes": [],
            "_model_module": "@jupyter-widgets/controls",
            "_model_module_version": "1.5.0",
            "_model_name": "FloatProgressModel",
            "_view_count": null,
            "_view_module": "@jupyter-widgets/controls",
            "_view_module_version": "1.5.0",
            "_view_name": "ProgressView",
            "bar_style": "success",
            "description": "",
            "description_tooltip": null,
            "layout": "IPY_MODEL_e21a3b6417d441ea82f962901a44aee1",
            "max": 456318,
            "min": 0,
            "orientation": "horizontal",
            "style": "IPY_MODEL_f434480e98974cefa060e84d126a5f71",
            "value": 456318
          }
        },
        "c868ad3e4aee4eb0a57823eea21b4eb9": {
          "model_module": "@jupyter-widgets/base",
          "model_module_version": "1.2.0",
          "model_name": "LayoutModel",
          "state": {
            "_model_module": "@jupyter-widgets/base",
            "_model_module_version": "1.2.0",
            "_model_name": "LayoutModel",
            "_view_count": null,
            "_view_module": "@jupyter-widgets/base",
            "_view_module_version": "1.2.0",
            "_view_name": "LayoutView",
            "align_content": null,
            "align_items": null,
            "align_self": null,
            "border": null,
            "bottom": null,
            "display": null,
            "flex": null,
            "flex_flow": null,
            "grid_area": null,
            "grid_auto_columns": null,
            "grid_auto_flow": null,
            "grid_auto_rows": null,
            "grid_column": null,
            "grid_gap": null,
            "grid_row": null,
            "grid_template_areas": null,
            "grid_template_columns": null,
            "grid_template_rows": null,
            "height": null,
            "justify_content": null,
            "justify_items": null,
            "left": null,
            "margin": null,
            "max_height": null,
            "max_width": null,
            "min_height": null,
            "min_width": null,
            "object_fit": null,
            "object_position": null,
            "order": null,
            "overflow": null,
            "overflow_x": null,
            "overflow_y": null,
            "padding": null,
            "right": null,
            "top": null,
            "visibility": null,
            "width": null
          }
        },
        "d26a4496e2f94cd78af2da75c1092266": {
          "model_module": "@jupyter-widgets/base",
          "model_module_version": "1.2.0",
          "model_name": "LayoutModel",
          "state": {
            "_model_module": "@jupyter-widgets/base",
            "_model_module_version": "1.2.0",
            "_model_name": "LayoutModel",
            "_view_count": null,
            "_view_module": "@jupyter-widgets/base",
            "_view_module_version": "1.2.0",
            "_view_name": "LayoutView",
            "align_content": null,
            "align_items": null,
            "align_self": null,
            "border": null,
            "bottom": null,
            "display": null,
            "flex": null,
            "flex_flow": null,
            "grid_area": null,
            "grid_auto_columns": null,
            "grid_auto_flow": null,
            "grid_auto_rows": null,
            "grid_column": null,
            "grid_gap": null,
            "grid_row": null,
            "grid_template_areas": null,
            "grid_template_columns": null,
            "grid_template_rows": null,
            "height": null,
            "justify_content": null,
            "justify_items": null,
            "left": null,
            "margin": null,
            "max_height": null,
            "max_width": null,
            "min_height": null,
            "min_width": null,
            "object_fit": null,
            "object_position": null,
            "order": null,
            "overflow": null,
            "overflow_x": null,
            "overflow_y": null,
            "padding": null,
            "right": null,
            "top": null,
            "visibility": null,
            "width": null
          }
        },
        "d2af56977bc4409cb46bfe881fec89b6": {
          "model_module": "@jupyter-widgets/base",
          "model_module_version": "1.2.0",
          "model_name": "LayoutModel",
          "state": {
            "_model_module": "@jupyter-widgets/base",
            "_model_module_version": "1.2.0",
            "_model_name": "LayoutModel",
            "_view_count": null,
            "_view_module": "@jupyter-widgets/base",
            "_view_module_version": "1.2.0",
            "_view_name": "LayoutView",
            "align_content": null,
            "align_items": null,
            "align_self": null,
            "border": null,
            "bottom": null,
            "display": null,
            "flex": null,
            "flex_flow": null,
            "grid_area": null,
            "grid_auto_columns": null,
            "grid_auto_flow": null,
            "grid_auto_rows": null,
            "grid_column": null,
            "grid_gap": null,
            "grid_row": null,
            "grid_template_areas": null,
            "grid_template_columns": null,
            "grid_template_rows": null,
            "height": null,
            "justify_content": null,
            "justify_items": null,
            "left": null,
            "margin": null,
            "max_height": null,
            "max_width": null,
            "min_height": null,
            "min_width": null,
            "object_fit": null,
            "object_position": null,
            "order": null,
            "overflow": null,
            "overflow_x": null,
            "overflow_y": null,
            "padding": null,
            "right": null,
            "top": null,
            "visibility": null,
            "width": null
          }
        },
        "de0cfd344b124ecb824236fb275fe2f5": {
          "model_module": "@jupyter-widgets/controls",
          "model_module_version": "1.5.0",
          "model_name": "HBoxModel",
          "state": {
            "_dom_classes": [],
            "_model_module": "@jupyter-widgets/controls",
            "_model_module_version": "1.5.0",
            "_model_name": "HBoxModel",
            "_view_count": null,
            "_view_module": "@jupyter-widgets/controls",
            "_view_module_version": "1.5.0",
            "_view_name": "HBoxView",
            "box_style": "",
            "children": [
              "IPY_MODEL_adc2784c4ac7413ba5580e0b33708a12",
              "IPY_MODEL_24a58ef6fe6a4109915369a6eeae3338",
              "IPY_MODEL_b681fdca75014187b2f71654962eebf5"
            ],
            "layout": "IPY_MODEL_4bf9ba6922914a73b82fd21046a8cd65"
          }
        },
        "e21a3b6417d441ea82f962901a44aee1": {
          "model_module": "@jupyter-widgets/base",
          "model_module_version": "1.2.0",
          "model_name": "LayoutModel",
          "state": {
            "_model_module": "@jupyter-widgets/base",
            "_model_module_version": "1.2.0",
            "_model_name": "LayoutModel",
            "_view_count": null,
            "_view_module": "@jupyter-widgets/base",
            "_view_module_version": "1.2.0",
            "_view_name": "LayoutView",
            "align_content": null,
            "align_items": null,
            "align_self": null,
            "border": null,
            "bottom": null,
            "display": null,
            "flex": null,
            "flex_flow": null,
            "grid_area": null,
            "grid_auto_columns": null,
            "grid_auto_flow": null,
            "grid_auto_rows": null,
            "grid_column": null,
            "grid_gap": null,
            "grid_row": null,
            "grid_template_areas": null,
            "grid_template_columns": null,
            "grid_template_rows": null,
            "height": null,
            "justify_content": null,
            "justify_items": null,
            "left": null,
            "margin": null,
            "max_height": null,
            "max_width": null,
            "min_height": null,
            "min_width": null,
            "object_fit": null,
            "object_position": null,
            "order": null,
            "overflow": null,
            "overflow_x": null,
            "overflow_y": null,
            "padding": null,
            "right": null,
            "top": null,
            "visibility": null,
            "width": null
          }
        },
        "f434480e98974cefa060e84d126a5f71": {
          "model_module": "@jupyter-widgets/controls",
          "model_module_version": "1.5.0",
          "model_name": "ProgressStyleModel",
          "state": {
            "_model_module": "@jupyter-widgets/controls",
            "_model_module_version": "1.5.0",
            "_model_name": "ProgressStyleModel",
            "_view_count": null,
            "_view_module": "@jupyter-widgets/base",
            "_view_module_version": "1.2.0",
            "_view_name": "StyleView",
            "bar_color": null,
            "description_width": ""
          }
        },
        "f6efe5bff81e4afca469690f27ac21bb": {
          "model_module": "@jupyter-widgets/base",
          "model_module_version": "1.2.0",
          "model_name": "LayoutModel",
          "state": {
            "_model_module": "@jupyter-widgets/base",
            "_model_module_version": "1.2.0",
            "_model_name": "LayoutModel",
            "_view_count": null,
            "_view_module": "@jupyter-widgets/base",
            "_view_module_version": "1.2.0",
            "_view_name": "LayoutView",
            "align_content": null,
            "align_items": null,
            "align_self": null,
            "border": null,
            "bottom": null,
            "display": null,
            "flex": null,
            "flex_flow": null,
            "grid_area": null,
            "grid_auto_columns": null,
            "grid_auto_flow": null,
            "grid_auto_rows": null,
            "grid_column": null,
            "grid_gap": null,
            "grid_row": null,
            "grid_template_areas": null,
            "grid_template_columns": null,
            "grid_template_rows": null,
            "height": null,
            "justify_content": null,
            "justify_items": null,
            "left": null,
            "margin": null,
            "max_height": null,
            "max_width": null,
            "min_height": null,
            "min_width": null,
            "object_fit": null,
            "object_position": null,
            "order": null,
            "overflow": null,
            "overflow_x": null,
            "overflow_y": null,
            "padding": null,
            "right": null,
            "top": null,
            "visibility": null,
            "width": null
          }
        },
        "f82540c948ae4d369e9498fea3b38f00": {
          "model_module": "@jupyter-widgets/base",
          "model_module_version": "1.2.0",
          "model_name": "LayoutModel",
          "state": {
            "_model_module": "@jupyter-widgets/base",
            "_model_module_version": "1.2.0",
            "_model_name": "LayoutModel",
            "_view_count": null,
            "_view_module": "@jupyter-widgets/base",
            "_view_module_version": "1.2.0",
            "_view_name": "LayoutView",
            "align_content": null,
            "align_items": null,
            "align_self": null,
            "border": null,
            "bottom": null,
            "display": null,
            "flex": null,
            "flex_flow": null,
            "grid_area": null,
            "grid_auto_columns": null,
            "grid_auto_flow": null,
            "grid_auto_rows": null,
            "grid_column": null,
            "grid_gap": null,
            "grid_row": null,
            "grid_template_areas": null,
            "grid_template_columns": null,
            "grid_template_rows": null,
            "height": null,
            "justify_content": null,
            "justify_items": null,
            "left": null,
            "margin": null,
            "max_height": null,
            "max_width": null,
            "min_height": null,
            "min_width": null,
            "object_fit": null,
            "object_position": null,
            "order": null,
            "overflow": null,
            "overflow_x": null,
            "overflow_y": null,
            "padding": null,
            "right": null,
            "top": null,
            "visibility": null,
            "width": null
          }
        }
      }
    }
  },
  "nbformat": 4,
  "nbformat_minor": 0
}
