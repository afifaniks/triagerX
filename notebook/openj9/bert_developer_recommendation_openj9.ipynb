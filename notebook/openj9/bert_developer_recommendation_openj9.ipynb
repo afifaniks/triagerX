{
  "cells": [
    {
      "cell_type": "code",
      "execution_count": 1,
      "metadata": {
        "id": "T1l6Qxgmljqz"
      },
      "outputs": [],
      "source": [
        "import numpy as np\n",
        "import pandas as pd\n",
        "import torch\n",
        "import torch.nn as nn\n",
        "import torch.nn.functional as F\n",
        "import wandb\n",
        "from torch.optim import Adam\n",
        "from tqdm import tqdm\n",
        "from dotenv import load_dotenv\n",
        "\n",
        "from transformers import RobertaModel, RobertaTokenizer\n",
        "from torch.utils.data.sampler import WeightedRandomSampler"
      ]
    },
    {
      "cell_type": "code",
      "execution_count": 2,
      "metadata": {},
      "outputs": [
        {
          "data": {
            "text/plain": [
              "True"
            ]
          },
          "execution_count": 2,
          "metadata": {},
          "output_type": "execute_result"
        }
      ],
      "source": [
        "torch.cuda.is_available()"
      ]
    },
    {
      "cell_type": "code",
      "execution_count": 3,
      "metadata": {},
      "outputs": [
        {
          "data": {
            "text/plain": [
              "True"
            ]
          },
          "execution_count": 3,
          "metadata": {},
          "output_type": "execute_result"
        }
      ],
      "source": [
        "load_dotenv()"
      ]
    },
    {
      "cell_type": "code",
      "execution_count": 4,
      "metadata": {},
      "outputs": [
        {
          "name": "stderr",
          "output_type": "stream",
          "text": [
            "\u001b[34m\u001b[1mwandb\u001b[0m: Currently logged in as: \u001b[33mafifaniks\u001b[0m. Use \u001b[1m`wandb login --relogin`\u001b[0m to force relogin\n"
          ]
        },
        {
          "data": {
            "text/plain": [
              "True"
            ]
          },
          "execution_count": 4,
          "metadata": {},
          "output_type": "execute_result"
        }
      ],
      "source": [
        "wandb.login()"
      ]
    },
    {
      "cell_type": "code",
      "execution_count": 5,
      "metadata": {
        "id": "Gkfnr4vWljq0"
      },
      "outputs": [],
      "source": [
        "def load_dataframe(path: str) -> pd.DataFrame:\n",
        "    return pd.read_csv(path)"
      ]
    },
    {
      "cell_type": "code",
      "execution_count": 6,
      "metadata": {
        "id": "ejgz_3v_ljq1"
      },
      "outputs": [],
      "source": [
        "def clean_data(df):\n",
        "    df['text'] = df['text'].str.replace('http[s]?://(?:[a-zA-Z]|[0-9]|[$-_@.&+]|[!*\\(\\),]|(?:%[0-9a-fA-F][0-9a-fA-F]))+', ' ')\n",
        "    df[\"text\"] = df['text'].str.replace(\" +\", \" \", regex=True)\n",
        "\n",
        "    return df\n",
        "    \n",
        "def prepare_dataframe(df: pd.DataFrame, minimum_contribution = 0) -> pd.DataFrame:\n",
        "    developers = df[\"assignees\"].value_counts()\n",
        "    df = df[df[\"assignees\"].notna()]\n",
        "    filtered_developers = developers.index[developers >= minimum_contribution]\n",
        "    df = df[df[\"assignees\"].isin(filtered_developers)]\n",
        "\n",
        "    df[\"text\"] = df.apply(lambda x: \"Title: \" + str(x[\"issue_title\"]) + \"\\nDescription: \" + str(x[\"issue_body\"]), axis=1)\n",
        "    min_length = 15\n",
        "    df = df[df[\"text\"].str.len().gt(min_length)]\n",
        "\n",
        "    df[\"owner_id\"] = pd.factorize(df[\"assignees\"])[0]\n",
        "\n",
        "    return df"
      ]
    },
    {
      "cell_type": "code",
      "execution_count": 7,
      "metadata": {},
      "outputs": [],
      "source": [
        "data_path = \"/home/mdafifal.mamun/notebooks/triagerX/notebook/data/openj9/merged_data_dated_cleaned.csv\"\n",
        "\n",
        "df = load_dataframe(data_path)\n",
        "df = prepare_dataframe(df, minimum_contribution=5)\n",
        "df = clean_data(df)"
      ]
    },
    {
      "cell_type": "code",
      "execution_count": 8,
      "metadata": {},
      "outputs": [
        {
          "data": {
            "text/html": [
              "<div>\n",
              "<style scoped>\n",
              "    .dataframe tbody tr th:only-of-type {\n",
              "        vertical-align: middle;\n",
              "    }\n",
              "\n",
              "    .dataframe tbody tr th {\n",
              "        vertical-align: top;\n",
              "    }\n",
              "\n",
              "    .dataframe thead th {\n",
              "        text-align: right;\n",
              "    }\n",
              "</style>\n",
              "<table border=\"1\" class=\"dataframe\">\n",
              "  <thead>\n",
              "    <tr style=\"text-align: right;\">\n",
              "      <th></th>\n",
              "      <th>Unnamed: 0</th>\n",
              "      <th>issue_number</th>\n",
              "      <th>issue_url</th>\n",
              "      <th>issue_title</th>\n",
              "      <th>issue_body</th>\n",
              "      <th>issue_state</th>\n",
              "      <th>creator</th>\n",
              "      <th>comments</th>\n",
              "      <th>assignees</th>\n",
              "      <th>labels</th>\n",
              "      <th>created_at</th>\n",
              "      <th>closed_at</th>\n",
              "      <th>text</th>\n",
              "      <th>owner_id</th>\n",
              "    </tr>\n",
              "  </thead>\n",
              "  <tbody>\n",
              "    <tr>\n",
              "      <th>0</th>\n",
              "      <td>9</td>\n",
              "      <td>10</td>\n",
              "      <td>https://github.com/eclipse-openj9/openj9/pull/10</td>\n",
              "      <td>Update README.md with proper AdoptOpenJDK link</td>\n",
              "      <td>Also remove the the coming soon reference, sin...</td>\n",
              "      <td>closed</td>\n",
              "      <td>pshipton</td>\n",
              "      <td>NaN</td>\n",
              "      <td>charliegracie</td>\n",
              "      <td>comp:doc</td>\n",
              "      <td>2017-09-14T12:24:25Z</td>\n",
              "      <td>2017-09-14T12:42:15Z</td>\n",
              "      <td>Title: Update README.md with proper AdoptOpenJ...</td>\n",
              "      <td>0</td>\n",
              "    </tr>\n",
              "    <tr>\n",
              "      <th>1</th>\n",
              "      <td>14</td>\n",
              "      <td>15</td>\n",
              "      <td>https://github.com/eclipse-openj9/openj9/pull/15</td>\n",
              "      <td>Refactor and clean up CodeCacheManager</td>\n",
              "      <td>- Change invocation parameters of superclass c...</td>\n",
              "      <td>closed</td>\n",
              "      <td>lmaisons</td>\n",
              "      <td>&lt;comment&gt;&lt;user&gt;lmaisons&lt;/user&gt;&lt;body&gt;This has a...</td>\n",
              "      <td>0xdaryl</td>\n",
              "      <td>comp:jit</td>\n",
              "      <td>2017-09-14T14:30:51Z</td>\n",
              "      <td>2017-09-27T20:01:54Z</td>\n",
              "      <td>Title: Refactor and clean up CodeCacheManager\\...</td>\n",
              "      <td>1</td>\n",
              "    </tr>\n",
              "    <tr>\n",
              "      <th>2</th>\n",
              "      <td>16</td>\n",
              "      <td>17</td>\n",
              "      <td>https://github.com/eclipse-openj9/openj9/pull/17</td>\n",
              "      <td>WIP Add support for function pointers in Panama</td>\n",
              "      <td>When invoking a native function (with Panama) ...</td>\n",
              "      <td>closed</td>\n",
              "      <td>tajila</td>\n",
              "      <td>&lt;comment&gt;&lt;user&gt;tajila&lt;/user&gt;&lt;body&gt;Thanks for t...</td>\n",
              "      <td>DanHeidinga</td>\n",
              "      <td>comp:vm, project:panama</td>\n",
              "      <td>2017-09-14T16:10:32Z</td>\n",
              "      <td>2019-12-04T15:50:33Z</td>\n",
              "      <td>Title: WIP Add support for function pointers i...</td>\n",
              "      <td>2</td>\n",
              "    </tr>\n",
              "    <tr>\n",
              "      <th>3</th>\n",
              "      <td>21</td>\n",
              "      <td>22</td>\n",
              "      <td>https://github.com/eclipse-openj9/openj9/pull/22</td>\n",
              "      <td>fix illegal-access behaviour</td>\n",
              "      <td>fix illegal-access behaviour\\r\\n\\r\\nThis is th...</td>\n",
              "      <td>closed</td>\n",
              "      <td>tajila</td>\n",
              "      <td>&lt;comment&gt;&lt;user&gt;DanHeidinga&lt;/user&gt;&lt;body&gt;@tajila...</td>\n",
              "      <td>DanHeidinga</td>\n",
              "      <td>jdk9, comp:vm</td>\n",
              "      <td>2017-09-14T20:53:59Z</td>\n",
              "      <td>2017-09-15T14:23:40Z</td>\n",
              "      <td>Title: fix illegal-access behaviour\\nDescripti...</td>\n",
              "      <td>2</td>\n",
              "    </tr>\n",
              "    <tr>\n",
              "      <th>4</th>\n",
              "      <td>23</td>\n",
              "      <td>24</td>\n",
              "      <td>https://github.com/eclipse-openj9/openj9/issue...</td>\n",
              "      <td>Enable a travis.ci-based PR build for linux x8...</td>\n",
              "      <td>Build a basic PR build based off the linux_x86...</td>\n",
              "      <td>closed</td>\n",
              "      <td>DanHeidinga</td>\n",
              "      <td>&lt;comment&gt;&lt;user&gt;mgaudet&lt;/user&gt;&lt;body&gt;This has be...</td>\n",
              "      <td>DanHeidinga</td>\n",
              "      <td>comp:build</td>\n",
              "      <td>2017-09-15T04:24:17Z</td>\n",
              "      <td>2017-11-09T14:15:08Z</td>\n",
              "      <td>Title: Enable a travis.ci-based PR build for l...</td>\n",
              "      <td>2</td>\n",
              "    </tr>\n",
              "  </tbody>\n",
              "</table>\n",
              "</div>"
            ],
            "text/plain": [
              "   Unnamed: 0  issue_number  \\\n",
              "0           9            10   \n",
              "1          14            15   \n",
              "2          16            17   \n",
              "3          21            22   \n",
              "4          23            24   \n",
              "\n",
              "                                           issue_url  \\\n",
              "0   https://github.com/eclipse-openj9/openj9/pull/10   \n",
              "1   https://github.com/eclipse-openj9/openj9/pull/15   \n",
              "2   https://github.com/eclipse-openj9/openj9/pull/17   \n",
              "3   https://github.com/eclipse-openj9/openj9/pull/22   \n",
              "4  https://github.com/eclipse-openj9/openj9/issue...   \n",
              "\n",
              "                                         issue_title  \\\n",
              "0     Update README.md with proper AdoptOpenJDK link   \n",
              "1             Refactor and clean up CodeCacheManager   \n",
              "2    WIP Add support for function pointers in Panama   \n",
              "3                       fix illegal-access behaviour   \n",
              "4  Enable a travis.ci-based PR build for linux x8...   \n",
              "\n",
              "                                          issue_body issue_state      creator  \\\n",
              "0  Also remove the the coming soon reference, sin...      closed     pshipton   \n",
              "1  - Change invocation parameters of superclass c...      closed     lmaisons   \n",
              "2  When invoking a native function (with Panama) ...      closed       tajila   \n",
              "3  fix illegal-access behaviour\\r\\n\\r\\nThis is th...      closed       tajila   \n",
              "4  Build a basic PR build based off the linux_x86...      closed  DanHeidinga   \n",
              "\n",
              "                                            comments      assignees  \\\n",
              "0                                                NaN  charliegracie   \n",
              "1  <comment><user>lmaisons</user><body>This has a...        0xdaryl   \n",
              "2  <comment><user>tajila</user><body>Thanks for t...    DanHeidinga   \n",
              "3  <comment><user>DanHeidinga</user><body>@tajila...    DanHeidinga   \n",
              "4  <comment><user>mgaudet</user><body>This has be...    DanHeidinga   \n",
              "\n",
              "                    labels            created_at             closed_at  \\\n",
              "0                 comp:doc  2017-09-14T12:24:25Z  2017-09-14T12:42:15Z   \n",
              "1                 comp:jit  2017-09-14T14:30:51Z  2017-09-27T20:01:54Z   \n",
              "2  comp:vm, project:panama  2017-09-14T16:10:32Z  2019-12-04T15:50:33Z   \n",
              "3            jdk9, comp:vm  2017-09-14T20:53:59Z  2017-09-15T14:23:40Z   \n",
              "4               comp:build  2017-09-15T04:24:17Z  2017-11-09T14:15:08Z   \n",
              "\n",
              "                                                text  owner_id  \n",
              "0  Title: Update README.md with proper AdoptOpenJ...         0  \n",
              "1  Title: Refactor and clean up CodeCacheManager\\...         1  \n",
              "2  Title: WIP Add support for function pointers i...         2  \n",
              "3  Title: fix illegal-access behaviour\\nDescripti...         2  \n",
              "4  Title: Enable a travis.ci-based PR build for l...         2  "
            ]
          },
          "execution_count": 8,
          "metadata": {},
          "output_type": "execute_result"
        }
      ],
      "source": [
        "df.head()"
      ]
    },
    {
      "cell_type": "code",
      "execution_count": 9,
      "metadata": {},
      "outputs": [
        {
          "data": {
            "text/plain": [
              "47"
            ]
          },
          "execution_count": 9,
          "metadata": {},
          "output_type": "execute_result"
        }
      ],
      "source": [
        "len(df[\"assignees\"].unique())"
      ]
    },
    {
      "cell_type": "code",
      "execution_count": 10,
      "metadata": {},
      "outputs": [
        {
          "data": {
            "text/html": [
              "<div>\n",
              "<style scoped>\n",
              "    .dataframe tbody tr th:only-of-type {\n",
              "        vertical-align: middle;\n",
              "    }\n",
              "\n",
              "    .dataframe tbody tr th {\n",
              "        vertical-align: top;\n",
              "    }\n",
              "\n",
              "    .dataframe thead th {\n",
              "        text-align: right;\n",
              "    }\n",
              "</style>\n",
              "<table border=\"1\" class=\"dataframe\">\n",
              "  <thead>\n",
              "    <tr style=\"text-align: right;\">\n",
              "      <th></th>\n",
              "      <th>Unnamed: 0</th>\n",
              "      <th>issue_number</th>\n",
              "      <th>issue_url</th>\n",
              "      <th>issue_title</th>\n",
              "      <th>issue_body</th>\n",
              "      <th>issue_state</th>\n",
              "      <th>creator</th>\n",
              "      <th>comments</th>\n",
              "      <th>assignees</th>\n",
              "      <th>labels</th>\n",
              "      <th>created_at</th>\n",
              "      <th>closed_at</th>\n",
              "      <th>text</th>\n",
              "      <th>owner_id</th>\n",
              "    </tr>\n",
              "  </thead>\n",
              "  <tbody>\n",
              "    <tr>\n",
              "      <th>0</th>\n",
              "      <td>9</td>\n",
              "      <td>10</td>\n",
              "      <td>https://github.com/eclipse-openj9/openj9/pull/10</td>\n",
              "      <td>Update README.md with proper AdoptOpenJDK link</td>\n",
              "      <td>Also remove the the coming soon reference, sin...</td>\n",
              "      <td>closed</td>\n",
              "      <td>pshipton</td>\n",
              "      <td>NaN</td>\n",
              "      <td>charliegracie</td>\n",
              "      <td>comp:doc</td>\n",
              "      <td>2017-09-14T12:24:25Z</td>\n",
              "      <td>2017-09-14T12:42:15Z</td>\n",
              "      <td>Title: Update README.md with proper AdoptOpenJ...</td>\n",
              "      <td>0</td>\n",
              "    </tr>\n",
              "    <tr>\n",
              "      <th>1</th>\n",
              "      <td>14</td>\n",
              "      <td>15</td>\n",
              "      <td>https://github.com/eclipse-openj9/openj9/pull/15</td>\n",
              "      <td>Refactor and clean up CodeCacheManager</td>\n",
              "      <td>- Change invocation parameters of superclass c...</td>\n",
              "      <td>closed</td>\n",
              "      <td>lmaisons</td>\n",
              "      <td>&lt;comment&gt;&lt;user&gt;lmaisons&lt;/user&gt;&lt;body&gt;This has a...</td>\n",
              "      <td>0xdaryl</td>\n",
              "      <td>comp:jit</td>\n",
              "      <td>2017-09-14T14:30:51Z</td>\n",
              "      <td>2017-09-27T20:01:54Z</td>\n",
              "      <td>Title: Refactor and clean up CodeCacheManager\\...</td>\n",
              "      <td>1</td>\n",
              "    </tr>\n",
              "    <tr>\n",
              "      <th>2</th>\n",
              "      <td>16</td>\n",
              "      <td>17</td>\n",
              "      <td>https://github.com/eclipse-openj9/openj9/pull/17</td>\n",
              "      <td>WIP Add support for function pointers in Panama</td>\n",
              "      <td>When invoking a native function (with Panama) ...</td>\n",
              "      <td>closed</td>\n",
              "      <td>tajila</td>\n",
              "      <td>&lt;comment&gt;&lt;user&gt;tajila&lt;/user&gt;&lt;body&gt;Thanks for t...</td>\n",
              "      <td>DanHeidinga</td>\n",
              "      <td>comp:vm, project:panama</td>\n",
              "      <td>2017-09-14T16:10:32Z</td>\n",
              "      <td>2019-12-04T15:50:33Z</td>\n",
              "      <td>Title: WIP Add support for function pointers i...</td>\n",
              "      <td>2</td>\n",
              "    </tr>\n",
              "    <tr>\n",
              "      <th>3</th>\n",
              "      <td>21</td>\n",
              "      <td>22</td>\n",
              "      <td>https://github.com/eclipse-openj9/openj9/pull/22</td>\n",
              "      <td>fix illegal-access behaviour</td>\n",
              "      <td>fix illegal-access behaviour\\r\\n\\r\\nThis is th...</td>\n",
              "      <td>closed</td>\n",
              "      <td>tajila</td>\n",
              "      <td>&lt;comment&gt;&lt;user&gt;DanHeidinga&lt;/user&gt;&lt;body&gt;@tajila...</td>\n",
              "      <td>DanHeidinga</td>\n",
              "      <td>jdk9, comp:vm</td>\n",
              "      <td>2017-09-14T20:53:59Z</td>\n",
              "      <td>2017-09-15T14:23:40Z</td>\n",
              "      <td>Title: fix illegal-access behaviour\\nDescripti...</td>\n",
              "      <td>2</td>\n",
              "    </tr>\n",
              "    <tr>\n",
              "      <th>4</th>\n",
              "      <td>23</td>\n",
              "      <td>24</td>\n",
              "      <td>https://github.com/eclipse-openj9/openj9/issue...</td>\n",
              "      <td>Enable a travis.ci-based PR build for linux x8...</td>\n",
              "      <td>Build a basic PR build based off the linux_x86...</td>\n",
              "      <td>closed</td>\n",
              "      <td>DanHeidinga</td>\n",
              "      <td>&lt;comment&gt;&lt;user&gt;mgaudet&lt;/user&gt;&lt;body&gt;This has be...</td>\n",
              "      <td>DanHeidinga</td>\n",
              "      <td>comp:build</td>\n",
              "      <td>2017-09-15T04:24:17Z</td>\n",
              "      <td>2017-11-09T14:15:08Z</td>\n",
              "      <td>Title: Enable a travis.ci-based PR build for l...</td>\n",
              "      <td>2</td>\n",
              "    </tr>\n",
              "  </tbody>\n",
              "</table>\n",
              "</div>"
            ],
            "text/plain": [
              "   Unnamed: 0  issue_number  \\\n",
              "0           9            10   \n",
              "1          14            15   \n",
              "2          16            17   \n",
              "3          21            22   \n",
              "4          23            24   \n",
              "\n",
              "                                           issue_url  \\\n",
              "0   https://github.com/eclipse-openj9/openj9/pull/10   \n",
              "1   https://github.com/eclipse-openj9/openj9/pull/15   \n",
              "2   https://github.com/eclipse-openj9/openj9/pull/17   \n",
              "3   https://github.com/eclipse-openj9/openj9/pull/22   \n",
              "4  https://github.com/eclipse-openj9/openj9/issue...   \n",
              "\n",
              "                                         issue_title  \\\n",
              "0     Update README.md with proper AdoptOpenJDK link   \n",
              "1             Refactor and clean up CodeCacheManager   \n",
              "2    WIP Add support for function pointers in Panama   \n",
              "3                       fix illegal-access behaviour   \n",
              "4  Enable a travis.ci-based PR build for linux x8...   \n",
              "\n",
              "                                          issue_body issue_state      creator  \\\n",
              "0  Also remove the the coming soon reference, sin...      closed     pshipton   \n",
              "1  - Change invocation parameters of superclass c...      closed     lmaisons   \n",
              "2  When invoking a native function (with Panama) ...      closed       tajila   \n",
              "3  fix illegal-access behaviour\\r\\n\\r\\nThis is th...      closed       tajila   \n",
              "4  Build a basic PR build based off the linux_x86...      closed  DanHeidinga   \n",
              "\n",
              "                                            comments      assignees  \\\n",
              "0                                                NaN  charliegracie   \n",
              "1  <comment><user>lmaisons</user><body>This has a...        0xdaryl   \n",
              "2  <comment><user>tajila</user><body>Thanks for t...    DanHeidinga   \n",
              "3  <comment><user>DanHeidinga</user><body>@tajila...    DanHeidinga   \n",
              "4  <comment><user>mgaudet</user><body>This has be...    DanHeidinga   \n",
              "\n",
              "                    labels            created_at             closed_at  \\\n",
              "0                 comp:doc  2017-09-14T12:24:25Z  2017-09-14T12:42:15Z   \n",
              "1                 comp:jit  2017-09-14T14:30:51Z  2017-09-27T20:01:54Z   \n",
              "2  comp:vm, project:panama  2017-09-14T16:10:32Z  2019-12-04T15:50:33Z   \n",
              "3            jdk9, comp:vm  2017-09-14T20:53:59Z  2017-09-15T14:23:40Z   \n",
              "4               comp:build  2017-09-15T04:24:17Z  2017-11-09T14:15:08Z   \n",
              "\n",
              "                                                text  owner_id  \n",
              "0  Title: Update README.md with proper AdoptOpenJ...         0  \n",
              "1  Title: Refactor and clean up CodeCacheManager\\...         1  \n",
              "2  Title: WIP Add support for function pointers i...         2  \n",
              "3  Title: fix illegal-access behaviour\\nDescripti...         2  \n",
              "4  Title: Enable a travis.ci-based PR build for l...         2  "
            ]
          },
          "execution_count": 10,
          "metadata": {},
          "output_type": "execute_result"
        }
      ],
      "source": [
        "df.head()"
      ]
    },
    {
      "cell_type": "code",
      "execution_count": 11,
      "metadata": {
        "colab": {
          "base_uri": "https://localhost:8080/"
        },
        "id": "g7qCf2hQljq1",
        "outputId": "4dbc3210-087a-4703-b0a5-6f9328da9bc7"
      },
      "outputs": [
        {
          "name": "stdout",
          "output_type": "stream",
          "text": [
            "5103\n"
          ]
        }
      ],
      "source": [
        "print(len(df))"
      ]
    },
    {
      "cell_type": "code",
      "execution_count": 12,
      "metadata": {
        "colab": {
          "base_uri": "https://localhost:8080/",
          "height": 423
        },
        "id": "brKE-wY2ljq2",
        "outputId": "392d0662-1aa1-4a06-da60-70d3a3139666"
      },
      "outputs": [
        {
          "data": {
            "text/plain": [
              "<Axes: ylabel='count'>"
            ]
          },
          "execution_count": 12,
          "metadata": {},
          "output_type": "execute_result"
        },
        {
          "data": {
            "image/png": "[encoded data removed]",
            "text/plain": [
              "<Figure size 640x480 with 1 Axes>"
            ]
          },
          "metadata": {},
          "output_type": "display_data"
        }
      ],
      "source": [
        "df[\"assignees\"].value_counts().plot(kind=\"pie\")"
      ]
    },
    {
      "cell_type": "code",
      "execution_count": 13,
      "metadata": {},
      "outputs": [],
      "source": [
        "from sklearn.model_selection import train_test_split"
      ]
    },
    {
      "cell_type": "code",
      "execution_count": 14,
      "metadata": {
        "colab": {
          "base_uri": "https://localhost:8080/"
        },
        "id": "OMHP35ORljq2",
        "outputId": "39cdc362-052d-4374-87ec-45893e3517bd"
      },
      "outputs": [
        {
          "name": "stdout",
          "output_type": "stream",
          "text": [
            "47 46\n"
          ]
        }
      ],
      "source": [
        "np.random.seed(112)\n",
        "X_train, X_test = train_test_split(df, test_size=0.2)\n",
        "\n",
        "print(len(X_train[\"assignees\"].unique()), len(X_test[\"assignees\"].unique()))"
      ]
    },
    {
      "cell_type": "code",
      "execution_count": 15,
      "metadata": {},
      "outputs": [],
      "source": [
        "# counts = np.bincount(X_train[\"owner_id\"])\n",
        "# labels_weights = 1. / counts\n",
        "# weights = labels_weights[X_train[\"owner_id\"]]\n",
        "# sampler = WeightedRandomSampler(weights, len(weights))"
      ]
    },
    {
      "cell_type": "code",
      "execution_count": 16,
      "metadata": {
        "id": "R-LMku-lljq2"
      },
      "outputs": [],
      "source": [
        "class Dataset(torch.utils.data.Dataset):\n",
        "    def __init__(self, df, tokenizer):\n",
        "        self.tokenizer = tokenizer\n",
        "        self.labels = [label for label in df['owner_id']]\n",
        "        self.texts = [self.tokenizer(text,\n",
        "                               padding='max_length', max_length = 512, truncation=True,\n",
        "                                return_tensors=\"pt\") for text in df['text']]\n",
        "\n",
        "    def classes(self):\n",
        "        return self.labels\n",
        "\n",
        "    def __len__(self):\n",
        "        return len(self.labels)\n",
        "\n",
        "    def get_batch_labels(self, idx):\n",
        "        # Fetch a batch of labels\n",
        "        return np.array(self.labels[idx])\n",
        "\n",
        "    def get_batch_texts(self, idx):\n",
        "        # Fetch a batch of inputs\n",
        "        return self.texts[idx]\n",
        "\n",
        "    def __getitem__(self, idx):\n",
        "\n",
        "        batch_texts = self.get_batch_texts(idx)\n",
        "        batch_y = self.get_batch_labels(idx)\n",
        "\n",
        "        return batch_texts, batch_y"
      ]
    },
    {
      "cell_type": "code",
      "execution_count": 17,
      "metadata": {},
      "outputs": [],
      "source": [
        "class LBTLikeClassifier(nn.Module):\n",
        "    def __init__(self, model_name: str, output_size, num_filters=256, bert_layers=4, embed_size=768, dropout = 0.1) -> None:\n",
        "        super().__init__()\n",
        "        self.base_model = RobertaModel.from_pretrained(model_name, output_hidden_states=True)\n",
        "        filter_sizes = [3, 4, 5, 6]\n",
        "        self.num_filters = num_filters\n",
        "        self.bert_layers = bert_layers\n",
        "        self.convs1 = nn.ModuleList([nn.Conv2d(self.bert_layers, num_filters, (K, embed_size)) for K in filter_sizes])\n",
        "        self.dropout = nn.Dropout(dropout)\n",
        "        self.fc1 = nn.Linear(len(filter_sizes)*num_filters + embed_size, output_size)\n",
        "        self.relu = nn.ReLU()\n",
        "\n",
        "    def forward(self, input_ids, attention_mask):\n",
        "        x = self.base_model(input_ids, attention_mask = attention_mask)\n",
        "        hidden_states = x[\"hidden_states\"][-self.bert_layers:]\n",
        "        pooler_output = x[\"pooler_output\"]\n",
        "        x = torch.stack(hidden_states, dim=1)\n",
        "        x = [F.relu(conv(x)).squeeze(3) for conv in self.convs1]\n",
        "        x = [F.max_pool1d(i, i.size(2)).squeeze(2) for i in x]\n",
        "        x = torch.cat(x, 1)\n",
        "        x = torch.cat([pooler_output, x], 1)\n",
        "        x = self.dropout(x)\n",
        "        logit = self.fc1(x)\n",
        "\n",
        "        return self.relu(x)\n"
      ]
    },
    {
      "cell_type": "code",
      "execution_count": 18,
      "metadata": {
        "id": "-SRJ7jLKljq2"
      },
      "outputs": [],
      "source": [
        "class Classifier(nn.Module):\n",
        "    def __init__(self, model_name: str, output_size, embed_size=1024, dropout = 0.1) -> None:\n",
        "        super().__init__()\n",
        "        self.base_model = RobertaModel.from_pretrained(model_name, output_hidden_states=True)\n",
        "        filter_sizes = [3, 4, 5, 6]\n",
        "        num_filters = 256\n",
        "        self._tokenizer = RobertaTokenizer.from_pretrained(model_name)\n",
        "        self.convs1 = nn.ModuleList([nn.Conv2d(4, num_filters, (K, embed_size)) for K in filter_sizes])\n",
        "        self.dropout = nn.Dropout(dropout)\n",
        "        self.fc1 = nn.Linear(len(filter_sizes)*num_filters, output_size)\n",
        "        self.relu = nn.ReLU()\n",
        "\n",
        "    def forward(self, input_ids, attention_mask):\n",
        "        x = self.base_model(input_ids, attention_mask = attention_mask)[2][-4:]\n",
        "        x = torch.stack(x, dim=1)\n",
        "        x = [F.relu(conv(x)).squeeze(3) for conv in self.convs1] \n",
        "        x = [F.max_pool1d(i, i.size(2)).squeeze(2) for i in x]  \n",
        "        x = torch.cat(x, 1)\n",
        "        x = self.dropout(x)\n",
        "        logit = self.fc1(x)  \n",
        "\n",
        "        return self.relu(logit)\n",
        "    \n",
        "    def tokenizer(self) -> RobertaTokenizer:\n",
        "        return self._tokenizer\n"
      ]
    },
    {
      "cell_type": "code",
      "execution_count": 19,
      "metadata": {
        "colab": {
          "base_uri": "https://localhost:8080/",
          "height": 185,
          "referenced_widgets": [
            "de0cfd344b124ecb824236fb275fe2f5",
            "adc2784c4ac7413ba5580e0b33708a12",
            "24a58ef6fe6a4109915369a6eeae3338",
            "b681fdca75014187b2f71654962eebf5",
            "4bf9ba6922914a73b82fd21046a8cd65",
            "79451d94e83a49dea269d48542856f06",
            "4d043728724f4c8a90fa341d59c90284",
            "c868ad3e4aee4eb0a57823eea21b4eb9",
            "1fc017f70c03466bb4e69d3104fa560b",
            "884aca7e1ed74e43aa58a0a99b98d479",
            "83af8edcf7ea41229e7f1a4ef7360a4a",
            "5ea83e9f34224e089408b07f904f3710",
            "24a34163989e4c49be2db4f119cc0611",
            "c5d931fa523c4d6f94dc4c4d4476c03f",
            "98960af25a4d4aa09f527a3615fa195e",
            "36413e7c0a664892afe561f5ab605e57",
            "d2af56977bc4409cb46bfe881fec89b6",
            "5359199b61a74a3f84a4c6aafb30f8fa",
            "e21a3b6417d441ea82f962901a44aee1",
            "f434480e98974cefa060e84d126a5f71",
            "1cb615aadcf54929905b51caeb5a2128",
            "23f4a8aa21e3455b9c7d57734980fd00",
            "34ee3dcd7f50419c96bcec4063709dff",
            "587f407537e94a6aa0049639e8bb05ad",
            "4b60ac7be2cd4199adf98633f0663ad2",
            "655f618162da476ea2f4eed237134dd9",
            "f6efe5bff81e4afca469690f27ac21bb",
            "1abba754403e467d88397adbefba5f39",
            "76771682b1d64e9c8e6cf6104066435c",
            "d26a4496e2f94cd78af2da75c1092266",
            "c425bf5440d24001a7fe0de35873bb17",
            "f82540c948ae4d369e9498fea3b38f00",
            "34879c980641445ab7354fcc75210306"
          ]
        },
        "id": "DHZjW9JuofD2",
        "outputId": "9faff1fd-87a1-4da7-cabc-7998f01f4017"
      },
      "outputs": [
        {
          "name": "stderr",
          "output_type": "stream",
          "text": [
            "Some weights of RobertaModel were not initialized from the model checkpoint at roberta-base and are newly initialized: ['roberta.pooler.dense.weight', 'roberta.pooler.dense.bias']\n",
            "You should probably TRAIN this model on a down-stream task to be able to use it for predictions and inference.\n"
          ]
        },
        {
          "data": {
            "text/html": [
              "Tracking run with wandb version 0.16.2"
            ],
            "text/plain": [
              "<IPython.core.display.HTML object>"
            ]
          },
          "metadata": {},
          "output_type": "display_data"
        },
        {
          "data": {
            "text/html": [
              "Run data is saved locally in <code>/home/mdafifal.mamun/notebooks/triagerX/wandb/run-20240115_111718-ezn4u53o</code>"
            ],
            "text/plain": [
              "<IPython.core.display.HTML object>"
            ]
          },
          "metadata": {},
          "output_type": "display_data"
        },
        {
          "data": {
            "text/html": [
              "Syncing run <strong><a href='https://wandb.ai/afifaniks/triager_x/runs/ezn4u53o' target=\"_blank\">experiment_no_strat_imbalanced_5</a></strong> to <a href='https://wandb.ai/afifaniks/triager_x' target=\"_blank\">Weights & Biases</a> (<a href='https://wandb.me/run' target=\"_blank\">docs</a>)<br/>"
            ],
            "text/plain": [
              "<IPython.core.display.HTML object>"
            ]
          },
          "metadata": {},
          "output_type": "display_data"
        },
        {
          "data": {
            "text/html": [
              " View project at <a href='https://wandb.ai/afifaniks/triager_x' target=\"_blank\">https://wandb.ai/afifaniks/triager_x</a>"
            ],
            "text/plain": [
              "<IPython.core.display.HTML object>"
            ]
          },
          "metadata": {},
          "output_type": "display_data"
        },
        {
          "data": {
            "text/html": [
              " View run at <a href='https://wandb.ai/afifaniks/triager_x/runs/ezn4u53o' target=\"_blank\">https://wandb.ai/afifaniks/triager_x/runs/ezn4u53o</a>"
            ],
            "text/plain": [
              "<IPython.core.display.HTML object>"
            ]
          },
          "metadata": {},
          "output_type": "display_data"
        },
        {
          "name": "stdout",
          "output_type": "stream",
          "text": [
            "Using CUDA...\n",
            "Epoch: 0\n"
          ]
        },
        {
          "name": "stderr",
          "output_type": "stream",
          "text": [
            "  0%|                                                                                                                                                                     | 0/273 [00:00<?, ?it/s]/home/mdafifal.mamun/miniconda3/envs/trx/lib/python3.10/site-packages/torch/nn/modules/conv.py:456: UserWarning: Applied workaround for CuDNN issue, install nvrtc.so (Triggered internally at /opt/conda/conda-bld/pytorch_1702400366987/work/aten/src/ATen/native/cudnn/Conv_v8.cpp:80.)\n",
            "  return F.conv2d(input, weight, bias, self.stride,\n",
            "100%|███████████████████████████████████████████████████████████████████████████████████████████████████████████████████████████████████████████████████████████| 273/273 [01:51<00:00,  2.45it/s]\n"
          ]
        },
        {
          "name": "stdout",
          "output_type": "stream",
          "text": [
            "Epochs: 1 | Train Loss:  0.220                 | Train Accuracy:  0.187                 | Val Loss:  0.191                 | Val Accuracy:  0.290\n",
            "Found new best model. Saving weights...\n",
            "Epoch: 1\n"
          ]
        },
        {
          "name": "stderr",
          "output_type": "stream",
          "text": [
            " 72%|███████████████████████████████████████████████████████████████████████████████████████████████████████████████▊                                           | 197/273 [01:14<00:28,  2.65it/s]\n"
          ]
        },
        {
          "ename": "KeyboardInterrupt",
          "evalue": "",
          "output_type": "error",
          "traceback": [
            "\u001b[0;31m---------------------------------------------------------------------------\u001b[0m",
            "\u001b[0;31mKeyboardInterrupt\u001b[0m                         Traceback (most recent call last)",
            "Cell \u001b[0;32mIn[19], line 105\u001b[0m\n\u001b[1;32m    102\u001b[0m tokenizer \u001b[38;5;241m=\u001b[39m model\u001b[38;5;241m.\u001b[39mtokenizer()\n\u001b[1;32m    103\u001b[0m LR \u001b[38;5;241m=\u001b[39m \u001b[38;5;241m1e-6\u001b[39m\n\u001b[0;32m--> 105\u001b[0m \u001b[43mtrain\u001b[49m\u001b[43m(\u001b[49m\u001b[43mmodel\u001b[49m\u001b[43m,\u001b[49m\u001b[43m \u001b[49m\u001b[43mtokenizer\u001b[49m\u001b[43m,\u001b[49m\u001b[43m \u001b[49m\u001b[43mX_train\u001b[49m\u001b[43m,\u001b[49m\u001b[43m \u001b[49m\u001b[43mX_test\u001b[49m\u001b[43m,\u001b[49m\u001b[43m \u001b[49m\u001b[43mLR\u001b[49m\u001b[43m,\u001b[49m\u001b[43m \u001b[49m\u001b[43mEPOCHS\u001b[49m\u001b[43m,\u001b[49m\u001b[43m \u001b[49m\u001b[38;5;124;43m\"\u001b[39;49m\u001b[38;5;124;43mno_strat_imbalanced_5.pt\u001b[39;49m\u001b[38;5;124;43m\"\u001b[39;49m\u001b[43m,\u001b[49m\u001b[43m \u001b[49m\u001b[38;5;124;43m\"\u001b[39;49m\u001b[38;5;124;43mno_strat_imbalanced_5\u001b[39;49m\u001b[38;5;124;43m\"\u001b[39;49m\u001b[43m)\u001b[49m\n",
            "Cell \u001b[0;32mIn[19], line 55\u001b[0m, in \u001b[0;36mtrain\u001b[0;34m(model, tokenizer, train_data, val_data, learning_rate, epochs, out_file, run, batch_size)\u001b[0m\n\u001b[1;32m     52\u001b[0m     total_acc_train \u001b[38;5;241m+\u001b[39m\u001b[38;5;241m=\u001b[39m acc\n\u001b[1;32m     54\u001b[0m     model\u001b[38;5;241m.\u001b[39mzero_grad()\n\u001b[0;32m---> 55\u001b[0m     \u001b[43mbatch_loss\u001b[49m\u001b[38;5;241;43m.\u001b[39;49m\u001b[43mbackward\u001b[49m\u001b[43m(\u001b[49m\u001b[43m)\u001b[49m\n\u001b[1;32m     56\u001b[0m     optimizer\u001b[38;5;241m.\u001b[39mstep()\n\u001b[1;32m     58\u001b[0m total_acc_val \u001b[38;5;241m=\u001b[39m \u001b[38;5;241m0\u001b[39m\n",
            "File \u001b[0;32m~/miniconda3/envs/trx/lib/python3.10/site-packages/torch/_tensor.py:492\u001b[0m, in \u001b[0;36mTensor.backward\u001b[0;34m(self, gradient, retain_graph, create_graph, inputs)\u001b[0m\n\u001b[1;32m    482\u001b[0m \u001b[38;5;28;01mif\u001b[39;00m has_torch_function_unary(\u001b[38;5;28mself\u001b[39m):\n\u001b[1;32m    483\u001b[0m     \u001b[38;5;28;01mreturn\u001b[39;00m handle_torch_function(\n\u001b[1;32m    484\u001b[0m         Tensor\u001b[38;5;241m.\u001b[39mbackward,\n\u001b[1;32m    485\u001b[0m         (\u001b[38;5;28mself\u001b[39m,),\n\u001b[0;32m   (...)\u001b[0m\n\u001b[1;32m    490\u001b[0m         inputs\u001b[38;5;241m=\u001b[39minputs,\n\u001b[1;32m    491\u001b[0m     )\n\u001b[0;32m--> 492\u001b[0m \u001b[43mtorch\u001b[49m\u001b[38;5;241;43m.\u001b[39;49m\u001b[43mautograd\u001b[49m\u001b[38;5;241;43m.\u001b[39;49m\u001b[43mbackward\u001b[49m\u001b[43m(\u001b[49m\n\u001b[1;32m    493\u001b[0m \u001b[43m    \u001b[49m\u001b[38;5;28;43mself\u001b[39;49m\u001b[43m,\u001b[49m\u001b[43m \u001b[49m\u001b[43mgradient\u001b[49m\u001b[43m,\u001b[49m\u001b[43m \u001b[49m\u001b[43mretain_graph\u001b[49m\u001b[43m,\u001b[49m\u001b[43m \u001b[49m\u001b[43mcreate_graph\u001b[49m\u001b[43m,\u001b[49m\u001b[43m \u001b[49m\u001b[43minputs\u001b[49m\u001b[38;5;241;43m=\u001b[39;49m\u001b[43minputs\u001b[49m\n\u001b[1;32m    494\u001b[0m \u001b[43m\u001b[49m\u001b[43m)\u001b[49m\n",
            "File \u001b[0;32m~/miniconda3/envs/trx/lib/python3.10/site-packages/torch/autograd/__init__.py:251\u001b[0m, in \u001b[0;36mbackward\u001b[0;34m(tensors, grad_tensors, retain_graph, create_graph, grad_variables, inputs)\u001b[0m\n\u001b[1;32m    246\u001b[0m     retain_graph \u001b[38;5;241m=\u001b[39m create_graph\n\u001b[1;32m    248\u001b[0m \u001b[38;5;66;03m# The reason we repeat the same comment below is that\u001b[39;00m\n\u001b[1;32m    249\u001b[0m \u001b[38;5;66;03m# some Python versions print out the first line of a multi-line function\u001b[39;00m\n\u001b[1;32m    250\u001b[0m \u001b[38;5;66;03m# calls in the traceback and some print out the last line\u001b[39;00m\n\u001b[0;32m--> 251\u001b[0m \u001b[43mVariable\u001b[49m\u001b[38;5;241;43m.\u001b[39;49m\u001b[43m_execution_engine\u001b[49m\u001b[38;5;241;43m.\u001b[39;49m\u001b[43mrun_backward\u001b[49m\u001b[43m(\u001b[49m\u001b[43m  \u001b[49m\u001b[38;5;66;43;03m# Calls into the C++ engine to run the backward pass\u001b[39;49;00m\n\u001b[1;32m    252\u001b[0m \u001b[43m    \u001b[49m\u001b[43mtensors\u001b[49m\u001b[43m,\u001b[49m\n\u001b[1;32m    253\u001b[0m \u001b[43m    \u001b[49m\u001b[43mgrad_tensors_\u001b[49m\u001b[43m,\u001b[49m\n\u001b[1;32m    254\u001b[0m \u001b[43m    \u001b[49m\u001b[43mretain_graph\u001b[49m\u001b[43m,\u001b[49m\n\u001b[1;32m    255\u001b[0m \u001b[43m    \u001b[49m\u001b[43mcreate_graph\u001b[49m\u001b[43m,\u001b[49m\n\u001b[1;32m    256\u001b[0m \u001b[43m    \u001b[49m\u001b[43minputs\u001b[49m\u001b[43m,\u001b[49m\n\u001b[1;32m    257\u001b[0m \u001b[43m    \u001b[49m\u001b[43mallow_unreachable\u001b[49m\u001b[38;5;241;43m=\u001b[39;49m\u001b[38;5;28;43;01mTrue\u001b[39;49;00m\u001b[43m,\u001b[49m\n\u001b[1;32m    258\u001b[0m \u001b[43m    \u001b[49m\u001b[43maccumulate_grad\u001b[49m\u001b[38;5;241;43m=\u001b[39;49m\u001b[38;5;28;43;01mTrue\u001b[39;49;00m\u001b[43m,\u001b[49m\n\u001b[1;32m    259\u001b[0m \u001b[43m\u001b[49m\u001b[43m)\u001b[49m\n",
            "\u001b[0;31mKeyboardInterrupt\u001b[0m: "
          ]
        },
        {
          "name": "stderr",
          "output_type": "stream",
          "text": [
            "wandb: ERROR Dropped streaming file chunk (see wandb/debug-internal.log)\n",
            "wandb: ERROR Dropped streaming file chunk (see wandb/debug-internal.log)\n"
          ]
        }
      ],
      "source": [
        "def train(model, tokenizer, train_data, val_data, learning_rate, epochs, out_file, run, batch_size = 15):\n",
        "    train, val = Dataset(train_data, tokenizer), Dataset(val_data, tokenizer)\n",
        "\n",
        "    wandb.init(\n",
        "        # Set the project where this run will be logged\n",
        "        project=\"triager_x\", \n",
        "        # We pass a run name (otherwise it’ll be randomly assigned, like sunshine-lollypop-10)\n",
        "        name=f\"experiment_{run}\", \n",
        "        # Track hyperparameters and run metadata\n",
        "        config={\n",
        "        \"learning_rate\": learning_rate,\n",
        "        \"architecture\": \"Roberta-CNN\",\n",
        "        \"dataset\": \"openj9\",\n",
        "        \"epochs\": epochs,\n",
        "    })\n",
        "    \n",
        "\n",
        "    train_dataloader = torch.utils.data.DataLoader(\n",
        "        train, batch_size=batch_size, shuffle=True\n",
        "        # sampler=sampler\n",
        "    )\n",
        "    val_dataloader = torch.utils.data.DataLoader(val, batch_size=batch_size)\n",
        "\n",
        "    use_cuda = torch.cuda.is_available()\n",
        "    device = torch.device(\"cuda\" if use_cuda else \"cpu\")\n",
        "    best_loss = float(\"inf\")\n",
        "\n",
        "    criterion = nn.CrossEntropyLoss()\n",
        "    optimizer = Adam(model.parameters(), lr=learning_rate)\n",
        "\n",
        "    if use_cuda:\n",
        "        print(\"Using CUDA...\")\n",
        "        model = model.cuda()\n",
        "        criterion = criterion.cuda()\n",
        "\n",
        "    for epoch_num in range(epochs):\n",
        "        print(f\"Epoch: {epoch_num}\")\n",
        "        total_acc_train = 0\n",
        "        total_loss_train = 0\n",
        "\n",
        "        for train_input, train_label in tqdm(train_dataloader):\n",
        "            train_label = train_label.to(device)\n",
        "            mask = train_input[\"attention_mask\"].to(device)\n",
        "            input_id = train_input[\"input_ids\"].squeeze(1).to(device)\n",
        "\n",
        "            output = model(input_id, mask)\n",
        "\n",
        "            batch_loss = criterion(output, train_label.long())\n",
        "            total_loss_train += batch_loss.item()\n",
        "\n",
        "            acc = (output.argmax(dim=1) == train_label).sum().item()\n",
        "            total_acc_train += acc\n",
        "\n",
        "            model.zero_grad()\n",
        "            batch_loss.backward()\n",
        "            optimizer.step()\n",
        "\n",
        "        total_acc_val = 0\n",
        "        total_loss_val = 0\n",
        "\n",
        "        with torch.no_grad():\n",
        "\n",
        "            for val_input, val_label in val_dataloader:\n",
        "\n",
        "                val_label = val_label.to(device)\n",
        "                mask = val_input[\"attention_mask\"].to(device)\n",
        "                input_id = val_input[\"input_ids\"].squeeze(1).to(device)\n",
        "\n",
        "                output = model(input_id, mask)\n",
        "\n",
        "                batch_loss = criterion(output, val_label.long())\n",
        "                total_loss_val += batch_loss.item()\n",
        "\n",
        "                acc = (output.argmax(dim=1) == val_label).sum().item()\n",
        "                total_acc_val += acc\n",
        "\n",
        "        val_loss = total_loss_val / len(val_data)\n",
        "\n",
        "        log = f\"Epochs: {epoch_num + 1} | Train Loss: {total_loss_train / len(train_data): .3f} \\\n",
        "                | Train Accuracy: {total_acc_train / len(train_data): .3f} \\\n",
        "                | Val Loss: {total_loss_val / len(val_data): .3f} \\\n",
        "                | Val Accuracy: {total_acc_val / len(val_data): .3f}\"\n",
        "        print(log)\n",
        "\n",
        "        wandb.log({\n",
        "            \"train_acc\": total_acc_train / len(train_data), \n",
        "            \"train_loss\": total_loss_train / len(train_data),\n",
        "            \"val_acc\": total_acc_val / len(val_data),\n",
        "            \"val_loss\": total_loss_val / len(val_data)\n",
        "            })\n",
        "\n",
        "        if val_loss < best_loss:\n",
        "            print(\"Found new best model. Saving weights...\")\n",
        "            torch.save(model.state_dict(), out_file)\n",
        "            best_loss = val_loss\n",
        "    \n",
        "    wandb.finish()\n",
        "\n",
        "EPOCHS = 50\n",
        "num_classes = len(df[\"assignees\"].unique())\n",
        "model = Classifier(\"roberta-base\", num_classes, 768)\n",
        "tokenizer = model.tokenizer()\n",
        "LR = 1e-6\n",
        "\n",
        "train(model, tokenizer, X_train, X_test, LR, EPOCHS, \"no_strat_imbalanced_5.pt\", \"no_strat_imbalanced_5\")"
      ]
    },
    {
      "cell_type": "code",
      "execution_count": null,
      "metadata": {},
      "outputs": [],
      "source": [
        "import numpy as np\n",
        "from sklearn.metrics import top_k_accuracy_score"
      ]
    },
    {
      "cell_type": "markdown",
      "metadata": {},
      "source": [
        "# Load Saved Model"
      ]
    },
    {
      "cell_type": "code",
      "execution_count": null,
      "metadata": {},
      "outputs": [
        {
          "name": "stderr",
          "output_type": "stream",
          "text": [
            "Some weights of RobertaModel were not initialized from the model checkpoint at roberta-base and are newly initialized: ['roberta.pooler.dense.bias', 'roberta.pooler.dense.weight']\n",
            "You should probably TRAIN this model on a down-stream task to be able to use it for predictions and inference.\n"
          ]
        }
      ],
      "source": [
        "num_classes = len(df[\"assignees\"].unique())\n",
        "model = Classifier(\"roberta-base\", num_classes, 768)\n",
        "model.load_state_dict(torch.load(\"/home/mdafifal.mamun/notebooks/triagerX/no_strat_imbalanced_5.pt\"))\n",
        "model = model.cuda()\n",
        "tokenizer = model.tokenizer()"
      ]
    },
    {
      "cell_type": "code",
      "execution_count": null,
      "metadata": {},
      "outputs": [],
      "source": [
        "import random\n",
        "\n",
        "y_preds = []\n",
        "\n",
        "for i in range(len(X_test)):\n",
        "    # rand = random.randint(0, len(df_val))\n",
        "    dx = X_test.iloc[i]\n",
        "\n",
        "    data = tokenizer(dx[\"text\"], padding='max_length', max_length = 512, truncation=True)\n",
        "    ids, mask = data[\"input_ids\"], data[\"attention_mask\"]\n",
        "\n",
        "    id = torch.tensor([ids]).cuda()\n",
        "    m = torch.tensor([mask]).cuda()\n",
        "\n",
        "    g = nn.Softmax(dim=1)\n",
        "\n",
        "    with torch.no_grad():\n",
        "        y_pred = g(model(id, m))\n",
        "        \n",
        "    y_preds.append(y_pred)"
      ]
    },
    {
      "cell_type": "code",
      "execution_count": null,
      "metadata": {},
      "outputs": [],
      "source": [
        "y_true = X_test[\"owner_id\"].to_numpy()"
      ]
    },
    {
      "cell_type": "code",
      "execution_count": null,
      "metadata": {},
      "outputs": [
        {
          "data": {
            "text/plain": [
              "[0,\n",
              " 1,\n",
              " 2,\n",
              " 3,\n",
              " 4,\n",
              " 5,\n",
              " 6,\n",
              " 7,\n",
              " 8,\n",
              " 9,\n",
              " 10,\n",
              " 11,\n",
              " 12,\n",
              " 13,\n",
              " 14,\n",
              " 15,\n",
              " 16,\n",
              " 17,\n",
              " 18,\n",
              " 19,\n",
              " 20,\n",
              " 21,\n",
              " 22,\n",
              " 23,\n",
              " 24,\n",
              " 25,\n",
              " 26,\n",
              " 27,\n",
              " 28,\n",
              " 29,\n",
              " 30,\n",
              " 31,\n",
              " 32,\n",
              " 34,\n",
              " 35,\n",
              " 36,\n",
              " 37,\n",
              " 38,\n",
              " 39,\n",
              " 40,\n",
              " 41,\n",
              " 42,\n",
              " 43,\n",
              " 44,\n",
              " 45,\n",
              " 46]"
            ]
          },
          "execution_count": 82,
          "metadata": {},
          "output_type": "execute_result"
        }
      ],
      "source": [
        "sorted(X_test[\"owner_id\"].unique())"
      ]
    },
    {
      "cell_type": "code",
      "execution_count": null,
      "metadata": {},
      "outputs": [],
      "source": [
        "y_numpy = []\n",
        "\n",
        "for y in y_preds:\n",
        "    y_numpy.append(y.cpu().numpy())"
      ]
    },
    {
      "cell_type": "code",
      "execution_count": null,
      "metadata": {},
      "outputs": [],
      "source": [
        "y_preds = np.array(y_numpy)[:,0,:]"
      ]
    },
    {
      "cell_type": "code",
      "execution_count": null,
      "metadata": {},
      "outputs": [
        {
          "data": {
            "text/plain": [
              "1021"
            ]
          },
          "execution_count": 78,
          "metadata": {},
          "output_type": "execute_result"
        }
      ],
      "source": [
        "len(y_true)"
      ]
    },
    {
      "cell_type": "code",
      "execution_count": null,
      "metadata": {},
      "outputs": [
        {
          "ename": "ValueError",
          "evalue": "Number of classes in 'y_true' (46) not equal to the number of classes in 'y_score' (47).You can provide a list of all known classes by assigning it to the `labels` parameter.",
          "output_type": "error",
          "traceback": [
            "\u001b[0;31m---------------------------------------------------------------------------\u001b[0m",
            "\u001b[0;31mValueError\u001b[0m                                Traceback (most recent call last)",
            "Cell \u001b[0;32mIn[79], line 1\u001b[0m\n\u001b[0;32m----> 1\u001b[0m \u001b[43mtop_k_accuracy_score\u001b[49m\u001b[43m(\u001b[49m\u001b[43my_true\u001b[49m\u001b[43m,\u001b[49m\u001b[43m \u001b[49m\u001b[43my_preds\u001b[49m\u001b[43m,\u001b[49m\u001b[43m \u001b[49m\u001b[43mk\u001b[49m\u001b[38;5;241;43m=\u001b[39;49m\u001b[38;5;241;43m3\u001b[39;49m\u001b[43m)\u001b[49m\n",
            "File \u001b[0;32m~/miniconda3/envs/triagerx/lib/python3.10/site-packages/sklearn/utils/_param_validation.py:214\u001b[0m, in \u001b[0;36mvalidate_params.<locals>.decorator.<locals>.wrapper\u001b[0;34m(*args, **kwargs)\u001b[0m\n\u001b[1;32m    208\u001b[0m \u001b[38;5;28;01mtry\u001b[39;00m:\n\u001b[1;32m    209\u001b[0m     \u001b[38;5;28;01mwith\u001b[39;00m config_context(\n\u001b[1;32m    210\u001b[0m         skip_parameter_validation\u001b[38;5;241m=\u001b[39m(\n\u001b[1;32m    211\u001b[0m             prefer_skip_nested_validation \u001b[38;5;129;01mor\u001b[39;00m global_skip_validation\n\u001b[1;32m    212\u001b[0m         )\n\u001b[1;32m    213\u001b[0m     ):\n\u001b[0;32m--> 214\u001b[0m         \u001b[38;5;28;01mreturn\u001b[39;00m \u001b[43mfunc\u001b[49m\u001b[43m(\u001b[49m\u001b[38;5;241;43m*\u001b[39;49m\u001b[43margs\u001b[49m\u001b[43m,\u001b[49m\u001b[43m \u001b[49m\u001b[38;5;241;43m*\u001b[39;49m\u001b[38;5;241;43m*\u001b[39;49m\u001b[43mkwargs\u001b[49m\u001b[43m)\u001b[49m\n\u001b[1;32m    215\u001b[0m \u001b[38;5;28;01mexcept\u001b[39;00m InvalidParameterError \u001b[38;5;28;01mas\u001b[39;00m e:\n\u001b[1;32m    216\u001b[0m     \u001b[38;5;66;03m# When the function is just a wrapper around an estimator, we allow\u001b[39;00m\n\u001b[1;32m    217\u001b[0m     \u001b[38;5;66;03m# the function to delegate validation to the estimator, but we replace\u001b[39;00m\n\u001b[1;32m    218\u001b[0m     \u001b[38;5;66;03m# the name of the estimator by the name of the function in the error\u001b[39;00m\n\u001b[1;32m    219\u001b[0m     \u001b[38;5;66;03m# message to avoid confusion.\u001b[39;00m\n\u001b[1;32m    220\u001b[0m     msg \u001b[38;5;241m=\u001b[39m re\u001b[38;5;241m.\u001b[39msub(\n\u001b[1;32m    221\u001b[0m         \u001b[38;5;124mr\u001b[39m\u001b[38;5;124m\"\u001b[39m\u001b[38;5;124mparameter of \u001b[39m\u001b[38;5;124m\\\u001b[39m\u001b[38;5;124mw+ must be\u001b[39m\u001b[38;5;124m\"\u001b[39m,\n\u001b[1;32m    222\u001b[0m         \u001b[38;5;124mf\u001b[39m\u001b[38;5;124m\"\u001b[39m\u001b[38;5;124mparameter of \u001b[39m\u001b[38;5;132;01m{\u001b[39;00mfunc\u001b[38;5;241m.\u001b[39m\u001b[38;5;18m__qualname__\u001b[39m\u001b[38;5;132;01m}\u001b[39;00m\u001b[38;5;124m must be\u001b[39m\u001b[38;5;124m\"\u001b[39m,\n\u001b[1;32m    223\u001b[0m         \u001b[38;5;28mstr\u001b[39m(e),\n\u001b[1;32m    224\u001b[0m     )\n",
            "File \u001b[0;32m~/miniconda3/envs/triagerx/lib/python3.10/site-packages/sklearn/metrics/_ranking.py:1942\u001b[0m, in \u001b[0;36mtop_k_accuracy_score\u001b[0;34m(y_true, y_score, k, normalize, sample_weight, labels)\u001b[0m\n\u001b[1;32m   1939\u001b[0m     n_classes \u001b[38;5;241m=\u001b[39m \u001b[38;5;28mlen\u001b[39m(classes)\n\u001b[1;32m   1941\u001b[0m     \u001b[38;5;28;01mif\u001b[39;00m n_classes \u001b[38;5;241m!=\u001b[39m y_score_n_classes:\n\u001b[0;32m-> 1942\u001b[0m         \u001b[38;5;28;01mraise\u001b[39;00m \u001b[38;5;167;01mValueError\u001b[39;00m(\n\u001b[1;32m   1943\u001b[0m             \u001b[38;5;124mf\u001b[39m\u001b[38;5;124m\"\u001b[39m\u001b[38;5;124mNumber of classes in \u001b[39m\u001b[38;5;124m'\u001b[39m\u001b[38;5;124my_true\u001b[39m\u001b[38;5;124m'\u001b[39m\u001b[38;5;124m (\u001b[39m\u001b[38;5;132;01m{\u001b[39;00mn_classes\u001b[38;5;132;01m}\u001b[39;00m\u001b[38;5;124m) not equal \u001b[39m\u001b[38;5;124m\"\u001b[39m\n\u001b[1;32m   1944\u001b[0m             \u001b[38;5;124mf\u001b[39m\u001b[38;5;124m\"\u001b[39m\u001b[38;5;124mto the number of classes in \u001b[39m\u001b[38;5;124m'\u001b[39m\u001b[38;5;124my_score\u001b[39m\u001b[38;5;124m'\u001b[39m\u001b[38;5;124m (\u001b[39m\u001b[38;5;132;01m{\u001b[39;00my_score_n_classes\u001b[38;5;132;01m}\u001b[39;00m\u001b[38;5;124m).\u001b[39m\u001b[38;5;124m\"\u001b[39m\n\u001b[1;32m   1945\u001b[0m             \u001b[38;5;124m\"\u001b[39m\u001b[38;5;124mYou can provide a list of all known classes by assigning it \u001b[39m\u001b[38;5;124m\"\u001b[39m\n\u001b[1;32m   1946\u001b[0m             \u001b[38;5;124m\"\u001b[39m\u001b[38;5;124mto the `labels` parameter.\u001b[39m\u001b[38;5;124m\"\u001b[39m\n\u001b[1;32m   1947\u001b[0m         )\n\u001b[1;32m   1948\u001b[0m \u001b[38;5;28;01melse\u001b[39;00m:\n\u001b[1;32m   1949\u001b[0m     labels \u001b[38;5;241m=\u001b[39m column_or_1d(labels)\n",
            "\u001b[0;31mValueError\u001b[0m: Number of classes in 'y_true' (46) not equal to the number of classes in 'y_score' (47).You can provide a list of all known classes by assigning it to the `labels` parameter."
          ]
        }
      ],
      "source": [
        "top_k_accuracy_score(y_true, y_preds, k=3)"
      ]
    },
    {
      "cell_type": "code",
      "execution_count": null,
      "metadata": {},
      "outputs": [
        {
          "data": {
            "text/plain": [
              "0.7874632713026445"
            ]
          },
          "execution_count": 47,
          "metadata": {},
          "output_type": "execute_result"
        }
      ],
      "source": [
        "top_k_accuracy_score(y_true, y_preds, k=5)"
      ]
    },
    {
      "cell_type": "markdown",
      "metadata": {},
      "source": [
        "Weighted Sampler Stratified, Minimum 5\n",
        "\n",
        "    Top5 = 84%\n",
        "    Top3 = 71%\n",
        "\n",
        "Unweighted Sampler Stratified, Minimum 5\n",
        "\n",
        "    Top5 = 79%\n",
        "    Top3 = 71%\n",
        "\n",
        "Unweighted Sampler Stratified, Minimum 10\n",
        "\n",
        "    Top5 = 80%\n",
        "    Top3 = 73%"
      ]
    },
    {
      "cell_type": "code",
      "execution_count": null,
      "metadata": {},
      "outputs": [],
      "source": []
    }
  ],
  "metadata": {
    "accelerator": "GPU",
    "colab": {
      "gpuType": "T4",
      "provenance": []
    },
    "kernelspec": {
      "display_name": "Python 3 (ipykernel)",
      "language": "python",
      "name": "python3"
    },
    "widgets": {
      "application/vnd.jupyter.widget-state+json": {
        "1abba754403e467d88397adbefba5f39": {
          "model_module": "@jupyter-widgets/base",
          "model_module_version": "1.2.0",
          "model_name": "LayoutModel",
          "state": {
            "_model_module": "@jupyter-widgets/base",
            "_model_module_version": "1.2.0",
            "_model_name": "LayoutModel",
            "_view_count": null,
            "_view_module": "@jupyter-widgets/base",
            "_view_module_version": "1.2.0",
            "_view_name": "LayoutView",
            "align_content": null,
            "align_items": null,
            "align_self": null,
            "border": null,
            "bottom": null,
            "display": null,
            "flex": null,
            "flex_flow": null,
            "grid_area": null,
            "grid_auto_columns": null,
            "grid_auto_flow": null,
            "grid_auto_rows": null,
            "grid_column": null,
            "grid_gap": null,
            "grid_row": null,
            "grid_template_areas": null,
            "grid_template_columns": null,
            "grid_template_rows": null,
            "height": null,
            "justify_content": null,
            "justify_items": null,
            "left": null,
            "margin": null,
            "max_height": null,
            "max_width": null,
            "min_height": null,
            "min_width": null,
            "object_fit": null,
            "object_position": null,
            "order": null,
            "overflow": null,
            "overflow_x": null,
            "overflow_y": null,
            "padding": null,
            "right": null,
            "top": null,
            "visibility": null,
            "width": null
          }
        },
        "1cb615aadcf54929905b51caeb5a2128": {
          "model_module": "@jupyter-widgets/base",
          "model_module_version": "1.2.0",
          "model_name": "LayoutModel",
          "state": {
            "_model_module": "@jupyter-widgets/base",
            "_model_module_version": "1.2.0",
            "_model_name": "LayoutModel",
            "_view_count": null,
            "_view_module": "@jupyter-widgets/base",
            "_view_module_version": "1.2.0",
            "_view_name": "LayoutView",
            "align_content": null,
            "align_items": null,
            "align_self": null,
            "border": null,
            "bottom": null,
            "display": null,
            "flex": null,
            "flex_flow": null,
            "grid_area": null,
            "grid_auto_columns": null,
            "grid_auto_flow": null,
            "grid_auto_rows": null,
            "grid_column": null,
            "grid_gap": null,
            "grid_row": null,
            "grid_template_areas": null,
            "grid_template_columns": null,
            "grid_template_rows": null,
            "height": null,
            "justify_content": null,
            "justify_items": null,
            "left": null,
            "margin": null,
            "max_height": null,
            "max_width": null,
            "min_height": null,
            "min_width": null,
            "object_fit": null,
            "object_position": null,
            "order": null,
            "overflow": null,
            "overflow_x": null,
            "overflow_y": null,
            "padding": null,
            "right": null,
            "top": null,
            "visibility": null,
            "width": null
          }
        },
        "1fc017f70c03466bb4e69d3104fa560b": {
          "model_module": "@jupyter-widgets/controls",
          "model_module_version": "1.5.0",
          "model_name": "ProgressStyleModel",
          "state": {
            "_model_module": "@jupyter-widgets/controls",
            "_model_module_version": "1.5.0",
            "_model_name": "ProgressStyleModel",
            "_view_count": null,
            "_view_module": "@jupyter-widgets/base",
            "_view_module_version": "1.2.0",
            "_view_name": "StyleView",
            "bar_color": null,
            "description_width": ""
          }
        },
        "23f4a8aa21e3455b9c7d57734980fd00": {
          "model_module": "@jupyter-widgets/controls",
          "model_module_version": "1.5.0",
          "model_name": "DescriptionStyleModel",
          "state": {
            "_model_module": "@jupyter-widgets/controls",
            "_model_module_version": "1.5.0",
            "_model_name": "DescriptionStyleModel",
            "_view_count": null,
            "_view_module": "@jupyter-widgets/base",
            "_view_module_version": "1.2.0",
            "_view_name": "StyleView",
            "description_width": ""
          }
        },
        "24a34163989e4c49be2db4f119cc0611": {
          "model_module": "@jupyter-widgets/controls",
          "model_module_version": "1.5.0",
          "model_name": "HTMLModel",
          "state": {
            "_dom_classes": [],
            "_model_module": "@jupyter-widgets/controls",
            "_model_module_version": "1.5.0",
            "_model_name": "HTMLModel",
            "_view_count": null,
            "_view_module": "@jupyter-widgets/controls",
            "_view_module_version": "1.5.0",
            "_view_name": "HTMLView",
            "description": "",
            "description_tooltip": null,
            "layout": "IPY_MODEL_d2af56977bc4409cb46bfe881fec89b6",
            "placeholder": "​",
            "style": "IPY_MODEL_5359199b61a74a3f84a4c6aafb30f8fa",
            "value": "Downloading (…)olve/main/merges.txt: 100%"
          }
        },
        "24a58ef6fe6a4109915369a6eeae3338": {
          "model_module": "@jupyter-widgets/controls",
          "model_module_version": "1.5.0",
          "model_name": "FloatProgressModel",
          "state": {
            "_dom_classes": [],
            "_model_module": "@jupyter-widgets/controls",
            "_model_module_version": "1.5.0",
            "_model_name": "FloatProgressModel",
            "_view_count": null,
            "_view_module": "@jupyter-widgets/controls",
            "_view_module_version": "1.5.0",
            "_view_name": "ProgressView",
            "bar_style": "success",
            "description": "",
            "description_tooltip": null,
            "layout": "IPY_MODEL_c868ad3e4aee4eb0a57823eea21b4eb9",
            "max": 898823,
            "min": 0,
            "orientation": "horizontal",
            "style": "IPY_MODEL_1fc017f70c03466bb4e69d3104fa560b",
            "value": 898823
          }
        },
        "34879c980641445ab7354fcc75210306": {
          "model_module": "@jupyter-widgets/controls",
          "model_module_version": "1.5.0",
          "model_name": "DescriptionStyleModel",
          "state": {
            "_model_module": "@jupyter-widgets/controls",
            "_model_module_version": "1.5.0",
            "_model_name": "DescriptionStyleModel",
            "_view_count": null,
            "_view_module": "@jupyter-widgets/base",
            "_view_module_version": "1.2.0",
            "_view_name": "StyleView",
            "description_width": ""
          }
        },
        "34ee3dcd7f50419c96bcec4063709dff": {
          "model_module": "@jupyter-widgets/controls",
          "model_module_version": "1.5.0",
          "model_name": "HBoxModel",
          "state": {
            "_dom_classes": [],
            "_model_module": "@jupyter-widgets/controls",
            "_model_module_version": "1.5.0",
            "_model_name": "HBoxModel",
            "_view_count": null,
            "_view_module": "@jupyter-widgets/controls",
            "_view_module_version": "1.5.0",
            "_view_name": "HBoxView",
            "box_style": "",
            "children": [
              "IPY_MODEL_587f407537e94a6aa0049639e8bb05ad",
              "IPY_MODEL_4b60ac7be2cd4199adf98633f0663ad2",
              "IPY_MODEL_655f618162da476ea2f4eed237134dd9"
            ],
            "layout": "IPY_MODEL_f6efe5bff81e4afca469690f27ac21bb"
          }
        },
        "36413e7c0a664892afe561f5ab605e57": {
          "model_module": "@jupyter-widgets/base",
          "model_module_version": "1.2.0",
          "model_name": "LayoutModel",
          "state": {
            "_model_module": "@jupyter-widgets/base",
            "_model_module_version": "1.2.0",
            "_model_name": "LayoutModel",
            "_view_count": null,
            "_view_module": "@jupyter-widgets/base",
            "_view_module_version": "1.2.0",
            "_view_name": "LayoutView",
            "align_content": null,
            "align_items": null,
            "align_self": null,
            "border": null,
            "bottom": null,
            "display": null,
            "flex": null,
            "flex_flow": null,
            "grid_area": null,
            "grid_auto_columns": null,
            "grid_auto_flow": null,
            "grid_auto_rows": null,
            "grid_column": null,
            "grid_gap": null,
            "grid_row": null,
            "grid_template_areas": null,
            "grid_template_columns": null,
            "grid_template_rows": null,
            "height": null,
            "justify_content": null,
            "justify_items": null,
            "left": null,
            "margin": null,
            "max_height": null,
            "max_width": null,
            "min_height": null,
            "min_width": null,
            "object_fit": null,
            "object_position": null,
            "order": null,
            "overflow": null,
            "overflow_x": null,
            "overflow_y": null,
            "padding": null,
            "right": null,
            "top": null,
            "visibility": null,
            "width": null
          }
        },
        "4b60ac7be2cd4199adf98633f0663ad2": {
          "model_module": "@jupyter-widgets/controls",
          "model_module_version": "1.5.0",
          "model_name": "FloatProgressModel",
          "state": {
            "_dom_classes": [],
            "_model_module": "@jupyter-widgets/controls",
            "_model_module_version": "1.5.0",
            "_model_name": "FloatProgressModel",
            "_view_count": null,
            "_view_module": "@jupyter-widgets/controls",
            "_view_module_version": "1.5.0",
            "_view_name": "ProgressView",
            "bar_style": "success",
            "description": "",
            "description_tooltip": null,
            "layout": "IPY_MODEL_d26a4496e2f94cd78af2da75c1092266",
            "max": 1355863,
            "min": 0,
            "orientation": "horizontal",
            "style": "IPY_MODEL_c425bf5440d24001a7fe0de35873bb17",
            "value": 1355863
          }
        },
        "4bf9ba6922914a73b82fd21046a8cd65": {
          "model_module": "@jupyter-widgets/base",
          "model_module_version": "1.2.0",
          "model_name": "LayoutModel",
          "state": {
            "_model_module": "@jupyter-widgets/base",
            "_model_module_version": "1.2.0",
            "_model_name": "LayoutModel",
            "_view_count": null,
            "_view_module": "@jupyter-widgets/base",
            "_view_module_version": "1.2.0",
            "_view_name": "LayoutView",
            "align_content": null,
            "align_items": null,
            "align_self": null,
            "border": null,
            "bottom": null,
            "display": null,
            "flex": null,
            "flex_flow": null,
            "grid_area": null,
            "grid_auto_columns": null,
            "grid_auto_flow": null,
            "grid_auto_rows": null,
            "grid_column": null,
            "grid_gap": null,
            "grid_row": null,
            "grid_template_areas": null,
            "grid_template_columns": null,
            "grid_template_rows": null,
            "height": null,
            "justify_content": null,
            "justify_items": null,
            "left": null,
            "margin": null,
            "max_height": null,
            "max_width": null,
            "min_height": null,
            "min_width": null,
            "object_fit": null,
            "object_position": null,
            "order": null,
            "overflow": null,
            "overflow_x": null,
            "overflow_y": null,
            "padding": null,
            "right": null,
            "top": null,
            "visibility": null,
            "width": null
          }
        },
        "4d043728724f4c8a90fa341d59c90284": {
          "model_module": "@jupyter-widgets/controls",
          "model_module_version": "1.5.0",
          "model_name": "DescriptionStyleModel",
          "state": {
            "_model_module": "@jupyter-widgets/controls",
            "_model_module_version": "1.5.0",
            "_model_name": "DescriptionStyleModel",
            "_view_count": null,
            "_view_module": "@jupyter-widgets/base",
            "_view_module_version": "1.2.0",
            "_view_name": "StyleView",
            "description_width": ""
          }
        },
        "5359199b61a74a3f84a4c6aafb30f8fa": {
          "model_module": "@jupyter-widgets/controls",
          "model_module_version": "1.5.0",
          "model_name": "DescriptionStyleModel",
          "state": {
            "_model_module": "@jupyter-widgets/controls",
            "_model_module_version": "1.5.0",
            "_model_name": "DescriptionStyleModel",
            "_view_count": null,
            "_view_module": "@jupyter-widgets/base",
            "_view_module_version": "1.2.0",
            "_view_name": "StyleView",
            "description_width": ""
          }
        },
        "587f407537e94a6aa0049639e8bb05ad": {
          "model_module": "@jupyter-widgets/controls",
          "model_module_version": "1.5.0",
          "model_name": "HTMLModel",
          "state": {
            "_dom_classes": [],
            "_model_module": "@jupyter-widgets/controls",
            "_model_module_version": "1.5.0",
            "_model_name": "HTMLModel",
            "_view_count": null,
            "_view_module": "@jupyter-widgets/controls",
            "_view_module_version": "1.5.0",
            "_view_name": "HTMLView",
            "description": "",
            "description_tooltip": null,
            "layout": "IPY_MODEL_1abba754403e467d88397adbefba5f39",
            "placeholder": "​",
            "style": "IPY_MODEL_76771682b1d64e9c8e6cf6104066435c",
            "value": "Downloading (…)/main/tokenizer.json: 100%"
          }
        },
        "5ea83e9f34224e089408b07f904f3710": {
          "model_module": "@jupyter-widgets/controls",
          "model_module_version": "1.5.0",
          "model_name": "HBoxModel",
          "state": {
            "_dom_classes": [],
            "_model_module": "@jupyter-widgets/controls",
            "_model_module_version": "1.5.0",
            "_model_name": "HBoxModel",
            "_view_count": null,
            "_view_module": "@jupyter-widgets/controls",
            "_view_module_version": "1.5.0",
            "_view_name": "HBoxView",
            "box_style": "",
            "children": [
              "IPY_MODEL_24a34163989e4c49be2db4f119cc0611",
              "IPY_MODEL_c5d931fa523c4d6f94dc4c4d4476c03f",
              "IPY_MODEL_98960af25a4d4aa09f527a3615fa195e"
            ],
            "layout": "IPY_MODEL_36413e7c0a664892afe561f5ab605e57"
          }
        },
        "655f618162da476ea2f4eed237134dd9": {
          "model_module": "@jupyter-widgets/controls",
          "model_module_version": "1.5.0",
          "model_name": "HTMLModel",
          "state": {
            "_dom_classes": [],
            "_model_module": "@jupyter-widgets/controls",
            "_model_module_version": "1.5.0",
            "_model_name": "HTMLModel",
            "_view_count": null,
            "_view_module": "@jupyter-widgets/controls",
            "_view_module_version": "1.5.0",
            "_view_name": "HTMLView",
            "description": "",
            "description_tooltip": null,
            "layout": "IPY_MODEL_f82540c948ae4d369e9498fea3b38f00",
            "placeholder": "​",
            "style": "IPY_MODEL_34879c980641445ab7354fcc75210306",
            "value": " 1.36M/1.36M [00:00&lt;00:00, 19.2MB/s]"
          }
        },
        "76771682b1d64e9c8e6cf6104066435c": {
          "model_module": "@jupyter-widgets/controls",
          "model_module_version": "1.5.0",
          "model_name": "DescriptionStyleModel",
          "state": {
            "_model_module": "@jupyter-widgets/controls",
            "_model_module_version": "1.5.0",
            "_model_name": "DescriptionStyleModel",
            "_view_count": null,
            "_view_module": "@jupyter-widgets/base",
            "_view_module_version": "1.2.0",
            "_view_name": "StyleView",
            "description_width": ""
          }
        },
        "79451d94e83a49dea269d48542856f06": {
          "model_module": "@jupyter-widgets/base",
          "model_module_version": "1.2.0",
          "model_name": "LayoutModel",
          "state": {
            "_model_module": "@jupyter-widgets/base",
            "_model_module_version": "1.2.0",
            "_model_name": "LayoutModel",
            "_view_count": null,
            "_view_module": "@jupyter-widgets/base",
            "_view_module_version": "1.2.0",
            "_view_name": "LayoutView",
            "align_content": null,
            "align_items": null,
            "align_self": null,
            "border": null,
            "bottom": null,
            "display": null,
            "flex": null,
            "flex_flow": null,
            "grid_area": null,
            "grid_auto_columns": null,
            "grid_auto_flow": null,
            "grid_auto_rows": null,
            "grid_column": null,
            "grid_gap": null,
            "grid_row": null,
            "grid_template_areas": null,
            "grid_template_columns": null,
            "grid_template_rows": null,
            "height": null,
            "justify_content": null,
            "justify_items": null,
            "left": null,
            "margin": null,
            "max_height": null,
            "max_width": null,
            "min_height": null,
            "min_width": null,
            "object_fit": null,
            "object_position": null,
            "order": null,
            "overflow": null,
            "overflow_x": null,
            "overflow_y": null,
            "padding": null,
            "right": null,
            "top": null,
            "visibility": null,
            "width": null
          }
        },
        "83af8edcf7ea41229e7f1a4ef7360a4a": {
          "model_module": "@jupyter-widgets/controls",
          "model_module_version": "1.5.0",
          "model_name": "DescriptionStyleModel",
          "state": {
            "_model_module": "@jupyter-widgets/controls",
            "_model_module_version": "1.5.0",
            "_model_name": "DescriptionStyleModel",
            "_view_count": null,
            "_view_module": "@jupyter-widgets/base",
            "_view_module_version": "1.2.0",
            "_view_name": "StyleView",
            "description_width": ""
          }
        },
        "884aca7e1ed74e43aa58a0a99b98d479": {
          "model_module": "@jupyter-widgets/base",
          "model_module_version": "1.2.0",
          "model_name": "LayoutModel",
          "state": {
            "_model_module": "@jupyter-widgets/base",
            "_model_module_version": "1.2.0",
            "_model_name": "LayoutModel",
            "_view_count": null,
            "_view_module": "@jupyter-widgets/base",
            "_view_module_version": "1.2.0",
            "_view_name": "LayoutView",
            "align_content": null,
            "align_items": null,
            "align_self": null,
            "border": null,
            "bottom": null,
            "display": null,
            "flex": null,
            "flex_flow": null,
            "grid_area": null,
            "grid_auto_columns": null,
            "grid_auto_flow": null,
            "grid_auto_rows": null,
            "grid_column": null,
            "grid_gap": null,
            "grid_row": null,
            "grid_template_areas": null,
            "grid_template_columns": null,
            "grid_template_rows": null,
            "height": null,
            "justify_content": null,
            "justify_items": null,
            "left": null,
            "margin": null,
            "max_height": null,
            "max_width": null,
            "min_height": null,
            "min_width": null,
            "object_fit": null,
            "object_position": null,
            "order": null,
            "overflow": null,
            "overflow_x": null,
            "overflow_y": null,
            "padding": null,
            "right": null,
            "top": null,
            "visibility": null,
            "width": null
          }
        },
        "98960af25a4d4aa09f527a3615fa195e": {
          "model_module": "@jupyter-widgets/controls",
          "model_module_version": "1.5.0",
          "model_name": "HTMLModel",
          "state": {
            "_dom_classes": [],
            "_model_module": "@jupyter-widgets/controls",
            "_model_module_version": "1.5.0",
            "_model_name": "HTMLModel",
            "_view_count": null,
            "_view_module": "@jupyter-widgets/controls",
            "_view_module_version": "1.5.0",
            "_view_name": "HTMLView",
            "description": "",
            "description_tooltip": null,
            "layout": "IPY_MODEL_1cb615aadcf54929905b51caeb5a2128",
            "placeholder": "​",
            "style": "IPY_MODEL_23f4a8aa21e3455b9c7d57734980fd00",
            "value": " 456k/456k [00:00&lt;00:00, 12.7MB/s]"
          }
        },
        "adc2784c4ac7413ba5580e0b33708a12": {
          "model_module": "@jupyter-widgets/controls",
          "model_module_version": "1.5.0",
          "model_name": "HTMLModel",
          "state": {
            "_dom_classes": [],
            "_model_module": "@jupyter-widgets/controls",
            "_model_module_version": "1.5.0",
            "_model_name": "HTMLModel",
            "_view_count": null,
            "_view_module": "@jupyter-widgets/controls",
            "_view_module_version": "1.5.0",
            "_view_name": "HTMLView",
            "description": "",
            "description_tooltip": null,
            "layout": "IPY_MODEL_79451d94e83a49dea269d48542856f06",
            "placeholder": "​",
            "style": "IPY_MODEL_4d043728724f4c8a90fa341d59c90284",
            "value": "Downloading (…)olve/main/vocab.json: 100%"
          }
        },
        "b681fdca75014187b2f71654962eebf5": {
          "model_module": "@jupyter-widgets/controls",
          "model_module_version": "1.5.0",
          "model_name": "HTMLModel",
          "state": {
            "_dom_classes": [],
            "_model_module": "@jupyter-widgets/controls",
            "_model_module_version": "1.5.0",
            "_model_name": "HTMLModel",
            "_view_count": null,
            "_view_module": "@jupyter-widgets/controls",
            "_view_module_version": "1.5.0",
            "_view_name": "HTMLView",
            "description": "",
            "description_tooltip": null,
            "layout": "IPY_MODEL_884aca7e1ed74e43aa58a0a99b98d479",
            "placeholder": "​",
            "style": "IPY_MODEL_83af8edcf7ea41229e7f1a4ef7360a4a",
            "value": " 899k/899k [00:00&lt;00:00, 4.49MB/s]"
          }
        },
        "c425bf5440d24001a7fe0de35873bb17": {
          "model_module": "@jupyter-widgets/controls",
          "model_module_version": "1.5.0",
          "model_name": "ProgressStyleModel",
          "state": {
            "_model_module": "@jupyter-widgets/controls",
            "_model_module_version": "1.5.0",
            "_model_name": "ProgressStyleModel",
            "_view_count": null,
            "_view_module": "@jupyter-widgets/base",
            "_view_module_version": "1.2.0",
            "_view_name": "StyleView",
            "bar_color": null,
            "description_width": ""
          }
        },
        "c5d931fa523c4d6f94dc4c4d4476c03f": {
          "model_module": "@jupyter-widgets/controls",
          "model_module_version": "1.5.0",
          "model_name": "FloatProgressModel",
          "state": {
            "_dom_classes": [],
            "_model_module": "@jupyter-widgets/controls",
            "_model_module_version": "1.5.0",
            "_model_name": "FloatProgressModel",
            "_view_count": null,
            "_view_module": "@jupyter-widgets/controls",
            "_view_module_version": "1.5.0",
            "_view_name": "ProgressView",
            "bar_style": "success",
            "description": "",
            "description_tooltip": null,
            "layout": "IPY_MODEL_e21a3b6417d441ea82f962901a44aee1",
            "max": 456318,
            "min": 0,
            "orientation": "horizontal",
            "style": "IPY_MODEL_f434480e98974cefa060e84d126a5f71",
            "value": 456318
          }
        },
        "c868ad3e4aee4eb0a57823eea21b4eb9": {
          "model_module": "@jupyter-widgets/base",
          "model_module_version": "1.2.0",
          "model_name": "LayoutModel",
          "state": {
            "_model_module": "@jupyter-widgets/base",
            "_model_module_version": "1.2.0",
            "_model_name": "LayoutModel",
            "_view_count": null,
            "_view_module": "@jupyter-widgets/base",
            "_view_module_version": "1.2.0",
            "_view_name": "LayoutView",
            "align_content": null,
            "align_items": null,
            "align_self": null,
            "border": null,
            "bottom": null,
            "display": null,
            "flex": null,
            "flex_flow": null,
            "grid_area": null,
            "grid_auto_columns": null,
            "grid_auto_flow": null,
            "grid_auto_rows": null,
            "grid_column": null,
            "grid_gap": null,
            "grid_row": null,
            "grid_template_areas": null,
            "grid_template_columns": null,
            "grid_template_rows": null,
            "height": null,
            "justify_content": null,
            "justify_items": null,
            "left": null,
            "margin": null,
            "max_height": null,
            "max_width": null,
            "min_height": null,
            "min_width": null,
            "object_fit": null,
            "object_position": null,
            "order": null,
            "overflow": null,
            "overflow_x": null,
            "overflow_y": null,
            "padding": null,
            "right": null,
            "top": null,
            "visibility": null,
            "width": null
          }
        },
        "d26a4496e2f94cd78af2da75c1092266": {
          "model_module": "@jupyter-widgets/base",
          "model_module_version": "1.2.0",
          "model_name": "LayoutModel",
          "state": {
            "_model_module": "@jupyter-widgets/base",
            "_model_module_version": "1.2.0",
            "_model_name": "LayoutModel",
            "_view_count": null,
            "_view_module": "@jupyter-widgets/base",
            "_view_module_version": "1.2.0",
            "_view_name": "LayoutView",
            "align_content": null,
            "align_items": null,
            "align_self": null,
            "border": null,
            "bottom": null,
            "display": null,
            "flex": null,
            "flex_flow": null,
            "grid_area": null,
            "grid_auto_columns": null,
            "grid_auto_flow": null,
            "grid_auto_rows": null,
            "grid_column": null,
            "grid_gap": null,
            "grid_row": null,
            "grid_template_areas": null,
            "grid_template_columns": null,
            "grid_template_rows": null,
            "height": null,
            "justify_content": null,
            "justify_items": null,
            "left": null,
            "margin": null,
            "max_height": null,
            "max_width": null,
            "min_height": null,
            "min_width": null,
            "object_fit": null,
            "object_position": null,
            "order": null,
            "overflow": null,
            "overflow_x": null,
            "overflow_y": null,
            "padding": null,
            "right": null,
            "top": null,
            "visibility": null,
            "width": null
          }
        },
        "d2af56977bc4409cb46bfe881fec89b6": {
          "model_module": "@jupyter-widgets/base",
          "model_module_version": "1.2.0",
          "model_name": "LayoutModel",
          "state": {
            "_model_module": "@jupyter-widgets/base",
            "_model_module_version": "1.2.0",
            "_model_name": "LayoutModel",
            "_view_count": null,
            "_view_module": "@jupyter-widgets/base",
            "_view_module_version": "1.2.0",
            "_view_name": "LayoutView",
            "align_content": null,
            "align_items": null,
            "align_self": null,
            "border": null,
            "bottom": null,
            "display": null,
            "flex": null,
            "flex_flow": null,
            "grid_area": null,
            "grid_auto_columns": null,
            "grid_auto_flow": null,
            "grid_auto_rows": null,
            "grid_column": null,
            "grid_gap": null,
            "grid_row": null,
            "grid_template_areas": null,
            "grid_template_columns": null,
            "grid_template_rows": null,
            "height": null,
            "justify_content": null,
            "justify_items": null,
            "left": null,
            "margin": null,
            "max_height": null,
            "max_width": null,
            "min_height": null,
            "min_width": null,
            "object_fit": null,
            "object_position": null,
            "order": null,
            "overflow": null,
            "overflow_x": null,
            "overflow_y": null,
            "padding": null,
            "right": null,
            "top": null,
            "visibility": null,
            "width": null
          }
        },
        "de0cfd344b124ecb824236fb275fe2f5": {
          "model_module": "@jupyter-widgets/controls",
          "model_module_version": "1.5.0",
          "model_name": "HBoxModel",
          "state": {
            "_dom_classes": [],
            "_model_module": "@jupyter-widgets/controls",
            "_model_module_version": "1.5.0",
            "_model_name": "HBoxModel",
            "_view_count": null,
            "_view_module": "@jupyter-widgets/controls",
            "_view_module_version": "1.5.0",
            "_view_name": "HBoxView",
            "box_style": "",
            "children": [
              "IPY_MODEL_adc2784c4ac7413ba5580e0b33708a12",
              "IPY_MODEL_24a58ef6fe6a4109915369a6eeae3338",
              "IPY_MODEL_b681fdca75014187b2f71654962eebf5"
            ],
            "layout": "IPY_MODEL_4bf9ba6922914a73b82fd21046a8cd65"
          }
        },
        "e21a3b6417d441ea82f962901a44aee1": {
          "model_module": "@jupyter-widgets/base",
          "model_module_version": "1.2.0",
          "model_name": "LayoutModel",
          "state": {
            "_model_module": "@jupyter-widgets/base",
            "_model_module_version": "1.2.0",
            "_model_name": "LayoutModel",
            "_view_count": null,
            "_view_module": "@jupyter-widgets/base",
            "_view_module_version": "1.2.0",
            "_view_name": "LayoutView",
            "align_content": null,
            "align_items": null,
            "align_self": null,
            "border": null,
            "bottom": null,
            "display": null,
            "flex": null,
            "flex_flow": null,
            "grid_area": null,
            "grid_auto_columns": null,
            "grid_auto_flow": null,
            "grid_auto_rows": null,
            "grid_column": null,
            "grid_gap": null,
            "grid_row": null,
            "grid_template_areas": null,
            "grid_template_columns": null,
            "grid_template_rows": null,
            "height": null,
            "justify_content": null,
            "justify_items": null,
            "left": null,
            "margin": null,
            "max_height": null,
            "max_width": null,
            "min_height": null,
            "min_width": null,
            "object_fit": null,
            "object_position": null,
            "order": null,
            "overflow": null,
            "overflow_x": null,
            "overflow_y": null,
            "padding": null,
            "right": null,
            "top": null,
            "visibility": null,
            "width": null
          }
        },
        "f434480e98974cefa060e84d126a5f71": {
          "model_module": "@jupyter-widgets/controls",
          "model_module_version": "1.5.0",
          "model_name": "ProgressStyleModel",
          "state": {
            "_model_module": "@jupyter-widgets/controls",
            "_model_module_version": "1.5.0",
            "_model_name": "ProgressStyleModel",
            "_view_count": null,
            "_view_module": "@jupyter-widgets/base",
            "_view_module_version": "1.2.0",
            "_view_name": "StyleView",
            "bar_color": null,
            "description_width": ""
          }
        },
        "f6efe5bff81e4afca469690f27ac21bb": {
          "model_module": "@jupyter-widgets/base",
          "model_module_version": "1.2.0",
          "model_name": "LayoutModel",
          "state": {
            "_model_module": "@jupyter-widgets/base",
            "_model_module_version": "1.2.0",
            "_model_name": "LayoutModel",
            "_view_count": null,
            "_view_module": "@jupyter-widgets/base",
            "_view_module_version": "1.2.0",
            "_view_name": "LayoutView",
            "align_content": null,
            "align_items": null,
            "align_self": null,
            "border": null,
            "bottom": null,
            "display": null,
            "flex": null,
            "flex_flow": null,
            "grid_area": null,
            "grid_auto_columns": null,
            "grid_auto_flow": null,
            "grid_auto_rows": null,
            "grid_column": null,
            "grid_gap": null,
            "grid_row": null,
            "grid_template_areas": null,
            "grid_template_columns": null,
            "grid_template_rows": null,
            "height": null,
            "justify_content": null,
            "justify_items": null,
            "left": null,
            "margin": null,
            "max_height": null,
            "max_width": null,
            "min_height": null,
            "min_width": null,
            "object_fit": null,
            "object_position": null,
            "order": null,
            "overflow": null,
            "overflow_x": null,
            "overflow_y": null,
            "padding": null,
            "right": null,
            "top": null,
            "visibility": null,
            "width": null
          }
        },
        "f82540c948ae4d369e9498fea3b38f00": {
          "model_module": "@jupyter-widgets/base",
          "model_module_version": "1.2.0",
          "model_name": "LayoutModel",
          "state": {
            "_model_module": "@jupyter-widgets/base",
            "_model_module_version": "1.2.0",
            "_model_name": "LayoutModel",
            "_view_count": null,
            "_view_module": "@jupyter-widgets/base",
            "_view_module_version": "1.2.0",
            "_view_name": "LayoutView",
            "align_content": null,
            "align_items": null,
            "align_self": null,
            "border": null,
            "bottom": null,
            "display": null,
            "flex": null,
            "flex_flow": null,
            "grid_area": null,
            "grid_auto_columns": null,
            "grid_auto_flow": null,
            "grid_auto_rows": null,
            "grid_column": null,
            "grid_gap": null,
            "grid_row": null,
            "grid_template_areas": null,
            "grid_template_columns": null,
            "grid_template_rows": null,
            "height": null,
            "justify_content": null,
            "justify_items": null,
            "left": null,
            "margin": null,
            "max_height": null,
            "max_width": null,
            "min_height": null,
            "min_width": null,
            "object_fit": null,
            "object_position": null,
            "order": null,
            "overflow": null,
            "overflow_x": null,
            "overflow_y": null,
            "padding": null,
            "right": null,
            "top": null,
            "visibility": null,
            "width": null
          }
        }
      }
    }
  },
  "nbformat": 4,
  "nbformat_minor": 0
}
