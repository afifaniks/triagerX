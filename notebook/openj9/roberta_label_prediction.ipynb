{
 "cells": [
  {
   "cell_type": "code",
   "execution_count": 1,
   "metadata": {},
   "outputs": [],
   "source": [
    "import numpy as np\n",
    "import pandas as pd\n",
    "import seaborn as sns\n",
    "from tqdm.notebook import tqdm\n",
    "import matplotlib.pyplot as plt\n",
    "\n",
    "import torch\n",
    "import torch.nn as nn\n",
    "import torch.optim as optim\n",
    "from torch.utils.data import Dataset, DataLoader, WeightedRandomSampler\n",
    "\n",
    "from sklearn.preprocessing import MinMaxScaler    \n",
    "from sklearn.model_selection import train_test_split\n",
    "from sklearn.metrics import confusion_matrix, classification_report"
   ]
  },
  {
   "cell_type": "code",
   "execution_count": 2,
   "metadata": {},
   "outputs": [],
   "source": [
    "def load_dataframe(path: str) -> pd.DataFrame:\n",
    "    return pd.read_csv(path)"
   ]
  },
  {
   "cell_type": "code",
   "execution_count": 3,
   "metadata": {},
   "outputs": [],
   "source": [
    "def component_split(x):\n",
    "    x_split = str(x).split(\",\")\n",
    "\n",
    "    for s in x_split:\n",
    "        if \"comp:\" in s.lower():\n",
    "            return s.strip()\n",
    "    return None"
   ]
  },
  {
   "cell_type": "code",
   "execution_count": 4,
   "metadata": {},
   "outputs": [],
   "source": [
    "def label_cleaner(x):\n",
    "    x_split = str(x).split(\",\")\n",
    "\n",
    "    for s in x_split:\n",
    "        if \"comp:\" not in s.lower():\n",
    "            return s.strip()\n",
    "        \n",
    "    return None"
   ]
  },
  {
   "cell_type": "code",
   "execution_count": 5,
   "metadata": {},
   "outputs": [],
   "source": [
    "def clean_data(df):\n",
    "    df['text'] = df['text'].str.replace('http[s]?://(?:[a-zA-Z]|[0-9]|[$-_@.&+]|[!*\\(\\),]|(?:%[0-9a-fA-F][0-9a-fA-F]))+', ' ')\n",
    "    df[\"text\"] = df['text'].str.replace(\" +\", \" \", regex=True)\n",
    "\n",
    "    return df\n",
    "    \n",
    "def prepare_dataframe(df: pd.DataFrame, minimum_contribution = 100) -> pd.DataFrame:\n",
    "    # developers = df[\"assignees\"].value_counts()\n",
    "    # filtered_developers = developers.index[developers >= minimum_contribution]\n",
    "    # df = df[df[\"assignees\"].isin(filtered_developers)]\n",
    "\n",
    "    df[\"text\"] = df.apply(lambda x: str(x[\"issue_title\"]) + \"\\n\" + str(x[\"issue_body\"]), axis=1)\n",
    "    df = df[df[\"labels\"].notna()]\n",
    "    df[\"label\"] = df[\"labels\"].apply(label_cleaner)\n",
    "\n",
    "    min_length = 15\n",
    "    df = df[df[\"text\"].str.len().gt(min_length)]\n",
    "\n",
    "    return df"
   ]
  },
  {
   "cell_type": "code",
   "execution_count": 6,
   "metadata": {},
   "outputs": [
    {
     "name": "stderr",
     "output_type": "stream",
     "text": [
      "/tmp/ipykernel_3281412/4140264172.py:14: SettingWithCopyWarning: \n",
      "A value is trying to be set on a copy of a slice from a DataFrame.\n",
      "Try using .loc[row_indexer,col_indexer] = value instead\n",
      "\n",
      "See the caveats in the documentation: https://pandas.pydata.org/pandas-docs/stable/user_guide/indexing.html#returning-a-view-versus-a-copy\n",
      "  df[\"label\"] = df[\"labels\"].apply(label_cleaner)\n"
     ]
    }
   ],
   "source": [
    "data_path = \"/home/mdafifal.mamun/notebooks/triagerX/notebook/data/openj9/merged.csv\"\n",
    "\n",
    "df = load_dataframe(data_path)\n",
    "df = prepare_dataframe(df, 40)\n",
    "df = clean_data(df)\n",
    "\n",
    "# fig = sns.countplot(x = \"assignees\", data=df)\n",
    "# for item in fig.get_xticklabels():\n",
    "#     item.set_rotation(90)"
   ]
  },
  {
   "cell_type": "code",
   "execution_count": 7,
   "metadata": {},
   "outputs": [
    {
     "data": {
      "text/plain": [
       "16342"
      ]
     },
     "execution_count": 7,
     "metadata": {},
     "output_type": "execute_result"
    }
   ],
   "source": [
    "len(df)"
   ]
  },
  {
   "cell_type": "code",
   "execution_count": 8,
   "metadata": {},
   "outputs": [
    {
     "name": "stdout",
     "output_type": "stream",
     "text": [
      "8221\n"
     ]
    },
    {
     "data": {
      "text/html": [
       "<div>\n",
       "<style scoped>\n",
       "    .dataframe tbody tr th:only-of-type {\n",
       "        vertical-align: middle;\n",
       "    }\n",
       "\n",
       "    .dataframe tbody tr th {\n",
       "        vertical-align: top;\n",
       "    }\n",
       "\n",
       "    .dataframe thead th {\n",
       "        text-align: right;\n",
       "    }\n",
       "</style>\n",
       "<table border=\"1\" class=\"dataframe\">\n",
       "  <thead>\n",
       "    <tr style=\"text-align: right;\">\n",
       "      <th></th>\n",
       "      <th>Unnamed: 0</th>\n",
       "      <th>issue_number</th>\n",
       "      <th>issue_url</th>\n",
       "      <th>issue_title</th>\n",
       "      <th>issue_body</th>\n",
       "      <th>issue_state</th>\n",
       "      <th>creator</th>\n",
       "      <th>comments</th>\n",
       "      <th>assignees</th>\n",
       "      <th>labels</th>\n",
       "      <th>text</th>\n",
       "      <th>label</th>\n",
       "    </tr>\n",
       "  </thead>\n",
       "  <tbody>\n",
       "    <tr>\n",
       "      <th>10</th>\n",
       "      <td>71</td>\n",
       "      <td>11</td>\n",
       "      <td>https://github.com/eclipse-openj9/openj9/issue...</td>\n",
       "      <td>HOWTO Request: Managing changes across depende...</td>\n",
       "      <td>Like all projects, OpenJ9 builds on the should...</td>\n",
       "      <td>open</td>\n",
       "      <td>mgaudet</td>\n",
       "      <td>&lt;comment&gt;&lt;user&gt;pshipton&lt;/user&gt;&lt;body&gt;Please cle...</td>\n",
       "      <td>NaN</td>\n",
       "      <td>question</td>\n",
       "      <td>HOWTO Request: Managing changes across depende...</td>\n",
       "      <td>question</td>\n",
       "    </tr>\n",
       "    <tr>\n",
       "      <th>12</th>\n",
       "      <td>69</td>\n",
       "      <td>13</td>\n",
       "      <td>https://github.com/eclipse-openj9/openj9/issue...</td>\n",
       "      <td>Compilation Output is too Verbose</td>\n",
       "      <td>The output when compiling the OpenJ9 source co...</td>\n",
       "      <td>closed</td>\n",
       "      <td>rservant</td>\n",
       "      <td>&lt;comment&gt;&lt;user&gt;rwy7&lt;/user&gt;&lt;body&gt;When openj9 sw...</td>\n",
       "      <td>NaN</td>\n",
       "      <td>enhancement, comp:build</td>\n",
       "      <td>Compilation Output is too Verbose\\nThe output ...</td>\n",
       "      <td>enhancement</td>\n",
       "    </tr>\n",
       "    <tr>\n",
       "      <th>16</th>\n",
       "      <td>65</td>\n",
       "      <td>17</td>\n",
       "      <td>https://github.com/eclipse-openj9/openj9/pull/17</td>\n",
       "      <td>WIP Add support for function pointers in Panama</td>\n",
       "      <td>When invoking a native function (with Panama) ...</td>\n",
       "      <td>closed</td>\n",
       "      <td>tajila</td>\n",
       "      <td>&lt;comment&gt;&lt;user&gt;tajila&lt;/user&gt;&lt;body&gt;Thanks for t...</td>\n",
       "      <td>DanHeidinga</td>\n",
       "      <td>comp:vm, project:panama</td>\n",
       "      <td>WIP Add support for function pointers in Panam...</td>\n",
       "      <td>project:panama</td>\n",
       "    </tr>\n",
       "    <tr>\n",
       "      <th>17</th>\n",
       "      <td>64</td>\n",
       "      <td>18</td>\n",
       "      <td>https://github.com/eclipse-openj9/openj9/pull/18</td>\n",
       "      <td>Disable late attach to self by default</td>\n",
       "      <td>Prevent a JVM from late attaching to itself un...</td>\n",
       "      <td>closed</td>\n",
       "      <td>pdbain-ibm</td>\n",
       "      <td>&lt;comment&gt;&lt;user&gt;DanHeidinga&lt;/user&gt;&lt;body&gt;I haven...</td>\n",
       "      <td>NaN</td>\n",
       "      <td>jdk9, comp:vm</td>\n",
       "      <td>Disable late attach to self by default\\nPreven...</td>\n",
       "      <td>jdk9</td>\n",
       "    </tr>\n",
       "    <tr>\n",
       "      <th>18</th>\n",
       "      <td>63</td>\n",
       "      <td>19</td>\n",
       "      <td>https://github.com/eclipse-openj9/openj9/pull/19</td>\n",
       "      <td>Translate TypeNotPresentException to NoClassDe...</td>\n",
       "      <td>While resolving bootstrap method handles, Type...</td>\n",
       "      <td>closed</td>\n",
       "      <td>babsingh</td>\n",
       "      <td>&lt;comment&gt;&lt;user&gt;genie-openj9&lt;/user&gt;&lt;body&gt;Can on...</td>\n",
       "      <td>NaN</td>\n",
       "      <td>bug, comp:vm</td>\n",
       "      <td>Translate TypeNotPresentException to NoClassDe...</td>\n",
       "      <td>bug</td>\n",
       "    </tr>\n",
       "  </tbody>\n",
       "</table>\n",
       "</div>"
      ],
      "text/plain": [
       "    Unnamed: 0  issue_number  \\\n",
       "10          71            11   \n",
       "12          69            13   \n",
       "16          65            17   \n",
       "17          64            18   \n",
       "18          63            19   \n",
       "\n",
       "                                            issue_url  \\\n",
       "10  https://github.com/eclipse-openj9/openj9/issue...   \n",
       "12  https://github.com/eclipse-openj9/openj9/issue...   \n",
       "16   https://github.com/eclipse-openj9/openj9/pull/17   \n",
       "17   https://github.com/eclipse-openj9/openj9/pull/18   \n",
       "18   https://github.com/eclipse-openj9/openj9/pull/19   \n",
       "\n",
       "                                          issue_title  \\\n",
       "10  HOWTO Request: Managing changes across depende...   \n",
       "12                  Compilation Output is too Verbose   \n",
       "16    WIP Add support for function pointers in Panama   \n",
       "17             Disable late attach to self by default   \n",
       "18  Translate TypeNotPresentException to NoClassDe...   \n",
       "\n",
       "                                           issue_body issue_state     creator  \\\n",
       "10  Like all projects, OpenJ9 builds on the should...        open     mgaudet   \n",
       "12  The output when compiling the OpenJ9 source co...      closed    rservant   \n",
       "16  When invoking a native function (with Panama) ...      closed      tajila   \n",
       "17  Prevent a JVM from late attaching to itself un...      closed  pdbain-ibm   \n",
       "18  While resolving bootstrap method handles, Type...      closed    babsingh   \n",
       "\n",
       "                                             comments    assignees  \\\n",
       "10  <comment><user>pshipton</user><body>Please cle...          NaN   \n",
       "12  <comment><user>rwy7</user><body>When openj9 sw...          NaN   \n",
       "16  <comment><user>tajila</user><body>Thanks for t...  DanHeidinga   \n",
       "17  <comment><user>DanHeidinga</user><body>I haven...          NaN   \n",
       "18  <comment><user>genie-openj9</user><body>Can on...          NaN   \n",
       "\n",
       "                     labels  \\\n",
       "10                 question   \n",
       "12  enhancement, comp:build   \n",
       "16  comp:vm, project:panama   \n",
       "17            jdk9, comp:vm   \n",
       "18             bug, comp:vm   \n",
       "\n",
       "                                                 text           label  \n",
       "10  HOWTO Request: Managing changes across depende...        question  \n",
       "12  Compilation Output is too Verbose\\nThe output ...     enhancement  \n",
       "16  WIP Add support for function pointers in Panam...  project:panama  \n",
       "17  Disable late attach to self by default\\nPreven...            jdk9  \n",
       "18  Translate TypeNotPresentException to NoClassDe...             bug  "
      ]
     },
     "execution_count": 8,
     "metadata": {},
     "output_type": "execute_result"
    }
   ],
   "source": [
    "df = df[df[\"label\"].notna()]\n",
    "print(len(df))\n",
    "df.head()"
   ]
  },
  {
   "cell_type": "code",
   "execution_count": 9,
   "metadata": {},
   "outputs": [],
   "source": [
    "labels = set()"
   ]
  },
  {
   "cell_type": "code",
   "execution_count": 10,
   "metadata": {},
   "outputs": [],
   "source": [
    "for val in df[\"label\"].values:\n",
    "    if val is None:\n",
    "        continue\n",
    "    \n",
    "    split = val.split(\",\")\n",
    "    \n",
    "    for s in split:\n",
    "        labels.add(s.strip())"
   ]
  },
  {
   "cell_type": "code",
   "execution_count": 11,
   "metadata": {},
   "outputs": [
    {
     "data": {
      "text/plain": [
       "{'Epic',\n",
       " 'JEP',\n",
       " 'arch:aarch32',\n",
       " 'arch:aarch64',\n",
       " 'arch:power',\n",
       " 'arch:riscv',\n",
       " 'arch:x86',\n",
       " 'arch:z',\n",
       " 'archived',\n",
       " 'blocker',\n",
       " 'bug',\n",
       " 'cmake',\n",
       " 'criu',\n",
       " 'dependencies',\n",
       " 'depends:EclipseCQ',\n",
       " 'depends:doc',\n",
       " 'depends:omr',\n",
       " 'depends:omr:breaking',\n",
       " 'depends:openjdk',\n",
       " 'depends:openjdk11',\n",
       " 'depends:openjdk12',\n",
       " 'depends:openjdk14',\n",
       " 'depends:openjdk8',\n",
       " 'depends:openjdk9',\n",
       " 'discussion',\n",
       " 'doc:externals',\n",
       " 'duplicate',\n",
       " 'enhancement',\n",
       " 'footprint',\n",
       " 'good first issue',\n",
       " 'help wanted',\n",
       " 'invalid',\n",
       " 'jdk-head',\n",
       " 'jdk10',\n",
       " 'jdk11',\n",
       " 'jdk12',\n",
       " 'jdk13',\n",
       " 'jdk14',\n",
       " 'jdk15',\n",
       " 'jdk16',\n",
       " 'jdk17',\n",
       " 'jdk18',\n",
       " 'jdk19',\n",
       " 'jdk20',\n",
       " 'jdk21',\n",
       " 'jdk22',\n",
       " 'jdk8',\n",
       " 'jdk9',\n",
       " 'os:aix',\n",
       " 'os:macos',\n",
       " 'os:windows',\n",
       " 'os:zos',\n",
       " 'os:ztpf',\n",
       " 'perf',\n",
       " 'perm excluded',\n",
       " 'prio:high',\n",
       " 'prio:low',\n",
       " 'prio:medium',\n",
       " 'project:MH',\n",
       " 'project:loom',\n",
       " 'project:panama',\n",
       " 'project:valhalla',\n",
       " 'question',\n",
       " 'segfault',\n",
       " 'snapshot',\n",
       " 'svtRaised',\n",
       " 'test excluded',\n",
       " 'test failure',\n",
       " 'triageRequired',\n",
       " 'userRaised',\n",
       " 'wontfix'}"
      ]
     },
     "execution_count": 11,
     "metadata": {},
     "output_type": "execute_result"
    }
   ],
   "source": [
    "labels"
   ]
  },
  {
   "cell_type": "code",
   "execution_count": 12,
   "metadata": {},
   "outputs": [
    {
     "data": {
      "text/plain": [
       "<Axes: xlabel='label'>"
      ]
     },
     "execution_count": 12,
     "metadata": {},
     "output_type": "execute_result"
    },
    {
     "data": {
      "image/png": "[encoded data removed]",
      "text/plain": [
       "<Figure size 640x480 with 1 Axes>"
      ]
     },
     "metadata": {},
     "output_type": "display_data"
    }
   ],
   "source": [
    "df[\"label\"].value_counts().plot(kind=\"bar\")"
   ]
  },
  {
   "cell_type": "code",
   "execution_count": 13,
   "metadata": {},
   "outputs": [
    {
     "data": {
      "text/plain": [
       "Index(['test failure', 'userRaised', 'arch:aarch64', 'bug', 'project:valhalla',\n",
       "       'criu', 'depends:omr', 'enhancement', 'perf', 'jdk11', 'question',\n",
       "       'arch:z', 'depends:doc', 'arch:power', 'project:panama', 'project:MH',\n",
       "       'project:loom', 'jdk9', 'blocker', 'prio:high', 'help wanted',\n",
       "       'doc:externals', 'jdk8', 'jdk10', 'jdk16', 'cmake', 'arch:x86', 'jdk15',\n",
       "       'good first issue', 'snapshot', 'jdk18', 'jdk12', 'jdk14',\n",
       "       'depends:omr:breaking'],\n",
       "      dtype='object', name='label')"
      ]
     },
     "execution_count": 13,
     "metadata": {},
     "output_type": "execute_result"
    }
   ],
   "source": [
    "label_values = df[\"label\"].value_counts()\n",
    "filtered_components = label_values.index[label_values >= 40]\n",
    "\n",
    "filtered_components"
   ]
  },
  {
   "cell_type": "code",
   "execution_count": 14,
   "metadata": {},
   "outputs": [],
   "source": [
    "df = df[df[\"label\"].isin(filtered_components)]"
   ]
  },
  {
   "cell_type": "code",
   "execution_count": 15,
   "metadata": {},
   "outputs": [
    {
     "data": {
      "text/plain": [
       "7774"
      ]
     },
     "execution_count": 15,
     "metadata": {},
     "output_type": "execute_result"
    }
   ],
   "source": [
    "len(df)"
   ]
  },
  {
   "cell_type": "code",
   "execution_count": 16,
   "metadata": {},
   "outputs": [
    {
     "name": "stdout",
     "output_type": "stream",
     "text": [
      "6219 777 778\n"
     ]
    },
    {
     "name": "stderr",
     "output_type": "stream",
     "text": [
      "/home/mdafifal.mamun/miniconda3/envs/triagerx/lib/python3.10/site-packages/numpy/core/fromnumeric.py:59: FutureWarning: 'DataFrame.swapaxes' is deprecated and will be removed in a future version. Please use 'DataFrame.transpose' instead.\n",
      "  return bound(*args, **kwds)\n"
     ]
    }
   ],
   "source": [
    "df_train, df_val, df_test = np.split(df.sample(frac=1, random_state=22),\n",
    "                                     [int(.8*len(df)), int(.9*len(df))])\n",
    "\n",
    "print(len(df_train),len(df_val), len(df_test))"
   ]
  },
  {
   "cell_type": "code",
   "execution_count": 17,
   "metadata": {},
   "outputs": [],
   "source": [
    "import torch.nn as nn\n",
    "from transformers import RobertaModel, RobertaTokenizer\n",
    "import torch.nn.functional as F\n",
    "\n",
    "\n",
    "class Classifier(nn.Module):\n",
    "    def __init__(self, model_name: str, output_size, embed_size, dropout = 0.1) -> None:\n",
    "        super().__init__()\n",
    "        self.base_model = RobertaModel.from_pretrained(model_name, output_hidden_states=True)\n",
    "        filter_sizes = [3, 4, 5, 6]\n",
    "        num_filters = 256\n",
    "        self._tokenizer = RobertaTokenizer.from_pretrained(model_name)\n",
    "        self.convs1 = nn.ModuleList([nn.Conv2d(4, num_filters, (K, embed_size)) for K in filter_sizes])\n",
    "        self.dropout = nn.Dropout(dropout)\n",
    "        self.fc1 = nn.Linear(len(filter_sizes)*num_filters, output_size)\n",
    "        self.relu = nn.ReLU()\n",
    "\n",
    "    def forward(self, input_ids, attention_mask):\n",
    "        x = self.base_model(input_ids, attention_mask = attention_mask)[2][-4:]\n",
    "        x = torch.stack(x, dim=1)\n",
    "        x = [F.relu(conv(x)).squeeze(3) for conv in self.convs1] \n",
    "        x = [F.max_pool1d(i, i.size(2)).squeeze(2) for i in x]  \n",
    "        x = torch.cat(x, 1)\n",
    "        x = self.dropout(x)\n",
    "        logit = self.fc1(x)  \n",
    "\n",
    "        return self.relu(logit)\n",
    "    \n",
    "    def tokenizer(self) -> RobertaTokenizer:\n",
    "        return self._tokenizer"
   ]
  },
  {
   "cell_type": "code",
   "execution_count": null,
   "metadata": {},
   "outputs": [],
   "source": []
  },
  {
   "cell_type": "code",
   "execution_count": 18,
   "metadata": {},
   "outputs": [],
   "source": [
    "label2idx = {label: idx for idx, label in enumerate(list(df[\"label\"].unique()))}"
   ]
  },
  {
   "cell_type": "code",
   "execution_count": 19,
   "metadata": {},
   "outputs": [
    {
     "data": {
      "text/plain": [
       "{'question': 0,\n",
       " 'enhancement': 1,\n",
       " 'project:panama': 2,\n",
       " 'jdk9': 3,\n",
       " 'bug': 4,\n",
       " 'perf': 5,\n",
       " 'prio:high': 6,\n",
       " 'jdk8': 7,\n",
       " 'depends:omr': 8,\n",
       " 'jdk10': 9,\n",
       " 'help wanted': 10,\n",
       " 'good first issue': 11,\n",
       " 'userRaised': 12,\n",
       " 'test failure': 13,\n",
       " 'doc:externals': 14,\n",
       " 'project:valhalla': 15,\n",
       " 'jdk11': 16,\n",
       " 'blocker': 17,\n",
       " 'jdk12': 18,\n",
       " 'depends:doc': 19,\n",
       " 'arch:z': 20,\n",
       " 'arch:power': 21,\n",
       " 'arch:aarch64': 22,\n",
       " 'arch:x86': 23,\n",
       " 'jdk14': 24,\n",
       " 'project:MH': 25,\n",
       " 'jdk15': 26,\n",
       " 'depends:omr:breaking': 27,\n",
       " 'cmake': 28,\n",
       " 'jdk16': 29,\n",
       " 'snapshot': 30,\n",
       " 'criu': 31,\n",
       " 'jdk18': 32,\n",
       " 'project:loom': 33}"
      ]
     },
     "execution_count": 19,
     "metadata": {},
     "output_type": "execute_result"
    }
   ],
   "source": [
    "label2idx"
   ]
  },
  {
   "cell_type": "code",
   "execution_count": 20,
   "metadata": {},
   "outputs": [],
   "source": [
    "class Dataset(torch.utils.data.Dataset):\n",
    "    def __init__(self, df, tokenizer, label_column):\n",
    "        self.tokenizer = tokenizer\n",
    "        self.labels = [label2idx[label] for label in df[label_column]]\n",
    "        self.texts = [self.tokenizer(text,\n",
    "                               padding='max_length', max_length = 500, truncation=True,\n",
    "                                return_tensors=\"pt\") for text in df['text']]\n",
    "\n",
    "    def classes(self):\n",
    "        return self.labels\n",
    "\n",
    "    def __len__(self):\n",
    "        return len(self.labels)\n",
    "\n",
    "    def get_batch_labels(self, idx):\n",
    "        # Fetch a batch of labels\n",
    "        return np.array(self.labels[idx])\n",
    "\n",
    "    def get_batch_texts(self, idx):\n",
    "        # Fetch a batch of inputs\n",
    "        return self.texts[idx]\n",
    "\n",
    "    def __getitem__(self, idx):\n",
    "\n",
    "        batch_texts = self.get_batch_texts(idx)\n",
    "        batch_y = self.get_batch_labels(idx)\n",
    "\n",
    "        return batch_texts, batch_y"
   ]
  },
  {
   "cell_type": "code",
   "execution_count": 21,
   "metadata": {},
   "outputs": [],
   "source": [
    "from torch.optim import Adam\n",
    "from tqdm import tqdm"
   ]
  },
  {
   "cell_type": "code",
   "execution_count": 22,
   "metadata": {},
   "outputs": [],
   "source": [
    "train_epoch_loss = []\n",
    "train_epoch_acc = []\n",
    "val_epoch_loss = []\n",
    "val_epoch_acc = []\n",
    "\n",
    "def train(model, tokenizer, train_data, val_data, learning_rate, epochs, out_file, label_column):\n",
    "    train, val = Dataset(train_data, tokenizer, label_column=label_column), Dataset(val_data, tokenizer, label_column=label_column)\n",
    "    batch_size = 20\n",
    "\n",
    "    train_dataloader = torch.utils.data.DataLoader(\n",
    "        train, batch_size=batch_size, shuffle=True\n",
    "    )\n",
    "    val_dataloader = torch.utils.data.DataLoader(val, batch_size=batch_size)\n",
    "\n",
    "    use_cuda = torch.cuda.is_available()\n",
    "    device = torch.device(\"cuda\" if use_cuda else \"cpu\")\n",
    "    best_loss = float(\"inf\")\n",
    "\n",
    "    criterion = nn.CrossEntropyLoss()\n",
    "    optimizer = Adam(model.parameters(), lr=learning_rate)\n",
    "\n",
    "    if use_cuda:\n",
    "        print(\"Using CUDA...\")\n",
    "        model = model.cuda()\n",
    "        criterion = criterion.cuda()\n",
    "\n",
    "    for epoch_num in range(epochs):\n",
    "        total_acc_train = 0\n",
    "        total_loss_train = 0\n",
    "\n",
    "        for train_input, train_label in tqdm(train_dataloader):\n",
    "            train_label = train_label.to(device)\n",
    "            mask = train_input[\"attention_mask\"].to(device)\n",
    "            input_id = train_input[\"input_ids\"].squeeze(1).to(device)\n",
    "\n",
    "            output = model(input_id, mask)\n",
    "\n",
    "            batch_loss = criterion(output, train_label.long())\n",
    "            total_loss_train += batch_loss.item()\n",
    "\n",
    "            acc = (output.argmax(dim=1) == train_label).sum().item()\n",
    "            total_acc_train += acc\n",
    "\n",
    "            model.zero_grad()\n",
    "            batch_loss.backward()\n",
    "            optimizer.step()\n",
    "\n",
    "        total_acc_val = 0\n",
    "        total_loss_val = 0\n",
    "\n",
    "        with torch.no_grad():\n",
    "\n",
    "            for val_input, val_label in val_dataloader:\n",
    "\n",
    "                val_label = val_label.to(device)\n",
    "                mask = val_input[\"attention_mask\"].to(device)\n",
    "                input_id = val_input[\"input_ids\"].squeeze(1).to(device)\n",
    "\n",
    "                output = model(input_id, mask)\n",
    "\n",
    "                batch_loss = criterion(output, val_label.long())\n",
    "                total_loss_val += batch_loss.item()\n",
    "\n",
    "                acc = (output.argmax(dim=1) == val_label).sum().item()\n",
    "                total_acc_val += acc\n",
    "\n",
    "        \n",
    "        train_loss = total_loss_train / len(train_data)\n",
    "        val_loss = total_loss_val / len(val_data)\n",
    "\n",
    "        train_acc = total_acc_train / len(train_data)\n",
    "        val_acc = total_acc_val / len(val_data)\n",
    "\n",
    "        train_epoch_loss.append(train_loss)\n",
    "        val_epoch_loss.append(val_loss)\n",
    "        train_epoch_acc.append(train_acc)\n",
    "        val_epoch_acc.append(val_acc)\n",
    "\n",
    "        log = f\"Epochs: {epoch_num + 1} | Train Loss: {total_loss_train / len(train_data): .3f} \\\n",
    "                | Train Accuracy: {total_acc_train / len(train_data): .3f} \\\n",
    "                | Val Loss: {total_loss_val / len(val_data): .3f} \\\n",
    "                | Val Accuracy: {total_acc_val / len(val_data): .3f}\"\n",
    "        print(log)\n",
    "\n",
    "        if val_loss < best_loss:\n",
    "            print(\"Found new best model. Saving weights...\")\n",
    "            torch.save(model.state_dict(), out_file)\n",
    "            best_loss = val_loss\n"
   ]
  },
  {
   "cell_type": "code",
   "execution_count": 23,
   "metadata": {},
   "outputs": [
    {
     "name": "stderr",
     "output_type": "stream",
     "text": [
      "Some weights of RobertaModel were not initialized from the model checkpoint at roberta-base and are newly initialized: ['roberta.pooler.dense.weight', 'roberta.pooler.dense.bias']\n",
      "You should probably TRAIN this model on a down-stream task to be able to use it for predictions and inference.\n"
     ]
    },
    {
     "name": "stdout",
     "output_type": "stream",
     "text": [
      "Using CUDA...\n"
     ]
    },
    {
     "name": "stderr",
     "output_type": "stream",
     "text": [
      "100%|██████████| 311/311 [02:22<00:00,  2.19it/s]\n"
     ]
    },
    {
     "name": "stdout",
     "output_type": "stream",
     "text": [
      "Epochs: 1 | Train Loss:  0.138                 | Train Accuracy:  0.301                 | Val Loss:  0.124                 | Val Accuracy:  0.353\n",
      "Found new best model. Saving weights...\n"
     ]
    },
    {
     "name": "stderr",
     "output_type": "stream",
     "text": [
      "100%|██████████| 311/311 [02:22<00:00,  2.19it/s]\n"
     ]
    },
    {
     "name": "stdout",
     "output_type": "stream",
     "text": [
      "Epochs: 2 | Train Loss:  0.116                 | Train Accuracy:  0.437                 | Val Loss:  0.110                 | Val Accuracy:  0.474\n",
      "Found new best model. Saving weights...\n"
     ]
    },
    {
     "name": "stderr",
     "output_type": "stream",
     "text": [
      "100%|██████████| 311/311 [02:22<00:00,  2.19it/s]\n"
     ]
    },
    {
     "name": "stdout",
     "output_type": "stream",
     "text": [
      "Epochs: 3 | Train Loss:  0.108                 | Train Accuracy:  0.475                 | Val Loss:  0.104                 | Val Accuracy:  0.492\n",
      "Found new best model. Saving weights...\n"
     ]
    },
    {
     "name": "stderr",
     "output_type": "stream",
     "text": [
      "100%|██████████| 311/311 [02:22<00:00,  2.19it/s]\n"
     ]
    },
    {
     "name": "stdout",
     "output_type": "stream",
     "text": [
      "Epochs: 4 | Train Loss:  0.102                 | Train Accuracy:  0.501                 | Val Loss:  0.100                 | Val Accuracy:  0.515\n",
      "Found new best model. Saving weights...\n"
     ]
    },
    {
     "name": "stderr",
     "output_type": "stream",
     "text": [
      "100%|██████████| 311/311 [02:22<00:00,  2.19it/s]\n"
     ]
    },
    {
     "name": "stdout",
     "output_type": "stream",
     "text": [
      "Epochs: 5 | Train Loss:  0.098                 | Train Accuracy:  0.525                 | Val Loss:  0.097                 | Val Accuracy:  0.532\n",
      "Found new best model. Saving weights...\n"
     ]
    },
    {
     "name": "stderr",
     "output_type": "stream",
     "text": [
      "100%|██████████| 311/311 [02:22<00:00,  2.19it/s]\n"
     ]
    },
    {
     "name": "stdout",
     "output_type": "stream",
     "text": [
      "Epochs: 6 | Train Loss:  0.094                 | Train Accuracy:  0.545                 | Val Loss:  0.095                 | Val Accuracy:  0.542\n",
      "Found new best model. Saving weights...\n"
     ]
    },
    {
     "name": "stderr",
     "output_type": "stream",
     "text": [
      "100%|██████████| 311/311 [02:22<00:00,  2.19it/s]\n"
     ]
    },
    {
     "name": "stdout",
     "output_type": "stream",
     "text": [
      "Epochs: 7 | Train Loss:  0.091                 | Train Accuracy:  0.567                 | Val Loss:  0.092                 | Val Accuracy:  0.561\n",
      "Found new best model. Saving weights...\n"
     ]
    },
    {
     "name": "stderr",
     "output_type": "stream",
     "text": [
      "100%|██████████| 311/311 [02:22<00:00,  2.19it/s]\n"
     ]
    },
    {
     "name": "stdout",
     "output_type": "stream",
     "text": [
      "Epochs: 8 | Train Loss:  0.087                 | Train Accuracy:  0.583                 | Val Loss:  0.090                 | Val Accuracy:  0.577\n",
      "Found new best model. Saving weights...\n"
     ]
    },
    {
     "name": "stderr",
     "output_type": "stream",
     "text": [
      "100%|██████████| 311/311 [02:22<00:00,  2.19it/s]\n"
     ]
    },
    {
     "name": "stdout",
     "output_type": "stream",
     "text": [
      "Epochs: 9 | Train Loss:  0.084                 | Train Accuracy:  0.600                 | Val Loss:  0.088                 | Val Accuracy:  0.586\n",
      "Found new best model. Saving weights...\n"
     ]
    },
    {
     "name": "stderr",
     "output_type": "stream",
     "text": [
      "100%|██████████| 311/311 [02:22<00:00,  2.19it/s]\n"
     ]
    },
    {
     "name": "stdout",
     "output_type": "stream",
     "text": [
      "Epochs: 10 | Train Loss:  0.081                 | Train Accuracy:  0.614                 | Val Loss:  0.087                 | Val Accuracy:  0.579\n",
      "Found new best model. Saving weights...\n"
     ]
    },
    {
     "name": "stderr",
     "output_type": "stream",
     "text": [
      "100%|██████████| 311/311 [02:22<00:00,  2.19it/s]\n"
     ]
    },
    {
     "name": "stdout",
     "output_type": "stream",
     "text": [
      "Epochs: 11 | Train Loss:  0.078                 | Train Accuracy:  0.632                 | Val Loss:  0.085                 | Val Accuracy:  0.591\n",
      "Found new best model. Saving weights...\n"
     ]
    },
    {
     "name": "stderr",
     "output_type": "stream",
     "text": [
      "100%|██████████| 311/311 [02:22<00:00,  2.19it/s]\n"
     ]
    },
    {
     "name": "stdout",
     "output_type": "stream",
     "text": [
      "Epochs: 12 | Train Loss:  0.076                 | Train Accuracy:  0.643                 | Val Loss:  0.084                 | Val Accuracy:  0.605\n",
      "Found new best model. Saving weights...\n"
     ]
    },
    {
     "name": "stderr",
     "output_type": "stream",
     "text": [
      "100%|██████████| 311/311 [02:22<00:00,  2.19it/s]\n"
     ]
    },
    {
     "name": "stdout",
     "output_type": "stream",
     "text": [
      "Epochs: 13 | Train Loss:  0.073                 | Train Accuracy:  0.655                 | Val Loss:  0.082                 | Val Accuracy:  0.607\n",
      "Found new best model. Saving weights...\n"
     ]
    },
    {
     "name": "stderr",
     "output_type": "stream",
     "text": [
      "100%|██████████| 311/311 [02:22<00:00,  2.19it/s]\n"
     ]
    },
    {
     "name": "stdout",
     "output_type": "stream",
     "text": [
      "Epochs: 14 | Train Loss:  0.071                 | Train Accuracy:  0.670                 | Val Loss:  0.082                 | Val Accuracy:  0.609\n",
      "Found new best model. Saving weights...\n"
     ]
    },
    {
     "name": "stderr",
     "output_type": "stream",
     "text": [
      "100%|██████████| 311/311 [02:22<00:00,  2.19it/s]\n"
     ]
    },
    {
     "name": "stdout",
     "output_type": "stream",
     "text": [
      "Epochs: 15 | Train Loss:  0.069                 | Train Accuracy:  0.678                 | Val Loss:  0.081                 | Val Accuracy:  0.614\n",
      "Found new best model. Saving weights...\n"
     ]
    },
    {
     "name": "stderr",
     "output_type": "stream",
     "text": [
      "100%|██████████| 311/311 [02:22<00:00,  2.19it/s]\n"
     ]
    },
    {
     "name": "stdout",
     "output_type": "stream",
     "text": [
      "Epochs: 16 | Train Loss:  0.067                 | Train Accuracy:  0.693                 | Val Loss:  0.080                 | Val Accuracy:  0.619\n",
      "Found new best model. Saving weights...\n"
     ]
    },
    {
     "name": "stderr",
     "output_type": "stream",
     "text": [
      "100%|██████████| 311/311 [02:22<00:00,  2.19it/s]\n"
     ]
    },
    {
     "name": "stdout",
     "output_type": "stream",
     "text": [
      "Epochs: 17 | Train Loss:  0.065                 | Train Accuracy:  0.705                 | Val Loss:  0.079                 | Val Accuracy:  0.620\n",
      "Found new best model. Saving weights...\n"
     ]
    },
    {
     "name": "stderr",
     "output_type": "stream",
     "text": [
      "100%|██████████| 311/311 [02:22<00:00,  2.19it/s]\n"
     ]
    },
    {
     "name": "stdout",
     "output_type": "stream",
     "text": [
      "Epochs: 18 | Train Loss:  0.062                 | Train Accuracy:  0.714                 | Val Loss:  0.078                 | Val Accuracy:  0.622\n",
      "Found new best model. Saving weights...\n"
     ]
    },
    {
     "name": "stderr",
     "output_type": "stream",
     "text": [
      "100%|██████████| 311/311 [02:22<00:00,  2.19it/s]\n"
     ]
    },
    {
     "name": "stdout",
     "output_type": "stream",
     "text": [
      "Epochs: 19 | Train Loss:  0.060                 | Train Accuracy:  0.724                 | Val Loss:  0.077                 | Val Accuracy:  0.629\n",
      "Found new best model. Saving weights...\n"
     ]
    },
    {
     "name": "stderr",
     "output_type": "stream",
     "text": [
      "100%|██████████| 311/311 [02:22<00:00,  2.19it/s]\n"
     ]
    },
    {
     "name": "stdout",
     "output_type": "stream",
     "text": [
      "Epochs: 20 | Train Loss:  0.058                 | Train Accuracy:  0.736                 | Val Loss:  0.076                 | Val Accuracy:  0.640\n",
      "Found new best model. Saving weights...\n"
     ]
    }
   ],
   "source": [
    "EPOCHS = 20\n",
    "num_classes = len(df[\"label\"].unique())\n",
    "model = Classifier(\"roberta-base\", num_classes, 768)\n",
    "tokenizer = model.tokenizer()\n",
    "LR = 1e-6\n",
    "\n",
    "train(model, tokenizer, df_train, df_val, LR, EPOCHS, \"label_predictor.pt\", \"label\")"
   ]
  },
  {
   "cell_type": "code",
   "execution_count": 52,
   "metadata": {},
   "outputs": [
    {
     "data": {
      "image/png": "[encoded data removed]",
      "text/plain": [
       "<Figure size 640x480 with 1 Axes>"
      ]
     },
     "metadata": {},
     "output_type": "display_data"
    }
   ],
   "source": [
    "plt.plot(train_epoch_acc, label=\"train_acc\")\n",
    "plt.plot(val_epoch_acc, label=\"val_acc\")\n",
    "plt.plot(train_epoch_loss, label=\"train_loss\")\n",
    "plt.plot(val_epoch_loss, label=\"val_loss\")\n",
    "plt.legend(loc=\"upper left\")\n",
    "plt.xlabel(\"Epoch\")\n",
    "plt.ylabel(\"Score\")\n",
    "plt.title(\"Label Prediction with RoBERTa\")\n",
    "\n",
    "plt.show()"
   ]
  },
  {
   "cell_type": "code",
   "execution_count": 55,
   "metadata": {},
   "outputs": [
    {
     "name": "stdout",
     "output_type": "stream",
     "text": [
      "test failure test failure\n",
      "bug jdk11\n",
      "criu criu\n",
      "depends:omr enhancement\n",
      "userRaised test failure\n"
     ]
    }
   ],
   "source": [
    "import random\n",
    "\n",
    "idx2label = { idx: label for idx, label in enumerate(label2idx)}\n",
    "\n",
    "for i in range(5):\n",
    "    rand = random.randint(0, len(df_test))\n",
    "    dx = df_test.iloc[rand]\n",
    "\n",
    "    data = model.tokenizer()(dx[\"text\"])\n",
    "    ids, mask = data[\"input_ids\"], data[\"attention_mask\"]\n",
    "\n",
    "    id = torch.tensor([ids]).cuda()\n",
    "    m = torch.tensor([mask]).cuda()\n",
    "\n",
    "    g = nn.Softmax(dim=1)\n",
    "\n",
    "    print(dx[\"label\"], idx2label[int(torch.argmax(g(model(id, m))).cpu().numpy())])"
   ]
  },
  {
   "cell_type": "code",
   "execution_count": null,
   "metadata": {},
   "outputs": [],
   "source": []
  }
 ],
 "metadata": {
  "kernelspec": {
   "display_name": "Python 3 (ipykernel)",
   "language": "python",
   "name": "python3"
  },
  "language_info": {
   "codemirror_mode": {
    "name": "ipython",
    "version": 3
   },
   "file_extension": ".py",
   "mimetype": "text/x-python",
   "name": "python",
   "nbconvert_exporter": "python",
   "pygments_lexer": "ipython3",
   "version": "3.10.0"
  }
 },
 "nbformat": 4,
 "nbformat_minor": 2
}
