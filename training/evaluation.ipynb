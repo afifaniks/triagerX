{
 "cells": [
  {
   "cell_type": "code",
   "execution_count": 1,
   "metadata": {},
   "outputs": [],
   "source": [
    "import os\n",
    "import json\n",
    "import pathlib"
   ]
  },
  {
   "cell_type": "code",
   "execution_count": 2,
   "metadata": {},
   "outputs": [],
   "source": [
    "report_dir = \"/home/mdafifal.mamun/notebooks/triagerX/training/reports\""
   ]
  },
  {
   "cell_type": "code",
   "execution_count": 3,
   "metadata": {},
   "outputs": [],
   "source": [
    "def compute_metrics(reports: list):\n",
    "    accuracies = []\n",
    "    precisions = []\n",
    "    recalls = []\n",
    "    f1s = []\n",
    "    \n",
    "    print(f\"Number of reports: {len(reports)}\")\n",
    "    \n",
    "    for report_path in sorted(reports):\n",
    "        with open(report_path.as_posix(), \"r\") as json_file:\n",
    "            json_data = json.load(json_file)\n",
    "            avg_type = \"macro avg\"\n",
    "\n",
    "            accuracies.append(json_data[\"test_accuracy\"])\n",
    "            precisions.append(json_data[avg_type][\"precision\"])\n",
    "            recalls.append(json_data[avg_type][\"recall\"])\n",
    "            f1s.append(json_data[avg_type][\"f1-score\"])\n",
    "\n",
    "    avg_accuracy = sum(accuracies) / len(accuracies)\n",
    "    avg_precision = sum(precisions) / len(precisions)\n",
    "    avg_recall = sum(recalls) / len(recalls)\n",
    "    avg_f1_score = sum(f1s) / len(f1s)\n",
    "\n",
    "    return {\n",
    "        \"average_test_accuracy\": avg_accuracy,\n",
    "        \"average_test_precision\": avg_precision,\n",
    "        \"average_test_recall\": avg_recall,\n",
    "        \"average_test_f1_score\": avg_f1_score\n",
    "    }"
   ]
  },
  {
   "cell_type": "markdown",
   "metadata": {},
   "source": [
    "## Evaluation when no prerecossing is used"
   ]
  },
  {
   "cell_type": "code",
   "execution_count": 4,
   "metadata": {},
   "outputs": [
    {
     "name": "stdout",
     "output_type": "stream",
     "text": [
      "Number of reports: 3\n"
     ]
    },
    {
     "data": {
      "text/plain": [
       "{'average_test_accuracy': 0.7680690399137001,\n",
       " 'average_test_precision': 0.6160283045593834,\n",
       " 'average_test_recall': 0.5656817336052782,\n",
       " 'average_test_f1_score': 0.581260711955874}"
      ]
     },
     "execution_count": 4,
     "metadata": {},
     "output_type": "execute_result"
    }
   ],
   "source": [
    "compute_metrics(list(pathlib.Path(report_dir).glob(\"classification_report_comp_raw*\")))"
   ]
  },
  {
   "cell_type": "markdown",
   "metadata": {},
   "source": [
    "## Evaluation when using custom special tokens like \\[TIMESTAMP\\], \\[HEX\\]"
   ]
  },
  {
   "cell_type": "code",
   "execution_count": 5,
   "metadata": {},
   "outputs": [
    {
     "name": "stdout",
     "output_type": "stream",
     "text": [
      "Number of reports: 3\n"
     ]
    },
    {
     "data": {
      "text/plain": [
       "{'average_test_accuracy': 0.7885652642934197,\n",
       " 'average_test_precision': 0.6901914087097714,\n",
       " 'average_test_recall': 0.5532214383816733,\n",
       " 'average_test_f1_score': 0.5857131989033775}"
      ]
     },
     "execution_count": 5,
     "metadata": {},
     "output_type": "execute_result"
    }
   ],
   "source": [
    "compute_metrics(list(pathlib.Path(report_dir).glob(\"classification_report_comp_sp*\")))"
   ]
  },
  {
   "cell_type": "markdown",
   "metadata": {},
   "source": [
    "## Evaluation when using LlaMA generated summaries + special tokens"
   ]
  },
  {
   "cell_type": "markdown",
   "metadata": {},
   "source": [
    "How many open source popular projects are similar to Openj9?"
   ]
  },
  {
   "cell_type": "markdown",
   "metadata": {},
   "source": [
    "Is the LLM generated summary approach is better than treating each content type separately?"
   ]
  },
  {
   "cell_type": "code",
   "execution_count": 6,
   "metadata": {},
   "outputs": [
    {
     "name": "stdout",
     "output_type": "stream",
     "text": [
      "Number of reports: 3\n"
     ]
    },
    {
     "data": {
      "text/plain": [
       "{'average_test_accuracy': 0.7918015102481122,\n",
       " 'average_test_precision': 0.7318254606073173,\n",
       " 'average_test_recall': 0.5683651166548337,\n",
       " 'average_test_f1_score': 0.6062964344859102}"
      ]
     },
     "execution_count": 6,
     "metadata": {},
     "output_type": "execute_result"
    }
   ],
   "source": [
    "compute_metrics(list(pathlib.Path(report_dir).glob(\"classification_report_comp_summary*\")))"
   ]
  },
  {
   "cell_type": "code",
   "execution_count": 7,
   "metadata": {},
   "outputs": [],
   "source": [
    "import yaml"
   ]
  },
  {
   "cell_type": "code",
   "execution_count": 10,
   "metadata": {},
   "outputs": [],
   "source": [
    "with open(\"/home/mdafifal.mamun/notebooks/triagerX/training/training_config/component/component_summary.yaml\", 'r') as stream:\n",
    "    config = yaml.safe_load(stream)"
   ]
  },
  {
   "cell_type": "code",
   "execution_count": 14,
   "metadata": {},
   "outputs": [
    {
     "data": {
      "text/plain": [
       "'/work/disa_lab/projects/triagerx/models/#{run_name}'"
      ]
     },
     "execution_count": 14,
     "metadata": {},
     "output_type": "execute_result"
    }
   ],
   "source": [
    "config[\"weights_save_location\"]"
   ]
  },
  {
   "cell_type": "code",
   "execution_count": null,
   "metadata": {},
   "outputs": [],
   "source": []
  }
 ],
 "metadata": {
  "kernelspec": {
   "display_name": "Python 3 (ipykernel)",
   "language": "python",
   "name": "python3"
  },
  "language_info": {
   "codemirror_mode": {
    "name": "ipython",
    "version": 3
   },
   "file_extension": ".py",
   "mimetype": "text/x-python",
   "name": "python",
   "nbconvert_exporter": "python",
   "pygments_lexer": "ipython3",
   "version": "3.10.13"
  }
 },
 "nbformat": 4,
 "nbformat_minor": 2
}
