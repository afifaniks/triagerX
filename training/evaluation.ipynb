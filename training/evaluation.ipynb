{
 "cells": [
  {
   "cell_type": "code",
   "execution_count": 7,
   "metadata": {},
   "outputs": [],
   "source": [
    "import json\n",
    "import pathlib"
   ]
  },
  {
   "cell_type": "code",
   "execution_count": 8,
   "metadata": {},
   "outputs": [],
   "source": [
    "report_dir = \"/home/mdafifal.mamun/notebooks/triagerX/training/reports\""
   ]
  },
  {
   "cell_type": "code",
   "execution_count": 9,
   "metadata": {},
   "outputs": [],
   "source": [
    "def compute_metrics(reports: list):\n",
    "    accuracies = []\n",
    "    precisions = []\n",
    "    recalls = []\n",
    "    f1s = []\n",
    "    \n",
    "    print(f\"Number of reports: {len(reports)}\")\n",
    "    \n",
    "    for report_path in sorted(reports):\n",
    "        with open(report_path.as_posix(), \"r\") as json_file:\n",
    "            json_data = json.load(json_file)\n",
    "            avg_type = \"macro avg\"\n",
    "\n",
    "            accuracies.append(json_data[\"test_accuracy\"])\n",
    "            precisions.append(json_data[avg_type][\"precision\"])\n",
    "            recalls.append(json_data[avg_type][\"recall\"])\n",
    "            f1s.append(json_data[avg_type][\"f1-score\"])\n",
    "\n",
    "    avg_accuracy = sum(accuracies) / len(accuracies)\n",
    "    avg_precision = sum(precisions) / len(precisions)\n",
    "    avg_recall = sum(recalls) / len(recalls)\n",
    "    avg_f1_score = sum(f1s) / len(f1s)\n",
    "\n",
    "    return {\n",
    "        \"average_test_accuracy\": avg_accuracy,\n",
    "        \"average_test_precision\": avg_precision,\n",
    "        \"average_test_recall\": avg_recall,\n",
    "        \"average_test_f1_score\": avg_f1_score\n",
    "    }"
   ]
  },
  {
   "cell_type": "markdown",
   "metadata": {},
   "source": [
    "## Evaluation when no prerecossing is used"
   ]
  },
  {
   "cell_type": "code",
   "execution_count": 10,
   "metadata": {},
   "outputs": [
    {
     "name": "stdout",
     "output_type": "stream",
     "text": [
      "Number of reports: 5\n"
     ]
    },
    {
     "data": {
      "text/plain": [
       "{'average_test_accuracy': 0.768284789644013,\n",
       " 'average_test_precision': 0.6449829831826082,\n",
       " 'average_test_recall': 0.5849716128827772,\n",
       " 'average_test_f1_score': 0.6016229300984196}"
      ]
     },
     "execution_count": 10,
     "metadata": {},
     "output_type": "execute_result"
    }
   ],
   "source": [
    "compute_metrics(list(pathlib.Path(report_dir).glob(\"classification_report_comp_raw*\")))"
   ]
  },
  {
   "cell_type": "markdown",
   "metadata": {},
   "source": [
    "## Evaluation when using custom special tokens like \\[TIMESTAMP\\], \\[HEX\\]"
   ]
  },
  {
   "cell_type": "code",
   "execution_count": 11,
   "metadata": {},
   "outputs": [
    {
     "name": "stdout",
     "output_type": "stream",
     "text": [
      "Number of reports: 5\n"
     ]
    },
    {
     "data": {
      "text/plain": [
       "{'average_test_accuracy': 0.7883495145631068,\n",
       " 'average_test_precision': 0.6771929504409231,\n",
       " 'average_test_recall': 0.5405658635002272,\n",
       " 'average_test_f1_score': 0.5747433645623304}"
      ]
     },
     "execution_count": 11,
     "metadata": {},
     "output_type": "execute_result"
    }
   ],
   "source": [
    "compute_metrics(list(pathlib.Path(report_dir).glob(\"classification_report_comp_sp*\")))"
   ]
  },
  {
   "cell_type": "markdown",
   "metadata": {},
   "source": [
    "## Evaluation when using LlaMA generated summaries + special tokens"
   ]
  },
  {
   "cell_type": "code",
   "execution_count": 12,
   "metadata": {},
   "outputs": [
    {
     "name": "stdout",
     "output_type": "stream",
     "text": [
      "Number of reports: 5\n"
     ]
    },
    {
     "data": {
      "text/plain": [
       "{'average_test_accuracy': 0.7993527508090615,\n",
       " 'average_test_precision': 0.7342569601563167,\n",
       " 'average_test_recall': 0.5760193795129018,\n",
       " 'average_test_f1_score': 0.6116298829475797}"
      ]
     },
     "execution_count": 12,
     "metadata": {},
     "output_type": "execute_result"
    }
   ],
   "source": [
    "compute_metrics(list(pathlib.Path(report_dir).glob(\"classification_report_comp_summary*\")))"
   ]
  }
 ],
 "metadata": {
  "kernelspec": {
   "display_name": "Python 3 (ipykernel)",
   "language": "python",
   "name": "python3"
  },
  "language_info": {
   "codemirror_mode": {
    "name": "ipython",
    "version": 3
   },
   "file_extension": ".py",
   "mimetype": "text/x-python",
   "name": "python",
   "nbconvert_exporter": "python",
   "pygments_lexer": "ipython3",
   "version": "3.10.13"
  }
 },
 "nbformat": 4,
 "nbformat_minor": 2
}
